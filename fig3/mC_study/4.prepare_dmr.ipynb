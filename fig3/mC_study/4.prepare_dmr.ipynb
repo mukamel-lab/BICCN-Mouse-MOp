{
 "cells": [
  {
   "cell_type": "markdown",
   "metadata": {
    "toc": true
   },
   "source": [
    "<h1>Table of Contents<span class=\"tocSkip\"></span></h1>\n",
    "<div class=\"toc\"><ul class=\"toc-item\"></ul></div>"
   ]
  },
  {
   "cell_type": "code",
   "execution_count": 5,
   "metadata": {
    "ExecuteTime": {
     "end_time": "2019-07-14T00:28:11.350021Z",
     "start_time": "2019-07-14T00:28:11.347989Z"
    }
   },
   "outputs": [],
   "source": [
    "import pandas as pd\n",
    "import pathlib"
   ]
  },
  {
   "cell_type": "code",
   "execution_count": 6,
   "metadata": {
    "ExecuteTime": {
     "end_time": "2019-07-14T00:28:11.947286Z",
     "start_time": "2019-07-14T00:28:11.944946Z"
    }
   },
   "outputs": [],
   "source": [
    "study_name = 'MOp_DMR'\n",
    "result_dir = pathlib.Path(f'./{study_name}')\n",
    "result_dir.mkdir(exist_ok=True)"
   ]
  },
  {
   "cell_type": "code",
   "execution_count": 7,
   "metadata": {
    "ExecuteTime": {
     "end_time": "2019-07-14T00:28:12.965409Z",
     "start_time": "2019-07-14T00:28:12.273153Z"
    }
   },
   "outputs": [],
   "source": [
    "clustering_results = pd.read_msgpack('./MOp_mC_clustering/MOp.methylome_only.analysis_results.msg')"
   ]
  },
  {
   "cell_type": "code",
   "execution_count": 8,
   "metadata": {
    "ExecuteTime": {
     "end_time": "2019-07-14T00:28:13.192937Z",
     "start_time": "2019-07-14T00:28:12.967281Z"
    }
   },
   "outputs": [
    {
     "name": "stdout",
     "output_type": "stream",
     "text": [
      "Astro_Slc1a2 108\n",
      "CGE_Lamp5 292\n",
      "CGE_Vip 336\n",
      "L2-3_IT_Cux2_1 405\n",
      "L2-3_IT_Cux2_2 592\n",
      "L2-3_IT_Cux2_3 936\n",
      "L4_IT_Rorb_1 850\n",
      "L4_IT_Rorb_2 437\n",
      "L4_IT_Rorb_3 373\n",
      "L5_IT_Deptor_1 641\n",
      "L5_IT_Deptor_2 165\n",
      "L5_PT_Bcl6 354\n",
      "L6_CT_Foxp2_1 503\n",
      "L6_CT_Foxp2_2 471\n",
      "L6_CT_Foxp2_3 340\n",
      "L6_CT_Foxp2_4 328\n",
      "L6_IT_Chrm2 485\n",
      "L6_IT_Sulf1 430\n",
      "L6_NP_Tshz2 274\n",
      "L6b_Svil 141\n",
      "MGE_Calb1 471\n",
      "MGE_Pvalb 462\n",
      "Micro+Endo_Csf1r 143\n",
      "OPC+ODC_Mog 175\n",
      "Unknown_1 79\n",
      "Unknown_2 49\n",
      "Unknown_3 32\n"
     ]
    }
   ],
   "source": [
    "for cluster, sub_df in clustering_results.groupby('MajorCluster'):\n",
    "    print(cluster, sub_df.shape[0])\n",
    "    with open(result_dir / f'{cluster}.cells.txt', 'w') as f:\n",
    "        for path in sub_df['AllcPath']:\n",
    "            f.write(path + '\\n')"
   ]
  },
  {
   "cell_type": "code",
   "execution_count": null,
   "metadata": {},
   "outputs": [],
   "source": []
  },
  {
   "cell_type": "code",
   "execution_count": null,
   "metadata": {},
   "outputs": [],
   "source": []
  },
  {
   "cell_type": "code",
   "execution_count": null,
   "metadata": {},
   "outputs": [],
   "source": []
  },
  {
   "cell_type": "code",
   "execution_count": null,
   "metadata": {},
   "outputs": [],
   "source": []
  },
  {
   "cell_type": "code",
   "execution_count": null,
   "metadata": {},
   "outputs": [],
   "source": []
  },
  {
   "cell_type": "code",
   "execution_count": null,
   "metadata": {},
   "outputs": [],
   "source": []
  },
  {
   "cell_type": "code",
   "execution_count": null,
   "metadata": {},
   "outputs": [],
   "source": []
  },
  {
   "cell_type": "code",
   "execution_count": null,
   "metadata": {},
   "outputs": [],
   "source": []
  },
  {
   "cell_type": "code",
   "execution_count": null,
   "metadata": {},
   "outputs": [],
   "source": []
  }
 ],
 "metadata": {
  "hide_input": false,
  "kernelspec": {
   "display_name": "Python 3",
   "language": "python",
   "name": "python3"
  },
  "language_info": {
   "codemirror_mode": {
    "name": "ipython",
    "version": 3
   },
   "file_extension": ".py",
   "mimetype": "text/x-python",
   "name": "python",
   "nbconvert_exporter": "python",
   "pygments_lexer": "ipython3",
   "version": "3.7.3"
  },
  "toc": {
   "base_numbering": 1,
   "nav_menu": {},
   "number_sections": true,
   "sideBar": true,
   "skip_h1_title": true,
   "title_cell": "Table of Contents",
   "title_sidebar": "Contents",
   "toc_cell": true,
   "toc_position": {},
   "toc_section_display": true,
   "toc_window_display": true
  }
 },
 "nbformat": 4,
 "nbformat_minor": 2
}
