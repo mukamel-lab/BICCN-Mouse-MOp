{
 "cells": [
  {
   "cell_type": "code",
   "execution_count": 30,
   "metadata": {},
   "outputs": [
    {
     "data": {
      "text/plain": [
       "<module 'CEMBA_preproc_utils' from '/cndd/fangming/CEMBA/snmcseq_dev/CEMBA_preproc_utils.py'>"
      ]
     },
     "execution_count": 30,
     "metadata": {},
     "output_type": "execute_result"
    }
   ],
   "source": [
    "import importlib\n",
    "import sys\n",
    "sys.path.insert(0, '/cndd/fangming/CEMBA/snmcseq_dev')\n",
    "\n",
    "from __init__ import *\n",
    "from __init__jupyterlab import *\n",
    "from scipy import sparse\n",
    "import collections\n",
    "# import itertools\n",
    "# import re\n",
    "# import fbpca\n",
    "# import pickle\n",
    "# import scipy.cluster.hierarchy as sch\n",
    "# from sklearn.metrics import euclidean_distances\n",
    "\n",
    "import snmcseq_utils\n",
    "importlib.reload(snmcseq_utils)\n",
    "# import CEMBA_run_tsne\n",
    "# import CEMBA_clst_utils\n",
    "# import SCF_utils\n",
    "# importlib.reload(SCF_utils)\n",
    "import CEMBA_preproc_utils\n",
    "importlib.reload(CEMBA_preproc_utils)\n",
    "\n"
   ]
  },
  {
   "cell_type": "code",
   "execution_count": 6,
   "metadata": {},
   "outputs": [],
   "source": [
    "name = 'mop_8mods_datav8_190723'\n",
    "outdir = '/cndd/fangming/CEMBA/data/MOp_all/results'\n",
    "output_pcX_all = outdir + '/pcX_all_{}.npy'.format(name)\n",
    "output_cells_all = outdir + '/cells_all_{}.npy'.format(name)\n",
    "output_imputed_data_format = outdir + '/imputed_data_{}_{{}}.npy'.format(name)\n",
    "output_clst_and_umap = outdir + '/intg_summary_{}.tsv'.format(name)\n",
    "output_figures = outdir + '/figures/{}_{{}}.{{}}'.format(name)\n",
    "output_cluster_centroids = outdir + '/centroids_{}.pkl'.format(name)\n"
   ]
  },
  {
   "cell_type": "code",
   "execution_count": 7,
   "metadata": {},
   "outputs": [],
   "source": [
    "DATA_DIR = '/cndd/fangming/CEMBA/data/MOp_all/organized_neurons_v8'\n",
    "\n",
    "# fixed dataset configs\n",
    "sys.path.insert(0, DATA_DIR)\n",
    "import __init__datasets\n",
    "importlib.reload(__init__datasets)\n",
    "from __init__datasets import *\n",
    "\n",
    "meta_f = '{0}/{1}_metadata.tsv'\n",
    "raw_f = '{0}/{1}_{2}raw.{3}'\n",
    "hvftr_f = '{0}/{1}_hvfeatures.{2}'"
   ]
  },
  {
   "cell_type": "code",
   "execution_count": 8,
   "metadata": {},
   "outputs": [],
   "source": [
    "mods_selected = [\n",
    "    'snmcseq_gene',\n",
    "    'snatac_gene',\n",
    "    'smarter_cells',\n",
    "    'smarter_nuclei',\n",
    "    '10x_cells', \n",
    "    '10x_cells_v3',\n",
    "    '10x_nuclei_v3',\n",
    "    '10x_nuclei_v3_Macosko',\n",
    "    ]"
   ]
  },
  {
   "cell_type": "code",
   "execution_count": 9,
   "metadata": {},
   "outputs": [
    {
     "name": "stderr",
     "output_type": "stream",
     "text": [
      "07/24/2019 11:51:22 PM *\n"
     ]
    }
   ],
   "source": [
    "log = snmcseq_utils.create_logger()\n",
    "logging.info('*')"
   ]
  },
  {
   "cell_type": "code",
   "execution_count": 10,
   "metadata": {},
   "outputs": [],
   "source": [
    "DST_ROOT_DIR = '/cndd/fangming/CEMBA/data/MOp_all/organized_neurons_subtypes_v8'\n"
   ]
  },
  {
   "cell_type": "code",
   "execution_count": 11,
   "metadata": {},
   "outputs": [
    {
     "name": "stdout",
     "output_type": "stream",
     "text": [
      "snmcseq_gene (4936, 38)\n",
      "smarter_cells (6244, 11)\n"
     ]
    }
   ],
   "source": [
    "metas = collections.OrderedDict()\n",
    "for mod in mods_selected:\n",
    "    metas[mod] = pd.read_csv(meta_f.format(DATA_DIR, mod), sep=\"\\t\").reset_index().set_index(settings[mod].cell_col)\n",
    "    print(mod, metas[mod].shape)"
   ]
  },
  {
   "cell_type": "code",
   "execution_count": 12,
   "metadata": {},
   "outputs": [
    {
     "name": "stdout",
     "output_type": "stream",
     "text": [
      "snmcseq_gene\n",
      "smarter_cells\n"
     ]
    }
   ],
   "source": [
    "gxc_raws = collections.OrderedDict()\n",
    "for mod in mods_selected:\n",
    "    logging.info(\"Read data {}...\".format(mod))\n",
    "    if settings[mod].mod_category == 'mc':\n",
    "        f_gene = raw_f.format(DATA_DIR, mod, '', 'gene')\n",
    "        f_cell = raw_f.format(DATA_DIR, mod, '', 'cell')\n",
    "        f_data_c = raw_f.format(DATA_DIR, mod, 'CH_', 'npz')\n",
    "        f_data_mc = raw_f.format(DATA_DIR, mod, 'mCH_', 'npz')\n",
    "        gxc_raws[mod] = snmcseq_utils.load_gc_matrix_methylation(f_gene, f_cell, f_data_mc, f_data_c)\n",
    "        \n",
    "    else:\n",
    "        f_gene = raw_f.format(DATA_DIR, mod, '', 'gene')\n",
    "        f_cell = raw_f.format(DATA_DIR, mod, '', 'cell')\n",
    "        f_data = raw_f.format(DATA_DIR, mod, '', 'npz')\n",
    "        gxc_raws[mod] = snmcseq_utils.load_gc_matrix(f_gene, f_cell, f_data)\n",
    "        "
   ]
  },
  {
   "cell_type": "code",
   "execution_count": 13,
   "metadata": {},
   "outputs": [
    {
     "name": "stdout",
     "output_type": "stream",
     "text": [
      "(422670, 2)\n"
     ]
    },
    {
     "data": {
      "text/html": [
       "<div>\n",
       "<style scoped>\n",
       "    .dataframe tbody tr th:only-of-type {\n",
       "        vertical-align: middle;\n",
       "    }\n",
       "\n",
       "    .dataframe tbody tr th {\n",
       "        vertical-align: top;\n",
       "    }\n",
       "\n",
       "    .dataframe thead th {\n",
       "        text-align: right;\n",
       "    }\n",
       "</style>\n",
       "<table border=\"1\" class=\"dataframe\">\n",
       "  <thead>\n",
       "    <tr style=\"text-align: right;\">\n",
       "      <th></th>\n",
       "      <th>cluster_joint_r0.1</th>\n",
       "      <th>modality</th>\n",
       "    </tr>\n",
       "    <tr>\n",
       "      <th>sample</th>\n",
       "      <th></th>\n",
       "      <th></th>\n",
       "    </tr>\n",
       "  </thead>\n",
       "  <tbody>\n",
       "    <tr>\n",
       "      <th>3C_M_0</th>\n",
       "      <td>4</td>\n",
       "      <td>snmcseq_gene</td>\n",
       "    </tr>\n",
       "    <tr>\n",
       "      <th>3C_M_1</th>\n",
       "      <td>3</td>\n",
       "      <td>snmcseq_gene</td>\n",
       "    </tr>\n",
       "    <tr>\n",
       "      <th>3C_M_2</th>\n",
       "      <td>1</td>\n",
       "      <td>snmcseq_gene</td>\n",
       "    </tr>\n",
       "    <tr>\n",
       "      <th>3C_M_3</th>\n",
       "      <td>4</td>\n",
       "      <td>snmcseq_gene</td>\n",
       "    </tr>\n",
       "    <tr>\n",
       "      <th>3C_M_4</th>\n",
       "      <td>1</td>\n",
       "      <td>snmcseq_gene</td>\n",
       "    </tr>\n",
       "  </tbody>\n",
       "</table>\n",
       "</div>"
      ],
      "text/plain": [
       "        cluster_joint_r0.1      modality\n",
       "sample                                  \n",
       "3C_M_0                   4  snmcseq_gene\n",
       "3C_M_1                   3  snmcseq_gene\n",
       "3C_M_2                   1  snmcseq_gene\n",
       "3C_M_3                   4  snmcseq_gene\n",
       "3C_M_4                   1  snmcseq_gene"
      ]
     },
     "execution_count": 13,
     "metadata": {},
     "output_type": "execute_result"
    }
   ],
   "source": [
    "f = output_clst_and_umap\n",
    "first_round_cluster_col = 'cluster_joint_r0.1'\n",
    "df_info = pd.read_csv(f, sep=\"\\t\", index_col='sample')[[first_round_cluster_col, 'modality']] \n",
    "print(df_info.shape)\n",
    "df_info.head()\n"
   ]
  },
  {
   "cell_type": "code",
   "execution_count": 20,
   "metadata": {},
   "outputs": [
    {
     "name": "stdout",
     "output_type": "stream",
     "text": [
      "(53278, 6)\n",
      "gene_name\n",
      "0610005C13Rik     7533\n",
      "0610006L08Rik    34995\n",
      "0610009B22Rik     3488\n",
      "0610009E02Rik    13694\n",
      "0610009L18Rik     2512\n",
      "dtype: int64\n"
     ]
    }
   ],
   "source": [
    "normalization_options = {\n",
    "    'smarter_nuclei': 'TPM',\n",
    "    'smarter_cells': 'TPM',\n",
    "    'snatac_gene': 'TPM',\n",
    "    '10x_nuclei_v3_Macosko': 'CPM',\n",
    "    '10x_cells_v3': 'CPM',\n",
    "    '10x_nuclei_v3': 'CPM',\n",
    "    'snmcseq_gene': 'MC',\n",
    "    '10x_cells': 'CPM',\n",
    "}\n",
    "\n",
    "gene_annot_file = PATH_GENEBODY_ANNOTATION\n",
    "gene_annot = pd.read_csv(gene_annot_file, sep=\"\\t\")\n",
    "gene_annot_v2 = gene_annot.groupby('gene_name').first()\n",
    "print(gene_annot_v2.shape)\n",
    "gene_lengths_base = (gene_annot_v2['end'] - gene_annot_v2['start'])\n",
    "print(gene_lengths_base.head())"
   ]
  },
  {
   "cell_type": "code",
   "execution_count": 31,
   "metadata": {},
   "outputs": [
    {
     "name": "stdout",
     "output_type": "stream",
     "text": [
      "smarter_cells 1\n",
      "smarter_cells Preproc and get highly variable genes 2.108285427093506\n",
      "Imputing gene lengths...\n",
      "Removing low coverage genes...\n",
      "Getting CPM..\n",
      "Getting highly variable genes and logCPM...\n",
      "Getting logTPM...\n",
      "Trim logTPM matrix...\n",
      "Number of genes: 4077\n",
      "smarter_cells Saving to files 4.802290916442871\n",
      "smarter_cells Total time used: 6.714233875274658\n",
      "smarter_cells 2\n",
      "smarter_cells Preproc and get highly variable genes 2.235079765319824\n",
      "Imputing gene lengths...\n",
      "Removing low coverage genes...\n",
      "Getting CPM..\n",
      "Getting highly variable genes and logCPM...\n",
      "Getting logTPM...\n",
      "Trim logTPM matrix...\n",
      "Number of genes: 4005\n",
      "smarter_cells Saving to files 4.588764190673828\n",
      "smarter_cells Total time used: 6.228655815124512\n",
      "smarter_cells 3\n",
      "smarter_cells Preproc and get highly variable genes 2.018484115600586\n",
      "Imputing gene lengths...\n",
      "Removing low coverage genes...\n",
      "Getting CPM..\n",
      "Getting highly variable genes and logCPM...\n",
      "Getting logTPM...\n",
      "Trim logTPM matrix...\n",
      "Number of genes: 4185\n",
      "smarter_cells Saving to files 3.7897567749023438\n",
      "smarter_cells Total time used: 5.110656976699829\n",
      "smarter_cells 4\n",
      "smarter_cells Preproc and get highly variable genes 2.0057790279388428\n",
      "Imputing gene lengths...\n",
      "Removing low coverage genes...\n",
      "Getting CPM..\n",
      "Getting highly variable genes and logCPM...\n",
      "Getting logTPM...\n",
      "Trim logTPM matrix...\n",
      "Number of genes: 4206\n",
      "smarter_cells Saving to files 3.095200538635254\n",
      "smarter_cells Total time used: 3.9643609523773193\n",
      "smarter_cells 5\n",
      "smarter_cells Preproc and get highly variable genes 2.0391581058502197\n",
      "Imputing gene lengths...\n",
      "Removing low coverage genes...\n",
      "Getting CPM..\n",
      "Getting highly variable genes and logCPM...\n",
      "Getting logTPM...\n",
      "Trim logTPM matrix...\n",
      "Number of genes: 3868\n",
      "smarter_cells Saving to files 3.8242969512939453\n",
      "smarter_cells Total time used: 5.175314426422119\n",
      "smarter_cells 6\n",
      "smarter_cells Preproc and get highly variable genes 2.1443207263946533\n",
      "Imputing gene lengths...\n",
      "Removing low coverage genes...\n",
      "Getting CPM..\n",
      "Getting highly variable genes and logCPM...\n",
      "Getting logTPM...\n",
      "Trim logTPM matrix...\n",
      "Number of genes: 3888\n",
      "smarter_cells Saving to files 3.8121416568756104\n",
      "smarter_cells Total time used: 5.132517337799072\n",
      "smarter_cells 7\n",
      "smarter_cells Preproc and get highly variable genes 2.1635403633117676\n",
      "Imputing gene lengths...\n",
      "Removing low coverage genes...\n",
      "Getting CPM..\n",
      "Getting highly variable genes and logCPM...\n",
      "Getting logTPM...\n",
      "Trim logTPM matrix...\n",
      "Number of genes: 3862\n",
      "smarter_cells Saving to files 2.5439860820770264\n",
      "smarter_cells Total time used: 2.8667633533477783\n",
      "smarter_cells 8\n",
      "smarter_cells Preproc and get highly variable genes 1.9417834281921387\n",
      "Imputing gene lengths...\n",
      "Removing low coverage genes...\n",
      "Getting CPM..\n",
      "Getting highly variable genes and logCPM...\n",
      "Getting logTPM...\n",
      "Trim logTPM matrix...\n",
      "Number of genes: 3996\n",
      "smarter_cells Saving to files 2.649583339691162\n",
      "smarter_cells Total time used: 3.275362968444824\n",
      "smarter_cells 9\n",
      "smarter_cells Preproc and get highly variable genes 1.9728808403015137\n",
      "Imputing gene lengths...\n",
      "Removing low coverage genes...\n",
      "Getting CPM..\n",
      "Getting highly variable genes and logCPM...\n",
      "Getting logTPM...\n",
      "Trim logTPM matrix...\n",
      "Number of genes: 3687\n",
      "smarter_cells Saving to files 2.074312448501587\n",
      "smarter_cells Total time used: 2.1063499450683594\n",
      "snmcseq_gene 1\n"
     ]
    },
    {
     "name": "stderr",
     "output_type": "stream",
     "text": [
      "07/25/2019 12:02:28 AM (15778, 913)\n"
     ]
    },
    {
     "name": "stdout",
     "output_type": "stream",
     "text": [
      "snmcseq_gene Saving to files 19.67636275291443\n",
      "snmcseq_gene Total time used: 25.865424156188965\n",
      "snmcseq_gene 2\n"
     ]
    },
    {
     "name": "stderr",
     "output_type": "stream",
     "text": [
      "07/25/2019 12:02:56 AM (16128, 1075)\n"
     ]
    },
    {
     "name": "stdout",
     "output_type": "stream",
     "text": [
      "snmcseq_gene Saving to files 20.92091202735901\n",
      "snmcseq_gene Total time used: 28.307626962661743\n",
      "snmcseq_gene 3\n"
     ]
    },
    {
     "name": "stderr",
     "output_type": "stream",
     "text": [
      "07/25/2019 12:03:23 AM (15870, 979)\n"
     ]
    },
    {
     "name": "stdout",
     "output_type": "stream",
     "text": [
      "snmcseq_gene Saving to files 20.831467390060425\n",
      "snmcseq_gene Total time used: 27.545358419418335\n",
      "snmcseq_gene 4\n"
     ]
    },
    {
     "name": "stderr",
     "output_type": "stream",
     "text": [
      "07/25/2019 12:03:51 AM (16712, 891)\n"
     ]
    },
    {
     "name": "stdout",
     "output_type": "stream",
     "text": [
      "snmcseq_gene Saving to files 20.1601824760437\n"
     ]
    },
    {
     "ename": "KeyboardInterrupt",
     "evalue": "",
     "output_type": "error",
     "traceback": [
      "\u001b[0;31m---------------------------------------------------------------------------\u001b[0m",
      "\u001b[0;31mKeyboardInterrupt\u001b[0m                         Traceback (most recent call last)",
      "\u001b[0;32m<ipython-input-31-cd364e27e605>\u001b[0m in \u001b[0;36m<module>\u001b[0;34m()\u001b[0m\n\u001b[1;32m     43\u001b[0m             \u001b[0mprint\u001b[0m\u001b[0;34m(\u001b[0m\u001b[0mmod\u001b[0m\u001b[0;34m,\u001b[0m \u001b[0;34m\"Saving to files {}\"\u001b[0m\u001b[0;34m.\u001b[0m\u001b[0mformat\u001b[0m\u001b[0;34m(\u001b[0m\u001b[0mtime\u001b[0m\u001b[0;34m.\u001b[0m\u001b[0mtime\u001b[0m\u001b[0;34m(\u001b[0m\u001b[0;34m)\u001b[0m\u001b[0;34m-\u001b[0m\u001b[0mti\u001b[0m\u001b[0;34m)\u001b[0m\u001b[0;34m)\u001b[0m\u001b[0;34m\u001b[0m\u001b[0m\n\u001b[1;32m     44\u001b[0m             \u001b[0mf_data\u001b[0m \u001b[0;34m=\u001b[0m \u001b[0mhvftr_f\u001b[0m\u001b[0;34m.\u001b[0m\u001b[0mformat\u001b[0m\u001b[0;34m(\u001b[0m\u001b[0mdst_dir\u001b[0m\u001b[0;34m,\u001b[0m \u001b[0mmod\u001b[0m\u001b[0;34m,\u001b[0m \u001b[0;34m'tsv'\u001b[0m\u001b[0;34m)\u001b[0m\u001b[0;34m\u001b[0m\u001b[0m\n\u001b[0;32m---> 45\u001b[0;31m             \u001b[0mgxc_hvftr\u001b[0m\u001b[0;34m.\u001b[0m\u001b[0mto_csv\u001b[0m\u001b[0;34m(\u001b[0m\u001b[0mf_data\u001b[0m\u001b[0;34m,\u001b[0m \u001b[0msep\u001b[0m\u001b[0;34m=\u001b[0m\u001b[0;34m\"\\t\"\u001b[0m\u001b[0;34m,\u001b[0m \u001b[0mindex\u001b[0m\u001b[0;34m=\u001b[0m\u001b[0;32mTrue\u001b[0m\u001b[0;34m,\u001b[0m \u001b[0mheader\u001b[0m\u001b[0;34m=\u001b[0m\u001b[0;32mTrue\u001b[0m\u001b[0;34m)\u001b[0m\u001b[0;34m\u001b[0m\u001b[0m\n\u001b[0m\u001b[1;32m     46\u001b[0m             \u001b[0mprint\u001b[0m\u001b[0;34m(\u001b[0m\u001b[0mmod\u001b[0m\u001b[0;34m,\u001b[0m \u001b[0;34m\"Total time used: {}\"\u001b[0m\u001b[0;34m.\u001b[0m\u001b[0mformat\u001b[0m\u001b[0;34m(\u001b[0m\u001b[0mtime\u001b[0m\u001b[0;34m.\u001b[0m\u001b[0mtime\u001b[0m\u001b[0;34m(\u001b[0m\u001b[0;34m)\u001b[0m\u001b[0;34m-\u001b[0m\u001b[0mti\u001b[0m\u001b[0;34m)\u001b[0m\u001b[0;34m)\u001b[0m\u001b[0;34m\u001b[0m\u001b[0m\n\u001b[1;32m     47\u001b[0m \u001b[0;34m\u001b[0m\u001b[0m\n",
      "\u001b[0;32m/cndd/fangming/venvs/conda_dobro/lib/python3.6/site-packages/pandas/core/generic.py\u001b[0m in \u001b[0;36mto_csv\u001b[0;34m(self, path_or_buf, sep, na_rep, float_format, columns, header, index, index_label, mode, encoding, compression, quoting, quotechar, line_terminator, chunksize, tupleize_cols, date_format, doublequote, escapechar, decimal)\u001b[0m\n\u001b[1;32m   3018\u001b[0m                                  \u001b[0mdoublequote\u001b[0m\u001b[0;34m=\u001b[0m\u001b[0mdoublequote\u001b[0m\u001b[0;34m,\u001b[0m\u001b[0;34m\u001b[0m\u001b[0m\n\u001b[1;32m   3019\u001b[0m                                  escapechar=escapechar, decimal=decimal)\n\u001b[0;32m-> 3020\u001b[0;31m         \u001b[0mformatter\u001b[0m\u001b[0;34m.\u001b[0m\u001b[0msave\u001b[0m\u001b[0;34m(\u001b[0m\u001b[0;34m)\u001b[0m\u001b[0;34m\u001b[0m\u001b[0m\n\u001b[0m\u001b[1;32m   3021\u001b[0m \u001b[0;34m\u001b[0m\u001b[0m\n\u001b[1;32m   3022\u001b[0m         \u001b[0;32mif\u001b[0m \u001b[0mpath_or_buf\u001b[0m \u001b[0;32mis\u001b[0m \u001b[0;32mNone\u001b[0m\u001b[0;34m:\u001b[0m\u001b[0;34m\u001b[0m\u001b[0m\n",
      "\u001b[0;32m/cndd/fangming/venvs/conda_dobro/lib/python3.6/site-packages/pandas/io/formats/csvs.py\u001b[0m in \u001b[0;36msave\u001b[0;34m(self)\u001b[0m\n\u001b[1;32m    170\u001b[0m                 \u001b[0mself\u001b[0m\u001b[0;34m.\u001b[0m\u001b[0mwriter\u001b[0m \u001b[0;34m=\u001b[0m \u001b[0mUnicodeWriter\u001b[0m\u001b[0;34m(\u001b[0m\u001b[0mf\u001b[0m\u001b[0;34m,\u001b[0m \u001b[0;34m**\u001b[0m\u001b[0mwriter_kwargs\u001b[0m\u001b[0;34m)\u001b[0m\u001b[0;34m\u001b[0m\u001b[0m\n\u001b[1;32m    171\u001b[0m \u001b[0;34m\u001b[0m\u001b[0m\n\u001b[0;32m--> 172\u001b[0;31m             \u001b[0mself\u001b[0m\u001b[0;34m.\u001b[0m\u001b[0m_save\u001b[0m\u001b[0;34m(\u001b[0m\u001b[0;34m)\u001b[0m\u001b[0;34m\u001b[0m\u001b[0m\n\u001b[0m\u001b[1;32m    173\u001b[0m \u001b[0;34m\u001b[0m\u001b[0m\n\u001b[1;32m    174\u001b[0m         \u001b[0;32mfinally\u001b[0m\u001b[0;34m:\u001b[0m\u001b[0;34m\u001b[0m\u001b[0m\n",
      "\u001b[0;32m/cndd/fangming/venvs/conda_dobro/lib/python3.6/site-packages/pandas/io/formats/csvs.py\u001b[0m in \u001b[0;36m_save\u001b[0;34m(self)\u001b[0m\n\u001b[1;32m    286\u001b[0m                 \u001b[0;32mbreak\u001b[0m\u001b[0;34m\u001b[0m\u001b[0m\n\u001b[1;32m    287\u001b[0m \u001b[0;34m\u001b[0m\u001b[0m\n\u001b[0;32m--> 288\u001b[0;31m             \u001b[0mself\u001b[0m\u001b[0;34m.\u001b[0m\u001b[0m_save_chunk\u001b[0m\u001b[0;34m(\u001b[0m\u001b[0mstart_i\u001b[0m\u001b[0;34m,\u001b[0m \u001b[0mend_i\u001b[0m\u001b[0;34m)\u001b[0m\u001b[0;34m\u001b[0m\u001b[0m\n\u001b[0m\u001b[1;32m    289\u001b[0m \u001b[0;34m\u001b[0m\u001b[0m\n\u001b[1;32m    290\u001b[0m     \u001b[0;32mdef\u001b[0m \u001b[0m_save_chunk\u001b[0m\u001b[0;34m(\u001b[0m\u001b[0mself\u001b[0m\u001b[0;34m,\u001b[0m \u001b[0mstart_i\u001b[0m\u001b[0;34m,\u001b[0m \u001b[0mend_i\u001b[0m\u001b[0;34m)\u001b[0m\u001b[0;34m:\u001b[0m\u001b[0;34m\u001b[0m\u001b[0m\n",
      "\u001b[0;32m/cndd/fangming/venvs/conda_dobro/lib/python3.6/site-packages/pandas/io/formats/csvs.py\u001b[0m in \u001b[0;36m_save_chunk\u001b[0;34m(self, start_i, end_i)\u001b[0m\n\u001b[1;32m    300\u001b[0m                                   \u001b[0mdecimal\u001b[0m\u001b[0;34m=\u001b[0m\u001b[0mself\u001b[0m\u001b[0;34m.\u001b[0m\u001b[0mdecimal\u001b[0m\u001b[0;34m,\u001b[0m\u001b[0;34m\u001b[0m\u001b[0m\n\u001b[1;32m    301\u001b[0m                                   \u001b[0mdate_format\u001b[0m\u001b[0;34m=\u001b[0m\u001b[0mself\u001b[0m\u001b[0;34m.\u001b[0m\u001b[0mdate_format\u001b[0m\u001b[0;34m,\u001b[0m\u001b[0;34m\u001b[0m\u001b[0m\n\u001b[0;32m--> 302\u001b[0;31m                                   quoting=self.quoting)\n\u001b[0m\u001b[1;32m    303\u001b[0m \u001b[0;34m\u001b[0m\u001b[0m\n\u001b[1;32m    304\u001b[0m             \u001b[0;32mfor\u001b[0m \u001b[0mcol_loc\u001b[0m\u001b[0;34m,\u001b[0m \u001b[0mcol\u001b[0m \u001b[0;32min\u001b[0m \u001b[0mzip\u001b[0m\u001b[0;34m(\u001b[0m\u001b[0mb\u001b[0m\u001b[0;34m.\u001b[0m\u001b[0mmgr_locs\u001b[0m\u001b[0;34m,\u001b[0m \u001b[0md\u001b[0m\u001b[0;34m)\u001b[0m\u001b[0;34m:\u001b[0m\u001b[0;34m\u001b[0m\u001b[0m\n",
      "\u001b[0;32m/cndd/fangming/venvs/conda_dobro/lib/python3.6/site-packages/pandas/core/internals/blocks.py\u001b[0m in \u001b[0;36mto_native_types\u001b[0;34m(self, slicer, na_rep, float_format, decimal, quoting, **kwargs)\u001b[0m\n\u001b[1;32m   1995\u001b[0m \u001b[0;34m\u001b[0m\u001b[0m\n\u001b[1;32m   1996\u001b[0m             \u001b[0;32mif\u001b[0m \u001b[0;32mnot\u001b[0m \u001b[0mquoting\u001b[0m\u001b[0;34m:\u001b[0m\u001b[0;34m\u001b[0m\u001b[0m\n\u001b[0;32m-> 1997\u001b[0;31m                 \u001b[0mvalues\u001b[0m \u001b[0;34m=\u001b[0m \u001b[0mvalues\u001b[0m\u001b[0;34m.\u001b[0m\u001b[0mastype\u001b[0m\u001b[0;34m(\u001b[0m\u001b[0mstr\u001b[0m\u001b[0;34m)\u001b[0m\u001b[0;34m\u001b[0m\u001b[0m\n\u001b[0m\u001b[1;32m   1998\u001b[0m             \u001b[0;32melse\u001b[0m\u001b[0;34m:\u001b[0m\u001b[0;34m\u001b[0m\u001b[0m\n\u001b[1;32m   1999\u001b[0m                 \u001b[0mvalues\u001b[0m \u001b[0;34m=\u001b[0m \u001b[0mnp\u001b[0m\u001b[0;34m.\u001b[0m\u001b[0marray\u001b[0m\u001b[0;34m(\u001b[0m\u001b[0mvalues\u001b[0m\u001b[0;34m,\u001b[0m \u001b[0mdtype\u001b[0m\u001b[0;34m=\u001b[0m\u001b[0;34m'object'\u001b[0m\u001b[0;34m)\u001b[0m\u001b[0;34m\u001b[0m\u001b[0m\n",
      "\u001b[0;31mKeyboardInterrupt\u001b[0m: "
     ]
    }
   ],
   "source": [
    "\n",
    "logging.info(\"Prep data...\")\n",
    "for (mod, clst), df_sub in df_info.groupby(['modality', first_round_cluster_col]):\n",
    "    if mod in mods_selected:\n",
    "        print(mod, clst)\n",
    "        ti = time.time()\n",
    "        normalization_option = normalization_options[mod]\n",
    "\n",
    "        _cells = df_sub.index.values\n",
    "        dst_dir = os.path.join(DST_ROOT_DIR, str(clst))\n",
    "        if not os.path.isdir(dst_dir):\n",
    "            os.makedirs(dst_dir)\n",
    "\n",
    "        # meta and save meta\n",
    "        meta_f_dst = meta_f.format(dst_dir, mod)\n",
    "        meta = metas[mod].loc[_cells]\n",
    "        meta.to_csv(meta_f_dst, sep=\"\\t\", header=True, index=True)\n",
    "\n",
    "        if settings[mod].mod_category == 'mc':\n",
    "            # split raw data\n",
    "            _cell_idx = snmcseq_utils.get_index_from_array(gxc_raws[mod].cell, _cells)\n",
    "            gxc_raw = GC_matrix(\n",
    "                gxc_raws[mod].gene,\n",
    "                gxc_raws[mod].cell[_cell_idx],\n",
    "                {'mc': gxc_raws[mod].data['mc'].tocsc()[:, _cell_idx],\n",
    "                 'c': gxc_raws[mod].data['c'].tocsc()[:, _cell_idx],\n",
    "                },\n",
    "            )\n",
    "            # check meta cells agree with gxc cells\n",
    "            assert np.all(meta.index.values == gxc_raw.cell)\n",
    "            # check genes are uniq \n",
    "            assert len(gxc_raw.gene) == len(np.unique(gxc_raw.gene)) \n",
    "            \n",
    "            # get hvftrs\n",
    "            gxc_hvftr = CEMBA_preproc_utils.preproc_methylation(gxc_raw, meta,\n",
    "                                                                global_value_col=settings[mod].global_mean, \n",
    "                                                                base_call_cutoff=20, \n",
    "                                                                sufficient_coverage_fraction=0.95,\n",
    "                                                                hv_percentile=30,\n",
    "                                                                n_qcut=10,\n",
    "                                                               )\n",
    "\n",
    "            # save data\n",
    "            print(mod, \"Saving to files {}\".format(time.time()-ti))\n",
    "            f_data = hvftr_f.format(dst_dir, mod, 'tsv') \n",
    "            gxc_hvftr.to_csv(f_data, sep=\"\\t\", index=True, header=True)\n",
    "            logging.info(\"{} {} Total time used: {}\".format(mod, clst, time.time()-ti))\n",
    "            \n",
    "        else:\n",
    "            # split raw data\n",
    "            _cell_idx = snmcseq_utils.get_index_from_array(gxc_raws[mod].cell, _cells)\n",
    "            gxc_raw = GC_matrix(\n",
    "                gxc_raws[mod].gene,\n",
    "                gxc_raws[mod].cell[_cell_idx],\n",
    "                gxc_raws[mod].data.tocsc()[:, _cell_idx],\n",
    "            )\n",
    "            # check meta cells agree with gxc cells\n",
    "            assert np.all(meta.index.values == gxc_raw.cell)\n",
    "            # check genes are uniq \n",
    "            assert len(gxc_raw.gene) == len(np.unique(gxc_raw.gene)) \n",
    "\n",
    "            # get hvftrs\n",
    "            print(mod, \"Preproc and get highly variable genes {}\".format(time.time()-ti))\n",
    "            if normalization_option == 'CPM':\n",
    "                gxc_hvftr = CEMBA_preproc_utils.preproc_rna_cpm_based(\n",
    "                                                 gxc_raw, \n",
    "                                                 sufficient_cell_coverage=0.01, \n",
    "                                                 hv_percentile=30, hv_ncut=10)\n",
    "            elif normalization_option == 'TPM':\n",
    "                gene_lengths = gene_lengths_base.reindex(gxc_raw.gene)\n",
    "                gxc_hvftr = CEMBA_preproc_utils.preproc_rna_tpm_based(\n",
    "                                                 gxc_raw, gene_lengths, impute_gene_lengths=True, \n",
    "                                                 sufficient_cell_coverage=0.01, \n",
    "                                                 hv_percentile=30, hv_ncut=10)\n",
    "                \n",
    "            # save data\n",
    "            print(mod, \"Saving to files {}\".format(time.time()-ti))\n",
    "            f_gene = hvftr_f.format(dst_dir, mod, 'gene') \n",
    "            f_cell = hvftr_f.format(dst_dir, mod, 'cell') \n",
    "            f_data = hvftr_f.format(dst_dir, mod, 'npz') \n",
    "            snmcseq_utils.save_gc_matrix(gxc_hvftr, f_gene, f_cell, f_data)\n",
    "            logging.info(\"{} {} Total time used: {}\".format(mod, clst, time.time()-ti))\n",
    "\n",
    "    \n",
    "    "
   ]
  },
  {
   "cell_type": "code",
   "execution_count": null,
   "metadata": {},
   "outputs": [],
   "source": []
  }
 ],
 "metadata": {
  "kernelspec": {
   "display_name": "Python 3",
   "language": "python",
   "name": "python3"
  },
  "language_info": {
   "codemirror_mode": {
    "name": "ipython",
    "version": 3
   },
   "file_extension": ".py",
   "mimetype": "text/x-python",
   "name": "python",
   "nbconvert_exporter": "python",
   "pygments_lexer": "ipython3",
   "version": "3.6.6"
  }
 },
 "nbformat": 4,
 "nbformat_minor": 2
}
