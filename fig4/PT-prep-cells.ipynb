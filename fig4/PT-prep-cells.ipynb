{
 "cells": [
  {
   "cell_type": "code",
   "execution_count": 1,
   "metadata": {},
   "outputs": [],
   "source": [
    "import importlib\n",
    "import sys\n",
    "sys.path.insert(0, '/cndd/fangming/CEMBA/snmcseq_dev')\n",
    "\n",
    "from __init__ import *\n",
    "from __init__jupyterlab import *\n",
    "import datetime\n",
    "from scipy import sparse\n",
    "import collections\n",
    "import itertools\n",
    "import re\n",
    "import fbpca\n",
    "import pickle\n",
    "import scipy.cluster.hierarchy as sch\n",
    "from sklearn.metrics import euclidean_distances\n",
    "import h5py\n",
    "\n",
    "import snmcseq_utils\n",
    "importlib.reload(snmcseq_utils)\n",
    "import CEMBA_run_tsne\n",
    "import CEMBA_clst_utils\n",
    "import SCF_utils\n",
    "importlib.reload(SCF_utils)\n",
    "\n",
    "import seaborn as sns \n",
    "import matplotlib.pyplot as plt"
   ]
  },
  {
   "cell_type": "markdown",
   "metadata": {},
   "source": [
    "- Select cells: 8 datasets called as PT with any of the methods (4; 3; 2 clusters?)\n",
    "- MERFISH dataset (5 clusters)\n",
    "- RS2 dataset (6 clusters)"
   ]
  },
  {
   "cell_type": "code",
   "execution_count": 2,
   "metadata": {},
   "outputs": [
    {
     "name": "stdout",
     "output_type": "stream",
     "text": [
      "(8756, 10)\n"
     ]
    },
    {
     "data": {
      "text/html": [
       "<div>\n",
       "<style scoped>\n",
       "    .dataframe tbody tr th:only-of-type {\n",
       "        vertical-align: middle;\n",
       "    }\n",
       "\n",
       "    .dataframe tbody tr th {\n",
       "        vertical-align: top;\n",
       "    }\n",
       "\n",
       "    .dataframe thead th {\n",
       "        text-align: right;\n",
       "    }\n",
       "</style>\n",
       "<table border=\"1\" class=\"dataframe\">\n",
       "  <thead>\n",
       "    <tr style=\"text-align: right;\">\n",
       "      <th></th>\n",
       "      <th>cell_id</th>\n",
       "      <th>SCF_round2</th>\n",
       "      <th>SCF_round3</th>\n",
       "      <th>RNA concensus</th>\n",
       "      <th>LIGER_level1</th>\n",
       "      <th>LIGER_level2</th>\n",
       "      <th>modality</th>\n",
       "      <th>isPT_SCF</th>\n",
       "      <th>isPT_RNAconcensus</th>\n",
       "      <th>isPT_LIGER</th>\n",
       "    </tr>\n",
       "  </thead>\n",
       "  <tbody>\n",
       "    <tr>\n",
       "      <th>0</th>\n",
       "      <td>snmcseq_gene_2C_M_1054</td>\n",
       "      <td>9-2</td>\n",
       "      <td>9-2-2</td>\n",
       "      <td>NaN</td>\n",
       "      <td>12.0</td>\n",
       "      <td>non_it_4</td>\n",
       "      <td>DNA methylation</td>\n",
       "      <td>1</td>\n",
       "      <td>0</td>\n",
       "      <td>1</td>\n",
       "    </tr>\n",
       "    <tr>\n",
       "      <th>1</th>\n",
       "      <td>snmcseq_gene_2C_M_106</td>\n",
       "      <td>3-2</td>\n",
       "      <td>3-2-1</td>\n",
       "      <td>NaN</td>\n",
       "      <td>12.0</td>\n",
       "      <td>non_it_4</td>\n",
       "      <td>DNA methylation</td>\n",
       "      <td>0</td>\n",
       "      <td>0</td>\n",
       "      <td>1</td>\n",
       "    </tr>\n",
       "    <tr>\n",
       "      <th>2</th>\n",
       "      <td>snmcseq_gene_2C_M_1076</td>\n",
       "      <td>3-2</td>\n",
       "      <td>3-2-1</td>\n",
       "      <td>NaN</td>\n",
       "      <td>12.0</td>\n",
       "      <td>non_it_4</td>\n",
       "      <td>DNA methylation</td>\n",
       "      <td>0</td>\n",
       "      <td>0</td>\n",
       "      <td>1</td>\n",
       "    </tr>\n",
       "    <tr>\n",
       "      <th>3</th>\n",
       "      <td>snmcseq_gene_2C_M_1078</td>\n",
       "      <td>9-2</td>\n",
       "      <td>9-2-1</td>\n",
       "      <td>NaN</td>\n",
       "      <td>12.0</td>\n",
       "      <td>non_it_4</td>\n",
       "      <td>DNA methylation</td>\n",
       "      <td>1</td>\n",
       "      <td>0</td>\n",
       "      <td>1</td>\n",
       "    </tr>\n",
       "    <tr>\n",
       "      <th>4</th>\n",
       "      <td>snmcseq_gene_2C_M_1110</td>\n",
       "      <td>9-2</td>\n",
       "      <td>9-2-1</td>\n",
       "      <td>NaN</td>\n",
       "      <td>12.0</td>\n",
       "      <td>non_it_4</td>\n",
       "      <td>DNA methylation</td>\n",
       "      <td>1</td>\n",
       "      <td>0</td>\n",
       "      <td>1</td>\n",
       "    </tr>\n",
       "  </tbody>\n",
       "</table>\n",
       "</div>"
      ],
      "text/plain": [
       "                  cell_id SCF_round2 SCF_round3  RNA concensus  LIGER_level1  \\\n",
       "0  snmcseq_gene_2C_M_1054        9-2      9-2-2            NaN          12.0   \n",
       "1   snmcseq_gene_2C_M_106        3-2      3-2-1            NaN          12.0   \n",
       "2  snmcseq_gene_2C_M_1076        3-2      3-2-1            NaN          12.0   \n",
       "3  snmcseq_gene_2C_M_1078        9-2      9-2-1            NaN          12.0   \n",
       "4  snmcseq_gene_2C_M_1110        9-2      9-2-1            NaN          12.0   \n",
       "\n",
       "  LIGER_level2         modality  isPT_SCF  isPT_RNAconcensus  isPT_LIGER  \n",
       "0     non_it_4  DNA methylation         1                  0           1  \n",
       "1     non_it_4  DNA methylation         0                  0           1  \n",
       "2     non_it_4  DNA methylation         0                  0           1  \n",
       "3     non_it_4  DNA methylation         1                  0           1  \n",
       "4     non_it_4  DNA methylation         1                  0           1  "
      ]
     },
     "execution_count": 2,
     "metadata": {},
     "output_type": "execute_result"
    }
   ],
   "source": [
    "f = '/cndd2/fangming/projects/miniatlas/results/l5pt_candidates.tsv'\n",
    "meta_pt = pd.read_csv(f, sep='\\t')\n",
    "print(meta_pt.shape)\n",
    "meta_pt.head()"
   ]
  },
  {
   "cell_type": "code",
   "execution_count": 3,
   "metadata": {},
   "outputs": [
    {
     "data": {
      "text/plain": [
       "modality\n",
       "10X_cells_v2_AIBS        525\n",
       "10X_cells_v3_AIBS        158\n",
       "10X_nuclei_v3_AIBS      1248\n",
       "10X_nuclei_v3_Broad     4522\n",
       "DNA methylation          298\n",
       "Open chromatin          1797\n",
       "SmartSeq_cells_AIBS       13\n",
       "SmartSeq_nuclei_AIBS     195\n",
       "dtype: int64"
      ]
     },
     "execution_count": 3,
     "metadata": {},
     "output_type": "execute_result"
    }
   ],
   "source": [
    "meta_pt.groupby('modality').size()"
   ]
  },
  {
   "cell_type": "markdown",
   "metadata": {},
   "source": [
    "# metadata and raw counts\n",
    "\n",
    "- merfish (done)\n",
    "- rs2 (done)\n",
    "- 8 datasets\n"
   ]
  },
  {
   "cell_type": "code",
   "execution_count": 4,
   "metadata": {},
   "outputs": [],
   "source": [
    "src_dir = '/cndd/fangming/CEMBA/data/MOp_all/data_freeze_neurons/'\n",
    "dst_dir = '/cndd/fangming/CEMBA/data/MOp_all/data_freeze_l5pt/'\n",
    "sys.path.insert(0, dst_dir)\n",
    "from __init__datasets import *"
   ]
  },
  {
   "cell_type": "code",
   "execution_count": 5,
   "metadata": {},
   "outputs": [
    {
     "name": "stdout",
     "output_type": "stream",
     "text": [
      "('snmcseq_gene', 'snatac_gene', 'smarter_cells', 'smarter_nuclei', '10x_cells_v2', '10x_cells_v3', '10x_nuclei_v3', '10x_nuclei_v3_macosko', 'merfish', 'epi_retro')\n"
     ]
    }
   ],
   "source": [
    "print(mods)\n",
    "f_meta_format = \n",
    "f_meta_format = os.path.join(src_dir, '{}_metadata.tsv')\n"
   ]
  },
  {
   "cell_type": "code",
   "execution_count": 9,
   "metadata": {},
   "outputs": [
    {
     "name": "stdout",
     "output_type": "stream",
     "text": [
      "snmcseq_gene (298,) (298, 31)\n",
      "snatac_gene (1797,) (1797, 12)\n"
     ]
    },
    {
     "name": "stderr",
     "output_type": "stream",
     "text": [
      "/cndd/fangming/venvs/conda_dobro/lib/python3.6/site-packages/IPython/core/interactiveshell.py:2728: DtypeWarning: Columns (64) have mixed types. Specify dtype option on import or set low_memory=False.\n",
      "  interactivity=interactivity, compiler=compiler, result=result)\n"
     ]
    },
    {
     "name": "stdout",
     "output_type": "stream",
     "text": [
      "smarter_cells (13,) (13, 128)\n",
      "smarter_nuclei (195,) (195, 145)\n",
      "10x_cells_v2 (525,) (525, 7)\n",
      "10x_cells_v3 (158,) (158, 7)\n",
      "10x_nuclei_v3 (1248,) (1248, 7)\n",
      "10x_nuclei_v3_macosko (4522,) (4522, 18)\n"
     ]
    }
   ],
   "source": [
    "for mod in mods[:-2]:\n",
    "    cells = meta_pt.loc[(meta_pt['modality']==settings[mod].name), 'cell_id'].values\n",
    "    \n",
    "    # meta\n",
    "    meta = pd.read_csv(os.path.join(src_dir, '{}_metadata.tsv').format(mod), sep='\\t').set_index(settings[mod].cell_col).reindex(cells)\n",
    "    meta.to_csv(os.path.join(dst_dir, '{}_metadata.tsv').format(mod), sep='\\t', header=True, index=True)\n",
    "    print(mod, cells.shape, meta.shape)\n",
    "    \n",
    "    # gc_matrix\n",
    "    if settings[mod].mod_category == 'mc':\n",
    "        # \n",
    "        fgene = os.path.join(src_dir, '{}_raw.gene'.format(mod))\n",
    "        fcell = os.path.join(src_dir, '{}_raw.cell'.format(mod))\n",
    "        fmat_mc = os.path.join(src_dir, '{}_mCH_raw.npz'.format(mod))\n",
    "        fmat_c = os.path.join(src_dir, '{}_CH_raw.npz'.format(mod))\n",
    "        \n",
    "        fgene_out = os.path.join(dst_dir, '{}_raw.gene'.format(mod))\n",
    "        fcell_out = os.path.join(dst_dir, '{}_raw.cell'.format(mod))\n",
    "        fmat_mc_out = os.path.join(dst_dir, '{}_mCH_raw.npz'.format(mod))\n",
    "        fmat_c_out = os.path.join(dst_dir, '{}_CH_raw.npz'.format(mod))\n",
    "        \n",
    "        gc_mat = snmcseq_utils.load_gc_matrix_methylation(fgene, fcell, fmat_mc, fmat_c)\n",
    "        cells_id = snmcseq_utils.get_index_from_array(gc_mat.cell, cells)\n",
    "        gc_mat_new = GC_matrix(\n",
    "            gc_mat.gene,\n",
    "            gc_mat.cell[cells_id],\n",
    "            {'mc': gc_mat.data['mc'].tocsc()[:, cells_id],\n",
    "             'c': gc_mat.data['c'].tocsc()[:, cells_id],\n",
    "            },\n",
    "        )\n",
    "        snmcseq_utils.save_gc_matrix_methylation(gc_mat_new, fgene_out, fcell_out, fmat_mc_out, fmat_c_out)\n",
    "        \n",
    "    else:\n",
    "        fgene = os.path.join(src_dir, '{}_raw.gene'.format(mod))\n",
    "        fcell = os.path.join(src_dir, '{}_raw.cell'.format(mod))\n",
    "        fmat = os.path.join(src_dir, '{}_raw.npz'.format(mod))\n",
    "        \n",
    "        fgene_out = os.path.join(dst_dir, '{}_raw.gene'.format(mod))\n",
    "        fcell_out = os.path.join(dst_dir, '{}_raw.cell'.format(mod))\n",
    "        fmat_out = os.path.join(dst_dir, '{}_raw.npz'.format(mod))\n",
    "        \n",
    "        gc_mat = snmcseq_utils.load_gc_matrix(fgene, fcell, fmat)\n",
    "        cells_id = snmcseq_utils.get_index_from_array(gc_mat.cell, cells)\n",
    "        gc_mat_new = GC_matrix(\n",
    "            gc_mat.gene,\n",
    "            gc_mat.cell[cells_id],\n",
    "            gc_mat.data.tocsc()[:, cells_id],\n",
    "        )\n",
    "        snmcseq_utils.save_gc_matrix(gc_mat_new, fgene_out, fcell_out, fmat_out)\n",
    "        "
   ]
  },
  {
   "cell_type": "code",
   "execution_count": null,
   "metadata": {},
   "outputs": [],
   "source": [
    "# raw counts\n"
   ]
  }
 ],
 "metadata": {
  "kernelspec": {
   "display_name": "Python 3",
   "language": "python",
   "name": "python3"
  },
  "language_info": {
   "codemirror_mode": {
    "name": "ipython",
    "version": 3
   },
   "file_extension": ".py",
   "mimetype": "text/x-python",
   "name": "python",
   "nbconvert_exporter": "python",
   "pygments_lexer": "ipython3",
   "version": "3.6.6"
  }
 },
 "nbformat": 4,
 "nbformat_minor": 2
}
