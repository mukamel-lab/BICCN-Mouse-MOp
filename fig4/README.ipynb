{
 "cells": [
  {
   "cell_type": "markdown",
   "metadata": {
    "toc": true
   },
   "source": [
    "<h1>Table of Contents<span class=\"tocSkip\"></span></h1>\n",
    "<div class=\"toc\"><ul class=\"toc-item\"><li><span><a href=\"#Data-Included\" data-toc-modified-id=\"Data-Included-1\"><span class=\"toc-item-num\">1&nbsp;&nbsp;</span>Data Included</a></span><ul class=\"toc-item\"><li><span><a href=\"#snmC-seq2-Data\" data-toc-modified-id=\"snmC-seq2-Data-1.1\"><span class=\"toc-item-num\">1.1&nbsp;&nbsp;</span>snmC-seq2 Data</a></span></li><li><span><a href=\"#snATAC-seq-Data\" data-toc-modified-id=\"snATAC-seq-Data-1.2\"><span class=\"toc-item-num\">1.2&nbsp;&nbsp;</span>snATAC-seq Data</a></span></li></ul></li><li><span><a href=\"#./Dataset\" data-toc-modified-id=\"./Dataset-2\"><span class=\"toc-item-num\">2&nbsp;&nbsp;</span>./Dataset</a></span><ul class=\"toc-item\"><li><span><a href=\"#mC\" data-toc-modified-id=\"mC-2.1\"><span class=\"toc-item-num\">2.1&nbsp;&nbsp;</span>mC</a></span><ul class=\"toc-item\"><li><span><a href=\"#Contact\" data-toc-modified-id=\"Contact-2.1.1\"><span class=\"toc-item-num\">2.1.1&nbsp;&nbsp;</span>Contact</a></span></li></ul></li><li><span><a href=\"#ATAC\" data-toc-modified-id=\"ATAC-2.2\"><span class=\"toc-item-num\">2.2&nbsp;&nbsp;</span>ATAC</a></span><ul class=\"toc-item\"><li><span><a href=\"#Contact\" data-toc-modified-id=\"Contact-2.2.1\"><span class=\"toc-item-num\">2.2.1&nbsp;&nbsp;</span>Contact</a></span></li></ul></li></ul></li><li><span><a href=\"#./metadata\" data-toc-modified-id=\"./metadata-3\"><span class=\"toc-item-num\">3&nbsp;&nbsp;</span>./metadata</a></span><ul class=\"toc-item\"><li><span><a href=\"#mC\" data-toc-modified-id=\"mC-3.1\"><span class=\"toc-item-num\">3.1&nbsp;&nbsp;</span>mC</a></span></li><li><span><a href=\"#ATAC\" data-toc-modified-id=\"ATAC-3.2\"><span class=\"toc-item-num\">3.2&nbsp;&nbsp;</span>ATAC</a></span></li></ul></li><li><span><a href=\"#./study\" data-toc-modified-id=\"./study-4\"><span class=\"toc-item-num\">4&nbsp;&nbsp;</span>./study</a></span></li></ul></div>"
   ]
  },
  {
   "cell_type": "markdown",
   "metadata": {},
   "source": [
    "# MOp Epigenomic Data\n",
    "\n",
    "## Data Included"
   ]
  },
  {
   "cell_type": "markdown",
   "metadata": {},
   "source": [
    "### snmC-seq2 Data\n",
    "- Brain Region: 2C, 3C, 4B, 5D\n",
    "- Total Cell Pass QC: 9941"
   ]
  },
  {
   "cell_type": "code",
   "execution_count": 1,
   "metadata": {
    "ExecuteTime": {
     "end_time": "2019-08-17T18:06:02.061852Z",
     "start_time": "2019-08-17T18:06:01.916954Z"
    }
   },
   "outputs": [],
   "source": [
    "import pandas as pd"
   ]
  },
  {
   "cell_type": "code",
   "execution_count": 2,
   "metadata": {
    "ExecuteTime": {
     "end_time": "2019-08-17T18:06:02.084130Z",
     "start_time": "2019-08-17T18:06:02.063783Z"
    }
   },
   "outputs": [],
   "source": [
    "mc_df = pd.read_msgpack('study/mC/Metadata.after_QC.msg')"
   ]
  },
  {
   "cell_type": "code",
   "execution_count": 3,
   "metadata": {
    "ExecuteTime": {
     "end_time": "2019-08-17T18:06:02.092663Z",
     "start_time": "2019-08-17T18:06:02.085717Z"
    }
   },
   "outputs": [
    {
     "data": {
      "text/plain": [
       "4B    2881\n",
       "3C    2473\n",
       "5D    2373\n",
       "2C    2214\n",
       "Name: Region, dtype: int64"
      ]
     },
     "execution_count": 3,
     "metadata": {},
     "output_type": "execute_result"
    }
   ],
   "source": [
    "mc_df['Region'].value_counts()"
   ]
  },
  {
   "cell_type": "code",
   "execution_count": 4,
   "metadata": {
    "ExecuteTime": {
     "end_time": "2019-08-17T18:06:02.096982Z",
     "start_time": "2019-08-17T18:06:02.094174Z"
    }
   },
   "outputs": [
    {
     "data": {
      "text/plain": [
       "9941"
      ]
     },
     "execution_count": 4,
     "metadata": {},
     "output_type": "execute_result"
    }
   ],
   "source": [
    "mc_df.shape[0]"
   ]
  },
  {
   "cell_type": "markdown",
   "metadata": {},
   "source": [
    "\n",
    "### snATAC-seq Data\n",
    "- Brain Region: 2C, 3C, 4B, 5D\n",
    "- Total Cell Pass QC: 81196"
   ]
  },
  {
   "cell_type": "code",
   "execution_count": 5,
   "metadata": {
    "ExecuteTime": {
     "end_time": "2019-08-17T18:06:02.155907Z",
     "start_time": "2019-08-17T18:06:02.098526Z"
    }
   },
   "outputs": [],
   "source": [
    "atac_df = pd.read_msgpack('study/ATAC/ATAC.cell_tidy_data.msg')"
   ]
  },
  {
   "cell_type": "code",
   "execution_count": 6,
   "metadata": {
    "ExecuteTime": {
     "end_time": "2019-08-17T18:06:02.170298Z",
     "start_time": "2019-08-17T18:06:02.157757Z"
    }
   },
   "outputs": [
    {
     "data": {
      "text/plain": [
       "4B    23266\n",
       "5D    20303\n",
       "2C    19965\n",
       "3C    17662\n",
       "Name: region, dtype: int64"
      ]
     },
     "execution_count": 6,
     "metadata": {},
     "output_type": "execute_result"
    }
   ],
   "source": [
    "atac_df['region'].value_counts()"
   ]
  },
  {
   "cell_type": "code",
   "execution_count": 7,
   "metadata": {
    "ExecuteTime": {
     "end_time": "2019-08-17T18:06:02.175303Z",
     "start_time": "2019-08-17T18:06:02.172498Z"
    }
   },
   "outputs": [
    {
     "data": {
      "text/plain": [
       "81196"
      ]
     },
     "execution_count": 7,
     "metadata": {},
     "output_type": "execute_result"
    }
   ],
   "source": [
    "atac_df.shape[0]"
   ]
  },
  {
   "cell_type": "markdown",
   "metadata": {},
   "source": [
    "## ./Dataset\n",
    "\n",
    "### mC\n",
    "\n",
    "methylation count matrix is saved in MCDS file format, which is a structured HDF5 format defined by xarray package (using netCDF). The key reason to use xarray is its ability to handle N-D labeled arrays. So we can add new dimentions for count type (mc count, cov count) or methylation type (mCH, mCG) instead of saving bunch of files separately.\n",
    "\n",
    "- xarray http://xarray.pydata.org/en/stable/\n",
    "\n",
    "#### Contact\n",
    "- Hanqing Liu hanliu@salk.edu"
   ]
  },
  {
   "cell_type": "code",
   "execution_count": 8,
   "metadata": {
    "ExecuteTime": {
     "end_time": "2019-08-17T18:06:02.424020Z",
     "start_time": "2019-08-17T18:06:02.177012Z"
    }
   },
   "outputs": [],
   "source": [
    "import xarray as xr"
   ]
  },
  {
   "cell_type": "code",
   "execution_count": 9,
   "metadata": {
    "ExecuteTime": {
     "end_time": "2019-08-17T18:06:02.504738Z",
     "start_time": "2019-08-17T18:06:02.425934Z"
    }
   },
   "outputs": [
    {
     "data": {
      "text/plain": [
       "<xarray.Dataset>\n",
       "Dimensions:              (cell: 1202, chrom100k: 27269, count_type: 2, gene: 55487, mc_type: 2, strand_type: 1)\n",
       "Coordinates:\n",
       "  * cell                 (cell) object '3C_M_1015' '3C_M_0' ... '3C_M_997'\n",
       "  * gene                 (gene) object 'ENSMUSG00000102693.1' ... 'ENSMUSG00000064372.1'\n",
       "  * count_type           (count_type) object 'mc' 'cov'\n",
       "  * strand_type          (strand_type) object 'both'\n",
       "  * mc_type              (mc_type) object 'CGN' 'CHN'\n",
       "  * chrom100k            (chrom100k) int64 0 1 2 3 4 ... 27265 27266 27267 27268\n",
       "    chrom100k_chrom      (chrom100k) object ...\n",
       "    chrom100k_bin_start  (chrom100k) int64 ...\n",
       "    chrom100k_bin_end    (chrom100k) int64 ...\n",
       "    gene_chrom           (gene) object ...\n",
       "    gene_start           (gene) int64 ...\n",
       "    gene_end             (gene) int64 ...\n",
       "Data variables:\n",
       "    gene_da              (cell, gene, mc_type, strand_type, count_type) uint16 ...\n",
       "    chrom100k_da         (cell, chrom100k, mc_type, strand_type, count_type) uint16 ..."
      ]
     },
     "execution_count": 9,
     "metadata": {},
     "output_type": "execute_result"
    }
   ],
   "source": [
    "mcds = xr.open_dataset('./dataset/mC/3C-171206.mcds')\n",
    "mcds"
   ]
  },
  {
   "cell_type": "code",
   "execution_count": 10,
   "metadata": {
    "ExecuteTime": {
     "end_time": "2019-08-17T18:06:03.209321Z",
     "start_time": "2019-08-17T18:06:02.506314Z"
    }
   },
   "outputs": [
    {
     "data": {
      "text/html": [
       "<div>\n",
       "<style scoped>\n",
       "    .dataframe tbody tr th:only-of-type {\n",
       "        vertical-align: middle;\n",
       "    }\n",
       "\n",
       "    .dataframe tbody tr th {\n",
       "        vertical-align: top;\n",
       "    }\n",
       "\n",
       "    .dataframe thead th {\n",
       "        text-align: right;\n",
       "    }\n",
       "</style>\n",
       "<table border=\"1\" class=\"dataframe\">\n",
       "  <thead>\n",
       "    <tr style=\"text-align: right;\">\n",
       "      <th>gene</th>\n",
       "      <th>ENSMUSG00000102693.1</th>\n",
       "      <th>ENSMUSG00000064842.1</th>\n",
       "      <th>ENSMUSG00000051951.5</th>\n",
       "      <th>ENSMUSG00000102851.1</th>\n",
       "      <th>ENSMUSG00000103377.1</th>\n",
       "      <th>ENSMUSG00000104017.1</th>\n",
       "      <th>ENSMUSG00000103025.1</th>\n",
       "      <th>ENSMUSG00000089699.1</th>\n",
       "      <th>ENSMUSG00000103201.1</th>\n",
       "      <th>ENSMUSG00000103147.1</th>\n",
       "      <th>...</th>\n",
       "      <th>ENSMUSG00000064363.1</th>\n",
       "      <th>ENSMUSG00000064364.1</th>\n",
       "      <th>ENSMUSG00000064365.1</th>\n",
       "      <th>ENSMUSG00000064366.1</th>\n",
       "      <th>ENSMUSG00000064367.1</th>\n",
       "      <th>ENSMUSG00000064368.1</th>\n",
       "      <th>ENSMUSG00000064369.1</th>\n",
       "      <th>ENSMUSG00000064370.1</th>\n",
       "      <th>ENSMUSG00000064371.1</th>\n",
       "      <th>ENSMUSG00000064372.1</th>\n",
       "    </tr>\n",
       "    <tr>\n",
       "      <th>cell</th>\n",
       "      <th></th>\n",
       "      <th></th>\n",
       "      <th></th>\n",
       "      <th></th>\n",
       "      <th></th>\n",
       "      <th></th>\n",
       "      <th></th>\n",
       "      <th></th>\n",
       "      <th></th>\n",
       "      <th></th>\n",
       "      <th></th>\n",
       "      <th></th>\n",
       "      <th></th>\n",
       "      <th></th>\n",
       "      <th></th>\n",
       "      <th></th>\n",
       "      <th></th>\n",
       "      <th></th>\n",
       "      <th></th>\n",
       "      <th></th>\n",
       "      <th></th>\n",
       "    </tr>\n",
       "  </thead>\n",
       "  <tbody>\n",
       "    <tr>\n",
       "      <th>3C_M_1015</th>\n",
       "      <td>0</td>\n",
       "      <td>0</td>\n",
       "      <td>6712</td>\n",
       "      <td>0</td>\n",
       "      <td>83</td>\n",
       "      <td>0</td>\n",
       "      <td>17</td>\n",
       "      <td>635</td>\n",
       "      <td>45</td>\n",
       "      <td>0</td>\n",
       "      <td>...</td>\n",
       "      <td>50</td>\n",
       "      <td>6</td>\n",
       "      <td>0</td>\n",
       "      <td>0</td>\n",
       "      <td>0</td>\n",
       "      <td>29</td>\n",
       "      <td>0</td>\n",
       "      <td>84</td>\n",
       "      <td>0</td>\n",
       "      <td>0</td>\n",
       "    </tr>\n",
       "    <tr>\n",
       "      <th>3C_M_0</th>\n",
       "      <td>0</td>\n",
       "      <td>0</td>\n",
       "      <td>4981</td>\n",
       "      <td>32</td>\n",
       "      <td>44</td>\n",
       "      <td>0</td>\n",
       "      <td>30</td>\n",
       "      <td>401</td>\n",
       "      <td>0</td>\n",
       "      <td>28</td>\n",
       "      <td>...</td>\n",
       "      <td>0</td>\n",
       "      <td>0</td>\n",
       "      <td>0</td>\n",
       "      <td>0</td>\n",
       "      <td>36</td>\n",
       "      <td>0</td>\n",
       "      <td>0</td>\n",
       "      <td>142</td>\n",
       "      <td>0</td>\n",
       "      <td>0</td>\n",
       "    </tr>\n",
       "    <tr>\n",
       "      <th>3C_M_1005</th>\n",
       "      <td>0</td>\n",
       "      <td>0</td>\n",
       "      <td>3481</td>\n",
       "      <td>0</td>\n",
       "      <td>37</td>\n",
       "      <td>0</td>\n",
       "      <td>29</td>\n",
       "      <td>483</td>\n",
       "      <td>22</td>\n",
       "      <td>0</td>\n",
       "      <td>...</td>\n",
       "      <td>0</td>\n",
       "      <td>0</td>\n",
       "      <td>0</td>\n",
       "      <td>0</td>\n",
       "      <td>122</td>\n",
       "      <td>8</td>\n",
       "      <td>0</td>\n",
       "      <td>53</td>\n",
       "      <td>17</td>\n",
       "      <td>18</td>\n",
       "    </tr>\n",
       "    <tr>\n",
       "      <th>3C_M_1</th>\n",
       "      <td>0</td>\n",
       "      <td>0</td>\n",
       "      <td>7149</td>\n",
       "      <td>32</td>\n",
       "      <td>28</td>\n",
       "      <td>85</td>\n",
       "      <td>0</td>\n",
       "      <td>464</td>\n",
       "      <td>0</td>\n",
       "      <td>45</td>\n",
       "      <td>...</td>\n",
       "      <td>5</td>\n",
       "      <td>13</td>\n",
       "      <td>18</td>\n",
       "      <td>14</td>\n",
       "      <td>206</td>\n",
       "      <td>21</td>\n",
       "      <td>16</td>\n",
       "      <td>251</td>\n",
       "      <td>19</td>\n",
       "      <td>14</td>\n",
       "    </tr>\n",
       "    <tr>\n",
       "      <th>3C_M_1004</th>\n",
       "      <td>35</td>\n",
       "      <td>0</td>\n",
       "      <td>7919</td>\n",
       "      <td>16</td>\n",
       "      <td>35</td>\n",
       "      <td>94</td>\n",
       "      <td>34</td>\n",
       "      <td>645</td>\n",
       "      <td>110</td>\n",
       "      <td>57</td>\n",
       "      <td>...</td>\n",
       "      <td>21</td>\n",
       "      <td>9</td>\n",
       "      <td>0</td>\n",
       "      <td>0</td>\n",
       "      <td>30</td>\n",
       "      <td>0</td>\n",
       "      <td>0</td>\n",
       "      <td>70</td>\n",
       "      <td>26</td>\n",
       "      <td>30</td>\n",
       "    </tr>\n",
       "  </tbody>\n",
       "</table>\n",
       "<p>5 rows × 55487 columns</p>\n",
       "</div>"
      ],
      "text/plain": [
       "gene       ENSMUSG00000102693.1  ENSMUSG00000064842.1  ENSMUSG00000051951.5  \\\n",
       "cell                                                                          \n",
       "3C_M_1015                     0                     0                  6712   \n",
       "3C_M_0                        0                     0                  4981   \n",
       "3C_M_1005                     0                     0                  3481   \n",
       "3C_M_1                        0                     0                  7149   \n",
       "3C_M_1004                    35                     0                  7919   \n",
       "\n",
       "gene       ENSMUSG00000102851.1  ENSMUSG00000103377.1  ENSMUSG00000104017.1  \\\n",
       "cell                                                                          \n",
       "3C_M_1015                     0                    83                     0   \n",
       "3C_M_0                       32                    44                     0   \n",
       "3C_M_1005                     0                    37                     0   \n",
       "3C_M_1                       32                    28                    85   \n",
       "3C_M_1004                    16                    35                    94   \n",
       "\n",
       "gene       ENSMUSG00000103025.1  ENSMUSG00000089699.1  ENSMUSG00000103201.1  \\\n",
       "cell                                                                          \n",
       "3C_M_1015                    17                   635                    45   \n",
       "3C_M_0                       30                   401                     0   \n",
       "3C_M_1005                    29                   483                    22   \n",
       "3C_M_1                        0                   464                     0   \n",
       "3C_M_1004                    34                   645                   110   \n",
       "\n",
       "gene       ENSMUSG00000103147.1  ...  ENSMUSG00000064363.1  \\\n",
       "cell                             ...                         \n",
       "3C_M_1015                     0  ...                    50   \n",
       "3C_M_0                       28  ...                     0   \n",
       "3C_M_1005                     0  ...                     0   \n",
       "3C_M_1                       45  ...                     5   \n",
       "3C_M_1004                    57  ...                    21   \n",
       "\n",
       "gene       ENSMUSG00000064364.1  ENSMUSG00000064365.1  ENSMUSG00000064366.1  \\\n",
       "cell                                                                          \n",
       "3C_M_1015                     6                     0                     0   \n",
       "3C_M_0                        0                     0                     0   \n",
       "3C_M_1005                     0                     0                     0   \n",
       "3C_M_1                       13                    18                    14   \n",
       "3C_M_1004                     9                     0                     0   \n",
       "\n",
       "gene       ENSMUSG00000064367.1  ENSMUSG00000064368.1  ENSMUSG00000064369.1  \\\n",
       "cell                                                                          \n",
       "3C_M_1015                     0                    29                     0   \n",
       "3C_M_0                       36                     0                     0   \n",
       "3C_M_1005                   122                     8                     0   \n",
       "3C_M_1                      206                    21                    16   \n",
       "3C_M_1004                    30                     0                     0   \n",
       "\n",
       "gene       ENSMUSG00000064370.1  ENSMUSG00000064371.1  ENSMUSG00000064372.1  \n",
       "cell                                                                         \n",
       "3C_M_1015                    84                     0                     0  \n",
       "3C_M_0                      142                     0                     0  \n",
       "3C_M_1005                    53                    17                    18  \n",
       "3C_M_1                      251                    19                    14  \n",
       "3C_M_1004                    70                    26                    30  \n",
       "\n",
       "[5 rows x 55487 columns]"
      ]
     },
     "execution_count": 10,
     "metadata": {},
     "output_type": "execute_result"
    }
   ],
   "source": [
    "# get a 2D matrix and save to other formats\n",
    "count_table = mcds['gene_da'].sel(mc_type='CHN', count_type='cov').squeeze().to_pandas()\n",
    "count_table.head()"
   ]
  },
  {
   "cell_type": "code",
   "execution_count": 11,
   "metadata": {
    "ExecuteTime": {
     "end_time": "2019-08-17T18:06:04.683913Z",
     "start_time": "2019-08-17T18:06:03.211048Z"
    }
   },
   "outputs": [
    {
     "name": "stdout",
     "output_type": "stream",
     "text": [
      "[1, 1, 1, 1, 1, 1, 1, 1, 1]\n"
     ]
    },
    {
     "name": "stderr",
     "output_type": "stream",
     "text": [
      "/home/hanliu/miniconda3/envs/clustering/lib/python3.7/site-packages/xarray/core/indexing.py:1201: PerformanceWarning: Slicing with an out-of-order index is generating 98 times more chunks\n",
      "  return self.array[key]\n"
     ]
    },
    {
     "data": {
      "text/plain": [
       "<xarray.Dataset>\n",
       "Dimensions:              (cell: 1000, chrom100k: 27269, count_type: 2, gene: 55487, mc_type: 2, strand_type: 1)\n",
       "Coordinates:\n",
       "  * mc_type              (mc_type) object 'CGN' 'CHN'\n",
       "  * gene                 (gene) object 'ENSMUSG00000102693.1' ... 'ENSMUSG00000064372.1'\n",
       "  * count_type           (count_type) object 'mc' 'cov'\n",
       "  * strand_type          (strand_type) object 'both'\n",
       "  * chrom100k            (chrom100k) int64 0 1 2 3 4 ... 27265 27266 27267 27268\n",
       "    chrom100k_chrom      (chrom100k) object dask.array<shape=(27269,), chunksize=(27269,)>\n",
       "    chrom100k_bin_start  (chrom100k) int64 dask.array<shape=(27269,), chunksize=(27269,)>\n",
       "    chrom100k_bin_end    (chrom100k) int64 dask.array<shape=(27269,), chunksize=(27269,)>\n",
       "    gene_chrom           (gene) object dask.array<shape=(55487,), chunksize=(55487,)>\n",
       "    gene_start           (gene) int64 dask.array<shape=(55487,), chunksize=(55487,)>\n",
       "    gene_end             (gene) int64 dask.array<shape=(55487,), chunksize=(55487,)>\n",
       "  * cell                 (cell) object '2C_M_2027' '4B_M_934' ... '2C_M_1070'\n",
       "Data variables:\n",
       "    gene_da              (cell, gene, mc_type, strand_type, count_type) uint16 dask.array<shape=(1000, 55487, 2, 1, 2), chunksize=(1000, 55487, 2, 1, 2)>\n",
       "    chrom100k_da         (cell, chrom100k, mc_type, strand_type, count_type) uint16 dask.array<shape=(1000, 27269, 2, 1, 2), chunksize=(1000, 27269, 2, 1, 2)>"
      ]
     },
     "execution_count": 11,
     "metadata": {},
     "output_type": "execute_result"
    }
   ],
   "source": [
    "# for arbitary cell combination and parallel computation\n",
    "# see here for xarry parallel computation using dask package http://xarray.pydata.org/en/stable/dask.html\n",
    "\n",
    "select_cells = mc_df.sample(1000).index\n",
    "\n",
    "mcds_select = xr.open_mfdataset('./dataset/mC/*.mcds', \n",
    "                                combine='nested', \n",
    "                                concat_dim='cell')\\\n",
    "                .sel(cell=select_cells).chunk(dict(cell=1000))\n",
    "mcds_select"
   ]
  },
  {
   "cell_type": "markdown",
   "metadata": {},
   "source": [
    "### ATAC\n",
    "\n",
    "ATAC count matrix is saved in SNAP file format, which is a structured HDF5 format defined by Snaptools developed by Rongxing Fang from Ren Lab. \n",
    "See Snaptools and SnapATAC github pages for more details:\n",
    "\n",
    "- SnapATAC: https://github.com/r3fang/SnapATAC\n",
    "- Snaptools: https://github.com/r3fang/SnapTools\n",
    "\n",
    "#### Contact\n",
    "- Rongxing Fang r3fang@eng.ucsd.edu\n",
    "- Yang Li yal054@UCSD.EDU"
   ]
  },
  {
   "cell_type": "code",
   "execution_count": 12,
   "metadata": {
    "ExecuteTime": {
     "end_time": "2019-08-17T18:06:04.823270Z",
     "start_time": "2019-08-17T18:06:04.685486Z"
    }
   },
   "outputs": [
    {
     "name": "stdout",
     "output_type": "stream",
     "text": [
      "AM                       Group\n",
      "BD                       Group\n",
      "FM                       Group\n",
      "GM                       Group\n",
      "HD                       Group\n",
      "PM                       Group\n"
     ]
    }
   ],
   "source": [
    "!h5ls ./dataset/ATAC/CEMBA171206_3C.snap"
   ]
  },
  {
   "cell_type": "code",
   "execution_count": 13,
   "metadata": {
    "ExecuteTime": {
     "end_time": "2019-08-17T18:06:04.957746Z",
     "start_time": "2019-08-17T18:06:04.825078Z"
    }
   },
   "outputs": [
    {
     "name": "stdout",
     "output_type": "stream",
     "text": [
      "count                    Dataset {29154507}\n",
      "idx                      Dataset {29154507}\n",
      "idy                      Dataset {29154507}\n",
      "name                     Dataset {53278}\n"
     ]
    }
   ],
   "source": [
    "# 5KB fragment count for each cell, stored in COO sparse matrix format.\n",
    "# Note that the index is using R convension, start from 1\n",
    "!h5ls ./dataset/ATAC/CEMBA171206_3C.snap/GM"
   ]
  },
  {
   "cell_type": "code",
   "execution_count": 14,
   "metadata": {
    "ExecuteTime": {
     "end_time": "2019-08-17T18:06:05.090720Z",
     "start_time": "2019-08-17T18:06:04.959557Z"
    }
   },
   "outputs": [
    {
     "name": "stdout",
     "output_type": "stream",
     "text": [
      "barcodeLen               Dataset {15731}\n",
      "barcodePos               Dataset {15731}\n",
      "fragChrom                Dataset {71428971/Inf}\n",
      "fragLen                  Dataset {71428971/Inf}\n",
      "fragStart                Dataset {71428971/Inf}\n"
     ]
    }
   ],
   "source": [
    "# 5KB fragment count for each cell, stored in COO sparse matrix format.\n",
    "# Note that the index is using R convension, start from 1\n",
    "!h5ls ./dataset/ATAC/CEMBA171206_3C.snap/FM"
   ]
  },
  {
   "cell_type": "code",
   "execution_count": 15,
   "metadata": {
    "ExecuteTime": {
     "end_time": "2019-08-17T18:06:05.222914Z",
     "start_time": "2019-08-17T18:06:05.092471Z"
    }
   },
   "outputs": [
    {
     "name": "stdout",
     "output_type": "stream",
     "text": [
      "count                    Dataset {29154507}\n",
      "idx                      Dataset {29154507}\n",
      "idy                      Dataset {29154507}\n",
      "name                     Dataset {53278}\n"
     ]
    }
   ],
   "source": [
    "# gene count for each cell, stored in COO sparse matrix format.\n",
    "# Note that the index is using R convension, start from 1\n",
    "!h5ls ./dataset/ATAC/CEMBA171206_3C.snap/GM"
   ]
  },
  {
   "cell_type": "markdown",
   "metadata": {},
   "source": [
    "## ./metadata\n",
    "\n",
    "### mC\n",
    "\n",
    "- Cell Metadata: MOp_Metadata.tsv.gz\n",
    "\n",
    "### ATAC\n",
    "\n",
    "- Cell Metadata: CEMBA_MOp.barcode.txt"
   ]
  },
  {
   "cell_type": "markdown",
   "metadata": {},
   "source": [
    "## ./study\n",
    "\n",
    "Analysis code about single modality clustering and further analysis will be posted here"
   ]
  },
  {
   "cell_type": "code",
   "execution_count": 16,
   "metadata": {
    "ExecuteTime": {
     "end_time": "2019-08-17T18:06:05.228647Z",
     "start_time": "2019-08-17T18:06:05.224724Z"
    }
   },
   "outputs": [
    {
     "data": {
      "application/javascript": [
       "IPython.notebook.save_notebook()\n"
      ],
      "text/plain": [
       "<IPython.core.display.Javascript object>"
      ]
     },
     "metadata": {},
     "output_type": "display_data"
    }
   ],
   "source": [
    "%%javascript\n",
    "IPython.notebook.save_notebook()"
   ]
  },
  {
   "cell_type": "code",
   "execution_count": 17,
   "metadata": {
    "ExecuteTime": {
     "end_time": "2019-08-17T18:06:06.170619Z",
     "start_time": "2019-08-17T18:06:05.229989Z"
    }
   },
   "outputs": [
    {
     "name": "stdout",
     "output_type": "stream",
     "text": [
      "[NbConvertApp] Converting notebook README.ipynb to HTML\n",
      "[NbConvertApp] Writing 299584 bytes to README.html\n"
     ]
    }
   ],
   "source": [
    "!jupyter nbconvert --to HTML README.ipynb"
   ]
  },
  {
   "cell_type": "code",
   "execution_count": null,
   "metadata": {},
   "outputs": [],
   "source": []
  }
 ],
 "metadata": {
  "hide_input": false,
  "kernelspec": {
   "display_name": "Python 3",
   "language": "python",
   "name": "python3"
  },
  "language_info": {
   "codemirror_mode": {
    "name": "ipython",
    "version": 3
   },
   "file_extension": ".py",
   "mimetype": "text/x-python",
   "name": "python",
   "nbconvert_exporter": "python",
   "pygments_lexer": "ipython3",
   "version": "3.6.6"
  },
  "toc": {
   "base_numbering": 1,
   "nav_menu": {},
   "number_sections": true,
   "sideBar": true,
   "skip_h1_title": true,
   "title_cell": "Table of Contents",
   "title_sidebar": "Contents",
   "toc_cell": true,
   "toc_position": {},
   "toc_section_display": true,
   "toc_window_display": true
  }
 },
 "nbformat": 4,
 "nbformat_minor": 2
}
