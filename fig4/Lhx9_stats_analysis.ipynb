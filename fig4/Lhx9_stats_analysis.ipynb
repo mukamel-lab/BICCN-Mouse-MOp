{
 "cells": [
  {
   "cell_type": "code",
   "execution_count": 16,
   "metadata": {},
   "outputs": [],
   "source": [
    "import importlib\n",
    "import sys\n",
    "sys.path.insert(0, '/cndd/fangming/CEMBA/snmcseq_dev')\n",
    "\n",
    "from __init__ import *\n",
    "from __init__jupyterlab import *\n",
    "import datetime\n",
    "from scipy import sparse\n",
    "from scipy import stats\n",
    "import collections\n",
    "import itertools\n",
    "import re\n",
    "import fbpca\n",
    "import pickle\n",
    "import scipy.cluster.hierarchy as sch\n",
    "from sklearn.metrics import euclidean_distances\n",
    "import h5py\n",
    "\n",
    "import snmcseq_utils\n",
    "importlib.reload(snmcseq_utils)\n",
    "import CEMBA_run_tsne\n",
    "import CEMBA_clst_utils\n",
    "import SCF_utils\n",
    "importlib.reload(SCF_utils)\n",
    "\n",
    "import seaborn as sns \n",
    "import matplotlib.pyplot as plt"
   ]
  },
  {
   "cell_type": "markdown",
   "metadata": {},
   "source": [
    "# Configs  "
   ]
  },
  {
   "cell_type": "code",
   "execution_count": 2,
   "metadata": {},
   "outputs": [
    {
     "name": "stdout",
     "output_type": "stream",
     "text": [
      "2020-05-13\n"
     ]
    }
   ],
   "source": [
    "time_stamp = datetime.datetime.now().date()\n",
    "print(time_stamp)\n",
    "\n",
    "config_f = 'config_scf_8mods_data_freeze_190917.py' \n",
    "exec(\"from {} import *\".format(config_f.split('.')[0]))"
   ]
  },
  {
   "cell_type": "code",
   "execution_count": 3,
   "metadata": {},
   "outputs": [
    {
     "data": {
      "text/plain": [
       "'/cndd/fangming/CEMBA/data/MOp_all/results/figures/mop_8mods_0915_k30_{}.{}'"
      ]
     },
     "execution_count": 3,
     "metadata": {},
     "output_type": "execute_result"
    }
   ],
   "source": [
    "output_figures"
   ]
  },
  {
   "cell_type": "code",
   "execution_count": 4,
   "metadata": {},
   "outputs": [],
   "source": [
    "# fixed dataset configs\n",
    "sys.path.insert(0, DATA_DIR)\n",
    "import __init__datasets\n",
    "importlib.reload(__init__datasets)\n",
    "from __init__datasets import *\n",
    "\n",
    "meta_f = os.path.join(DATA_DIR, '{0}_metadata.tsv')\n",
    "hvftrs_f = os.path.join(DATA_DIR, '{0}_hvfeatures.{1}')\n",
    "hvftrs_gene = os.path.join(DATA_DIR, '{0}_hvfeatures.gene')\n",
    "hvftrs_cell = os.path.join(DATA_DIR, '{0}_hvfeatures.cell')"
   ]
  },
  {
   "cell_type": "markdown",
   "metadata": {},
   "source": [
    "## Read in data "
   ]
  },
  {
   "cell_type": "code",
   "execution_count": 5,
   "metadata": {},
   "outputs": [
    {
     "name": "stderr",
     "output_type": "stream",
     "text": [
      "05/13/2020 12:09:59 AM *\n"
     ]
    }
   ],
   "source": [
    "log = snmcseq_utils.create_logger()\n",
    "logging.info('*')"
   ]
  },
  {
   "cell_type": "code",
   "execution_count": 6,
   "metadata": {},
   "outputs": [],
   "source": [
    "# back compatible\n",
    "f_mod_annot = '/cndd/fangming/CEMBA/data/MOp_all/results_final/miniatlas_datamod_annotation.tsv'\n",
    "f = f_mod_annot\n",
    "df_mod_annot = pd.read_csv(f, sep=\"\\t\", index_col='Modality') \n",
    "\n",
    "# update settings\n",
    "settings_new = collections.OrderedDict()\n",
    "for mod, mod_info in settings.items():\n",
    "    new_dict = collections.OrderedDict()\n",
    "    for item_key in mod_info._asdict().keys():\n",
    "        if item_key == 'name':\n",
    "            new_dict[item_key] = df_mod_annot.loc[mod, 'Name'] \n",
    "        elif item_key == 'color':\n",
    "            new_dict[item_key] = df_mod_annot.loc[mod, 'Color'] \n",
    "        else:\n",
    "            # unchanged \n",
    "            new_dict[item_key] = mod_info._asdict()[item_key]\n",
    "    \n",
    "    _items = [val for key, val in new_dict.items()]\n",
    "    settings_new[mod] = Mod_info(*_items) \n",
    "settings = settings_new\n",
    "# settings"
   ]
  },
  {
   "cell_type": "code",
   "execution_count": 7,
   "metadata": {},
   "outputs": [
    {
     "name": "stdout",
     "output_type": "stream",
     "text": [
      "snmcseq_gene (9366, 32)\n",
      "snatac_gene (54844, 13)\n"
     ]
    },
    {
     "name": "stderr",
     "output_type": "stream",
     "text": [
      "/cndd/fangming/venvs/conda_dobro/lib/python3.6/site-packages/IPython/core/interactiveshell.py:2728: DtypeWarning: Columns (64) have mixed types. Specify dtype option on import or set low_memory=False.\n",
      "  interactivity=interactivity, compiler=compiler, result=result)\n"
     ]
    },
    {
     "name": "stdout",
     "output_type": "stream",
     "text": [
      "smarter_cells (6244, 129)\n",
      "smarter_nuclei (5911, 146)\n",
      "10x_cells_v2 (121440, 8)\n",
      "10x_cells_v3 (69727, 8)\n",
      "10x_nuclei_v3 (39706, 8)\n",
      "10x_nuclei_v3_macosko (101647, 19)\n"
     ]
    }
   ],
   "source": [
    "metas = collections.OrderedDict()\n",
    "for mod in mods_selected:\n",
    "    metas[mod] = pd.read_csv(meta_f.format(mod), sep=\"\\t\").reset_index().set_index(settings[mod].cell_col)\n",
    "    print(mod, metas[mod].shape)"
   ]
  },
  {
   "cell_type": "code",
   "execution_count": 8,
   "metadata": {},
   "outputs": [
    {
     "name": "stdout",
     "output_type": "stream",
     "text": [
      "(53379, 7)\n",
      "(53278, 7)\n"
     ]
    },
    {
     "data": {
      "text/html": [
       "<div>\n",
       "<style scoped>\n",
       "    .dataframe tbody tr th:only-of-type {\n",
       "        vertical-align: middle;\n",
       "    }\n",
       "\n",
       "    .dataframe tbody tr th {\n",
       "        vertical-align: top;\n",
       "    }\n",
       "\n",
       "    .dataframe thead th {\n",
       "        text-align: right;\n",
       "    }\n",
       "</style>\n",
       "<table border=\"1\" class=\"dataframe\">\n",
       "  <thead>\n",
       "    <tr style=\"text-align: right;\">\n",
       "      <th></th>\n",
       "      <th>gene_id</th>\n",
       "      <th>gene_name</th>\n",
       "      <th>chr</th>\n",
       "      <th>start</th>\n",
       "      <th>end</th>\n",
       "      <th>strand</th>\n",
       "      <th>gene_type</th>\n",
       "    </tr>\n",
       "    <tr>\n",
       "      <th>gene_id_abbr</th>\n",
       "      <th></th>\n",
       "      <th></th>\n",
       "      <th></th>\n",
       "      <th></th>\n",
       "      <th></th>\n",
       "      <th></th>\n",
       "      <th></th>\n",
       "    </tr>\n",
       "  </thead>\n",
       "  <tbody>\n",
       "    <tr>\n",
       "      <th>ENSMUSG00000102693</th>\n",
       "      <td>ENSMUSG00000102693.1</td>\n",
       "      <td>4933401J01Rik</td>\n",
       "      <td>chr1</td>\n",
       "      <td>3073253</td>\n",
       "      <td>3074322</td>\n",
       "      <td>+</td>\n",
       "      <td>TEC</td>\n",
       "    </tr>\n",
       "    <tr>\n",
       "      <th>ENSMUSG00000064842</th>\n",
       "      <td>ENSMUSG00000064842.1</td>\n",
       "      <td>Gm26206</td>\n",
       "      <td>chr1</td>\n",
       "      <td>3102016</td>\n",
       "      <td>3102125</td>\n",
       "      <td>+</td>\n",
       "      <td>snRNA</td>\n",
       "    </tr>\n",
       "    <tr>\n",
       "      <th>ENSMUSG00000051951</th>\n",
       "      <td>ENSMUSG00000051951.5</td>\n",
       "      <td>Xkr4</td>\n",
       "      <td>chr1</td>\n",
       "      <td>3205901</td>\n",
       "      <td>3671498</td>\n",
       "      <td>-</td>\n",
       "      <td>protein_coding</td>\n",
       "    </tr>\n",
       "    <tr>\n",
       "      <th>ENSMUSG00000102851</th>\n",
       "      <td>ENSMUSG00000102851.1</td>\n",
       "      <td>Gm18956</td>\n",
       "      <td>chr1</td>\n",
       "      <td>3252757</td>\n",
       "      <td>3253236</td>\n",
       "      <td>+</td>\n",
       "      <td>processed_pseudogene</td>\n",
       "    </tr>\n",
       "    <tr>\n",
       "      <th>ENSMUSG00000103377</th>\n",
       "      <td>ENSMUSG00000103377.1</td>\n",
       "      <td>Gm37180</td>\n",
       "      <td>chr1</td>\n",
       "      <td>3365731</td>\n",
       "      <td>3368549</td>\n",
       "      <td>-</td>\n",
       "      <td>TEC</td>\n",
       "    </tr>\n",
       "  </tbody>\n",
       "</table>\n",
       "</div>"
      ],
      "text/plain": [
       "                                 gene_id      gene_name   chr    start  \\\n",
       "gene_id_abbr                                                             \n",
       "ENSMUSG00000102693  ENSMUSG00000102693.1  4933401J01Rik  chr1  3073253   \n",
       "ENSMUSG00000064842  ENSMUSG00000064842.1        Gm26206  chr1  3102016   \n",
       "ENSMUSG00000051951  ENSMUSG00000051951.5           Xkr4  chr1  3205901   \n",
       "ENSMUSG00000102851  ENSMUSG00000102851.1        Gm18956  chr1  3252757   \n",
       "ENSMUSG00000103377  ENSMUSG00000103377.1        Gm37180  chr1  3365731   \n",
       "\n",
       "                        end strand             gene_type  \n",
       "gene_id_abbr                                              \n",
       "ENSMUSG00000102693  3074322      +                   TEC  \n",
       "ENSMUSG00000064842  3102125      +                 snRNA  \n",
       "ENSMUSG00000051951  3671498      -        protein_coding  \n",
       "ENSMUSG00000102851  3253236      +  processed_pseudogene  \n",
       "ENSMUSG00000103377  3368549      -                   TEC  "
      ]
     },
     "execution_count": 8,
     "metadata": {},
     "output_type": "execute_result"
    }
   ],
   "source": [
    "df_genes = pd.read_csv(PATH_GENEBODY_ANNOTATION, sep='\\t')\n",
    "df_genes['gene_id_abbr'] = df_genes['gene_id'].apply(lambda x: x.split('.')[0])\n",
    "df_genes = df_genes.set_index('gene_id_abbr')\n",
    "df_genes_v2 = df_genes.reset_index().groupby('gene_name').first()\n",
    "print(df_genes.shape)\n",
    "print(df_genes_v2.shape)\n",
    "df_genes.head()"
   ]
  },
  {
   "cell_type": "code",
   "execution_count": 10,
   "metadata": {},
   "outputs": [],
   "source": [
    "mods_ordered = [\n",
    "    'snatac_gene',\n",
    "    'snmcseq_gene',\n",
    "    'smarter_nuclei',\n",
    "    'smarter_cells',\n",
    "    '10x_cells_v3',\n",
    "    '10x_nuclei_v3',\n",
    "    '10x_nuclei_v3_macosko',\n",
    "    '10x_cells_v2', \n",
    "    ]\n",
    "\n",
    "mods_updated = [\n",
    "    'smarter_cells',\n",
    "    '10x_cells_v3',\n",
    "    '10x_cells_v2', \n",
    "    'smarter_nuclei',\n",
    "    '10x_nuclei_v3_macosko',\n",
    "    '10x_nuclei_v3',\n",
    "    'snatac_gene',\n",
    "    'mch',\n",
    "    'mcg',\n",
    "]"
   ]
  },
  {
   "cell_type": "code",
   "execution_count": 11,
   "metadata": {},
   "outputs": [
    {
     "name": "stdout",
     "output_type": "stream",
     "text": [
      "29\n"
     ]
    }
   ],
   "source": [
    "clsts_manual_order = collections.OrderedDict({\n",
    " '4-1': 'L2/3 IT ',\n",
    " '4-2': 'L2/3 IT ',\n",
    " '1-1': 'L5 IT Rspo1_1',\n",
    " '1-2': 'L5 IT Rspo2_1',\n",
    " '3-2': 'L5 IT S100b',\n",
    " '3-1': 'L6 IT_2',\n",
    " '3-3': 'L6 IT Car3',\n",
    "    \n",
    " '9-1': 'L5 ET_1',\n",
    " '9-2': 'L5 ET_2',\n",
    "    \n",
    " '2-1': 'L6 CT Cpa6',\n",
    " '2-2': 'L6 CT Cpa6',\n",
    " '2-3': 'L6 CT Nxph2 Pou3f2',\n",
    "    \n",
    " '8-1': 'L6b Shisa6_1',\n",
    " '8-2': 'L6b Ror1',\n",
    " '8-3': 'L6b Kcnip1_2',\n",
    "    \n",
    " '7-1': 'L6 NP Trh_1',\n",
    " '7-2': 'L5 NP Slc17a8',\n",
    "    \n",
    " '5-1': 'Pvalb Reln',\n",
    " '5-4': 'Pvalb Gabrg1',\n",
    " '5-5': 'Pvalb Vipr2',\n",
    "    \n",
    " '5-2': 'Sst Myh8_2',\n",
    " '5-3': 'Sst Calb2',\n",
    " '10-1': 'Sst Chodl',\n",
    "    \n",
    " '6-1': 'Vip Chat',\n",
    " '6-3': 'Vip Igfbp6',\n",
    " '6-5': 'Sncg Col14a1',\n",
    "    \n",
    " '6-2': 'Lamp5 Slc35d3',\n",
    " '6-4': 'Lamp5 Pdlim5',\n",
    " '6-6': 'Lamp5 Lhx6',\n",
    "})\n",
    "\n",
    "\n",
    "clsts_uniq = np.array(list(clsts_manual_order.keys()))\n",
    "print(len(clsts_uniq))"
   ]
  },
  {
   "cell_type": "code",
   "execution_count": 12,
   "metadata": {},
   "outputs": [
    {
     "name": "stdout",
     "output_type": "stream",
     "text": [
      "snmcseq_gene\n",
      "snatac_gene\n",
      "smarter_cells\n",
      "smarter_nuclei\n",
      "10x_cells_v2\n",
      "10x_cells_v3\n",
      "10x_nuclei_v3\n",
      "10x_nuclei_v3_macosko\n",
      "dict_keys(['mcg', 'mch', 'snatac_gene', 'smarter_cells', 'smarter_nuclei', '10x_cells_v2', '10x_cells_v3', '10x_nuclei_v3', '10x_nuclei_v3_macosko'])\n"
     ]
    }
   ],
   "source": [
    "f_format = '/cndd2/fangming/miniatlas/cluster_level/cell_mean/gene_features_{}_round2.tsv'\n",
    "centroid_dfs = {}\n",
    "for mod in mods_selected:\n",
    "    print(mod)\n",
    "    if settings[mod].mod_category == 'mc':\n",
    "        for mod_update in ['mcg', 'mch']:\n",
    "            f = f_format.format(mod_update)\n",
    "            centroid_dfs[mod_update] = pd.read_csv(f, sep='\\t', index_col=0)\n",
    "    else:\n",
    "        f = f_format.format(mod)\n",
    "        centroid_dfs[mod] = pd.read_csv(f, sep='\\t', index_col=0)\n",
    "    \n",
    "print(centroid_dfs.keys())\n",
    "    "
   ]
  },
  {
   "cell_type": "code",
   "execution_count": 13,
   "metadata": {},
   "outputs": [],
   "source": [
    "# clsts_uniq = np.sort(np.unique(df_info[joint_cluster]))\n",
    "\n",
    "genes_inq = [\n",
    "    'Lhx9',\n",
    "#     'Fhl5',\n",
    "#     'Pax6',\n",
    "]\n",
    "\n",
    "gene_ids_inq = df_genes_v2.reindex(genes_inq)['gene_id_abbr'].values \n",
    "\n",
    "df_plots = {} \n",
    "for i, mod in enumerate(mods_ordered):\n",
    "    if settings[mod].mod_category == 'mc':\n",
    "        for mod_update in ['mcg', 'mch']:\n",
    "            gene_data = centroid_dfs[mod_update].reindex(gene_ids_inq)\n",
    "\n",
    "            gene_data.index = genes_inq\n",
    "            gene_data = gene_data.dropna()\n",
    "            df_plot = gene_data\n",
    "            # normalize gene_data for each row except for mC (already normalized)\n",
    "#             df_plot = settings[mod].mod_direction*df_plot\n",
    "            df_plots[mod_update] = df_plot.reindex(\n",
    "                                            index=genes_inq, \n",
    "                                            columns=clsts_uniq,\n",
    "                                            )\n",
    "    else:\n",
    "        gene_data = centroid_dfs[mod].reindex(gene_ids_inq)\n",
    "        \n",
    "        gene_data.index = genes_inq\n",
    "        gene_data = gene_data.dropna()\n",
    "        df_plot = gene_data\n",
    "        # normalize gene_data for each row except for mC (already normalized)\n",
    "#         df_plot = settings[mod].mod_direction*df_plot\n",
    "#         df_plot = df_plot.divide(df_plot.max(axis=1), axis=0)\n",
    "        df_plots[mod] = df_plot.reindex(\n",
    "                                        index=genes_inq, \n",
    "                                        columns=clsts_uniq,\n",
    "                                        )"
   ]
  },
  {
   "cell_type": "code",
   "execution_count": 14,
   "metadata": {},
   "outputs": [
    {
     "data": {
      "text/plain": [
       "[12, 13, 14]"
      ]
     },
     "execution_count": 14,
     "metadata": {},
     "output_type": "execute_result"
    }
   ],
   "source": [
    "[i for i, (key, val) in enumerate(clsts_manual_order.items()) if val.startswith('L6b')]"
   ]
  },
  {
   "cell_type": "code",
   "execution_count": 15,
   "metadata": {},
   "outputs": [
    {
     "data": {
      "image/png": "[encoded data removed]",
      "text/plain": [
       "<Figure size 576x1152 with 4 Axes>"
      ]
     },
     "metadata": {},
     "output_type": "display_data"
    }
   ],
   "source": [
    "# nx = len(mods_updated)\n",
    "# with sns.axes_style('ticks'):\n",
    "with sns.axes_style('white', {\"patch.edgecolor\": \"black\", 'patch.force_edgecolor': False,}):\n",
    "    nx = 1 \n",
    "    ny = 4\n",
    "    gene = genes_inq[0]\n",
    "    fig, axs = plt.subplots(ny, nx, figsize=(8*nx, 4*ny))\n",
    "    # axs = axs.flatten()\n",
    "#     for j, gene in enumerate(genes_inq): \n",
    "    for i, mod in enumerate(mods_updated):\n",
    "        if mod in settings.keys() and settings[mod].mod_category == 'rna':\n",
    "            ax = axs[0]\n",
    "            ax.set_ylim([0, 1])\n",
    "            ax.set_ylabel('log10(TPM+1)\\nlog10(CPM+1)')\n",
    "            ax.set_title('{} RNA'.format(gene))\n",
    "        elif mod in settings.keys() and settings[mod].mod_category == 'atac':\n",
    "            ax = axs[1]\n",
    "            ax.set_ylim([0, 0.4])\n",
    "            ax.set_ylabel('log10(TPM+1)')\n",
    "            ax.set_title('Open chromatin')\n",
    "        elif mod == 'mch':\n",
    "            ax = axs[2]\n",
    "            ax.set_ylim([0.4, 2.5])\n",
    "            ax.set_ylabel('Normalized mCH')\n",
    "            ax.set_title(mod)\n",
    "        elif mod == 'mcg':\n",
    "            ax = axs[3]\n",
    "            ax.set_ylim([0.1, 0.7])\n",
    "            ax.set_ylabel('Normalized mCG')\n",
    "            ax.set_title(mod)\n",
    "\n",
    "        if mod in ['mch', 'mcg']:\n",
    "            color = settings['snmcseq_gene'].color\n",
    "        else:\n",
    "            color = settings[mod].color\n",
    "            \n",
    "        if gene == 'Lhx9':\n",
    "            ax.axvline(12, linewidth=1, linestyle='--', color='black')\n",
    "            ax.axvline(14, linewidth=1, linestyle='--', color='black')\n",
    "        \n",
    "        x = np.arange(df_plots[mod].shape[1])\n",
    "        y = df_plots[mod].iloc[0]\n",
    "        ax.bar(x, y, color=color)\n",
    "\n",
    "\n",
    "        ax.set_aspect('auto')\n",
    "    ax.set_xticks(x)\n",
    "    ax.set_xticklabels([val for key, val in clsts_manual_order.items()], rotation=90, fontsize=10)\n",
    "    ax.set_xlabel('clusters')\n",
    "    \n",
    "    fig.tight_layout()\n",
    "    fig.savefig(output_figures.format('barplot_Lhx9', 'pdf'), bbox_inches='tight')\n",
    "    plt.show()"
   ]
  },
  {
   "cell_type": "markdown",
   "metadata": {},
   "source": [
    "### Statistics \n",
    "- wilconxon test one-side \n",
    "- effect size (fold change mCG)\n",
    "- effect size (fold change mCH)\n",
    "- effect size (fold change ATAC)"
   ]
  },
  {
   "cell_type": "code",
   "execution_count": 34,
   "metadata": {},
   "outputs": [
    {
     "data": {
      "text/plain": [
       "4-1     0.807161\n",
       "4-2     0.781248\n",
       "1-1     0.850886\n",
       "1-2     0.997287\n",
       "3-2     1.032290\n",
       "3-1     1.005817\n",
       "3-3     0.787873\n",
       "9-1     1.114979\n",
       "9-2     0.920746\n",
       "2-1     1.184771\n",
       "2-2     1.326470\n",
       "2-3     1.027865\n",
       "7-1     1.149877\n",
       "7-2     1.017760\n",
       "5-1     0.893903\n",
       "5-4     0.670090\n",
       "5-5     1.297441\n",
       "5-2     0.909121\n",
       "5-3     0.986625\n",
       "10-1    0.755935\n",
       "6-1     0.732498\n",
       "6-3     0.878259\n",
       "6-5     0.751446\n",
       "6-2     0.886372\n",
       "6-4     0.814929\n",
       "6-6     1.006953\n",
       "Name: Lhx9, dtype: float64"
      ]
     },
     "execution_count": 34,
     "metadata": {},
     "output_type": "execute_result"
    }
   ],
   "source": [
    "_data.filter(regex=r'^(?!8)')"
   ]
  },
  {
   "cell_type": "code",
   "execution_count": 46,
   "metadata": {},
   "outputs": [
    {
     "name": "stdout",
     "output_type": "stream",
     "text": [
      "mch 0.00447681898844 1.9746251335397849\n",
      "mcg 0.0029163405953 1.641416654493349\n",
      "snatac_gene 0.913209313433 0.536404121943778\n"
     ]
    }
   ],
   "source": [
    "mods_totest = [\n",
    "    'mch',\n",
    "    'mcg',\n",
    "    'snatac_gene',\n",
    "]\n",
    "\n",
    "for mod in mods_totest:\n",
    "    _data = df_plots[mod].T.loc[clsts_uniq, gene]\n",
    "    _x = _data.filter(regex=r'^8-')\n",
    "    _y = _data.filter(regex=r'^(?!8)')\n",
    "\n",
    "    _, p = stats.mannwhitneyu(_x.values, _y.values, alternative='greater')\n",
    "#     _, p = stats.mannwhitneyu(_x.values, _y.values)\n",
    "    \n",
    "    fc = _x.mean()/_y.mean()\n",
    "    print(mod, p, fc)"
   ]
  },
  {
   "cell_type": "code",
   "execution_count": 47,
   "metadata": {},
   "outputs": [
    {
     "name": "stdout",
     "output_type": "stream",
     "text": [
      "mch 0.00447681898844 1.9746251335397849\n",
      "mcg 0.0029163405953 1.641416654493349\n",
      "snatac_gene 0.0986702698968 0.536404121943778\n"
     ]
    }
   ],
   "source": [
    "mods_totest = [\n",
    "    'mch',\n",
    "    'mcg',\n",
    "    'snatac_gene',\n",
    "]\n",
    "\n",
    "for mod in mods_totest:\n",
    "    _data = df_plots[mod].T.loc[clsts_uniq, gene]\n",
    "    _x = _data.filter(regex=r'^8-')\n",
    "    _y = _data.filter(regex=r'^(?!8)')\n",
    "\n",
    "#     _, p = stats.mannwhitneyu(_x.values, _y.values, alternative='greater')\n",
    "    _, p = stats.mannwhitneyu(_x.values, _y.values)\n",
    "    \n",
    "    fc = _x.mean()/_y.mean()\n",
    "    print(mod, p, fc)"
   ]
  },
  {
   "cell_type": "code",
   "execution_count": null,
   "metadata": {},
   "outputs": [],
   "source": []
  }
 ],
 "metadata": {
  "kernelspec": {
   "display_name": "Python 3",
   "language": "python",
   "name": "python3"
  },
  "language_info": {
   "codemirror_mode": {
    "name": "ipython",
    "version": 3
   },
   "file_extension": ".py",
   "mimetype": "text/x-python",
   "name": "python",
   "nbconvert_exporter": "python",
   "pygments_lexer": "ipython3",
   "version": "3.6.6"
  }
 },
 "nbformat": 4,
 "nbformat_minor": 2
}
