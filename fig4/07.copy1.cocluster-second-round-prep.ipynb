{
 "cells": [
  {
   "cell_type": "code",
   "execution_count": 1,
   "metadata": {},
   "outputs": [
    {
     "data": {
      "text/plain": [
       "<module 'CEMBA_preproc_utils' from '/cndd/fangming/CEMBA/snmcseq_dev/CEMBA_preproc_utils.py'>"
      ]
     },
     "execution_count": 1,
     "metadata": {},
     "output_type": "execute_result"
    }
   ],
   "source": [
    "import importlib\n",
    "import sys\n",
    "sys.path.insert(0, '/cndd/fangming/CEMBA/snmcseq_dev')\n",
    "\n",
    "from __init__ import *\n",
    "from __init__jupyterlab import *\n",
    "from scipy import sparse\n",
    "import collections\n",
    "import shutil\n",
    "\n",
    "import snmcseq_utils\n",
    "importlib.reload(snmcseq_utils)\n",
    "import CEMBA_preproc_utils\n",
    "importlib.reload(CEMBA_preproc_utils)\n",
    "\n"
   ]
  },
  {
   "cell_type": "markdown",
   "metadata": {},
   "source": [
    "# prep\n",
    "- metadata\n",
    "- hvfeatures (recalculated)\n",
    "- ```__init__datasets.py``` \n",
    "- config.py (somewhere else) "
   ]
  },
  {
   "cell_type": "code",
   "execution_count": 2,
   "metadata": {},
   "outputs": [
    {
     "name": "stderr",
     "output_type": "stream",
     "text": [
      "09/23/2019 06:05:13 PM *\n"
     ]
    }
   ],
   "source": [
    "log = snmcseq_utils.create_logger()\n",
    "logging.info('*')"
   ]
  },
  {
   "cell_type": "code",
   "execution_count": 4,
   "metadata": {},
   "outputs": [],
   "source": [
    "config_dir = '/cndd/fangming/CEMBA/data/MOp_all/data_freeze_neurons_v2/' \n",
    "config_f = 'config_scf_8mods_data_freeze_2kb_190923.py' \n",
    "name = 'mop_8mods_0923_2kb'\n",
    "DST_ROOT_DIR = '/cndd/fangming/CEMBA/data/MOp_all/data_freeze_neurons_subtypes_8mods_2kb'\n",
    "first_round_cluster_col = 'cluster_joint_r0.1'\n",
    "\n",
    "# import config and import datasets\n",
    "sys.path.insert(0, config_dir)\n",
    "exec(\"from {} import *\".format(config_f.split('.')[0]))\n",
    "from __init__datasets import *\n",
    "\n",
    "meta_f = '{0}/{1}_metadata.tsv'\n",
    "raw_f = '{0}/{1}_{2}raw.{3}'\n",
    "hvftr_f = '{0}/{1}_hvfeatures.{2}'"
   ]
  },
  {
   "cell_type": "code",
   "execution_count": 5,
   "metadata": {},
   "outputs": [
    {
     "name": "stdout",
     "output_type": "stream",
     "text": [
      "snmcseq_gene (9366, 32)\n",
      "snatac_gene (54844, 13)\n"
     ]
    },
    {
     "name": "stderr",
     "output_type": "stream",
     "text": [
      "/cndd/fangming/venvs/conda_dobro/lib/python3.6/site-packages/IPython/core/interactiveshell.py:2728: DtypeWarning: Columns (64) have mixed types. Specify dtype option on import or set low_memory=False.\n",
      "  interactivity=interactivity, compiler=compiler, result=result)\n"
     ]
    },
    {
     "name": "stdout",
     "output_type": "stream",
     "text": [
      "smarter_cells (6244, 129)\n",
      "smarter_nuclei (5911, 146)\n",
      "10x_cells_v2 (121440, 8)\n",
      "10x_cells_v3 (69727, 8)\n",
      "10x_nuclei_v3 (39706, 8)\n",
      "10x_nuclei_v3_macosko (101647, 19)\n"
     ]
    }
   ],
   "source": [
    "metas = collections.OrderedDict()\n",
    "for mod in mods_selected:\n",
    "    metas[mod] = pd.read_csv(meta_f.format(DATA_DIR, mod), sep=\"\\t\").reset_index().set_index(settings[mod].cell_col)\n",
    "    print(mod, metas[mod].shape)"
   ]
  },
  {
   "cell_type": "code",
   "execution_count": null,
   "metadata": {},
   "outputs": [
    {
     "name": "stderr",
     "output_type": "stream",
     "text": [
      "09/23/2019 06:06:49 PM Read data snmcseq_gene...\n",
      "09/23/2019 06:07:32 PM Read data snatac_gene...\n",
      "09/23/2019 06:07:50 PM Read data smarter_cells...\n",
      "09/23/2019 06:07:57 PM Read data smarter_nuclei...\n",
      "09/23/2019 06:08:00 PM Read data 10x_cells_v2...\n",
      "09/23/2019 06:08:48 PM Read data 10x_cells_v3...\n"
     ]
    }
   ],
   "source": [
    "gxc_raws = collections.OrderedDict()\n",
    "for mod in mods_selected:\n",
    "    logging.info(\"Read data {}...\".format(mod))\n",
    "    if settings[mod].mod_category == 'mc':\n",
    "        f_gene = raw_f.format(DATA_DIR, mod, '', 'gene')\n",
    "        f_cell = raw_f.format(DATA_DIR, mod, '', 'cell')\n",
    "        f_data_c = raw_f.format(DATA_DIR, mod, 'CH_', 'npz')\n",
    "        f_data_mc = raw_f.format(DATA_DIR, mod, 'mCH_', 'npz')\n",
    "        gxc_raws[mod] = snmcseq_utils.load_gc_matrix_methylation(f_gene, f_cell, f_data_mc, f_data_c)\n",
    "        \n",
    "    else:\n",
    "        f_gene = raw_f.format(DATA_DIR, mod, '', 'gene')\n",
    "        f_cell = raw_f.format(DATA_DIR, mod, '', 'cell')\n",
    "        f_data = raw_f.format(DATA_DIR, mod, '', 'npz')\n",
    "        gxc_raws[mod] = snmcseq_utils.load_gc_matrix(f_gene, f_cell, f_data)\n",
    "        "
   ]
  },
  {
   "cell_type": "code",
   "execution_count": null,
   "metadata": {},
   "outputs": [],
   "source": [
    "f = output_clst_and_umap\n",
    "df_info = pd.read_csv(f, sep=\"\\t\", index_col='sample')[[first_round_cluster_col, 'modality']] \n",
    "print(df_info.shape)\n",
    "df_info.head()"
   ]
  },
  {
   "cell_type": "code",
   "execution_count": null,
   "metadata": {},
   "outputs": [],
   "source": [
    "normalization_options = {\n",
    "    'smarter_nuclei': 'TPM',\n",
    "    'smarter_cells': 'TPM',\n",
    "    'snatac_gene': 'TPM',\n",
    "    'snmcseq_gene': 'MC',\n",
    "    '10x_nuclei_v3_macosko': 'CPM',\n",
    "    '10x_cells_v3': 'CPM',\n",
    "    '10x_nuclei_v3': 'CPM',\n",
    "    '10x_cells_v2': 'CPM',\n",
    "}\n",
    "\n",
    "# # gene id (abbr) as index\n",
    "gene_annot_file = PATH_GENEBODY_ANNOTATION\n",
    "gene_annot = pd.read_csv(gene_annot_file, sep=\"\\t\")\n",
    "gene_annot['gene_id_abbr'] = gene_annot['gene_id'].apply(lambda x: x.split('.')[0])\n",
    "gene_annot = gene_annot.set_index('gene_id_abbr')\n",
    "\n",
    "gene_lengths_base = (gene_annot['end'] - gene_annot['start'])\n",
    "print(gene_lengths_base.head())"
   ]
  },
  {
   "cell_type": "code",
   "execution_count": null,
   "metadata": {},
   "outputs": [],
   "source": [
    "# dataset and config\n",
    "if not os.path.isdir(DST_ROOT_DIR):\n",
    "    os.makedirs(DST_ROOT_DIR)\n",
    "\n",
    "logging.info(\"Prep data...\")\n",
    "for (mod, clst), df_sub in df_info.groupby(['modality', first_round_cluster_col]):\n",
    "    if mod in mods_selected:\n",
    "        print(mod, clst)\n",
    "        ti = time.time()\n",
    "        normalization_option = normalization_options[mod]\n",
    "\n",
    "        _cells = df_sub.index.values\n",
    "        dst_dir = os.path.join(DST_ROOT_DIR, \"sub\"+str(clst)) # directory name\n",
    "        if not os.path.isdir(dst_dir):\n",
    "            os.makedirs(dst_dir)\n",
    "            src = os.path.join(DATA_DIR, '__init__datasets.py') \n",
    "            dst = os.path.join(dst_dir, '__init__datasets.py') \n",
    "            shutil.copyfile(src, dst)\n",
    "\n",
    "        # meta and save meta\n",
    "        meta_f_dst = meta_f.format(dst_dir, mod)\n",
    "        meta = metas[mod].loc[_cells]\n",
    "        meta.to_csv(meta_f_dst, sep=\"\\t\", header=True, index=True)\n",
    "\n",
    "        if settings[mod].mod_category == 'mc':\n",
    "            # split raw data\n",
    "            _cell_idx = snmcseq_utils.get_index_from_array(gxc_raws[mod].cell, _cells)\n",
    "            gxc_raw = GC_matrix(\n",
    "                gxc_raws[mod].gene,\n",
    "                gxc_raws[mod].cell[_cell_idx],\n",
    "                {'mc': gxc_raws[mod].data['mc'].tocsc()[:, _cell_idx],\n",
    "                 'c': gxc_raws[mod].data['c'].tocsc()[:, _cell_idx],\n",
    "                },\n",
    "            )\n",
    "            # check meta cells agree with gxc cells\n",
    "            assert np.all(meta.index.values == gxc_raw.cell)\n",
    "            # check genes are uniq \n",
    "            assert len(gxc_raw.gene) == len(np.unique(gxc_raw.gene)) \n",
    "            \n",
    "            # get hvftrs\n",
    "            gxc_hvftr = CEMBA_preproc_utils.preproc_methylation(gxc_raw, meta,\n",
    "                                                                global_value_col=settings[mod].global_mean, \n",
    "                                                                base_call_cutoff=20, \n",
    "                                                                sufficient_coverage_fraction=0.95,\n",
    "                                                                hv_percentile=30,\n",
    "                                                                n_qcut=10,\n",
    "                                                               )\n",
    "\n",
    "            # save data\n",
    "            print(mod, \"Saving to files {}\".format(time.time()-ti))\n",
    "            f_data = hvftr_f.format(dst_dir, mod, 'tsv') \n",
    "            gxc_hvftr.to_csv(f_data, sep=\"\\t\", index=True, header=True)\n",
    "            logging.info(\"{} {} Total time used: {}\".format(mod, clst, time.time()-ti))\n",
    "            \n",
    "        else:\n",
    "            # split raw data\n",
    "            _cell_idx = snmcseq_utils.get_index_from_array(gxc_raws[mod].cell, _cells)\n",
    "            gxc_raw = GC_matrix(\n",
    "                gxc_raws[mod].gene,\n",
    "                gxc_raws[mod].cell[_cell_idx],\n",
    "                gxc_raws[mod].data.tocsc()[:, _cell_idx],\n",
    "            )\n",
    "            # check meta cells agree with gxc cells\n",
    "            assert np.all(meta.index.values == gxc_raw.cell)\n",
    "            # check genes are uniq \n",
    "            assert len(gxc_raw.gene) == len(np.unique(gxc_raw.gene)) \n",
    "\n",
    "            # get hvftrs\n",
    "            print(mod, \"Preproc and get highly variable genes {}\".format(time.time()-ti))\n",
    "            if normalization_option == 'CPM':\n",
    "                gxc_hvftr = CEMBA_preproc_utils.preproc_rna_cpm_based(\n",
    "                                                 gxc_raw, \n",
    "                                                 sufficient_cell_coverage=0.01, \n",
    "                                                 hv_percentile=30, hv_ncut=10)\n",
    "            elif normalization_option == 'TPM':\n",
    "                gene_lengths = gene_lengths_base.reindex(gxc_raw.gene)\n",
    "                gxc_hvftr = CEMBA_preproc_utils.preproc_rna_tpm_based(\n",
    "                                                 gxc_raw, gene_lengths, impute_gene_lengths=True, \n",
    "                                                 sufficient_cell_coverage=0.01, \n",
    "                                                 hv_percentile=30, hv_ncut=10)\n",
    "                \n",
    "            # save data\n",
    "            print(mod, \"Saving to files {}\".format(time.time()-ti))\n",
    "            f_gene = hvftr_f.format(dst_dir, mod, 'gene') \n",
    "            f_cell = hvftr_f.format(dst_dir, mod, 'cell') \n",
    "            f_data = hvftr_f.format(dst_dir, mod, 'npz') \n",
    "            snmcseq_utils.save_gc_matrix(gxc_hvftr, f_gene, f_cell, f_data)\n",
    "            logging.info(\"{} {} Total time used: {}\".format(mod, clst, time.time()-ti))\n",
    "\n",
    "    \n",
    "    "
   ]
  },
  {
   "cell_type": "code",
   "execution_count": null,
   "metadata": {},
   "outputs": [],
   "source": []
  }
 ],
 "metadata": {
  "kernelspec": {
   "display_name": "Python 3",
   "language": "python",
   "name": "python3"
  },
  "language_info": {
   "codemirror_mode": {
    "name": "ipython",
    "version": 3
   },
   "file_extension": ".py",
   "mimetype": "text/x-python",
   "name": "python",
   "nbconvert_exporter": "python",
   "pygments_lexer": "ipython3",
   "version": "3.6.6"
  }
 },
 "nbformat": 4,
 "nbformat_minor": 2
}
