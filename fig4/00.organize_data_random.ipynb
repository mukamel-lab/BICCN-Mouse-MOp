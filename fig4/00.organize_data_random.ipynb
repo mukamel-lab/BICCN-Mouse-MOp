{
 "cells": [
  {
   "cell_type": "code",
   "execution_count": 28,
   "metadata": {},
   "outputs": [],
   "source": [
    "import sys\n",
    "sys.path.insert(0, '/cndd/fangming/CEMBA/snmcseq_dev')\n",
    "from scipy import sparse\n",
    "# import scipy\n",
    "from scipy import io\n",
    "\n",
    "from __init__ import *\n",
    "from __init__jupyterlab import *\n",
    "import snmcseq_utils"
   ]
  },
  {
   "cell_type": "markdown",
   "metadata": {},
   "source": [
    "# obsolete"
   ]
  },
  {
   "cell_type": "code",
   "execution_count": 34,
   "metadata": {},
   "outputs": [
    {
     "name": "stdout",
     "output_type": "stream",
     "text": [
      "(5705, 11)\n"
     ]
    },
    {
     "data": {
      "text/html": [
       "<div>\n",
       "<style scoped>\n",
       "    .dataframe tbody tr th:only-of-type {\n",
       "        vertical-align: middle;\n",
       "    }\n",
       "\n",
       "    .dataframe tbody tr th {\n",
       "        vertical-align: top;\n",
       "    }\n",
       "\n",
       "    .dataframe thead th {\n",
       "        text-align: right;\n",
       "    }\n",
       "</style>\n",
       "<table border=\"1\" class=\"dataframe\">\n",
       "  <thead>\n",
       "    <tr style=\"text-align: right;\">\n",
       "      <th></th>\n",
       "      <th>sample</th>\n",
       "      <th>barcode</th>\n",
       "      <th>TN</th>\n",
       "      <th>UM</th>\n",
       "      <th>PP</th>\n",
       "      <th>UQ</th>\n",
       "      <th>CM</th>\n",
       "      <th>_cluster</th>\n",
       "      <th>umap-1</th>\n",
       "      <th>umap-2</th>\n",
       "      <th>sub_cluster</th>\n",
       "    </tr>\n",
       "    <tr>\n",
       "      <th>cell</th>\n",
       "      <th></th>\n",
       "      <th></th>\n",
       "      <th></th>\n",
       "      <th></th>\n",
       "      <th></th>\n",
       "      <th></th>\n",
       "      <th></th>\n",
       "      <th></th>\n",
       "      <th></th>\n",
       "      <th></th>\n",
       "      <th></th>\n",
       "    </tr>\n",
       "  </thead>\n",
       "  <tbody>\n",
       "    <tr>\n",
       "      <th>CEMBA171206_3C_AGCGATAGAACCAGGTGAAGTATGTATAGCCT</th>\n",
       "      <td>CEMBA171206_3C</td>\n",
       "      <td>AGCGATAGAACCAGGTGAAGTATGTATAGCCT</td>\n",
       "      <td>52904</td>\n",
       "      <td>49474</td>\n",
       "      <td>49364</td>\n",
       "      <td>24614</td>\n",
       "      <td>0</td>\n",
       "      <td>2</td>\n",
       "      <td>-0.426713</td>\n",
       "      <td>-4.466674</td>\n",
       "      <td>Pv_Ntf3_Trim63</td>\n",
       "    </tr>\n",
       "    <tr>\n",
       "      <th>CEMBA171206_3C_AGCGATAGACGAATCTAAGAGATGGTACTGAC</th>\n",
       "      <td>CEMBA171206_3C</td>\n",
       "      <td>AGCGATAGACGAATCTAAGAGATGGTACTGAC</td>\n",
       "      <td>65352</td>\n",
       "      <td>60790</td>\n",
       "      <td>60609</td>\n",
       "      <td>30481</td>\n",
       "      <td>0</td>\n",
       "      <td>2</td>\n",
       "      <td>0.161533</td>\n",
       "      <td>-4.580548</td>\n",
       "      <td>Pv_Ntf3_Trim63</td>\n",
       "    </tr>\n",
       "    <tr>\n",
       "      <th>CEMBA171206_3C_AGCGATAGACTCGCTACGTCTAATATAGAGGC</th>\n",
       "      <td>CEMBA171206_3C</td>\n",
       "      <td>AGCGATAGACTCGCTACGTCTAATATAGAGGC</td>\n",
       "      <td>7315</td>\n",
       "      <td>6834</td>\n",
       "      <td>6803</td>\n",
       "      <td>4880</td>\n",
       "      <td>0</td>\n",
       "      <td>2</td>\n",
       "      <td>1.241950</td>\n",
       "      <td>-1.790411</td>\n",
       "      <td>Pv_Ntf3_Trim63</td>\n",
       "    </tr>\n",
       "    <tr>\n",
       "      <th>CEMBA171206_3C_AGCGATAGACTCGCTATTATGCGACAGGACGT</th>\n",
       "      <td>CEMBA171206_3C</td>\n",
       "      <td>AGCGATAGACTCGCTATTATGCGACAGGACGT</td>\n",
       "      <td>65302</td>\n",
       "      <td>60670</td>\n",
       "      <td>60597</td>\n",
       "      <td>42345</td>\n",
       "      <td>0</td>\n",
       "      <td>2</td>\n",
       "      <td>0.809860</td>\n",
       "      <td>-4.553258</td>\n",
       "      <td>Pv_Ntf3_Trim63</td>\n",
       "    </tr>\n",
       "    <tr>\n",
       "      <th>CEMBA171206_3C_AGCGATAGACTGAGCGGTAAGGAGTATAGCCT</th>\n",
       "      <td>CEMBA171206_3C</td>\n",
       "      <td>AGCGATAGACTGAGCGGTAAGGAGTATAGCCT</td>\n",
       "      <td>13158</td>\n",
       "      <td>12206</td>\n",
       "      <td>12175</td>\n",
       "      <td>8994</td>\n",
       "      <td>0</td>\n",
       "      <td>2</td>\n",
       "      <td>2.855697</td>\n",
       "      <td>-0.951777</td>\n",
       "      <td>Pv_Ntf3_Trim63</td>\n",
       "    </tr>\n",
       "  </tbody>\n",
       "</table>\n",
       "</div>"
      ],
      "text/plain": [
       "                                                         sample  \\\n",
       "cell                                                              \n",
       "CEMBA171206_3C_AGCGATAGAACCAGGTGAAGTATGTATAGCCT  CEMBA171206_3C   \n",
       "CEMBA171206_3C_AGCGATAGACGAATCTAAGAGATGGTACTGAC  CEMBA171206_3C   \n",
       "CEMBA171206_3C_AGCGATAGACTCGCTACGTCTAATATAGAGGC  CEMBA171206_3C   \n",
       "CEMBA171206_3C_AGCGATAGACTCGCTATTATGCGACAGGACGT  CEMBA171206_3C   \n",
       "CEMBA171206_3C_AGCGATAGACTGAGCGGTAAGGAGTATAGCCT  CEMBA171206_3C   \n",
       "\n",
       "                                                                          barcode  \\\n",
       "cell                                                                                \n",
       "CEMBA171206_3C_AGCGATAGAACCAGGTGAAGTATGTATAGCCT  AGCGATAGAACCAGGTGAAGTATGTATAGCCT   \n",
       "CEMBA171206_3C_AGCGATAGACGAATCTAAGAGATGGTACTGAC  AGCGATAGACGAATCTAAGAGATGGTACTGAC   \n",
       "CEMBA171206_3C_AGCGATAGACTCGCTACGTCTAATATAGAGGC  AGCGATAGACTCGCTACGTCTAATATAGAGGC   \n",
       "CEMBA171206_3C_AGCGATAGACTCGCTATTATGCGACAGGACGT  AGCGATAGACTCGCTATTATGCGACAGGACGT   \n",
       "CEMBA171206_3C_AGCGATAGACTGAGCGGTAAGGAGTATAGCCT  AGCGATAGACTGAGCGGTAAGGAGTATAGCCT   \n",
       "\n",
       "                                                    TN     UM     PP     UQ  \\\n",
       "cell                                                                          \n",
       "CEMBA171206_3C_AGCGATAGAACCAGGTGAAGTATGTATAGCCT  52904  49474  49364  24614   \n",
       "CEMBA171206_3C_AGCGATAGACGAATCTAAGAGATGGTACTGAC  65352  60790  60609  30481   \n",
       "CEMBA171206_3C_AGCGATAGACTCGCTACGTCTAATATAGAGGC   7315   6834   6803   4880   \n",
       "CEMBA171206_3C_AGCGATAGACTCGCTATTATGCGACAGGACGT  65302  60670  60597  42345   \n",
       "CEMBA171206_3C_AGCGATAGACTGAGCGGTAAGGAGTATAGCCT  13158  12206  12175   8994   \n",
       "\n",
       "                                                 CM  _cluster    umap-1  \\\n",
       "cell                                                                      \n",
       "CEMBA171206_3C_AGCGATAGAACCAGGTGAAGTATGTATAGCCT   0         2 -0.426713   \n",
       "CEMBA171206_3C_AGCGATAGACGAATCTAAGAGATGGTACTGAC   0         2  0.161533   \n",
       "CEMBA171206_3C_AGCGATAGACTCGCTACGTCTAATATAGAGGC   0         2  1.241950   \n",
       "CEMBA171206_3C_AGCGATAGACTCGCTATTATGCGACAGGACGT   0         2  0.809860   \n",
       "CEMBA171206_3C_AGCGATAGACTGAGCGGTAAGGAGTATAGCCT   0         2  2.855697   \n",
       "\n",
       "                                                   umap-2     sub_cluster  \n",
       "cell                                                                       \n",
       "CEMBA171206_3C_AGCGATAGAACCAGGTGAAGTATGTATAGCCT -4.466674  Pv_Ntf3_Trim63  \n",
       "CEMBA171206_3C_AGCGATAGACGAATCTAAGAGATGGTACTGAC -4.580548  Pv_Ntf3_Trim63  \n",
       "CEMBA171206_3C_AGCGATAGACTCGCTACGTCTAATATAGAGGC -1.790411  Pv_Ntf3_Trim63  \n",
       "CEMBA171206_3C_AGCGATAGACTCGCTATTATGCGACAGGACGT -4.553258  Pv_Ntf3_Trim63  \n",
       "CEMBA171206_3C_AGCGATAGACTGAGCGGTAAGGAGTATAGCCT -0.951777  Pv_Ntf3_Trim63  "
      ]
     },
     "execution_count": 34,
     "metadata": {},
     "output_type": "execute_result"
    }
   ],
   "source": [
    "f = '/cndd/Public_Datasets/CEMBA/BICCN_minibrain_data/data_freeze/snmc_and_snatac/study/atac/yang_analysis_20190912/MOp.GABAergic.MGE.cluster.meta.txt'\n",
    "df = pd.read_csv(f, sep='\\t').rename(columns={'x.sp@sample': 'sample', \n",
    "                                              'x.sp@cluster': '_cluster', \n",
    "                                             })\n",
    "df['cell'] = df['sample'] + '_' + df['barcode']\n",
    "\n",
    "f = '/cndd/Public_Datasets/CEMBA/BICCN_minibrain_data/data_freeze/snmc_and_snatac/study/atac/yang_analysis_20190912/MOp.GABAergic.MGE.cluster.anno.txt'\n",
    "df_anno = pd.read_csv(f, sep='\\t').rename(columns={'cluster': '_cluster', \n",
    "                                                   'anno': 'sub_cluster', \n",
    "                                                })\n",
    "df = pd.merge(df, df_anno, on='_cluster')\n",
    "df = df.set_index('cell')\n",
    "\n",
    "print(df.shape)\n",
    "df.head()\n"
   ]
  },
  {
   "cell_type": "code",
   "execution_count": 38,
   "metadata": {},
   "outputs": [
    {
     "name": "stdout",
     "output_type": "stream",
     "text": [
      "7\n"
     ]
    }
   ],
   "source": [
    "print(len(df['sub_cluster'].unique()))"
   ]
  },
  {
   "cell_type": "code",
   "execution_count": 32,
   "metadata": {},
   "outputs": [
    {
     "name": "stdout",
     "output_type": "stream",
     "text": [
      "33\n",
      "33\n",
      "(81196, 13)\n"
     ]
    },
    {
     "data": {
      "text/html": [
       "<div>\n",
       "<style scoped>\n",
       "    .dataframe tbody tr th:only-of-type {\n",
       "        vertical-align: middle;\n",
       "    }\n",
       "\n",
       "    .dataframe tbody tr th {\n",
       "        vertical-align: top;\n",
       "    }\n",
       "\n",
       "    .dataframe thead th {\n",
       "        text-align: right;\n",
       "    }\n",
       "</style>\n",
       "<table border=\"1\" class=\"dataframe\">\n",
       "  <thead>\n",
       "    <tr style=\"text-align: right;\">\n",
       "      <th></th>\n",
       "      <th>sample</th>\n",
       "      <th>barcode</th>\n",
       "      <th>TN</th>\n",
       "      <th>UM</th>\n",
       "      <th>PP</th>\n",
       "      <th>UQ</th>\n",
       "      <th>CM</th>\n",
       "      <th>cluster</th>\n",
       "      <th>tsne1</th>\n",
       "      <th>tsne2</th>\n",
       "      <th>umap-1</th>\n",
       "      <th>umap-2</th>\n",
       "      <th>sub_cluster</th>\n",
       "    </tr>\n",
       "    <tr>\n",
       "      <th>cell</th>\n",
       "      <th></th>\n",
       "      <th></th>\n",
       "      <th></th>\n",
       "      <th></th>\n",
       "      <th></th>\n",
       "      <th></th>\n",
       "      <th></th>\n",
       "      <th></th>\n",
       "      <th></th>\n",
       "      <th></th>\n",
       "      <th></th>\n",
       "      <th></th>\n",
       "      <th></th>\n",
       "    </tr>\n",
       "  </thead>\n",
       "  <tbody>\n",
       "    <tr>\n",
       "      <th>CEMBA171206_3C_AGCGATAGAACCAGGTAAGAGATGTATAGCCT</th>\n",
       "      <td>CEMBA171206_3C</td>\n",
       "      <td>AGCGATAGAACCAGGTAAGAGATGTATAGCCT</td>\n",
       "      <td>138330</td>\n",
       "      <td>128263</td>\n",
       "      <td>128039</td>\n",
       "      <td>64868</td>\n",
       "      <td>0</td>\n",
       "      <td>L6.CT</td>\n",
       "      <td>7.605117</td>\n",
       "      <td>0.697672</td>\n",
       "      <td>-2.125204</td>\n",
       "      <td>-4.396653</td>\n",
       "      <td>L6.CT</td>\n",
       "    </tr>\n",
       "    <tr>\n",
       "      <th>CEMBA171206_3C_AGCGATAGAACCAGGTAATGACGTCAGGACGT</th>\n",
       "      <td>CEMBA171206_3C</td>\n",
       "      <td>AGCGATAGAACCAGGTAATGACGTCAGGACGT</td>\n",
       "      <td>159133</td>\n",
       "      <td>146663</td>\n",
       "      <td>146348</td>\n",
       "      <td>69167</td>\n",
       "      <td>0</td>\n",
       "      <td>L23.b</td>\n",
       "      <td>-9.492925</td>\n",
       "      <td>-6.200938</td>\n",
       "      <td>8.959074</td>\n",
       "      <td>3.006819</td>\n",
       "      <td>L23.b</td>\n",
       "    </tr>\n",
       "    <tr>\n",
       "      <th>CEMBA171206_3C_AGCGATAGAACCAGGTAGGATAACATAGAGGC</th>\n",
       "      <td>CEMBA171206_3C</td>\n",
       "      <td>AGCGATAGAACCAGGTAGGATAACATAGAGGC</td>\n",
       "      <td>19152</td>\n",
       "      <td>17586</td>\n",
       "      <td>17545</td>\n",
       "      <td>8348</td>\n",
       "      <td>0</td>\n",
       "      <td>ASC</td>\n",
       "      <td>14.227358</td>\n",
       "      <td>-11.023748</td>\n",
       "      <td>-6.880754</td>\n",
       "      <td>-2.903271</td>\n",
       "      <td>ASC</td>\n",
       "    </tr>\n",
       "    <tr>\n",
       "      <th>CEMBA171206_3C_AGCGATAGAACCAGGTATAGCCTTAGGCGAAG</th>\n",
       "      <td>CEMBA171206_3C</td>\n",
       "      <td>AGCGATAGAACCAGGTATAGCCTTAGGCGAAG</td>\n",
       "      <td>14876</td>\n",
       "      <td>13837</td>\n",
       "      <td>13801</td>\n",
       "      <td>6583</td>\n",
       "      <td>0</td>\n",
       "      <td>L6.CT</td>\n",
       "      <td>5.144768</td>\n",
       "      <td>4.790674</td>\n",
       "      <td>-0.955707</td>\n",
       "      <td>-4.635163</td>\n",
       "      <td>L6.CT</td>\n",
       "    </tr>\n",
       "    <tr>\n",
       "      <th>CEMBA171206_3C_AGCGATAGAACCAGGTATAGCCTTATAGAGGC</th>\n",
       "      <td>CEMBA171206_3C</td>\n",
       "      <td>AGCGATAGAACCAGGTATAGCCTTATAGAGGC</td>\n",
       "      <td>28532</td>\n",
       "      <td>26303</td>\n",
       "      <td>26202</td>\n",
       "      <td>12437</td>\n",
       "      <td>0</td>\n",
       "      <td>L5.IT.b</td>\n",
       "      <td>5.218895</td>\n",
       "      <td>-8.674734</td>\n",
       "      <td>0.796851</td>\n",
       "      <td>4.447933</td>\n",
       "      <td>L5.IT.b</td>\n",
       "    </tr>\n",
       "  </tbody>\n",
       "</table>\n",
       "</div>"
      ],
      "text/plain": [
       "                                                         sample  \\\n",
       "cell                                                              \n",
       "CEMBA171206_3C_AGCGATAGAACCAGGTAAGAGATGTATAGCCT  CEMBA171206_3C   \n",
       "CEMBA171206_3C_AGCGATAGAACCAGGTAATGACGTCAGGACGT  CEMBA171206_3C   \n",
       "CEMBA171206_3C_AGCGATAGAACCAGGTAGGATAACATAGAGGC  CEMBA171206_3C   \n",
       "CEMBA171206_3C_AGCGATAGAACCAGGTATAGCCTTAGGCGAAG  CEMBA171206_3C   \n",
       "CEMBA171206_3C_AGCGATAGAACCAGGTATAGCCTTATAGAGGC  CEMBA171206_3C   \n",
       "\n",
       "                                                                          barcode  \\\n",
       "cell                                                                                \n",
       "CEMBA171206_3C_AGCGATAGAACCAGGTAAGAGATGTATAGCCT  AGCGATAGAACCAGGTAAGAGATGTATAGCCT   \n",
       "CEMBA171206_3C_AGCGATAGAACCAGGTAATGACGTCAGGACGT  AGCGATAGAACCAGGTAATGACGTCAGGACGT   \n",
       "CEMBA171206_3C_AGCGATAGAACCAGGTAGGATAACATAGAGGC  AGCGATAGAACCAGGTAGGATAACATAGAGGC   \n",
       "CEMBA171206_3C_AGCGATAGAACCAGGTATAGCCTTAGGCGAAG  AGCGATAGAACCAGGTATAGCCTTAGGCGAAG   \n",
       "CEMBA171206_3C_AGCGATAGAACCAGGTATAGCCTTATAGAGGC  AGCGATAGAACCAGGTATAGCCTTATAGAGGC   \n",
       "\n",
       "                                                     TN      UM      PP  \\\n",
       "cell                                                                      \n",
       "CEMBA171206_3C_AGCGATAGAACCAGGTAAGAGATGTATAGCCT  138330  128263  128039   \n",
       "CEMBA171206_3C_AGCGATAGAACCAGGTAATGACGTCAGGACGT  159133  146663  146348   \n",
       "CEMBA171206_3C_AGCGATAGAACCAGGTAGGATAACATAGAGGC   19152   17586   17545   \n",
       "CEMBA171206_3C_AGCGATAGAACCAGGTATAGCCTTAGGCGAAG   14876   13837   13801   \n",
       "CEMBA171206_3C_AGCGATAGAACCAGGTATAGCCTTATAGAGGC   28532   26303   26202   \n",
       "\n",
       "                                                    UQ  CM  cluster  \\\n",
       "cell                                                                  \n",
       "CEMBA171206_3C_AGCGATAGAACCAGGTAAGAGATGTATAGCCT  64868   0    L6.CT   \n",
       "CEMBA171206_3C_AGCGATAGAACCAGGTAATGACGTCAGGACGT  69167   0    L23.b   \n",
       "CEMBA171206_3C_AGCGATAGAACCAGGTAGGATAACATAGAGGC   8348   0      ASC   \n",
       "CEMBA171206_3C_AGCGATAGAACCAGGTATAGCCTTAGGCGAAG   6583   0    L6.CT   \n",
       "CEMBA171206_3C_AGCGATAGAACCAGGTATAGCCTTATAGAGGC  12437   0  L5.IT.b   \n",
       "\n",
       "                                                     tsne1      tsne2  \\\n",
       "cell                                                                    \n",
       "CEMBA171206_3C_AGCGATAGAACCAGGTAAGAGATGTATAGCCT   7.605117   0.697672   \n",
       "CEMBA171206_3C_AGCGATAGAACCAGGTAATGACGTCAGGACGT  -9.492925  -6.200938   \n",
       "CEMBA171206_3C_AGCGATAGAACCAGGTAGGATAACATAGAGGC  14.227358 -11.023748   \n",
       "CEMBA171206_3C_AGCGATAGAACCAGGTATAGCCTTAGGCGAAG   5.144768   4.790674   \n",
       "CEMBA171206_3C_AGCGATAGAACCAGGTATAGCCTTATAGAGGC   5.218895  -8.674734   \n",
       "\n",
       "                                                   umap-1    umap-2  \\\n",
       "cell                                                                  \n",
       "CEMBA171206_3C_AGCGATAGAACCAGGTAAGAGATGTATAGCCT -2.125204 -4.396653   \n",
       "CEMBA171206_3C_AGCGATAGAACCAGGTAATGACGTCAGGACGT  8.959074  3.006819   \n",
       "CEMBA171206_3C_AGCGATAGAACCAGGTAGGATAACATAGAGGC -6.880754 -2.903271   \n",
       "CEMBA171206_3C_AGCGATAGAACCAGGTATAGCCTTAGGCGAAG -0.955707 -4.635163   \n",
       "CEMBA171206_3C_AGCGATAGAACCAGGTATAGCCTTATAGAGGC  0.796851  4.447933   \n",
       "\n",
       "                                                sub_cluster  \n",
       "cell                                                         \n",
       "CEMBA171206_3C_AGCGATAGAACCAGGTAAGAGATGTATAGCCT       L6.CT  \n",
       "CEMBA171206_3C_AGCGATAGAACCAGGTAATGACGTCAGGACGT       L23.b  \n",
       "CEMBA171206_3C_AGCGATAGAACCAGGTAGGATAACATAGAGGC         ASC  \n",
       "CEMBA171206_3C_AGCGATAGAACCAGGTATAGCCTTAGGCGAAG       L6.CT  \n",
       "CEMBA171206_3C_AGCGATAGAACCAGGTATAGCCTTATAGAGGC     L5.IT.b  "
      ]
     },
     "execution_count": 32,
     "metadata": {},
     "output_type": "execute_result"
    }
   ],
   "source": [
    "f = '/cndd/fangming/CEMBA/data/MOp_all/data_freeze_formatted/snatac_gene_metadata.tsv'\n",
    "meta = pd.read_csv(f, sep='\\t', index_col=0)\n",
    "meta['sub_cluster'] = meta['cluster']\n",
    "meta.update(df[['sub_cluster']])\n",
    "\n",
    "print(len(meta['cluster'].unique()))\n",
    "print(len(meta['sub_cluster'].unique()))\n",
    "print(meta.shape)\n",
    "meta.head()"
   ]
  },
  {
   "cell_type": "code",
   "execution_count": 39,
   "metadata": {},
   "outputs": [],
   "source": [
    "meta.update(df[['sub_cluster']])"
   ]
  },
  {
   "cell_type": "code",
   "execution_count": 37,
   "metadata": {},
   "outputs": [
    {
     "data": {
      "text/html": [
       "<div>\n",
       "<style scoped>\n",
       "    .dataframe tbody tr th:only-of-type {\n",
       "        vertical-align: middle;\n",
       "    }\n",
       "\n",
       "    .dataframe tbody tr th {\n",
       "        vertical-align: top;\n",
       "    }\n",
       "\n",
       "    .dataframe thead th {\n",
       "        text-align: right;\n",
       "    }\n",
       "</style>\n",
       "<table border=\"1\" class=\"dataframe\">\n",
       "  <thead>\n",
       "    <tr style=\"text-align: right;\">\n",
       "      <th></th>\n",
       "      <th>sub_cluster</th>\n",
       "    </tr>\n",
       "    <tr>\n",
       "      <th>cell</th>\n",
       "      <th></th>\n",
       "    </tr>\n",
       "  </thead>\n",
       "  <tbody>\n",
       "    <tr>\n",
       "      <th>CEMBA171206_3C_AGCGATAGAACCAGGTGAAGTATGTATAGCCT</th>\n",
       "      <td>Pv_Ntf3_Trim63</td>\n",
       "    </tr>\n",
       "    <tr>\n",
       "      <th>CEMBA171206_3C_AGCGATAGACGAATCTAAGAGATGGTACTGAC</th>\n",
       "      <td>Pv_Ntf3_Trim63</td>\n",
       "    </tr>\n",
       "    <tr>\n",
       "      <th>CEMBA171206_3C_AGCGATAGACTCGCTACGTCTAATATAGAGGC</th>\n",
       "      <td>Pv_Ntf3_Trim63</td>\n",
       "    </tr>\n",
       "    <tr>\n",
       "      <th>CEMBA171206_3C_AGCGATAGACTCGCTATTATGCGACAGGACGT</th>\n",
       "      <td>Pv_Ntf3_Trim63</td>\n",
       "    </tr>\n",
       "    <tr>\n",
       "      <th>CEMBA171206_3C_AGCGATAGACTGAGCGGTAAGGAGTATAGCCT</th>\n",
       "      <td>Pv_Ntf3_Trim63</td>\n",
       "    </tr>\n",
       "  </tbody>\n",
       "</table>\n",
       "</div>"
      ],
      "text/plain": [
       "                                                    sub_cluster\n",
       "cell                                                           \n",
       "CEMBA171206_3C_AGCGATAGAACCAGGTGAAGTATGTATAGCCT  Pv_Ntf3_Trim63\n",
       "CEMBA171206_3C_AGCGATAGACGAATCTAAGAGATGGTACTGAC  Pv_Ntf3_Trim63\n",
       "CEMBA171206_3C_AGCGATAGACTCGCTACGTCTAATATAGAGGC  Pv_Ntf3_Trim63\n",
       "CEMBA171206_3C_AGCGATAGACTCGCTATTATGCGACAGGACGT  Pv_Ntf3_Trim63\n",
       "CEMBA171206_3C_AGCGATAGACTGAGCGGTAAGGAGTATAGCCT  Pv_Ntf3_Trim63"
      ]
     },
     "execution_count": 37,
     "metadata": {},
     "output_type": "execute_result"
    }
   ],
   "source": [
    "df[['sub_cluster']].head()"
   ]
  },
  {
   "cell_type": "markdown",
   "metadata": {},
   "source": [
    "# atac-2kb "
   ]
  },
  {
   "cell_type": "code",
   "execution_count": 5,
   "metadata": {},
   "outputs": [
    {
     "name": "stdout",
     "output_type": "stream",
     "text": [
      "(135665, 53342)\n"
     ]
    },
    {
     "data": {
      "text/plain": [
       "<135665x53342 sparse matrix of type '<class 'numpy.int64'>'\n",
       "\twith 298801663 stored elements in COOrdinate format>"
      ]
     },
     "execution_count": 5,
     "metadata": {},
     "output_type": "execute_result"
    }
   ],
   "source": [
    "f = '/cndd/fangming/CEMBA/scripts/from_wayne/run_process_snapATAC/run/snap_files_analyzed/count.mm'\n",
    "mat = io.mmread(f)\n",
    "print(mat.shape)\n",
    "mat"
   ]
  },
  {
   "cell_type": "code",
   "execution_count": 24,
   "metadata": {},
   "outputs": [
    {
     "name": "stdout",
     "output_type": "stream",
     "text": [
      "(53342,)\n"
     ]
    },
    {
     "data": {
      "text/plain": [
       "array(['ENSMUSG00000102693', 'ENSMUSG00000064842', 'ENSMUSG00000051951',\n",
       "       ..., 'ENSMUSG00000096768', 'ENSMUSG00000099871',\n",
       "       'ENSMUSG00000096850'], dtype='<U18')"
      ]
     },
     "execution_count": 24,
     "metadata": {},
     "output_type": "execute_result"
    }
   ],
   "source": [
    "f = '/cndd/fangming/CEMBA/scripts/from_wayne/run_process_snapATAC/run/snap_files_analyzed/count.gene'\n",
    "genes = pd.read_csv(f)['x'].values\n",
    "genes = np.array([gene.split('.')[0] for gene in genes])\n",
    "print(genes.shape)\n",
    "genes"
   ]
  },
  {
   "cell_type": "code",
   "execution_count": 16,
   "metadata": {},
   "outputs": [
    {
     "name": "stdout",
     "output_type": "stream",
     "text": [
      "(135665,)\n"
     ]
    },
    {
     "data": {
      "text/plain": [
       "array(['AGCGATAGAACCAGGTAAGAGATGATAGAGGC',\n",
       "       'AGCGATAGAACCAGGTAAGAGATGTATAGCCT',\n",
       "       'AGCGATAGAACCAGGTAATGACGTCAGGACGT', ...,\n",
       "       'TCCGGAGATTCCATCCTATAGCCTCGAATTCC',\n",
       "       'TCCGGAGATTCCATCCTATAGCCTTAAGATCC',\n",
       "       'TCCGGAGATTCCATCCTATAGCCTTTGGAAGT'], dtype=object)"
      ]
     },
     "execution_count": 16,
     "metadata": {},
     "output_type": "execute_result"
    }
   ],
   "source": [
    "f = '/cndd/fangming/CEMBA/scripts/from_wayne/run_process_snapATAC/run/snap_files_analyzed/count.barcode'\n",
    "cells = pd.read_csv(f)['x'].values\n",
    "print(cells.shape)\n",
    "cells"
   ]
  },
  {
   "cell_type": "code",
   "execution_count": 23,
   "metadata": {},
   "outputs": [
    {
     "name": "stdout",
     "output_type": "stream",
     "text": [
      "(135665,)\n"
     ]
    },
    {
     "data": {
      "text/plain": [
       "array(['CEMBA171206_3C', 'CEMBA171206_3C', 'CEMBA171206_3C', ...,\n",
       "       'CEMBA180618_5D', 'CEMBA180618_5D', 'CEMBA180618_5D'], dtype='<U14')"
      ]
     },
     "execution_count": 23,
     "metadata": {},
     "output_type": "execute_result"
    }
   ],
   "source": [
    "f = '/cndd/fangming/CEMBA/scripts/from_wayne/run_process_snapATAC/run/snap_files_analyzed/count.sample'\n",
    "samples = pd.read_csv(f)['x'].values\n",
    "samples = np.array([sample.split('/')[-1].split('.')[0] for sample in samples])\n",
    "print(samples.shape)\n",
    "samples"
   ]
  },
  {
   "cell_type": "code",
   "execution_count": 35,
   "metadata": {},
   "outputs": [
    {
     "name": "stdout",
     "output_type": "stream",
     "text": [
      "(135665,)\n"
     ]
    },
    {
     "data": {
      "text/plain": [
       "array(['snatac_gene_CEMBA171206_3C_AGCGATAGAACCAGGTAAGAGATGATAGAGGC',\n",
       "       'snatac_gene_CEMBA171206_3C_AGCGATAGAACCAGGTAAGAGATGTATAGCCT',\n",
       "       'snatac_gene_CEMBA171206_3C_AGCGATAGAACCAGGTAATGACGTCAGGACGT', ...,\n",
       "       'snatac_gene_CEMBA180618_5D_TCCGGAGATTCCATCCTATAGCCTCGAATTCC',\n",
       "       'snatac_gene_CEMBA180618_5D_TCCGGAGATTCCATCCTATAGCCTTAAGATCC',\n",
       "       'snatac_gene_CEMBA180618_5D_TCCGGAGATTCCATCCTATAGCCTTTGGAAGT'],\n",
       "      dtype='<U59')"
      ]
     },
     "execution_count": 35,
     "metadata": {},
     "output_type": "execute_result"
    }
   ],
   "source": [
    "barcodes = np.array(['snatac_gene_'+sample+'_'+cell for sample, cell in zip(samples, cells)])\n",
    "print(barcodes.shape)\n",
    "barcodes"
   ]
  },
  {
   "cell_type": "code",
   "execution_count": 36,
   "metadata": {},
   "outputs": [
    {
     "data": {
      "text/plain": [
       "GC_matrix(gene=array(['ENSMUSG00000102693', 'ENSMUSG00000064842', 'ENSMUSG00000051951',\n",
       "       ..., 'ENSMUSG00000096768', 'ENSMUSG00000099871',\n",
       "       'ENSMUSG00000096850'], dtype='<U18'), cell=array(['snatac_gene_CEMBA171206_3C_AGCGATAGAACCAGGTAAGAGATGATAGAGGC',\n",
       "       'snatac_gene_CEMBA171206_3C_AGCGATAGAACCAGGTAAGAGATGTATAGCCT',\n",
       "       'snatac_gene_CEMBA171206_3C_AGCGATAGAACCAGGTAATGACGTCAGGACGT', ...,\n",
       "       'snatac_gene_CEMBA180618_5D_TCCGGAGATTCCATCCTATAGCCTCGAATTCC',\n",
       "       'snatac_gene_CEMBA180618_5D_TCCGGAGATTCCATCCTATAGCCTTAAGATCC',\n",
       "       'snatac_gene_CEMBA180618_5D_TCCGGAGATTCCATCCTATAGCCTTTGGAAGT'],\n",
       "      dtype='<U59'), data=<53342x135665 sparse matrix of type '<class 'numpy.int64'>'\n",
       "\twith 298801663 stored elements in COOrdinate format>)"
      ]
     },
     "execution_count": 36,
     "metadata": {},
     "output_type": "execute_result"
    }
   ],
   "source": [
    "gc_mat = GC_matrix(genes, barcodes, mat.T)\n",
    "gc_mat"
   ]
  },
  {
   "cell_type": "code",
   "execution_count": 37,
   "metadata": {},
   "outputs": [],
   "source": [
    "f_gene = '/cndd/fangming/CEMBA/scripts/from_wayne/run_process_snapATAC/run/snap_files_analyzed/raw.gene'\n",
    "f_cell = '/cndd/fangming/CEMBA/scripts/from_wayne/run_process_snapATAC/run/snap_files_analyzed/raw.cell'\n",
    "f_mat = '/cndd/fangming/CEMBA/scripts/from_wayne/run_process_snapATAC/run/snap_files_analyzed/raw.npz'\n",
    "snmcseq_utils.save_gc_matrix(gc_mat, f_gene, f_cell, f_mat)"
   ]
  },
  {
   "cell_type": "markdown",
   "metadata": {},
   "source": [
    "##  get neuronal cells\n",
    "- and save file  \n",
    "- and get hvfeatures"
   ]
  },
  {
   "cell_type": "code",
   "execution_count": 38,
   "metadata": {},
   "outputs": [],
   "source": [
    "f_gene = '/cndd/fangming/CEMBA/scripts/from_wayne/run_process_snapATAC/run/snap_files_analyzed/count.gene'\n",
    "f_cell = '/cndd/fangming/CEMBA/scripts/from_wayne/run_process_snapATAC/run/snap_files_analyzed/count.cell'\n",
    "f_mat = '/cndd/fangming/CEMBA/scripts/from_wayne/run_process_snapATAC/run/snap_files_analyzed/count.npz'\n",
    "gc_mat = snmcseq_utils.load_gc_matrix(f_gene, f_cell, f_mat)"
   ]
  },
  {
   "cell_type": "code",
   "execution_count": 39,
   "metadata": {},
   "outputs": [
    {
     "name": "stdout",
     "output_type": "stream",
     "text": [
      "(54844, 13)\n"
     ]
    },
    {
     "data": {
      "text/html": [
       "<div>\n",
       "<style scoped>\n",
       "    .dataframe tbody tr th:only-of-type {\n",
       "        vertical-align: middle;\n",
       "    }\n",
       "\n",
       "    .dataframe tbody tr th {\n",
       "        vertical-align: top;\n",
       "    }\n",
       "\n",
       "    .dataframe thead th {\n",
       "        text-align: right;\n",
       "    }\n",
       "</style>\n",
       "<table border=\"1\" class=\"dataframe\">\n",
       "  <thead>\n",
       "    <tr style=\"text-align: right;\">\n",
       "      <th></th>\n",
       "      <th>cell</th>\n",
       "      <th>sample</th>\n",
       "      <th>barcode</th>\n",
       "      <th>TN</th>\n",
       "      <th>UM</th>\n",
       "      <th>PP</th>\n",
       "      <th>UQ</th>\n",
       "      <th>CM</th>\n",
       "      <th>cluster</th>\n",
       "      <th>tsne1</th>\n",
       "      <th>tsne2</th>\n",
       "      <th>umap-1</th>\n",
       "      <th>umap-2</th>\n",
       "    </tr>\n",
       "  </thead>\n",
       "  <tbody>\n",
       "    <tr>\n",
       "      <th>0</th>\n",
       "      <td>snatac_gene_CEMBA171206_3C_AGCGATAGAACCAGGTAAG...</td>\n",
       "      <td>CEMBA171206_3C</td>\n",
       "      <td>AGCGATAGAACCAGGTAAGAGATGTATAGCCT</td>\n",
       "      <td>138330</td>\n",
       "      <td>128263</td>\n",
       "      <td>128039</td>\n",
       "      <td>64868</td>\n",
       "      <td>0</td>\n",
       "      <td>L6.CT</td>\n",
       "      <td>7.605117</td>\n",
       "      <td>0.697672</td>\n",
       "      <td>-2.125204</td>\n",
       "      <td>-4.396653</td>\n",
       "    </tr>\n",
       "    <tr>\n",
       "      <th>1</th>\n",
       "      <td>snatac_gene_CEMBA171206_3C_AGCGATAGAACCAGGTAAT...</td>\n",
       "      <td>CEMBA171206_3C</td>\n",
       "      <td>AGCGATAGAACCAGGTAATGACGTCAGGACGT</td>\n",
       "      <td>159133</td>\n",
       "      <td>146663</td>\n",
       "      <td>146348</td>\n",
       "      <td>69167</td>\n",
       "      <td>0</td>\n",
       "      <td>L23.b</td>\n",
       "      <td>-9.492925</td>\n",
       "      <td>-6.200938</td>\n",
       "      <td>8.959074</td>\n",
       "      <td>3.006819</td>\n",
       "    </tr>\n",
       "    <tr>\n",
       "      <th>2</th>\n",
       "      <td>snatac_gene_CEMBA171206_3C_AGCGATAGAACCAGGTATA...</td>\n",
       "      <td>CEMBA171206_3C</td>\n",
       "      <td>AGCGATAGAACCAGGTATAGCCTTAGGCGAAG</td>\n",
       "      <td>14876</td>\n",
       "      <td>13837</td>\n",
       "      <td>13801</td>\n",
       "      <td>6583</td>\n",
       "      <td>0</td>\n",
       "      <td>L6.CT</td>\n",
       "      <td>5.144768</td>\n",
       "      <td>4.790674</td>\n",
       "      <td>-0.955707</td>\n",
       "      <td>-4.635163</td>\n",
       "    </tr>\n",
       "    <tr>\n",
       "      <th>3</th>\n",
       "      <td>snatac_gene_CEMBA171206_3C_AGCGATAGAACCAGGTATA...</td>\n",
       "      <td>CEMBA171206_3C</td>\n",
       "      <td>AGCGATAGAACCAGGTATAGCCTTATAGAGGC</td>\n",
       "      <td>28532</td>\n",
       "      <td>26303</td>\n",
       "      <td>26202</td>\n",
       "      <td>12437</td>\n",
       "      <td>0</td>\n",
       "      <td>L5.IT.b</td>\n",
       "      <td>5.218895</td>\n",
       "      <td>-8.674734</td>\n",
       "      <td>0.796851</td>\n",
       "      <td>4.447933</td>\n",
       "    </tr>\n",
       "    <tr>\n",
       "      <th>4</th>\n",
       "      <td>snatac_gene_CEMBA171206_3C_AGCGATAGAACCAGGTATA...</td>\n",
       "      <td>CEMBA171206_3C</td>\n",
       "      <td>AGCGATAGAACCAGGTATAGCCTTGTACTGAC</td>\n",
       "      <td>46202</td>\n",
       "      <td>42880</td>\n",
       "      <td>42723</td>\n",
       "      <td>20345</td>\n",
       "      <td>0</td>\n",
       "      <td>L5.IT.b</td>\n",
       "      <td>3.450883</td>\n",
       "      <td>-9.979667</td>\n",
       "      <td>0.496689</td>\n",
       "      <td>4.395835</td>\n",
       "    </tr>\n",
       "  </tbody>\n",
       "</table>\n",
       "</div>"
      ],
      "text/plain": [
       "                                                cell          sample  \\\n",
       "0  snatac_gene_CEMBA171206_3C_AGCGATAGAACCAGGTAAG...  CEMBA171206_3C   \n",
       "1  snatac_gene_CEMBA171206_3C_AGCGATAGAACCAGGTAAT...  CEMBA171206_3C   \n",
       "2  snatac_gene_CEMBA171206_3C_AGCGATAGAACCAGGTATA...  CEMBA171206_3C   \n",
       "3  snatac_gene_CEMBA171206_3C_AGCGATAGAACCAGGTATA...  CEMBA171206_3C   \n",
       "4  snatac_gene_CEMBA171206_3C_AGCGATAGAACCAGGTATA...  CEMBA171206_3C   \n",
       "\n",
       "                            barcode      TN      UM      PP     UQ  CM  \\\n",
       "0  AGCGATAGAACCAGGTAAGAGATGTATAGCCT  138330  128263  128039  64868   0   \n",
       "1  AGCGATAGAACCAGGTAATGACGTCAGGACGT  159133  146663  146348  69167   0   \n",
       "2  AGCGATAGAACCAGGTATAGCCTTAGGCGAAG   14876   13837   13801   6583   0   \n",
       "3  AGCGATAGAACCAGGTATAGCCTTATAGAGGC   28532   26303   26202  12437   0   \n",
       "4  AGCGATAGAACCAGGTATAGCCTTGTACTGAC   46202   42880   42723  20345   0   \n",
       "\n",
       "   cluster     tsne1     tsne2    umap-1    umap-2  \n",
       "0    L6.CT  7.605117  0.697672 -2.125204 -4.396653  \n",
       "1    L23.b -9.492925 -6.200938  8.959074  3.006819  \n",
       "2    L6.CT  5.144768  4.790674 -0.955707 -4.635163  \n",
       "3  L5.IT.b  5.218895 -8.674734  0.796851  4.447933  \n",
       "4  L5.IT.b  3.450883 -9.979667  0.496689  4.395835  "
      ]
     },
     "execution_count": 39,
     "metadata": {},
     "output_type": "execute_result"
    }
   ],
   "source": [
    "f = '/cndd/fangming/CEMBA/data/MOp_all/data_freeze_neurons_v2/snatac_gene_metadata.tsv'\n",
    "meta = pd.read_csv(f, sep=\"\\t\")\n",
    "print(meta.shape)\n",
    "meta.head()"
   ]
  },
  {
   "cell_type": "code",
   "execution_count": 41,
   "metadata": {},
   "outputs": [
    {
     "data": {
      "text/plain": [
       "(135665,)"
      ]
     },
     "execution_count": 41,
     "metadata": {},
     "output_type": "execute_result"
    }
   ],
   "source": [
    "gc_mat.cell.shape"
   ]
  },
  {
   "cell_type": "code",
   "execution_count": 42,
   "metadata": {},
   "outputs": [],
   "source": [
    "selected_cells_idx = snmcseq_utils.get_index_from_array(gc_mat.cell, meta['cell'].values)\n",
    "assert np.all(selected_cells_idx != -1)\n"
   ]
  },
  {
   "cell_type": "code",
   "execution_count": 47,
   "metadata": {},
   "outputs": [],
   "source": [
    "gc_mat_update = GC_matrix(gc_mat.gene, \n",
    "                          gc_mat.cell[selected_cells_idx], \n",
    "                          gc_mat.data.tocsc()[:, selected_cells_idx]\n",
    "                         )"
   ]
  },
  {
   "cell_type": "code",
   "execution_count": 48,
   "metadata": {},
   "outputs": [],
   "source": [
    "data_dir = '/cndd/fangming/CEMBA/data/MOp_all/data_freeze_neurons_v2'\n",
    "f_gene = os.path.join(data_dir, 'snatac_gene_raw.gene')\n",
    "f_cell = os.path.join(data_dir, 'snatac_gene_raw.cell')\n",
    "f_mat = os.path.join(data_dir, 'snatac_gene_raw.npz')\n",
    "snmcseq_utils.save_gc_matrix(gc_mat_update, f_gene, f_cell, f_mat)"
   ]
  }
 ],
 "metadata": {
  "kernelspec": {
   "display_name": "Python 3",
   "language": "python",
   "name": "python3"
  },
  "language_info": {
   "codemirror_mode": {
    "name": "ipython",
    "version": 3
   },
   "file_extension": ".py",
   "mimetype": "text/x-python",
   "name": "python",
   "nbconvert_exporter": "python",
   "pygments_lexer": "ipython3",
   "version": "3.6.6"
  }
 },
 "nbformat": 4,
 "nbformat_minor": 2
}
