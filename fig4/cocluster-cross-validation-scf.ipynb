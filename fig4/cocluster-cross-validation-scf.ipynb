{
 "cells": [
  {
   "cell_type": "code",
   "execution_count": 26,
   "metadata": {},
   "outputs": [],
   "source": [
    "import sys\n",
    "sys.path.insert(0, '/cndd/fangming/CEMBA/snmcseq_dev')\n",
    "sys.path.insert(0, '/cndd/fangming/CEMBA/scripts/ClusterCrossValidation')\n",
    "import importlib\n",
    "\n",
    "\n",
    "from __init__ import *\n",
    "from __init__jupyterlab import *\n",
    "from scipy import sparse\n",
    "import collections\n",
    "import itertools\n",
    "import re\n",
    "import fbpca\n",
    "from sklearn.model_selection import KFold\n",
    "import pickle\n",
    "\n",
    "import snmcseq_utils\n",
    "importlib.reload(snmcseq_utils)\n",
    "import CEMBA_run_tsne\n",
    "import CEMBA_clst_utils\n",
    "import SCF_utils\n",
    "importlib.reload(SCF_utils)\n",
    "\n",
    "import cluster_cv_utils\n",
    "importlib.reload(cluster_cv_utils)\n",
    "from cluster_cv_utils import *\n"
   ]
  },
  {
   "cell_type": "markdown",
   "metadata": {},
   "source": [
    "# Configs  "
   ]
  },
  {
   "cell_type": "code",
   "execution_count": 27,
   "metadata": {},
   "outputs": [],
   "source": [
    "name = 'mop_cv_scf_3mods_190717'\n",
    "outdir = '/cndd/fangming/CEMBA/data/MOp_all/results'\n",
    "output_results = outdir + '/cross_validation_results_{}.pkl'.format(name)\n",
    "output_pcX_all = outdir + '/pcX_all_{}.npy'.format(name)\n",
    "output_cells_all = outdir + '/cells_all_{}.npy'.format(name)\n",
    "output_clst_and_umap = outdir + '/intg_summary_{}.tsv'.format(name)\n",
    "\n",
    "output_figures = outdir + '/figures/{}_{{}}.{{}}'.format(name)\n",
    "# SAVE_KNN_MAT = True\n",
    "# output_knn_mat = outdir + '/knn_{}_{{}}_from_{{}}.npz'.format(name)"
   ]
  },
  {
   "cell_type": "code",
   "execution_count": 28,
   "metadata": {},
   "outputs": [],
   "source": [
    "DATA_DIR = '/cndd/fangming/CEMBA/data/MOp_all/organized_neurons_v6'\n",
    "\n",
    "# fixed dataset configs\n",
    "sys.path.insert(0, DATA_DIR)\n",
    "import __init__datasets\n",
    "importlib.reload(__init__datasets)\n",
    "from __init__datasets import *\n",
    "\n",
    "meta_f = os.path.join(DATA_DIR, '{0}_metadata.tsv')\n",
    "hvftrs_f = os.path.join(DATA_DIR, '{0}_hvfeatures.{1}')\n",
    "hvftrs_gene = os.path.join(DATA_DIR, '{0}_hvfeatures.gene')\n",
    "hvftrs_cell = os.path.join(DATA_DIR, '{0}_hvfeatures.cell')"
   ]
  },
  {
   "cell_type": "code",
   "execution_count": 29,
   "metadata": {},
   "outputs": [],
   "source": [
    "mods_selected = [\n",
    "    'snmcseq_gene',\n",
    "#     'snatac_gene',\n",
    "    'smarter_cells',\n",
    "    'smarter_nuclei',\n",
    "#     '10x_cells', \n",
    "#     '10x_nuclei', \n",
    "#     '10x_cells_v3',\n",
    "#     '10x_nuclei_v3',\n",
    "#     '10x_nuclei_v3_Macosko',\n",
    "    ]\n",
    "\n",
    "# features_selected = ['10x_cells']\n",
    "features_selected = ['smarter_cells']\n",
    "# features_selected = ['snmcseq_gene']\n",
    "# check features\n",
    "for features_modality in features_selected:\n",
    "    assert (features_modality in mods_selected)\n",
    "\n",
    "# within modality\n",
    "ps = {'mc': 0.9,\n",
    "      'atac': 0.1,\n",
    "      'rna': 0.7,\n",
    "     }\n",
    "drop_npcs = {'mc': 0,\n",
    "      'atac': 0,\n",
    "      'rna': 0,\n",
    "     }\n",
    "\n",
    "# across modality\n",
    "cross_mod_distance_measure = 'correlation' # cca\n",
    "knn = 20 \n",
    "relaxation = 3\n",
    "n_cca = 30\n",
    "\n",
    "# PCA\n",
    "npc = 50\n",
    "\n",
    "# clustering\n",
    "k = 30\n",
    "resolutions = [0.8, 1, 2, 4]\n",
    "# umap\n",
    "umap_neighbors = 60\n",
    "min_dist=min_dist = 0.5"
   ]
  },
  {
   "cell_type": "markdown",
   "metadata": {},
   "source": [
    "## Read in data "
   ]
  },
  {
   "cell_type": "code",
   "execution_count": 20,
   "metadata": {},
   "outputs": [
    {
     "name": "stderr",
     "output_type": "stream",
     "text": [
      "07/17/2019 05:52:10 PM *\n"
     ]
    }
   ],
   "source": [
    "log = snmcseq_utils.create_logger()\n",
    "logging.info('*')"
   ]
  },
  {
   "cell_type": "code",
   "execution_count": 21,
   "metadata": {},
   "outputs": [],
   "source": [
    "# gene chrom lookup\n",
    "chroms = np.arange(1, 20, 1).tolist() + ['X']\n",
    "chroms = ['chr'+str(chrom) for chrom in chroms]\n",
    "\n",
    "f = PATH_GENEBODY_ANNOTATION\n",
    "df_genes = pd.read_csv(f, sep=\"\\t\")\n",
    "gene_chrom_lookup = (df_genes[df_genes['chr'].isin(chroms)]\n",
    "                            .groupby('gene_name').first()['chr']\n",
    "                            .replace('chrX', 'chr20')\n",
    "                            .apply(lambda x: int(x[3:]))\n",
    "                   ) # 1:20"
   ]
  },
  {
   "cell_type": "code",
   "execution_count": 22,
   "metadata": {},
   "outputs": [
    {
     "name": "stdout",
     "output_type": "stream",
     "text": [
      "snmcseq_gene (4936, 38)\n",
      "smarter_cells (6244, 11)\n",
      "smarter_nuclei (5911, 11)\n"
     ]
    }
   ],
   "source": [
    "metas = collections.OrderedDict()\n",
    "for mod in mods_selected:\n",
    "    metas[mod] = pd.read_csv(meta_f.format(mod), sep=\"\\t\").reset_index().set_index(settings[mod].cell_col)\n",
    "    print(mod, metas[mod].shape)"
   ]
  },
  {
   "cell_type": "code",
   "execution_count": 23,
   "metadata": {},
   "outputs": [
    {
     "name": "stdout",
     "output_type": "stream",
     "text": [
      "snmcseq_gene\n",
      "(4830, 4936) 7.250509023666382\n",
      "smarter_cells\n",
      "(4176, 6244) 1.0634779930114746\n",
      "smarter_nuclei\n",
      "(3809, 5911) 0.5174520015716553\n"
     ]
    }
   ],
   "source": [
    "gxc_hvftrs = collections.OrderedDict()\n",
    "for mod in mods_selected:\n",
    "    print(mod)\n",
    "    ti = time.time()\n",
    "    \n",
    "    if settings[mod].mod_category == 'mc':\n",
    "        f_mat = hvftrs_f.format(mod, 'tsv')\n",
    "        gxc_hvftrs[mod] = pd.read_csv(f_mat, sep='\\t', header=0, index_col=0) \n",
    "        gxc_hvftrs[mod].index = SCF_utils.standardize_gene_name(gxc_hvftrs[mod].index)  # standardize gene name \n",
    "        print(gxc_hvftrs[mod].shape, time.time()-ti)\n",
    "        assert np.all(gxc_hvftrs[mod].columns.values == metas[mod].index.values) # make sure cell name is in the sanme order as metas (important if save knn mat)\n",
    "        continue\n",
    "        \n",
    "        \n",
    "    f_mat = hvftrs_f.format(mod, 'npz')\n",
    "    f_gene = hvftrs_gene.format(mod)\n",
    "    f_cell = hvftrs_cell.format(mod)\n",
    "    _gxc_tmp = snmcseq_utils.load_gc_matrix(f_gene, f_cell, f_mat)\n",
    "    _gene = _gxc_tmp.gene\n",
    "    _cell = _gxc_tmp.cell\n",
    "    _mat = _gxc_tmp.data\n",
    "\n",
    "    _gene = SCF_utils.standardize_gene_name(_gene)  # standardize gene name  \n",
    "    \n",
    "#     ## remove duplicated genes (for now)\n",
    "#     u, c = np.unique(_gene, return_counts=True)\n",
    "#     dup = u[c > 1]\n",
    "#     uniq_bool = np.array([False if gene in dup else True for gene in _gene])\n",
    "#     _gene_selected = _gene[uniq_bool]\n",
    "#     _gene_selected_idx = np.arange(len(_gene))[uniq_bool]\n",
    "#     _gene = _gene_selected\n",
    "#     _mat = _mat.tocsr()[_gene_selected_idx, :]\n",
    "#     ## remove duplicated genes complete\n",
    "    \n",
    "    gxc_hvftrs[mod] = GC_matrix(_gene, _cell, _mat)\n",
    "    assert np.all(gxc_hvftrs[mod].cell == metas[mod].index.values) # make sure cell name is in the sanme order as metas (important if save knn mat)\n",
    "    print(gxc_hvftrs[mod].data.shape, time.time()-ti)\n",
    "    "
   ]
  },
  {
   "cell_type": "code",
   "execution_count": 24,
   "metadata": {},
   "outputs": [],
   "source": [
    "# subsample cells\n",
    "p = 1\n",
    "\n",
    "if p < 1:\n",
    "    metas_sub, gxc_hvftrs_sub = subsampling(mods_selected, metas, gxc_hvftrs, p)\n",
    "else:\n",
    "    metas_sub = metas\n",
    "    gxc_hvftrs_sub = gxc_hvftrs"
   ]
  },
  {
   "cell_type": "code",
   "execution_count": null,
   "metadata": {},
   "outputs": [
    {
     "name": "stderr",
     "output_type": "stream",
     "text": [
      "07/17/2019 06:02:40 PM Cluster chrom: [14 13 17 12  3  6  4 10 18  9], feature chrom [15  5 16 20  7  1  8  2 19 11]\n",
      "07/17/2019 06:02:40 PM Finish split snmcseq_gene: (4830, 4936) -> (1955, 4936) (2244, 4936)\n",
      "07/17/2019 06:02:40 PM Finish split smarter_cells: (4176, 6244) -> (1607, 6244) (2075, 6244)\n",
      "07/17/2019 06:02:40 PM Finish split smarter_nuclei: (3809, 5911) -> (1485, 5911) (1809, 5911)\n",
      "07/17/2019 06:02:40 PM Smoothing within modalities...\n"
     ]
    },
    {
     "name": "stdout",
     "output_type": "stream",
     "text": [
      "1955 2244\n",
      "1607 2075\n",
      "1485 1809\n",
      "Time used to build kNN map 0.08341097831726074\n",
      "Time used to get kNN 0.17536592483520508\n"
     ]
    },
    {
     "name": "stderr",
     "output_type": "stream",
     "text": [
      "07/17/2019 06:02:41 PM snmcseq_gene: 0.7355468273162842\n"
     ]
    },
    {
     "name": "stdout",
     "output_type": "stream",
     "text": [
      "Time used to build kNN map 0.08128070831298828\n",
      "Time used to get kNN 0.22871184349060059\n"
     ]
    },
    {
     "name": "stderr",
     "output_type": "stream",
     "text": [
      "07/17/2019 06:02:42 PM smarter_cells: 0.8634719848632812\n"
     ]
    },
    {
     "name": "stdout",
     "output_type": "stream",
     "text": [
      "Time used to build kNN map 0.0773460865020752\n",
      "Time used to get kNN 0.23476815223693848\n"
     ]
    },
    {
     "name": "stderr",
     "output_type": "stream",
     "text": [
      "07/17/2019 06:02:42 PM smarter_nuclei: 0.8434624671936035\n",
      "07/17/2019 06:02:42 PM Constructing a joint matrix...\n",
      "07/17/2019 06:02:42 PM Imputing into smarter_cells space...\n",
      "07/17/2019 06:02:42 PM for snmcseq_gene cells...\n",
      "07/17/2019 06:02:51 PM for smarter_cells cells...\n",
      "07/17/2019 06:02:51 PM for smarter_nuclei cells...\n",
      "07/17/2019 06:03:02 PM Saved output to: /cndd/fangming/CEMBA/data/MOp_all/results/pcX_all_mop_cv_scf_3mods_190717.npy\n",
      "07/17/2019 06:03:02 PM Saved output to: /cndd/fangming/CEMBA/data/MOp_all/results/cells_all_mop_cv_scf_3mods_190717.npy\n",
      "07/17/2019 06:03:02 PM resolution r: 0.5\n",
      "07/17/2019 06:03:04 PM resolution r: 1\n",
      "07/17/2019 06:03:06 PM resolution r: 2\n",
      "07/17/2019 06:03:08 PM resolution r: 3\n",
      "07/17/2019 06:03:10 PM resolution r: 4\n",
      "07/17/2019 06:03:12 PM resolution r: 6\n",
      "07/17/2019 06:03:14 PM resolution r: 8\n",
      "07/17/2019 06:03:16 PM resolution r: 12\n",
      "07/17/2019 06:03:18 PM resolution r: 16\n",
      "07/17/2019 06:03:20 PM resolution r: 20\n"
     ]
    },
    {
     "name": "stdout",
     "output_type": "stream",
     "text": [
      "0.5...............1...............2...............3...............4...............6...............8...............12...............16...............20..............."
     ]
    },
    {
     "name": "stderr",
     "output_type": "stream",
     "text": [
      "07/17/2019 06:05:18 PM Cluster chrom: [15 10  3  9 17  1 16 12 11  4], feature chrom [13 20  7 19  5  2 14  6  8 18]\n",
      "07/17/2019 06:05:18 PM Finish split snmcseq_gene: (4830, 4936) -> (2195, 4936) (2004, 4936)\n",
      "07/17/2019 06:05:18 PM Finish split smarter_cells: (4176, 6244) -> (1840, 6244) (1842, 6244)\n",
      "07/17/2019 06:05:18 PM Finish split smarter_nuclei: (3809, 5911) -> (1686, 5911) (1608, 5911)\n",
      "07/17/2019 06:05:18 PM Smoothing within modalities...\n"
     ]
    },
    {
     "name": "stdout",
     "output_type": "stream",
     "text": [
      "2195 2004\n",
      "1840 1842\n",
      "1686 1608\n",
      "Time used to build kNN map 0.06617450714111328\n",
      "Time used to get kNN 0.17159318923950195\n"
     ]
    },
    {
     "name": "stderr",
     "output_type": "stream",
     "text": [
      "07/17/2019 06:05:19 PM snmcseq_gene: 0.7474477291107178\n"
     ]
    },
    {
     "name": "stdout",
     "output_type": "stream",
     "text": [
      "Time used to build kNN map 0.08189058303833008\n",
      "Time used to get kNN 0.22609448432922363\n"
     ]
    },
    {
     "name": "stderr",
     "output_type": "stream",
     "text": [
      "07/17/2019 06:05:20 PM smarter_cells: 0.9592962265014648\n"
     ]
    },
    {
     "name": "stdout",
     "output_type": "stream",
     "text": [
      "Time used to build kNN map 0.07778668403625488\n",
      "Time used to get kNN 0.23039007186889648\n"
     ]
    },
    {
     "name": "stderr",
     "output_type": "stream",
     "text": [
      "07/17/2019 06:05:21 PM smarter_nuclei: 0.9186699390411377\n",
      "07/17/2019 06:05:21 PM Constructing a joint matrix...\n",
      "07/17/2019 06:05:21 PM Imputing into smarter_cells space...\n",
      "07/17/2019 06:05:21 PM for snmcseq_gene cells...\n",
      "07/17/2019 06:05:29 PM for smarter_cells cells...\n",
      "07/17/2019 06:05:29 PM for smarter_nuclei cells...\n",
      "07/17/2019 06:05:41 PM Saved output to: /cndd/fangming/CEMBA/data/MOp_all/results/pcX_all_mop_cv_scf_3mods_190717.npy\n",
      "07/17/2019 06:05:41 PM Saved output to: /cndd/fangming/CEMBA/data/MOp_all/results/cells_all_mop_cv_scf_3mods_190717.npy\n",
      "07/17/2019 06:05:41 PM resolution r: 0.5\n",
      "07/17/2019 06:05:43 PM resolution r: 1\n",
      "07/17/2019 06:05:45 PM resolution r: 2\n",
      "07/17/2019 06:05:47 PM resolution r: 3\n",
      "07/17/2019 06:05:49 PM resolution r: 4\n",
      "07/17/2019 06:05:50 PM resolution r: 6\n",
      "07/17/2019 06:05:52 PM resolution r: 8\n",
      "07/17/2019 06:05:54 PM resolution r: 12\n",
      "07/17/2019 06:05:56 PM resolution r: 16\n",
      "07/17/2019 06:05:58 PM resolution r: 20\n"
     ]
    },
    {
     "name": "stdout",
     "output_type": "stream",
     "text": [
      "0.5...............1...............2...............3...............4...............6...............8...............12...............16...............20..............."
     ]
    },
    {
     "name": "stderr",
     "output_type": "stream",
     "text": [
      "07/17/2019 06:07:45 PM Cluster chrom: [ 7 11 19  1 12 13  4  8 16], feature chrom [ 6 17  3  5 15 20  9 10 18  2 14]\n",
      "07/17/2019 06:07:46 PM Finish split snmcseq_gene: (4830, 4936) -> (2104, 4936) (2095, 4936)\n",
      "07/17/2019 06:07:46 PM Finish split smarter_cells: (4176, 6244) -> (1738, 6244) (1944, 6244)\n",
      "07/17/2019 06:07:46 PM Finish split smarter_nuclei: (3809, 5911) -> (1525, 5911) (1769, 5911)\n",
      "07/17/2019 06:07:46 PM Smoothing within modalities...\n"
     ]
    },
    {
     "name": "stdout",
     "output_type": "stream",
     "text": [
      "2104 2095\n",
      "1738 1944\n",
      "1525 1769\n",
      "Time used to build kNN map 0.06631278991699219\n",
      "Time used to get kNN 0.21283197402954102\n"
     ]
    },
    {
     "name": "stderr",
     "output_type": "stream",
     "text": [
      "07/17/2019 06:07:46 PM snmcseq_gene: 0.7272567749023438\n"
     ]
    },
    {
     "name": "stdout",
     "output_type": "stream",
     "text": [
      "Time used to build kNN map 0.08158612251281738\n",
      "Time used to get kNN 0.22632789611816406\n"
     ]
    },
    {
     "name": "stderr",
     "output_type": "stream",
     "text": [
      "07/17/2019 06:07:47 PM smarter_cells: 0.910736083984375\n"
     ]
    },
    {
     "name": "stdout",
     "output_type": "stream",
     "text": [
      "Time used to build kNN map 0.07761025428771973\n",
      "Time used to get kNN 0.23528575897216797\n"
     ]
    },
    {
     "name": "stderr",
     "output_type": "stream",
     "text": [
      "07/17/2019 06:07:48 PM smarter_nuclei: 0.848609209060669\n",
      "07/17/2019 06:07:48 PM Constructing a joint matrix...\n",
      "07/17/2019 06:07:48 PM Imputing into smarter_cells space...\n",
      "07/17/2019 06:07:48 PM for snmcseq_gene cells...\n",
      "07/17/2019 06:07:57 PM for smarter_cells cells...\n",
      "07/17/2019 06:07:57 PM for smarter_nuclei cells...\n",
      "07/17/2019 06:08:08 PM Saved output to: /cndd/fangming/CEMBA/data/MOp_all/results/pcX_all_mop_cv_scf_3mods_190717.npy\n",
      "07/17/2019 06:08:08 PM Saved output to: /cndd/fangming/CEMBA/data/MOp_all/results/cells_all_mop_cv_scf_3mods_190717.npy\n",
      "07/17/2019 06:08:08 PM resolution r: 0.5\n",
      "07/17/2019 06:08:10 PM resolution r: 1\n",
      "07/17/2019 06:08:11 PM resolution r: 2\n",
      "07/17/2019 06:08:13 PM resolution r: 3\n",
      "07/17/2019 06:08:15 PM resolution r: 4\n",
      "07/17/2019 06:08:17 PM resolution r: 6\n",
      "07/17/2019 06:08:19 PM resolution r: 8\n",
      "07/17/2019 06:08:21 PM resolution r: 12\n",
      "07/17/2019 06:08:23 PM resolution r: 16\n",
      "07/17/2019 06:08:25 PM resolution r: 20\n"
     ]
    },
    {
     "name": "stdout",
     "output_type": "stream",
     "text": [
      "0.5...............1...............2...............3...............4...............6...............8............."
     ]
    }
   ],
   "source": [
    "resolutions = [0.5, 1, 2, 3, 4, 6, 8, 12, 16, 20]\n",
    "# resolutions = [0.5, 1, 2, 3, 4, 6, 8, 12, 16, 20, 30, 40, 60, 80, 100]\n",
    "(\n",
    " res_nclsts, res, \n",
    ") = nfoldcv_scf_random_features_split(gxc_hvftrs, resolutions, gene_chrom_lookup,\n",
    "                                      mods_selected, metas, \n",
    "                                      features_selected, settings, \n",
    "                                      ps, drop_npcs,\n",
    "                                      cross_mod_distance_measure, knn, relaxation, n_cca,\n",
    "                                      npc,\n",
    "                                      output_pcX_all, output_cells_all, output_clst_and_umap,\n",
    "                                      k=30, \n",
    "                                      reduce_dim=0,\n",
    "                                      nfolds=5, n_repeats=5, n_splits=5, split_frac=0.5)"
   ]
  },
  {
   "cell_type": "code",
   "execution_count": null,
   "metadata": {},
   "outputs": [],
   "source": [
    "# Saving the objects:\n",
    "with open(output_results, 'wb') as f: \n",
    "    pickle.dump((\n",
    "                 res_nclsts, \n",
    "                 res,\n",
    "                ), f)"
   ]
  },
  {
   "cell_type": "code",
   "execution_count": null,
   "metadata": {},
   "outputs": [],
   "source": [
    "# Getting back the objects:\n",
    "with open(output_results, 'rb') as f: \n",
    "    (res_nclsts, \n",
    "     res,\n",
    "    ) = pickle.load(f)"
   ]
  },
  {
   "cell_type": "code",
   "execution_count": null,
   "metadata": {},
   "outputs": [],
   "source": [
    "res_nclsts_summary = res_nclsts.groupby('resolution').agg({'nclsts': ['mean', 'std']})\n",
    "res_summary = res.groupby(['resolution', 'mod']).agg({'mse': ['mean', 'std'],\n",
    "                                                      'mse_t': ['mean', 'std'],\n",
    "                                                    })"
   ]
  },
  {
   "cell_type": "code",
   "execution_count": null,
   "metadata": {},
   "outputs": [],
   "source": [
    "output = output_figures.format('cluster_cv', 'pdf')\n",
    "\n",
    "n_folds = 5\n",
    "n = len(mods_selected)\n",
    "nx = 3\n",
    "ny = int((n+nx-1)/nx)\n",
    "scale = 1\n",
    "fig, axs = plt.subplots(ny, nx, figsize=(5*nx*scale,4*ny*scale), sharex=True, sharey=False)\n",
    "axs = axs.flatten()\n",
    "for i, (mod, ax) in enumerate(zip(mods_selected, axs)):\n",
    "    x = res_nclsts_summary['nclsts']['mean'].values\n",
    "    ys = res_summary.xs(mod, level='mod')\n",
    "    base_level = np.min(ys['mse']['mean'].values)\n",
    "    y, y_err = ys['mse']['mean'].values/base_level, (ys['mse']['std'].values/np.sqrt(n_folds))/base_level, \n",
    "    yt, yt_err = ys['mse_t']['mean'].values/base_level, (ys['mse_t']['std'].values/np.sqrt(n_folds))/base_level, \n",
    "    \n",
    "    if i % nx == 0:\n",
    "        ylabel = 'MSE +/- SEM\\n(normalized)'\n",
    "    else:\n",
    "        ylabel = ''\n",
    "    xlabel = ''\n",
    "    min_x_se, min_x, min_y = plot_bi_cv_subfig(ax, x, \n",
    "                                              y, y_err,\n",
    "                                              yt, yt_err,\n",
    "                                              settings[mod].color, mod, \n",
    "                                              xlabel=xlabel,\n",
    "                                              ylabel=ylabel\n",
    "                                             )\n",
    "    ax.yaxis.set_major_locator(mtick.MaxNLocator(4))\n",
    "\n",
    "fig.subplots_adjust(wspace=0.3, bottom=0.15)\n",
    "fig.text(0.5, 0, 'Number of clusters', ha='center', fontsize=15)\n",
    "fig.savefig(output, bbox_inches='tight')\n",
    "plt.show()"
   ]
  },
  {
   "cell_type": "code",
   "execution_count": null,
   "metadata": {},
   "outputs": [],
   "source": []
  }
 ],
 "metadata": {
  "kernelspec": {
   "display_name": "Python 3",
   "language": "python",
   "name": "python3"
  },
  "language_info": {
   "codemirror_mode": {
    "name": "ipython",
    "version": 3
   },
   "file_extension": ".py",
   "mimetype": "text/x-python",
   "name": "python",
   "nbconvert_exporter": "python",
   "pygments_lexer": "ipython3",
   "version": "3.6.4"
  }
 },
 "nbformat": 4,
 "nbformat_minor": 2
}
