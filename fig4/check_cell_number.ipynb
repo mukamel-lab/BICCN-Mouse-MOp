{
 "cells": [
  {
   "cell_type": "markdown",
   "metadata": {},
   "source": [
    "# Organize freezed data\n",
    "\n",
    "12/12/2019 Fangming Xie\n",
    "Check cell numbers\n",
    "\n",
    "\n",
    "Aug 22th, 2019\n",
    "Fangming Xie\n",
    "\n",
    "- use qc-ed data as input\n",
    "- select neurons only\n"
   ]
  },
  {
   "cell_type": "code",
   "execution_count": 1,
   "metadata": {},
   "outputs": [],
   "source": [
    "import sys\n",
    "sys.path.insert(0, '/cndd/fangming/CEMBA/snmcseq_dev')\n",
    "import importlib\n",
    "\n",
    "from __init__ import *\n",
    "from __init__jupyterlab import *\n",
    "import snmcseq_utils\n",
    "importlib.reload(snmcseq_utils)\n",
    "import CEMBA_clst_utils\n",
    "from scipy.io import mmread\n",
    "from scipy import sparse\n",
    "import time\n"
   ]
  },
  {
   "cell_type": "code",
   "execution_count": 2,
   "metadata": {},
   "outputs": [],
   "source": [
    "SRC_DIR = '/cndd/fangming/CEMBA/data/MOp_all/data_freeze_qc_cells'\n",
    "# DST_DIR = '/cndd/fangming/CEMBA/data/MOp_all/data_freeze_neurons'"
   ]
  },
  {
   "cell_type": "code",
   "execution_count": 3,
   "metadata": {},
   "outputs": [
    {
     "name": "stdout",
     "output_type": "stream",
     "text": [
      "(53379, 6)\n",
      "(53278, 6)\n"
     ]
    },
    {
     "data": {
      "text/html": [
       "<div>\n",
       "<style scoped>\n",
       "    .dataframe tbody tr th:only-of-type {\n",
       "        vertical-align: middle;\n",
       "    }\n",
       "\n",
       "    .dataframe tbody tr th {\n",
       "        vertical-align: top;\n",
       "    }\n",
       "\n",
       "    .dataframe thead th {\n",
       "        text-align: right;\n",
       "    }\n",
       "</style>\n",
       "<table border=\"1\" class=\"dataframe\">\n",
       "  <thead>\n",
       "    <tr style=\"text-align: right;\">\n",
       "      <th></th>\n",
       "      <th>gene_id</th>\n",
       "      <th>chr</th>\n",
       "      <th>start</th>\n",
       "      <th>end</th>\n",
       "      <th>strand</th>\n",
       "      <th>gene_type</th>\n",
       "    </tr>\n",
       "    <tr>\n",
       "      <th>gene_name</th>\n",
       "      <th></th>\n",
       "      <th></th>\n",
       "      <th></th>\n",
       "      <th></th>\n",
       "      <th></th>\n",
       "      <th></th>\n",
       "    </tr>\n",
       "  </thead>\n",
       "  <tbody>\n",
       "    <tr>\n",
       "      <th>0610005C13Rik</th>\n",
       "      <td>ENSMUSG00000109644</td>\n",
       "      <td>chr7</td>\n",
       "      <td>45567794</td>\n",
       "      <td>45575327</td>\n",
       "      <td>-</td>\n",
       "      <td>antisense_RNA</td>\n",
       "    </tr>\n",
       "    <tr>\n",
       "      <th>0610006L08Rik</th>\n",
       "      <td>ENSMUSG00000108652</td>\n",
       "      <td>chr7</td>\n",
       "      <td>74818818</td>\n",
       "      <td>74853813</td>\n",
       "      <td>-</td>\n",
       "      <td>lincRNA</td>\n",
       "    </tr>\n",
       "    <tr>\n",
       "      <th>0610009B22Rik</th>\n",
       "      <td>ENSMUSG00000007777</td>\n",
       "      <td>chr11</td>\n",
       "      <td>51685386</td>\n",
       "      <td>51688874</td>\n",
       "      <td>-</td>\n",
       "      <td>protein_coding</td>\n",
       "    </tr>\n",
       "    <tr>\n",
       "      <th>0610009E02Rik</th>\n",
       "      <td>ENSMUSG00000086714</td>\n",
       "      <td>chr2</td>\n",
       "      <td>26445696</td>\n",
       "      <td>26459390</td>\n",
       "      <td>+</td>\n",
       "      <td>processed_transcript</td>\n",
       "    </tr>\n",
       "    <tr>\n",
       "      <th>0610009L18Rik</th>\n",
       "      <td>ENSMUSG00000043644</td>\n",
       "      <td>chr11</td>\n",
       "      <td>120348678</td>\n",
       "      <td>120351190</td>\n",
       "      <td>+</td>\n",
       "      <td>bidirectional_promoter_lncRNA</td>\n",
       "    </tr>\n",
       "  </tbody>\n",
       "</table>\n",
       "</div>"
      ],
      "text/plain": [
       "                          gene_id    chr      start        end strand  \\\n",
       "gene_name                                                               \n",
       "0610005C13Rik  ENSMUSG00000109644   chr7   45567794   45575327      -   \n",
       "0610006L08Rik  ENSMUSG00000108652   chr7   74818818   74853813      -   \n",
       "0610009B22Rik  ENSMUSG00000007777  chr11   51685386   51688874      -   \n",
       "0610009E02Rik  ENSMUSG00000086714   chr2   26445696   26459390      +   \n",
       "0610009L18Rik  ENSMUSG00000043644  chr11  120348678  120351190      +   \n",
       "\n",
       "                                   gene_type  \n",
       "gene_name                                     \n",
       "0610005C13Rik                  antisense_RNA  \n",
       "0610006L08Rik                        lincRNA  \n",
       "0610009B22Rik                 protein_coding  \n",
       "0610009E02Rik           processed_transcript  \n",
       "0610009L18Rik  bidirectional_promoter_lncRNA  "
      ]
     },
     "execution_count": 3,
     "metadata": {},
     "output_type": "execute_result"
    }
   ],
   "source": [
    "f = PATH_GENEBODY_ANNOTATION \n",
    "df_genes = pd.read_csv(f, sep=\"\\t\")\n",
    "df_genes['gene_id'] = df_genes['gene_id'].apply(lambda x: x.split('.')[0])\n",
    "df_genes = df_genes.set_index('gene_id')\n",
    "df_genes_v2 = df_genes.reset_index().groupby('gene_name').first()\n",
    "print(df_genes.shape)\n",
    "df_genes.head()\n",
    "print(df_genes_v2.shape)\n",
    "df_genes_v2.head()"
   ]
  },
  {
   "cell_type": "markdown",
   "metadata": {},
   "source": [
    "### 10x_nuclei_v3_macosko \n",
    "- 2 metadata .csv\n",
    "- 1 data matrix in .rds format\n",
    "- concatenate male and female, get autosomo genes only"
   ]
  },
  {
   "cell_type": "code",
   "execution_count": 49,
   "metadata": {},
   "outputs": [
    {
     "name": "stdout",
     "output_type": "stream",
     "text": [
      "/cndd/fangming/CEMBA/data/MOp_all/data_freeze_qc_cells/10x_nuclei_v3_macosko_metadata.tsv\n",
      "/cndd/fangming/CEMBA/data/MOp_all/data_freeze_qc_cells/10x_nuclei_v3_macosko_raw.npz\n"
     ]
    }
   ],
   "source": [
    "dataset_name = '10x_nuclei_v3_macosko'\n",
    "\n",
    "f_meta = os.path.join(SRC_DIR, dataset_name+'_metadata.tsv') \n",
    "f_data = os.path.join(SRC_DIR, dataset_name+'_raw.npz') \n",
    "f_data_gene = os.path.join(SRC_DIR, dataset_name+'_raw.gene') \n",
    "f_data_cell = os.path.join(SRC_DIR, dataset_name+'_raw.cell') \n",
    "\n",
    "# fout_meta = os.path.join(DST_DIR, dataset_name+'_metadata.tsv') \n",
    "# fout_data = os.path.join(DST_DIR, dataset_name+'_raw.npz') \n",
    "# fout_data_gene = os.path.join(DST_DIR, dataset_name+'_raw.gene') \n",
    "# fout_data_cell = os.path.join(DST_DIR, dataset_name+'_raw.cell') \n",
    "\n",
    "print(f_meta)\n",
    "# print(fout_meta)\n",
    "print(f_data)\n",
    "# print(fout_data)"
   ]
  },
  {
   "cell_type": "code",
   "execution_count": 50,
   "metadata": {},
   "outputs": [
    {
     "name": "stdout",
     "output_type": "stream",
     "text": [
      "(159738, 18)\n"
     ]
    },
    {
     "data": {
      "text/html": [
       "<div>\n",
       "<style scoped>\n",
       "    .dataframe tbody tr th:only-of-type {\n",
       "        vertical-align: middle;\n",
       "    }\n",
       "\n",
       "    .dataframe tbody tr th {\n",
       "        vertical-align: top;\n",
       "    }\n",
       "\n",
       "    .dataframe thead th {\n",
       "        text-align: right;\n",
       "    }\n",
       "</style>\n",
       "<table border=\"1\" class=\"dataframe\">\n",
       "  <thead>\n",
       "    <tr style=\"text-align: right;\">\n",
       "      <th></th>\n",
       "      <th>cluster_id</th>\n",
       "      <th>QC</th>\n",
       "      <th>cluster_label</th>\n",
       "      <th>cluster_color</th>\n",
       "      <th>class_label</th>\n",
       "      <th>subclass_label</th>\n",
       "      <th>size</th>\n",
       "      <th>gene.counts</th>\n",
       "      <th>umi.counts</th>\n",
       "      <th>Broad.QC.doublet</th>\n",
       "      <th>Broad.QC.Mito</th>\n",
       "      <th>Broad.passQC</th>\n",
       "      <th>MALE</th>\n",
       "      <th>Comb.QC</th>\n",
       "      <th>cl</th>\n",
       "      <th>nUMI</th>\n",
       "      <th>nGene</th>\n",
       "      <th>sex</th>\n",
       "    </tr>\n",
       "  </thead>\n",
       "  <tbody>\n",
       "    <tr>\n",
       "      <th>10x_nuclei_v3_macosko_pBICCNsMMrMOpRMiM003d190318_AAACCCACACAAGCTT</th>\n",
       "      <td>90</td>\n",
       "      <td>1</td>\n",
       "      <td>Oligo Opalin_4</td>\n",
       "      <td>#474662</td>\n",
       "      <td>Non-Neuronal</td>\n",
       "      <td>Oligo</td>\n",
       "      <td>16566</td>\n",
       "      <td>1740.348364</td>\n",
       "      <td>3419.937704</td>\n",
       "      <td>0.06</td>\n",
       "      <td>0.0</td>\n",
       "      <td>0.94</td>\n",
       "      <td>0.487323</td>\n",
       "      <td>NaN</td>\n",
       "      <td>150</td>\n",
       "      <td>4859</td>\n",
       "      <td>2336</td>\n",
       "      <td>MALE</td>\n",
       "    </tr>\n",
       "    <tr>\n",
       "      <th>10x_nuclei_v3_macosko_pBICCNsMMrMOpRMiM003d190318_AAAGGATCAGACCGCT</th>\n",
       "      <td>90</td>\n",
       "      <td>19</td>\n",
       "      <td>Oligo Opalin_4</td>\n",
       "      <td>#474662</td>\n",
       "      <td>Non-Neuronal</td>\n",
       "      <td>Oligo</td>\n",
       "      <td>16566</td>\n",
       "      <td>1740.348364</td>\n",
       "      <td>3419.937704</td>\n",
       "      <td>0.06</td>\n",
       "      <td>0.0</td>\n",
       "      <td>0.94</td>\n",
       "      <td>0.487323</td>\n",
       "      <td>NaN</td>\n",
       "      <td>150</td>\n",
       "      <td>3172</td>\n",
       "      <td>1739</td>\n",
       "      <td>MALE</td>\n",
       "    </tr>\n",
       "    <tr>\n",
       "      <th>10x_nuclei_v3_macosko_pBICCNsMMrMOpRMiM003d190318_AAAGGATCATGGAACG</th>\n",
       "      <td>90</td>\n",
       "      <td>20</td>\n",
       "      <td>Oligo Opalin_4</td>\n",
       "      <td>#474662</td>\n",
       "      <td>Non-Neuronal</td>\n",
       "      <td>Oligo</td>\n",
       "      <td>16566</td>\n",
       "      <td>1740.348364</td>\n",
       "      <td>3419.937704</td>\n",
       "      <td>0.06</td>\n",
       "      <td>0.0</td>\n",
       "      <td>0.94</td>\n",
       "      <td>0.487323</td>\n",
       "      <td>NaN</td>\n",
       "      <td>150</td>\n",
       "      <td>6306</td>\n",
       "      <td>2760</td>\n",
       "      <td>MALE</td>\n",
       "    </tr>\n",
       "    <tr>\n",
       "      <th>10x_nuclei_v3_macosko_pBICCNsMMrMOpRMiM003d190318_AAAGGTAGTAATACCC</th>\n",
       "      <td>90</td>\n",
       "      <td>37</td>\n",
       "      <td>Oligo Opalin_4</td>\n",
       "      <td>#474662</td>\n",
       "      <td>Non-Neuronal</td>\n",
       "      <td>Oligo</td>\n",
       "      <td>16566</td>\n",
       "      <td>1740.348364</td>\n",
       "      <td>3419.937704</td>\n",
       "      <td>0.06</td>\n",
       "      <td>0.0</td>\n",
       "      <td>0.94</td>\n",
       "      <td>0.487323</td>\n",
       "      <td>NaN</td>\n",
       "      <td>150</td>\n",
       "      <td>3310</td>\n",
       "      <td>1806</td>\n",
       "      <td>MALE</td>\n",
       "    </tr>\n",
       "    <tr>\n",
       "      <th>10x_nuclei_v3_macosko_pBICCNsMMrMOpRMiM003d190318_AAAGTCCCAAGGTCAG</th>\n",
       "      <td>90</td>\n",
       "      <td>39</td>\n",
       "      <td>Oligo Opalin_4</td>\n",
       "      <td>#474662</td>\n",
       "      <td>Non-Neuronal</td>\n",
       "      <td>Oligo</td>\n",
       "      <td>16566</td>\n",
       "      <td>1740.348364</td>\n",
       "      <td>3419.937704</td>\n",
       "      <td>0.06</td>\n",
       "      <td>0.0</td>\n",
       "      <td>0.94</td>\n",
       "      <td>0.487323</td>\n",
       "      <td>NaN</td>\n",
       "      <td>150</td>\n",
       "      <td>2843</td>\n",
       "      <td>1543</td>\n",
       "      <td>MALE</td>\n",
       "    </tr>\n",
       "  </tbody>\n",
       "</table>\n",
       "</div>"
      ],
      "text/plain": [
       "                                                    cluster_id  QC  \\\n",
       "10x_nuclei_v3_macosko_pBICCNsMMrMOpRMiM003d1903...          90   1   \n",
       "10x_nuclei_v3_macosko_pBICCNsMMrMOpRMiM003d1903...          90  19   \n",
       "10x_nuclei_v3_macosko_pBICCNsMMrMOpRMiM003d1903...          90  20   \n",
       "10x_nuclei_v3_macosko_pBICCNsMMrMOpRMiM003d1903...          90  37   \n",
       "10x_nuclei_v3_macosko_pBICCNsMMrMOpRMiM003d1903...          90  39   \n",
       "\n",
       "                                                     cluster_label  \\\n",
       "10x_nuclei_v3_macosko_pBICCNsMMrMOpRMiM003d1903...  Oligo Opalin_4   \n",
       "10x_nuclei_v3_macosko_pBICCNsMMrMOpRMiM003d1903...  Oligo Opalin_4   \n",
       "10x_nuclei_v3_macosko_pBICCNsMMrMOpRMiM003d1903...  Oligo Opalin_4   \n",
       "10x_nuclei_v3_macosko_pBICCNsMMrMOpRMiM003d1903...  Oligo Opalin_4   \n",
       "10x_nuclei_v3_macosko_pBICCNsMMrMOpRMiM003d1903...  Oligo Opalin_4   \n",
       "\n",
       "                                                   cluster_color  \\\n",
       "10x_nuclei_v3_macosko_pBICCNsMMrMOpRMiM003d1903...       #474662   \n",
       "10x_nuclei_v3_macosko_pBICCNsMMrMOpRMiM003d1903...       #474662   \n",
       "10x_nuclei_v3_macosko_pBICCNsMMrMOpRMiM003d1903...       #474662   \n",
       "10x_nuclei_v3_macosko_pBICCNsMMrMOpRMiM003d1903...       #474662   \n",
       "10x_nuclei_v3_macosko_pBICCNsMMrMOpRMiM003d1903...       #474662   \n",
       "\n",
       "                                                     class_label  \\\n",
       "10x_nuclei_v3_macosko_pBICCNsMMrMOpRMiM003d1903...  Non-Neuronal   \n",
       "10x_nuclei_v3_macosko_pBICCNsMMrMOpRMiM003d1903...  Non-Neuronal   \n",
       "10x_nuclei_v3_macosko_pBICCNsMMrMOpRMiM003d1903...  Non-Neuronal   \n",
       "10x_nuclei_v3_macosko_pBICCNsMMrMOpRMiM003d1903...  Non-Neuronal   \n",
       "10x_nuclei_v3_macosko_pBICCNsMMrMOpRMiM003d1903...  Non-Neuronal   \n",
       "\n",
       "                                                   subclass_label   size  \\\n",
       "10x_nuclei_v3_macosko_pBICCNsMMrMOpRMiM003d1903...          Oligo  16566   \n",
       "10x_nuclei_v3_macosko_pBICCNsMMrMOpRMiM003d1903...          Oligo  16566   \n",
       "10x_nuclei_v3_macosko_pBICCNsMMrMOpRMiM003d1903...          Oligo  16566   \n",
       "10x_nuclei_v3_macosko_pBICCNsMMrMOpRMiM003d1903...          Oligo  16566   \n",
       "10x_nuclei_v3_macosko_pBICCNsMMrMOpRMiM003d1903...          Oligo  16566   \n",
       "\n",
       "                                                    gene.counts   umi.counts  \\\n",
       "10x_nuclei_v3_macosko_pBICCNsMMrMOpRMiM003d1903...  1740.348364  3419.937704   \n",
       "10x_nuclei_v3_macosko_pBICCNsMMrMOpRMiM003d1903...  1740.348364  3419.937704   \n",
       "10x_nuclei_v3_macosko_pBICCNsMMrMOpRMiM003d1903...  1740.348364  3419.937704   \n",
       "10x_nuclei_v3_macosko_pBICCNsMMrMOpRMiM003d1903...  1740.348364  3419.937704   \n",
       "10x_nuclei_v3_macosko_pBICCNsMMrMOpRMiM003d1903...  1740.348364  3419.937704   \n",
       "\n",
       "                                                    Broad.QC.doublet  \\\n",
       "10x_nuclei_v3_macosko_pBICCNsMMrMOpRMiM003d1903...              0.06   \n",
       "10x_nuclei_v3_macosko_pBICCNsMMrMOpRMiM003d1903...              0.06   \n",
       "10x_nuclei_v3_macosko_pBICCNsMMrMOpRMiM003d1903...              0.06   \n",
       "10x_nuclei_v3_macosko_pBICCNsMMrMOpRMiM003d1903...              0.06   \n",
       "10x_nuclei_v3_macosko_pBICCNsMMrMOpRMiM003d1903...              0.06   \n",
       "\n",
       "                                                    Broad.QC.Mito  \\\n",
       "10x_nuclei_v3_macosko_pBICCNsMMrMOpRMiM003d1903...            0.0   \n",
       "10x_nuclei_v3_macosko_pBICCNsMMrMOpRMiM003d1903...            0.0   \n",
       "10x_nuclei_v3_macosko_pBICCNsMMrMOpRMiM003d1903...            0.0   \n",
       "10x_nuclei_v3_macosko_pBICCNsMMrMOpRMiM003d1903...            0.0   \n",
       "10x_nuclei_v3_macosko_pBICCNsMMrMOpRMiM003d1903...            0.0   \n",
       "\n",
       "                                                    Broad.passQC      MALE  \\\n",
       "10x_nuclei_v3_macosko_pBICCNsMMrMOpRMiM003d1903...          0.94  0.487323   \n",
       "10x_nuclei_v3_macosko_pBICCNsMMrMOpRMiM003d1903...          0.94  0.487323   \n",
       "10x_nuclei_v3_macosko_pBICCNsMMrMOpRMiM003d1903...          0.94  0.487323   \n",
       "10x_nuclei_v3_macosko_pBICCNsMMrMOpRMiM003d1903...          0.94  0.487323   \n",
       "10x_nuclei_v3_macosko_pBICCNsMMrMOpRMiM003d1903...          0.94  0.487323   \n",
       "\n",
       "                                                    Comb.QC   cl  nUMI  nGene  \\\n",
       "10x_nuclei_v3_macosko_pBICCNsMMrMOpRMiM003d1903...      NaN  150  4859   2336   \n",
       "10x_nuclei_v3_macosko_pBICCNsMMrMOpRMiM003d1903...      NaN  150  3172   1739   \n",
       "10x_nuclei_v3_macosko_pBICCNsMMrMOpRMiM003d1903...      NaN  150  6306   2760   \n",
       "10x_nuclei_v3_macosko_pBICCNsMMrMOpRMiM003d1903...      NaN  150  3310   1806   \n",
       "10x_nuclei_v3_macosko_pBICCNsMMrMOpRMiM003d1903...      NaN  150  2843   1543   \n",
       "\n",
       "                                                     sex  \n",
       "10x_nuclei_v3_macosko_pBICCNsMMrMOpRMiM003d1903...  MALE  \n",
       "10x_nuclei_v3_macosko_pBICCNsMMrMOpRMiM003d1903...  MALE  \n",
       "10x_nuclei_v3_macosko_pBICCNsMMrMOpRMiM003d1903...  MALE  \n",
       "10x_nuclei_v3_macosko_pBICCNsMMrMOpRMiM003d1903...  MALE  \n",
       "10x_nuclei_v3_macosko_pBICCNsMMrMOpRMiM003d1903...  MALE  "
      ]
     },
     "execution_count": 50,
     "metadata": {},
     "output_type": "execute_result"
    }
   ],
   "source": [
    "meta = pd.read_csv(f_meta, sep=\"\\t\", index_col=0)\n",
    "print(meta.shape)\n",
    "meta.head()"
   ]
  },
  {
   "cell_type": "code",
   "execution_count": 6,
   "metadata": {},
   "outputs": [],
   "source": [
    "# gc_mat = snmcseq_utils.load_gc_matrix(f_data_gene, f_data_cell, f_data)\n",
    "# print(gc_mat.data.shape, gc_mat.gene.shape, gc_mat.cell.shape)"
   ]
  },
  {
   "cell_type": "code",
   "execution_count": 56,
   "metadata": {},
   "outputs": [
    {
     "name": "stdout",
     "output_type": "stream",
     "text": [
      "113\n",
      "76\n",
      "37\n"
     ]
    }
   ],
   "source": [
    "print(len(meta['cluster_id'].unique()))\n",
    "print(len(meta.loc[meta['class_label']!='Non-Neuronal', 'cluster_id'].unique()))\n",
    "print(len(meta.loc[meta['class_label']=='Non-Neuronal', 'cluster_id'].unique()))"
   ]
  },
  {
   "cell_type": "code",
   "execution_count": 7,
   "metadata": {},
   "outputs": [
    {
     "name": "stdout",
     "output_type": "stream",
     "text": [
      "class_label\n",
      "GABAergic        15924\n",
      "Glutamatergic    85723\n",
      "Non-Neuronal     58091\n",
      "dtype: int64\n",
      "(101647, 18)\n"
     ]
    }
   ],
   "source": [
    "# filter meta\n",
    "print(meta.groupby('class_label').size())\n",
    "meta = meta[meta['class_label']!='Non-Neuronal']\n",
    "print(meta.shape)"
   ]
  },
  {
   "cell_type": "code",
   "execution_count": 12,
   "metadata": {},
   "outputs": [],
   "source": [
    "# select cells\n",
    "\n",
    "selected_cells = meta.index.values\n",
    "selected_cells_id = snmcseq_utils.get_index_from_array(gc_mat.cell, selected_cells)\n",
    "assert np.all(selected_cells_id != -1)\n",
    "\n",
    "gc_mat_update = GC_matrix(gc_mat.gene, selected_cells, gc_mat.data.tocsc()[:, selected_cells_id])\n"
   ]
  },
  {
   "cell_type": "code",
   "execution_count": 13,
   "metadata": {},
   "outputs": [
    {
     "name": "stdout",
     "output_type": "stream",
     "text": [
      "449.6917836666107\n"
     ]
    }
   ],
   "source": [
    "# output\n",
    "# save \n",
    "ti = time.time()\n",
    "snmcseq_utils.save_gc_matrix(gc_mat_update, fout_data_gene, fout_data_cell, fout_data)\n",
    "print(time.time()-ti)"
   ]
  },
  {
   "cell_type": "code",
   "execution_count": 14,
   "metadata": {},
   "outputs": [],
   "source": [
    "# assemble metadata (keep order, add male and female)\n",
    "meta.index.name = 'cell'\n",
    "meta.to_csv(fout_meta, sep=\"\\t\", header=True, index=True)"
   ]
  },
  {
   "cell_type": "markdown",
   "metadata": {},
   "source": [
    "### 10x_nuclei_v3\n",
    "\n",
    "- gene_ids\n",
    "- all cells passed QC (QC.csv) metadata\n",
    "\n",
    "- all cells data\n",
    "- output"
   ]
  },
  {
   "cell_type": "code",
   "execution_count": 57,
   "metadata": {},
   "outputs": [
    {
     "name": "stdout",
     "output_type": "stream",
     "text": [
      "/cndd/fangming/CEMBA/data/MOp_all/data_freeze_qc_cells/10x_nuclei_v3_metadata.tsv\n"
     ]
    }
   ],
   "source": [
    "dataset_name = '10x_nuclei_v3'\n",
    "\n",
    "f_meta = os.path.join(SRC_DIR, dataset_name+'_metadata.tsv') \n",
    "f_data = os.path.join(SRC_DIR, dataset_name+'_raw.npz') \n",
    "f_data_gene = os.path.join(SRC_DIR, dataset_name+'_raw.gene') \n",
    "f_data_cell = os.path.join(SRC_DIR, dataset_name+'_raw.cell') \n",
    "\n",
    "# fout_meta = os.path.join(DST_DIR, dataset_name+'_metadata.tsv') \n",
    "# fout_data = os.path.join(DST_DIR, dataset_name+'_raw.npz') \n",
    "# fout_data_gene = os.path.join(DST_DIR, dataset_name+'_raw.gene') \n",
    "# fout_data_cell = os.path.join(DST_DIR, dataset_name+'_raw.cell') \n",
    "\n",
    "print(f_meta)\n",
    "# print(fout_meta)\n",
    "# print(f_data)\n",
    "# print(fout_data)"
   ]
  },
  {
   "cell_type": "code",
   "execution_count": 58,
   "metadata": {},
   "outputs": [
    {
     "name": "stdout",
     "output_type": "stream",
     "text": [
      "(40166, 7)\n"
     ]
    },
    {
     "data": {
      "text/html": [
       "<div>\n",
       "<style scoped>\n",
       "    .dataframe tbody tr th:only-of-type {\n",
       "        vertical-align: middle;\n",
       "    }\n",
       "\n",
       "    .dataframe tbody tr th {\n",
       "        vertical-align: top;\n",
       "    }\n",
       "\n",
       "    .dataframe thead th {\n",
       "        text-align: right;\n",
       "    }\n",
       "</style>\n",
       "<table border=\"1\" class=\"dataframe\">\n",
       "  <thead>\n",
       "    <tr style=\"text-align: right;\">\n",
       "      <th></th>\n",
       "      <th>cluster_id</th>\n",
       "      <th>QC</th>\n",
       "      <th>cluster_label</th>\n",
       "      <th>subclass_label</th>\n",
       "      <th>class_label</th>\n",
       "      <th>cluster_color</th>\n",
       "      <th>size</th>\n",
       "    </tr>\n",
       "    <tr>\n",
       "      <th>cell</th>\n",
       "      <th></th>\n",
       "      <th></th>\n",
       "      <th></th>\n",
       "      <th></th>\n",
       "      <th></th>\n",
       "      <th></th>\n",
       "      <th></th>\n",
       "    </tr>\n",
       "  </thead>\n",
       "  <tbody>\n",
       "    <tr>\n",
       "      <th>10x_nuclei_v3_AAACCCAAGCTCTTCC-1L8TX_181211_01_A02</th>\n",
       "      <td>59</td>\n",
       "      <td>1</td>\n",
       "      <td>L6b Shisa6</td>\n",
       "      <td>L6b</td>\n",
       "      <td>Glutamatergic</td>\n",
       "      <td>#2B9880</td>\n",
       "      <td>247</td>\n",
       "    </tr>\n",
       "    <tr>\n",
       "      <th>10x_nuclei_v3_AAAGGGCTCGCGATCG-1L8TX_181211_01_A02</th>\n",
       "      <td>59</td>\n",
       "      <td>47</td>\n",
       "      <td>L6b Shisa6</td>\n",
       "      <td>L6b</td>\n",
       "      <td>Glutamatergic</td>\n",
       "      <td>#2B9880</td>\n",
       "      <td>247</td>\n",
       "    </tr>\n",
       "    <tr>\n",
       "      <th>10x_nuclei_v3_AAAGTGACATCGCTGG-1L8TX_181211_01_A02</th>\n",
       "      <td>59</td>\n",
       "      <td>80</td>\n",
       "      <td>L6b Shisa6</td>\n",
       "      <td>L6b</td>\n",
       "      <td>Glutamatergic</td>\n",
       "      <td>#2B9880</td>\n",
       "      <td>247</td>\n",
       "    </tr>\n",
       "    <tr>\n",
       "      <th>10x_nuclei_v3_AACAACCGTGCTCTCT-1L8TX_181211_01_A02</th>\n",
       "      <td>59</td>\n",
       "      <td>108</td>\n",
       "      <td>L6b Shisa6</td>\n",
       "      <td>L6b</td>\n",
       "      <td>Glutamatergic</td>\n",
       "      <td>#2B9880</td>\n",
       "      <td>247</td>\n",
       "    </tr>\n",
       "    <tr>\n",
       "      <th>10x_nuclei_v3_AACAAGAAGCCTGCCA-1L8TX_181211_01_A02</th>\n",
       "      <td>59</td>\n",
       "      <td>112</td>\n",
       "      <td>L6b Shisa6</td>\n",
       "      <td>L6b</td>\n",
       "      <td>Glutamatergic</td>\n",
       "      <td>#2B9880</td>\n",
       "      <td>247</td>\n",
       "    </tr>\n",
       "  </tbody>\n",
       "</table>\n",
       "</div>"
      ],
      "text/plain": [
       "                                                    cluster_id   QC  \\\n",
       "cell                                                                  \n",
       "10x_nuclei_v3_AAACCCAAGCTCTTCC-1L8TX_181211_01_A02          59    1   \n",
       "10x_nuclei_v3_AAAGGGCTCGCGATCG-1L8TX_181211_01_A02          59   47   \n",
       "10x_nuclei_v3_AAAGTGACATCGCTGG-1L8TX_181211_01_A02          59   80   \n",
       "10x_nuclei_v3_AACAACCGTGCTCTCT-1L8TX_181211_01_A02          59  108   \n",
       "10x_nuclei_v3_AACAAGAAGCCTGCCA-1L8TX_181211_01_A02          59  112   \n",
       "\n",
       "                                                   cluster_label  \\\n",
       "cell                                                               \n",
       "10x_nuclei_v3_AAACCCAAGCTCTTCC-1L8TX_181211_01_A02    L6b Shisa6   \n",
       "10x_nuclei_v3_AAAGGGCTCGCGATCG-1L8TX_181211_01_A02    L6b Shisa6   \n",
       "10x_nuclei_v3_AAAGTGACATCGCTGG-1L8TX_181211_01_A02    L6b Shisa6   \n",
       "10x_nuclei_v3_AACAACCGTGCTCTCT-1L8TX_181211_01_A02    L6b Shisa6   \n",
       "10x_nuclei_v3_AACAAGAAGCCTGCCA-1L8TX_181211_01_A02    L6b Shisa6   \n",
       "\n",
       "                                                   subclass_label  \\\n",
       "cell                                                                \n",
       "10x_nuclei_v3_AAACCCAAGCTCTTCC-1L8TX_181211_01_A02            L6b   \n",
       "10x_nuclei_v3_AAAGGGCTCGCGATCG-1L8TX_181211_01_A02            L6b   \n",
       "10x_nuclei_v3_AAAGTGACATCGCTGG-1L8TX_181211_01_A02            L6b   \n",
       "10x_nuclei_v3_AACAACCGTGCTCTCT-1L8TX_181211_01_A02            L6b   \n",
       "10x_nuclei_v3_AACAAGAAGCCTGCCA-1L8TX_181211_01_A02            L6b   \n",
       "\n",
       "                                                      class_label  \\\n",
       "cell                                                                \n",
       "10x_nuclei_v3_AAACCCAAGCTCTTCC-1L8TX_181211_01_A02  Glutamatergic   \n",
       "10x_nuclei_v3_AAAGGGCTCGCGATCG-1L8TX_181211_01_A02  Glutamatergic   \n",
       "10x_nuclei_v3_AAAGTGACATCGCTGG-1L8TX_181211_01_A02  Glutamatergic   \n",
       "10x_nuclei_v3_AACAACCGTGCTCTCT-1L8TX_181211_01_A02  Glutamatergic   \n",
       "10x_nuclei_v3_AACAAGAAGCCTGCCA-1L8TX_181211_01_A02  Glutamatergic   \n",
       "\n",
       "                                                   cluster_color  size  \n",
       "cell                                                                    \n",
       "10x_nuclei_v3_AAACCCAAGCTCTTCC-1L8TX_181211_01_A02       #2B9880   247  \n",
       "10x_nuclei_v3_AAAGGGCTCGCGATCG-1L8TX_181211_01_A02       #2B9880   247  \n",
       "10x_nuclei_v3_AAAGTGACATCGCTGG-1L8TX_181211_01_A02       #2B9880   247  \n",
       "10x_nuclei_v3_AACAACCGTGCTCTCT-1L8TX_181211_01_A02       #2B9880   247  \n",
       "10x_nuclei_v3_AACAAGAAGCCTGCCA-1L8TX_181211_01_A02       #2B9880   247  "
      ]
     },
     "execution_count": 58,
     "metadata": {},
     "output_type": "execute_result"
    }
   ],
   "source": [
    "meta = pd.read_csv(f_meta, sep=\"\\t\", index_col=0)\n",
    "print(meta.shape)\n",
    "meta.head()"
   ]
  },
  {
   "cell_type": "code",
   "execution_count": 6,
   "metadata": {},
   "outputs": [
    {
     "name": "stdout",
     "output_type": "stream",
     "text": [
      "(31053, 40166) (31053,) (40166,)\n"
     ]
    }
   ],
   "source": [
    "# gc_mat = snmcseq_utils.load_gc_matrix(f_data_gene, f_data_cell, f_data)\n",
    "# print(gc_mat.data.shape, gc_mat.gene.shape, gc_mat.cell.shape)"
   ]
  },
  {
   "cell_type": "code",
   "execution_count": 59,
   "metadata": {},
   "outputs": [
    {
     "name": "stdout",
     "output_type": "stream",
     "text": [
      "67\n",
      "61\n",
      "6\n"
     ]
    }
   ],
   "source": [
    "print(len(meta['cluster_id'].unique()))\n",
    "print(len(meta.loc[meta['class_label']!='Non-Neuronal', 'cluster_id'].unique()))\n",
    "print(len(meta.loc[meta['class_label']=='Non-Neuronal', 'cluster_id'].unique()))"
   ]
  },
  {
   "cell_type": "code",
   "execution_count": 10,
   "metadata": {},
   "outputs": [
    {
     "name": "stdout",
     "output_type": "stream",
     "text": [
      "class_label\n",
      "GABAergic         6526\n",
      "Glutamatergic    33180\n",
      "Non-Neuronal       460\n",
      "dtype: int64\n",
      "(39706, 7)\n"
     ]
    }
   ],
   "source": [
    "# filter meta\n",
    "print(meta.groupby('class_label').size())\n",
    "meta = meta[meta['class_label']!='Non-Neuronal']\n",
    "print(meta.shape)"
   ]
  },
  {
   "cell_type": "code",
   "execution_count": 8,
   "metadata": {},
   "outputs": [
    {
     "name": "stdout",
     "output_type": "stream",
     "text": [
      "(31053, 39706) (31053,) (39706,)\n"
     ]
    }
   ],
   "source": [
    "selected_cells = meta.index.values\n",
    "selected_cells_id = snmcseq_utils.get_index_from_array(gc_mat.cell, selected_cells)\n",
    "assert np.all(selected_cells_id != -1)\n",
    "\n",
    "gc_mat_update = GC_matrix(gc_mat.gene, selected_cells, gc_mat.data.tocsc()[:, selected_cells_id])\n",
    "print(gc_mat_update.data.shape, gc_mat_update.gene.shape, gc_mat_update.cell.shape)"
   ]
  },
  {
   "cell_type": "code",
   "execution_count": 9,
   "metadata": {},
   "outputs": [
    {
     "name": "stdout",
     "output_type": "stream",
     "text": [
      "134.8693606853485\n"
     ]
    }
   ],
   "source": [
    "# output\n",
    "# save \n",
    "ti = time.time()\n",
    "snmcseq_utils.save_gc_matrix(gc_mat_update, fout_data_gene, fout_data_cell, fout_data)\n",
    "print(time.time()-ti)"
   ]
  },
  {
   "cell_type": "code",
   "execution_count": 10,
   "metadata": {},
   "outputs": [],
   "source": [
    "# assemble metadata (keep order, add male and female)\n",
    "meta.index.name = 'cell'\n",
    "meta.to_csv(fout_meta, sep=\"\\t\", header=True, index=True)"
   ]
  },
  {
   "cell_type": "markdown",
   "metadata": {},
   "source": [
    "### 10x_cells_v3 "
   ]
  },
  {
   "cell_type": "code",
   "execution_count": 60,
   "metadata": {},
   "outputs": [],
   "source": [
    "dataset_name = '10x_cells_v3'\n",
    "\n",
    "f_meta = os.path.join(SRC_DIR, dataset_name+'_metadata.tsv') \n",
    "f_data = os.path.join(SRC_DIR, dataset_name+'_raw.npz') \n",
    "f_data_gene = os.path.join(SRC_DIR, dataset_name+'_raw.gene') \n",
    "f_data_cell = os.path.join(SRC_DIR, dataset_name+'_raw.cell') \n",
    "\n",
    "# fout_meta = os.path.join(DST_DIR, dataset_name+'_metadata.tsv') \n",
    "# fout_data = os.path.join(DST_DIR, dataset_name+'_raw.npz') \n",
    "# fout_data_gene = os.path.join(DST_DIR, dataset_name+'_raw.gene') \n",
    "# fout_data_cell = os.path.join(DST_DIR, dataset_name+'_raw.cell') \n",
    "\n",
    "# print(f_meta)\n",
    "# print(fout_meta)\n",
    "# print(f_data)\n",
    "# print(fout_data)"
   ]
  },
  {
   "cell_type": "code",
   "execution_count": 61,
   "metadata": {},
   "outputs": [
    {
     "name": "stdout",
     "output_type": "stream",
     "text": [
      "(71183, 7)\n"
     ]
    },
    {
     "data": {
      "text/html": [
       "<div>\n",
       "<style scoped>\n",
       "    .dataframe tbody tr th:only-of-type {\n",
       "        vertical-align: middle;\n",
       "    }\n",
       "\n",
       "    .dataframe tbody tr th {\n",
       "        vertical-align: top;\n",
       "    }\n",
       "\n",
       "    .dataframe thead th {\n",
       "        text-align: right;\n",
       "    }\n",
       "</style>\n",
       "<table border=\"1\" class=\"dataframe\">\n",
       "  <thead>\n",
       "    <tr style=\"text-align: right;\">\n",
       "      <th></th>\n",
       "      <th>cluster_id</th>\n",
       "      <th>QC</th>\n",
       "      <th>cluster_label</th>\n",
       "      <th>subclass_label</th>\n",
       "      <th>class_label</th>\n",
       "      <th>cluster_color</th>\n",
       "      <th>size</th>\n",
       "    </tr>\n",
       "    <tr>\n",
       "      <th>cell</th>\n",
       "      <th></th>\n",
       "      <th></th>\n",
       "      <th></th>\n",
       "      <th></th>\n",
       "      <th></th>\n",
       "      <th></th>\n",
       "      <th></th>\n",
       "    </tr>\n",
       "  </thead>\n",
       "  <tbody>\n",
       "    <tr>\n",
       "      <th>10x_cells_v3_AAACCCAAGCTTCATG-1L8TX_181211_01_G12</th>\n",
       "      <td>42</td>\n",
       "      <td>1</td>\n",
       "      <td>L5 IT Tcap_2</td>\n",
       "      <td>L5 IT</td>\n",
       "      <td>Glutamatergic</td>\n",
       "      <td>#52CA74</td>\n",
       "      <td>17334</td>\n",
       "    </tr>\n",
       "    <tr>\n",
       "      <th>10x_cells_v3_AAACCCACACCAGCCA-1L8TX_181211_01_G12</th>\n",
       "      <td>42</td>\n",
       "      <td>3</td>\n",
       "      <td>L5 IT Tcap_2</td>\n",
       "      <td>L5 IT</td>\n",
       "      <td>Glutamatergic</td>\n",
       "      <td>#52CA74</td>\n",
       "      <td>17334</td>\n",
       "    </tr>\n",
       "    <tr>\n",
       "      <th>10x_cells_v3_AAACGAACAACGATTC-1L8TX_181211_01_G12</th>\n",
       "      <td>42</td>\n",
       "      <td>8</td>\n",
       "      <td>L5 IT Tcap_2</td>\n",
       "      <td>L5 IT</td>\n",
       "      <td>Glutamatergic</td>\n",
       "      <td>#52CA74</td>\n",
       "      <td>17334</td>\n",
       "    </tr>\n",
       "    <tr>\n",
       "      <th>10x_cells_v3_AAACGAATCTCGTGAA-1L8TX_181211_01_G12</th>\n",
       "      <td>42</td>\n",
       "      <td>11</td>\n",
       "      <td>L5 IT Tcap_2</td>\n",
       "      <td>L5 IT</td>\n",
       "      <td>Glutamatergic</td>\n",
       "      <td>#52CA74</td>\n",
       "      <td>17334</td>\n",
       "    </tr>\n",
       "    <tr>\n",
       "      <th>10x_cells_v3_AAACGCTGTAGTCACT-1L8TX_181211_01_G12</th>\n",
       "      <td>42</td>\n",
       "      <td>14</td>\n",
       "      <td>L5 IT Tcap_2</td>\n",
       "      <td>L5 IT</td>\n",
       "      <td>Glutamatergic</td>\n",
       "      <td>#52CA74</td>\n",
       "      <td>17334</td>\n",
       "    </tr>\n",
       "  </tbody>\n",
       "</table>\n",
       "</div>"
      ],
      "text/plain": [
       "                                                   cluster_id  QC  \\\n",
       "cell                                                                \n",
       "10x_cells_v3_AAACCCAAGCTTCATG-1L8TX_181211_01_G12          42   1   \n",
       "10x_cells_v3_AAACCCACACCAGCCA-1L8TX_181211_01_G12          42   3   \n",
       "10x_cells_v3_AAACGAACAACGATTC-1L8TX_181211_01_G12          42   8   \n",
       "10x_cells_v3_AAACGAATCTCGTGAA-1L8TX_181211_01_G12          42  11   \n",
       "10x_cells_v3_AAACGCTGTAGTCACT-1L8TX_181211_01_G12          42  14   \n",
       "\n",
       "                                                  cluster_label  \\\n",
       "cell                                                              \n",
       "10x_cells_v3_AAACCCAAGCTTCATG-1L8TX_181211_01_G12  L5 IT Tcap_2   \n",
       "10x_cells_v3_AAACCCACACCAGCCA-1L8TX_181211_01_G12  L5 IT Tcap_2   \n",
       "10x_cells_v3_AAACGAACAACGATTC-1L8TX_181211_01_G12  L5 IT Tcap_2   \n",
       "10x_cells_v3_AAACGAATCTCGTGAA-1L8TX_181211_01_G12  L5 IT Tcap_2   \n",
       "10x_cells_v3_AAACGCTGTAGTCACT-1L8TX_181211_01_G12  L5 IT Tcap_2   \n",
       "\n",
       "                                                  subclass_label  \\\n",
       "cell                                                               \n",
       "10x_cells_v3_AAACCCAAGCTTCATG-1L8TX_181211_01_G12          L5 IT   \n",
       "10x_cells_v3_AAACCCACACCAGCCA-1L8TX_181211_01_G12          L5 IT   \n",
       "10x_cells_v3_AAACGAACAACGATTC-1L8TX_181211_01_G12          L5 IT   \n",
       "10x_cells_v3_AAACGAATCTCGTGAA-1L8TX_181211_01_G12          L5 IT   \n",
       "10x_cells_v3_AAACGCTGTAGTCACT-1L8TX_181211_01_G12          L5 IT   \n",
       "\n",
       "                                                     class_label  \\\n",
       "cell                                                               \n",
       "10x_cells_v3_AAACCCAAGCTTCATG-1L8TX_181211_01_G12  Glutamatergic   \n",
       "10x_cells_v3_AAACCCACACCAGCCA-1L8TX_181211_01_G12  Glutamatergic   \n",
       "10x_cells_v3_AAACGAACAACGATTC-1L8TX_181211_01_G12  Glutamatergic   \n",
       "10x_cells_v3_AAACGAATCTCGTGAA-1L8TX_181211_01_G12  Glutamatergic   \n",
       "10x_cells_v3_AAACGCTGTAGTCACT-1L8TX_181211_01_G12  Glutamatergic   \n",
       "\n",
       "                                                  cluster_color   size  \n",
       "cell                                                                    \n",
       "10x_cells_v3_AAACCCAAGCTTCATG-1L8TX_181211_01_G12       #52CA74  17334  \n",
       "10x_cells_v3_AAACCCACACCAGCCA-1L8TX_181211_01_G12       #52CA74  17334  \n",
       "10x_cells_v3_AAACGAACAACGATTC-1L8TX_181211_01_G12       #52CA74  17334  \n",
       "10x_cells_v3_AAACGAATCTCGTGAA-1L8TX_181211_01_G12       #52CA74  17334  \n",
       "10x_cells_v3_AAACGCTGTAGTCACT-1L8TX_181211_01_G12       #52CA74  17334  "
      ]
     },
     "execution_count": 61,
     "metadata": {},
     "output_type": "execute_result"
    }
   ],
   "source": [
    "meta = pd.read_csv(f_meta, sep=\"\\t\", index_col=0)\n",
    "print(meta.shape)\n",
    "meta.head()"
   ]
  },
  {
   "cell_type": "code",
   "execution_count": 13,
   "metadata": {},
   "outputs": [
    {
     "name": "stdout",
     "output_type": "stream",
     "text": [
      "(31053, 71183) (31053,) (71183,)\n"
     ]
    }
   ],
   "source": [
    "gc_mat = snmcseq_utils.load_gc_matrix(f_data_gene, f_data_cell, f_data)\n",
    "print(gc_mat.data.shape, gc_mat.gene.shape, gc_mat.cell.shape)"
   ]
  },
  {
   "cell_type": "code",
   "execution_count": 62,
   "metadata": {},
   "outputs": [
    {
     "name": "stdout",
     "output_type": "stream",
     "text": [
      "78\n",
      "68\n",
      "10\n"
     ]
    }
   ],
   "source": [
    "print(len(meta['cluster_id'].unique()))\n",
    "print(len(meta.loc[meta['class_label']!='Non-Neuronal', 'cluster_id'].unique()))\n",
    "print(len(meta.loc[meta['class_label']=='Non-Neuronal', 'cluster_id'].unique()))\n"
   ]
  },
  {
   "cell_type": "code",
   "execution_count": 13,
   "metadata": {},
   "outputs": [
    {
     "name": "stdout",
     "output_type": "stream",
     "text": [
      "class_label\n",
      "GABAergic         7908\n",
      "Glutamatergic    61819\n",
      "Non-Neuronal      1456\n",
      "dtype: int64\n",
      "(69727, 7)\n"
     ]
    }
   ],
   "source": [
    "# meta = meta[meta['class_label']!='Non-Neuronal']\n",
    "# filter meta\n",
    "print(meta.groupby('class_label').size())\n",
    "meta = meta[meta['class_label']!='Non-Neuronal']\n",
    "print(meta.shape)"
   ]
  },
  {
   "cell_type": "code",
   "execution_count": 15,
   "metadata": {},
   "outputs": [
    {
     "name": "stdout",
     "output_type": "stream",
     "text": [
      "(31053, 69727) (31053,) (69727,)\n"
     ]
    }
   ],
   "source": [
    "selected_cells = meta.index.values\n",
    "selected_cells_id = snmcseq_utils.get_index_from_array(gc_mat.cell, selected_cells)\n",
    "assert np.all(selected_cells_id != -1)\n",
    "\n",
    "gc_mat_update = GC_matrix(gc_mat.gene, selected_cells, gc_mat.data.tocsc()[:, selected_cells_id])\n",
    "print(gc_mat_update.data.shape, gc_mat_update.gene.shape, gc_mat_update.cell.shape)"
   ]
  },
  {
   "cell_type": "code",
   "execution_count": 16,
   "metadata": {},
   "outputs": [
    {
     "name": "stdout",
     "output_type": "stream",
     "text": [
      "532.1656138896942\n"
     ]
    }
   ],
   "source": [
    "# output\n",
    "# save \n",
    "ti = time.time()\n",
    "snmcseq_utils.save_gc_matrix(gc_mat_update, fout_data_gene, fout_data_cell, fout_data)\n",
    "print(time.time()-ti)"
   ]
  },
  {
   "cell_type": "code",
   "execution_count": 17,
   "metadata": {},
   "outputs": [],
   "source": [
    "# assemble metadata (keep order, add male and female)\n",
    "meta.index.name = 'cell'\n",
    "meta.to_csv(fout_meta, sep=\"\\t\", header=True, index=True)"
   ]
  },
  {
   "cell_type": "markdown",
   "metadata": {},
   "source": [
    "### 10x_cells_v2 "
   ]
  },
  {
   "cell_type": "code",
   "execution_count": 63,
   "metadata": {},
   "outputs": [],
   "source": [
    "dataset_name = '10x_cells_v2'\n",
    "\n",
    "f_meta = os.path.join(SRC_DIR, dataset_name+'_metadata.tsv') \n",
    "f_data = os.path.join(SRC_DIR, dataset_name+'_raw.npz') \n",
    "f_data_gene = os.path.join(SRC_DIR, dataset_name+'_raw.gene') \n",
    "f_data_cell = os.path.join(SRC_DIR, dataset_name+'_raw.cell') \n",
    "\n",
    "# fout_meta = os.path.join(DST_DIR, dataset_name+'_metadata.tsv') \n",
    "# fout_data = os.path.join(DST_DIR, dataset_name+'_raw.npz') \n",
    "# fout_data_gene = os.path.join(DST_DIR, dataset_name+'_raw.gene') \n",
    "# fout_data_cell = os.path.join(DST_DIR, dataset_name+'_raw.cell') \n",
    "\n",
    "# print(f_meta)\n",
    "# print(fout_meta)\n",
    "# print(f_data)\n",
    "# print(fout_data)"
   ]
  },
  {
   "cell_type": "code",
   "execution_count": 64,
   "metadata": {},
   "outputs": [
    {
     "name": "stdout",
     "output_type": "stream",
     "text": [
      "(122641, 7)\n"
     ]
    },
    {
     "data": {
      "text/html": [
       "<div>\n",
       "<style scoped>\n",
       "    .dataframe tbody tr th:only-of-type {\n",
       "        vertical-align: middle;\n",
       "    }\n",
       "\n",
       "    .dataframe tbody tr th {\n",
       "        vertical-align: top;\n",
       "    }\n",
       "\n",
       "    .dataframe thead th {\n",
       "        text-align: right;\n",
       "    }\n",
       "</style>\n",
       "<table border=\"1\" class=\"dataframe\">\n",
       "  <thead>\n",
       "    <tr style=\"text-align: right;\">\n",
       "      <th></th>\n",
       "      <th>cluster_id</th>\n",
       "      <th>QC</th>\n",
       "      <th>cluster_label</th>\n",
       "      <th>subclass_label</th>\n",
       "      <th>class_label</th>\n",
       "      <th>cluster_color</th>\n",
       "      <th>size</th>\n",
       "    </tr>\n",
       "    <tr>\n",
       "      <th>cell</th>\n",
       "      <th></th>\n",
       "      <th></th>\n",
       "      <th></th>\n",
       "      <th></th>\n",
       "      <th></th>\n",
       "      <th></th>\n",
       "      <th></th>\n",
       "    </tr>\n",
       "  </thead>\n",
       "  <tbody>\n",
       "    <tr>\n",
       "      <th>10x_cells_v2_AAACCTGAGGAGTCTG-1L8TX_171026_01_F03</th>\n",
       "      <td>9</td>\n",
       "      <td>1</td>\n",
       "      <td>Sncg Slc17a8</td>\n",
       "      <td>Sncg</td>\n",
       "      <td>GABAergic</td>\n",
       "      <td>#9440F3</td>\n",
       "      <td>293</td>\n",
       "    </tr>\n",
       "    <tr>\n",
       "      <th>10x_cells_v2_ACCTTTAGTACAGCAG-1L8TX_171026_01_F03</th>\n",
       "      <td>9</td>\n",
       "      <td>673</td>\n",
       "      <td>Sncg Slc17a8</td>\n",
       "      <td>Sncg</td>\n",
       "      <td>GABAergic</td>\n",
       "      <td>#9440F3</td>\n",
       "      <td>293</td>\n",
       "    </tr>\n",
       "    <tr>\n",
       "      <th>10x_cells_v2_ACGATACCACCCAGTG-1L8TX_171026_01_F03</th>\n",
       "      <td>9</td>\n",
       "      <td>724</td>\n",
       "      <td>Sncg Slc17a8</td>\n",
       "      <td>Sncg</td>\n",
       "      <td>GABAergic</td>\n",
       "      <td>#9440F3</td>\n",
       "      <td>293</td>\n",
       "    </tr>\n",
       "    <tr>\n",
       "      <th>10x_cells_v2_ACGGGTCAGTGGGCTA-1L8TX_171026_01_F03</th>\n",
       "      <td>9</td>\n",
       "      <td>885</td>\n",
       "      <td>Sncg Slc17a8</td>\n",
       "      <td>Sncg</td>\n",
       "      <td>GABAergic</td>\n",
       "      <td>#9440F3</td>\n",
       "      <td>293</td>\n",
       "    </tr>\n",
       "    <tr>\n",
       "      <th>10x_cells_v2_AGCAGCCCAGTTCATG-1L8TX_171026_01_F03</th>\n",
       "      <td>9</td>\n",
       "      <td>1205</td>\n",
       "      <td>Sncg Slc17a8</td>\n",
       "      <td>Sncg</td>\n",
       "      <td>GABAergic</td>\n",
       "      <td>#9440F3</td>\n",
       "      <td>293</td>\n",
       "    </tr>\n",
       "  </tbody>\n",
       "</table>\n",
       "</div>"
      ],
      "text/plain": [
       "                                                   cluster_id    QC  \\\n",
       "cell                                                                  \n",
       "10x_cells_v2_AAACCTGAGGAGTCTG-1L8TX_171026_01_F03           9     1   \n",
       "10x_cells_v2_ACCTTTAGTACAGCAG-1L8TX_171026_01_F03           9   673   \n",
       "10x_cells_v2_ACGATACCACCCAGTG-1L8TX_171026_01_F03           9   724   \n",
       "10x_cells_v2_ACGGGTCAGTGGGCTA-1L8TX_171026_01_F03           9   885   \n",
       "10x_cells_v2_AGCAGCCCAGTTCATG-1L8TX_171026_01_F03           9  1205   \n",
       "\n",
       "                                                  cluster_label  \\\n",
       "cell                                                              \n",
       "10x_cells_v2_AAACCTGAGGAGTCTG-1L8TX_171026_01_F03  Sncg Slc17a8   \n",
       "10x_cells_v2_ACCTTTAGTACAGCAG-1L8TX_171026_01_F03  Sncg Slc17a8   \n",
       "10x_cells_v2_ACGATACCACCCAGTG-1L8TX_171026_01_F03  Sncg Slc17a8   \n",
       "10x_cells_v2_ACGGGTCAGTGGGCTA-1L8TX_171026_01_F03  Sncg Slc17a8   \n",
       "10x_cells_v2_AGCAGCCCAGTTCATG-1L8TX_171026_01_F03  Sncg Slc17a8   \n",
       "\n",
       "                                                  subclass_label class_label  \\\n",
       "cell                                                                           \n",
       "10x_cells_v2_AAACCTGAGGAGTCTG-1L8TX_171026_01_F03           Sncg   GABAergic   \n",
       "10x_cells_v2_ACCTTTAGTACAGCAG-1L8TX_171026_01_F03           Sncg   GABAergic   \n",
       "10x_cells_v2_ACGATACCACCCAGTG-1L8TX_171026_01_F03           Sncg   GABAergic   \n",
       "10x_cells_v2_ACGGGTCAGTGGGCTA-1L8TX_171026_01_F03           Sncg   GABAergic   \n",
       "10x_cells_v2_AGCAGCCCAGTTCATG-1L8TX_171026_01_F03           Sncg   GABAergic   \n",
       "\n",
       "                                                  cluster_color  size  \n",
       "cell                                                                   \n",
       "10x_cells_v2_AAACCTGAGGAGTCTG-1L8TX_171026_01_F03       #9440F3   293  \n",
       "10x_cells_v2_ACCTTTAGTACAGCAG-1L8TX_171026_01_F03       #9440F3   293  \n",
       "10x_cells_v2_ACGATACCACCCAGTG-1L8TX_171026_01_F03       #9440F3   293  \n",
       "10x_cells_v2_ACGGGTCAGTGGGCTA-1L8TX_171026_01_F03       #9440F3   293  \n",
       "10x_cells_v2_AGCAGCCCAGTTCATG-1L8TX_171026_01_F03       #9440F3   293  "
      ]
     },
     "execution_count": 64,
     "metadata": {},
     "output_type": "execute_result"
    }
   ],
   "source": [
    "meta = pd.read_csv(f_meta, sep=\"\\t\", index_col=0)\n",
    "print(meta.shape)\n",
    "meta.head()"
   ]
  },
  {
   "cell_type": "code",
   "execution_count": 20,
   "metadata": {},
   "outputs": [
    {
     "name": "stdout",
     "output_type": "stream",
     "text": [
      "(31053, 122641) (31053,) (122641,)\n"
     ]
    }
   ],
   "source": [
    "gc_mat = snmcseq_utils.load_gc_matrix(f_data_gene, f_data_cell, f_data)\n",
    "print(gc_mat.data.shape, gc_mat.gene.shape, gc_mat.cell.shape)"
   ]
  },
  {
   "cell_type": "code",
   "execution_count": 67,
   "metadata": {},
   "outputs": [
    {
     "name": "stdout",
     "output_type": "stream",
     "text": [
      "['Sncg Slc17a8' 'Pvalb Calb1_1' 'L5 IT Rspo2_1' 'L5 IT Rspo1_1'\n",
      " 'L6b Shisa6_2_1' 'L6 CT Cpa6' 'L5 NP Trh' 'Sncg Col14a1' 'L6 NP Trh_1'\n",
      " 'Lamp5 Pdlim5' 'L6b Ror1' 'L5 IT S100b' 'L2/3 IT ' 'Vip Chat'\n",
      " 'Vip C1ql1_1' 'L5 IT Tcap_1' 'Endo_3' 'L6 IT_2' 'Sst Myh8_2' 'Sst C1ql3_1'\n",
      " 'L6 CT Nxph2 Pou3f2' 'Pvalb Reln' 'Lamp5 Slc35d3' 'Sst Calb2'\n",
      " 'Pvalb Vipr2' 'L5 NP Slc17a8' 'Sst Pvalb Etv1_2' 'Sst Crhr2_1'\n",
      " 'Pvalb Gpr149' 'L6 CT Gpr139' 'Sncg Npy2r' 'L6b Shisa6_1' 'Vip Lypd1'\n",
      " 'Pvalb Il1rapl2' 'Sst C1ql3_3' 'Vip Serpinf1_2' 'Lamp5 Egln3_2' 'Vip Gpc3'\n",
      " 'Sst Crhr2_2' 'Vip Htr1f_1' 'Vip Igfbp6' 'Sst Myh8_4' 'Lamp5 Egln3_1'\n",
      " 'Pvalb Gabrg1' 'Vip Crispld2' 'Sst Hspe_3' 'Vip Mybpc1' 'Sst Myh8_3'\n",
      " 'Astro Aqp4' 'Sst Hspe_2' 'Lamp5 Egln3_3' 'Lamp5 Lhx6' 'L6b Shisa6_2_2'\n",
      " 'Vip C1ql1_2' 'L6b Kcnip1_2' 'L5 ET_1' 'L5 IT Tcap_2' 'L6 IT_1' 'L5 ET_3'\n",
      " 'Endo_1' 'Oligo Opalin_1' 'L6 NP CT' 'Lamp5 Pax6' 'OPC Pdgfra'\n",
      " 'L6 CT Nxph2 Kit' 'Sst Pvalb Etv1_3' 'Sst Hspe_1' 'Vip Htr1f_2'\n",
      " 'Oligo Opalin_2' 'L5 ET_2' 'Sst Chodl' 'Sst Pvalb Etv1_1' 'Macrophage'\n",
      " 'Pvalb Sst Calb1_2' 'L6 IT Car3' 'Sst Myh8_1' 'Vip Serpinf1_1'\n",
      " 'Sst C1ql3_2' 'L6b Kcnip1_1' 'Sncg Calb1_1' 'Pvalb Sst Calb1_1'\n",
      " 'Sncg Calb1_2' 'Sst Th' 'Oligo Enpp6_1' 'L6 NP Trh_2' 'Pvalb Calb1_2'\n",
      " 'Sst Hspe_4' 'Oligo Enpp6_2' 'Endo_2']\n",
      "90\n",
      "80\n",
      "10\n"
     ]
    }
   ],
   "source": [
    "print(meta['cluster_label'].unique())\n",
    "print(len(meta['cluster_id'].unique()))\n",
    "print(len(meta.loc[meta['class_label']!='Non-Neuronal', 'cluster_id'].unique()))\n",
    "print(len(meta.loc[meta['class_label']=='Non-Neuronal', 'cluster_id'].unique()))\n"
   ]
  },
  {
   "cell_type": "code",
   "execution_count": 16,
   "metadata": {},
   "outputs": [
    {
     "name": "stdout",
     "output_type": "stream",
     "text": [
      "class_label\n",
      "GABAergic        27588\n",
      "Glutamatergic    93852\n",
      "Non-Neuronal      1201\n",
      "dtype: int64\n",
      "(121440, 7)\n"
     ]
    }
   ],
   "source": [
    "# meta = meta[meta['class_label']!='Non-Neuronal']\n",
    "# filter meta\n",
    "print(meta.groupby('class_label').size())\n",
    "meta = meta[meta['class_label']!='Non-Neuronal']\n",
    "print(meta.shape)"
   ]
  },
  {
   "cell_type": "code",
   "execution_count": 22,
   "metadata": {},
   "outputs": [
    {
     "name": "stdout",
     "output_type": "stream",
     "text": [
      "(31053, 121440) (31053,) (121440,)\n"
     ]
    }
   ],
   "source": [
    "selected_cells = meta.index.values\n",
    "selected_cells_id = snmcseq_utils.get_index_from_array(gc_mat.cell, selected_cells)\n",
    "assert np.all(selected_cells_id != -1)\n",
    "\n",
    "gc_mat_update = GC_matrix(gc_mat.gene, selected_cells, gc_mat.data.tocsc()[:, selected_cells_id])\n",
    "print(gc_mat_update.data.shape, gc_mat_update.gene.shape, gc_mat_update.cell.shape)"
   ]
  },
  {
   "cell_type": "code",
   "execution_count": 23,
   "metadata": {},
   "outputs": [
    {
     "name": "stdout",
     "output_type": "stream",
     "text": [
      "510.46264123916626\n"
     ]
    }
   ],
   "source": [
    "# output\n",
    "# save \n",
    "ti = time.time()\n",
    "snmcseq_utils.save_gc_matrix(gc_mat_update, fout_data_gene, fout_data_cell, fout_data)\n",
    "print(time.time()-ti)"
   ]
  },
  {
   "cell_type": "code",
   "execution_count": 24,
   "metadata": {},
   "outputs": [],
   "source": [
    "# assemble metadata (keep order, add male and female)\n",
    "meta.index.name = 'cell'\n",
    "meta.to_csv(fout_meta, sep=\"\\t\", header=True, index=True)"
   ]
  },
  {
   "cell_type": "markdown",
   "metadata": {},
   "source": [
    "### Smart-cells"
   ]
  },
  {
   "cell_type": "code",
   "execution_count": 100,
   "metadata": {},
   "outputs": [],
   "source": [
    "dataset_name = 'smarter_cells'\n",
    "\n",
    "f_meta = os.path.join(SRC_DIR, dataset_name+'_metadata.tsv') \n",
    "f_data = os.path.join(SRC_DIR, dataset_name+'_raw.npz') \n",
    "f_data_gene = os.path.join(SRC_DIR, dataset_name+'_raw.gene') \n",
    "f_data_cell = os.path.join(SRC_DIR, dataset_name+'_raw.cell') \n",
    "\n",
    "# fout_meta = os.path.join(DST_DIR, dataset_name+'_metadata.tsv') \n",
    "# fout_data = os.path.join(DST_DIR, dataset_name+'_raw.npz') \n",
    "# fout_data_gene = os.path.join(DST_DIR, dataset_name+'_raw.gene') \n",
    "# fout_data_cell = os.path.join(DST_DIR, dataset_name+'_raw.cell') \n",
    "\n",
    "# print(f_meta)\n",
    "# print(fout_meta)\n",
    "# print(f_data)\n",
    "# print(fout_data)"
   ]
  },
  {
   "cell_type": "code",
   "execution_count": 101,
   "metadata": {},
   "outputs": [
    {
     "name": "stdout",
     "output_type": "stream",
     "text": [
      "(6288, 128)\n"
     ]
    },
    {
     "name": "stderr",
     "output_type": "stream",
     "text": [
      "/cndd/fangming/venvs/conda_dobro/lib/python3.6/site-packages/IPython/core/interactiveshell.py:2728: DtypeWarning: Columns (64) have mixed types. Specify dtype option on import or set low_memory=False.\n",
      "  interactivity=interactivity, compiler=compiler, result=result)\n"
     ]
    },
    {
     "data": {
      "text/html": [
       "<div>\n",
       "<style scoped>\n",
       "    .dataframe tbody tr th:only-of-type {\n",
       "        vertical-align: middle;\n",
       "    }\n",
       "\n",
       "    .dataframe tbody tr th {\n",
       "        vertical-align: top;\n",
       "    }\n",
       "\n",
       "    .dataframe thead th {\n",
       "        text-align: right;\n",
       "    }\n",
       "</style>\n",
       "<table border=\"1\" class=\"dataframe\">\n",
       "  <thead>\n",
       "    <tr style=\"text-align: right;\">\n",
       "      <th></th>\n",
       "      <th>cluster_id</th>\n",
       "      <th>QC</th>\n",
       "      <th>cluster_label</th>\n",
       "      <th>subclass_label</th>\n",
       "      <th>class_label</th>\n",
       "      <th>cluster_color</th>\n",
       "      <th>size</th>\n",
       "      <th>ar_id</th>\n",
       "      <th>exp_component_vendor_name</th>\n",
       "      <th>batch</th>\n",
       "      <th>...</th>\n",
       "      <th>Injection_type</th>\n",
       "      <th>NewBatch</th>\n",
       "      <th>Vendor</th>\n",
       "      <th>MultiPlex</th>\n",
       "      <th>percent_reads_aligned_to_rrna_rmsk</th>\n",
       "      <th>percent_reads_aligned_to_trna_rmsk</th>\n",
       "      <th>percent_reads_aligned_to_ncrna</th>\n",
       "      <th>percent_reads_aligned_to_introns</th>\n",
       "      <th>percent_reads_aligned_to_intergenic</th>\n",
       "      <th>percent_reads_aligned_unique</th>\n",
       "    </tr>\n",
       "  </thead>\n",
       "  <tbody>\n",
       "    <tr>\n",
       "      <th>smarter_cells_LS-15395_S41_E1-50</th>\n",
       "      <td>19</td>\n",
       "      <td>1</td>\n",
       "      <td>Sst Myh8_1</td>\n",
       "      <td>Sst</td>\n",
       "      <td>GABAergic</td>\n",
       "      <td>#FF7F2C</td>\n",
       "      <td>136</td>\n",
       "      <td>543183476</td>\n",
       "      <td>LS-15395-41</td>\n",
       "      <td>R8S4-160812</td>\n",
       "      <td>...</td>\n",
       "      <td>0.0</td>\n",
       "      <td>HistoricalData</td>\n",
       "      <td>Covance</td>\n",
       "      <td>index96</td>\n",
       "      <td>NaN</td>\n",
       "      <td>NaN</td>\n",
       "      <td>15.162980</td>\n",
       "      <td>9.855384</td>\n",
       "      <td>3.264771</td>\n",
       "      <td>84.993663</td>\n",
       "    </tr>\n",
       "    <tr>\n",
       "      <th>smarter_cells_LS-15395_S42_E1-50</th>\n",
       "      <td>19</td>\n",
       "      <td>2</td>\n",
       "      <td>Sst Myh8_1</td>\n",
       "      <td>Sst</td>\n",
       "      <td>GABAergic</td>\n",
       "      <td>#FF7F2C</td>\n",
       "      <td>136</td>\n",
       "      <td>543183474</td>\n",
       "      <td>LS-15395-42</td>\n",
       "      <td>R8S4-160812</td>\n",
       "      <td>...</td>\n",
       "      <td>0.0</td>\n",
       "      <td>HistoricalData</td>\n",
       "      <td>Covance</td>\n",
       "      <td>index96</td>\n",
       "      <td>NaN</td>\n",
       "      <td>NaN</td>\n",
       "      <td>16.281620</td>\n",
       "      <td>6.763949</td>\n",
       "      <td>2.856108</td>\n",
       "      <td>87.252036</td>\n",
       "    </tr>\n",
       "    <tr>\n",
       "      <th>smarter_cells_LS-15501_S28_E1-50</th>\n",
       "      <td>19</td>\n",
       "      <td>94</td>\n",
       "      <td>Sst Myh8_1</td>\n",
       "      <td>Sst</td>\n",
       "      <td>GABAergic</td>\n",
       "      <td>#FF7F2C</td>\n",
       "      <td>136</td>\n",
       "      <td>544930823</td>\n",
       "      <td>LS-15501-28</td>\n",
       "      <td>R8S4-160817</td>\n",
       "      <td>...</td>\n",
       "      <td>0.0</td>\n",
       "      <td>HistoricalData</td>\n",
       "      <td>Covance</td>\n",
       "      <td>index96</td>\n",
       "      <td>NaN</td>\n",
       "      <td>NaN</td>\n",
       "      <td>17.066841</td>\n",
       "      <td>3.311346</td>\n",
       "      <td>2.437971</td>\n",
       "      <td>86.831969</td>\n",
       "    </tr>\n",
       "    <tr>\n",
       "      <th>smarter_cells_LS-15501_S81_E1-50</th>\n",
       "      <td>19</td>\n",
       "      <td>120</td>\n",
       "      <td>Sst Myh8_1</td>\n",
       "      <td>Sst</td>\n",
       "      <td>GABAergic</td>\n",
       "      <td>#FF7F2C</td>\n",
       "      <td>136</td>\n",
       "      <td>544930707</td>\n",
       "      <td>LS-15501-81</td>\n",
       "      <td>R8S4-160817</td>\n",
       "      <td>...</td>\n",
       "      <td>0.0</td>\n",
       "      <td>HistoricalData</td>\n",
       "      <td>Covance</td>\n",
       "      <td>index96</td>\n",
       "      <td>NaN</td>\n",
       "      <td>NaN</td>\n",
       "      <td>13.866006</td>\n",
       "      <td>11.769028</td>\n",
       "      <td>3.699682</td>\n",
       "      <td>85.252590</td>\n",
       "    </tr>\n",
       "    <tr>\n",
       "      <th>smarter_cells_LS-15524_S21_E1-50</th>\n",
       "      <td>19</td>\n",
       "      <td>267</td>\n",
       "      <td>Sst Myh8_1</td>\n",
       "      <td>Sst</td>\n",
       "      <td>GABAergic</td>\n",
       "      <td>#FF7F2C</td>\n",
       "      <td>136</td>\n",
       "      <td>549999237</td>\n",
       "      <td>LS-15524-21</td>\n",
       "      <td>R8S4-160906</td>\n",
       "      <td>...</td>\n",
       "      <td>0.0</td>\n",
       "      <td>HistoricalData</td>\n",
       "      <td>Covance</td>\n",
       "      <td>index96</td>\n",
       "      <td>NaN</td>\n",
       "      <td>NaN</td>\n",
       "      <td>15.912637</td>\n",
       "      <td>5.923318</td>\n",
       "      <td>2.385434</td>\n",
       "      <td>82.503705</td>\n",
       "    </tr>\n",
       "  </tbody>\n",
       "</table>\n",
       "<p>5 rows × 128 columns</p>\n",
       "</div>"
      ],
      "text/plain": [
       "                                  cluster_id   QC cluster_label  \\\n",
       "smarter_cells_LS-15395_S41_E1-50          19    1    Sst Myh8_1   \n",
       "smarter_cells_LS-15395_S42_E1-50          19    2    Sst Myh8_1   \n",
       "smarter_cells_LS-15501_S28_E1-50          19   94    Sst Myh8_1   \n",
       "smarter_cells_LS-15501_S81_E1-50          19  120    Sst Myh8_1   \n",
       "smarter_cells_LS-15524_S21_E1-50          19  267    Sst Myh8_1   \n",
       "\n",
       "                                 subclass_label class_label cluster_color  \\\n",
       "smarter_cells_LS-15395_S41_E1-50            Sst   GABAergic       #FF7F2C   \n",
       "smarter_cells_LS-15395_S42_E1-50            Sst   GABAergic       #FF7F2C   \n",
       "smarter_cells_LS-15501_S28_E1-50            Sst   GABAergic       #FF7F2C   \n",
       "smarter_cells_LS-15501_S81_E1-50            Sst   GABAergic       #FF7F2C   \n",
       "smarter_cells_LS-15524_S21_E1-50            Sst   GABAergic       #FF7F2C   \n",
       "\n",
       "                                  size      ar_id exp_component_vendor_name  \\\n",
       "smarter_cells_LS-15395_S41_E1-50   136  543183476               LS-15395-41   \n",
       "smarter_cells_LS-15395_S42_E1-50   136  543183474               LS-15395-42   \n",
       "smarter_cells_LS-15501_S28_E1-50   136  544930823               LS-15501-28   \n",
       "smarter_cells_LS-15501_S81_E1-50   136  544930707               LS-15501-81   \n",
       "smarter_cells_LS-15524_S21_E1-50   136  549999237               LS-15524-21   \n",
       "\n",
       "                                        batch  ... Injection_type  \\\n",
       "smarter_cells_LS-15395_S41_E1-50  R8S4-160812  ...            0.0   \n",
       "smarter_cells_LS-15395_S42_E1-50  R8S4-160812  ...            0.0   \n",
       "smarter_cells_LS-15501_S28_E1-50  R8S4-160817  ...            0.0   \n",
       "smarter_cells_LS-15501_S81_E1-50  R8S4-160817  ...            0.0   \n",
       "smarter_cells_LS-15524_S21_E1-50  R8S4-160906  ...            0.0   \n",
       "\n",
       "                                        NewBatch   Vendor  MultiPlex  \\\n",
       "smarter_cells_LS-15395_S41_E1-50  HistoricalData  Covance    index96   \n",
       "smarter_cells_LS-15395_S42_E1-50  HistoricalData  Covance    index96   \n",
       "smarter_cells_LS-15501_S28_E1-50  HistoricalData  Covance    index96   \n",
       "smarter_cells_LS-15501_S81_E1-50  HistoricalData  Covance    index96   \n",
       "smarter_cells_LS-15524_S21_E1-50  HistoricalData  Covance    index96   \n",
       "\n",
       "                                  percent_reads_aligned_to_rrna_rmsk  \\\n",
       "smarter_cells_LS-15395_S41_E1-50                                 NaN   \n",
       "smarter_cells_LS-15395_S42_E1-50                                 NaN   \n",
       "smarter_cells_LS-15501_S28_E1-50                                 NaN   \n",
       "smarter_cells_LS-15501_S81_E1-50                                 NaN   \n",
       "smarter_cells_LS-15524_S21_E1-50                                 NaN   \n",
       "\n",
       "                                  percent_reads_aligned_to_trna_rmsk  \\\n",
       "smarter_cells_LS-15395_S41_E1-50                                 NaN   \n",
       "smarter_cells_LS-15395_S42_E1-50                                 NaN   \n",
       "smarter_cells_LS-15501_S28_E1-50                                 NaN   \n",
       "smarter_cells_LS-15501_S81_E1-50                                 NaN   \n",
       "smarter_cells_LS-15524_S21_E1-50                                 NaN   \n",
       "\n",
       "                                  percent_reads_aligned_to_ncrna  \\\n",
       "smarter_cells_LS-15395_S41_E1-50                       15.162980   \n",
       "smarter_cells_LS-15395_S42_E1-50                       16.281620   \n",
       "smarter_cells_LS-15501_S28_E1-50                       17.066841   \n",
       "smarter_cells_LS-15501_S81_E1-50                       13.866006   \n",
       "smarter_cells_LS-15524_S21_E1-50                       15.912637   \n",
       "\n",
       "                                 percent_reads_aligned_to_introns  \\\n",
       "smarter_cells_LS-15395_S41_E1-50                         9.855384   \n",
       "smarter_cells_LS-15395_S42_E1-50                         6.763949   \n",
       "smarter_cells_LS-15501_S28_E1-50                         3.311346   \n",
       "smarter_cells_LS-15501_S81_E1-50                        11.769028   \n",
       "smarter_cells_LS-15524_S21_E1-50                         5.923318   \n",
       "\n",
       "                                 percent_reads_aligned_to_intergenic  \\\n",
       "smarter_cells_LS-15395_S41_E1-50                            3.264771   \n",
       "smarter_cells_LS-15395_S42_E1-50                            2.856108   \n",
       "smarter_cells_LS-15501_S28_E1-50                            2.437971   \n",
       "smarter_cells_LS-15501_S81_E1-50                            3.699682   \n",
       "smarter_cells_LS-15524_S21_E1-50                            2.385434   \n",
       "\n",
       "                                 percent_reads_aligned_unique  \n",
       "smarter_cells_LS-15395_S41_E1-50                    84.993663  \n",
       "smarter_cells_LS-15395_S42_E1-50                    87.252036  \n",
       "smarter_cells_LS-15501_S28_E1-50                    86.831969  \n",
       "smarter_cells_LS-15501_S81_E1-50                    85.252590  \n",
       "smarter_cells_LS-15524_S21_E1-50                    82.503705  \n",
       "\n",
       "[5 rows x 128 columns]"
      ]
     },
     "execution_count": 101,
     "metadata": {},
     "output_type": "execute_result"
    }
   ],
   "source": [
    "meta = pd.read_csv(f_meta, sep=\"\\t\", index_col=0)\n",
    "print(meta.shape)\n",
    "meta.head()"
   ]
  },
  {
   "cell_type": "code",
   "execution_count": 87,
   "metadata": {},
   "outputs": [
    {
     "name": "stdout",
     "output_type": "stream",
     "text": [
      "(32324, 6288) (32324,) (6288,)\n"
     ]
    }
   ],
   "source": [
    "gc_mat = snmcseq_utils.load_gc_matrix(f_data_gene, f_data_cell, f_data)\n",
    "print(gc_mat.data.shape, gc_mat.gene.shape, gc_mat.cell.shape)"
   ]
  },
  {
   "cell_type": "code",
   "execution_count": 104,
   "metadata": {},
   "outputs": [
    {
     "name": "stdout",
     "output_type": "stream",
     "text": [
      "['Sst Myh8_1' 'L6 NP Trh' 'L5 NP Slc17a8' 'L5 IT S100b_2' 'Vip Chat_1'\n",
      " 'Lamp5 Slc35d3' 'Sst Myh8_2' 'Sst Etv1' 'L5 IT Rspo1' 'L5 IT Rspo2'\n",
      " 'L5 IT S100b_1' 'Vip Htr1f' 'Pvalb Reln' 'L5 IT Tcap_1' 'Vip Chat_2'\n",
      " 'Vip Igfbp6' 'Lamp5 Egln3_1' 'L2/3 IT Macc1' 'L2/3 IT S100a6'\n",
      " 'Vip Crispld2' 'Vip C1ql1' 'L2/3 IT Cdh13 Sla' 'L6 IT Sulf_1'\n",
      " 'Lamp5 Pdlim5' 'Vip Chat_3' 'L6 IT Sulf_3' 'L5 IT Tcap_2' 'Astro Aqp4'\n",
      " 'L6 CT Grp_1' 'L6 CT Nxph2_1' 'L6b Shisa6' 'L6b Ror1_1' 'L5 ET'\n",
      " 'Sst Crhr2_1' 'Pvalb Vipr2' 'Sst C1ql3' 'Sncg' 'Sst Crhr2_2' 'Vip Gpc3'\n",
      " 'Vip Serpinf1' 'Lamp5 Lhx6' 'Vip Lmo1' 'Pvalb Th' 'L6 CT Gpr139'\n",
      " 'L6b Rprm' 'L6 IT Sulf_2' 'L5 IT Pld5' 'L6 CT Grp_2' 'Lamp5 Egln3_2'\n",
      " 'Sst Chodl' 'L6 CT Nxph2_2' 'Sncg Slc17a8' 'L6 IT Car3' 'Pvalb Calb1'\n",
      " 'L6b Ror1_2' 'Pvalb Gpr149' 'SMC Aoc3' 'L6b Kcnip1_1' 'L6b Kcnip1_2'\n",
      " 'VLMC' 'Endo Slc38a5']\n",
      "['Sst Myh8_1' 'L6 NP Trh' 'L5 NP Slc17a8' 'L5 IT S100b_2' 'Vip Chat_1'\n",
      " 'Lamp5 Slc35d3' 'Sst Myh8_2' 'Sst Etv1' 'L5 IT Rspo1' 'L5 IT Rspo2'\n",
      " 'L5 IT S100b_1' 'Vip Htr1f' 'Pvalb Reln' 'L5 IT Tcap_1' 'Vip Chat_2'\n",
      " 'Vip Igfbp6' 'Lamp5 Egln3_1' 'L2/3 IT Macc1' 'L2/3 IT S100a6'\n",
      " 'Vip Crispld2' 'Vip C1ql1' 'L2/3 IT Cdh13 Sla' 'L6 IT Sulf_1'\n",
      " 'Lamp5 Pdlim5' 'Vip Chat_3' 'L6 IT Sulf_3' 'L5 IT Tcap_2' 'L6 CT Grp_1'\n",
      " 'L6 CT Nxph2_1' 'L6b Shisa6' 'L6b Ror1_1' 'L5 ET' 'Sst Crhr2_1'\n",
      " 'Pvalb Vipr2' 'Sst C1ql3' 'Sncg' 'Sst Crhr2_2' 'Vip Gpc3' 'Vip Serpinf1'\n",
      " 'Lamp5 Lhx6' 'Vip Lmo1' 'Pvalb Th' 'L6 CT Gpr139' 'L6b Rprm'\n",
      " 'L6 IT Sulf_2' 'L5 IT Pld5' 'L6 CT Grp_2' 'Lamp5 Egln3_2' 'Sst Chodl'\n",
      " 'L6 CT Nxph2_2' 'Sncg Slc17a8' 'L6 IT Car3' 'Pvalb Calb1' 'L6b Ror1_2'\n",
      " 'Pvalb Gpr149' 'L6b Kcnip1_1' 'L6b Kcnip1_2']\n",
      "['Astro Aqp4' 'SMC Aoc3' 'VLMC' 'Endo Slc38a5']\n",
      "61\n",
      "57\n",
      "4\n"
     ]
    }
   ],
   "source": [
    "print(meta['cluster_label'].unique())\n",
    "print(meta.loc[meta['class_label']!='Non-Neuronal', 'cluster_label'].unique())\n",
    "print(meta.loc[meta['class_label']=='Non-Neuronal', 'cluster_label'].unique())\n",
    "\n",
    "print(len(meta['cluster_id'].unique()))\n",
    "print(len(meta.loc[meta['class_label']!='Non-Neuronal', 'cluster_id'].unique()))\n",
    "print(len(meta.loc[meta['class_label']=='Non-Neuronal', 'cluster_id'].unique()))"
   ]
  },
  {
   "cell_type": "code",
   "execution_count": 20,
   "metadata": {},
   "outputs": [
    {
     "name": "stdout",
     "output_type": "stream",
     "text": [
      "class_label\n",
      "GABAergic        2092\n",
      "Glutamatergic    4152\n",
      "Non-Neuronal       44\n",
      "dtype: int64\n",
      "(6244, 128)\n"
     ]
    }
   ],
   "source": [
    "# filter meta\n",
    "print(meta.groupby('class_label').size())\n",
    "meta = meta[meta['class_label'].str.contains(r'^Glu|^GABA')]\n",
    "# meta = meta[meta['class_label']!='Non-Neuronal']\n",
    "print(meta.shape)"
   ]
  },
  {
   "cell_type": "code",
   "execution_count": 89,
   "metadata": {},
   "outputs": [
    {
     "name": "stdout",
     "output_type": "stream",
     "text": [
      "(32324, 6244) (32324,) (6244,)\n"
     ]
    }
   ],
   "source": [
    "selected_cells = meta.index.values\n",
    "selected_cells_id = snmcseq_utils.get_index_from_array(gc_mat.cell, selected_cells)\n",
    "assert np.all(selected_cells_id != -1)\n",
    "\n",
    "gc_mat_update = GC_matrix(gc_mat.gene, selected_cells, gc_mat.data.tocsc()[:, selected_cells_id])\n",
    "print(gc_mat_update.data.shape, gc_mat_update.gene.shape, gc_mat_update.cell.shape)"
   ]
  },
  {
   "cell_type": "code",
   "execution_count": 90,
   "metadata": {},
   "outputs": [
    {
     "name": "stdout",
     "output_type": "stream",
     "text": [
      "117.02609968185425\n"
     ]
    }
   ],
   "source": [
    "# output\n",
    "# save \n",
    "ti = time.time()\n",
    "snmcseq_utils.save_gc_matrix(gc_mat_update, fout_data_gene, fout_data_cell, fout_data)\n",
    "print(time.time()-ti)"
   ]
  },
  {
   "cell_type": "code",
   "execution_count": 91,
   "metadata": {},
   "outputs": [],
   "source": [
    "# assemble metadata (keep order, add male and female)\n",
    "meta.index.name = 'cell'\n",
    "meta.to_csv(fout_meta, sep=\"\\t\", header=True, index=True)"
   ]
  },
  {
   "cell_type": "markdown",
   "metadata": {},
   "source": [
    "### Smarter-nuclei"
   ]
  },
  {
   "cell_type": "code",
   "execution_count": 71,
   "metadata": {},
   "outputs": [],
   "source": [
    "dataset_name = 'smarter_nuclei'\n",
    "\n",
    "f_meta = os.path.join(SRC_DIR, dataset_name+'_metadata.tsv') \n",
    "f_data = os.path.join(SRC_DIR, dataset_name+'_raw.npz') \n",
    "f_data_gene = os.path.join(SRC_DIR, dataset_name+'_raw.gene') \n",
    "f_data_cell = os.path.join(SRC_DIR, dataset_name+'_raw.cell') \n",
    "\n",
    "# fout_meta = os.path.join(DST_DIR, dataset_name+'_metadata.tsv') \n",
    "# fout_data = os.path.join(DST_DIR, dataset_name+'_raw.npz') \n",
    "# fout_data_gene = os.path.join(DST_DIR, dataset_name+'_raw.gene') \n",
    "# fout_data_cell = os.path.join(DST_DIR, dataset_name+'_raw.cell') \n",
    "\n",
    "# print(f_meta)\n",
    "# print(fout_meta)\n",
    "# print(f_data)\n",
    "# print(fout_data)"
   ]
  },
  {
   "cell_type": "code",
   "execution_count": 72,
   "metadata": {},
   "outputs": [
    {
     "name": "stdout",
     "output_type": "stream",
     "text": [
      "(6171, 145)\n"
     ]
    },
    {
     "data": {
      "text/html": [
       "<div>\n",
       "<style scoped>\n",
       "    .dataframe tbody tr th:only-of-type {\n",
       "        vertical-align: middle;\n",
       "    }\n",
       "\n",
       "    .dataframe tbody tr th {\n",
       "        vertical-align: top;\n",
       "    }\n",
       "\n",
       "    .dataframe thead th {\n",
       "        text-align: right;\n",
       "    }\n",
       "</style>\n",
       "<table border=\"1\" class=\"dataframe\">\n",
       "  <thead>\n",
       "    <tr style=\"text-align: right;\">\n",
       "      <th></th>\n",
       "      <th>cluster_id</th>\n",
       "      <th>QC</th>\n",
       "      <th>cluster_label</th>\n",
       "      <th>subclass_label</th>\n",
       "      <th>class_label</th>\n",
       "      <th>cluster_color</th>\n",
       "      <th>size</th>\n",
       "      <th>ar_id</th>\n",
       "      <th>exp_component_vendor_name</th>\n",
       "      <th>batch</th>\n",
       "      <th>...</th>\n",
       "      <th>pred.cl.2</th>\n",
       "      <th>pred.score.2</th>\n",
       "      <th>ref.cl.2</th>\n",
       "      <th>ref.cl.1.1</th>\n",
       "      <th>pred.cl.3</th>\n",
       "      <th>pred.score.3</th>\n",
       "      <th>cluster_label.2</th>\n",
       "      <th>category_label</th>\n",
       "      <th>Region.1</th>\n",
       "      <th>gene.counts</th>\n",
       "    </tr>\n",
       "    <tr>\n",
       "      <th>cell</th>\n",
       "      <th></th>\n",
       "      <th></th>\n",
       "      <th></th>\n",
       "      <th></th>\n",
       "      <th></th>\n",
       "      <th></th>\n",
       "      <th></th>\n",
       "      <th></th>\n",
       "      <th></th>\n",
       "      <th></th>\n",
       "      <th></th>\n",
       "      <th></th>\n",
       "      <th></th>\n",
       "      <th></th>\n",
       "      <th></th>\n",
       "      <th></th>\n",
       "      <th></th>\n",
       "      <th></th>\n",
       "      <th></th>\n",
       "      <th></th>\n",
       "      <th></th>\n",
       "    </tr>\n",
       "  </thead>\n",
       "  <tbody>\n",
       "    <tr>\n",
       "      <th>smarter_nuclei_SM-GE653_S113_E1-50</th>\n",
       "      <td>2</td>\n",
       "      <td>1</td>\n",
       "      <td>Lamp5 Egln3_2</td>\n",
       "      <td>Lamp5</td>\n",
       "      <td>GABAergic</td>\n",
       "      <td>#E69B73</td>\n",
       "      <td>87</td>\n",
       "      <td>647869537</td>\n",
       "      <td>SM-GE653-S113</td>\n",
       "      <td>R8S4-171101</td>\n",
       "      <td>...</td>\n",
       "      <td>14</td>\n",
       "      <td>0.917036</td>\n",
       "      <td>10</td>\n",
       "      <td>31</td>\n",
       "      <td>14</td>\n",
       "      <td>0.917036</td>\n",
       "      <td>Vip Htr1f</td>\n",
       "      <td>GABAergic</td>\n",
       "      <td>Cortex</td>\n",
       "      <td>7792</td>\n",
       "    </tr>\n",
       "    <tr>\n",
       "      <th>smarter_nuclei_SM-GE653_S116_E1-50</th>\n",
       "      <td>2</td>\n",
       "      <td>4</td>\n",
       "      <td>Lamp5 Egln3_2</td>\n",
       "      <td>Lamp5</td>\n",
       "      <td>GABAergic</td>\n",
       "      <td>#E69B73</td>\n",
       "      <td>87</td>\n",
       "      <td>647869531</td>\n",
       "      <td>SM-GE653-S116</td>\n",
       "      <td>R8S4-171101</td>\n",
       "      <td>...</td>\n",
       "      <td>3</td>\n",
       "      <td>0.712671</td>\n",
       "      <td>2</td>\n",
       "      <td>7</td>\n",
       "      <td>3</td>\n",
       "      <td>0.712671</td>\n",
       "      <td>Lamp5 Pdlim5</td>\n",
       "      <td>GABAergic</td>\n",
       "      <td>Cortex</td>\n",
       "      <td>8502</td>\n",
       "    </tr>\n",
       "    <tr>\n",
       "      <th>smarter_nuclei_SM-GE653_S117_E1-50</th>\n",
       "      <td>2</td>\n",
       "      <td>5</td>\n",
       "      <td>Lamp5 Egln3_2</td>\n",
       "      <td>Lamp5</td>\n",
       "      <td>GABAergic</td>\n",
       "      <td>#E69B73</td>\n",
       "      <td>87</td>\n",
       "      <td>647869529</td>\n",
       "      <td>SM-GE653-S117</td>\n",
       "      <td>R8S4-171101</td>\n",
       "      <td>...</td>\n",
       "      <td>12</td>\n",
       "      <td>0.899050</td>\n",
       "      <td>9</td>\n",
       "      <td>28</td>\n",
       "      <td>12</td>\n",
       "      <td>0.899050</td>\n",
       "      <td>Vip Chat_3</td>\n",
       "      <td>GABAergic</td>\n",
       "      <td>Cortex</td>\n",
       "      <td>7021</td>\n",
       "    </tr>\n",
       "    <tr>\n",
       "      <th>smarter_nuclei_SM-GE653_S120_E1-50</th>\n",
       "      <td>2</td>\n",
       "      <td>8</td>\n",
       "      <td>Lamp5 Egln3_2</td>\n",
       "      <td>Lamp5</td>\n",
       "      <td>GABAergic</td>\n",
       "      <td>#E69B73</td>\n",
       "      <td>87</td>\n",
       "      <td>647869523</td>\n",
       "      <td>SM-GE653-S120</td>\n",
       "      <td>R8S4-171101</td>\n",
       "      <td>...</td>\n",
       "      <td>11</td>\n",
       "      <td>0.892925</td>\n",
       "      <td>9</td>\n",
       "      <td>28</td>\n",
       "      <td>11</td>\n",
       "      <td>0.892925</td>\n",
       "      <td>Vip Chat_2</td>\n",
       "      <td>GABAergic</td>\n",
       "      <td>Cortex</td>\n",
       "      <td>7085</td>\n",
       "    </tr>\n",
       "    <tr>\n",
       "      <th>smarter_nuclei_SM-GE653_S122_E1-50</th>\n",
       "      <td>2</td>\n",
       "      <td>10</td>\n",
       "      <td>Lamp5 Egln3_2</td>\n",
       "      <td>Lamp5</td>\n",
       "      <td>GABAergic</td>\n",
       "      <td>#E69B73</td>\n",
       "      <td>87</td>\n",
       "      <td>647869519</td>\n",
       "      <td>SM-GE653-S122</td>\n",
       "      <td>R8S4-171101</td>\n",
       "      <td>...</td>\n",
       "      <td>13</td>\n",
       "      <td>0.822251</td>\n",
       "      <td>9</td>\n",
       "      <td>28</td>\n",
       "      <td>13</td>\n",
       "      <td>0.822251</td>\n",
       "      <td>Vip Lmo1</td>\n",
       "      <td>GABAergic</td>\n",
       "      <td>Cortex</td>\n",
       "      <td>7516</td>\n",
       "    </tr>\n",
       "  </tbody>\n",
       "</table>\n",
       "<p>5 rows × 145 columns</p>\n",
       "</div>"
      ],
      "text/plain": [
       "                                    cluster_id  QC  cluster_label  \\\n",
       "cell                                                                \n",
       "smarter_nuclei_SM-GE653_S113_E1-50           2   1  Lamp5 Egln3_2   \n",
       "smarter_nuclei_SM-GE653_S116_E1-50           2   4  Lamp5 Egln3_2   \n",
       "smarter_nuclei_SM-GE653_S117_E1-50           2   5  Lamp5 Egln3_2   \n",
       "smarter_nuclei_SM-GE653_S120_E1-50           2   8  Lamp5 Egln3_2   \n",
       "smarter_nuclei_SM-GE653_S122_E1-50           2  10  Lamp5 Egln3_2   \n",
       "\n",
       "                                   subclass_label class_label cluster_color  \\\n",
       "cell                                                                          \n",
       "smarter_nuclei_SM-GE653_S113_E1-50          Lamp5   GABAergic       #E69B73   \n",
       "smarter_nuclei_SM-GE653_S116_E1-50          Lamp5   GABAergic       #E69B73   \n",
       "smarter_nuclei_SM-GE653_S117_E1-50          Lamp5   GABAergic       #E69B73   \n",
       "smarter_nuclei_SM-GE653_S120_E1-50          Lamp5   GABAergic       #E69B73   \n",
       "smarter_nuclei_SM-GE653_S122_E1-50          Lamp5   GABAergic       #E69B73   \n",
       "\n",
       "                                    size      ar_id exp_component_vendor_name  \\\n",
       "cell                                                                            \n",
       "smarter_nuclei_SM-GE653_S113_E1-50    87  647869537             SM-GE653-S113   \n",
       "smarter_nuclei_SM-GE653_S116_E1-50    87  647869531             SM-GE653-S116   \n",
       "smarter_nuclei_SM-GE653_S117_E1-50    87  647869529             SM-GE653-S117   \n",
       "smarter_nuclei_SM-GE653_S120_E1-50    87  647869523             SM-GE653-S120   \n",
       "smarter_nuclei_SM-GE653_S122_E1-50    87  647869519             SM-GE653-S122   \n",
       "\n",
       "                                          batch  ... pred.cl.2 pred.score.2  \\\n",
       "cell                                             ...                          \n",
       "smarter_nuclei_SM-GE653_S113_E1-50  R8S4-171101  ...        14     0.917036   \n",
       "smarter_nuclei_SM-GE653_S116_E1-50  R8S4-171101  ...         3     0.712671   \n",
       "smarter_nuclei_SM-GE653_S117_E1-50  R8S4-171101  ...        12     0.899050   \n",
       "smarter_nuclei_SM-GE653_S120_E1-50  R8S4-171101  ...        11     0.892925   \n",
       "smarter_nuclei_SM-GE653_S122_E1-50  R8S4-171101  ...        13     0.822251   \n",
       "\n",
       "                                   ref.cl.2  ref.cl.1.1  pred.cl.3  \\\n",
       "cell                                                                 \n",
       "smarter_nuclei_SM-GE653_S113_E1-50       10          31         14   \n",
       "smarter_nuclei_SM-GE653_S116_E1-50        2           7          3   \n",
       "smarter_nuclei_SM-GE653_S117_E1-50        9          28         12   \n",
       "smarter_nuclei_SM-GE653_S120_E1-50        9          28         11   \n",
       "smarter_nuclei_SM-GE653_S122_E1-50        9          28         13   \n",
       "\n",
       "                                    pred.score.3  cluster_label.2  \\\n",
       "cell                                                                \n",
       "smarter_nuclei_SM-GE653_S113_E1-50      0.917036        Vip Htr1f   \n",
       "smarter_nuclei_SM-GE653_S116_E1-50      0.712671     Lamp5 Pdlim5   \n",
       "smarter_nuclei_SM-GE653_S117_E1-50      0.899050       Vip Chat_3   \n",
       "smarter_nuclei_SM-GE653_S120_E1-50      0.892925       Vip Chat_2   \n",
       "smarter_nuclei_SM-GE653_S122_E1-50      0.822251         Vip Lmo1   \n",
       "\n",
       "                                   category_label Region.1 gene.counts  \n",
       "cell                                                                    \n",
       "smarter_nuclei_SM-GE653_S113_E1-50      GABAergic   Cortex        7792  \n",
       "smarter_nuclei_SM-GE653_S116_E1-50      GABAergic   Cortex        8502  \n",
       "smarter_nuclei_SM-GE653_S117_E1-50      GABAergic   Cortex        7021  \n",
       "smarter_nuclei_SM-GE653_S120_E1-50      GABAergic   Cortex        7085  \n",
       "smarter_nuclei_SM-GE653_S122_E1-50      GABAergic   Cortex        7516  \n",
       "\n",
       "[5 rows x 145 columns]"
      ]
     },
     "execution_count": 72,
     "metadata": {},
     "output_type": "execute_result"
    }
   ],
   "source": [
    "meta = pd.read_csv(f_meta, sep=\"\\t\", index_col=0)\n",
    "print(meta.shape)\n",
    "meta.head()"
   ]
  },
  {
   "cell_type": "code",
   "execution_count": 55,
   "metadata": {},
   "outputs": [
    {
     "name": "stdout",
     "output_type": "stream",
     "text": [
      "(32324, 6171) (32324,) (6171,)\n"
     ]
    }
   ],
   "source": [
    "gc_mat = snmcseq_utils.load_gc_matrix(f_data_gene, f_data_cell, f_data)\n",
    "print(gc_mat.data.shape, gc_mat.gene.shape, gc_mat.cell.shape)"
   ]
  },
  {
   "cell_type": "code",
   "execution_count": 73,
   "metadata": {},
   "outputs": [
    {
     "name": "stdout",
     "output_type": "stream",
     "text": [
      "['Lamp5 Egln3_2' 'Lamp5 Slc35d3' 'Lamp5 Pdlim5' 'Vip Cbln4' 'L2/3 IT'\n",
      " 'Lamp5 Egln3_1' 'Sst Etv1_1' 'Pvalb Il1rapl2' 'Vip Rspo4' 'Vip Htr1f'\n",
      " 'L5 IT Rspo1_1' 'Pvalb Vipr2' 'Vip Crispld2' 'Sncg' 'Sst Etv1_2'\n",
      " 'L5 IT S100b_2' 'L6 CT' 'L5 NP Slc17a8' 'L6 IT Sulf_2' 'L6 IT Sulf_1'\n",
      " 'L6 IT Fos' 'L6b Ror1' 'Pvalb Reln' 'L6b Kcnip1' 'L5 IT Rspo1_2'\n",
      " 'L6b Shisa6' 'L5 ET_1' 'Lamp5 Lhx6' 'Sst Crhr2' 'Sst C1ql3' 'Sst Pvalb Th'\n",
      " 'L6 NP Trh' 'Pvalb Sst Th' 'Sst Myh8' 'Pvalb Gpr149' 'Vip Serpinf1'\n",
      " 'Oligo Opalin Serpinb1a' 'L5 IT S100b_1' 'L5 ET_3' 'Sst Chodl'\n",
      " 'Astro Aqp4' 'Micro Siglech' 'L5 ET_2' 'Endo Slc38a5' 'OPC Pdgfra'\n",
      " 'Oligo Opalin Cntn1']\n",
      "46\n",
      "40\n",
      "6\n"
     ]
    }
   ],
   "source": [
    "print(meta['cluster_label'].unique())\n",
    "print(len(meta['cluster_id'].unique()))\n",
    "print(len(meta.loc[meta['class_label']!='Non-Neuronal', 'cluster_id'].unique()))\n",
    "print(len(meta.loc[meta['class_label']=='Non-Neuronal', 'cluster_id'].unique()))"
   ]
  },
  {
   "cell_type": "code",
   "execution_count": 23,
   "metadata": {},
   "outputs": [
    {
     "name": "stdout",
     "output_type": "stream",
     "text": [
      "class_label\n",
      "GABAergic        1744\n",
      "Glutamatergic    4167\n",
      "Non-Neuronal      260\n",
      "dtype: int64\n",
      "(5911, 145)\n"
     ]
    }
   ],
   "source": [
    "# filter meta\n",
    "print(meta.groupby('class_label').size())\n",
    "meta = meta[meta['class_label'].str.contains(r'^Glu|^GABA')]\n",
    "# meta = meta[meta['class_label']!='Non-Neuronal']\n",
    "print(meta.shape)"
   ]
  },
  {
   "cell_type": "code",
   "execution_count": 57,
   "metadata": {},
   "outputs": [
    {
     "name": "stdout",
     "output_type": "stream",
     "text": [
      "(32324, 5911) (32324,) (5911,)\n"
     ]
    }
   ],
   "source": [
    "selected_cells = meta.index.values\n",
    "selected_cells_id = snmcseq_utils.get_index_from_array(gc_mat.cell, selected_cells)\n",
    "assert np.all(selected_cells_id != -1)\n",
    "\n",
    "gc_mat_update = GC_matrix(gc_mat.gene, selected_cells, gc_mat.data.tocsc()[:, selected_cells_id])\n",
    "print(gc_mat_update.data.shape, gc_mat_update.gene.shape, gc_mat_update.cell.shape)"
   ]
  },
  {
   "cell_type": "code",
   "execution_count": 58,
   "metadata": {},
   "outputs": [
    {
     "name": "stdout",
     "output_type": "stream",
     "text": [
      "51.310542821884155\n"
     ]
    }
   ],
   "source": [
    "# output\n",
    "# save \n",
    "ti = time.time()\n",
    "snmcseq_utils.save_gc_matrix(gc_mat_update, fout_data_gene, fout_data_cell, fout_data)\n",
    "print(time.time()-ti)"
   ]
  },
  {
   "cell_type": "code",
   "execution_count": 12,
   "metadata": {},
   "outputs": [],
   "source": [
    "# assemble metadata (keep order, add male and female)\n",
    "meta.index.name = 'cell'\n",
    "meta.to_csv(fout_meta, sep=\"\\t\", header=True, index=True)"
   ]
  },
  {
   "cell_type": "markdown",
   "metadata": {},
   "source": [
    "### mC\n",
    "\n",
    "- QC'ed cells\n",
    "- remove version on ensembl id"
   ]
  },
  {
   "cell_type": "code",
   "execution_count": 74,
   "metadata": {},
   "outputs": [
    {
     "name": "stdout",
     "output_type": "stream",
     "text": [
      "/cndd/fangming/CEMBA/data/MOp_all/data_freeze_qc_cells/snmcseq_gene_metadata.tsv\n",
      "/cndd/fangming/CEMBA/data/MOp_all/data_freeze_qc_cells/snmcseq_gene_mCH_raw.npz\n",
      "/cndd/fangming/CEMBA/data/MOp_all/data_freeze_qc_cells/snmcseq_gene_CH_raw.npz\n",
      "/cndd/fangming/CEMBA/data/MOp_all/data_freeze_qc_cells/snmcseq_gene_raw.gene\n",
      "/cndd/fangming/CEMBA/data/MOp_all/data_freeze_qc_cells/snmcseq_gene_raw.cell\n"
     ]
    }
   ],
   "source": [
    "dataset_name = 'snmcseq_gene'\n",
    "\n",
    "f_meta = os.path.join(SRC_DIR, dataset_name+'_metadata.tsv') \n",
    "f_data_mc = os.path.join(SRC_DIR, dataset_name+'_mCH_raw.npz') \n",
    "f_data_c = os.path.join(SRC_DIR, dataset_name+'_CH_raw.npz') \n",
    "f_data_gene = os.path.join(SRC_DIR, dataset_name+'_raw.gene') \n",
    "f_data_cell = os.path.join(SRC_DIR, dataset_name+'_raw.cell') \n",
    "\n",
    "print(f_meta)\n",
    "print(f_data_mc)\n",
    "print(f_data_c)\n",
    "print(f_data_gene)\n",
    "print(f_data_cell)\n",
    "\n",
    "# fout_meta = os.path.join(DST_DIR, dataset_name+'_metadata.tsv') \n",
    "# fout_data_mc = os.path.join(DST_DIR, dataset_name+'_mCH_raw.npz') \n",
    "# fout_data_c = os.path.join(DST_DIR, dataset_name+'_CH_raw.npz') \n",
    "# fout_data_gene = os.path.join(DST_DIR, dataset_name+'_raw.gene') \n",
    "# fout_data_cell = os.path.join(DST_DIR, dataset_name+'_raw.cell') \n",
    "\n",
    "\n",
    "# print(fout_meta)\n",
    "# print(fout_data_mc)\n",
    "# print(fout_data_c)\n",
    "# print(fout_data_gene)\n",
    "# print(fout_data_cell)"
   ]
  },
  {
   "cell_type": "code",
   "execution_count": 90,
   "metadata": {},
   "outputs": [
    {
     "name": "stdout",
     "output_type": "stream",
     "text": [
      "(9876, 31)\n"
     ]
    },
    {
     "data": {
      "text/html": [
       "<div>\n",
       "<style scoped>\n",
       "    .dataframe tbody tr th:only-of-type {\n",
       "        vertical-align: middle;\n",
       "    }\n",
       "\n",
       "    .dataframe tbody tr th {\n",
       "        vertical-align: top;\n",
       "    }\n",
       "\n",
       "    .dataframe thead th {\n",
       "        text-align: right;\n",
       "    }\n",
       "</style>\n",
       "<table border=\"1\" class=\"dataframe\">\n",
       "  <thead>\n",
       "    <tr style=\"text-align: right;\">\n",
       "      <th></th>\n",
       "      <th>FullCellID</th>\n",
       "      <th>CCC_Rate</th>\n",
       "      <th>CG_Rate</th>\n",
       "      <th>CG_RateAdj</th>\n",
       "      <th>CH_Rate</th>\n",
       "      <th>CH_RateAdj</th>\n",
       "      <th>FinalReads</th>\n",
       "      <th>InputReads</th>\n",
       "      <th>MappedReads</th>\n",
       "      <th>Region</th>\n",
       "      <th>...</th>\n",
       "      <th>Slice</th>\n",
       "      <th>PassFilter</th>\n",
       "      <th>pca_0</th>\n",
       "      <th>pca_1</th>\n",
       "      <th>umap_0</th>\n",
       "      <th>umap_1</th>\n",
       "      <th>tsne_0</th>\n",
       "      <th>tsne_1</th>\n",
       "      <th>MajorCluster</th>\n",
       "      <th>SubCluster</th>\n",
       "    </tr>\n",
       "    <tr>\n",
       "      <th>cell</th>\n",
       "      <th></th>\n",
       "      <th></th>\n",
       "      <th></th>\n",
       "      <th></th>\n",
       "      <th></th>\n",
       "      <th></th>\n",
       "      <th></th>\n",
       "      <th></th>\n",
       "      <th></th>\n",
       "      <th></th>\n",
       "      <th></th>\n",
       "      <th></th>\n",
       "      <th></th>\n",
       "      <th></th>\n",
       "      <th></th>\n",
       "      <th></th>\n",
       "      <th></th>\n",
       "      <th></th>\n",
       "      <th></th>\n",
       "      <th></th>\n",
       "      <th></th>\n",
       "    </tr>\n",
       "  </thead>\n",
       "  <tbody>\n",
       "    <tr>\n",
       "      <th>snmcseq_gene_2C_M_0</th>\n",
       "      <td>180508_CEMBA_mm_P56_P63_2C_CEMBA180409_2C_1_CE...</td>\n",
       "      <td>0.00511</td>\n",
       "      <td>0.77073</td>\n",
       "      <td>0.76955</td>\n",
       "      <td>0.02154</td>\n",
       "      <td>0.01651</td>\n",
       "      <td>1076259.0</td>\n",
       "      <td>2314862</td>\n",
       "      <td>1517338.0</td>\n",
       "      <td>2C</td>\n",
       "      <td>...</td>\n",
       "      <td>2</td>\n",
       "      <td>True</td>\n",
       "      <td>-11.588627</td>\n",
       "      <td>-0.005045</td>\n",
       "      <td>10.051389</td>\n",
       "      <td>7.099836</td>\n",
       "      <td>-3.343437</td>\n",
       "      <td>18.330174</td>\n",
       "      <td>L4-IT-Rorb</td>\n",
       "      <td>L4-IT-Rorb_Rorb-Tenm2</td>\n",
       "    </tr>\n",
       "    <tr>\n",
       "      <th>snmcseq_gene_2C_M_1</th>\n",
       "      <td>180508_CEMBA_mm_P56_P63_2C_CEMBA180409_2C_1_CE...</td>\n",
       "      <td>0.00531</td>\n",
       "      <td>0.75683</td>\n",
       "      <td>0.75553</td>\n",
       "      <td>0.02196</td>\n",
       "      <td>0.01674</td>\n",
       "      <td>1197092.0</td>\n",
       "      <td>2590626</td>\n",
       "      <td>1709334.0</td>\n",
       "      <td>2C</td>\n",
       "      <td>...</td>\n",
       "      <td>2</td>\n",
       "      <td>True</td>\n",
       "      <td>-19.267288</td>\n",
       "      <td>-7.374098</td>\n",
       "      <td>13.717241</td>\n",
       "      <td>-1.786627</td>\n",
       "      <td>9.212860</td>\n",
       "      <td>-26.514785</td>\n",
       "      <td>L23-IT-Cux2</td>\n",
       "      <td>L23-IT-Cux2</td>\n",
       "    </tr>\n",
       "    <tr>\n",
       "      <th>snmcseq_gene_2C_M_10</th>\n",
       "      <td>180508_CEMBA_mm_P56_P63_2C_CEMBA180409_2C_1_CE...</td>\n",
       "      <td>0.00581</td>\n",
       "      <td>0.75720</td>\n",
       "      <td>0.75578</td>\n",
       "      <td>0.02603</td>\n",
       "      <td>0.02034</td>\n",
       "      <td>1006630.0</td>\n",
       "      <td>2348484</td>\n",
       "      <td>1606410.0</td>\n",
       "      <td>2C</td>\n",
       "      <td>...</td>\n",
       "      <td>2</td>\n",
       "      <td>True</td>\n",
       "      <td>-15.340144</td>\n",
       "      <td>-2.739380</td>\n",
       "      <td>4.829485</td>\n",
       "      <td>9.943986</td>\n",
       "      <td>-22.960995</td>\n",
       "      <td>13.509483</td>\n",
       "      <td>Outlier</td>\n",
       "      <td>Outlier</td>\n",
       "    </tr>\n",
       "    <tr>\n",
       "      <th>snmcseq_gene_2C_M_100</th>\n",
       "      <td>180508_CEMBA_mm_P56_P63_2C_CEMBA180409_2C_1_CE...</td>\n",
       "      <td>0.00634</td>\n",
       "      <td>0.74984</td>\n",
       "      <td>0.74824</td>\n",
       "      <td>0.02718</td>\n",
       "      <td>0.02097</td>\n",
       "      <td>2026078.0</td>\n",
       "      <td>4599922</td>\n",
       "      <td>3154619.0</td>\n",
       "      <td>2C</td>\n",
       "      <td>...</td>\n",
       "      <td>2</td>\n",
       "      <td>True</td>\n",
       "      <td>-23.625140</td>\n",
       "      <td>-5.929033</td>\n",
       "      <td>13.739521</td>\n",
       "      <td>1.107174</td>\n",
       "      <td>12.798545</td>\n",
       "      <td>-17.126331</td>\n",
       "      <td>L23-IT-Cux2</td>\n",
       "      <td>L23-IT-Cux2</td>\n",
       "    </tr>\n",
       "    <tr>\n",
       "      <th>snmcseq_gene_2C_M_1000</th>\n",
       "      <td>180508_CEMBA_mm_P56_P63_2C_CEMBA180409_2C_3_CE...</td>\n",
       "      <td>0.00521</td>\n",
       "      <td>0.77073</td>\n",
       "      <td>0.76953</td>\n",
       "      <td>0.02117</td>\n",
       "      <td>0.01604</td>\n",
       "      <td>2368464.0</td>\n",
       "      <td>5320502</td>\n",
       "      <td>3648786.0</td>\n",
       "      <td>2C</td>\n",
       "      <td>...</td>\n",
       "      <td>2</td>\n",
       "      <td>True</td>\n",
       "      <td>-21.815190</td>\n",
       "      <td>-7.130878</td>\n",
       "      <td>14.154541</td>\n",
       "      <td>-2.284118</td>\n",
       "      <td>8.443658</td>\n",
       "      <td>-27.943267</td>\n",
       "      <td>L23-IT-Cux2</td>\n",
       "      <td>L23-IT-Cux2</td>\n",
       "    </tr>\n",
       "  </tbody>\n",
       "</table>\n",
       "<p>5 rows × 31 columns</p>\n",
       "</div>"
      ],
      "text/plain": [
       "                                                               FullCellID  \\\n",
       "cell                                                                        \n",
       "snmcseq_gene_2C_M_0     180508_CEMBA_mm_P56_P63_2C_CEMBA180409_2C_1_CE...   \n",
       "snmcseq_gene_2C_M_1     180508_CEMBA_mm_P56_P63_2C_CEMBA180409_2C_1_CE...   \n",
       "snmcseq_gene_2C_M_10    180508_CEMBA_mm_P56_P63_2C_CEMBA180409_2C_1_CE...   \n",
       "snmcseq_gene_2C_M_100   180508_CEMBA_mm_P56_P63_2C_CEMBA180409_2C_1_CE...   \n",
       "snmcseq_gene_2C_M_1000  180508_CEMBA_mm_P56_P63_2C_CEMBA180409_2C_3_CE...   \n",
       "\n",
       "                        CCC_Rate  CG_Rate  CG_RateAdj  CH_Rate  CH_RateAdj  \\\n",
       "cell                                                                         \n",
       "snmcseq_gene_2C_M_0      0.00511  0.77073     0.76955  0.02154     0.01651   \n",
       "snmcseq_gene_2C_M_1      0.00531  0.75683     0.75553  0.02196     0.01674   \n",
       "snmcseq_gene_2C_M_10     0.00581  0.75720     0.75578  0.02603     0.02034   \n",
       "snmcseq_gene_2C_M_100    0.00634  0.74984     0.74824  0.02718     0.02097   \n",
       "snmcseq_gene_2C_M_1000   0.00521  0.77073     0.76953  0.02117     0.01604   \n",
       "\n",
       "                        FinalReads  InputReads  MappedReads Region  ... Slice  \\\n",
       "cell                                                                ...         \n",
       "snmcseq_gene_2C_M_0      1076259.0     2314862    1517338.0     2C  ...     2   \n",
       "snmcseq_gene_2C_M_1      1197092.0     2590626    1709334.0     2C  ...     2   \n",
       "snmcseq_gene_2C_M_10     1006630.0     2348484    1606410.0     2C  ...     2   \n",
       "snmcseq_gene_2C_M_100    2026078.0     4599922    3154619.0     2C  ...     2   \n",
       "snmcseq_gene_2C_M_1000   2368464.0     5320502    3648786.0     2C  ...     2   \n",
       "\n",
       "                       PassFilter      pca_0     pca_1     umap_0    umap_1  \\\n",
       "cell                                                                          \n",
       "snmcseq_gene_2C_M_0          True -11.588627 -0.005045  10.051389  7.099836   \n",
       "snmcseq_gene_2C_M_1          True -19.267288 -7.374098  13.717241 -1.786627   \n",
       "snmcseq_gene_2C_M_10         True -15.340144 -2.739380   4.829485  9.943986   \n",
       "snmcseq_gene_2C_M_100        True -23.625140 -5.929033  13.739521  1.107174   \n",
       "snmcseq_gene_2C_M_1000       True -21.815190 -7.130878  14.154541 -2.284118   \n",
       "\n",
       "                           tsne_0     tsne_1  MajorCluster  \\\n",
       "cell                                                         \n",
       "snmcseq_gene_2C_M_0     -3.343437  18.330174    L4-IT-Rorb   \n",
       "snmcseq_gene_2C_M_1      9.212860 -26.514785   L23-IT-Cux2   \n",
       "snmcseq_gene_2C_M_10   -22.960995  13.509483       Outlier   \n",
       "snmcseq_gene_2C_M_100   12.798545 -17.126331   L23-IT-Cux2   \n",
       "snmcseq_gene_2C_M_1000   8.443658 -27.943267   L23-IT-Cux2   \n",
       "\n",
       "                                   SubCluster  \n",
       "cell                                           \n",
       "snmcseq_gene_2C_M_0     L4-IT-Rorb_Rorb-Tenm2  \n",
       "snmcseq_gene_2C_M_1               L23-IT-Cux2  \n",
       "snmcseq_gene_2C_M_10                  Outlier  \n",
       "snmcseq_gene_2C_M_100             L23-IT-Cux2  \n",
       "snmcseq_gene_2C_M_1000            L23-IT-Cux2  \n",
       "\n",
       "[5 rows x 31 columns]"
      ]
     },
     "execution_count": 90,
     "metadata": {},
     "output_type": "execute_result"
    }
   ],
   "source": [
    "meta = pd.read_csv(f_meta, sep=\"\\t\", index_col=0)\n",
    "print(meta.shape)\n",
    "meta.head()"
   ]
  },
  {
   "cell_type": "code",
   "execution_count": 91,
   "metadata": {},
   "outputs": [
    {
     "name": "stdout",
     "output_type": "stream",
     "text": [
      "['FullCellID' 'CCC_Rate' 'CG_Rate' 'CG_RateAdj' 'CH_Rate' 'CH_RateAdj'\n",
      " 'FinalReads' 'InputReads' 'MappedReads' 'Region' 'index_name' 'uid'\n",
      " 'BamFilteringRate' 'MappingRate' 'Pos96' 'Plate' 'Col96' 'Row96' 'Col384'\n",
      " 'Row384' 'FACS_Date' 'Slice' 'PassFilter' 'pca_0' 'pca_1' 'umap_0'\n",
      " 'umap_1' 'tsne_0' 'tsne_1' 'MajorCluster' 'SubCluster']\n"
     ]
    }
   ],
   "source": [
    "print(meta.columns.values)"
   ]
  },
  {
   "cell_type": "code",
   "execution_count": 29,
   "metadata": {},
   "outputs": [
    {
     "name": "stdout",
     "output_type": "stream",
     "text": [
      "(55487, 9876) (55487, 9876) (55487,) (9876,)\n"
     ]
    }
   ],
   "source": [
    "gc_mat = snmcseq_utils.load_gc_matrix_methylation(f_data_gene, f_data_cell, f_data_mc, f_data_c)\n",
    "print(gc_mat.data['mc'].shape, gc_mat.data['c'].shape, gc_mat.gene.shape, gc_mat.cell.shape)"
   ]
  },
  {
   "cell_type": "code",
   "execution_count": 92,
   "metadata": {},
   "outputs": [
    {
     "data": {
      "text/html": [
       "<div>\n",
       "<style scoped>\n",
       "    .dataframe tbody tr th:only-of-type {\n",
       "        vertical-align: middle;\n",
       "    }\n",
       "\n",
       "    .dataframe tbody tr th {\n",
       "        vertical-align: top;\n",
       "    }\n",
       "\n",
       "    .dataframe thead th {\n",
       "        text-align: right;\n",
       "    }\n",
       "</style>\n",
       "<table border=\"1\" class=\"dataframe\">\n",
       "  <thead>\n",
       "    <tr style=\"text-align: right;\">\n",
       "      <th></th>\n",
       "      <th>FullCellID</th>\n",
       "      <th>CCC_Rate</th>\n",
       "      <th>CG_Rate</th>\n",
       "      <th>CG_RateAdj</th>\n",
       "      <th>CH_Rate</th>\n",
       "      <th>CH_RateAdj</th>\n",
       "      <th>FinalReads</th>\n",
       "      <th>InputReads</th>\n",
       "      <th>MappedReads</th>\n",
       "      <th>Region</th>\n",
       "      <th>...</th>\n",
       "      <th>Slice</th>\n",
       "      <th>PassFilter</th>\n",
       "      <th>pca_0</th>\n",
       "      <th>pca_1</th>\n",
       "      <th>umap_0</th>\n",
       "      <th>umap_1</th>\n",
       "      <th>tsne_0</th>\n",
       "      <th>tsne_1</th>\n",
       "      <th>MajorCluster</th>\n",
       "      <th>SubCluster</th>\n",
       "    </tr>\n",
       "    <tr>\n",
       "      <th>cell</th>\n",
       "      <th></th>\n",
       "      <th></th>\n",
       "      <th></th>\n",
       "      <th></th>\n",
       "      <th></th>\n",
       "      <th></th>\n",
       "      <th></th>\n",
       "      <th></th>\n",
       "      <th></th>\n",
       "      <th></th>\n",
       "      <th></th>\n",
       "      <th></th>\n",
       "      <th></th>\n",
       "      <th></th>\n",
       "      <th></th>\n",
       "      <th></th>\n",
       "      <th></th>\n",
       "      <th></th>\n",
       "      <th></th>\n",
       "      <th></th>\n",
       "      <th></th>\n",
       "    </tr>\n",
       "  </thead>\n",
       "  <tbody>\n",
       "    <tr>\n",
       "      <th>snmcseq_gene_2C_M_1090</th>\n",
       "      <td>180508_CEMBA_mm_P56_P63_2C_CEMBA180409_2C_3_CE...</td>\n",
       "      <td>0.00544</td>\n",
       "      <td>0.76321</td>\n",
       "      <td>0.76191</td>\n",
       "      <td>0.02349</td>\n",
       "      <td>0.01815</td>\n",
       "      <td>2296305.0</td>\n",
       "      <td>4959968</td>\n",
       "      <td>3470043.0</td>\n",
       "      <td>2C</td>\n",
       "      <td>...</td>\n",
       "      <td>2</td>\n",
       "      <td>True</td>\n",
       "      <td>-16.348400</td>\n",
       "      <td>5.032563</td>\n",
       "      <td>7.670473</td>\n",
       "      <td>8.456449</td>\n",
       "      <td>-13.462711</td>\n",
       "      <td>20.760003</td>\n",
       "      <td>L4-IT-Rorb</td>\n",
       "      <td>Outlier</td>\n",
       "    </tr>\n",
       "    <tr>\n",
       "      <th>snmcseq_gene_2C_M_1135</th>\n",
       "      <td>180508_CEMBA_mm_P56_P63_2C_CEMBA180409_2C_3_CE...</td>\n",
       "      <td>0.00540</td>\n",
       "      <td>0.77121</td>\n",
       "      <td>0.76997</td>\n",
       "      <td>0.02286</td>\n",
       "      <td>0.01755</td>\n",
       "      <td>2332977.0</td>\n",
       "      <td>5643100</td>\n",
       "      <td>3837928.0</td>\n",
       "      <td>2C</td>\n",
       "      <td>...</td>\n",
       "      <td>2</td>\n",
       "      <td>True</td>\n",
       "      <td>-12.510496</td>\n",
       "      <td>1.399961</td>\n",
       "      <td>7.740155</td>\n",
       "      <td>8.703683</td>\n",
       "      <td>-14.336394</td>\n",
       "      <td>20.211013</td>\n",
       "      <td>L4-IT-Rorb</td>\n",
       "      <td>Outlier</td>\n",
       "    </tr>\n",
       "    <tr>\n",
       "      <th>snmcseq_gene_2C_M_1137</th>\n",
       "      <td>180508_CEMBA_mm_P56_P63_2C_CEMBA180409_2C_3_CE...</td>\n",
       "      <td>0.00557</td>\n",
       "      <td>0.77005</td>\n",
       "      <td>0.76876</td>\n",
       "      <td>0.02357</td>\n",
       "      <td>0.01810</td>\n",
       "      <td>2370160.0</td>\n",
       "      <td>5683314</td>\n",
       "      <td>3917031.0</td>\n",
       "      <td>2C</td>\n",
       "      <td>...</td>\n",
       "      <td>2</td>\n",
       "      <td>True</td>\n",
       "      <td>-16.943895</td>\n",
       "      <td>-2.267719</td>\n",
       "      <td>8.222825</td>\n",
       "      <td>9.749823</td>\n",
       "      <td>-15.304365</td>\n",
       "      <td>14.935951</td>\n",
       "      <td>L4-IT-Rorb</td>\n",
       "      <td>Outlier</td>\n",
       "    </tr>\n",
       "    <tr>\n",
       "      <th>snmcseq_gene_2C_M_1194</th>\n",
       "      <td>180508_CEMBA_mm_P56_P63_2C_CEMBA180410_2C_1_CE...</td>\n",
       "      <td>0.00556</td>\n",
       "      <td>0.75936</td>\n",
       "      <td>0.75801</td>\n",
       "      <td>0.02474</td>\n",
       "      <td>0.01929</td>\n",
       "      <td>577854.0</td>\n",
       "      <td>1330274</td>\n",
       "      <td>850069.0</td>\n",
       "      <td>2C</td>\n",
       "      <td>...</td>\n",
       "      <td>2</td>\n",
       "      <td>True</td>\n",
       "      <td>-6.064854</td>\n",
       "      <td>-13.665043</td>\n",
       "      <td>8.977352</td>\n",
       "      <td>1.497896</td>\n",
       "      <td>-11.189207</td>\n",
       "      <td>-13.304892</td>\n",
       "      <td>L23-IT-Cux2</td>\n",
       "      <td>Outlier</td>\n",
       "    </tr>\n",
       "    <tr>\n",
       "      <th>snmcseq_gene_2C_M_131</th>\n",
       "      <td>180508_CEMBA_mm_P56_P63_2C_CEMBA180409_2C_1_CE...</td>\n",
       "      <td>0.00607</td>\n",
       "      <td>0.77063</td>\n",
       "      <td>0.76923</td>\n",
       "      <td>0.02344</td>\n",
       "      <td>0.01748</td>\n",
       "      <td>1671795.0</td>\n",
       "      <td>3883598</td>\n",
       "      <td>2682625.0</td>\n",
       "      <td>2C</td>\n",
       "      <td>...</td>\n",
       "      <td>2</td>\n",
       "      <td>True</td>\n",
       "      <td>-10.842959</td>\n",
       "      <td>5.305491</td>\n",
       "      <td>8.172520</td>\n",
       "      <td>6.193986</td>\n",
       "      <td>-1.238518</td>\n",
       "      <td>25.684641</td>\n",
       "      <td>L4-IT-Rorb</td>\n",
       "      <td>Outlier</td>\n",
       "    </tr>\n",
       "  </tbody>\n",
       "</table>\n",
       "<p>5 rows × 31 columns</p>\n",
       "</div>"
      ],
      "text/plain": [
       "                                                               FullCellID  \\\n",
       "cell                                                                        \n",
       "snmcseq_gene_2C_M_1090  180508_CEMBA_mm_P56_P63_2C_CEMBA180409_2C_3_CE...   \n",
       "snmcseq_gene_2C_M_1135  180508_CEMBA_mm_P56_P63_2C_CEMBA180409_2C_3_CE...   \n",
       "snmcseq_gene_2C_M_1137  180508_CEMBA_mm_P56_P63_2C_CEMBA180409_2C_3_CE...   \n",
       "snmcseq_gene_2C_M_1194  180508_CEMBA_mm_P56_P63_2C_CEMBA180410_2C_1_CE...   \n",
       "snmcseq_gene_2C_M_131   180508_CEMBA_mm_P56_P63_2C_CEMBA180409_2C_1_CE...   \n",
       "\n",
       "                        CCC_Rate  CG_Rate  CG_RateAdj  CH_Rate  CH_RateAdj  \\\n",
       "cell                                                                         \n",
       "snmcseq_gene_2C_M_1090   0.00544  0.76321     0.76191  0.02349     0.01815   \n",
       "snmcseq_gene_2C_M_1135   0.00540  0.77121     0.76997  0.02286     0.01755   \n",
       "snmcseq_gene_2C_M_1137   0.00557  0.77005     0.76876  0.02357     0.01810   \n",
       "snmcseq_gene_2C_M_1194   0.00556  0.75936     0.75801  0.02474     0.01929   \n",
       "snmcseq_gene_2C_M_131    0.00607  0.77063     0.76923  0.02344     0.01748   \n",
       "\n",
       "                        FinalReads  InputReads  MappedReads Region  ... Slice  \\\n",
       "cell                                                                ...         \n",
       "snmcseq_gene_2C_M_1090   2296305.0     4959968    3470043.0     2C  ...     2   \n",
       "snmcseq_gene_2C_M_1135   2332977.0     5643100    3837928.0     2C  ...     2   \n",
       "snmcseq_gene_2C_M_1137   2370160.0     5683314    3917031.0     2C  ...     2   \n",
       "snmcseq_gene_2C_M_1194    577854.0     1330274     850069.0     2C  ...     2   \n",
       "snmcseq_gene_2C_M_131    1671795.0     3883598    2682625.0     2C  ...     2   \n",
       "\n",
       "                       PassFilter      pca_0      pca_1    umap_0    umap_1  \\\n",
       "cell                                                                          \n",
       "snmcseq_gene_2C_M_1090       True -16.348400   5.032563  7.670473  8.456449   \n",
       "snmcseq_gene_2C_M_1135       True -12.510496   1.399961  7.740155  8.703683   \n",
       "snmcseq_gene_2C_M_1137       True -16.943895  -2.267719  8.222825  9.749823   \n",
       "snmcseq_gene_2C_M_1194       True  -6.064854 -13.665043  8.977352  1.497896   \n",
       "snmcseq_gene_2C_M_131        True -10.842959   5.305491  8.172520  6.193986   \n",
       "\n",
       "                           tsne_0     tsne_1  MajorCluster  SubCluster  \n",
       "cell                                                                    \n",
       "snmcseq_gene_2C_M_1090 -13.462711  20.760003    L4-IT-Rorb     Outlier  \n",
       "snmcseq_gene_2C_M_1135 -14.336394  20.211013    L4-IT-Rorb     Outlier  \n",
       "snmcseq_gene_2C_M_1137 -15.304365  14.935951    L4-IT-Rorb     Outlier  \n",
       "snmcseq_gene_2C_M_1194 -11.189207 -13.304892   L23-IT-Cux2     Outlier  \n",
       "snmcseq_gene_2C_M_131   -1.238518  25.684641    L4-IT-Rorb     Outlier  \n",
       "\n",
       "[5 rows x 31 columns]"
      ]
     },
     "execution_count": 92,
     "metadata": {},
     "output_type": "execute_result"
    }
   ],
   "source": [
    "meta[((meta['MajorCluster']!='Outlier') & (meta['SubCluster']=='Outlier'))].head()"
   ]
  },
  {
   "cell_type": "code",
   "execution_count": 94,
   "metadata": {},
   "outputs": [
    {
     "name": "stdout",
     "output_type": "stream",
     "text": [
      "['L4-IT-Rorb' 'L23-IT-Cux2' 'Outlier' 'CGE-VipNdnf' 'L6-IT-Sulf1'\n",
      " 'L5-IT-Deptor' 'NonN' 'MGE-Sst' 'L6-CT-Foxp2' 'L6-NP-Tshz2' 'L5-PT-Bcl6'\n",
      " 'MGE-Pvalb' 'L6b-Galnt10']\n",
      "['L4-IT-Rorb_Rorb-Tenm2' 'L23-IT-Cux2' 'Outlier' 'CGE-VipNdnf_Lamp5-Unc5d'\n",
      " 'L4-IT-Rorb_Rorb-Ryr3' 'CGE-VipNdnf_Pex5l' 'L4-IT-Rorb_Rorb-Cpne4'\n",
      " 'L6-IT-Sulf1_Cables1' 'L5-IT-Deptor' 'NonN_Micro-Csf1r'\n",
      " 'NonN_Astro-Slc1a2' 'NonN_OPC-Pdgfra' 'NonN_Endo-Nxn' 'MGE-Sst_Prep'\n",
      " 'L6-CT-Foxp2_Spon1' 'L6-NP-Tshz2' 'L6-IT-Sulf1_Meis2'\n",
      " 'L6-CT-Foxp2_Foxp2-Glra2' 'MGE-Sst_Daam2' 'MGE-Sst_Whrn' 'L5-PT-Bcl6'\n",
      " 'CGE-VipNdnf_Vip-Unc5b' 'CGE-VipNdnf_Vip-Ano4' 'MGE-Pvalb_Man2a1'\n",
      " 'MGE-Sst_Gfra2' 'MGE-Pvalb_Chrna7' 'CGE-VipNdnf_Vip-Sorcs1'\n",
      " 'L6-CT-Foxp2_Foxp2-Kcnh5' 'MGE-Pvalb_Cnih3' 'NonN_VLMC-Slc6a13'\n",
      " 'CGE-VipNdnf_Vip-Prr16' 'CGE-VipNdnf_Lamp5-Ndnf' 'NonN_ODC-Mog'\n",
      " 'L6-IT-Sulf1_Pcdh15' 'L6-CT-Foxp2_Hcrtr2' 'MGE-Sst_Srrm4' 'MGE-Sst_Kcnip4'\n",
      " 'NonN_SMC-Myo1b' 'L6-IT-Sulf1_Sulf1' 'L6-CT-Foxp2_Foxp2-Wscd1'\n",
      " 'MGE-Sst_Chodl' 'MGE-Pvalb_Unc5b' 'L6b-Galnt10']\n",
      "['L4-IT-Rorb_Rorb-Tenm2' 'L23-IT-Cux2' 'CGE-VipNdnf_Lamp5-Unc5d'\n",
      " 'L4-IT-Rorb_Rorb-Ryr3' 'CGE-VipNdnf_Pex5l' 'L4-IT-Rorb_Rorb-Cpne4'\n",
      " 'L6-IT-Sulf1_Cables1' 'L5-IT-Deptor' 'MGE-Sst_Prep' 'L6-CT-Foxp2_Spon1'\n",
      " 'L6-NP-Tshz2' 'L6-IT-Sulf1_Meis2' 'L6-CT-Foxp2_Foxp2-Glra2'\n",
      " 'MGE-Sst_Daam2' 'MGE-Sst_Whrn' 'L5-PT-Bcl6' 'CGE-VipNdnf_Vip-Unc5b'\n",
      " 'CGE-VipNdnf_Vip-Ano4' 'MGE-Pvalb_Man2a1' 'MGE-Sst_Gfra2' 'Outlier'\n",
      " 'MGE-Pvalb_Chrna7' 'CGE-VipNdnf_Vip-Sorcs1' 'L6-CT-Foxp2_Foxp2-Kcnh5'\n",
      " 'MGE-Pvalb_Cnih3' 'CGE-VipNdnf_Vip-Prr16' 'CGE-VipNdnf_Lamp5-Ndnf'\n",
      " 'L6-IT-Sulf1_Pcdh15' 'L6-CT-Foxp2_Hcrtr2' 'MGE-Sst_Srrm4' 'MGE-Sst_Kcnip4'\n",
      " 'L6-IT-Sulf1_Sulf1' 'L6-CT-Foxp2_Foxp2-Wscd1' 'MGE-Sst_Chodl'\n",
      " 'MGE-Pvalb_Unc5b' 'L6b-Galnt10']\n",
      "['NonN_Micro-Csf1r' 'NonN_Astro-Slc1a2' 'NonN_OPC-Pdgfra' 'NonN_Endo-Nxn'\n",
      " 'NonN_VLMC-Slc6a13' 'NonN_ODC-Mog' 'NonN_SMC-Myo1b']\n",
      "43\n",
      "36\n",
      "7\n"
     ]
    }
   ],
   "source": [
    "\n",
    "print(meta['MajorCluster'].unique())\n",
    "print(meta['SubCluster'].unique())\n",
    "print(meta.loc[meta['MajorCluster'].str.contains(r'^L|^MGE|^CGE'), 'SubCluster'].unique())\n",
    "print(meta.loc[meta['MajorCluster'].str.contains(r'^NonN'), 'SubCluster'].unique())\n",
    "\n",
    "print(len(meta['SubCluster'].unique()))\n",
    "print(len(meta.loc[meta['MajorCluster'].str.contains(r'^L|^MGE|^CGE'), 'SubCluster'].unique()))\n",
    "print(len(meta.loc[meta['MajorCluster'].str.contains(r'^NonN'), 'SubCluster'].unique()))"
   ]
  },
  {
   "cell_type": "code",
   "execution_count": 89,
   "metadata": {},
   "outputs": [
    {
     "name": "stdout",
     "output_type": "stream",
     "text": [
      "MajorCluster\n",
      "CGE-VipNdnf      625\n",
      "L23-IT-Cux2     2057\n",
      "L4-IT-Rorb      1582\n",
      "L5-IT-Deptor     898\n",
      "L5-PT-Bcl6       354\n",
      "L6-CT-Foxp2     1622\n",
      "L6-IT-Sulf1      881\n",
      "L6-NP-Tshz2      275\n",
      "L6b-Galnt10      141\n",
      "MGE-Pvalb        460\n",
      "MGE-Sst          471\n",
      "NonN             428\n",
      "Outlier           82\n",
      "dtype: int64\n",
      "(9876, 31)\n",
      "(9366, 31)\n"
     ]
    },
    {
     "data": {
      "text/plain": [
       "array(['L4-IT-Rorb', 'L23-IT-Cux2', 'CGE-VipNdnf', 'L6-IT-Sulf1',\n",
       "       'L5-IT-Deptor', 'MGE-Sst', 'L6-CT-Foxp2', 'L6-NP-Tshz2',\n",
       "       'L5-PT-Bcl6', 'MGE-Pvalb', 'L6b-Galnt10'], dtype=object)"
      ]
     },
     "execution_count": 89,
     "metadata": {},
     "output_type": "execute_result"
    }
   ],
   "source": [
    "# meta[meta]\n",
    "print(meta.groupby('MajorCluster').size())\n",
    "print(meta.shape)\n",
    "meta = meta.loc[meta['MajorCluster'].str.contains(r'^L|^MGE|^CGE')] # removed non-neuronal and outlier\n",
    "print(meta.shape)\n",
    "meta['MajorCluster'].unique()\n"
   ]
  },
  {
   "cell_type": "code",
   "execution_count": 38,
   "metadata": {},
   "outputs": [
    {
     "name": "stdout",
     "output_type": "stream",
     "text": [
      "(1556, 31)\n",
      "(7810, 31)\n"
     ]
    }
   ],
   "source": [
    "meta.groupby('MajorCluster').size()\n",
    "print(meta.loc[meta['MajorCluster'].str.contains('^MGE|^CGE')].shape)\n",
    "print(meta.loc[meta['MajorCluster'].str.contains('^L')].shape)"
   ]
  },
  {
   "cell_type": "code",
   "execution_count": 31,
   "metadata": {},
   "outputs": [
    {
     "name": "stdout",
     "output_type": "stream",
     "text": [
      "(55487, 9366) (55487, 9366) (55487,) (9366,)\n"
     ]
    }
   ],
   "source": [
    "selected_cells = meta.index.values\n",
    "selected_cells_id = snmcseq_utils.get_index_from_array(gc_mat.cell, selected_cells)\n",
    "assert np.all(selected_cells_id != -1)\n",
    "\n",
    "data_update = {'mc': gc_mat.data['mc'].tocsc()[:, selected_cells_id], \n",
    "               'c': gc_mat.data['c'].tocsc()[:, selected_cells_id], \n",
    "              }\n",
    "\n",
    "gc_mat_update = GC_matrix(gc_mat.gene, selected_cells, data_update)\n",
    "print(gc_mat_update.data['mc'].shape, \n",
    "      gc_mat_update.data['c'].shape, \n",
    "      gc_mat_update.gene.shape, gc_mat_update.cell.shape)"
   ]
  },
  {
   "cell_type": "code",
   "execution_count": 32,
   "metadata": {},
   "outputs": [],
   "source": [
    "# save mc and c tables\n",
    "\n",
    "snmcseq_utils.save_gc_matrix_methylation(gc_mat_update, \n",
    "                                         fout_data_gene, fout_data_cell, \n",
    "                                         fout_data_mc, fout_data_c)"
   ]
  },
  {
   "cell_type": "code",
   "execution_count": 33,
   "metadata": {},
   "outputs": [],
   "source": [
    "# assemble metadata (keep order, add male and female)\n",
    "meta.index.name = 'cell'\n",
    "meta.to_csv(fout_meta, sep=\"\\t\", header=True, index=True)"
   ]
  },
  {
   "cell_type": "markdown",
   "metadata": {},
   "source": [
    "### ATAC \n",
    "- rename barcode and header\n",
    "- read snap files"
   ]
  },
  {
   "cell_type": "code",
   "execution_count": 97,
   "metadata": {},
   "outputs": [],
   "source": [
    "dataset_name = 'snatac_gene'\n",
    "\n",
    "f_meta = os.path.join(SRC_DIR, dataset_name+'_metadata.tsv') \n",
    "f_data = os.path.join(SRC_DIR, dataset_name+'_raw.npz') \n",
    "f_data_gene = os.path.join(SRC_DIR, dataset_name+'_raw.gene') \n",
    "f_data_cell = os.path.join(SRC_DIR, dataset_name+'_raw.cell') \n",
    "\n",
    "# fout_meta = os.path.join(DST_DIR, dataset_name+'_metadata.tsv') \n",
    "# fout_data = os.path.join(DST_DIR, dataset_name+'_raw.npz') \n",
    "# fout_data_gene = os.path.join(DST_DIR, dataset_name+'_raw.gene') \n",
    "# fout_data_cell = os.path.join(DST_DIR, dataset_name+'_raw.cell') \n",
    "\n",
    "# print(f_meta)\n",
    "# print(fout_meta)\n",
    "# print(f_data)\n",
    "# print(fout_data)"
   ]
  },
  {
   "cell_type": "code",
   "execution_count": 98,
   "metadata": {},
   "outputs": [
    {
     "name": "stdout",
     "output_type": "stream",
     "text": [
      "(81196, 12)\n"
     ]
    },
    {
     "data": {
      "text/html": [
       "<div>\n",
       "<style scoped>\n",
       "    .dataframe tbody tr th:only-of-type {\n",
       "        vertical-align: middle;\n",
       "    }\n",
       "\n",
       "    .dataframe tbody tr th {\n",
       "        vertical-align: top;\n",
       "    }\n",
       "\n",
       "    .dataframe thead th {\n",
       "        text-align: right;\n",
       "    }\n",
       "</style>\n",
       "<table border=\"1\" class=\"dataframe\">\n",
       "  <thead>\n",
       "    <tr style=\"text-align: right;\">\n",
       "      <th></th>\n",
       "      <th>sample</th>\n",
       "      <th>barcode</th>\n",
       "      <th>TN</th>\n",
       "      <th>UM</th>\n",
       "      <th>PP</th>\n",
       "      <th>UQ</th>\n",
       "      <th>CM</th>\n",
       "      <th>cluster</th>\n",
       "      <th>tsne1</th>\n",
       "      <th>tsne2</th>\n",
       "      <th>umap-1</th>\n",
       "      <th>umap-2</th>\n",
       "    </tr>\n",
       "    <tr>\n",
       "      <th>cell</th>\n",
       "      <th></th>\n",
       "      <th></th>\n",
       "      <th></th>\n",
       "      <th></th>\n",
       "      <th></th>\n",
       "      <th></th>\n",
       "      <th></th>\n",
       "      <th></th>\n",
       "      <th></th>\n",
       "      <th></th>\n",
       "      <th></th>\n",
       "      <th></th>\n",
       "    </tr>\n",
       "  </thead>\n",
       "  <tbody>\n",
       "    <tr>\n",
       "      <th>snatac_gene_CEMBA171206_3C_AGCGATAGAACCAGGTAAGAGATGTATAGCCT</th>\n",
       "      <td>CEMBA171206_3C</td>\n",
       "      <td>AGCGATAGAACCAGGTAAGAGATGTATAGCCT</td>\n",
       "      <td>138330</td>\n",
       "      <td>128263</td>\n",
       "      <td>128039</td>\n",
       "      <td>64868</td>\n",
       "      <td>0</td>\n",
       "      <td>L6.CT</td>\n",
       "      <td>7.605117</td>\n",
       "      <td>0.697672</td>\n",
       "      <td>-2.125204</td>\n",
       "      <td>-4.396653</td>\n",
       "    </tr>\n",
       "    <tr>\n",
       "      <th>snatac_gene_CEMBA171206_3C_AGCGATAGAACCAGGTAATGACGTCAGGACGT</th>\n",
       "      <td>CEMBA171206_3C</td>\n",
       "      <td>AGCGATAGAACCAGGTAATGACGTCAGGACGT</td>\n",
       "      <td>159133</td>\n",
       "      <td>146663</td>\n",
       "      <td>146348</td>\n",
       "      <td>69167</td>\n",
       "      <td>0</td>\n",
       "      <td>L23.b</td>\n",
       "      <td>-9.492925</td>\n",
       "      <td>-6.200938</td>\n",
       "      <td>8.959074</td>\n",
       "      <td>3.006819</td>\n",
       "    </tr>\n",
       "    <tr>\n",
       "      <th>snatac_gene_CEMBA171206_3C_AGCGATAGAACCAGGTAGGATAACATAGAGGC</th>\n",
       "      <td>CEMBA171206_3C</td>\n",
       "      <td>AGCGATAGAACCAGGTAGGATAACATAGAGGC</td>\n",
       "      <td>19152</td>\n",
       "      <td>17586</td>\n",
       "      <td>17545</td>\n",
       "      <td>8348</td>\n",
       "      <td>0</td>\n",
       "      <td>ASC</td>\n",
       "      <td>14.227358</td>\n",
       "      <td>-11.023748</td>\n",
       "      <td>-6.880754</td>\n",
       "      <td>-2.903271</td>\n",
       "    </tr>\n",
       "    <tr>\n",
       "      <th>snatac_gene_CEMBA171206_3C_AGCGATAGAACCAGGTATAGCCTTAGGCGAAG</th>\n",
       "      <td>CEMBA171206_3C</td>\n",
       "      <td>AGCGATAGAACCAGGTATAGCCTTAGGCGAAG</td>\n",
       "      <td>14876</td>\n",
       "      <td>13837</td>\n",
       "      <td>13801</td>\n",
       "      <td>6583</td>\n",
       "      <td>0</td>\n",
       "      <td>L6.CT</td>\n",
       "      <td>5.144768</td>\n",
       "      <td>4.790674</td>\n",
       "      <td>-0.955707</td>\n",
       "      <td>-4.635163</td>\n",
       "    </tr>\n",
       "    <tr>\n",
       "      <th>snatac_gene_CEMBA171206_3C_AGCGATAGAACCAGGTATAGCCTTATAGAGGC</th>\n",
       "      <td>CEMBA171206_3C</td>\n",
       "      <td>AGCGATAGAACCAGGTATAGCCTTATAGAGGC</td>\n",
       "      <td>28532</td>\n",
       "      <td>26303</td>\n",
       "      <td>26202</td>\n",
       "      <td>12437</td>\n",
       "      <td>0</td>\n",
       "      <td>L5.IT.b</td>\n",
       "      <td>5.218895</td>\n",
       "      <td>-8.674734</td>\n",
       "      <td>0.796851</td>\n",
       "      <td>4.447933</td>\n",
       "    </tr>\n",
       "  </tbody>\n",
       "</table>\n",
       "</div>"
      ],
      "text/plain": [
       "                                                            sample  \\\n",
       "cell                                                                 \n",
       "snatac_gene_CEMBA171206_3C_AGCGATAGAACCAGGTAAGA...  CEMBA171206_3C   \n",
       "snatac_gene_CEMBA171206_3C_AGCGATAGAACCAGGTAATG...  CEMBA171206_3C   \n",
       "snatac_gene_CEMBA171206_3C_AGCGATAGAACCAGGTAGGA...  CEMBA171206_3C   \n",
       "snatac_gene_CEMBA171206_3C_AGCGATAGAACCAGGTATAG...  CEMBA171206_3C   \n",
       "snatac_gene_CEMBA171206_3C_AGCGATAGAACCAGGTATAG...  CEMBA171206_3C   \n",
       "\n",
       "                                                                             barcode  \\\n",
       "cell                                                                                   \n",
       "snatac_gene_CEMBA171206_3C_AGCGATAGAACCAGGTAAGA...  AGCGATAGAACCAGGTAAGAGATGTATAGCCT   \n",
       "snatac_gene_CEMBA171206_3C_AGCGATAGAACCAGGTAATG...  AGCGATAGAACCAGGTAATGACGTCAGGACGT   \n",
       "snatac_gene_CEMBA171206_3C_AGCGATAGAACCAGGTAGGA...  AGCGATAGAACCAGGTAGGATAACATAGAGGC   \n",
       "snatac_gene_CEMBA171206_3C_AGCGATAGAACCAGGTATAG...  AGCGATAGAACCAGGTATAGCCTTAGGCGAAG   \n",
       "snatac_gene_CEMBA171206_3C_AGCGATAGAACCAGGTATAG...  AGCGATAGAACCAGGTATAGCCTTATAGAGGC   \n",
       "\n",
       "                                                        TN      UM      PP  \\\n",
       "cell                                                                         \n",
       "snatac_gene_CEMBA171206_3C_AGCGATAGAACCAGGTAAGA...  138330  128263  128039   \n",
       "snatac_gene_CEMBA171206_3C_AGCGATAGAACCAGGTAATG...  159133  146663  146348   \n",
       "snatac_gene_CEMBA171206_3C_AGCGATAGAACCAGGTAGGA...   19152   17586   17545   \n",
       "snatac_gene_CEMBA171206_3C_AGCGATAGAACCAGGTATAG...   14876   13837   13801   \n",
       "snatac_gene_CEMBA171206_3C_AGCGATAGAACCAGGTATAG...   28532   26303   26202   \n",
       "\n",
       "                                                       UQ  CM  cluster  \\\n",
       "cell                                                                     \n",
       "snatac_gene_CEMBA171206_3C_AGCGATAGAACCAGGTAAGA...  64868   0    L6.CT   \n",
       "snatac_gene_CEMBA171206_3C_AGCGATAGAACCAGGTAATG...  69167   0    L23.b   \n",
       "snatac_gene_CEMBA171206_3C_AGCGATAGAACCAGGTAGGA...   8348   0      ASC   \n",
       "snatac_gene_CEMBA171206_3C_AGCGATAGAACCAGGTATAG...   6583   0    L6.CT   \n",
       "snatac_gene_CEMBA171206_3C_AGCGATAGAACCAGGTATAG...  12437   0  L5.IT.b   \n",
       "\n",
       "                                                        tsne1      tsne2  \\\n",
       "cell                                                                       \n",
       "snatac_gene_CEMBA171206_3C_AGCGATAGAACCAGGTAAGA...   7.605117   0.697672   \n",
       "snatac_gene_CEMBA171206_3C_AGCGATAGAACCAGGTAATG...  -9.492925  -6.200938   \n",
       "snatac_gene_CEMBA171206_3C_AGCGATAGAACCAGGTAGGA...  14.227358 -11.023748   \n",
       "snatac_gene_CEMBA171206_3C_AGCGATAGAACCAGGTATAG...   5.144768   4.790674   \n",
       "snatac_gene_CEMBA171206_3C_AGCGATAGAACCAGGTATAG...   5.218895  -8.674734   \n",
       "\n",
       "                                                      umap-1    umap-2  \n",
       "cell                                                                    \n",
       "snatac_gene_CEMBA171206_3C_AGCGATAGAACCAGGTAAGA... -2.125204 -4.396653  \n",
       "snatac_gene_CEMBA171206_3C_AGCGATAGAACCAGGTAATG...  8.959074  3.006819  \n",
       "snatac_gene_CEMBA171206_3C_AGCGATAGAACCAGGTAGGA... -6.880754 -2.903271  \n",
       "snatac_gene_CEMBA171206_3C_AGCGATAGAACCAGGTATAG... -0.955707 -4.635163  \n",
       "snatac_gene_CEMBA171206_3C_AGCGATAGAACCAGGTATAG...  0.796851  4.447933  "
      ]
     },
     "execution_count": 98,
     "metadata": {},
     "output_type": "execute_result"
    }
   ],
   "source": [
    "meta = pd.read_csv(f_meta, sep=\"\\t\", index_col=0)\n",
    "print(meta.shape)\n",
    "meta.head()"
   ]
  },
  {
   "cell_type": "code",
   "execution_count": 22,
   "metadata": {},
   "outputs": [
    {
     "name": "stdout",
     "output_type": "stream",
     "text": [
      "(53278, 81196) (53278,) (81196,)\n"
     ]
    }
   ],
   "source": [
    "gc_mat = snmcseq_utils.load_gc_matrix(f_data_gene, f_data_cell, f_data)\n",
    "print(gc_mat.data.shape, gc_mat.gene.shape, gc_mat.cell.shape)"
   ]
  },
  {
   "cell_type": "code",
   "execution_count": 99,
   "metadata": {},
   "outputs": [
    {
     "name": "stdout",
     "output_type": "stream",
     "text": [
      "33\n",
      "26\n",
      "7\n"
     ]
    }
   ],
   "source": [
    "print(len(meta['cluster'].unique()))\n",
    "print(len(meta.loc[~meta['cluster'].str.contains(r'^OGC|^ASC|^MGC|^OPC|^Other|^Endo|^Smc'), 'cluster'].unique()))\n",
    "print(len(meta.loc[meta['cluster'].str.contains(r'^OGC|^ASC|^MGC|^OPC|^Other|^Endo|^Smc'), 'cluster'].unique()))"
   ]
  },
  {
   "cell_type": "code",
   "execution_count": 45,
   "metadata": {},
   "outputs": [
    {
     "name": "stdout",
     "output_type": "stream",
     "text": [
      "OGC                8557\n",
      "L6.CT              8008\n",
      "L4                 7307\n",
      "ASC                7215\n",
      "L23.a              6085\n",
      "L23.b              5758\n",
      "L6.IT              4233\n",
      "L5.IT.b            4214\n",
      "MGC                3899\n",
      "L5.IT.a            3668\n",
      "L23.c              3590\n",
      "OPC                3279\n",
      "Pv_Tac1            1944\n",
      "L5.PT              1755\n",
      "Other              1571\n",
      "Sst_Man1a          1355\n",
      "NP                 1291\n",
      "Endo               1245\n",
      "Pv_Ntf3_Trim63     1105\n",
      "Lamp5_Smad3         940\n",
      "Smc                 586\n",
      "Sst_Chrna2_Myh8     538\n",
      "Vip_Chat            500\n",
      "Pv_Vsig2            431\n",
      "Vip_Hcls1           395\n",
      "Vip_Gcnt4           292\n",
      "Sncg                246\n",
      "Sst_Stk33           246\n",
      "Vip_Lipg            245\n",
      "Lamp5_Arhgdib       237\n",
      "Lamp5_Ndnf          204\n",
      "Lamp5_Mettl21e      171\n",
      "Chodl                86\n",
      "Name: cluster, dtype: int64\n"
     ]
    }
   ],
   "source": [
    "print(meta['cluster'].value_counts())"
   ]
  },
  {
   "cell_type": "code",
   "execution_count": 48,
   "metadata": {},
   "outputs": [
    {
     "name": "stdout",
     "output_type": "stream",
     "text": [
      "(81196, 12)\n",
      "(26352, 12)\n",
      "(54844, 12)\n",
      "(45909, 12)\n",
      "(8935, 12)\n"
     ]
    }
   ],
   "source": [
    "print(meta.shape)\n",
    "print(meta[meta['cluster'].str.contains(r'^OGC|^ASC|^MGC|^OPC|^Other|^Endo|^Smc')].shape)\n",
    "print(meta[~meta['cluster'].str.contains(r'^OGC|^ASC|^MGC|^OPC|^Other|^Endo|^Smc')].shape)\n",
    "print(meta[meta['cluster'].str.contains(r'^L[0-9]|NP')].shape)\n",
    "print(meta[meta['cluster'].str.contains(r'^Pv|^Sst|^Lamp5|^Vip|^Sncg|^Chodl')].shape)"
   ]
  },
  {
   "cell_type": "code",
   "execution_count": 41,
   "metadata": {},
   "outputs": [
    {
     "name": "stdout",
     "output_type": "stream",
     "text": [
      "OGC                8557\n",
      "L6.CT              8008\n",
      "L4                 7307\n",
      "ASC                7215\n",
      "L23.a              6085\n",
      "L23.b              5758\n",
      "L6.IT              4233\n",
      "L5.IT.b            4214\n",
      "MGC                3899\n",
      "L5.IT.a            3668\n",
      "L23.c              3590\n",
      "OPC                3279\n",
      "Pv_Tac1            1944\n",
      "L5.PT              1755\n",
      "Other              1571\n",
      "Sst_Man1a          1355\n",
      "NP                 1291\n",
      "Endo               1245\n",
      "Pv_Ntf3_Trim63     1105\n",
      "Lamp5_Smad3         940\n",
      "Smc                 586\n",
      "Sst_Chrna2_Myh8     538\n",
      "Vip_Chat            500\n",
      "Pv_Vsig2            431\n",
      "Vip_Hcls1           395\n",
      "Vip_Gcnt4           292\n",
      "Sncg                246\n",
      "Sst_Stk33           246\n",
      "Vip_Lipg            245\n",
      "Lamp5_Arhgdib       237\n",
      "Lamp5_Ndnf          204\n",
      "Lamp5_Mettl21e      171\n",
      "Chodl                86\n",
      "Name: cluster, dtype: int64\n",
      "(54844, 12)\n",
      "['L6.CT' 'L23.b' 'L5.IT.b' 'L4' 'Pv_Ntf3_Trim63' 'NP' 'L5.IT.a' 'L23.a'\n",
      " 'L5.PT' 'Sst_Man1a' 'L6.IT' 'Lamp5_Arhgdib' 'L23.c' 'Pv_Tac1'\n",
      " 'Lamp5_Smad3' 'Vip_Hcls1' 'Sst_Chrna2_Myh8' 'Sst_Stk33' 'Vip_Chat'\n",
      " 'Pv_Vsig2' 'Sncg' 'Vip_Gcnt4' 'Chodl' 'Lamp5_Ndnf' 'Vip_Lipg'\n",
      " 'Lamp5_Mettl21e']\n"
     ]
    }
   ],
   "source": [
    "print(meta['cluster'].value_counts())\n",
    "meta = meta[~meta['cluster'].str.contains(r'^OGC|^ASC|^MGC|^OPC|^Other|^Endo|^Smc')]\n",
    "print(meta.shape)\n",
    "print(meta['cluster'].unique())"
   ]
  },
  {
   "cell_type": "code",
   "execution_count": 24,
   "metadata": {},
   "outputs": [
    {
     "name": "stdout",
     "output_type": "stream",
     "text": [
      "(53278, 54844) (53278,) (54844,)\n"
     ]
    }
   ],
   "source": [
    "selected_cells = meta.index.values\n",
    "selected_cells_id = snmcseq_utils.get_index_from_array(gc_mat.cell, selected_cells)\n",
    "assert np.all(selected_cells_id != -1)\n",
    "\n",
    "gc_mat_update = GC_matrix(gc_mat.gene, selected_cells, gc_mat.data.tocsc()[:, selected_cells_id])\n",
    "print(gc_mat_update.data.shape, gc_mat_update.gene.shape, gc_mat_update.cell.shape)"
   ]
  },
  {
   "cell_type": "code",
   "execution_count": 25,
   "metadata": {},
   "outputs": [
    {
     "name": "stdout",
     "output_type": "stream",
     "text": [
      "159.10273504257202\n"
     ]
    }
   ],
   "source": [
    "# output\n",
    "# save \n",
    "ti = time.time()\n",
    "snmcseq_utils.save_gc_matrix(gc_mat_update, fout_data_gene, fout_data_cell, fout_data)\n",
    "print(time.time()-ti)"
   ]
  },
  {
   "cell_type": "code",
   "execution_count": 26,
   "metadata": {},
   "outputs": [],
   "source": [
    "# assemble metadata (keep order, add male and female)\n",
    "meta.index.name = 'cell'\n",
    "meta.to_csv(fout_meta, sep=\"\\t\", header=True, index=True)"
   ]
  },
  {
   "cell_type": "code",
   "execution_count": null,
   "metadata": {},
   "outputs": [],
   "source": []
  }
 ],
 "metadata": {
  "kernelspec": {
   "display_name": "Python 3",
   "language": "python",
   "name": "python3"
  },
  "language_info": {
   "codemirror_mode": {
    "name": "ipython",
    "version": 3
   },
   "file_extension": ".py",
   "mimetype": "text/x-python",
   "name": "python",
   "nbconvert_exporter": "python",
   "pygments_lexer": "ipython3",
   "version": "3.6.6"
  }
 },
 "nbformat": 4,
 "nbformat_minor": 2
}
