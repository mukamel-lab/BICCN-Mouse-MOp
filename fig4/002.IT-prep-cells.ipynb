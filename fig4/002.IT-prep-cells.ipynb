{
 "cells": [
  {
   "cell_type": "code",
   "execution_count": 9,
   "metadata": {},
   "outputs": [],
   "source": [
    "import importlib\n",
    "import sys\n",
    "sys.path.insert(0, '/cndd/fangming/CEMBA/snmcseq_dev')\n",
    "\n",
    "from __init__ import *\n",
    "from __init__jupyterlab import *\n",
    "import datetime\n",
    "from scipy import sparse\n",
    "import collections\n",
    "import itertools\n",
    "import re\n",
    "import fbpca\n",
    "import pickle\n",
    "import scipy.cluster.hierarchy as sch\n",
    "from sklearn.metrics import euclidean_distances\n",
    "import h5py\n",
    "\n",
    "import snmcseq_utils\n",
    "importlib.reload(snmcseq_utils)\n",
    "import CEMBA_run_tsne\n",
    "import CEMBA_clst_utils\n",
    "import SCF_utils\n",
    "importlib.reload(SCF_utils)\n",
    "\n",
    "import seaborn as sns \n",
    "import matplotlib.pyplot as plt"
   ]
  },
  {
   "cell_type": "markdown",
   "metadata": {},
   "source": [
    "- Select cells: 8 datasets called as IT with >=2 of the 3 consensus methods \n",
    "- MERFISH dataset \n",
    "- RS2 dataset \n",
    "- Patchseq dataset "
   ]
  },
  {
   "cell_type": "code",
   "execution_count": 10,
   "metadata": {},
   "outputs": [
    {
     "name": "stdout",
     "output_type": "stream",
     "text": [
      "(232826, 10)\n"
     ]
    },
    {
     "data": {
      "text/html": [
       "<div>\n",
       "<style scoped>\n",
       "    .dataframe tbody tr th:only-of-type {\n",
       "        vertical-align: middle;\n",
       "    }\n",
       "\n",
       "    .dataframe tbody tr th {\n",
       "        vertical-align: top;\n",
       "    }\n",
       "\n",
       "    .dataframe thead th {\n",
       "        text-align: right;\n",
       "    }\n",
       "</style>\n",
       "<table border=\"1\" class=\"dataframe\">\n",
       "  <thead>\n",
       "    <tr style=\"text-align: right;\">\n",
       "      <th></th>\n",
       "      <th>cell_id</th>\n",
       "      <th>SCF_round2</th>\n",
       "      <th>SCF_round3</th>\n",
       "      <th>RNA concensus</th>\n",
       "      <th>LIGER_level1</th>\n",
       "      <th>LIGER_level2</th>\n",
       "      <th>modality</th>\n",
       "      <th>isIT_SCF</th>\n",
       "      <th>isIT_RNAconcensus</th>\n",
       "      <th>isIT_LIGER</th>\n",
       "    </tr>\n",
       "  </thead>\n",
       "  <tbody>\n",
       "    <tr>\n",
       "      <th>0</th>\n",
       "      <td>snmcseq_gene_2C_M_0</td>\n",
       "      <td>1-1</td>\n",
       "      <td>1-1-1</td>\n",
       "      <td>NaN</td>\n",
       "      <td>0.0</td>\n",
       "      <td>it_8</td>\n",
       "      <td>DNA methylation</td>\n",
       "      <td>1</td>\n",
       "      <td>0</td>\n",
       "      <td>1</td>\n",
       "    </tr>\n",
       "    <tr>\n",
       "      <th>1</th>\n",
       "      <td>snmcseq_gene_2C_M_1</td>\n",
       "      <td>4-2</td>\n",
       "      <td>4-2-1</td>\n",
       "      <td>NaN</td>\n",
       "      <td>1.0</td>\n",
       "      <td>it_0</td>\n",
       "      <td>DNA methylation</td>\n",
       "      <td>1</td>\n",
       "      <td>0</td>\n",
       "      <td>1</td>\n",
       "    </tr>\n",
       "    <tr>\n",
       "      <th>2</th>\n",
       "      <td>snmcseq_gene_2C_M_100</td>\n",
       "      <td>4-1</td>\n",
       "      <td>4-1-1</td>\n",
       "      <td>NaN</td>\n",
       "      <td>1.0</td>\n",
       "      <td>it_0</td>\n",
       "      <td>DNA methylation</td>\n",
       "      <td>1</td>\n",
       "      <td>0</td>\n",
       "      <td>1</td>\n",
       "    </tr>\n",
       "    <tr>\n",
       "      <th>3</th>\n",
       "      <td>snmcseq_gene_2C_M_1000</td>\n",
       "      <td>4-2</td>\n",
       "      <td>4-2-1</td>\n",
       "      <td>NaN</td>\n",
       "      <td>1.0</td>\n",
       "      <td>it_0</td>\n",
       "      <td>DNA methylation</td>\n",
       "      <td>1</td>\n",
       "      <td>0</td>\n",
       "      <td>1</td>\n",
       "    </tr>\n",
       "    <tr>\n",
       "      <th>4</th>\n",
       "      <td>snmcseq_gene_2C_M_1001</td>\n",
       "      <td>4-1</td>\n",
       "      <td>4-1-1</td>\n",
       "      <td>NaN</td>\n",
       "      <td>1.0</td>\n",
       "      <td>it_0</td>\n",
       "      <td>DNA methylation</td>\n",
       "      <td>1</td>\n",
       "      <td>0</td>\n",
       "      <td>1</td>\n",
       "    </tr>\n",
       "  </tbody>\n",
       "</table>\n",
       "</div>"
      ],
      "text/plain": [
       "                  cell_id SCF_round2 SCF_round3  RNA concensus  LIGER_level1  \\\n",
       "0     snmcseq_gene_2C_M_0        1-1      1-1-1            NaN           0.0   \n",
       "1     snmcseq_gene_2C_M_1        4-2      4-2-1            NaN           1.0   \n",
       "2   snmcseq_gene_2C_M_100        4-1      4-1-1            NaN           1.0   \n",
       "3  snmcseq_gene_2C_M_1000        4-2      4-2-1            NaN           1.0   \n",
       "4  snmcseq_gene_2C_M_1001        4-1      4-1-1            NaN           1.0   \n",
       "\n",
       "  LIGER_level2         modality  isIT_SCF  isIT_RNAconcensus  isIT_LIGER  \n",
       "0         it_8  DNA methylation         1                  0           1  \n",
       "1         it_0  DNA methylation         1                  0           1  \n",
       "2         it_0  DNA methylation         1                  0           1  \n",
       "3         it_0  DNA methylation         1                  0           1  \n",
       "4         it_0  DNA methylation         1                  0           1  "
      ]
     },
     "execution_count": 10,
     "metadata": {},
     "output_type": "execute_result"
    }
   ],
   "source": [
    "f = '/cndd2/fangming/projects/miniatlas/results/it_candidates_strict_v2.tsv'\n",
    "meta_pt = pd.read_csv(f, sep='\\t')\n",
    "print(meta_pt.shape)\n",
    "meta_pt.head()"
   ]
  },
  {
   "cell_type": "code",
   "execution_count": 11,
   "metadata": {},
   "outputs": [
    {
     "data": {
      "text/plain": [
       "modality\n",
       "10X_cells_v2_AIBS       63239\n",
       "10X_cells_v3_AIBS       45075\n",
       "10X_nuclei_v3_AIBS      21813\n",
       "10X_nuclei_v3_Broad     59639\n",
       "DNA methylation          5339\n",
       "Open chromatin          32967\n",
       "SmartSeq_cells_AIBS      2450\n",
       "SmartSeq_nuclei_AIBS     2304\n",
       "dtype: int64"
      ]
     },
     "execution_count": 11,
     "metadata": {},
     "output_type": "execute_result"
    }
   ],
   "source": [
    "meta_pt.groupby('modality').size()"
   ]
  },
  {
   "cell_type": "markdown",
   "metadata": {},
   "source": [
    "# metadata and raw counts\n",
    "\n",
    "- merfish (done)\n",
    "- rs2 (done)\n",
    "- patchseq (done)\n",
    "- 8 datasets\n"
   ]
  },
  {
   "cell_type": "code",
   "execution_count": 12,
   "metadata": {},
   "outputs": [],
   "source": [
    "src_dir = '/cndd/fangming/CEMBA/data/MOp_all/data_freeze_neurons/'\n",
    "dst_dir = '/cndd2/fangming/projects/miniatlas/data/data_freeze_it_v2/'\n",
    "sys.path.insert(0, dst_dir)\n",
    "from __init__datasets import *"
   ]
  },
  {
   "cell_type": "code",
   "execution_count": 13,
   "metadata": {},
   "outputs": [
    {
     "name": "stdout",
     "output_type": "stream",
     "text": [
      "('snmcseq_gene', 'snatac_gene', 'smarter_cells', 'smarter_nuclei', '10x_cells_v2', '10x_cells_v3', '10x_nuclei_v3', '10x_nuclei_v3_macosko', 'merfish', 'epi_retro', 'patchseq')\n"
     ]
    }
   ],
   "source": [
    "print(mods)\n",
    "f_meta_format = os.path.join(src_dir, '{}_metadata.tsv')"
   ]
  },
  {
   "cell_type": "code",
   "execution_count": 14,
   "metadata": {},
   "outputs": [
    {
     "name": "stdout",
     "output_type": "stream",
     "text": [
      "snmcseq_gene (5339,) (5339, 31)\n",
      "snatac_gene (32967,) (32967, 12)\n"
     ]
    },
    {
     "name": "stderr",
     "output_type": "stream",
     "text": [
      "/cndd/fangming/venvs/conda_dobro/lib/python3.6/site-packages/IPython/core/interactiveshell.py:2728: DtypeWarning: Columns (64) have mixed types. Specify dtype option on import or set low_memory=False.\n",
      "  interactivity=interactivity, compiler=compiler, result=result)\n"
     ]
    },
    {
     "name": "stdout",
     "output_type": "stream",
     "text": [
      "smarter_cells (2450,) (2450, 128)\n",
      "smarter_nuclei (2304,) (2304, 145)\n",
      "10x_cells_v2 (63239,) (63239, 7)\n",
      "10x_cells_v3 (45075,) (45075, 7)\n",
      "10x_nuclei_v3 (21813,) (21813, 7)\n",
      "10x_nuclei_v3_macosko (59639,) (59639, 18)\n"
     ]
    }
   ],
   "source": [
    "for mod in mods[:-3]: # iterate thru first 8 datasets\n",
    "    cells = meta_pt.loc[(meta_pt['modality']==settings[mod].name), 'cell_id'].values\n",
    "    \n",
    "    # meta\n",
    "    meta = pd.read_csv(os.path.join(src_dir, '{}_metadata.tsv').format(mod), sep='\\t').set_index(settings[mod].cell_col).reindex(cells)\n",
    "    meta.to_csv(os.path.join(dst_dir, '{}_metadata.tsv').format(mod), sep='\\t', header=True, index=True)\n",
    "    print(mod, cells.shape, meta.shape)\n",
    "    \n",
    "    # gc_matrix\n",
    "    if settings[mod].mod_category == 'mc':\n",
    "        # \n",
    "        fgene = os.path.join(src_dir, '{}_raw.gene'.format(mod))\n",
    "        fcell = os.path.join(src_dir, '{}_raw.cell'.format(mod))\n",
    "        fmat_mc = os.path.join(src_dir, '{}_mCH_raw.npz'.format(mod))\n",
    "        fmat_c = os.path.join(src_dir, '{}_CH_raw.npz'.format(mod))\n",
    "        \n",
    "        fgene_out = os.path.join(dst_dir, '{}_raw.gene'.format(mod))\n",
    "        fcell_out = os.path.join(dst_dir, '{}_raw.cell'.format(mod))\n",
    "        fmat_mc_out = os.path.join(dst_dir, '{}_mCH_raw.npz'.format(mod))\n",
    "        fmat_c_out = os.path.join(dst_dir, '{}_CH_raw.npz'.format(mod))\n",
    "        \n",
    "        gc_mat = snmcseq_utils.load_gc_matrix_methylation(fgene, fcell, fmat_mc, fmat_c)\n",
    "        cells_id = snmcseq_utils.get_index_from_array(gc_mat.cell, cells)\n",
    "        gc_mat_new = GC_matrix(\n",
    "            gc_mat.gene,\n",
    "            gc_mat.cell[cells_id],\n",
    "            {'mc': gc_mat.data['mc'].tocsc()[:, cells_id],\n",
    "             'c': gc_mat.data['c'].tocsc()[:, cells_id],\n",
    "            },\n",
    "        )\n",
    "        snmcseq_utils.save_gc_matrix_methylation(gc_mat_new, fgene_out, fcell_out, fmat_mc_out, fmat_c_out)\n",
    "        \n",
    "    else:\n",
    "        fgene = os.path.join(src_dir, '{}_raw.gene'.format(mod))\n",
    "        fcell = os.path.join(src_dir, '{}_raw.cell'.format(mod))\n",
    "        fmat = os.path.join(src_dir, '{}_raw.npz'.format(mod))\n",
    "        \n",
    "        fgene_out = os.path.join(dst_dir, '{}_raw.gene'.format(mod))\n",
    "        fcell_out = os.path.join(dst_dir, '{}_raw.cell'.format(mod))\n",
    "        fmat_out = os.path.join(dst_dir, '{}_raw.npz'.format(mod))\n",
    "        \n",
    "        gc_mat = snmcseq_utils.load_gc_matrix(fgene, fcell, fmat)\n",
    "        cells_id = snmcseq_utils.get_index_from_array(gc_mat.cell, cells)\n",
    "        gc_mat_new = GC_matrix(\n",
    "            gc_mat.gene,\n",
    "            gc_mat.cell[cells_id],\n",
    "            gc_mat.data.tocsc()[:, cells_id],\n",
    "        )\n",
    "        snmcseq_utils.save_gc_matrix(gc_mat_new, fgene_out, fcell_out, fmat_out)\n",
    "        "
   ]
  },
  {
   "cell_type": "code",
   "execution_count": null,
   "metadata": {},
   "outputs": [],
   "source": []
  }
 ],
 "metadata": {
  "kernelspec": {
   "display_name": "Python 3",
   "language": "python",
   "name": "python3"
  },
  "language_info": {
   "codemirror_mode": {
    "name": "ipython",
    "version": 3
   },
   "file_extension": ".py",
   "mimetype": "text/x-python",
   "name": "python",
   "nbconvert_exporter": "python",
   "pygments_lexer": "ipython3",
   "version": "3.6.6"
  }
 },
 "nbformat": 4,
 "nbformat_minor": 2
}
