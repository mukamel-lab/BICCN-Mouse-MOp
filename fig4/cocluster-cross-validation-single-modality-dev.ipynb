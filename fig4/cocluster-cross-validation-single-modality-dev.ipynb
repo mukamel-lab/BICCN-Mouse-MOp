{
 "cells": [
  {
   "cell_type": "code",
   "execution_count": 1,
   "metadata": {},
   "outputs": [],
   "source": [
    "import sys\n",
    "sys.path.insert(0, '/cndd/fangming/CEMBA/snmcseq_dev')\n",
    "sys.path.insert(0, '/cndd/fangming/CEMBA/scripts/ClusterCrossValidation')\n",
    "import importlib\n",
    "\n",
    "\n",
    "from __init__ import *\n",
    "from __init__jupyterlab import *\n",
    "from scipy import sparse\n",
    "import collections\n",
    "import itertools\n",
    "import re\n",
    "import fbpca\n",
    "from sklearn.model_selection import KFold\n",
    "import pickle\n",
    "\n",
    "import snmcseq_utils\n",
    "importlib.reload(snmcseq_utils)\n",
    "import CEMBA_run_tsne\n",
    "import CEMBA_clst_utils\n",
    "import SCF_utils\n",
    "importlib.reload(SCF_utils)\n",
    "\n",
    "import cluster_cv_utils\n",
    "importlib.reload(cluster_cv_utils)\n",
    "from cluster_cv_utils import *\n"
   ]
  },
  {
   "cell_type": "markdown",
   "metadata": {},
   "source": [
    "# Configs  "
   ]
  },
  {
   "cell_type": "code",
   "execution_count": 2,
   "metadata": {},
   "outputs": [
    {
     "name": "stderr",
     "output_type": "stream",
     "text": [
      "10/08/2019 01:42:22 PM *\n"
     ]
    }
   ],
   "source": [
    "log = snmcseq_utils.create_logger()\n",
    "logging.info('*')"
   ]
  },
  {
   "cell_type": "code",
   "execution_count": 3,
   "metadata": {},
   "outputs": [],
   "source": [
    "DATA_DIR = '/cndd/fangming/CEMBA/data/MOp_all/data_freeze_neurons'\n",
    "\n",
    "# fixed dataset configs\n",
    "sys.path.insert(0, DATA_DIR)\n",
    "import __init__datasets\n",
    "importlib.reload(__init__datasets)\n",
    "from __init__datasets import *\n",
    "\n",
    "meta_f = os.path.join(DATA_DIR, '{0}_metadata.tsv')\n",
    "hvftrs_f = os.path.join(DATA_DIR, '{0}_hvfeatures.{1}')\n",
    "hvftrs_gene = os.path.join(DATA_DIR, '{0}_hvfeatures.gene')\n",
    "hvftrs_cell = os.path.join(DATA_DIR, '{0}_hvfeatures.cell')"
   ]
  },
  {
   "cell_type": "code",
   "execution_count": 4,
   "metadata": {},
   "outputs": [
    {
     "name": "stderr",
     "output_type": "stream",
     "text": [
      "10/08/2019 01:44:23 PM [0.01, 0.02, 0.04, 0.1, 0.2, 0.4, 0.8, 1]\n",
      "10/08/2019 01:44:23 PM snmcseq_gene smarter_cells smarter_nuclei\n"
     ]
    }
   ],
   "source": [
    "ps = [0.01, 0.02, 0.04, 0.1, 0.2, 0.4, 0.8, 1]\n",
    "mods_selected = [\n",
    "    'snmcseq_gene',\n",
    "    'snatac_gene',\n",
    "    'smarter_cells',\n",
    "    'smarter_nuclei',\n",
    "    '10x_cells_v2', \n",
    "    '10x_cells_v3',\n",
    "    '10x_nuclei_v3',\n",
    "    '10x_nuclei_v3_macosko',\n",
    "    ]\n",
    "resolutions = [0.1, 0.2, 0.4, 0.8, 1, 2, 3, 4, 6, 8, 12, 16, 20, 30, 40, 60, 80, 100, 120]\n",
    "\n",
    "logging.info(ps)\n",
    "logging.info(' '.join(mods_selected))"
   ]
  },
  {
   "cell_type": "code",
   "execution_count": 31,
   "metadata": {},
   "outputs": [
    {
     "name": "stderr",
     "output_type": "stream",
     "text": [
      "10/08/2019 03:57:36 PM 0.01\n",
      "10/08/2019 03:57:36 PM snmcseq_gene\n",
      "10/08/2019 03:58:01 PM Cluster chrom: [13 18 10 11  5 14  9 20  2], feature chrom [ 1 16 15 19 12  7  6  4  3  8 17]\n",
      "10/08/2019 03:58:01 PM Finish split: (4754, 94) -> (2052, 94) (2540, 94)\n"
     ]
    },
    {
     "name": "stdout",
     "output_type": "stream",
     "text": [
      "(4754, 9366) 24.354843378067017\n",
      "(94, 32) (4754, 94)\n",
      "(94, 32)\n"
     ]
    },
    {
     "name": "stderr",
     "output_type": "stream",
     "text": [
      "10/08/2019 03:58:01 PM Saved to /cndd/fangming/test_outputs/cluster_cv_single_mop_cv_one_dataset_p1_snmcseq_gene_191008_0.tsv\n"
     ]
    },
    {
     "name": "stdout",
     "output_type": "stream",
     "text": [
      "0.1.....0.2.....0.4.....0.8.....1.....2.....3.....4.....6..."
     ]
    },
    {
     "name": "stderr",
     "output_type": "stream",
     "text": [
      "/cndd/fangming/CEMBA/scripts/ClusterCrossValidation/cluster_cv_utils.py:198: RuntimeWarning: Mean of empty slice.\n",
      "  mse = (diff**2).sum(axis=1).mean()\n",
      "/cndd/fangming/venvs/conda_dobro/lib/python3.6/site-packages/numpy/core/_methods.py:161: RuntimeWarning: invalid value encountered in double_scalars\n",
      "  ret = ret.dtype.type(ret / rcount)\n"
     ]
    },
    {
     "name": "stdout",
     "output_type": "stream",
     "text": [
      "..8.....12.....16.....20.....30.....40.....60.....80.....100.....120....."
     ]
    },
    {
     "name": "stderr",
     "output_type": "stream",
     "text": [
      "10/08/2019 03:58:08 PM Cluster chrom: [ 3 11  9  8  7 15  5  4], feature chrom [10 19  2 17  1  6 12 13 18 14 20 16]\n",
      "10/08/2019 03:58:08 PM Finish split: (4754, 94) -> (2320, 94) (2272, 94)\n",
      "10/08/2019 03:58:08 PM Saved to /cndd/fangming/test_outputs/cluster_cv_single_mop_cv_one_dataset_p1_snmcseq_gene_191008_1.tsv\n"
     ]
    },
    {
     "name": "stdout",
     "output_type": "stream",
     "text": [
      "0.1.....0.2.....0.4.....0.8.....1.....2.....3.....4.....6.....8.....12.....16.....20.....30.....40.....60.....80.....100.....120...."
     ]
    },
    {
     "name": "stderr",
     "output_type": "stream",
     "text": [
      "10/08/2019 03:58:15 PM Cluster chrom: [ 8 18 19 15  9 20  2 10  3  7], feature chrom [ 6 14 16 12 17  5 11  1 13  4]\n",
      "10/08/2019 03:58:15 PM Finish split: (4754, 94) -> (2149, 94) (2443, 94)\n"
     ]
    },
    {
     "name": "stdout",
     "output_type": "stream",
     "text": [
      "."
     ]
    },
    {
     "name": "stderr",
     "output_type": "stream",
     "text": [
      "10/08/2019 03:58:15 PM Saved to /cndd/fangming/test_outputs/cluster_cv_single_mop_cv_one_dataset_p1_snmcseq_gene_191008_2.tsv\n"
     ]
    },
    {
     "name": "stdout",
     "output_type": "stream",
     "text": [
      "0.1.....0.2.....0.4.....0.8.....1.....2.....3.....4.....6.....8.....12.....16.....20.....30.....40.....60.....80.....100.....120....."
     ]
    },
    {
     "name": "stderr",
     "output_type": "stream",
     "text": [
      "10/08/2019 03:58:22 PM Cluster chrom: [11  3 16  4 19  1  9 10 20  6], feature chrom [15  8  7  2 12 18  5 17 14 13]\n",
      "10/08/2019 03:58:22 PM Finish split: (4754, 94) -> (2267, 94) (2325, 94)\n",
      "10/08/2019 03:58:23 PM Saved to /cndd/fangming/test_outputs/cluster_cv_single_mop_cv_one_dataset_p1_snmcseq_gene_191008_3.tsv\n"
     ]
    },
    {
     "name": "stdout",
     "output_type": "stream",
     "text": [
      "0.1.....0.2.....0.4.....0.8.....1.....2.....3.....4.....6.....8.....12.....16.....20.....30.....40.....60.....80.....100.....120....."
     ]
    },
    {
     "name": "stderr",
     "output_type": "stream",
     "text": [
      "10/08/2019 03:58:30 PM Cluster chrom: [20 13 18  6  9 15  5 17  2 16], feature chrom [14  8 12  3 10 11  7  4  1 19]\n",
      "10/08/2019 03:58:30 PM Finish split: (4754, 94) -> (2019, 94) (2573, 94)\n",
      "10/08/2019 03:58:30 PM Saved to /cndd/fangming/test_outputs/cluster_cv_single_mop_cv_one_dataset_p1_snmcseq_gene_191008_4.tsv\n"
     ]
    },
    {
     "name": "stdout",
     "output_type": "stream",
     "text": [
      "0.1.....0.2.....0.4.....0.8.....1.....2.....3.....4.....6.....8.....12.....16.....20.....30.....40.....60.....80.....100.....120....."
     ]
    },
    {
     "data": {
      "image/png": "[encoded data removed]",
      "text/plain": [
       "<Figure size 360x288 with 1 Axes>"
      ]
     },
     "metadata": {},
     "output_type": "display_data"
    }
   ],
   "source": [
    "for p, mod in itertools.product(ps, mods_selected):\n",
    "    logging.info(p)\n",
    "    logging.info(mod)\n",
    "    \n",
    "    name = 'mop_cv_one_dataset_p{}_{}_191008'.format(int(p*100), mod)\n",
    "    outdir = '/cndd/fangming/CEMBA/data/MOp_all/results'\n",
    "    output_results = outdir + '/cross_validation_results_{}.pkl'.format(name)\n",
    "    output_figures = outdir + '/figures/{}_{{}}.{{}}'.format(name)\n",
    "    output_prefix =  '/cndd/fangming/test_outputs/cluster_cv_single_{}'.format(name)\n",
    "\n",
    "    # gene chrom lookup\n",
    "    chroms = np.arange(1, 20, 1).tolist() + ['X']\n",
    "    chroms = ['chr'+str(chrom) for chrom in chroms]\n",
    "\n",
    "    f = PATH_GENEBODY_ANNOTATION\n",
    "    df_genes = pd.read_csv(f, sep=\"\\t\")\n",
    "    # modify this\n",
    "    \n",
    "    # gene_chrom_lookup\n",
    "    df_genes = df_genes[df_genes['chr'].isin(chroms)]\n",
    "    df_genes['gid'] = df_genes['gene_id'].apply(lambda x: x.split('.')[0])\n",
    "    df_genes = df_genes.set_index('gid')\n",
    "    gene_chrom_lookup = df_genes['chr'].replace('chrX', 'chr20').apply(lambda x: int(x[3:]))\n",
    "    # 1:20\n",
    "\n",
    "    metadata = pd.read_csv(meta_f.format(mod), sep=\"\\t\").reset_index().set_index(settings[mod].cell_col)\n",
    "\n",
    "    ti = time.time()\n",
    "    if settings[mod].mod_category == 'mc':\n",
    "        f_mat = hvftrs_f.format(mod, 'tsv')\n",
    "        gxc_hvftr = pd.read_csv(f_mat, sep='\\t', header=0, index_col=0) \n",
    "        assert np.all(gxc_hvftr.columns.values == metadata.index.values) # make sure cell name is in the sanme order as metas (important if save knn mat)\n",
    "        print(gxc_hvftr.shape, time.time()-ti)\n",
    "    else: \n",
    "        f_mat = hvftrs_f.format(mod, 'npz')\n",
    "        f_gene = hvftrs_gene.format(mod)\n",
    "        f_cell = hvftrs_cell.format(mod)\n",
    "        _gxc_tmp = snmcseq_utils.load_gc_matrix(f_gene, f_cell, f_mat)\n",
    "        _gene = _gxc_tmp.gene\n",
    "        _cell = _gxc_tmp.cell\n",
    "        _mat = _gxc_tmp.data\n",
    "\n",
    "        gxc_hvftr = pd.DataFrame(_mat.todense(), index=_gene, columns=_cell)\n",
    "        assert np.all(gxc_hvftr.columns.values == metadata.index.values) # make sure cell name is in the sanme order as metas (important if save knn mat)\n",
    "        print(gxc_hvftr.shape, time.time()-ti)\n",
    "        \n",
    "    # subsample cells\n",
    "    if 1 - p > 1e-5:\n",
    "        metadata_sub, gxc_hvftr_sub = subsampling_lite(metadata, gxc_hvftr, p)\n",
    "        print(metadata_sub.shape)\n",
    "    else:\n",
    "        metadata_sub = metadata\n",
    "        gxc_hvftr_sub = gxc_hvftr\n",
    "        print(metadata_sub.shape)\n",
    "\n",
    "    # do cv\n",
    "    (\n",
    "     res_nclsts, res, \n",
    "    ) = nfoldcv_random_features_split(gxc_hvftr_sub, resolutions, gene_chrom_lookup,\n",
    "                                      output_prefix,\n",
    "                                      k=30, \n",
    "                                      reduce_dim=0,\n",
    "                                      nfolds=5, n_repeats=5, n_splits=5, split_frac=0.5, \n",
    "                                     )\n",
    "\n",
    "    # Saving the objects:\n",
    "    with open(output_results, 'wb') as f: \n",
    "        pickle.dump((\n",
    "                     res_nclsts, res,\n",
    "                    ), f)\n",
    "\n",
    "    # Getting back the objects:\n",
    "    with open(output_results, 'rb') as f: \n",
    "        (\n",
    "         res_nclsts, res,\n",
    "        ) = pickle.load(f)\n",
    "\n",
    "    res_nclsts_summary = res_nclsts.groupby('resolution').agg({'nclsts': ['mean', 'std']})\n",
    "    res_summary = res.groupby(['resolution']).agg({'mse': ['mean', 'std'],\n",
    "                                                          'mse_t': ['mean', 'std'],\n",
    "                                                        })\n",
    "\n",
    "    output = output_figures.format('cluster_cv_nosharey', 'pdf')\n",
    "    scale = 1\n",
    "    fig, ax = plt.subplots(1, 1, figsize=(5*scale,4*scale))\n",
    "\n",
    "    n_folds = 5\n",
    "\n",
    "    x = res_nclsts_summary['nclsts']['mean'].values\n",
    "    ys = res_summary #.xs(mod, level='mod')\n",
    "    base_level = np.nanmin(ys['mse']['mean'].values)\n",
    "    y, y_err = ys['mse']['mean'].values/base_level, (ys['mse']['std'].values/np.sqrt(n_folds))/base_level, \n",
    "    yt, yt_err = ys['mse_t']['mean'].values/base_level, (ys['mse_t']['std'].values/np.sqrt(n_folds))/base_level, \n",
    "\n",
    "    ylabel = 'MSE +/- SEM\\n(normalized)'\n",
    "    xlabel = ''\n",
    "    plot_bi_cv_subfig(ax, x, \n",
    "                      y, y_err,\n",
    "                      yt, yt_err,\n",
    "                      settings[mod].color, mod, \n",
    "                      xlabel=xlabel,\n",
    "                      ylabel=ylabel\n",
    "                     )\n",
    "    ax.yaxis.set_major_locator(mtick.MaxNLocator(4))\n",
    "    ax.set_title('{} {} {}'.format(mod, p, len(metadata_sub)))\n",
    "\n",
    "    fig.subplots_adjust(wspace=0.1, bottom=0.15)\n",
    "    fig.text(0.5, 0, 'Number of clusters', ha='center', fontsize=15)\n",
    "    fig.savefig(output, bbox_inches='tight')\n",
    "    plt.show()\n",
    "    \n",
    "    break"
   ]
  }
 ],
 "metadata": {
  "kernelspec": {
   "display_name": "Python 3",
   "language": "python",
   "name": "python3"
  },
  "language_info": {
   "codemirror_mode": {
    "name": "ipython",
    "version": 3
   },
   "file_extension": ".py",
   "mimetype": "text/x-python",
   "name": "python",
   "nbconvert_exporter": "python",
   "pygments_lexer": "ipython3",
   "version": "3.6.6"
  }
 },
 "nbformat": 4,
 "nbformat_minor": 2
}
