{
 "cells": [
  {
   "cell_type": "code",
   "execution_count": 5,
   "metadata": {},
   "outputs": [],
   "source": [
    "import sys\n",
    "sys.path.insert(0, '/cndd/fangming/CEMBA/snmcseq_dev')\n",
    "sys.path.insert(0, '/cndd/fangming/CEMBA/scripts/ClusterCrossValidation')\n",
    "import importlib\n",
    "\n",
    "\n",
    "from __init__ import *\n",
    "from __init__jupyterlab import *\n",
    "from scipy import sparse\n",
    "import collections\n",
    "import itertools\n",
    "import re\n",
    "import fbpca\n",
    "from sklearn.model_selection import KFold\n",
    "import pickle\n",
    "\n",
    "import snmcseq_utils\n",
    "importlib.reload(snmcseq_utils)\n",
    "import CEMBA_run_tsne\n",
    "import CEMBA_clst_utils\n",
    "import SCF_utils\n",
    "importlib.reload(SCF_utils)\n",
    "\n",
    "import cluster_cv_utils\n",
    "importlib.reload(cluster_cv_utils)\n",
    "from cluster_cv_utils import *\n"
   ]
  },
  {
   "cell_type": "markdown",
   "metadata": {},
   "source": [
    "# Configs  "
   ]
  },
  {
   "cell_type": "code",
   "execution_count": 27,
   "metadata": {},
   "outputs": [
    {
     "name": "stderr",
     "output_type": "stream",
     "text": [
      "07/16/2019 08:19:11 PM *\n"
     ]
    }
   ],
   "source": [
    "log = snmcseq_utils.create_logger()\n",
    "logging.info('*')"
   ]
  },
  {
   "cell_type": "code",
   "execution_count": 28,
   "metadata": {},
   "outputs": [],
   "source": [
    "DATA_DIR = '/cndd/fangming/CEMBA/data/MOp_all/organized_neurons_v6'\n",
    "\n",
    "# fixed dataset configs\n",
    "sys.path.insert(0, DATA_DIR)\n",
    "import __init__datasets\n",
    "importlib.reload(__init__datasets)\n",
    "from __init__datasets import *\n",
    "\n",
    "meta_f = os.path.join(DATA_DIR, '{0}_metadata.tsv')\n",
    "hvftrs_f = os.path.join(DATA_DIR, '{0}_hvfeatures.{1}')\n",
    "hvftrs_gene = os.path.join(DATA_DIR, '{0}_hvfeatures.gene')\n",
    "hvftrs_cell = os.path.join(DATA_DIR, '{0}_hvfeatures.cell')"
   ]
  },
  {
   "cell_type": "code",
   "execution_count": 35,
   "metadata": {},
   "outputs": [
    {
     "name": "stderr",
     "output_type": "stream",
     "text": [
      "07/16/2019 08:35:54 PM [1.  0.9 0.8 0.7 0.6 0.5 0.4 0.3 0.2 0.1]\n",
      "07/16/2019 08:35:54 PM snmcseq_gene snatac_gene smarter_cells smarter_nuclei 10x_cells 10x_nuclei 10x_cells_v3 10x_nuclei_v3 10x_nuclei_v3_Macosko\n"
     ]
    }
   ],
   "source": [
    "ps = np.linspace(0.1, 1, 10)[::-1]\n",
    "mods_selected = [\n",
    "    'snmcseq_gene',\n",
    "    'snatac_gene',\n",
    "    'smarter_cells',\n",
    "    'smarter_nuclei',\n",
    "    '10x_cells', \n",
    "    '10x_nuclei', \n",
    "    '10x_cells_v3',\n",
    "    '10x_nuclei_v3',\n",
    "    '10x_nuclei_v3_Macosko',\n",
    "    ]\n",
    "resolutions = [0.5, 1, 2, 3, 4, 6, 8, 12, 16, 20, 30, 40, 60, 80, 100]\n",
    "logging.info(ps)\n",
    "logging.info(' '.join(mods_selected))"
   ]
  },
  {
   "cell_type": "code",
   "execution_count": 34,
   "metadata": {},
   "outputs": [
    {
     "name": "stderr",
     "output_type": "stream",
     "text": [
      "07/16/2019 08:23:28 PM 0.1\n",
      "07/16/2019 08:23:28 PM snmcseq_gene\n",
      "07/16/2019 08:23:36 PM Cluster chrom: [ 4 20  3  5 18 19 10  2  9 17], feature chrom [ 1 11 13 16  7 12  6 15  8 14]\n",
      "07/16/2019 08:23:36 PM Finish split: (4830, 462) -> (1974, 462) (2225, 462)\n"
     ]
    },
    {
     "name": "stdout",
     "output_type": "stream",
     "text": [
      "(4830, 4936) 7.633341312408447\n",
      "(462, 38) (4830, 462)\n",
      "(462, 38)\n",
      "0.5.....1.....2.....3.....4.....6.....8.....12.....16...."
     ]
    },
    {
     "ename": "KeyboardInterrupt",
     "evalue": "",
     "output_type": "error",
     "traceback": [
      "\u001b[0;31m---------------------------------------------------------------------------\u001b[0m",
      "\u001b[0;31mKeyboardInterrupt\u001b[0m                         Traceback (most recent call last)",
      "\u001b[0;32m<ipython-input-34-0c58fa90428b>\u001b[0m in \u001b[0;36m<module>\u001b[0;34m()\u001b[0m\n\u001b[1;32m     58\u001b[0m                                       \u001b[0mk\u001b[0m\u001b[0;34m=\u001b[0m\u001b[0;36m30\u001b[0m\u001b[0;34m,\u001b[0m\u001b[0;34m\u001b[0m\u001b[0m\n\u001b[1;32m     59\u001b[0m                                       \u001b[0mreduce_dim\u001b[0m\u001b[0;34m=\u001b[0m\u001b[0;36m0\u001b[0m\u001b[0;34m,\u001b[0m\u001b[0;34m\u001b[0m\u001b[0m\n\u001b[0;32m---> 60\u001b[0;31m                                       nfolds=5, n_repeats=5, n_splits=5, split_frac=0.5)\n\u001b[0m\u001b[1;32m     61\u001b[0m \u001b[0;34m\u001b[0m\u001b[0m\n\u001b[1;32m     62\u001b[0m     \u001b[0;31m# Saving the objects:\u001b[0m\u001b[0;34m\u001b[0m\u001b[0;34m\u001b[0m\u001b[0m\n",
      "\u001b[0;32m/cndd/fangming/CEMBA/scripts/ClusterCrossValidation/cluster_cv_utils.py\u001b[0m in \u001b[0;36mnfoldcv_random_features_split\u001b[0;34m(data_matrix, resolutions, gene_chrom_lookup, k, reduce_dim, nfolds, n_repeats, n_splits, split_frac)\u001b[0m\n\u001b[1;32m    248\u001b[0m                 \u001b[0mfeatures_y\u001b[0m \u001b[0;34m=\u001b[0m \u001b[0mU\u001b[0m\u001b[0;34m.\u001b[0m\u001b[0mdot\u001b[0m\u001b[0;34m(\u001b[0m\u001b[0mnp\u001b[0m\u001b[0;34m.\u001b[0m\u001b[0mdiag\u001b[0m\u001b[0;34m(\u001b[0m\u001b[0ms\u001b[0m\u001b[0;34m)\u001b[0m\u001b[0;34m)\u001b[0m\u001b[0;34m\u001b[0m\u001b[0m\n\u001b[1;32m    249\u001b[0m             \u001b[0;31m# one set CV\u001b[0m\u001b[0;34m\u001b[0m\u001b[0;34m\u001b[0m\u001b[0m\n\u001b[0;32m--> 250\u001b[0;31m             \u001b[0mres_cv\u001b[0m \u001b[0;34m=\u001b[0m \u001b[0mcentroid_prediction_model_cv\u001b[0m\u001b[0;34m(\u001b[0m\u001b[0mmetadata_copy\u001b[0m\u001b[0;34m,\u001b[0m \u001b[0mfeatures_y\u001b[0m\u001b[0;34m,\u001b[0m \u001b[0mn_repeats\u001b[0m\u001b[0;34m,\u001b[0m \u001b[0mnfolds\u001b[0m\u001b[0;34m)\u001b[0m\u001b[0;34m\u001b[0m\u001b[0m\n\u001b[0m\u001b[1;32m    251\u001b[0m             \u001b[0mres_cv\u001b[0m\u001b[0;34m[\u001b[0m\u001b[0;34m'i_split'\u001b[0m\u001b[0;34m]\u001b[0m \u001b[0;34m=\u001b[0m \u001b[0mn_split\u001b[0m\u001b[0;34m\u001b[0m\u001b[0m\n\u001b[1;32m    252\u001b[0m             \u001b[0mres_cv\u001b[0m\u001b[0;34m[\u001b[0m\u001b[0;34m'resolution'\u001b[0m\u001b[0;34m]\u001b[0m \u001b[0;34m=\u001b[0m  \u001b[0mresolution\u001b[0m\u001b[0;34m\u001b[0m\u001b[0m\n",
      "\u001b[0;32m/cndd/fangming/CEMBA/scripts/ClusterCrossValidation/cluster_cv_utils.py\u001b[0m in \u001b[0;36mcentroid_prediction_model_cv\u001b[0;34m(metadata, features_y, n_repeats, nfolds)\u001b[0m\n\u001b[1;32m    168\u001b[0m             \u001b[0;32mfor\u001b[0m \u001b[0mcount_idx\u001b[0m\u001b[0;34m,\u001b[0m \u001b[0;34m(\u001b[0m\u001b[0mclst\u001b[0m\u001b[0;34m,\u001b[0m \u001b[0mdf_sub\u001b[0m\u001b[0;34m)\u001b[0m \u001b[0;32min\u001b[0m \u001b[0menumerate\u001b[0m\u001b[0;34m(\u001b[0m\u001b[0mmetadata_train\u001b[0m\u001b[0;34m.\u001b[0m\u001b[0mgroupby\u001b[0m\u001b[0;34m(\u001b[0m\u001b[0;34m'cluster_cv'\u001b[0m\u001b[0;34m)\u001b[0m\u001b[0;34m)\u001b[0m\u001b[0;34m:\u001b[0m\u001b[0;34m\u001b[0m\u001b[0m\n\u001b[1;32m    169\u001b[0m                 \u001b[0mcells_sub_idx\u001b[0m \u001b[0;34m=\u001b[0m \u001b[0mdf_sub\u001b[0m\u001b[0;34m[\u001b[0m\u001b[0;34m'cell_idx'\u001b[0m\u001b[0;34m]\u001b[0m\u001b[0;34m.\u001b[0m\u001b[0mvalues\u001b[0m\u001b[0;34m\u001b[0m\u001b[0m\n\u001b[0;32m--> 170\u001b[0;31m                 \u001b[0my_centroids\u001b[0m\u001b[0;34m[\u001b[0m\u001b[0mcount_idx\u001b[0m\u001b[0;34m,\u001b[0m \u001b[0;34m:\u001b[0m\u001b[0;34m]\u001b[0m \u001b[0;34m=\u001b[0m \u001b[0mfeatures_y_shuffled\u001b[0m\u001b[0;34m[\u001b[0m\u001b[0mcells_sub_idx\u001b[0m\u001b[0;34m,\u001b[0m \u001b[0;34m:\u001b[0m\u001b[0;34m]\u001b[0m\u001b[0;34m.\u001b[0m\u001b[0mmean\u001b[0m\u001b[0;34m(\u001b[0m\u001b[0maxis\u001b[0m\u001b[0;34m=\u001b[0m\u001b[0;36m0\u001b[0m\u001b[0;34m)\u001b[0m\u001b[0;34m\u001b[0m\u001b[0m\n\u001b[0m\u001b[1;32m    171\u001b[0m                 \u001b[0mcluster_to_idx_lookup\u001b[0m\u001b[0;34m[\u001b[0m\u001b[0mclst\u001b[0m\u001b[0;34m]\u001b[0m \u001b[0;34m=\u001b[0m \u001b[0mcount_idx\u001b[0m\u001b[0;34m\u001b[0m\u001b[0m\n\u001b[1;32m    172\u001b[0m                 \u001b[0mclsts_not_in_train\u001b[0m\u001b[0;34m.\u001b[0m\u001b[0mremove\u001b[0m\u001b[0;34m(\u001b[0m\u001b[0mclst\u001b[0m\u001b[0;34m)\u001b[0m\u001b[0;34m\u001b[0m\u001b[0m\n",
      "\u001b[0;32m/cndd/fangming/venvs/conda_dobro/lib/python3.6/site-packages/numpy/core/_methods.py\u001b[0m in \u001b[0;36m_mean\u001b[0;34m(a, axis, dtype, out, keepdims)\u001b[0m\n\u001b[1;32m     71\u001b[0m     \u001b[0;32mif\u001b[0m \u001b[0misinstance\u001b[0m\u001b[0;34m(\u001b[0m\u001b[0mret\u001b[0m\u001b[0;34m,\u001b[0m \u001b[0mmu\u001b[0m\u001b[0;34m.\u001b[0m\u001b[0mndarray\u001b[0m\u001b[0;34m)\u001b[0m\u001b[0;34m:\u001b[0m\u001b[0;34m\u001b[0m\u001b[0m\n\u001b[1;32m     72\u001b[0m         ret = um.true_divide(\n\u001b[0;32m---> 73\u001b[0;31m                 ret, rcount, out=ret, casting='unsafe', subok=False)\n\u001b[0m\u001b[1;32m     74\u001b[0m         \u001b[0;32mif\u001b[0m \u001b[0mis_float16_result\u001b[0m \u001b[0;32mand\u001b[0m \u001b[0mout\u001b[0m \u001b[0;32mis\u001b[0m \u001b[0;32mNone\u001b[0m\u001b[0;34m:\u001b[0m\u001b[0;34m\u001b[0m\u001b[0m\n\u001b[1;32m     75\u001b[0m             \u001b[0mret\u001b[0m \u001b[0;34m=\u001b[0m \u001b[0marr\u001b[0m\u001b[0;34m.\u001b[0m\u001b[0mdtype\u001b[0m\u001b[0;34m.\u001b[0m\u001b[0mtype\u001b[0m\u001b[0;34m(\u001b[0m\u001b[0mret\u001b[0m\u001b[0;34m)\u001b[0m\u001b[0;34m\u001b[0m\u001b[0m\n",
      "\u001b[0;31mKeyboardInterrupt\u001b[0m: "
     ]
    }
   ],
   "source": [
    "for p, mod in itertools.product(ps, mods_selected):\n",
    "    logging.info(p)\n",
    "    logging.info(mod)\n",
    "    \n",
    "    name = 'mop_cv_one_dataset_p{}_{}'.format(int(p*100), mod)\n",
    "    outdir = '/cndd/fangming/CEMBA/data/MOp_all/results'\n",
    "    output_results = outdir + '/cross_validation_results_{}.pkl'.format(name)\n",
    "    output_figures = outdir + '/figures/{}_{{}}.{{}}'.format(name)\n",
    "\n",
    "    # gene chrom lookup\n",
    "    chroms = np.arange(1, 20, 1).tolist() + ['X']\n",
    "    chroms = ['chr'+str(chrom) for chrom in chroms]\n",
    "\n",
    "    f = PATH_GENEBODY_ANNOTATION\n",
    "    df_genes = pd.read_csv(f, sep=\"\\t\")\n",
    "    gene_chrom_lookup = (df_genes[df_genes['chr'].isin(chroms)]\n",
    "                                .groupby('gene_name').first()['chr']\n",
    "                                .replace('chrX', 'chr20')\n",
    "                                .apply(lambda x: int(x[3:]))\n",
    "                       ) # 1:20\n",
    "\n",
    "    metadata = pd.read_csv(meta_f.format(mod), sep=\"\\t\").reset_index().set_index(settings[mod].cell_col)\n",
    "\n",
    "    ti = time.time()\n",
    "    if settings[mod].mod_category == 'mc':\n",
    "        f_mat = hvftrs_f.format(mod, 'tsv')\n",
    "        gxc_hvftr = pd.read_csv(f_mat, sep='\\t', header=0, index_col=0) \n",
    "        gxc_hvftr.index = SCF_utils.standardize_gene_name(gxc_hvftr.index)  # standardize gene name \n",
    "        assert np.all(gxc_hvftr.columns.values == metadata.index.values) # make sure cell name is in the sanme order as metas (important if save knn mat)\n",
    "        print(gxc_hvftr.shape, time.time()-ti)\n",
    "    else: \n",
    "        f_mat = hvftrs_f.format(mod, 'npz')\n",
    "        f_gene = hvftrs_gene.format(mod)\n",
    "        f_cell = hvftrs_cell.format(mod)\n",
    "        _gxc_tmp = snmcseq_utils.load_gc_matrix(f_gene, f_cell, f_mat)\n",
    "        _gene = _gxc_tmp.gene\n",
    "        _cell = _gxc_tmp.cell\n",
    "        _mat = _gxc_tmp.data\n",
    "        _gene = SCF_utils.standardize_gene_name(_gene)  # standardize gene name  \n",
    "\n",
    "        gxc_hvftr = pd.DataFrame(_mat.todense(), index=_gene, columns=_cell)\n",
    "        assert np.all(gxc_hvftr.columns.values == metadata.index.values) # make sure cell name is in the sanme order as metas (important if save knn mat)\n",
    "        print(gxc_hvftr.shape, time.time()-ti)\n",
    "\n",
    "    # subsample cells\n",
    "    if 1 - p > 1e-5:\n",
    "        metadata_sub, gxc_hvftr_sub = subsampling_lite(metadata, gxc_hvftr, p)\n",
    "        print(metadata_sub.shape)\n",
    "    else:\n",
    "        metadata_sub = metadata\n",
    "        gxc_hvftr_sub = gxc_hvftr\n",
    "        print(metadata_sub.shape)\n",
    "\n",
    "    # do cv\n",
    "    (\n",
    "     res_nclsts, res, \n",
    "    ) = nfoldcv_random_features_split(gxc_hvftr_sub, resolutions, gene_chrom_lookup,\n",
    "                                      k=30, \n",
    "                                      reduce_dim=0,\n",
    "                                      nfolds=5, n_repeats=5, n_splits=5, split_frac=0.5)\n",
    "\n",
    "    # Saving the objects:\n",
    "    with open(output_results, 'wb') as f: \n",
    "        pickle.dump((\n",
    "                     res_nclsts, res,\n",
    "                    ), f)\n",
    "\n",
    "    # Getting back the objects:\n",
    "    with open(output_results, 'rb') as f: \n",
    "        (\n",
    "         res_nclsts, res,\n",
    "        ) = pickle.load(f)\n",
    "\n",
    "    res_nclsts_summary = res_nclsts.groupby('resolution').agg({'nclsts': ['mean', 'std']})\n",
    "    res_summary = res.groupby(['resolution']).agg({'mse': ['mean', 'std'],\n",
    "                                                          'mse_t': ['mean', 'std'],\n",
    "                                                        })\n",
    "\n",
    "    output = output_figures.format('cluster_cv_nosharey', 'pdf')\n",
    "    scale = 1\n",
    "    fig, ax = plt.subplots(1, 1, figsize=(5*scale,4*scale))\n",
    "\n",
    "    n_folds = 5\n",
    "\n",
    "    x = res_nclsts_summary['nclsts']['mean'].values\n",
    "    ys = res_summary #.xs(mod, level='mod')\n",
    "    base_level = np.min(ys['mse']['mean'].values)\n",
    "    y, y_err = ys['mse']['mean'].values/base_level, (ys['mse']['std'].values/np.sqrt(n_folds))/base_level, \n",
    "    yt, yt_err = ys['mse_t']['mean'].values/base_level, (ys['mse_t']['std'].values/np.sqrt(n_folds))/base_level, \n",
    "\n",
    "    ylabel = 'MSE +/- SEM\\n(normalized)'\n",
    "    xlabel = ''\n",
    "    plot_bi_cv_subfig(ax, x, \n",
    "                      y, y_err,\n",
    "                      yt, yt_err,\n",
    "                      settings[mod].color, mod, \n",
    "                      xlabel=xlabel,\n",
    "                      ylabel=ylabel\n",
    "                     )\n",
    "    ax.yaxis.set_major_locator(mtick.MaxNLocator(4))\n",
    "    ax.set_title('{} {} {}'.format(mod, p, len(metadata_sub)))\n",
    "\n",
    "    fig.subplots_adjust(wspace=0.1, bottom=0.15)\n",
    "    fig.text(0.5, 0, 'Number of clusters', ha='center', fontsize=15)\n",
    "    fig.savefig(output, bbox_inches='tight')\n",
    "    plt.show()"
   ]
  }
 ],
 "metadata": {
  "kernelspec": {
   "display_name": "Python 3",
   "language": "python",
   "name": "python3"
  },
  "language_info": {
   "codemirror_mode": {
    "name": "ipython",
    "version": 3
   },
   "file_extension": ".py",
   "mimetype": "text/x-python",
   "name": "python",
   "nbconvert_exporter": "python",
   "pygments_lexer": "ipython3",
   "version": "3.6.6"
  }
 },
 "nbformat": 4,
 "nbformat_minor": 2
}
