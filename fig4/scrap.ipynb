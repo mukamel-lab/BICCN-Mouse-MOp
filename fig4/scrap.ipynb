{
 "cells": [
  {
   "cell_type": "code",
   "execution_count": 1,
   "metadata": {},
   "outputs": [],
   "source": [
    "import importlib\n",
    "import sys\n",
    "sys.path.insert(0, '/cndd/fangming/CEMBA/snmcseq_dev')\n",
    "\n",
    "from __init__ import *\n",
    "from __init__jupyterlab import *\n",
    "import datetime\n",
    "from scipy import sparse\n",
    "import collections\n",
    "import itertools\n",
    "import re\n",
    "import fbpca\n",
    "import pickle\n",
    "import scipy.cluster.hierarchy as sch\n",
    "from sklearn.metrics import euclidean_distances\n",
    "\n",
    "import snmcseq_utils\n",
    "importlib.reload(snmcseq_utils)\n",
    "import CEMBA_run_tsne\n",
    "import CEMBA_clst_utils\n",
    "import SCF_utils\n",
    "importlib.reload(SCF_utils)\n",
    "\n",
    "import seaborn as sns \n",
    "import matplotlib.pyplot as plt"
   ]
  },
  {
   "cell_type": "markdown",
   "metadata": {},
   "source": [
    "# Configs  "
   ]
  },
  {
   "cell_type": "code",
   "execution_count": 3,
   "metadata": {},
   "outputs": [
    {
     "name": "stdout",
     "output_type": "stream",
     "text": [
      "2020-01-09\n"
     ]
    }
   ],
   "source": [
    "time_stamp = datetime.datetime.now().date()\n",
    "print(time_stamp)\n",
    "\n",
    "# config_dir = '/cndd/fangming/CEMBA/data/MOp_all/data_freeze_neurons/' \n",
    "# sys.path.insert(0, config_dir)\n",
    "config_f = 'config_scf_8mods_data_freeze_190917.py' \n",
    "exec(\"from {} import *\".format(config_f.split('.')[0]))\n",
    "output_figures = '/cndd/fangming/CEMBA/data/MOp_all/results/figures/mop_8mods_0915_k30_{{}}_{}.{{}}'.format(time_stamp)\n",
    "\n",
    "f_joint_clustering = '/cndd/fangming/CEMBA/data/MOp_all/results_final/miniatlas_fig4_scf_clusterings.tsv'\n",
    "f_cluster_annot = '/cndd/fangming/CEMBA/data/MOp_all/results_final/miniatlas_fig4_scf_annotation_round3.tsv'\n",
    "f_mod_annot = '/cndd/fangming/CEMBA/data/MOp_all/results_final/miniatlas_datamod_annotation.tsv'\n",
    "\n",
    "# output_summary_results = '/cndd/fangming/CEMBA/data/MOp_all/results_final/miniatlas_fig4_scf_clusterings.tsv' \n",
    "# output_summary_results = os.path.join(outdir, 'intg_summary-{}-2-round-clustering.tsv'.format(name))\n",
    "# output_summary_results = os.path.join(outdir, 'intg_summary-{}-2-round-clustering.tsv'.format(name))\n",
    "# print(output_summary_results)"
   ]
  },
  {
   "cell_type": "code",
   "execution_count": 4,
   "metadata": {},
   "outputs": [
    {
     "data": {
      "text/plain": [
       "'/cndd/fangming/CEMBA/data/MOp_all/results/figures/mop_8mods_0915_k30_{}_2020-01-09.{}'"
      ]
     },
     "execution_count": 4,
     "metadata": {},
     "output_type": "execute_result"
    }
   ],
   "source": [
    "output_figures"
   ]
  },
  {
   "cell_type": "code",
   "execution_count": 5,
   "metadata": {},
   "outputs": [],
   "source": [
    "# fixed dataset configs\n",
    "sys.path.insert(0, DATA_DIR)\n",
    "import __init__datasets\n",
    "importlib.reload(__init__datasets)\n",
    "from __init__datasets import *\n",
    "\n",
    "meta_f = os.path.join(DATA_DIR, '{0}_metadata.tsv')\n",
    "hvftrs_f = os.path.join(DATA_DIR, '{0}_hvfeatures.{1}')\n",
    "hvftrs_gene = os.path.join(DATA_DIR, '{0}_hvfeatures.gene')\n",
    "hvftrs_cell = os.path.join(DATA_DIR, '{0}_hvfeatures.cell')"
   ]
  },
  {
   "cell_type": "markdown",
   "metadata": {},
   "source": [
    "## Read in data "
   ]
  },
  {
   "cell_type": "code",
   "execution_count": 6,
   "metadata": {},
   "outputs": [
    {
     "name": "stderr",
     "output_type": "stream",
     "text": [
      "01/09/2020 01:49:41 PM *\n"
     ]
    }
   ],
   "source": [
    "log = snmcseq_utils.create_logger()\n",
    "logging.info('*')"
   ]
  },
  {
   "cell_type": "code",
   "execution_count": 7,
   "metadata": {},
   "outputs": [
    {
     "name": "stdout",
     "output_type": "stream",
     "text": [
      "snmcseq_gene (9366, 32)\n",
      "snatac_gene (54844, 13)\n"
     ]
    },
    {
     "name": "stderr",
     "output_type": "stream",
     "text": [
      "/cndd/fangming/venvs/conda_dobro/lib/python3.6/site-packages/IPython/core/interactiveshell.py:2728: DtypeWarning: Columns (64) have mixed types. Specify dtype option on import or set low_memory=False.\n",
      "  interactivity=interactivity, compiler=compiler, result=result)\n"
     ]
    },
    {
     "name": "stdout",
     "output_type": "stream",
     "text": [
      "smarter_cells (6244, 129)\n",
      "smarter_nuclei (5911, 146)\n",
      "10x_cells_v2 (121440, 8)\n",
      "10x_cells_v3 (69727, 8)\n",
      "10x_nuclei_v3 (39706, 8)\n",
      "10x_nuclei_v3_macosko (101647, 19)\n"
     ]
    }
   ],
   "source": [
    "metas = collections.OrderedDict()\n",
    "for mod in mods_selected:\n",
    "    metas[mod] = pd.read_csv(meta_f.format(mod), sep=\"\\t\").reset_index().set_index(settings[mod].cell_col)\n",
    "    print(mod, metas[mod].shape)"
   ]
  },
  {
   "cell_type": "markdown",
   "metadata": {},
   "source": [
    "## All done, making plots after \n",
    "\n",
    "- Plotting packages"
   ]
  },
  {
   "cell_type": "code",
   "execution_count": 8,
   "metadata": {},
   "outputs": [
    {
     "name": "stderr",
     "output_type": "stream",
     "text": [
      "/cndd/fangming/venvs/conda_dobro/lib/python3.6/site-packages/IPython/core/interactiveshell.py:2728: DtypeWarning: Columns (5) have mixed types. Specify dtype option on import or set low_memory=False.\n",
      "  interactivity=interactivity, compiler=compiler, result=result)\n"
     ]
    },
    {
     "name": "stdout",
     "output_type": "stream",
     "text": [
      "(408885, 12)\n"
     ]
    },
    {
     "data": {
      "text/html": [
       "<div>\n",
       "<style scoped>\n",
       "    .dataframe tbody tr th:only-of-type {\n",
       "        vertical-align: middle;\n",
       "    }\n",
       "\n",
       "    .dataframe tbody tr th {\n",
       "        vertical-align: top;\n",
       "    }\n",
       "\n",
       "    .dataframe thead th {\n",
       "        text-align: right;\n",
       "    }\n",
       "</style>\n",
       "<table border=\"1\" class=\"dataframe\">\n",
       "  <thead>\n",
       "    <tr style=\"text-align: right;\">\n",
       "      <th></th>\n",
       "      <th>tsne_x_joint</th>\n",
       "      <th>tsne_y_joint</th>\n",
       "      <th>modality</th>\n",
       "      <th>modality_name</th>\n",
       "      <th>cluster</th>\n",
       "      <th>annot</th>\n",
       "      <th>joint_cluster_round1</th>\n",
       "      <th>joint_cluster_round2</th>\n",
       "      <th>joint_cluster_round3</th>\n",
       "      <th>joint_cluster_round4</th>\n",
       "      <th>joint_cluster_round3_anno</th>\n",
       "      <th>joint_cluster_round3_color</th>\n",
       "    </tr>\n",
       "    <tr>\n",
       "      <th>sample</th>\n",
       "      <th></th>\n",
       "      <th></th>\n",
       "      <th></th>\n",
       "      <th></th>\n",
       "      <th></th>\n",
       "      <th></th>\n",
       "      <th></th>\n",
       "      <th></th>\n",
       "      <th></th>\n",
       "      <th></th>\n",
       "      <th></th>\n",
       "      <th></th>\n",
       "    </tr>\n",
       "  </thead>\n",
       "  <tbody>\n",
       "    <tr>\n",
       "      <th>snmcseq_gene_2C_M_0</th>\n",
       "      <td>0.471629</td>\n",
       "      <td>-3.134735</td>\n",
       "      <td>snmcseq_gene</td>\n",
       "      <td>DNA methylation</td>\n",
       "      <td>L4-IT-Rorb_Rorb-Tenm2</td>\n",
       "      <td>L4-IT-Rorb_Rorb-Tenm2</td>\n",
       "      <td>1</td>\n",
       "      <td>1-1</td>\n",
       "      <td>1-1-1</td>\n",
       "      <td>1-1-1-1</td>\n",
       "      <td>L5 IT Rspo1</td>\n",
       "      <td>#3CBC78</td>\n",
       "    </tr>\n",
       "    <tr>\n",
       "      <th>snmcseq_gene_2C_M_1011</th>\n",
       "      <td>-0.091199</td>\n",
       "      <td>-2.604921</td>\n",
       "      <td>snmcseq_gene</td>\n",
       "      <td>DNA methylation</td>\n",
       "      <td>L4-IT-Rorb_Rorb-Tenm2</td>\n",
       "      <td>L4-IT-Rorb_Rorb-Tenm2</td>\n",
       "      <td>1</td>\n",
       "      <td>1-1</td>\n",
       "      <td>1-1-1</td>\n",
       "      <td>1-1-1-1</td>\n",
       "      <td>L5 IT Rspo1</td>\n",
       "      <td>#3CBC78</td>\n",
       "    </tr>\n",
       "    <tr>\n",
       "      <th>snmcseq_gene_2C_M_1012</th>\n",
       "      <td>-0.037576</td>\n",
       "      <td>-8.106225</td>\n",
       "      <td>snmcseq_gene</td>\n",
       "      <td>DNA methylation</td>\n",
       "      <td>L23-IT-Cux2</td>\n",
       "      <td>L23-IT-Cux2</td>\n",
       "      <td>1</td>\n",
       "      <td>1-1</td>\n",
       "      <td>1-1-1</td>\n",
       "      <td>1-1-1-1</td>\n",
       "      <td>L5 IT Rspo1</td>\n",
       "      <td>#3CBC78</td>\n",
       "    </tr>\n",
       "    <tr>\n",
       "      <th>snmcseq_gene_2C_M_1022</th>\n",
       "      <td>0.906631</td>\n",
       "      <td>-0.785923</td>\n",
       "      <td>snmcseq_gene</td>\n",
       "      <td>DNA methylation</td>\n",
       "      <td>L4-IT-Rorb_Rorb-Cpne4</td>\n",
       "      <td>L4-IT-Rorb_Rorb-Cpne4</td>\n",
       "      <td>1</td>\n",
       "      <td>1-1</td>\n",
       "      <td>1-1-1</td>\n",
       "      <td>1-1-1-1</td>\n",
       "      <td>L5 IT Rspo1</td>\n",
       "      <td>#3CBC78</td>\n",
       "    </tr>\n",
       "    <tr>\n",
       "      <th>snmcseq_gene_2C_M_1024</th>\n",
       "      <td>1.627603</td>\n",
       "      <td>-1.945875</td>\n",
       "      <td>snmcseq_gene</td>\n",
       "      <td>DNA methylation</td>\n",
       "      <td>L4-IT-Rorb_Rorb-Cpne4</td>\n",
       "      <td>L4-IT-Rorb_Rorb-Cpne4</td>\n",
       "      <td>1</td>\n",
       "      <td>1-1</td>\n",
       "      <td>1-1-1</td>\n",
       "      <td>1-1-1-1</td>\n",
       "      <td>L5 IT Rspo1</td>\n",
       "      <td>#3CBC78</td>\n",
       "    </tr>\n",
       "  </tbody>\n",
       "</table>\n",
       "</div>"
      ],
      "text/plain": [
       "                        tsne_x_joint  tsne_y_joint      modality  \\\n",
       "sample                                                             \n",
       "snmcseq_gene_2C_M_0         0.471629     -3.134735  snmcseq_gene   \n",
       "snmcseq_gene_2C_M_1011     -0.091199     -2.604921  snmcseq_gene   \n",
       "snmcseq_gene_2C_M_1012     -0.037576     -8.106225  snmcseq_gene   \n",
       "snmcseq_gene_2C_M_1022      0.906631     -0.785923  snmcseq_gene   \n",
       "snmcseq_gene_2C_M_1024      1.627603     -1.945875  snmcseq_gene   \n",
       "\n",
       "                          modality_name                cluster  \\\n",
       "sample                                                           \n",
       "snmcseq_gene_2C_M_0     DNA methylation  L4-IT-Rorb_Rorb-Tenm2   \n",
       "snmcseq_gene_2C_M_1011  DNA methylation  L4-IT-Rorb_Rorb-Tenm2   \n",
       "snmcseq_gene_2C_M_1012  DNA methylation            L23-IT-Cux2   \n",
       "snmcseq_gene_2C_M_1022  DNA methylation  L4-IT-Rorb_Rorb-Cpne4   \n",
       "snmcseq_gene_2C_M_1024  DNA methylation  L4-IT-Rorb_Rorb-Cpne4   \n",
       "\n",
       "                                        annot  joint_cluster_round1  \\\n",
       "sample                                                                \n",
       "snmcseq_gene_2C_M_0     L4-IT-Rorb_Rorb-Tenm2                     1   \n",
       "snmcseq_gene_2C_M_1011  L4-IT-Rorb_Rorb-Tenm2                     1   \n",
       "snmcseq_gene_2C_M_1012            L23-IT-Cux2                     1   \n",
       "snmcseq_gene_2C_M_1022  L4-IT-Rorb_Rorb-Cpne4                     1   \n",
       "snmcseq_gene_2C_M_1024  L4-IT-Rorb_Rorb-Cpne4                     1   \n",
       "\n",
       "                       joint_cluster_round2 joint_cluster_round3  \\\n",
       "sample                                                             \n",
       "snmcseq_gene_2C_M_0                     1-1                1-1-1   \n",
       "snmcseq_gene_2C_M_1011                  1-1                1-1-1   \n",
       "snmcseq_gene_2C_M_1012                  1-1                1-1-1   \n",
       "snmcseq_gene_2C_M_1022                  1-1                1-1-1   \n",
       "snmcseq_gene_2C_M_1024                  1-1                1-1-1   \n",
       "\n",
       "                       joint_cluster_round4 joint_cluster_round3_anno  \\\n",
       "sample                                                                  \n",
       "snmcseq_gene_2C_M_0                 1-1-1-1               L5 IT Rspo1   \n",
       "snmcseq_gene_2C_M_1011              1-1-1-1               L5 IT Rspo1   \n",
       "snmcseq_gene_2C_M_1012              1-1-1-1               L5 IT Rspo1   \n",
       "snmcseq_gene_2C_M_1022              1-1-1-1               L5 IT Rspo1   \n",
       "snmcseq_gene_2C_M_1024              1-1-1-1               L5 IT Rspo1   \n",
       "\n",
       "                       joint_cluster_round3_color  \n",
       "sample                                             \n",
       "snmcseq_gene_2C_M_0                       #3CBC78  \n",
       "snmcseq_gene_2C_M_1011                    #3CBC78  \n",
       "snmcseq_gene_2C_M_1012                    #3CBC78  \n",
       "snmcseq_gene_2C_M_1022                    #3CBC78  \n",
       "snmcseq_gene_2C_M_1024                    #3CBC78  "
      ]
     },
     "execution_count": 8,
     "metadata": {},
     "output_type": "execute_result"
    }
   ],
   "source": [
    "# get results summary\n",
    "mods_ordered = [\n",
    "    'snatac_gene',\n",
    "    'snmcseq_gene',\n",
    "    'smarter_nuclei',\n",
    "    'smarter_cells',\n",
    "    '10x_cells_v3',\n",
    "    '10x_nuclei_v3',\n",
    "    '10x_nuclei_v3_macosko',\n",
    "    '10x_cells_v2', \n",
    "    ]\n",
    "assert set(mods_ordered) == set(mods_selected)\n",
    "\n",
    "f = f_cluster_annot\n",
    "df_annot = pd.read_csv(f, sep=\"\\t\") \n",
    "\n",
    "f = f_mod_annot\n",
    "df_mod_annot = pd.read_csv(f, sep=\"\\t\", index_col='Modality') \n",
    "\n",
    "f = f_joint_clustering\n",
    "df_info = pd.read_csv(f, sep=\"\\t\") \n",
    "\n",
    "# back compatible\n",
    "df_info = pd.merge(df_info, df_mod_annot[['Name']], left_on='modality', right_index=True)\n",
    "df_info['modality_name'] = df_info['Name']\n",
    "df_info = df_info.drop('Name', axis=1)\n",
    "\n",
    "df_info = pd.merge(df_info, df_annot[['cluster_id_iterative', 'annotation_curated', 'color']], \n",
    "                   left_on='joint_cluster_round3', right_on='cluster_id_iterative', )\n",
    "\n",
    "df_info = df_info.rename(columns={\n",
    "                'joint_embedding_x': 'tsne_x_joint',\n",
    "                'joint_embedding_y': 'tsne_y_joint',\n",
    "                'single_modality_annot': 'annot',\n",
    "                'single_modality_cluster': 'cluster',\n",
    "                'annotation_curated': 'joint_cluster_round3_anno',\n",
    "                'color': 'joint_cluster_round3_color',\n",
    "            }).drop('cluster_id_iterative', axis=1)\n",
    "df_info = df_info.set_index('sample')\n",
    "df_info = df_info.astype({\"cluster\": str})\n",
    "\n",
    "print(df_info.shape)\n",
    "df_info.head()\n"
   ]
  },
  {
   "cell_type": "code",
   "execution_count": 9,
   "metadata": {},
   "outputs": [],
   "source": [
    "# back compatible\n",
    "# update settings\n",
    "settings_new = collections.OrderedDict()\n",
    "for mod, mod_info in settings.items():\n",
    "    new_dict = collections.OrderedDict()\n",
    "    for item_key in mod_info._asdict().keys():\n",
    "        if item_key == 'name':\n",
    "            new_dict[item_key] = df_mod_annot.loc[mod, 'Name'] \n",
    "        elif item_key == 'color':\n",
    "            new_dict[item_key] = df_mod_annot.loc[mod, 'Color'] \n",
    "        else:\n",
    "            # unchanged \n",
    "            new_dict[item_key] = mod_info._asdict()[item_key]\n",
    "    \n",
    "    _items = [val for key, val in new_dict.items()]\n",
    "    settings_new[mod] = Mod_info(*_items) \n",
    "settings = settings_new\n",
    "# settings"
   ]
  },
  {
   "cell_type": "code",
   "execution_count": 11,
   "metadata": {},
   "outputs": [],
   "source": [
    "mods_updated = [\n",
    "    'smarter_cells',\n",
    "    '10x_cells_v3',\n",
    "    '10x_cells_v2', \n",
    "    'smarter_nuclei',\n",
    "    '10x_nuclei_v3_macosko',\n",
    "    '10x_nuclei_v3',\n",
    "    'snatac_gene',\n",
    "    'mch',\n",
    "    'mcg',\n",
    "]\n",
    "mods_selected = mods"
   ]
  },
  {
   "cell_type": "code",
   "execution_count": 12,
   "metadata": {},
   "outputs": [
    {
     "name": "stdout",
     "output_type": "stream",
     "text": [
      "snmcseq_gene\n",
      "snatac_gene\n",
      "smarter_cells\n",
      "smarter_nuclei\n",
      "10x_cells_v2\n",
      "10x_cells_v3\n",
      "10x_nuclei_v3\n",
      "10x_nuclei_v3_macosko\n",
      "dict_keys(['mcg', 'mch', 'snatac_gene', 'smarter_cells', 'smarter_nuclei', '10x_cells_v2', '10x_cells_v3', '10x_nuclei_v3', '10x_nuclei_v3_macosko'])\n"
     ]
    }
   ],
   "source": [
    "f_format = '/cndd2/fangming/miniatlas/cluster_level/gene_features_{}_round2.tsv'\n",
    "centroid_dfs = {}\n",
    "for mod in mods_selected:\n",
    "    print(mod)\n",
    "    if settings[mod].mod_category == 'mc':\n",
    "        for mod_update in ['mcg', 'mch']:\n",
    "            f = f_format.format(mod_update)\n",
    "            centroid_dfs[mod_update] = pd.read_csv(f, sep='\\t', index_col=0)\n",
    "    else:\n",
    "        f = f_format.format(mod)\n",
    "        centroid_dfs[mod] = pd.read_csv(f, sep='\\t', index_col=0)\n",
    "    \n",
    "print(centroid_dfs.keys())\n",
    "    "
   ]
  },
  {
   "cell_type": "code",
   "execution_count": 17,
   "metadata": {},
   "outputs": [
    {
     "data": {
      "text/plain": [
       "1-1    34941.085257\n",
       "1-2    41201.747687\n",
       "2-1    59078.235836\n",
       "2-2    47716.217997\n",
       "2-3    43136.574581\n",
       "dtype: float64"
      ]
     },
     "execution_count": 17,
     "metadata": {},
     "output_type": "execute_result"
    }
   ],
   "source": [
    "np.sum(np.power(10, centroid_dfs['snatac_gene'])-1).head()"
   ]
  },
  {
   "cell_type": "code",
   "execution_count": 18,
   "metadata": {},
   "outputs": [
    {
     "data": {
      "text/plain": [
       "1-1     794230.187695\n",
       "1-2     809351.197483\n",
       "10-1    877619.386349\n",
       "2-1     825522.805700\n",
       "2-2     824513.575142\n",
       "dtype: float64"
      ]
     },
     "execution_count": 18,
     "metadata": {},
     "output_type": "execute_result"
    }
   ],
   "source": [
    "np.sum(np.power(10, centroid_dfs['smarter_cells'])-1).head()"
   ]
  },
  {
   "cell_type": "code",
   "execution_count": 19,
   "metadata": {},
   "outputs": [
    {
     "data": {
      "text/plain": [
       "1-1     315035.399432\n",
       "1-2     383927.945911\n",
       "10-1    326362.700332\n",
       "2-1     324681.294208\n",
       "2-2     303919.373916\n",
       "dtype: float64"
      ]
     },
     "execution_count": 19,
     "metadata": {},
     "output_type": "execute_result"
    }
   ],
   "source": [
    "np.sum(np.power(10, centroid_dfs['smarter_nuclei'])-1).head()"
   ]
  },
  {
   "cell_type": "code",
   "execution_count": 20,
   "metadata": {},
   "outputs": [
    {
     "data": {
      "text/plain": [
       "1-1     474279.019549\n",
       "1-2     567514.035847\n",
       "10-1    591689.210015\n",
       "2-1     523467.792720\n",
       "2-2     583257.270016\n",
       "dtype: float64"
      ]
     },
     "execution_count": 20,
     "metadata": {},
     "output_type": "execute_result"
    }
   ],
   "source": [
    "np.sum(np.power(10, centroid_dfs['10x_cells_v2'])-1).head()"
   ]
  }
 ],
 "metadata": {
  "kernelspec": {
   "display_name": "Python 3",
   "language": "python",
   "name": "python3"
  },
  "language_info": {
   "codemirror_mode": {
    "name": "ipython",
    "version": 3
   },
   "file_extension": ".py",
   "mimetype": "text/x-python",
   "name": "python",
   "nbconvert_exporter": "python",
   "pygments_lexer": "ipython3",
   "version": "3.6.6"
  }
 },
 "nbformat": 4,
 "nbformat_minor": 2
}
