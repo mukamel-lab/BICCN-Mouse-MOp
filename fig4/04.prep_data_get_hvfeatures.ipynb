{
 "cells": [
  {
   "cell_type": "code",
   "execution_count": 1,
   "metadata": {},
   "outputs": [],
   "source": [
    "import sys\n",
    "sys.path.insert(0, '/cndd/fangming/CEMBA/snmcseq_dev')\n",
    "import importlib\n",
    "\n",
    "from __init__ import *\n",
    "from __init__jupyterlab import *\n",
    "import snmcseq_utils\n",
    "importlib.reload(snmcseq_utils)\n",
    "import CEMBA_preproc_utils\n",
    "importlib.reload(CEMBA_preproc_utils)\n",
    "import CEMBA_clst_utils\n",
    "\n",
    "from scipy.io import mmread\n",
    "from scipy import sparse\n",
    "import time\n",
    "\n",
    "import fbpca"
   ]
  },
  {
   "cell_type": "code",
   "execution_count": 8,
   "metadata": {},
   "outputs": [
    {
     "data": {
      "text/plain": [
       "'2.2.2'"
      ]
     },
     "execution_count": 8,
     "metadata": {},
     "output_type": "execute_result"
    }
   ],
   "source": [
    "import matplotlib\n",
    "matplotlib.__version__"
   ]
  },
  {
   "cell_type": "markdown",
   "metadata": {},
   "source": [
    "# Task\n",
    "\n",
    "- start from prepared files \n",
    "\n",
    "```metadata``` ```count matrix```\n",
    "- get and store hvfeatures"
   ]
  },
  {
   "cell_type": "markdown",
   "metadata": {},
   "source": [
    "# Settings"
   ]
  },
  {
   "cell_type": "code",
   "execution_count": 9,
   "metadata": {},
   "outputs": [],
   "source": [
    "SRC_DIR = '/cndd/fangming/CEMBA/data/MOp_all/data_freeze_neurons_v2'\n",
    "DST_DIR = '/cndd/fangming/CEMBA/data/MOp_all/data_freeze_neurons_v2'\n",
    "sys.path.insert(0, SRC_DIR)\n",
    "from __init__datasets import *\n",
    "\n",
    "f_meta_format = '{0}/{1}_metadata.tsv'\n",
    "f_data_format = '{0}/{1}_{2}raw.{3}'\n",
    "f_hvftr_format = '{0}/{1}_hvfeatures.{2}'\n",
    "f_ftr_format = '{0}/{1}_features.{2}'\n",
    "\n",
    "\n",
    "def get_size_in_GB(obj):\n",
    "    \"\"\"\"\"\"\n",
    "    GB = 1024**3\n",
    "    return sys.getsizeof(obj)/GB"
   ]
  },
  {
   "cell_type": "code",
   "execution_count": 10,
   "metadata": {},
   "outputs": [],
   "source": [
    "mods_selected = [\n",
    "#     'snmcseq_gene',\n",
    "    'snatac_gene',\n",
    "    \n",
    "#     'smarter_nuclei',\n",
    "#     'smarter_cells',\n",
    "#     '10x_nuclei_v3_macosko',\n",
    "#     '10x_cells_v3',\n",
    "#     '10x_nuclei_v3',\n",
    "#     '10x_cells_v2',\n",
    "    \n",
    "#     '10x_nuclei_v2',\n",
    "#     'smarter-cells-v1',\n",
    "]"
   ]
  },
  {
   "cell_type": "code",
   "execution_count": 11,
   "metadata": {},
   "outputs": [],
   "source": [
    "# # gene name as index\n",
    "# gene_annot_file = PATH_GENEBODY_ANNOTATION\n",
    "# gene_annot = pd.read_csv(gene_annot_file, sep=\"\\t\")\n",
    "# gene_annot_v2 = gene_annot.groupby('gene_name').first()\n",
    "# print(gene_annot_v2.shape)\n",
    "# gene_lengths_base = (gene_annot_v2['end'] - gene_annot_v2['start'])\n",
    "# print(gene_lengths_base.head())"
   ]
  },
  {
   "cell_type": "code",
   "execution_count": 12,
   "metadata": {},
   "outputs": [
    {
     "name": "stdout",
     "output_type": "stream",
     "text": [
      "gene_id_abbr\n",
      "ENSMUSG00000102693      1069\n",
      "ENSMUSG00000064842       109\n",
      "ENSMUSG00000051951    465597\n",
      "ENSMUSG00000102851       479\n",
      "ENSMUSG00000103377      2818\n",
      "dtype: int64\n"
     ]
    }
   ],
   "source": [
    "# # gene id (abbr) as index\n",
    "gene_annot_file = PATH_GENEBODY_ANNOTATION\n",
    "gene_annot = pd.read_csv(gene_annot_file, sep=\"\\t\")\n",
    "gene_annot['gene_id_abbr'] = gene_annot['gene_id'].apply(lambda x: x.split('.')[0])\n",
    "gene_annot = gene_annot.set_index('gene_id_abbr')\n",
    "\n",
    "gene_lengths_base = (gene_annot['end'] - gene_annot['start'])\n",
    "print(gene_lengths_base.head())"
   ]
  },
  {
   "cell_type": "code",
   "execution_count": 13,
   "metadata": {},
   "outputs": [],
   "source": [
    "normalization_options = {\n",
    "    'smarter_nuclei': 'TPM',\n",
    "    'smarter_cells': 'TPM',\n",
    "    'snatac_gene': 'TPM',\n",
    "    '10x_nuclei_v3_macosko': 'CPM',\n",
    "    '10x_cells_v3': 'CPM',\n",
    "    '10x_nuclei_v3': 'CPM',\n",
    "    'snmcseq_gene': 'MC',\n",
    "    '10x_cells_v2': 'CPM',\n",
    "#     '10x_nuclei_v2': 'CPM',\n",
    "#     'smarter-cells-v1': 'TPM',\n",
    "}"
   ]
  },
  {
   "cell_type": "markdown",
   "metadata": {},
   "source": [
    "# highly variable features"
   ]
  },
  {
   "cell_type": "code",
   "execution_count": 14,
   "metadata": {},
   "outputs": [
    {
     "name": "stdout",
     "output_type": "stream",
     "text": [
      "snatac_gene\n",
      "snatac_gene Reading in files 0.253676176071167\n",
      "(53342, 54844)\n",
      "snatac_gene Preproc and get highly variable genes 16.28616428375244\n",
      "Imputing gene lengths...\n",
      "Removing low coverage genes...\n",
      "Getting CPM..\n",
      "Getting highly variable genes and logCPM...\n",
      "Getting logTPM...\n",
      "Trim logTPM matrix...\n",
      "Number of genes: 7317\n",
      "snatac_gene Saving to files 87.29555678367615\n",
      "snatac_gene Total time used: 153.24073886871338\n"
     ]
    }
   ],
   "source": [
    "for mod in mods_selected:\n",
    "    ti = time.time()\n",
    "    print(mod)\n",
    "    \n",
    "    # read metadata\n",
    "    normalization_option = normalization_options[mod]\n",
    "    f_meta = f_meta_format.format(SRC_DIR, mod) ##\n",
    "    meta = pd.read_csv(f_meta, sep=\"\\t\", index_col=0)\n",
    "    \n",
    "    # read data matrix\n",
    "    if normalization_option == 'MC':\n",
    "        f_data_gene = f_data_format.format(SRC_DIR, mod, '', 'gene')\n",
    "        f_data_cell = f_data_format.format(SRC_DIR, mod, '', 'cell')\n",
    "        f_data_c = f_data_format.format(SRC_DIR, mod, 'CH_', 'npz')\n",
    "        f_data_mc = f_data_format.format(SRC_DIR, mod, 'mCH_', 'npz')\n",
    "        \n",
    "        # read in files\n",
    "        print(mod, \"Reading in files {}\".format(time.time()-ti))\n",
    "        gxc_raw = snmcseq_utils.load_gc_matrix_methylation(f_data_gene, f_data_cell, f_data_mc, f_data_c)\n",
    "        print(gxc_raw.data['mc'].shape, gxc_raw.data['c'].shape)\n",
    "        print(time.time()-ti)\n",
    "        \n",
    "        # output file\n",
    "        f_hvftr_data_methylation = f_hvftr_format.format(DST_DIR, mod, 'tsv') \n",
    "        print(time.time()-ti)\n",
    "        \n",
    "        # check meta cells agree with gxc cells\n",
    "        assert np.all(meta.index.values == gxc_raw.cell)\n",
    "        # check genes are uniq \n",
    "        assert len(gxc_raw.gene) == len(np.unique(gxc_raw.gene)) \n",
    "        \n",
    "        # do\n",
    "        gxc_hvftr = CEMBA_preproc_utils.preproc_methylation(\n",
    "                                                            gxc_raw,\n",
    "                                                            meta,\n",
    "                                                            global_value_col=settings[mod].global_mean, \n",
    "                                                            base_call_cutoff=20, \n",
    "                                                            sufficient_coverage_fraction=0.95,\n",
    "                                                            hv_percentile=30,\n",
    "                                                            n_qcut=10,\n",
    "                                                            )\n",
    "        # save\n",
    "        print(mod, \"Saving to files {}\".format(time.time()-ti))\n",
    "        gxc_hvftr.to_csv(f_hvftr_data_methylation, sep=\"\\t\", header=True, index=True, na_rep='NA')\n",
    "        \n",
    "        \n",
    "        \n",
    "    else:\n",
    "        f_data = f_data_format.format(SRC_DIR, mod, '', 'npz') \n",
    "        f_data_gene = f_data_format.format(SRC_DIR, mod, '', 'gene') \n",
    "        f_data_cell = f_data_format.format(SRC_DIR, mod, '', 'cell') \n",
    "        \n",
    "        # read in files\n",
    "        print(mod, \"Reading in files {}\".format(time.time()-ti))\n",
    "        gxc_raw = snmcseq_utils.load_gc_matrix(f_data_gene, f_data_cell, f_data) # checked dimensions in agreement internally\n",
    "        print(gxc_raw.data.shape)\n",
    "        \n",
    "        # output files\n",
    "        f_hvftr_data = f_hvftr_format.format(DST_DIR, mod, 'npz') \n",
    "        f_hvftr_gene = f_hvftr_format.format(DST_DIR, mod, 'gene') \n",
    "        f_hvftr_cell = f_hvftr_format.format(DST_DIR, mod, 'cell') \n",
    "        \n",
    "        # check meta cells agree with gxc cells\n",
    "        assert np.all(meta.index.values == gxc_raw.cell)\n",
    "        # check genes are uniq \n",
    "        assert len(gxc_raw.gene) == len(np.unique(gxc_raw.gene)) \n",
    "    \n",
    "        # get hvftrs\n",
    "        print(mod, \"Preproc and get highly variable genes {}\".format(time.time()-ti))\n",
    "        if normalization_option == 'CPM':\n",
    "            gxc_hvftr = CEMBA_preproc_utils.preproc_rna_cpm_based(\n",
    "                                             gxc_raw, \n",
    "                                             sufficient_cell_coverage=0.01, \n",
    "                                             hv_percentile=30, hv_ncut=10)\n",
    "            # save\n",
    "            print(mod, \"Saving to files {}\".format(time.time()-ti))\n",
    "            snmcseq_utils.save_gc_matrix(gxc_hvftr, f_hvftr_gene, f_hvftr_cell, f_hvftr_data)\n",
    "\n",
    "        elif normalization_option == 'TPM':\n",
    "            gene_lengths = gene_lengths_base.reindex(gxc_raw.gene)\n",
    "            gxc_hvftr = CEMBA_preproc_utils.preproc_rna_tpm_based(\n",
    "                                             gxc_raw, gene_lengths, impute_gene_lengths=True, \n",
    "                                             sufficient_cell_coverage=0.01, \n",
    "                                             hv_percentile=30, hv_ncut=10)\n",
    "            # save\n",
    "            print(mod, \"Saving to files {}\".format(time.time()-ti))\n",
    "            snmcseq_utils.save_gc_matrix(gxc_hvftr, f_hvftr_gene, f_hvftr_cell, f_hvftr_data)\n",
    "    \n",
    "    \n",
    "    print(mod, \"Total time used: {}\".format(time.time()-ti))\n",
    "    "
   ]
  },
  {
   "cell_type": "markdown",
   "metadata": {},
   "source": [
    "## Check highly-variable genes"
   ]
  },
  {
   "cell_type": "code",
   "execution_count": 16,
   "metadata": {},
   "outputs": [
    {
     "name": "stdout",
     "output_type": "stream",
     "text": [
      "snatac_gene\n",
      "['ENSMUSG00000103147' 'ENSMUSG00000102275' 'ENSMUSG00000099827' ...\n",
      " 'ENSMUSG00000038344' 'ENSMUSG00000031360' 'ENSMUSG00000031355']\n",
      "['snatac_gene_CEMBA171206_3C_AGCGATAGAACCAGGTAAGAGATGTATAGCCT'\n",
      " 'snatac_gene_CEMBA171206_3C_AGCGATAGAACCAGGTAATGACGTCAGGACGT'\n",
      " 'snatac_gene_CEMBA171206_3C_AGCGATAGAACCAGGTATAGCCTTAGGCGAAG' ...\n",
      " 'snatac_gene_CEMBA180618_5D_TCCGGAGATTCCATCCGTACTGACAAGAGATG'\n",
      " 'snatac_gene_CEMBA180618_5D_TCCGGAGATTCCATCCGTACTGACTAAGATCC'\n",
      " 'snatac_gene_CEMBA180618_5D_TCCGGAGATTCCATCCTATAGCCTCGAATTCC']\n",
      "7317 54844 (7317, 54844)\n",
      "Contains NaN? False\n"
     ]
    }
   ],
   "source": [
    "for mod in mods_selected:\n",
    "    print(mod)\n",
    "    if settings[mod].mod_category == 'mc':\n",
    "        f_hvftr_data = f_hvftr_format.format(SRC_DIR, mod, 'tsv') \n",
    "        gxc_hvftr = pd.read_csv(f_hvftr_data, sep=\"\\t\", index_col=0)\n",
    "        print(gxc_hvftr.index.values)\n",
    "        print(gxc_hvftr.columns.values)\n",
    "        print(gxc_hvftr.shape)\n",
    "        has_nan = np.isnan(gxc_hvftr.values).any()\n",
    "        print(\"Contains NaN? {}\".format(has_nan))\n",
    "        \n",
    "        continue\n",
    "        \n",
    "    f_hvftr_data = f_hvftr_format.format(SRC_DIR, mod, 'npz') \n",
    "    f_hvftr_gene = f_hvftr_format.format(SRC_DIR, mod, 'gene') \n",
    "    f_hvftr_cell = f_hvftr_format.format(SRC_DIR, mod, 'cell') \n",
    "    gxc_hvftr = snmcseq_utils.load_gc_matrix(f_hvftr_gene, f_hvftr_cell, f_hvftr_data)\n",
    "    print(gxc_hvftr.gene)\n",
    "    print(gxc_hvftr.cell)\n",
    "    print(len(gxc_hvftr.gene), len(gxc_hvftr.cell), gxc_hvftr.data.shape)\n",
    "    has_nan = np.isnan(gxc_hvftr.data.data).any()\n",
    "    print(\"Contains NaN? {}\".format(has_nan))\n",
    "#     break"
   ]
  },
  {
   "cell_type": "markdown",
   "metadata": {},
   "source": [
    "### get and save ftrs "
   ]
  },
  {
   "cell_type": "code",
   "execution_count": 18,
   "metadata": {},
   "outputs": [
    {
     "name": "stdout",
     "output_type": "stream",
     "text": [
      "snatac_gene\n",
      "snatac_gene Reading in files 0.26618123054504395\n",
      "(53342, 54844)\n",
      "snatac_gene Preproc and get highly variable genes 15.520107984542847\n",
      "snatac_gene Saving to files 47.74341344833374\n",
      "snatac_gene Total time used: 398.51212763786316\n"
     ]
    }
   ],
   "source": [
    "for mod in mods_selected:\n",
    "    ti = time.time()\n",
    "    print(mod)\n",
    "    \n",
    "    # read metadata\n",
    "    normalization_option = normalization_options[mod]\n",
    "    f_meta = f_meta_format.format(SRC_DIR, mod) ##\n",
    "    meta = pd.read_csv(f_meta, sep=\"\\t\", index_col=0)\n",
    "    \n",
    "    # read data matrix\n",
    "    if normalization_option == 'MC':\n",
    "        f_data_gene = f_data_format.format(SRC_DIR, mod, '', 'gene')\n",
    "        f_data_cell = f_data_format.format(SRC_DIR, mod, '', 'cell')\n",
    "        f_data_c = f_data_format.format(SRC_DIR, mod, 'CH_', 'npz')\n",
    "        f_data_mc = f_data_format.format(SRC_DIR, mod, 'mCH_', 'npz')\n",
    "        \n",
    "        # read in files\n",
    "        print(mod, \"Reading in files {}\".format(time.time()-ti))\n",
    "        gxc_raw = snmcseq_utils.load_gc_matrix_methylation(f_data_gene, f_data_cell, f_data_mc, f_data_c)\n",
    "        print(gxc_raw.data['mc'].shape, gxc_raw.data['c'].shape)\n",
    "        print(time.time()-ti)\n",
    "        \n",
    "        # output file\n",
    "        f_ftr_data_methylation = f_ftr_format.format(DST_DIR, mod, 'tsv') \n",
    "        print(time.time()-ti)\n",
    "        \n",
    "        # check meta cells agree with gxc cells\n",
    "        assert np.all(meta.index.values == gxc_raw.cell)\n",
    "        # check genes are uniq \n",
    "        assert len(gxc_raw.gene) == len(np.unique(gxc_raw.gene)) \n",
    "        \n",
    "        ### do\n",
    "        base_call_cutoff = 10\n",
    "        sufficient_coverage_fraction = 0.90\n",
    "        #  select genes covered (10 counts) in > 90% of cells\n",
    "        n_gene, n_cell = gxc_raw.data['c'].shape\n",
    "        gene_cov = (gxc_raw.data['c'] > base_call_cutoff).sum(axis=1)\n",
    "        gene_cov = np.array(gene_cov).squeeze()/n_cell # fraction of cells covered\n",
    "        cond = gene_cov>sufficient_coverage_fraction\n",
    "\n",
    "        # to full matrix\n",
    "        df_c = pd.DataFrame(\n",
    "            gxc_raw.data['c'].tocsr()[cond, :].todense(),\n",
    "            index=np.array(gxc_raw.gene)[cond],\n",
    "            columns=gxc_raw.cell,\n",
    "        )\n",
    "        df_mc = pd.DataFrame(\n",
    "            gxc_raw.data['mc'].tocsr()[cond, :].todense(),\n",
    "            index=np.array(gxc_raw.gene)[cond],\n",
    "            columns=gxc_raw.cell,\n",
    "        )\n",
    "        ### do\n",
    "        \n",
    "        # compute normalized methylation matrix \n",
    "        df_mcc = snmcseq_utils.get_mcc_lite_v2(df_c, df_mc, base_call_cutoff=base_call_cutoff)\n",
    "        gxc_ftr = df_mcc.divide(meta.loc[df_mcc.columns.values, settings[mod].global_mean], axis=1)\n",
    "        # save\n",
    "        print(mod, \"Saving to files {}\".format(time.time()-ti))\n",
    "        gxc_ftr.to_csv(f_ftr_data_methylation, sep=\"\\t\", header=True, index=True, na_rep='NA')\n",
    "        \n",
    "        \n",
    "    else:\n",
    "        f_data = f_data_format.format(SRC_DIR, mod, '', 'npz') \n",
    "        f_data_gene = f_data_format.format(SRC_DIR, mod, '', 'gene') \n",
    "        f_data_cell = f_data_format.format(SRC_DIR, mod, '', 'cell') \n",
    "        \n",
    "        # read in files\n",
    "        print(mod, \"Reading in files {}\".format(time.time()-ti))\n",
    "        gxc_raw = snmcseq_utils.load_gc_matrix(f_data_gene, f_data_cell, f_data) # checked dimensions in agreement internally\n",
    "        print(gxc_raw.data.shape)\n",
    "        \n",
    "        # output files\n",
    "        f_ftr_data = f_ftr_format.format(DST_DIR, mod, 'npz') \n",
    "        f_ftr_gene = f_ftr_format.format(DST_DIR, mod, 'gene') \n",
    "        f_ftr_cell = f_ftr_format.format(DST_DIR, mod, 'cell') \n",
    "        \n",
    "        # check meta cells agree with gxc cells\n",
    "        assert np.all(meta.index.values == gxc_raw.cell)\n",
    "        # check genes are uniq \n",
    "        assert len(gxc_raw.gene) == len(np.unique(gxc_raw.gene)) \n",
    "    \n",
    "        # get hvftrs\n",
    "        print(mod, \"Preproc and get highly variable genes {}\".format(time.time()-ti))\n",
    "        if normalization_option == 'CPM':\n",
    "            # do \n",
    "            gxc_ftr = snmcseq_utils.sparse_logcpm(gxc_raw, mode='logcpm')\n",
    "            # save\n",
    "            print(mod, \"Saving to files {}\".format(time.time()-ti))\n",
    "            snmcseq_utils.save_gc_matrix(gxc_ftr, f_ftr_gene, f_ftr_cell, f_ftr_data)\n",
    "\n",
    "        elif normalization_option == 'TPM':\n",
    "            # do\n",
    "            gene_lengths = gene_lengths_base.reindex(gxc_raw.gene)\n",
    "            gene_lengths = gene_lengths.fillna(np.nanmean(gene_lengths.values))\n",
    "            gxc_ftr = snmcseq_utils.sparse_logtpm(gxc_raw, gene_lengths)\n",
    "            # save\n",
    "            print(mod, \"Saving to files {}\".format(time.time()-ti))\n",
    "            snmcseq_utils.save_gc_matrix(gxc_ftr, f_ftr_gene, f_ftr_cell, f_ftr_data)\n",
    "    \n",
    "    \n",
    "    print(mod, \"Total time used: {}\".format(time.time()-ti))\n",
    "    "
   ]
  },
  {
   "cell_type": "code",
   "execution_count": null,
   "metadata": {},
   "outputs": [],
   "source": []
  }
 ],
 "metadata": {
  "kernelspec": {
   "display_name": "Python 3",
   "language": "python",
   "name": "python3"
  },
  "language_info": {
   "codemirror_mode": {
    "name": "ipython",
    "version": 3
   },
   "file_extension": ".py",
   "mimetype": "text/x-python",
   "name": "python",
   "nbconvert_exporter": "python",
   "pygments_lexer": "ipython3",
   "version": "3.6.6"
  }
 },
 "nbformat": 4,
 "nbformat_minor": 2
}
