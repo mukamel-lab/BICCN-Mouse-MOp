{
 "cells": [
  {
   "cell_type": "code",
   "execution_count": 1,
   "metadata": {},
   "outputs": [],
   "source": [
    "import importlib\n",
    "import sys\n",
    "sys.path.insert(0, '/cndd/fangming/CEMBA/snmcseq_dev')\n",
    "\n",
    "from __init__ import *\n",
    "from __init__jupyterlab import *\n",
    "import datetime\n",
    "from scipy import sparse\n",
    "import collections\n",
    "import itertools\n",
    "import re\n",
    "import fbpca\n",
    "import pickle\n",
    "import scipy.cluster.hierarchy as sch\n",
    "from sklearn.metrics import euclidean_distances\n",
    "import h5py\n",
    "\n",
    "import snmcseq_utils\n",
    "importlib.reload(snmcseq_utils)\n",
    "import CEMBA_run_tsne\n",
    "import CEMBA_clst_utils\n",
    "import SCF_utils\n",
    "importlib.reload(SCF_utils)\n",
    "\n",
    "import seaborn as sns \n",
    "import matplotlib.pyplot as plt"
   ]
  },
  {
   "cell_type": "markdown",
   "metadata": {},
   "source": [
    "# Configs  "
   ]
  },
  {
   "cell_type": "code",
   "execution_count": 2,
   "metadata": {},
   "outputs": [
    {
     "name": "stdout",
     "output_type": "stream",
     "text": [
      "2020-07-08\n"
     ]
    }
   ],
   "source": [
    "time_stamp = datetime.datetime.now().date()\n",
    "print(time_stamp)\n",
    "\n",
    "# config_dir = '/cndd/fangming/CEMBA/data/MOp_all/data_freeze_neurons/' \n",
    "# sys.path.insert(0, config_dir)\n",
    "config_f = 'config_scf_8mods_data_freeze_190917.py' \n",
    "exec(\"from {} import *\".format(config_f.split('.')[0]))\n",
    "output_figures = '/cndd2/fangming/projects/miniatlas/results/figures/mop_8mods_0915_k30_{{}}_{}.{{}}'.format(time_stamp)\n",
    "\n",
    "f_joint_clustering = '/cndd/fangming/CEMBA/data/MOp_all/results_final/miniatlas_fig4_scf_clusterings.tsv'\n",
    "f_cluster_annot = '/cndd/fangming/CEMBA/data/MOp_all/results_final/miniatlas_fig4_scf_annotation_round3.tsv'\n",
    "f_mod_annot = '/cndd/fangming/CEMBA/data/MOp_all/results_final/miniatlas_datamod_annotation.tsv'\n",
    "\n",
    "# output_summary_results = '/cndd/fangming/CEMBA/data/MOp_all/results_final/miniatlas_fig4_scf_clusterings.tsv' \n",
    "# output_summary_results = os.path.join(outdir, 'intg_summary-{}-2-round-clustering.tsv'.format(name))\n",
    "# output_summary_results = os.path.join(outdir, 'intg_summary-{}-2-round-clustering.tsv'.format(name))\n",
    "# print(output_summary_results)"
   ]
  },
  {
   "cell_type": "code",
   "execution_count": 3,
   "metadata": {},
   "outputs": [
    {
     "data": {
      "text/plain": [
       "'/cndd2/fangming/projects/miniatlas/results/figures/mop_8mods_0915_k30_{}_2020-07-08.{}'"
      ]
     },
     "execution_count": 3,
     "metadata": {},
     "output_type": "execute_result"
    }
   ],
   "source": [
    "output_figures"
   ]
  },
  {
   "cell_type": "code",
   "execution_count": 4,
   "metadata": {},
   "outputs": [],
   "source": [
    "# fixed dataset configs\n",
    "sys.path.insert(0, DATA_DIR)\n",
    "import __init__datasets\n",
    "importlib.reload(__init__datasets)\n",
    "from __init__datasets import *\n",
    "\n",
    "meta_f = os.path.join(DATA_DIR, '{0}_metadata.tsv')\n",
    "hvftrs_f = os.path.join(DATA_DIR, '{0}_hvfeatures.{1}')\n",
    "hvftrs_gene = os.path.join(DATA_DIR, '{0}_hvfeatures.gene')\n",
    "hvftrs_cell = os.path.join(DATA_DIR, '{0}_hvfeatures.cell')"
   ]
  },
  {
   "cell_type": "markdown",
   "metadata": {},
   "source": [
    "# Dataset specific metadata"
   ]
  },
  {
   "cell_type": "code",
   "execution_count": 5,
   "metadata": {},
   "outputs": [
    {
     "name": "stderr",
     "output_type": "stream",
     "text": [
      "07/08/2020 08:48:53 PM *\n"
     ]
    }
   ],
   "source": [
    "log = snmcseq_utils.create_logger()\n",
    "logging.info('*')"
   ]
  },
  {
   "cell_type": "code",
   "execution_count": 6,
   "metadata": {},
   "outputs": [
    {
     "name": "stdout",
     "output_type": "stream",
     "text": [
      "snmcseq_gene (9366, 32)\n",
      "snatac_gene (54844, 13)\n"
     ]
    },
    {
     "name": "stderr",
     "output_type": "stream",
     "text": [
      "/cndd/fangming/venvs/conda_dobro/lib/python3.6/site-packages/IPython/core/interactiveshell.py:2728: DtypeWarning: Columns (64) have mixed types. Specify dtype option on import or set low_memory=False.\n",
      "  interactivity=interactivity, compiler=compiler, result=result)\n"
     ]
    },
    {
     "name": "stdout",
     "output_type": "stream",
     "text": [
      "smarter_cells (6244, 129)\n",
      "smarter_nuclei (5911, 146)\n",
      "10x_cells_v2 (121440, 8)\n",
      "10x_cells_v3 (69727, 8)\n",
      "10x_nuclei_v3 (39706, 8)\n",
      "10x_nuclei_v3_macosko (101647, 19)\n"
     ]
    }
   ],
   "source": [
    "# dataset-specific metadata\n",
    "metas = collections.OrderedDict()\n",
    "for mod in mods_selected:\n",
    "    metas[mod] = pd.read_csv(meta_f.format(mod), sep=\"\\t\").reset_index().set_index(settings[mod].cell_col)\n",
    "    print(mod, metas[mod].shape)"
   ]
  },
  {
   "cell_type": "markdown",
   "metadata": {},
   "source": [
    "# Gene by cell matrices"
   ]
  },
  {
   "cell_type": "code",
   "execution_count": 7,
   "metadata": {},
   "outputs": [
    {
     "name": "stdout",
     "output_type": "stream",
     "text": [
      "(53379, 7)\n"
     ]
    },
    {
     "data": {
      "text/html": [
       "<div>\n",
       "<style scoped>\n",
       "    .dataframe tbody tr th:only-of-type {\n",
       "        vertical-align: middle;\n",
       "    }\n",
       "\n",
       "    .dataframe tbody tr th {\n",
       "        vertical-align: top;\n",
       "    }\n",
       "\n",
       "    .dataframe thead th {\n",
       "        text-align: right;\n",
       "    }\n",
       "</style>\n",
       "<table border=\"1\" class=\"dataframe\">\n",
       "  <thead>\n",
       "    <tr style=\"text-align: right;\">\n",
       "      <th></th>\n",
       "      <th>gene_id</th>\n",
       "      <th>gene_name</th>\n",
       "      <th>chr</th>\n",
       "      <th>start</th>\n",
       "      <th>end</th>\n",
       "      <th>strand</th>\n",
       "      <th>gene_type</th>\n",
       "    </tr>\n",
       "    <tr>\n",
       "      <th>gene_id_abbr</th>\n",
       "      <th></th>\n",
       "      <th></th>\n",
       "      <th></th>\n",
       "      <th></th>\n",
       "      <th></th>\n",
       "      <th></th>\n",
       "      <th></th>\n",
       "    </tr>\n",
       "  </thead>\n",
       "  <tbody>\n",
       "    <tr>\n",
       "      <th>ENSMUSG00000102693</th>\n",
       "      <td>ENSMUSG00000102693.1</td>\n",
       "      <td>4933401J01Rik</td>\n",
       "      <td>chr1</td>\n",
       "      <td>3073253</td>\n",
       "      <td>3074322</td>\n",
       "      <td>+</td>\n",
       "      <td>TEC</td>\n",
       "    </tr>\n",
       "    <tr>\n",
       "      <th>ENSMUSG00000064842</th>\n",
       "      <td>ENSMUSG00000064842.1</td>\n",
       "      <td>Gm26206</td>\n",
       "      <td>chr1</td>\n",
       "      <td>3102016</td>\n",
       "      <td>3102125</td>\n",
       "      <td>+</td>\n",
       "      <td>snRNA</td>\n",
       "    </tr>\n",
       "    <tr>\n",
       "      <th>ENSMUSG00000051951</th>\n",
       "      <td>ENSMUSG00000051951.5</td>\n",
       "      <td>Xkr4</td>\n",
       "      <td>chr1</td>\n",
       "      <td>3205901</td>\n",
       "      <td>3671498</td>\n",
       "      <td>-</td>\n",
       "      <td>protein_coding</td>\n",
       "    </tr>\n",
       "    <tr>\n",
       "      <th>ENSMUSG00000102851</th>\n",
       "      <td>ENSMUSG00000102851.1</td>\n",
       "      <td>Gm18956</td>\n",
       "      <td>chr1</td>\n",
       "      <td>3252757</td>\n",
       "      <td>3253236</td>\n",
       "      <td>+</td>\n",
       "      <td>processed_pseudogene</td>\n",
       "    </tr>\n",
       "    <tr>\n",
       "      <th>ENSMUSG00000103377</th>\n",
       "      <td>ENSMUSG00000103377.1</td>\n",
       "      <td>Gm37180</td>\n",
       "      <td>chr1</td>\n",
       "      <td>3365731</td>\n",
       "      <td>3368549</td>\n",
       "      <td>-</td>\n",
       "      <td>TEC</td>\n",
       "    </tr>\n",
       "  </tbody>\n",
       "</table>\n",
       "</div>"
      ],
      "text/plain": [
       "                                 gene_id      gene_name   chr    start  \\\n",
       "gene_id_abbr                                                             \n",
       "ENSMUSG00000102693  ENSMUSG00000102693.1  4933401J01Rik  chr1  3073253   \n",
       "ENSMUSG00000064842  ENSMUSG00000064842.1        Gm26206  chr1  3102016   \n",
       "ENSMUSG00000051951  ENSMUSG00000051951.5           Xkr4  chr1  3205901   \n",
       "ENSMUSG00000102851  ENSMUSG00000102851.1        Gm18956  chr1  3252757   \n",
       "ENSMUSG00000103377  ENSMUSG00000103377.1        Gm37180  chr1  3365731   \n",
       "\n",
       "                        end strand             gene_type  \n",
       "gene_id_abbr                                              \n",
       "ENSMUSG00000102693  3074322      +                   TEC  \n",
       "ENSMUSG00000064842  3102125      +                 snRNA  \n",
       "ENSMUSG00000051951  3671498      -        protein_coding  \n",
       "ENSMUSG00000102851  3253236      +  processed_pseudogene  \n",
       "ENSMUSG00000103377  3368549      -                   TEC  "
      ]
     },
     "execution_count": 7,
     "metadata": {},
     "output_type": "execute_result"
    }
   ],
   "source": [
    "df_genes = pd.read_csv(PATH_GENEBODY_ANNOTATION, sep='\\t')\n",
    "df_genes['gene_id_abbr'] = df_genes['gene_id'].apply(lambda x: x.split('.')[0])\n",
    "df_genes = df_genes.set_index('gene_id_abbr')\n",
    "print(df_genes.shape)\n",
    "df_genes.head()"
   ]
  },
  {
   "cell_type": "code",
   "execution_count": 8,
   "metadata": {},
   "outputs": [
    {
     "data": {
      "text/html": [
       "<div>\n",
       "<style scoped>\n",
       "    .dataframe tbody tr th:only-of-type {\n",
       "        vertical-align: middle;\n",
       "    }\n",
       "\n",
       "    .dataframe tbody tr th {\n",
       "        vertical-align: top;\n",
       "    }\n",
       "\n",
       "    .dataframe thead th {\n",
       "        text-align: right;\n",
       "    }\n",
       "</style>\n",
       "<table border=\"1\" class=\"dataframe\">\n",
       "  <thead>\n",
       "    <tr style=\"text-align: right;\">\n",
       "      <th></th>\n",
       "      <th>gene_id_abbr</th>\n",
       "      <th>gene_id</th>\n",
       "      <th>chr</th>\n",
       "      <th>start</th>\n",
       "      <th>end</th>\n",
       "      <th>strand</th>\n",
       "      <th>gene_type</th>\n",
       "    </tr>\n",
       "    <tr>\n",
       "      <th>gene_name</th>\n",
       "      <th></th>\n",
       "      <th></th>\n",
       "      <th></th>\n",
       "      <th></th>\n",
       "      <th></th>\n",
       "      <th></th>\n",
       "      <th></th>\n",
       "    </tr>\n",
       "  </thead>\n",
       "  <tbody>\n",
       "    <tr>\n",
       "      <th>0610005C13Rik</th>\n",
       "      <td>ENSMUSG00000109644</td>\n",
       "      <td>ENSMUSG00000109644.1</td>\n",
       "      <td>chr7</td>\n",
       "      <td>45567794</td>\n",
       "      <td>45575327</td>\n",
       "      <td>-</td>\n",
       "      <td>antisense_RNA</td>\n",
       "    </tr>\n",
       "    <tr>\n",
       "      <th>0610006L08Rik</th>\n",
       "      <td>ENSMUSG00000108652</td>\n",
       "      <td>ENSMUSG00000108652.1</td>\n",
       "      <td>chr7</td>\n",
       "      <td>74818818</td>\n",
       "      <td>74853813</td>\n",
       "      <td>-</td>\n",
       "      <td>lincRNA</td>\n",
       "    </tr>\n",
       "    <tr>\n",
       "      <th>0610009B22Rik</th>\n",
       "      <td>ENSMUSG00000007777</td>\n",
       "      <td>ENSMUSG00000007777.9</td>\n",
       "      <td>chr11</td>\n",
       "      <td>51685386</td>\n",
       "      <td>51688874</td>\n",
       "      <td>-</td>\n",
       "      <td>protein_coding</td>\n",
       "    </tr>\n",
       "    <tr>\n",
       "      <th>0610009E02Rik</th>\n",
       "      <td>ENSMUSG00000086714</td>\n",
       "      <td>ENSMUSG00000086714.1</td>\n",
       "      <td>chr2</td>\n",
       "      <td>26445696</td>\n",
       "      <td>26459390</td>\n",
       "      <td>+</td>\n",
       "      <td>processed_transcript</td>\n",
       "    </tr>\n",
       "    <tr>\n",
       "      <th>0610009L18Rik</th>\n",
       "      <td>ENSMUSG00000043644</td>\n",
       "      <td>ENSMUSG00000043644.4</td>\n",
       "      <td>chr11</td>\n",
       "      <td>120348678</td>\n",
       "      <td>120351190</td>\n",
       "      <td>+</td>\n",
       "      <td>bidirectional_promoter_lncRNA</td>\n",
       "    </tr>\n",
       "  </tbody>\n",
       "</table>\n",
       "</div>"
      ],
      "text/plain": [
       "                     gene_id_abbr               gene_id    chr      start  \\\n",
       "gene_name                                                                   \n",
       "0610005C13Rik  ENSMUSG00000109644  ENSMUSG00000109644.1   chr7   45567794   \n",
       "0610006L08Rik  ENSMUSG00000108652  ENSMUSG00000108652.1   chr7   74818818   \n",
       "0610009B22Rik  ENSMUSG00000007777  ENSMUSG00000007777.9  chr11   51685386   \n",
       "0610009E02Rik  ENSMUSG00000086714  ENSMUSG00000086714.1   chr2   26445696   \n",
       "0610009L18Rik  ENSMUSG00000043644  ENSMUSG00000043644.4  chr11  120348678   \n",
       "\n",
       "                     end strand                      gene_type  \n",
       "gene_name                                                       \n",
       "0610005C13Rik   45575327      -                  antisense_RNA  \n",
       "0610006L08Rik   74853813      -                        lincRNA  \n",
       "0610009B22Rik   51688874      -                 protein_coding  \n",
       "0610009E02Rik   26459390      +           processed_transcript  \n",
       "0610009L18Rik  120351190      +  bidirectional_promoter_lncRNA  "
      ]
     },
     "execution_count": 8,
     "metadata": {},
     "output_type": "execute_result"
    }
   ],
   "source": [
    "df_genes_v2 = df_genes.reset_index().groupby('gene_name').first()\n",
    "df_genes_v2.head()"
   ]
  },
  {
   "cell_type": "code",
   "execution_count": 9,
   "metadata": {},
   "outputs": [],
   "source": [
    "f_meta_format = '{0}/{1}_metadata.tsv'\n",
    "f_data_format = '{0}/{1}_{2}raw.{3}'\n",
    "# f_hvftr_format = '{0}/{1}_hvfeatures.{2}'\n",
    "f_ftr_format = '{0}/{1}_hvfeatures.{2}'"
   ]
  },
  {
   "cell_type": "code",
   "execution_count": null,
   "metadata": {},
   "outputs": [
    {
     "name": "stdout",
     "output_type": "stream",
     "text": [
      "snmcseq_gene\n",
      "snmcseq_gene Reading in files 6.341934204101562e-05\n",
      "32.06580138206482\n",
      "snmcseq_gene Total time used: 32.06589341163635\n",
      "snatac_gene\n",
      "snatac_gene Reading in files 2.3365020751953125e-05\n",
      "(6345, 54844)\n",
      "7.848505020141602\n",
      "snatac_gene Total time used: 7.848541021347046\n",
      "smarter_cells\n",
      "smarter_cells Reading in files 3.981590270996094e-05\n",
      "(5743, 6244)\n",
      "3.098766565322876\n",
      "smarter_cells Total time used: 3.09879732131958\n",
      "smarter_nuclei\n",
      "smarter_nuclei Reading in files 2.765655517578125e-05\n",
      "(5400, 5911)\n",
      "1.7940337657928467\n",
      "smarter_nuclei Total time used: 1.7940595149993896\n",
      "10x_cells_v2\n",
      "10x_cells_v2 Reading in files 3.0040740966796875e-05\n"
     ]
    }
   ],
   "source": [
    "gxc_ftrs = {}\n",
    "for mod in mods_selected:\n",
    "    ti = time.time()\n",
    "    print(mod)\n",
    "    \n",
    "    # read data matrix\n",
    "    if settings[mod].mod_category == 'mc':\n",
    "        f_data = f_ftr_format.format(DATA_DIR, mod, 'tsv')\n",
    "        # read in files\n",
    "        print(mod, \"Reading in files {}\".format(time.time()-ti))\n",
    "        gxc_ftrs[mod] = pd.read_csv(f_data, sep='\\t', index_col=0)\n",
    "        print(time.time()-ti)\n",
    "        \n",
    "    else:\n",
    "        f_data = f_ftr_format.format(DATA_DIR, mod, 'npz') \n",
    "        f_data_gene = f_ftr_format.format(DATA_DIR, mod, 'gene') \n",
    "        f_data_cell = f_ftr_format.format(DATA_DIR, mod, 'cell') \n",
    "        \n",
    "        # read in files\n",
    "        print(mod, \"Reading in files {}\".format(time.time()-ti))\n",
    "        gxc_ftrs[mod] = snmcseq_utils.load_gc_matrix(f_data_gene, f_data_cell, f_data) # checked dimensions in agreement internally\n",
    "        print(gxc_ftrs[mod].data.shape)\n",
    "        print(time.time()-ti)\n",
    "    \n",
    "    print(mod, \"Total time used: {}\".format(time.time()-ti))\n",
    "    "
   ]
  },
  {
   "cell_type": "markdown",
   "metadata": {},
   "source": [
    "# integrated UMAP and clusters"
   ]
  },
  {
   "cell_type": "code",
   "execution_count": null,
   "metadata": {},
   "outputs": [],
   "source": [
    "# get results summary\n",
    "mods_ordered = [\n",
    "    'snatac_gene',\n",
    "    'snmcseq_gene',\n",
    "    'smarter_nuclei',\n",
    "    'smarter_cells',\n",
    "    '10x_cells_v3',\n",
    "    '10x_nuclei_v3',\n",
    "    '10x_nuclei_v3_macosko',\n",
    "    '10x_cells_v2', \n",
    "    ]\n",
    "assert set(mods_ordered) == set(mods_selected)\n",
    "\n",
    "f = f_cluster_annot\n",
    "df_annot = pd.read_csv(f, sep=\"\\t\") \n",
    "\n",
    "f = f_mod_annot\n",
    "df_mod_annot = pd.read_csv(f, sep=\"\\t\", index_col='Modality') \n",
    "\n",
    "f = f_joint_clustering\n",
    "df_info = pd.read_csv(f, sep=\"\\t\") \n",
    "\n",
    "# back compatible\n",
    "df_info = pd.merge(df_info, df_mod_annot[['Name']], left_on='modality', right_index=True)\n",
    "df_info['modality_name'] = df_info['Name']\n",
    "df_info = df_info.drop('Name', axis=1)\n",
    "\n",
    "df_info = pd.merge(df_info, df_annot[['cluster_id_iterative', 'annotation_curated', 'color']], \n",
    "                   left_on='joint_cluster_round3', right_on='cluster_id_iterative', )\n",
    "\n",
    "df_info = df_info.rename(columns={\n",
    "                'joint_embedding_x': 'tsne_x_joint',\n",
    "                'joint_embedding_y': 'tsne_y_joint',\n",
    "                'single_modality_annot': 'annot',\n",
    "                'single_modality_cluster': 'cluster',\n",
    "                'annotation_curated': 'joint_cluster_round3_anno',\n",
    "                'color': 'joint_cluster_round3_color',\n",
    "            }).drop('cluster_id_iterative', axis=1)\n",
    "df_info = df_info.set_index('sample')\n",
    "df_info = df_info.astype({\"cluster\": str})\n",
    "\n",
    "print(df_info.shape)\n",
    "df_info.head()\n"
   ]
  }
 ],
 "metadata": {
  "kernelspec": {
   "display_name": "Python 3",
   "language": "python",
   "name": "python3"
  },
  "language_info": {
   "codemirror_mode": {
    "name": "ipython",
    "version": 3
   },
   "file_extension": ".py",
   "mimetype": "text/x-python",
   "name": "python",
   "nbconvert_exporter": "python",
   "pygments_lexer": "ipython3",
   "version": "3.6.6"
  }
 },
 "nbformat": 4,
 "nbformat_minor": 2
}
