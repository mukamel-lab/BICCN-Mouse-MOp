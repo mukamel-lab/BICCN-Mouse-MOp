{
 "cells": [
  {
   "cell_type": "code",
   "execution_count": 5,
   "metadata": {},
   "outputs": [],
   "source": [
    "import sys\n",
    "sys.path.insert(0, '/cndd/fangming/CEMBA/snmcseq_dev')\n",
    "\n",
    "from __init__ import *\n",
    "from __init__jupyterlab import *\n",
    "\n",
    "import snmcseq_utils"
   ]
  },
  {
   "cell_type": "code",
   "execution_count": 7,
   "metadata": {},
   "outputs": [
    {
     "name": "stderr",
     "output_type": "stream",
     "text": [
      "/cndd/fangming/venvs/conda_dobro/lib/python3.6/site-packages/IPython/core/interactiveshell.py:2728: DtypeWarning: Columns (5) have mixed types. Specify dtype option on import or set low_memory=False.\n",
      "  interactivity=interactivity, compiler=compiler, result=result)\n"
     ]
    },
    {
     "name": "stdout",
     "output_type": "stream",
     "text": [
      "(408885, 16) (482712, 1) (116, 11)\n"
     ]
    },
    {
     "data": {
      "text/html": [
       "<div>\n",
       "<style scoped>\n",
       "    .dataframe tbody tr th:only-of-type {\n",
       "        vertical-align: middle;\n",
       "    }\n",
       "\n",
       "    .dataframe tbody tr th {\n",
       "        vertical-align: top;\n",
       "    }\n",
       "\n",
       "    .dataframe thead th {\n",
       "        text-align: right;\n",
       "    }\n",
       "</style>\n",
       "<table border=\"1\" class=\"dataframe\">\n",
       "  <thead>\n",
       "    <tr style=\"text-align: right;\">\n",
       "      <th></th>\n",
       "      <th>cluster_label</th>\n",
       "      <th>cluster_color</th>\n",
       "      <th>subclass_id</th>\n",
       "      <th>subclass_label</th>\n",
       "      <th>subclass_color</th>\n",
       "      <th>class_id</th>\n",
       "      <th>class_label</th>\n",
       "      <th>class_color</th>\n",
       "      <th>cl</th>\n",
       "      <th>cluster_size</th>\n",
       "      <th>size</th>\n",
       "    </tr>\n",
       "    <tr>\n",
       "      <th>cluster_id</th>\n",
       "      <th></th>\n",
       "      <th></th>\n",
       "      <th></th>\n",
       "      <th></th>\n",
       "      <th></th>\n",
       "      <th></th>\n",
       "      <th></th>\n",
       "      <th></th>\n",
       "      <th></th>\n",
       "      <th></th>\n",
       "      <th></th>\n",
       "    </tr>\n",
       "  </thead>\n",
       "  <tbody>\n",
       "    <tr>\n",
       "      <th>1</th>\n",
       "      <td>Lamp5 Pax6</td>\n",
       "      <td>#DDACC9</td>\n",
       "      <td>1</td>\n",
       "      <td>Lamp5</td>\n",
       "      <td>#DA808C</td>\n",
       "      <td>1</td>\n",
       "      <td>GABAergic</td>\n",
       "      <td>#F05A28</td>\n",
       "      <td>1</td>\n",
       "      <td>700</td>\n",
       "      <td>700</td>\n",
       "    </tr>\n",
       "    <tr>\n",
       "      <th>2</th>\n",
       "      <td>Lamp5 Egln3_1</td>\n",
       "      <td>#FF88AD</td>\n",
       "      <td>1</td>\n",
       "      <td>Lamp5</td>\n",
       "      <td>#DA808C</td>\n",
       "      <td>1</td>\n",
       "      <td>GABAergic</td>\n",
       "      <td>#F05A28</td>\n",
       "      <td>2</td>\n",
       "      <td>618</td>\n",
       "      <td>618</td>\n",
       "    </tr>\n",
       "    <tr>\n",
       "      <th>3</th>\n",
       "      <td>Lamp5 Egln3_2</td>\n",
       "      <td>#DD8091</td>\n",
       "      <td>1</td>\n",
       "      <td>Lamp5</td>\n",
       "      <td>#DA808C</td>\n",
       "      <td>1</td>\n",
       "      <td>GABAergic</td>\n",
       "      <td>#F05A28</td>\n",
       "      <td>3</td>\n",
       "      <td>814</td>\n",
       "      <td>814</td>\n",
       "    </tr>\n",
       "    <tr>\n",
       "      <th>4</th>\n",
       "      <td>Lamp5 Egln3_3</td>\n",
       "      <td>#F08E98</td>\n",
       "      <td>1</td>\n",
       "      <td>Lamp5</td>\n",
       "      <td>#DA808C</td>\n",
       "      <td>1</td>\n",
       "      <td>GABAergic</td>\n",
       "      <td>#F05A28</td>\n",
       "      <td>4</td>\n",
       "      <td>1276</td>\n",
       "      <td>1276</td>\n",
       "    </tr>\n",
       "    <tr>\n",
       "      <th>5</th>\n",
       "      <td>Lamp5 Pdlim5_1</td>\n",
       "      <td>#FF7290</td>\n",
       "      <td>1</td>\n",
       "      <td>Lamp5</td>\n",
       "      <td>#DA808C</td>\n",
       "      <td>1</td>\n",
       "      <td>GABAergic</td>\n",
       "      <td>#F05A28</td>\n",
       "      <td>5</td>\n",
       "      <td>1288</td>\n",
       "      <td>1288</td>\n",
       "    </tr>\n",
       "  </tbody>\n",
       "</table>\n",
       "</div>"
      ],
      "text/plain": [
       "             cluster_label cluster_color  subclass_id subclass_label  \\\n",
       "cluster_id                                                             \n",
       "1               Lamp5 Pax6       #DDACC9            1          Lamp5   \n",
       "2            Lamp5 Egln3_1       #FF88AD            1          Lamp5   \n",
       "3            Lamp5 Egln3_2       #DD8091            1          Lamp5   \n",
       "4            Lamp5 Egln3_3       #F08E98            1          Lamp5   \n",
       "5           Lamp5 Pdlim5_1       #FF7290            1          Lamp5   \n",
       "\n",
       "           subclass_color  class_id class_label class_color  cl  cluster_size  \\\n",
       "cluster_id                                                                      \n",
       "1                 #DA808C         1   GABAergic     #F05A28   1           700   \n",
       "2                 #DA808C         1   GABAergic     #F05A28   2           618   \n",
       "3                 #DA808C         1   GABAergic     #F05A28   3           814   \n",
       "4                 #DA808C         1   GABAergic     #F05A28   4          1276   \n",
       "5                 #DA808C         1   GABAergic     #F05A28   5          1288   \n",
       "\n",
       "            size  \n",
       "cluster_id        \n",
       "1            700  \n",
       "2            618  \n",
       "3            814  \n",
       "4           1276  \n",
       "5           1288  "
      ]
     },
     "execution_count": 7,
     "metadata": {},
     "output_type": "execute_result"
    }
   ],
   "source": [
    "# my clusters\n",
    "f = '/cndd/fangming/CEMBA/data/MOp_all/results_final/miniatlas_joint_clusterings.tsv'\n",
    "df = pd.read_csv(f, sep='\\t', index_col=0)\n",
    "df['cell_id'] = df.index.values\n",
    "df['joint_cluster_round1'] = df['joint_cluster_round2'].apply(lambda x: x.split('-')[0])\n",
    "\n",
    "# zizhen clusters\n",
    "f = '/cndd/fangming/CEMBA/data/MOp_all/zizhen_integration/cluster.membership.csv'\n",
    "df_rna = pd.read_csv(f, index_col=0)\n",
    "f = '/cndd/fangming/CEMBA/data/MOp_all/zizhen_integration/cluster.annotation.csv'\n",
    "df_rna_annot = pd.read_csv(f, index_col=0)\n",
    "\n",
    "# zizhen clusters 10x v2\n",
    "f = '/cndd/fangming/CEMBA/data/MOp_all/zizhen_integration/cluster.membership.csv'\n",
    "df_rna = pd.read_csv(f, index_col=0)\n",
    "f = '/cndd/fangming/CEMBA/data/MOp_all/zizhen_integration/cluster.annotation.csv'\n",
    "df_rna_annot = pd.read_csv(f, index_col=0)\n",
    "\n",
    "print(df.shape, df_rna.shape, df_rna_annot.shape)\n",
    "df_rna_annot.head()\n"
   ]
  },
  {
   "cell_type": "code",
   "execution_count": 8,
   "metadata": {},
   "outputs": [],
   "source": [
    "# annot_round1 = {\n",
    "#     '1': 'exc',\n",
    "#     '10': 'inh',\n",
    "#     '2': 'exc',\n",
    "#     '3': 'exc',\n",
    "#     '4': 'exc',\n",
    "#     '5': 'inh',\n",
    "#     '6': 'inh',\n",
    "#     '7': 'exc', \n",
    "#     '8': 'exc', \n",
    "#     '9': 'exc',\n",
    "# }\n",
    "# df['class_label'] = df['joint_cluster_round1'].apply(lambda x: annot_round1[x]) \n",
    "# print(df.shape)\n",
    "# df.head()"
   ]
  },
  {
   "cell_type": "code",
   "execution_count": 9,
   "metadata": {},
   "outputs": [],
   "source": [
    "# df.groupby(['modality', 'class_label']).size()\n",
    "# df.groupby(['modality']).size()"
   ]
  },
  {
   "cell_type": "code",
   "execution_count": 10,
   "metadata": {},
   "outputs": [
    {
     "data": {
      "text/html": [
       "<div>\n",
       "<style scoped>\n",
       "    .dataframe tbody tr th:only-of-type {\n",
       "        vertical-align: middle;\n",
       "    }\n",
       "\n",
       "    .dataframe tbody tr th {\n",
       "        vertical-align: top;\n",
       "    }\n",
       "\n",
       "    .dataframe thead th {\n",
       "        text-align: right;\n",
       "    }\n",
       "</style>\n",
       "<table border=\"1\" class=\"dataframe\">\n",
       "  <thead>\n",
       "    <tr style=\"text-align: right;\">\n",
       "      <th></th>\n",
       "      <th>x</th>\n",
       "      <th>modality_allen</th>\n",
       "      <th>cell</th>\n",
       "      <th>modality</th>\n",
       "      <th>cell_id</th>\n",
       "      <th>cluster_label</th>\n",
       "      <th>cluster_color</th>\n",
       "      <th>subclass_id</th>\n",
       "      <th>subclass_label</th>\n",
       "      <th>subclass_color</th>\n",
       "      <th>class_id</th>\n",
       "      <th>class_label</th>\n",
       "      <th>class_color</th>\n",
       "      <th>cl</th>\n",
       "      <th>cluster_size</th>\n",
       "      <th>size</th>\n",
       "    </tr>\n",
       "  </thead>\n",
       "  <tbody>\n",
       "    <tr>\n",
       "      <th>0</th>\n",
       "      <td>7</td>\n",
       "      <td>10X_cells_v2_AIBS</td>\n",
       "      <td>AAACCTGAGAAGGACA-5L8TX_171026_01_G04</td>\n",
       "      <td>10x_cells_v2</td>\n",
       "      <td>10x_cells_v2_AAACCTGAGAAGGACA-5L8TX_171026_01_G04</td>\n",
       "      <td>Lamp5 Slc35d3</td>\n",
       "      <td>#FFA388</td>\n",
       "      <td>1</td>\n",
       "      <td>Lamp5</td>\n",
       "      <td>#DA808C</td>\n",
       "      <td>1</td>\n",
       "      <td>GABAergic</td>\n",
       "      <td>#F05A28</td>\n",
       "      <td>7</td>\n",
       "      <td>6850</td>\n",
       "      <td>6850</td>\n",
       "    </tr>\n",
       "    <tr>\n",
       "      <th>1</th>\n",
       "      <td>7</td>\n",
       "      <td>10X_cells_v2_AIBS</td>\n",
       "      <td>AAACCTGAGAGACTTA-12L8TX_171026_01_D05</td>\n",
       "      <td>10x_cells_v2</td>\n",
       "      <td>10x_cells_v2_AAACCTGAGAGACTTA-12L8TX_171026_01...</td>\n",
       "      <td>Lamp5 Slc35d3</td>\n",
       "      <td>#FFA388</td>\n",
       "      <td>1</td>\n",
       "      <td>Lamp5</td>\n",
       "      <td>#DA808C</td>\n",
       "      <td>1</td>\n",
       "      <td>GABAergic</td>\n",
       "      <td>#F05A28</td>\n",
       "      <td>7</td>\n",
       "      <td>6850</td>\n",
       "      <td>6850</td>\n",
       "    </tr>\n",
       "    <tr>\n",
       "      <th>2</th>\n",
       "      <td>7</td>\n",
       "      <td>10X_cells_v2_AIBS</td>\n",
       "      <td>AAACCTGCAAGGACAC-4L8TX_171026_01_F04</td>\n",
       "      <td>10x_cells_v2</td>\n",
       "      <td>10x_cells_v2_AAACCTGCAAGGACAC-4L8TX_171026_01_F04</td>\n",
       "      <td>Lamp5 Slc35d3</td>\n",
       "      <td>#FFA388</td>\n",
       "      <td>1</td>\n",
       "      <td>Lamp5</td>\n",
       "      <td>#DA808C</td>\n",
       "      <td>1</td>\n",
       "      <td>GABAergic</td>\n",
       "      <td>#F05A28</td>\n",
       "      <td>7</td>\n",
       "      <td>6850</td>\n",
       "      <td>6850</td>\n",
       "    </tr>\n",
       "    <tr>\n",
       "      <th>3</th>\n",
       "      <td>7</td>\n",
       "      <td>10X_cells_v2_AIBS</td>\n",
       "      <td>AAACCTGCAGACGCTC-15L8TX_171026_01_G05</td>\n",
       "      <td>10x_cells_v2</td>\n",
       "      <td>10x_cells_v2_AAACCTGCAGACGCTC-15L8TX_171026_01...</td>\n",
       "      <td>Lamp5 Slc35d3</td>\n",
       "      <td>#FFA388</td>\n",
       "      <td>1</td>\n",
       "      <td>Lamp5</td>\n",
       "      <td>#DA808C</td>\n",
       "      <td>1</td>\n",
       "      <td>GABAergic</td>\n",
       "      <td>#F05A28</td>\n",
       "      <td>7</td>\n",
       "      <td>6850</td>\n",
       "      <td>6850</td>\n",
       "    </tr>\n",
       "    <tr>\n",
       "      <th>4</th>\n",
       "      <td>7</td>\n",
       "      <td>10X_cells_v2_AIBS</td>\n",
       "      <td>AAACCTGCAGATGGCA-11L8TX_171026_01_C05</td>\n",
       "      <td>10x_cells_v2</td>\n",
       "      <td>10x_cells_v2_AAACCTGCAGATGGCA-11L8TX_171026_01...</td>\n",
       "      <td>Lamp5 Slc35d3</td>\n",
       "      <td>#FFA388</td>\n",
       "      <td>1</td>\n",
       "      <td>Lamp5</td>\n",
       "      <td>#DA808C</td>\n",
       "      <td>1</td>\n",
       "      <td>GABAergic</td>\n",
       "      <td>#F05A28</td>\n",
       "      <td>7</td>\n",
       "      <td>6850</td>\n",
       "      <td>6850</td>\n",
       "    </tr>\n",
       "  </tbody>\n",
       "</table>\n",
       "</div>"
      ],
      "text/plain": [
       "   x     modality_allen                                   cell      modality  \\\n",
       "0  7  10X_cells_v2_AIBS   AAACCTGAGAAGGACA-5L8TX_171026_01_G04  10x_cells_v2   \n",
       "1  7  10X_cells_v2_AIBS  AAACCTGAGAGACTTA-12L8TX_171026_01_D05  10x_cells_v2   \n",
       "2  7  10X_cells_v2_AIBS   AAACCTGCAAGGACAC-4L8TX_171026_01_F04  10x_cells_v2   \n",
       "3  7  10X_cells_v2_AIBS  AAACCTGCAGACGCTC-15L8TX_171026_01_G05  10x_cells_v2   \n",
       "4  7  10X_cells_v2_AIBS  AAACCTGCAGATGGCA-11L8TX_171026_01_C05  10x_cells_v2   \n",
       "\n",
       "                                             cell_id  cluster_label  \\\n",
       "0  10x_cells_v2_AAACCTGAGAAGGACA-5L8TX_171026_01_G04  Lamp5 Slc35d3   \n",
       "1  10x_cells_v2_AAACCTGAGAGACTTA-12L8TX_171026_01...  Lamp5 Slc35d3   \n",
       "2  10x_cells_v2_AAACCTGCAAGGACAC-4L8TX_171026_01_F04  Lamp5 Slc35d3   \n",
       "3  10x_cells_v2_AAACCTGCAGACGCTC-15L8TX_171026_01...  Lamp5 Slc35d3   \n",
       "4  10x_cells_v2_AAACCTGCAGATGGCA-11L8TX_171026_01...  Lamp5 Slc35d3   \n",
       "\n",
       "  cluster_color  subclass_id subclass_label subclass_color  class_id  \\\n",
       "0       #FFA388            1          Lamp5        #DA808C         1   \n",
       "1       #FFA388            1          Lamp5        #DA808C         1   \n",
       "2       #FFA388            1          Lamp5        #DA808C         1   \n",
       "3       #FFA388            1          Lamp5        #DA808C         1   \n",
       "4       #FFA388            1          Lamp5        #DA808C         1   \n",
       "\n",
       "  class_label class_color  cl  cluster_size  size  \n",
       "0   GABAergic     #F05A28   7          6850  6850  \n",
       "1   GABAergic     #F05A28   7          6850  6850  \n",
       "2   GABAergic     #F05A28   7          6850  6850  \n",
       "3   GABAergic     #F05A28   7          6850  6850  \n",
       "4   GABAergic     #F05A28   7          6850  6850  "
      ]
     },
     "execution_count": 10,
     "metadata": {},
     "output_type": "execute_result"
    }
   ],
   "source": [
    "modality_map = {\n",
    "    'SmartSeq_cells_AIBS': 'smarter_cells', \n",
    "    'SmartSeq_nuclei_AIBS': 'smarter_nuclei',\n",
    "    '10X_cells_v2_AIBS': '10x_cells_v2', \n",
    "    '10X_cells_v3_AIBS': '10x_cells_v3', \n",
    "    '10X_nuclei_v3_AIBS': '10x_nuclei_v3',\n",
    "    '10X_nuclei_v3_Broad': '10x_nuclei_v3_macosko',\n",
    "    '10X_nuclei_v2_AIBS': '10x_nuclei_v2',\n",
    "    }\n",
    "\n",
    "df_rna['modality_allen'] = df_rna.reset_index()['index'].apply(lambda x: x.split('.')[0]).values\n",
    "df_rna['cell'] = df_rna.reset_index()['index'].apply(lambda x: x.split('.')[1]).values\n",
    "df_rna['modality'] = df_rna['modality_allen'].apply(lambda x: modality_map[x])\n",
    "df_rna['cell_id'] = df_rna.apply(lambda x: x.modality + '_' + x.cell, axis=1)\n",
    "df_rna = pd.merge(df_rna, df_rna_annot, left_on='x', right_on='cl')\n",
    "\n",
    "df_rna.head()"
   ]
  },
  {
   "cell_type": "code",
   "execution_count": 11,
   "metadata": {},
   "outputs": [
    {
     "name": "stdout",
     "output_type": "stream",
     "text": [
      "cluster_label 116\n",
      "cluster_color 116\n",
      "subclass_id 22\n",
      "subclass_label 22\n",
      "subclass_color 22\n",
      "class_id 3\n",
      "class_label 3\n",
      "class_color 3\n",
      "cl 116\n",
      "cluster_size 113\n",
      "size 113\n"
     ]
    }
   ],
   "source": [
    "for col in df_rna_annot:\n",
    "    num = len(df_rna_annot[col].unique())\n",
    "    print(col, num)"
   ]
  },
  {
   "cell_type": "code",
   "execution_count": 16,
   "metadata": {},
   "outputs": [
    {
     "data": {
      "text/plain": [
       "10x_cells_v2             121440\n",
       "10x_cells_v3              69727\n",
       "10x_nuclei_v3             39706\n",
       "10x_nuclei_v3_macosko    101647\n",
       "smarter_cells              6244\n",
       "smarter_nuclei             5911\n",
       "snatac_gene               54844\n",
       "snmcseq_gene               9366\n",
       "Name: modality, dtype: int64"
      ]
     },
     "execution_count": 16,
     "metadata": {},
     "output_type": "execute_result"
    }
   ],
   "source": [
    "df['modality'].value_counts().sort_index()"
   ]
  },
  {
   "cell_type": "code",
   "execution_count": 17,
   "metadata": {},
   "outputs": [
    {
     "data": {
      "text/plain": [
       "10x_cells_v2             102792\n",
       "10x_cells_v3              56055\n",
       "10x_nuclei_v2             69381\n",
       "10x_nuclei_v3             36260\n",
       "10x_nuclei_v3_macosko    147867\n",
       "smarter_cells              5644\n",
       "smarter_nuclei             5794\n",
       "Name: modality, dtype: int64"
      ]
     },
     "execution_count": 17,
     "metadata": {},
     "output_type": "execute_result"
    }
   ],
   "source": [
    "# df.head()\n",
    "df_rna['modality'].value_counts().sort_index()"
   ]
  },
  {
   "cell_type": "code",
   "execution_count": 21,
   "metadata": {},
   "outputs": [
    {
     "data": {
      "text/plain": [
       "10x_cells_v2             101591\n",
       "10x_cells_v3              54599\n",
       "10x_nuclei_v3             35800\n",
       "10x_nuclei_v3_macosko     89776\n",
       "smarter_cells              5600\n",
       "smarter_nuclei             5534\n",
       "Name: modality, dtype: int64"
      ]
     },
     "execution_count": 21,
     "metadata": {},
     "output_type": "execute_result"
    }
   ],
   "source": [
    "shared_cells = np.intersect1d(df['cell_id'].values, df_rna['cell_id'].values)\n",
    "df_rna.set_index('cell_id').loc[shared_cells, 'modality'].value_counts().sort_index()"
   ]
  },
  {
   "cell_type": "code",
   "execution_count": 22,
   "metadata": {},
   "outputs": [
    {
     "name": "stdout",
     "output_type": "stream",
     "text": [
      "(292900, 2)\n"
     ]
    },
    {
     "data": {
      "text/html": [
       "<div>\n",
       "<style scoped>\n",
       "    .dataframe tbody tr th:only-of-type {\n",
       "        vertical-align: middle;\n",
       "    }\n",
       "\n",
       "    .dataframe tbody tr th {\n",
       "        vertical-align: top;\n",
       "    }\n",
       "\n",
       "    .dataframe thead th {\n",
       "        text-align: right;\n",
       "    }\n",
       "</style>\n",
       "<table border=\"1\" class=\"dataframe\">\n",
       "  <thead>\n",
       "    <tr style=\"text-align: right;\">\n",
       "      <th></th>\n",
       "      <th>clst_rna</th>\n",
       "      <th>clst_all</th>\n",
       "    </tr>\n",
       "  </thead>\n",
       "  <tbody>\n",
       "    <tr>\n",
       "      <th>10x_cells_v2_AAACCTGAGAAGGACA-5L8TX_171026_01_G04</th>\n",
       "      <td>Lamp5 Slc35d3</td>\n",
       "      <td>6-2-1</td>\n",
       "    </tr>\n",
       "    <tr>\n",
       "      <th>10x_cells_v2_AAACCTGAGACTAAGT-10L8TX_171026_01_A04</th>\n",
       "      <td>L5 IT Rspo1_2</td>\n",
       "      <td>1-2-1</td>\n",
       "    </tr>\n",
       "    <tr>\n",
       "      <th>10x_cells_v2_AAACCTGAGAGACTTA-12L8TX_171026_01_D05</th>\n",
       "      <td>Lamp5 Slc35d3</td>\n",
       "      <td>6-2-1</td>\n",
       "    </tr>\n",
       "    <tr>\n",
       "      <th>10x_cells_v2_AAACCTGAGAGGTTAT-15L8TX_171026_01_G05</th>\n",
       "      <td>L5 IT S100b_1</td>\n",
       "      <td>3-2-1</td>\n",
       "    </tr>\n",
       "    <tr>\n",
       "      <th>10x_cells_v2_AAACCTGAGAGTCTGG-16L8TX_171026_01_H05</th>\n",
       "      <td>L5 ET_1</td>\n",
       "      <td>9-1-1</td>\n",
       "    </tr>\n",
       "  </tbody>\n",
       "</table>\n",
       "</div>"
      ],
      "text/plain": [
       "                                                         clst_rna clst_all\n",
       "10x_cells_v2_AAACCTGAGAAGGACA-5L8TX_171026_01_G04   Lamp5 Slc35d3    6-2-1\n",
       "10x_cells_v2_AAACCTGAGACTAAGT-10L8TX_171026_01_A04  L5 IT Rspo1_2    1-2-1\n",
       "10x_cells_v2_AAACCTGAGAGACTTA-12L8TX_171026_01_D05  Lamp5 Slc35d3    6-2-1\n",
       "10x_cells_v2_AAACCTGAGAGGTTAT-15L8TX_171026_01_G05  L5 IT S100b_1    3-2-1\n",
       "10x_cells_v2_AAACCTGAGAGTCTGG-16L8TX_171026_01_H05        L5 ET_1    9-1-1"
      ]
     },
     "execution_count": 22,
     "metadata": {},
     "output_type": "execute_result"
    }
   ],
   "source": [
    "df_comb = pd.DataFrame(index=shared_cells) \n",
    "df_comb['clst_rna'] = df_rna.set_index('cell_id').loc[shared_cells, 'cluster_label']\n",
    "df_comb['clst_all'] = df.set_index('cell_id').loc[shared_cells, 'joint_cluster_round3']\n",
    "print(df_comb.shape)\n",
    "df_comb.head()"
   ]
  },
  {
   "cell_type": "code",
   "execution_count": 31,
   "metadata": {},
   "outputs": [
    {
     "data": {
      "text/plain": [
       "L6 CT Cpa6            53741\n",
       "L5 IT Rspo1_1         47569\n",
       "L5 IT Rspo1_2         34148\n",
       "L5 IT S100b_1         22189\n",
       "L5 IT Pld5_2          11666\n",
       "L6 IT_1               11458\n",
       "L5/6 NP_3              7093\n",
       "Lamp5 Slc35d3          6093\n",
       "L6b Col6a1             5566\n",
       "L6 IT_2                5256\n",
       "Pvalb Reln             4791\n",
       "L5 IT Pld5_1           4208\n",
       "L5 ET_1                4111\n",
       "L2/3 IT_2              3431\n",
       "Pvalb Vipr2_1          3401\n",
       "Vip Gpc3               3064\n",
       "Sst Myh8_1             2837\n",
       "L5/6 NP_2              2497\n",
       "L6b Ror1               2393\n",
       "L5/6 NP_1              2349\n",
       "L2/3 IT_1              2256\n",
       "Vip Chat_1             2179\n",
       "Lamp5 Pdlim5_2         1990\n",
       "Sst Tac2               1910\n",
       "Vip Htr1f_1            1801\n",
       "Sst Th_1               1796\n",
       "Vip Igfbp6_2           1717\n",
       "Pvalb Calb1_2          1636\n",
       "L6 CT Kit_1            1481\n",
       "L6b Shisa6_1           1470\n",
       "                      ...  \n",
       "Pvalb Calb1_1           431\n",
       "Sst Pvalb Etv1          410\n",
       "Sst Myh8_2              371\n",
       "Pvalb Il1rapl2          362\n",
       "Sst Th_3                349\n",
       "Vip Serpinf1_3          287\n",
       "Sst Hpse                285\n",
       "Sncg Npy2r              264\n",
       "Sst Htr1a               249\n",
       "L6b Kcnip1              243\n",
       "Vip Serpinf1_1          239\n",
       "Pvalb Egfem1            226\n",
       "Sncg Calb1_1            151\n",
       "Sst Pvalb Calb2          60\n",
       "Astro Aqp4_Gfap          49\n",
       "Astro Aqp4_Slc7a10       38\n",
       "L6 CT Kit_2              30\n",
       "SMC                      17\n",
       "Sst Crhr2_1              16\n",
       "OPC Pdgfra               16\n",
       "Pvalb Vipr2_2            15\n",
       "Oligo Opalin_1            3\n",
       "Oligo Opalin_4            2\n",
       "Oligo Opalin_2            2\n",
       "Oligo Enpp6_4             2\n",
       "Oligo Enpp6_1             1\n",
       "Oligo Opalin_3            1\n",
       "VLMC_5                    1\n",
       "Meis2_Top2a               1\n",
       "Oligo Enpp6_2             1\n",
       "Name: clst_rna, Length: 100, dtype: int64"
      ]
     },
     "execution_count": 31,
     "metadata": {},
     "output_type": "execute_result"
    }
   ],
   "source": [
    "df_comb['clst_rna'].value_counts()"
   ]
  },
  {
   "cell_type": "code",
   "execution_count": 33,
   "metadata": {},
   "outputs": [],
   "source": [
    "f = '/cndd/fangming/CEMBA/data/MOp_all/results_final/annotation_auto.tsv'\n",
    "df_auto_annot = df_comb.groupby('clst_all').agg({'clst_rna': lambda x: x.value_counts(ascending=False).index[0]})\n",
    "# df_auto_annot.to_csv(f, sep='\\t', header=True, index=True)"
   ]
  },
  {
   "cell_type": "markdown",
   "metadata": {},
   "source": [
    "### Compare numbers \n",
    "Confusion matrix RNA vs integrated"
   ]
  },
  {
   "cell_type": "code",
   "execution_count": 235,
   "metadata": {},
   "outputs": [
    {
     "name": "stdout",
     "output_type": "stream",
     "text": [
      "344650 344675\n",
      "344628\n"
     ]
    }
   ],
   "source": [
    "rna_data = ['smarter_cells', 'smarter_nuclei',\n",
    "       '10x_cells_v2', '10x_cells_v3', '10x_nuclei_v3',\n",
    "       '10x_nuclei_v3_macosko']\n",
    "rna_clusters = df_rna_annot[df_rna_annot['class_label']!='Non-Neuronal'].index.values\n",
    "\n",
    "cells_rna = df_rna.loc[((df_rna['modality'].isin(rna_data)) & (df_rna['x'].isin(rna_clusters))), 'cell_id']\n",
    "cells_rna_integrated = df.loc[df['modality'].isin(rna_data), 'cell_id']\n",
    "n_rna = len(cells_rna)\n",
    "n_rna_integrated = len(cells_rna_integrated)\n",
    "\n",
    "print(n_rna, n_rna_integrated)\n",
    "cells_rna_shared = np.intersect1d(cells_rna, cells_rna_integrated)\n",
    "print(len(cells_rna_shared))"
   ]
  },
  {
   "cell_type": "code",
   "execution_count": 236,
   "metadata": {},
   "outputs": [
    {
     "name": "stdout",
     "output_type": "stream",
     "text": [
      "(344628, 1)\n",
      "56\n"
     ]
    },
    {
     "data": {
      "text/html": [
       "<div>\n",
       "<style scoped>\n",
       "    .dataframe tbody tr th:only-of-type {\n",
       "        vertical-align: middle;\n",
       "    }\n",
       "\n",
       "    .dataframe tbody tr th {\n",
       "        vertical-align: top;\n",
       "    }\n",
       "\n",
       "    .dataframe thead th {\n",
       "        text-align: right;\n",
       "    }\n",
       "</style>\n",
       "<table border=\"1\" class=\"dataframe\">\n",
       "  <thead>\n",
       "    <tr style=\"text-align: right;\">\n",
       "      <th></th>\n",
       "      <th>cluster</th>\n",
       "    </tr>\n",
       "  </thead>\n",
       "  <tbody>\n",
       "    <tr>\n",
       "      <th>10x_cells_v2_AAACCTGAGAAGGACA-5L8TX_171026_01_G04</th>\n",
       "      <td>6-2-1</td>\n",
       "    </tr>\n",
       "    <tr>\n",
       "      <th>10x_cells_v2_AAACCTGAGAATCTCC-6L8TX_171026_01_B05</th>\n",
       "      <td>1-1-1</td>\n",
       "    </tr>\n",
       "    <tr>\n",
       "      <th>10x_cells_v2_AAACCTGAGACGACGT-2L8TX_171026_01_G03</th>\n",
       "      <td>1-1-1</td>\n",
       "    </tr>\n",
       "    <tr>\n",
       "      <th>10x_cells_v2_AAACCTGAGACTAAGT-10L8TX_171026_01_A04</th>\n",
       "      <td>1-2-1</td>\n",
       "    </tr>\n",
       "    <tr>\n",
       "      <th>10x_cells_v2_AAACCTGAGAGACTTA-12L8TX_171026_01_D05</th>\n",
       "      <td>6-2-1</td>\n",
       "    </tr>\n",
       "  </tbody>\n",
       "</table>\n",
       "</div>"
      ],
      "text/plain": [
       "                                                   cluster\n",
       "10x_cells_v2_AAACCTGAGAAGGACA-5L8TX_171026_01_G04    6-2-1\n",
       "10x_cells_v2_AAACCTGAGAATCTCC-6L8TX_171026_01_B05    1-1-1\n",
       "10x_cells_v2_AAACCTGAGACGACGT-2L8TX_171026_01_G03    1-1-1\n",
       "10x_cells_v2_AAACCTGAGACTAAGT-10L8TX_171026_01_A04   1-2-1\n",
       "10x_cells_v2_AAACCTGAGAGACTTA-12L8TX_171026_01_D05   6-2-1"
      ]
     },
     "execution_count": 236,
     "metadata": {},
     "output_type": "execute_result"
    }
   ],
   "source": [
    "X = pd.DataFrame(index=cells_rna_shared)\n",
    "X['cluster'] = df.set_index('cell_id').loc[cells_rna_shared, 'joint_cluster_round3'].values\n",
    "print(X.shape)\n",
    "print(len(X['cluster'].unique()))\n",
    "X.head()"
   ]
  },
  {
   "cell_type": "code",
   "execution_count": 237,
   "metadata": {},
   "outputs": [
    {
     "name": "stdout",
     "output_type": "stream",
     "text": [
      "(344628, 1)\n",
      "90\n"
     ]
    },
    {
     "data": {
      "text/html": [
       "<div>\n",
       "<style scoped>\n",
       "    .dataframe tbody tr th:only-of-type {\n",
       "        vertical-align: middle;\n",
       "    }\n",
       "\n",
       "    .dataframe tbody tr th {\n",
       "        vertical-align: top;\n",
       "    }\n",
       "\n",
       "    .dataframe thead th {\n",
       "        text-align: right;\n",
       "    }\n",
       "</style>\n",
       "<table border=\"1\" class=\"dataframe\">\n",
       "  <thead>\n",
       "    <tr style=\"text-align: right;\">\n",
       "      <th></th>\n",
       "      <th>cluster</th>\n",
       "    </tr>\n",
       "  </thead>\n",
       "  <tbody>\n",
       "    <tr>\n",
       "      <th>10x_cells_v2_AAACCTGAGAAGGACA-5L8TX_171026_01_G04</th>\n",
       "      <td>7</td>\n",
       "    </tr>\n",
       "    <tr>\n",
       "      <th>10x_cells_v2_AAACCTGAGAATCTCC-6L8TX_171026_01_B05</th>\n",
       "      <td>61</td>\n",
       "    </tr>\n",
       "    <tr>\n",
       "      <th>10x_cells_v2_AAACCTGAGACGACGT-2L8TX_171026_01_G03</th>\n",
       "      <td>61</td>\n",
       "    </tr>\n",
       "    <tr>\n",
       "      <th>10x_cells_v2_AAACCTGAGACTAAGT-10L8TX_171026_01_A04</th>\n",
       "      <td>62</td>\n",
       "    </tr>\n",
       "    <tr>\n",
       "      <th>10x_cells_v2_AAACCTGAGAGACTTA-12L8TX_171026_01_D05</th>\n",
       "      <td>7</td>\n",
       "    </tr>\n",
       "  </tbody>\n",
       "</table>\n",
       "</div>"
      ],
      "text/plain": [
       "                                                    cluster\n",
       "10x_cells_v2_AAACCTGAGAAGGACA-5L8TX_171026_01_G04         7\n",
       "10x_cells_v2_AAACCTGAGAATCTCC-6L8TX_171026_01_B05        61\n",
       "10x_cells_v2_AAACCTGAGACGACGT-2L8TX_171026_01_G03        61\n",
       "10x_cells_v2_AAACCTGAGACTAAGT-10L8TX_171026_01_A04       62\n",
       "10x_cells_v2_AAACCTGAGAGACTTA-12L8TX_171026_01_D05        7"
      ]
     },
     "execution_count": 237,
     "metadata": {},
     "output_type": "execute_result"
    }
   ],
   "source": [
    "Y = pd.DataFrame(index=cells_rna_shared)\n",
    "Y['cluster'] = df_rna.set_index('cell_id').loc[cells_rna_shared, 'x'].values\n",
    "print(Y.shape)\n",
    "print(len(Y['cluster'].unique()))\n",
    "Y.head()"
   ]
  },
  {
   "cell_type": "code",
   "execution_count": 238,
   "metadata": {},
   "outputs": [],
   "source": [
    "mods_ordered = ['all_intg', 'rna_intg']\n",
    "\n",
    "def plot_5_version2( \n",
    "           output='',\n",
    "          ):\n",
    "    ny = 2\n",
    "    nx = 1\n",
    "    heatmap_kws = {\n",
    "        'xticklabels': False, \n",
    "        'yticklabels': False,\n",
    "        'vmin': 0, \n",
    "        'vmax': 1,\n",
    "        'cmap': 'Reds',\n",
    "    }\n",
    "\n",
    "    cbar_kws = {\n",
    "        'orientation': 'vertical', \n",
    "        'label': 'Fraction of cells',\n",
    "    }\n",
    "\n",
    "    with sns.plotting_context('talk'):\n",
    "        fig, axs = plt.subplots(ny, nx, figsize=(3*nx, 3*ny))\n",
    "        axs = axs.T\n",
    "        ax = axs\n",
    "        cbar_ax = fig.add_axes([0.95, 0.4, 0.03, 0.3])\n",
    "        njoint_clusters = len(Y['cluster'].unique())\n",
    "        i = 0\n",
    "        conf_mat = pd.crosstab(X['cluster'].values, \n",
    "                               Y['cluster'].values,\n",
    "                              ) #.fillna(0)\n",
    "        # normalize each joint cluster\n",
    "        conf_mat_njoint = conf_mat.divide(conf_mat.sum(axis=0), axis=1)\n",
    "        # normalize each orig cluster\n",
    "        conf_mat_norig = conf_mat.divide(conf_mat.sum(axis=1), axis=0)\n",
    "\n",
    "        # plot normalized by joint \n",
    "        if i == 0:\n",
    "            ylabel = 'RNA integration\\n{} clusters\\n(row norm)'.format(njoint_clusters)\n",
    "            cbar = True\n",
    "        else:\n",
    "            ylabel = ''\n",
    "            cbar = False\n",
    "            \n",
    "#         _X = conf_mat_njoint.reindex(order_joint, axis=1, fill_value=0) \n",
    "        _X = conf_mat_njoint #(fill_value=0)\n",
    "        _rX, ri, rc = snmcseq_utils.diag_matrix_rows(_X.values, _X.index.values, _X.columns.values)\n",
    "        _rX = pd.DataFrame(_rX, index=ri, columns=rc)\n",
    "        g = sns.heatmap(_rX.T, \n",
    "                    cbar=cbar,\n",
    "                    cbar_kws=cbar_kws,\n",
    "                    cbar_ax=cbar_ax,\n",
    "                    ax=ax[0],\n",
    "                    **heatmap_kws,\n",
    "                   )\n",
    "        g.axes.set_title('{}\\n{} clusters'.format(\n",
    "            'All integration',\n",
    "            _rX.shape[0]))\n",
    "        g.axes.set_ylabel(ylabel)\n",
    "        order_orig = _rX.index.values # Will be fixed for the mod clusters  \n",
    "        # bounding box\n",
    "        for _, spine in g.axes.spines.items():\n",
    "            spine.set_visible(True)\n",
    "#             spine.set_color(settings[mod].color)\n",
    "\n",
    "        # plot normalized by orig (according to the axis of normalized by joint) \n",
    "        _X = conf_mat_norig.reindex(order_orig, axis=0).fillna(0)\n",
    "        g = sns.heatmap(_X.T, \n",
    "                    cbar=False,\n",
    "                    ax=ax[1],\n",
    "                    **heatmap_kws,\n",
    "                   )\n",
    "        if i == 0:\n",
    "            g.axes.set_xlabel('')\n",
    "            g.axes.set_ylabel('RNA integration\\n{} clusters\\n(col norm)'.format(njoint_clusters))\n",
    "        else:\n",
    "            g.axes.set_xlabel('')\n",
    "            g.axes.set_ylabel('')\n",
    "        # bounding box\n",
    "        for _, spine in g.axes.spines.items():\n",
    "            spine.set_visible(True)\n",
    "#             spine.set_color(settings[mod].color)\n",
    "\n",
    "        plt.subplots_adjust(hspace=0.05, wspace=0.05)\n",
    "        if output:\n",
    "            fig.savefig(output, bbox_inches='tight')\n",
    "        plt.show()\n",
    "     "
   ]
  },
  {
   "cell_type": "code",
   "execution_count": 239,
   "metadata": {},
   "outputs": [
    {
     "data": {
      "image/png": "[encoded data removed]",
      "text/plain": [
       "<Figure size 216x432 with 3 Axes>"
      ]
     },
     "metadata": {},
     "output_type": "display_data"
    }
   ],
   "source": [
    "plot_5_version2()"
   ]
  },
  {
   "cell_type": "code",
   "execution_count": 240,
   "metadata": {},
   "outputs": [],
   "source": [
    "# assigning each RNA integration cluster to 1 joint cluster"
   ]
  },
  {
   "cell_type": "markdown",
   "metadata": {},
   "source": [
    "### Compare numbers \n",
    "Confusion matrix ATAC vs integrated"
   ]
  },
  {
   "cell_type": "code",
   "execution_count": 241,
   "metadata": {},
   "outputs": [
    {
     "name": "stdout",
     "output_type": "stream",
     "text": [
      "81196 54844\n",
      "54844\n"
     ]
    }
   ],
   "source": [
    "atac_data = ['snatac_gene', \n",
    "       ]\n",
    "\n",
    "n_atac = len(df_atac)\n",
    "n_atac_integrated = len(df[df['modality'].isin(atac_data)])\n",
    "print(n_atac, n_atac_integrated)\n",
    "cells_atac_shared = np.intersect1d(df_atac['cell_id'].values, df['cell_id'].values)\n",
    "print(len(cells_atac_shared))"
   ]
  },
  {
   "cell_type": "code",
   "execution_count": 242,
   "metadata": {},
   "outputs": [
    {
     "name": "stdout",
     "output_type": "stream",
     "text": [
      "(54844, 1)\n",
      "53\n"
     ]
    },
    {
     "data": {
      "text/html": [
       "<div>\n",
       "<style scoped>\n",
       "    .dataframe tbody tr th:only-of-type {\n",
       "        vertical-align: middle;\n",
       "    }\n",
       "\n",
       "    .dataframe tbody tr th {\n",
       "        vertical-align: top;\n",
       "    }\n",
       "\n",
       "    .dataframe thead th {\n",
       "        text-align: right;\n",
       "    }\n",
       "</style>\n",
       "<table border=\"1\" class=\"dataframe\">\n",
       "  <thead>\n",
       "    <tr style=\"text-align: right;\">\n",
       "      <th></th>\n",
       "      <th>cluster</th>\n",
       "    </tr>\n",
       "  </thead>\n",
       "  <tbody>\n",
       "    <tr>\n",
       "      <th>snatac_gene_CEMBA171206_3C_AGCGATAGAACCAGGTAAGAGATGTATAGCCT</th>\n",
       "      <td>2-1-1</td>\n",
       "    </tr>\n",
       "    <tr>\n",
       "      <th>snatac_gene_CEMBA171206_3C_AGCGATAGAACCAGGTAATGACGTCAGGACGT</th>\n",
       "      <td>4-1-1</td>\n",
       "    </tr>\n",
       "    <tr>\n",
       "      <th>snatac_gene_CEMBA171206_3C_AGCGATAGAACCAGGTATAGCCTTAGGCGAAG</th>\n",
       "      <td>2-2-1</td>\n",
       "    </tr>\n",
       "    <tr>\n",
       "      <th>snatac_gene_CEMBA171206_3C_AGCGATAGAACCAGGTATAGCCTTATAGAGGC</th>\n",
       "      <td>3-1-2</td>\n",
       "    </tr>\n",
       "    <tr>\n",
       "      <th>snatac_gene_CEMBA171206_3C_AGCGATAGAACCAGGTATAGCCTTGTACTGAC</th>\n",
       "      <td>3-2-1</td>\n",
       "    </tr>\n",
       "  </tbody>\n",
       "</table>\n",
       "</div>"
      ],
      "text/plain": [
       "                                                   cluster\n",
       "snatac_gene_CEMBA171206_3C_AGCGATAGAACCAGGTAAGA...   2-1-1\n",
       "snatac_gene_CEMBA171206_3C_AGCGATAGAACCAGGTAATG...   4-1-1\n",
       "snatac_gene_CEMBA171206_3C_AGCGATAGAACCAGGTATAG...   2-2-1\n",
       "snatac_gene_CEMBA171206_3C_AGCGATAGAACCAGGTATAG...   3-1-2\n",
       "snatac_gene_CEMBA171206_3C_AGCGATAGAACCAGGTATAG...   3-2-1"
      ]
     },
     "execution_count": 242,
     "metadata": {},
     "output_type": "execute_result"
    }
   ],
   "source": [
    "X2 = pd.DataFrame(index=cells_atac_shared)\n",
    "X2['cluster'] = df.set_index('cell_id').loc[cells_atac_shared, 'joint_cluster_round3'].values\n",
    "print(X2.shape)\n",
    "print(len(X2['cluster'].unique()))\n",
    "X2.head()"
   ]
  },
  {
   "cell_type": "code",
   "execution_count": 243,
   "metadata": {},
   "outputs": [
    {
     "name": "stdout",
     "output_type": "stream",
     "text": [
      "(54844, 1)\n",
      "26\n"
     ]
    },
    {
     "data": {
      "text/html": [
       "<div>\n",
       "<style scoped>\n",
       "    .dataframe tbody tr th:only-of-type {\n",
       "        vertical-align: middle;\n",
       "    }\n",
       "\n",
       "    .dataframe tbody tr th {\n",
       "        vertical-align: top;\n",
       "    }\n",
       "\n",
       "    .dataframe thead th {\n",
       "        text-align: right;\n",
       "    }\n",
       "</style>\n",
       "<table border=\"1\" class=\"dataframe\">\n",
       "  <thead>\n",
       "    <tr style=\"text-align: right;\">\n",
       "      <th></th>\n",
       "      <th>cluster</th>\n",
       "    </tr>\n",
       "  </thead>\n",
       "  <tbody>\n",
       "    <tr>\n",
       "      <th>snatac_gene_CEMBA171206_3C_AGCGATAGAACCAGGTAAGAGATGTATAGCCT</th>\n",
       "      <td>L6.CT</td>\n",
       "    </tr>\n",
       "    <tr>\n",
       "      <th>snatac_gene_CEMBA171206_3C_AGCGATAGAACCAGGTAATGACGTCAGGACGT</th>\n",
       "      <td>L23.b</td>\n",
       "    </tr>\n",
       "    <tr>\n",
       "      <th>snatac_gene_CEMBA171206_3C_AGCGATAGAACCAGGTATAGCCTTAGGCGAAG</th>\n",
       "      <td>L6.CT</td>\n",
       "    </tr>\n",
       "    <tr>\n",
       "      <th>snatac_gene_CEMBA171206_3C_AGCGATAGAACCAGGTATAGCCTTATAGAGGC</th>\n",
       "      <td>L5.IT.b</td>\n",
       "    </tr>\n",
       "    <tr>\n",
       "      <th>snatac_gene_CEMBA171206_3C_AGCGATAGAACCAGGTATAGCCTTGTACTGAC</th>\n",
       "      <td>L5.IT.b</td>\n",
       "    </tr>\n",
       "  </tbody>\n",
       "</table>\n",
       "</div>"
      ],
      "text/plain": [
       "                                                    cluster\n",
       "snatac_gene_CEMBA171206_3C_AGCGATAGAACCAGGTAAGA...    L6.CT\n",
       "snatac_gene_CEMBA171206_3C_AGCGATAGAACCAGGTAATG...    L23.b\n",
       "snatac_gene_CEMBA171206_3C_AGCGATAGAACCAGGTATAG...    L6.CT\n",
       "snatac_gene_CEMBA171206_3C_AGCGATAGAACCAGGTATAG...  L5.IT.b\n",
       "snatac_gene_CEMBA171206_3C_AGCGATAGAACCAGGTATAG...  L5.IT.b"
      ]
     },
     "execution_count": 243,
     "metadata": {},
     "output_type": "execute_result"
    }
   ],
   "source": [
    "Y2 = pd.DataFrame(index=cells_atac_shared)\n",
    "Y2['cluster'] = df_atac.set_index('cell_id').loc[cells_atac_shared, 'cluster'].values\n",
    "print(Y2.shape)\n",
    "print(len(Y2['cluster'].unique()))\n",
    "Y2.head()"
   ]
  },
  {
   "cell_type": "code",
   "execution_count": 244,
   "metadata": {},
   "outputs": [
    {
     "data": {
      "image/png": "[encoded data removed]",
      "text/plain": [
       "<Figure size 216x432 with 3 Axes>"
      ]
     },
     "metadata": {},
     "output_type": "display_data"
    }
   ],
   "source": [
    "plot_5_version2()"
   ]
  },
  {
   "cell_type": "markdown",
   "metadata": {},
   "source": [
    "# overlapping score "
   ]
  },
  {
   "cell_type": "code",
   "execution_count": 248,
   "metadata": {},
   "outputs": [
    {
     "data": {
      "text/plain": [
       "array(['1-1-1', '4-2-1', '4-1-1', '4-2-2', '6-2-1', '1-2-1', '6-4-2',\n",
       "       '1-2-2', '3-1-2', '3-2-1', '5-3-2', '2-1-2', '7-2-2', '3-1-1',\n",
       "       '2-1-1', '7-1-2', '5-3-1', '7-2-1', '9-2-2', '6-5-1', '6-1-2',\n",
       "       '5-4-1', '5-2-1', '9-2-1', '5-1-2', '5-1-1', '6-5-2', '2-2-1',\n",
       "       '4-2-3', '2-3-1', '6-1-1', '6-6-1', '6-3-1', '6-4-1', '6-3-2',\n",
       "       '6-5-3', '3-3-1', '5-2-2', '9-1-1', '7-1-1', '2-3-2', '2-3-3',\n",
       "       '5-2-3', '6-3-3', '10-1-1', '5-5-1', '3-2-2', '8-2-1', '2-2-2',\n",
       "       '4-1-2', '8-3-1', '8-1-1', '8-1-2', '2-2-3', '2-2-4', '8-3-2'], dtype=object)"
      ]
     },
     "execution_count": 248,
     "metadata": {},
     "output_type": "execute_result"
    }
   ],
   "source": [
    "shared_clusters = df['joint_cluster_round3'].unique()\n",
    "shared_clusters"
   ]
  },
  {
   "cell_type": "code",
   "execution_count": 249,
   "metadata": {},
   "outputs": [
    {
     "data": {
      "text/html": [
       "<div>\n",
       "<style scoped>\n",
       "    .dataframe tbody tr th:only-of-type {\n",
       "        vertical-align: middle;\n",
       "    }\n",
       "\n",
       "    .dataframe tbody tr th {\n",
       "        vertical-align: top;\n",
       "    }\n",
       "\n",
       "    .dataframe thead th {\n",
       "        text-align: right;\n",
       "    }\n",
       "</style>\n",
       "<table border=\"1\" class=\"dataframe\">\n",
       "  <thead>\n",
       "    <tr style=\"text-align: right;\">\n",
       "      <th></th>\n",
       "      <th>cluster_label</th>\n",
       "      <th>cluster_color</th>\n",
       "      <th>subclass_id</th>\n",
       "      <th>subclass_label</th>\n",
       "      <th>subclass_color</th>\n",
       "      <th>class_id</th>\n",
       "      <th>class_label</th>\n",
       "      <th>class_color</th>\n",
       "      <th>cl</th>\n",
       "      <th>cluster_size</th>\n",
       "      <th>size</th>\n",
       "    </tr>\n",
       "    <tr>\n",
       "      <th>cluster_id</th>\n",
       "      <th></th>\n",
       "      <th></th>\n",
       "      <th></th>\n",
       "      <th></th>\n",
       "      <th></th>\n",
       "      <th></th>\n",
       "      <th></th>\n",
       "      <th></th>\n",
       "      <th></th>\n",
       "      <th></th>\n",
       "      <th></th>\n",
       "    </tr>\n",
       "  </thead>\n",
       "  <tbody>\n",
       "    <tr>\n",
       "      <th>1</th>\n",
       "      <td>Lamp5 Pax6</td>\n",
       "      <td>#DDACC9</td>\n",
       "      <td>1</td>\n",
       "      <td>Lamp5</td>\n",
       "      <td>#DA808C</td>\n",
       "      <td>1</td>\n",
       "      <td>GABAergic</td>\n",
       "      <td>#F05A28</td>\n",
       "      <td>1</td>\n",
       "      <td>700</td>\n",
       "      <td>700</td>\n",
       "    </tr>\n",
       "    <tr>\n",
       "      <th>2</th>\n",
       "      <td>Lamp5 Egln3_1</td>\n",
       "      <td>#FF88AD</td>\n",
       "      <td>1</td>\n",
       "      <td>Lamp5</td>\n",
       "      <td>#DA808C</td>\n",
       "      <td>1</td>\n",
       "      <td>GABAergic</td>\n",
       "      <td>#F05A28</td>\n",
       "      <td>2</td>\n",
       "      <td>618</td>\n",
       "      <td>618</td>\n",
       "    </tr>\n",
       "    <tr>\n",
       "      <th>3</th>\n",
       "      <td>Lamp5 Egln3_2</td>\n",
       "      <td>#DD8091</td>\n",
       "      <td>1</td>\n",
       "      <td>Lamp5</td>\n",
       "      <td>#DA808C</td>\n",
       "      <td>1</td>\n",
       "      <td>GABAergic</td>\n",
       "      <td>#F05A28</td>\n",
       "      <td>3</td>\n",
       "      <td>814</td>\n",
       "      <td>814</td>\n",
       "    </tr>\n",
       "    <tr>\n",
       "      <th>4</th>\n",
       "      <td>Lamp5 Egln3_3</td>\n",
       "      <td>#F08E98</td>\n",
       "      <td>1</td>\n",
       "      <td>Lamp5</td>\n",
       "      <td>#DA808C</td>\n",
       "      <td>1</td>\n",
       "      <td>GABAergic</td>\n",
       "      <td>#F05A28</td>\n",
       "      <td>4</td>\n",
       "      <td>1276</td>\n",
       "      <td>1276</td>\n",
       "    </tr>\n",
       "    <tr>\n",
       "      <th>5</th>\n",
       "      <td>Lamp5 Pdlim5_1</td>\n",
       "      <td>#FF7290</td>\n",
       "      <td>1</td>\n",
       "      <td>Lamp5</td>\n",
       "      <td>#DA808C</td>\n",
       "      <td>1</td>\n",
       "      <td>GABAergic</td>\n",
       "      <td>#F05A28</td>\n",
       "      <td>5</td>\n",
       "      <td>1288</td>\n",
       "      <td>1288</td>\n",
       "    </tr>\n",
       "  </tbody>\n",
       "</table>\n",
       "</div>"
      ],
      "text/plain": [
       "             cluster_label cluster_color  subclass_id subclass_label  \\\n",
       "cluster_id                                                             \n",
       "1               Lamp5 Pax6       #DDACC9            1          Lamp5   \n",
       "2            Lamp5 Egln3_1       #FF88AD            1          Lamp5   \n",
       "3            Lamp5 Egln3_2       #DD8091            1          Lamp5   \n",
       "4            Lamp5 Egln3_3       #F08E98            1          Lamp5   \n",
       "5           Lamp5 Pdlim5_1       #FF7290            1          Lamp5   \n",
       "\n",
       "           subclass_color  class_id class_label class_color  cl  cluster_size  \\\n",
       "cluster_id                                                                      \n",
       "1                 #DA808C         1   GABAergic     #F05A28   1           700   \n",
       "2                 #DA808C         1   GABAergic     #F05A28   2           618   \n",
       "3                 #DA808C         1   GABAergic     #F05A28   3           814   \n",
       "4                 #DA808C         1   GABAergic     #F05A28   4          1276   \n",
       "5                 #DA808C         1   GABAergic     #F05A28   5          1288   \n",
       "\n",
       "            size  \n",
       "cluster_id        \n",
       "1            700  \n",
       "2            618  \n",
       "3            814  \n",
       "4           1276  \n",
       "5           1288  "
      ]
     },
     "execution_count": 249,
     "metadata": {},
     "output_type": "execute_result"
    }
   ],
   "source": [
    "df_rna_annot.head()"
   ]
  },
  {
   "cell_type": "code",
   "execution_count": 250,
   "metadata": {},
   "outputs": [],
   "source": [
    "conf_mat = pd.crosstab(X['cluster'].values, \n",
    "                       Y['cluster'].values,\n",
    "                      ) #.fillna(0)\n",
    "conf_mat_ncol = conf_mat.divide(conf_mat.sum(axis=0), axis=1).reindex(shared_clusters, fill_value=0)\n",
    "\n",
    "conf_mat2 = pd.crosstab(X2['cluster'].values, \n",
    "                       Y2['cluster'].values,\n",
    "                      ) #.fillna(0)\n",
    "conf_mat_ncol2 = conf_mat2.divide(conf_mat2.sum(axis=0), axis=1).reindex(shared_clusters, fill_value=0)"
   ]
  },
  {
   "cell_type": "code",
   "execution_count": 251,
   "metadata": {},
   "outputs": [],
   "source": [
    "conf_mat_ncol.sum(axis=0).head()\n",
    "conf_mat_ncol.columns = [df_rna_annot.loc[clst, 'cluster_label'] for clst in conf_mat_ncol.columns]"
   ]
  },
  {
   "cell_type": "code",
   "execution_count": 252,
   "metadata": {},
   "outputs": [
    {
     "name": "stdout",
     "output_type": "stream",
     "text": [
      "['Lamp5 Pax6' 'Lamp5 Egln3_1' 'Lamp5 Egln3_2' 'Lamp5 Egln3_3'\n",
      " 'Lamp5 Pdlim5_1' 'Lamp5 Pdlim5_2' 'Lamp5 Slc35d3' 'Lamp5 Lhx6'\n",
      " 'Sncg Col14a1' 'Sncg Slc17a8' 'Sncg Calb1_1' 'Sncg Calb1_2' 'Sncg Npy2r'\n",
      " 'Vip Sncg' 'Vip Serpinf1_1' 'Vip Serpinf1_2' 'Vip Serpinf1_3'\n",
      " 'Vip Htr1f_1' 'Vip Gpc3' 'Vip C1ql1' 'Vip Mybpc1_1' 'Vip Mybpc1_2'\n",
      " 'Vip Mybpc1_3' 'Vip Chat_1' 'Vip Chat_2' 'Vip Igfbp6_1' 'Vip Igfbp6_2'\n",
      " 'Sst Chodl' 'Sst Penk' 'Sst Myh8_1' 'Sst Myh8_2' 'Sst Myh8_3' 'Sst Htr1a'\n",
      " 'Sst Etv1_1' 'Sst Pvalb Etv1' 'Sst Crhr2_1' 'Sst Crhr2_2' 'Sst Hpse'\n",
      " 'Sst Calb2' 'Sst Pvalb Calb2' 'Sst_Pappa' 'Sst C1ql3_1' 'Sst C1ql3_2'\n",
      " 'Sst Tac2' 'Sst Th_1' 'Sst Th_2' 'Sst Th_3' 'Pvalb Gabrg1' 'Pvalb Egfem1'\n",
      " 'Pvalb Gpr149' 'Pvalb Kank4' 'Pvalb Calb1_1' 'Pvalb Calb1_2' 'Pvalb Reln'\n",
      " 'Pvalb Il1rapl2' 'Pvalb Vipr2_1' 'Pvalb Vipr2_2' 'L2/3 IT_1' 'L2/3 IT_2'\n",
      " 'L2/3 IT_3' 'L5 IT Rspo1_1' 'L5 IT Rspo1_2' 'L5 IT S100b_1'\n",
      " 'L5 IT S100b_2' 'L5 IT Pld5_1' 'L5 IT Pld5_2' 'L6 IT_1' 'L6 IT_2'\n",
      " 'L6 IT Car3' 'L5 ET_1' 'L5 ET_2' 'L5 ET_3' 'L5 ET_4' 'L5/6 NP_1'\n",
      " 'L5/6 NP_2' 'L5/6 NP_3' 'L5/6 NP CT' 'L6 CT Gpr139' 'L6 CT Cpa6'\n",
      " 'L6 CT Grp' 'L6 CT Pou3f2' 'L6 CT Kit_1' 'L6 CT Kit_2' 'L6b Col6a1'\n",
      " 'L6b Shisa6_1' 'L6b Shisa6_2' 'L6b Ror1' 'L6b Kcnip1' 'Meis2'\n",
      " 'Meis2_Top2a']\n"
     ]
    }
   ],
   "source": [
    "print(conf_mat_ncol.columns.values)"
   ]
  },
  {
   "cell_type": "code",
   "execution_count": 253,
   "metadata": {},
   "outputs": [
    {
     "data": {
      "text/plain": [
       "col_0\n",
       "Chodl    1.0\n",
       "L23.a    1.0\n",
       "L23.b    1.0\n",
       "L23.c    1.0\n",
       "L4       1.0\n",
       "dtype: float64"
      ]
     },
     "execution_count": 253,
     "metadata": {},
     "output_type": "execute_result"
    }
   ],
   "source": [
    "conf_mat_ncol2.sum(axis=0).head()"
   ]
  },
  {
   "cell_type": "code",
   "execution_count": 257,
   "metadata": {},
   "outputs": [
    {
     "data": {
      "text/plain": [
       "(90, 26)"
      ]
     },
     "execution_count": 257,
     "metadata": {},
     "output_type": "execute_result"
    }
   ],
   "source": [
    "overlap = pd.DataFrame(index=conf_mat_ncol.columns, columns=conf_mat_ncol2.columns)\n",
    "for col_rna in conf_mat_ncol.columns:\n",
    "    for col_atac in conf_mat_ncol2.columns:\n",
    "        \n",
    "        score = np.sum(np.minimum(conf_mat_ncol[col_rna], \n",
    "                                    conf_mat_ncol2[col_atac]\n",
    "                                  ))\n",
    "        overlap.loc[col_rna, col_atac] = score \n",
    "overlap = overlap.fillna(0)\n",
    "overlap.shape"
   ]
  },
  {
   "cell_type": "code",
   "execution_count": 262,
   "metadata": {},
   "outputs": [
    {
     "data": {
      "image/png": "[encoded data removed]",
      "text/plain": [
       "<Figure size 576x864 with 2 Axes>"
      ]
     },
     "metadata": {},
     "output_type": "display_data"
    }
   ],
   "source": [
    "cbar_kws = {\n",
    "    'orientation': 'vertical', \n",
    "    'label': 'Cluster overlap',\n",
    "    'shrink': 0.3,\n",
    "}\n",
    "f = '/cndd/fangming/CEMBA/data/MOp_all/zizhen_integration/mapping_atac_rna.pdf'\n",
    "\n",
    "fig, ax = plt.subplots(figsize=(8,12))\n",
    "_X = overlap #(fill_value=0)\n",
    "_rX, ri, rc = snmcseq_utils.diag_matrix_rows(_X.values, _X.index.values, _X.columns.values)\n",
    "_rX = pd.DataFrame(_rX, index=ri, columns=rc)\n",
    "g = sns.heatmap(_rX, cbar_kws=cbar_kws,\n",
    "                ax=ax, xticklabels=True, yticklabels=True)\n",
    "ax.set_yticklabels(ax.get_yticklabels(), fontsize=8)\n",
    "ax.set_xlabel('{} ATAC clusters'.format(_rX.shape[1]))\n",
    "ax.set_ylabel('{} RNA clusters'.format(_rX.shape[0]))\n",
    "fig.savefig(f)\n",
    "plt.show()\n",
    "\n",
    "overlap_ordered = _rX"
   ]
  },
  {
   "cell_type": "code",
   "execution_count": 261,
   "metadata": {},
   "outputs": [],
   "source": [
    "# for each row, look for the best column\n",
    "\n",
    "f = '/cndd/fangming/CEMBA/data/MOp_all/zizhen_integration/mapping_atac_rna.tsv'\n",
    "_tmp = df_rna_annot.reset_index().set_index('cluster_label').reindex(overlap_ordered.index.values)\n",
    "_tmp['atac_cluster'] = overlap_ordered.columns.values[np.argmax(overlap_ordered.values, axis=1)]\n",
    "_tmp = _tmp.reset_index()\n",
    "_tmp.to_csv(f, sep='\\t', header=True, index=False)"
   ]
  },
  {
   "cell_type": "code",
   "execution_count": null,
   "metadata": {},
   "outputs": [],
   "source": []
  }
 ],
 "metadata": {
  "kernelspec": {
   "display_name": "Python 3",
   "language": "python",
   "name": "python3"
  },
  "language_info": {
   "codemirror_mode": {
    "name": "ipython",
    "version": 3
   },
   "file_extension": ".py",
   "mimetype": "text/x-python",
   "name": "python",
   "nbconvert_exporter": "python",
   "pygments_lexer": "ipython3",
   "version": "3.6.6"
  }
 },
 "nbformat": 4,
 "nbformat_minor": 2
}
