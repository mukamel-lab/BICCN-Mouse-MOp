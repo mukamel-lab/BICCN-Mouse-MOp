{
 "cells": [
  {
   "cell_type": "code",
   "execution_count": 1,
   "metadata": {},
   "outputs": [
    {
     "data": {
      "text/plain": [
       "<module 'CEMBA_preproc_utils' from '/cndd/fangming/CEMBA/snmcseq_dev/CEMBA_preproc_utils.py'>"
      ]
     },
     "execution_count": 1,
     "metadata": {},
     "output_type": "execute_result"
    }
   ],
   "source": [
    "import importlib\n",
    "import sys\n",
    "sys.path.insert(0, '/cndd/fangming/CEMBA/snmcseq_dev')\n",
    "\n",
    "from __init__ import *\n",
    "from __init__jupyterlab import *\n",
    "from scipy import sparse\n",
    "import collections\n",
    "import shutil\n",
    "import subprocess as sp\n",
    "\n",
    "import snmcseq_utils\n",
    "importlib.reload(snmcseq_utils)\n",
    "import CEMBA_preproc_utils\n",
    "importlib.reload(CEMBA_preproc_utils)\n",
    "\n"
   ]
  },
  {
   "cell_type": "markdown",
   "metadata": {},
   "source": [
    "# prep\n",
    "- metadata\n",
    "- hvfeatures (recalculated)\n",
    "- ```__init__datasets.py``` \n",
    "- config.py (somewhere else) "
   ]
  },
  {
   "cell_type": "code",
   "execution_count": 2,
   "metadata": {},
   "outputs": [
    {
     "name": "stderr",
     "output_type": "stream",
     "text": [
      "09/24/2019 09:40:07 AM *\n"
     ]
    }
   ],
   "source": [
    "log = snmcseq_utils.create_logger()\n",
    "logging.info('*')"
   ]
  },
  {
   "cell_type": "code",
   "execution_count": 9,
   "metadata": {},
   "outputs": [],
   "source": [
    "config_dir = '/cndd/fangming/CEMBA/data/MOp_all/data_freeze_neurons/' \n",
    "config_f = 'config_scf_8mods_data_freeze_190917.py' \n",
    "name = 'mop_8mods_0915_k30'\n",
    "# DST_ROOT_DIR = '/cndd/fangming/CEMBA/data/MOp_all/data_freeze_neurons_subtypes_8mods_debug'\n",
    "DST_ROOT_DIR = '/cndd/fangming/CEMBA/data/MOp_all/data_freeze_neurons_subtypes_8mods_round4'\n",
    "\n",
    "# import config and import datasets\n",
    "sys.path.insert(0, config_dir)\n",
    "exec(\"from {} import *\".format(config_f.split('.')[0]))\n",
    "from __init__datasets import *\n",
    "\n",
    "meta_f = '{0}/{1}_metadata.tsv'\n",
    "raw_f = '{0}/{1}_{2}raw.{3}'\n",
    "hvftr_f = '{0}/{1}_hvfeatures.{2}'\n",
    "\n",
    "# 3rd round specific\n",
    "previous_round_summary_results = os.path.join(outdir, 'intg_summary-{}-3-round-clustering.tsv'.format(name))\n",
    "previous_round_cluster_col = 'cluster_round_3'"
   ]
  },
  {
   "cell_type": "code",
   "execution_count": 10,
   "metadata": {},
   "outputs": [
    {
     "name": "stdout",
     "output_type": "stream",
     "text": [
      "(408885, 2)\n"
     ]
    },
    {
     "name": "stderr",
     "output_type": "stream",
     "text": [
      "/cndd/fangming/venvs/conda_dobro/lib/python3.6/site-packages/IPython/core/interactiveshell.py:2728: DtypeWarning: Columns (9) have mixed types. Specify dtype option on import or set low_memory=False.\n",
      "  interactivity=interactivity, compiler=compiler, result=result)\n"
     ]
    },
    {
     "data": {
      "text/html": [
       "<div>\n",
       "<style scoped>\n",
       "    .dataframe tbody tr th:only-of-type {\n",
       "        vertical-align: middle;\n",
       "    }\n",
       "\n",
       "    .dataframe tbody tr th {\n",
       "        vertical-align: top;\n",
       "    }\n",
       "\n",
       "    .dataframe thead th {\n",
       "        text-align: right;\n",
       "    }\n",
       "</style>\n",
       "<table border=\"1\" class=\"dataframe\">\n",
       "  <thead>\n",
       "    <tr style=\"text-align: right;\">\n",
       "      <th></th>\n",
       "      <th>cluster_round_3</th>\n",
       "      <th>modality</th>\n",
       "    </tr>\n",
       "    <tr>\n",
       "      <th>sample</th>\n",
       "      <th></th>\n",
       "      <th></th>\n",
       "    </tr>\n",
       "  </thead>\n",
       "  <tbody>\n",
       "    <tr>\n",
       "      <th>snmcseq_gene_2C_M_0</th>\n",
       "      <td>1-1-1</td>\n",
       "      <td>snmcseq_gene</td>\n",
       "    </tr>\n",
       "    <tr>\n",
       "      <th>snmcseq_gene_2C_M_1</th>\n",
       "      <td>4-2-1</td>\n",
       "      <td>snmcseq_gene</td>\n",
       "    </tr>\n",
       "    <tr>\n",
       "      <th>snmcseq_gene_2C_M_100</th>\n",
       "      <td>4-1-1</td>\n",
       "      <td>snmcseq_gene</td>\n",
       "    </tr>\n",
       "    <tr>\n",
       "      <th>snmcseq_gene_2C_M_1000</th>\n",
       "      <td>4-2-1</td>\n",
       "      <td>snmcseq_gene</td>\n",
       "    </tr>\n",
       "    <tr>\n",
       "      <th>snmcseq_gene_2C_M_1001</th>\n",
       "      <td>4-1-1</td>\n",
       "      <td>snmcseq_gene</td>\n",
       "    </tr>\n",
       "  </tbody>\n",
       "</table>\n",
       "</div>"
      ],
      "text/plain": [
       "                       cluster_round_3      modality\n",
       "sample                                              \n",
       "snmcseq_gene_2C_M_0              1-1-1  snmcseq_gene\n",
       "snmcseq_gene_2C_M_1              4-2-1  snmcseq_gene\n",
       "snmcseq_gene_2C_M_100            4-1-1  snmcseq_gene\n",
       "snmcseq_gene_2C_M_1000           4-2-1  snmcseq_gene\n",
       "snmcseq_gene_2C_M_1001           4-1-1  snmcseq_gene"
      ]
     },
     "execution_count": 10,
     "metadata": {},
     "output_type": "execute_result"
    }
   ],
   "source": [
    "# f = output_clst_and_umap\n",
    "f = previous_round_summary_results # 3rd round specific\n",
    "df_info = pd.read_csv(f, sep=\"\\t\", index_col='sample')[[previous_round_cluster_col, 'modality']] \n",
    "print(df_info.shape)\n",
    "df_info.head()"
   ]
  },
  {
   "cell_type": "code",
   "execution_count": 11,
   "metadata": {},
   "outputs": [
    {
     "name": "stdout",
     "output_type": "stream",
     "text": [
      "snmcseq_gene (9366, 32)\n",
      "snatac_gene (54844, 13)\n"
     ]
    },
    {
     "name": "stderr",
     "output_type": "stream",
     "text": [
      "/cndd/fangming/venvs/conda_dobro/lib/python3.6/site-packages/IPython/core/interactiveshell.py:2728: DtypeWarning: Columns (64) have mixed types. Specify dtype option on import or set low_memory=False.\n",
      "  interactivity=interactivity, compiler=compiler, result=result)\n"
     ]
    },
    {
     "name": "stdout",
     "output_type": "stream",
     "text": [
      "smarter_cells (6244, 129)\n",
      "smarter_nuclei (5911, 146)\n",
      "10x_cells_v2 (121440, 8)\n",
      "10x_cells_v3 (69727, 8)\n",
      "10x_nuclei_v3 (39706, 8)\n",
      "10x_nuclei_v3_macosko (101647, 19)\n"
     ]
    }
   ],
   "source": [
    "metas = collections.OrderedDict()\n",
    "for mod in mods_selected:\n",
    "    metas[mod] = pd.read_csv(meta_f.format(DATA_DIR, mod), sep=\"\\t\").reset_index().set_index(settings[mod].cell_col)\n",
    "    print(mod, metas[mod].shape)"
   ]
  },
  {
   "cell_type": "code",
   "execution_count": 12,
   "metadata": {},
   "outputs": [
    {
     "name": "stderr",
     "output_type": "stream",
     "text": [
      "09/24/2019 09:44:00 AM Read data snmcseq_gene...\n",
      "09/24/2019 09:44:40 AM Read data snatac_gene...\n",
      "09/24/2019 09:44:51 AM Read data smarter_cells...\n",
      "09/24/2019 09:44:56 AM Read data smarter_nuclei...\n",
      "09/24/2019 09:45:00 AM Read data 10x_cells_v2...\n",
      "09/24/2019 09:45:44 AM Read data 10x_cells_v3...\n",
      "09/24/2019 09:46:26 AM Read data 10x_nuclei_v3...\n",
      "09/24/2019 09:46:38 AM Read data 10x_nuclei_v3_macosko...\n"
     ]
    }
   ],
   "source": [
    "gxc_raws = collections.OrderedDict()\n",
    "for mod in mods_selected:\n",
    "    logging.info(\"Read data {}...\".format(mod))\n",
    "    if settings[mod].mod_category == 'mc':\n",
    "        f_gene = raw_f.format(DATA_DIR, mod, '', 'gene')\n",
    "        f_cell = raw_f.format(DATA_DIR, mod, '', 'cell')\n",
    "        f_data_c = raw_f.format(DATA_DIR, mod, 'CH_', 'npz')\n",
    "        f_data_mc = raw_f.format(DATA_DIR, mod, 'mCH_', 'npz')\n",
    "        gxc_raws[mod] = snmcseq_utils.load_gc_matrix_methylation(f_gene, f_cell, f_data_mc, f_data_c)\n",
    "        \n",
    "    else:\n",
    "        f_gene = raw_f.format(DATA_DIR, mod, '', 'gene')\n",
    "        f_cell = raw_f.format(DATA_DIR, mod, '', 'cell')\n",
    "        f_data = raw_f.format(DATA_DIR, mod, '', 'npz')\n",
    "        gxc_raws[mod] = snmcseq_utils.load_gc_matrix(f_gene, f_cell, f_data)\n",
    "        "
   ]
  },
  {
   "cell_type": "code",
   "execution_count": 13,
   "metadata": {},
   "outputs": [
    {
     "name": "stdout",
     "output_type": "stream",
     "text": [
      "gene_id_abbr\n",
      "ENSMUSG00000102693      1069\n",
      "ENSMUSG00000064842       109\n",
      "ENSMUSG00000051951    465597\n",
      "ENSMUSG00000102851       479\n",
      "ENSMUSG00000103377      2818\n",
      "dtype: int64\n"
     ]
    }
   ],
   "source": [
    "normalization_options = {\n",
    "    'smarter_nuclei': 'TPM',\n",
    "    'smarter_cells': 'TPM',\n",
    "    'snatac_gene': 'TPM',\n",
    "    'snmcseq_gene': 'MC',\n",
    "    '10x_nuclei_v3_macosko': 'CPM',\n",
    "    '10x_cells_v3': 'CPM',\n",
    "    '10x_nuclei_v3': 'CPM',\n",
    "    '10x_cells_v2': 'CPM',\n",
    "}\n",
    "\n",
    "# # gene id (abbr) as index\n",
    "gene_annot_file = PATH_GENEBODY_ANNOTATION\n",
    "gene_annot = pd.read_csv(gene_annot_file, sep=\"\\t\")\n",
    "gene_annot['gene_id_abbr'] = gene_annot['gene_id'].apply(lambda x: x.split('.')[0])\n",
    "gene_annot = gene_annot.set_index('gene_id_abbr')\n",
    "\n",
    "gene_lengths_base = (gene_annot['end'] - gene_annot['start'])\n",
    "print(gene_lengths_base.head())"
   ]
  },
  {
   "cell_type": "code",
   "execution_count": 15,
   "metadata": {},
   "outputs": [
    {
     "name": "stderr",
     "output_type": "stream",
     "text": [
      "09/24/2019 09:52:11 AM Prep data...\n"
     ]
    },
    {
     "name": "stdout",
     "output_type": "stream",
     "text": [
      "10x_cells_v2 1-1-1\n",
      "10x_cells_v2 Preproc and get highly variable genes 1.510404109954834\n",
      "Removing low coverage genes...\n",
      "Getting CPM..\n",
      "Getting highly variable genes and logCPM...\n",
      "Number of genes: 3807\n",
      "10x_cells_v2 Saving to files 13.619635581970215\n"
     ]
    },
    {
     "name": "stderr",
     "output_type": "stream",
     "text": [
      "09/24/2019 09:52:58 AM 10x_cells_v2 1-1-1 Total time used: 47.59774136543274\n"
     ]
    },
    {
     "name": "stdout",
     "output_type": "stream",
     "text": [
      "10x_cells_v2 1-2-1\n",
      "10x_cells_v2 Preproc and get highly variable genes 0.8372528553009033\n",
      "Removing low coverage genes...\n",
      "Getting CPM..\n",
      "Getting highly variable genes and logCPM...\n",
      "Number of genes: 3987\n",
      "10x_cells_v2 Saving to files 8.185064554214478\n"
     ]
    },
    {
     "name": "stderr",
     "output_type": "stream",
     "text": [
      "09/24/2019 09:53:22 AM 10x_cells_v2 1-2-1 Total time used: 23.07767963409424\n"
     ]
    },
    {
     "name": "stdout",
     "output_type": "stream",
     "text": [
      "10x_cells_v2 1-2-2\n",
      "10x_cells_v2 Preproc and get highly variable genes 0.20953154563903809\n",
      "Removing low coverage genes...\n",
      "Getting CPM..\n",
      "Getting highly variable genes and logCPM...\n",
      "Number of genes: 4254\n",
      "10x_cells_v2 Saving to files 1.2661988735198975\n"
     ]
    },
    {
     "name": "stderr",
     "output_type": "stream",
     "text": [
      "09/24/2019 09:53:24 AM 10x_cells_v2 1-2-2 Total time used: 2.5490469932556152\n"
     ]
    },
    {
     "name": "stdout",
     "output_type": "stream",
     "text": [
      "10x_cells_v2 10-1-1\n",
      "10x_cells_v2 Preproc and get highly variable genes 0.13364386558532715\n",
      "Removing low coverage genes...\n",
      "Getting CPM..\n",
      "Getting highly variable genes and logCPM...\n",
      "Number of genes: 4086\n",
      "10x_cells_v2 Saving to files 0.5112323760986328\n"
     ]
    },
    {
     "name": "stderr",
     "output_type": "stream",
     "text": [
      "09/24/2019 09:53:25 AM 10x_cells_v2 10-1-1 Total time used: 0.8292281627655029\n"
     ]
    },
    {
     "name": "stdout",
     "output_type": "stream",
     "text": [
      "10x_cells_v2 2-1-1\n",
      "10x_cells_v2 Preproc and get highly variable genes 0.4764378070831299\n",
      "Removing low coverage genes...\n",
      "Getting CPM..\n",
      "Getting highly variable genes and logCPM...\n",
      "Number of genes: 3789\n",
      "10x_cells_v2 Saving to files 3.7424187660217285\n"
     ]
    },
    {
     "name": "stderr",
     "output_type": "stream",
     "text": [
      "09/24/2019 09:53:35 AM 10x_cells_v2 2-1-1 Total time used: 9.59804391860962\n"
     ]
    },
    {
     "name": "stdout",
     "output_type": "stream",
     "text": [
      "10x_cells_v2 2-1-2\n",
      "10x_cells_v2 Preproc and get highly variable genes 0.5143694877624512\n",
      "Removing low coverage genes...\n",
      "Getting CPM..\n",
      "Getting highly variable genes and logCPM...\n",
      "Number of genes: 3912\n",
      "10x_cells_v2 Saving to files 3.5927157402038574\n"
     ]
    },
    {
     "name": "stderr",
     "output_type": "stream",
     "text": [
      "09/24/2019 09:53:43 AM 10x_cells_v2 2-1-2 Total time used: 8.471353530883789\n"
     ]
    },
    {
     "name": "stdout",
     "output_type": "stream",
     "text": [
      "10x_cells_v2 2-2-1\n",
      "10x_cells_v2 Preproc and get highly variable genes 0.7695941925048828\n",
      "Removing low coverage genes...\n",
      "Getting CPM..\n",
      "Getting highly variable genes and logCPM...\n",
      "Number of genes: 3957\n",
      "10x_cells_v2 Saving to files 11.4742751121521\n"
     ]
    },
    {
     "name": "stderr",
     "output_type": "stream",
     "text": [
      "09/24/2019 09:54:08 AM 10x_cells_v2 2-2-1 Total time used: 24.956526041030884\n"
     ]
    },
    {
     "name": "stdout",
     "output_type": "stream",
     "text": [
      "10x_cells_v2 2-2-2\n",
      "10x_cells_v2 Preproc and get highly variable genes 0.1530299186706543\n",
      "Removing low coverage genes...\n",
      "Getting CPM..\n",
      "Getting highly variable genes and logCPM...\n",
      "Number of genes: 3996\n",
      "10x_cells_v2 Saving to files 0.6235454082489014\n"
     ]
    },
    {
     "name": "stderr",
     "output_type": "stream",
     "text": [
      "09/24/2019 09:54:09 AM 10x_cells_v2 2-2-2 Total time used: 1.0491011142730713\n"
     ]
    },
    {
     "name": "stdout",
     "output_type": "stream",
     "text": [
      "10x_cells_v2 2-2-3\n",
      "10x_cells_v2 Preproc and get highly variable genes 0.11528468132019043\n",
      "Removing low coverage genes...\n",
      "Getting CPM..\n",
      "Getting highly variable genes and logCPM...\n",
      "Number of genes: 4014\n",
      "10x_cells_v2 Saving to files 0.3474719524383545\n"
     ]
    },
    {
     "name": "stderr",
     "output_type": "stream",
     "text": [
      "09/24/2019 09:54:10 AM 10x_cells_v2 2-2-3 Total time used: 0.5267815589904785\n"
     ]
    },
    {
     "name": "stdout",
     "output_type": "stream",
     "text": [
      "10x_cells_v2 2-2-4\n",
      "10x_cells_v2 Preproc and get highly variable genes 0.11524200439453125\n",
      "Removing low coverage genes...\n",
      "Getting CPM..\n",
      "Getting highly variable genes and logCPM...\n"
     ]
    },
    {
     "name": "stderr",
     "output_type": "stream",
     "text": [
      "09/24/2019 09:54:10 AM 10x_cells_v2 2-2-4 Total time used: 0.478534460067749\n"
     ]
    },
    {
     "name": "stdout",
     "output_type": "stream",
     "text": [
      "Number of genes: 4152\n",
      "10x_cells_v2 Saving to files 0.3736708164215088\n",
      "10x_cells_v2 2-3-1\n",
      "10x_cells_v2 Preproc and get highly variable genes 0.23739147186279297\n",
      "Removing low coverage genes...\n",
      "Getting CPM..\n",
      "Getting highly variable genes and logCPM...\n",
      "Number of genes: 3933\n",
      "10x_cells_v2 Saving to files 1.5375237464904785\n"
     ]
    },
    {
     "name": "stderr",
     "output_type": "stream",
     "text": [
      "09/24/2019 09:54:13 AM 10x_cells_v2 2-3-1 Total time used: 2.840902328491211\n"
     ]
    },
    {
     "name": "stdout",
     "output_type": "stream",
     "text": [
      "10x_cells_v2 2-3-2\n",
      "10x_cells_v2 Preproc and get highly variable genes 0.14083313941955566\n",
      "Removing low coverage genes...\n",
      "Getting CPM..\n",
      "Getting highly variable genes and logCPM...\n",
      "Number of genes: 3834\n",
      "10x_cells_v2 Saving to files 0.41915106773376465\n"
     ]
    },
    {
     "name": "stderr",
     "output_type": "stream",
     "text": [
      "09/24/2019 09:54:14 AM 10x_cells_v2 2-3-2 Total time used: 0.6669249534606934\n"
     ]
    },
    {
     "name": "stdout",
     "output_type": "stream",
     "text": [
      "10x_cells_v2 2-3-3\n",
      "10x_cells_v2 Preproc and get highly variable genes 0.13269329071044922\n",
      "Removing low coverage genes...\n",
      "Getting CPM..\n",
      "Getting highly variable genes and logCPM...\n",
      "Number of genes: 3834\n",
      "10x_cells_v2 Saving to files 0.3843395709991455\n"
     ]
    },
    {
     "name": "stderr",
     "output_type": "stream",
     "text": [
      "09/24/2019 09:54:14 AM 10x_cells_v2 2-3-3 Total time used: 0.621575117111206\n"
     ]
    },
    {
     "name": "stdout",
     "output_type": "stream",
     "text": [
      "10x_cells_v2 3-1-1\n",
      "10x_cells_v2 Preproc and get highly variable genes 0.6763205528259277\n",
      "Removing low coverage genes...\n",
      "Getting CPM..\n",
      "Getting highly variable genes and logCPM...\n",
      "Number of genes: 4043\n",
      "10x_cells_v2 Saving to files 6.512803792953491\n"
     ]
    },
    {
     "name": "stderr",
     "output_type": "stream",
     "text": [
      "09/24/2019 09:54:33 AM 10x_cells_v2 3-1-1 Total time used: 19.150861740112305\n"
     ]
    },
    {
     "name": "stdout",
     "output_type": "stream",
     "text": [
      "10x_cells_v2 3-1-2\n",
      "10x_cells_v2 Preproc and get highly variable genes 0.30115604400634766\n",
      "Removing low coverage genes...\n",
      "Getting CPM..\n",
      "Getting highly variable genes and logCPM...\n",
      "Number of genes: 4086\n",
      "10x_cells_v2 Saving to files 1.9896011352539062\n"
     ]
    },
    {
     "name": "stderr",
     "output_type": "stream",
     "text": [
      "09/24/2019 09:54:37 AM 10x_cells_v2 3-1-2 Total time used: 3.9581565856933594\n"
     ]
    },
    {
     "name": "stdout",
     "output_type": "stream",
     "text": [
      "10x_cells_v2 3-2-1\n",
      "10x_cells_v2 Preproc and get highly variable genes 0.9143965244293213\n",
      "Removing low coverage genes...\n",
      "Getting CPM..\n",
      "Getting highly variable genes and logCPM...\n",
      "Number of genes: 4107\n",
      "10x_cells_v2 Saving to files 8.415319681167603\n"
     ]
    },
    {
     "name": "stderr",
     "output_type": "stream",
     "text": [
      "09/24/2019 09:54:58 AM 10x_cells_v2 3-2-1 Total time used: 20.619814157485962\n"
     ]
    },
    {
     "name": "stdout",
     "output_type": "stream",
     "text": [
      "10x_cells_v2 3-2-2\n",
      "10x_cells_v2 Preproc and get highly variable genes 0.11498141288757324\n",
      "Removing low coverage genes...\n",
      "Getting CPM..\n",
      "Getting highly variable genes and logCPM...\n"
     ]
    },
    {
     "name": "stderr",
     "output_type": "stream",
     "text": [
      "09/24/2019 09:54:58 AM 10x_cells_v2 3-2-2 Total time used: 0.38915395736694336\n"
     ]
    },
    {
     "name": "stdout",
     "output_type": "stream",
     "text": [
      "Number of genes: 4020\n",
      "10x_cells_v2 Saving to files 0.26660966873168945\n",
      "10x_cells_v2 3-3-1\n",
      "10x_cells_v2 Preproc and get highly variable genes 0.16429734230041504\n",
      "Removing low coverage genes...\n",
      "Getting CPM..\n",
      "Getting highly variable genes and logCPM...\n",
      "Number of genes: 4162\n",
      "10x_cells_v2 Saving to files 0.7324578762054443\n"
     ]
    },
    {
     "name": "stderr",
     "output_type": "stream",
     "text": [
      "09/24/2019 09:55:00 AM 10x_cells_v2 3-3-1 Total time used: 1.527536153793335\n"
     ]
    },
    {
     "name": "stdout",
     "output_type": "stream",
     "text": [
      "10x_cells_v2 4-1-1\n",
      "10x_cells_v2 Preproc and get highly variable genes 0.6756219863891602\n",
      "Removing low coverage genes...\n",
      "Getting CPM..\n",
      "Getting highly variable genes and logCPM...\n",
      "Number of genes: 4086\n",
      "10x_cells_v2 Saving to files 6.141625165939331\n"
     ]
    },
    {
     "name": "stderr",
     "output_type": "stream",
     "text": [
      "09/24/2019 09:55:17 AM 10x_cells_v2 4-1-1 Total time used: 17.580270528793335\n"
     ]
    },
    {
     "name": "stdout",
     "output_type": "stream",
     "text": [
      "10x_cells_v2 4-1-2\n",
      "10x_cells_v2 Preproc and get highly variable genes 0.1363835334777832\n",
      "Removing low coverage genes...\n",
      "Getting CPM..\n",
      "Getting highly variable genes and logCPM...\n",
      "Number of genes: 3942\n",
      "10x_cells_v2 Saving to files 0.3337893486022949\n"
     ]
    },
    {
     "name": "stderr",
     "output_type": "stream",
     "text": [
      "09/24/2019 09:55:18 AM 10x_cells_v2 4-1-2 Total time used: 0.46761274337768555\n"
     ]
    },
    {
     "name": "stdout",
     "output_type": "stream",
     "text": [
      "10x_cells_v2 4-2-1\n",
      "10x_cells_v2 Preproc and get highly variable genes 0.21344351768493652\n",
      "Removing low coverage genes...\n",
      "Getting CPM..\n",
      "Getting highly variable genes and logCPM...\n",
      "Number of genes: 4169\n",
      "10x_cells_v2 Saving to files 1.2754316329956055\n"
     ]
    },
    {
     "name": "stderr",
     "output_type": "stream",
     "text": [
      "09/24/2019 09:55:21 AM 10x_cells_v2 4-2-1 Total time used: 2.740999937057495\n"
     ]
    },
    {
     "name": "stdout",
     "output_type": "stream",
     "text": [
      "10x_cells_v2 4-2-2\n",
      "10x_cells_v2 Preproc and get highly variable genes 0.18739104270935059\n",
      "Removing low coverage genes...\n",
      "Getting CPM..\n",
      "Getting highly variable genes and logCPM...\n",
      "Number of genes: 4005\n",
      "10x_cells_v2 Saving to files 0.9168550968170166\n"
     ]
    },
    {
     "name": "stderr",
     "output_type": "stream",
     "text": [
      "09/24/2019 09:55:22 AM 10x_cells_v2 4-2-2 Total time used: 1.7259671688079834\n"
     ]
    },
    {
     "name": "stdout",
     "output_type": "stream",
     "text": [
      "10x_cells_v2 4-2-3\n",
      "10x_cells_v2 Preproc and get highly variable genes 0.1220088005065918\n",
      "Removing low coverage genes...\n",
      "Getting CPM..\n",
      "Getting highly variable genes and logCPM...\n",
      "Number of genes: 3978\n",
      "10x_cells_v2 Saving to files 0.4749298095703125\n"
     ]
    },
    {
     "name": "stderr",
     "output_type": "stream",
     "text": [
      "09/24/2019 09:55:23 AM 10x_cells_v2 4-2-3 Total time used: 0.684145450592041\n"
     ]
    },
    {
     "name": "stdout",
     "output_type": "stream",
     "text": [
      "10x_cells_v2 5-1-1\n",
      "10x_cells_v2 Preproc and get highly variable genes 0.3380115032196045\n",
      "Removing low coverage genes...\n",
      "Getting CPM..\n",
      "Getting highly variable genes and logCPM...\n",
      "Number of genes: 3771\n",
      "10x_cells_v2 Saving to files 2.729611873626709\n"
     ]
    },
    {
     "name": "stderr",
     "output_type": "stream",
     "text": [
      "09/24/2019 09:55:29 AM 10x_cells_v2 5-1-1 Total time used: 6.19661545753479\n"
     ]
    },
    {
     "name": "stdout",
     "output_type": "stream",
     "text": [
      "10x_cells_v2 5-1-2\n",
      "10x_cells_v2 Preproc and get highly variable genes 0.2062840461730957\n",
      "Removing low coverage genes...\n",
      "Getting CPM..\n",
      "Getting highly variable genes and logCPM...\n",
      "Number of genes: 4050\n",
      "10x_cells_v2 Saving to files 1.213529348373413\n"
     ]
    },
    {
     "name": "stderr",
     "output_type": "stream",
     "text": [
      "09/24/2019 09:55:32 AM 10x_cells_v2 5-1-2 Total time used: 2.4096086025238037\n"
     ]
    },
    {
     "name": "stdout",
     "output_type": "stream",
     "text": [
      "10x_cells_v2 5-2-1\n",
      "10x_cells_v2 Preproc and get highly variable genes 0.2819218635559082\n",
      "Removing low coverage genes...\n",
      "Getting CPM..\n",
      "Getting highly variable genes and logCPM...\n",
      "Number of genes: 3735\n",
      "10x_cells_v2 Saving to files 2.1829729080200195\n"
     ]
    },
    {
     "name": "stderr",
     "output_type": "stream",
     "text": [
      "09/24/2019 09:55:36 AM 10x_cells_v2 5-2-1 Total time used: 4.732985734939575\n"
     ]
    },
    {
     "name": "stdout",
     "output_type": "stream",
     "text": [
      "10x_cells_v2 5-2-2\n",
      "10x_cells_v2 Preproc and get highly variable genes 0.2189486026763916\n",
      "Removing low coverage genes...\n",
      "Getting CPM..\n",
      "Getting highly variable genes and logCPM...\n",
      "Number of genes: 3996\n",
      "10x_cells_v2 Saving to files 1.5696742534637451\n"
     ]
    },
    {
     "name": "stderr",
     "output_type": "stream",
     "text": [
      "09/24/2019 09:55:40 AM 10x_cells_v2 5-2-2 Total time used: 3.1935863494873047\n"
     ]
    },
    {
     "name": "stdout",
     "output_type": "stream",
     "text": [
      "10x_cells_v2 5-2-3\n",
      "10x_cells_v2 Preproc and get highly variable genes 0.15845155715942383\n",
      "Removing low coverage genes...\n",
      "Getting CPM..\n",
      "Getting highly variable genes and logCPM...\n",
      "Number of genes: 4012\n",
      "10x_cells_v2 Saving to files 0.6095421314239502\n"
     ]
    },
    {
     "name": "stderr",
     "output_type": "stream",
     "text": [
      "09/24/2019 09:55:41 AM 10x_cells_v2 5-2-3 Total time used: 1.1993212699890137\n"
     ]
    },
    {
     "name": "stdout",
     "output_type": "stream",
     "text": [
      "10x_cells_v2 5-3-1\n",
      "10x_cells_v2 Preproc and get highly variable genes 0.19806694984436035\n",
      "Removing low coverage genes...\n",
      "Getting CPM..\n",
      "Getting highly variable genes and logCPM...\n",
      "Number of genes: 3969\n",
      "10x_cells_v2 Saving to files 1.7480418682098389\n"
     ]
    },
    {
     "name": "stderr",
     "output_type": "stream",
     "text": [
      "09/24/2019 09:55:45 AM 10x_cells_v2 5-3-1 Total time used: 3.874778985977173\n"
     ]
    },
    {
     "name": "stdout",
     "output_type": "stream",
     "text": [
      "10x_cells_v2 5-3-2\n",
      "10x_cells_v2 Preproc and get highly variable genes 0.1014866828918457\n",
      "Removing low coverage genes...\n",
      "Getting CPM..\n",
      "Getting highly variable genes and logCPM...\n",
      "Number of genes: 3995\n",
      "10x_cells_v2 Saving to files 0.5587441921234131\n"
     ]
    },
    {
     "name": "stderr",
     "output_type": "stream",
     "text": [
      "09/24/2019 09:55:46 AM 10x_cells_v2 5-3-2 Total time used: 0.9616291522979736\n"
     ]
    },
    {
     "name": "stdout",
     "output_type": "stream",
     "text": [
      "10x_cells_v2 5-4-1\n",
      "10x_cells_v2 Preproc and get highly variable genes 0.14563655853271484\n",
      "Removing low coverage genes...\n",
      "Getting CPM..\n",
      "Getting highly variable genes and logCPM...\n",
      "Number of genes: 3852\n",
      "10x_cells_v2 Saving to files 0.5693349838256836\n"
     ]
    },
    {
     "name": "stderr",
     "output_type": "stream",
     "text": [
      "09/24/2019 09:55:47 AM 10x_cells_v2 5-4-1 Total time used: 0.894315242767334\n"
     ]
    },
    {
     "name": "stdout",
     "output_type": "stream",
     "text": [
      "10x_cells_v2 5-5-1\n",
      "10x_cells_v2 Preproc and get highly variable genes 0.13273262977600098\n",
      "Removing low coverage genes...\n",
      "Getting CPM..\n",
      "Getting highly variable genes and logCPM...\n",
      "Number of genes: 3780\n",
      "10x_cells_v2 Saving to files 0.4095141887664795\n"
     ]
    },
    {
     "name": "stderr",
     "output_type": "stream",
     "text": [
      "09/24/2019 09:55:47 AM 10x_cells_v2 5-5-1 Total time used: 0.6021955013275146\n"
     ]
    },
    {
     "name": "stdout",
     "output_type": "stream",
     "text": [
      "10x_cells_v2 6-1-1\n",
      "10x_cells_v2 Preproc and get highly variable genes 0.29487133026123047\n",
      "Removing low coverage genes...\n",
      "Getting CPM..\n",
      "Getting highly variable genes and logCPM...\n",
      "Number of genes: 3600\n",
      "10x_cells_v2 Saving to files 1.7222676277160645\n"
     ]
    },
    {
     "name": "stderr",
     "output_type": "stream",
     "text": [
      "09/24/2019 09:55:51 AM 10x_cells_v2 6-1-1 Total time used: 3.9469351768493652\n"
     ]
    },
    {
     "name": "stdout",
     "output_type": "stream",
     "text": [
      "10x_cells_v2 6-1-2\n",
      "10x_cells_v2 Preproc and get highly variable genes 0.19474506378173828\n",
      "Removing low coverage genes...\n",
      "Getting CPM..\n",
      "Getting highly variable genes and logCPM...\n",
      "Number of genes: 3600\n",
      "10x_cells_v2 Saving to files 0.9676721096038818\n"
     ]
    },
    {
     "name": "stderr",
     "output_type": "stream",
     "text": [
      "09/24/2019 09:55:53 AM 10x_cells_v2 6-1-2 Total time used: 1.7726714611053467\n"
     ]
    },
    {
     "name": "stdout",
     "output_type": "stream",
     "text": [
      "10x_cells_v2 6-2-1\n",
      "10x_cells_v2 Preproc and get highly variable genes 0.38837432861328125\n",
      "Removing low coverage genes...\n",
      "Getting CPM..\n",
      "Getting highly variable genes and logCPM...\n",
      "Number of genes: 3879\n",
      "10x_cells_v2 Saving to files 2.5199055671691895\n"
     ]
    },
    {
     "name": "stderr",
     "output_type": "stream",
     "text": [
      "09/24/2019 09:55:59 AM 10x_cells_v2 6-2-1 Total time used: 5.990283489227295\n"
     ]
    },
    {
     "name": "stdout",
     "output_type": "stream",
     "text": [
      "10x_cells_v2 6-3-1\n",
      "10x_cells_v2 Preproc and get highly variable genes 0.21972894668579102\n",
      "Removing low coverage genes...\n",
      "Getting CPM..\n",
      "Getting highly variable genes and logCPM...\n",
      "Number of genes: 3672\n",
      "10x_cells_v2 Saving to files 0.9434301853179932\n"
     ]
    },
    {
     "name": "stderr",
     "output_type": "stream",
     "text": [
      "09/24/2019 09:56:01 AM 10x_cells_v2 6-3-1 Total time used: 1.8990848064422607\n"
     ]
    },
    {
     "name": "stdout",
     "output_type": "stream",
     "text": [
      "10x_cells_v2 6-3-2\n",
      "10x_cells_v2 Preproc and get highly variable genes 0.18383145332336426\n",
      "Removing low coverage genes...\n",
      "Getting CPM..\n",
      "Getting highly variable genes and logCPM...\n",
      "Number of genes: 3564\n",
      "10x_cells_v2 Saving to files 0.6314435005187988\n"
     ]
    },
    {
     "name": "stderr",
     "output_type": "stream",
     "text": [
      "09/24/2019 09:56:02 AM 10x_cells_v2 6-3-2 Total time used: 1.1521527767181396\n"
     ]
    },
    {
     "name": "stdout",
     "output_type": "stream",
     "text": [
      "10x_cells_v2 6-3-3\n",
      "10x_cells_v2 Preproc and get highly variable genes 0.15720558166503906\n",
      "Removing low coverage genes...\n",
      "Getting CPM..\n",
      "Getting highly variable genes and logCPM...\n",
      "Number of genes: 3582\n",
      "10x_cells_v2 Saving to files 0.5691595077514648\n"
     ]
    },
    {
     "name": "stderr",
     "output_type": "stream",
     "text": [
      "09/24/2019 09:56:03 AM 10x_cells_v2 6-3-3 Total time used: 1.0543849468231201\n"
     ]
    },
    {
     "name": "stdout",
     "output_type": "stream",
     "text": [
      "10x_cells_v2 6-4-1\n",
      "10x_cells_v2 Preproc and get highly variable genes 0.19910621643066406\n",
      "Removing low coverage genes...\n",
      "Getting CPM..\n",
      "Getting highly variable genes and logCPM...\n",
      "Number of genes: 3742\n",
      "10x_cells_v2 Saving to files 0.9136276245117188\n"
     ]
    },
    {
     "name": "stderr",
     "output_type": "stream",
     "text": [
      "09/24/2019 09:56:05 AM 10x_cells_v2 6-4-1 Total time used: 1.8377313613891602\n"
     ]
    },
    {
     "name": "stdout",
     "output_type": "stream",
     "text": [
      "10x_cells_v2 6-4-2\n",
      "10x_cells_v2 Preproc and get highly variable genes 0.1809244155883789\n",
      "Removing low coverage genes...\n",
      "Getting CPM..\n",
      "Getting highly variable genes and logCPM...\n",
      "Number of genes: 3808\n",
      "10x_cells_v2 Saving to files 0.7002458572387695\n"
     ]
    },
    {
     "name": "stderr",
     "output_type": "stream",
     "text": [
      "09/24/2019 09:56:06 AM 10x_cells_v2 6-4-2 Total time used: 1.3680615425109863\n"
     ]
    },
    {
     "name": "stdout",
     "output_type": "stream",
     "text": [
      "10x_cells_v2 6-5-1\n",
      "10x_cells_v2 Preproc and get highly variable genes 0.1804969310760498\n",
      "Removing low coverage genes...\n",
      "Getting CPM..\n",
      "Getting highly variable genes and logCPM...\n",
      "Number of genes: 4053\n",
      "10x_cells_v2 Saving to files 1.0093615055084229\n"
     ]
    },
    {
     "name": "stderr",
     "output_type": "stream",
     "text": [
      "09/24/2019 09:56:08 AM 10x_cells_v2 6-5-1 Total time used: 1.9052133560180664\n"
     ]
    },
    {
     "name": "stdout",
     "output_type": "stream",
     "text": [
      "10x_cells_v2 6-5-2\n",
      "10x_cells_v2 Preproc and get highly variable genes 0.1417696475982666\n",
      "Removing low coverage genes...\n",
      "Getting CPM..\n",
      "Getting highly variable genes and logCPM...\n",
      "Number of genes: 3816\n",
      "10x_cells_v2 Saving to files 0.5458223819732666\n"
     ]
    },
    {
     "name": "stderr",
     "output_type": "stream",
     "text": [
      "09/24/2019 09:56:09 AM 10x_cells_v2 6-5-2 Total time used: 0.9207601547241211\n"
     ]
    },
    {
     "name": "stdout",
     "output_type": "stream",
     "text": [
      "10x_cells_v2 6-5-3\n",
      "10x_cells_v2 Preproc and get highly variable genes 0.1314988136291504\n",
      "Removing low coverage genes...\n",
      "Getting CPM..\n",
      "Getting highly variable genes and logCPM...\n",
      "Number of genes: 3924\n",
      "10x_cells_v2 Saving to files 0.476015567779541\n"
     ]
    },
    {
     "name": "stderr",
     "output_type": "stream",
     "text": [
      "09/24/2019 09:56:10 AM 10x_cells_v2 6-5-3 Total time used: 0.8510935306549072\n"
     ]
    },
    {
     "name": "stdout",
     "output_type": "stream",
     "text": [
      "10x_cells_v2 6-6-1\n",
      "10x_cells_v2 Preproc and get highly variable genes 0.11291646957397461\n",
      "Removing low coverage genes...\n",
      "Getting CPM..\n",
      "Getting highly variable genes and logCPM...\n",
      "Number of genes: 3926\n",
      "10x_cells_v2 Saving to files 0.34824228286743164\n"
     ]
    },
    {
     "name": "stderr",
     "output_type": "stream",
     "text": [
      "09/24/2019 09:56:10 AM 10x_cells_v2 6-6-1 Total time used: 0.567889928817749\n"
     ]
    },
    {
     "name": "stdout",
     "output_type": "stream",
     "text": [
      "10x_cells_v2 7-1-1\n",
      "10x_cells_v2 Preproc and get highly variable genes 0.1911773681640625\n",
      "Removing low coverage genes...\n",
      "Getting CPM..\n",
      "Getting highly variable genes and logCPM...\n",
      "Number of genes: 3870\n",
      "10x_cells_v2 Saving to files 0.913719892501831\n"
     ]
    },
    {
     "name": "stderr",
     "output_type": "stream",
     "text": [
      "09/24/2019 09:56:12 AM 10x_cells_v2 7-1-1 Total time used: 1.7884516716003418\n"
     ]
    },
    {
     "name": "stdout",
     "output_type": "stream",
     "text": [
      "10x_cells_v2 7-1-2\n",
      "10x_cells_v2 Preproc and get highly variable genes 0.1904466152191162\n",
      "Removing low coverage genes...\n",
      "Getting CPM..\n",
      "Getting highly variable genes and logCPM...\n",
      "Number of genes: 3609\n",
      "10x_cells_v2 Saving to files 0.9660930633544922\n"
     ]
    },
    {
     "name": "stderr",
     "output_type": "stream",
     "text": [
      "09/24/2019 09:56:14 AM 10x_cells_v2 7-1-2 Total time used: 2.0097012519836426\n"
     ]
    },
    {
     "name": "stdout",
     "output_type": "stream",
     "text": [
      "10x_cells_v2 7-2-1\n",
      "10x_cells_v2 Preproc and get highly variable genes 0.1556720733642578\n",
      "Removing low coverage genes...\n",
      "Getting CPM..\n",
      "Getting highly variable genes and logCPM...\n",
      "Number of genes: 3870\n",
      "10x_cells_v2 Saving to files 0.545285701751709\n"
     ]
    },
    {
     "name": "stderr",
     "output_type": "stream",
     "text": [
      "09/24/2019 09:56:15 AM 10x_cells_v2 7-2-1 Total time used: 0.9725015163421631\n"
     ]
    },
    {
     "name": "stdout",
     "output_type": "stream",
     "text": [
      "10x_cells_v2 7-2-2\n",
      "10x_cells_v2 Preproc and get highly variable genes 0.13973331451416016\n",
      "Removing low coverage genes...\n",
      "Getting CPM..\n",
      "Getting highly variable genes and logCPM...\n",
      "Number of genes: 3717\n",
      "10x_cells_v2 Saving to files 0.5010166168212891\n"
     ]
    },
    {
     "name": "stderr",
     "output_type": "stream",
     "text": [
      "09/24/2019 09:56:16 AM 10x_cells_v2 7-2-2 Total time used: 0.9060506820678711\n"
     ]
    },
    {
     "name": "stdout",
     "output_type": "stream",
     "text": [
      "10x_cells_v2 8-1-1\n",
      "10x_cells_v2 Preproc and get highly variable genes 0.13851571083068848\n",
      "Removing low coverage genes...\n",
      "Getting CPM..\n",
      "Getting highly variable genes and logCPM...\n",
      "Number of genes: 3915\n",
      "10x_cells_v2 Saving to files 0.5242934226989746\n"
     ]
    },
    {
     "name": "stderr",
     "output_type": "stream",
     "text": [
      "09/24/2019 09:56:17 AM 10x_cells_v2 8-1-1 Total time used: 1.0639328956604004\n"
     ]
    },
    {
     "name": "stdout",
     "output_type": "stream",
     "text": [
      "10x_cells_v2 8-1-2\n",
      "10x_cells_v2 Preproc and get highly variable genes 0.13710713386535645\n",
      "Removing low coverage genes...\n",
      "Getting CPM..\n",
      "Getting highly variable genes and logCPM...\n",
      "Number of genes: 4044\n",
      "10x_cells_v2 Saving to files 0.5528106689453125\n"
     ]
    },
    {
     "name": "stderr",
     "output_type": "stream",
     "text": [
      "09/24/2019 09:56:18 AM 10x_cells_v2 8-1-2 Total time used: 0.9910283088684082\n"
     ]
    },
    {
     "name": "stdout",
     "output_type": "stream",
     "text": [
      "10x_cells_v2 8-2-1\n",
      "10x_cells_v2 Preproc and get highly variable genes 0.17639636993408203\n",
      "Removing low coverage genes...\n",
      "Getting CPM..\n",
      "Getting highly variable genes and logCPM...\n",
      "Number of genes: 3942\n",
      "10x_cells_v2 Saving to files 0.8975191116333008\n"
     ]
    },
    {
     "name": "stderr",
     "output_type": "stream",
     "text": [
      "09/24/2019 09:56:20 AM 10x_cells_v2 8-2-1 Total time used: 1.8075330257415771\n"
     ]
    },
    {
     "name": "stdout",
     "output_type": "stream",
     "text": [
      "10x_cells_v2 8-3-1\n",
      "10x_cells_v2 Preproc and get highly variable genes 0.10419821739196777\n",
      "Removing low coverage genes...\n",
      "Getting CPM..\n",
      "Getting highly variable genes and logCPM...\n"
     ]
    },
    {
     "name": "stderr",
     "output_type": "stream",
     "text": [
      "09/24/2019 09:56:20 AM 10x_cells_v2 8-3-1 Total time used: 0.39400291442871094\n"
     ]
    },
    {
     "name": "stdout",
     "output_type": "stream",
     "text": [
      "Number of genes: 4203\n",
      "10x_cells_v2 Saving to files 0.3193399906158447\n",
      "10x_cells_v2 8-3-2\n",
      "10x_cells_v2 Preproc and get highly variable genes 0.10440874099731445\n",
      "Removing low coverage genes...\n",
      "Getting CPM..\n",
      "Getting highly variable genes and logCPM...\n"
     ]
    },
    {
     "name": "stderr",
     "output_type": "stream",
     "text": [
      "09/24/2019 09:56:21 AM 10x_cells_v2 8-3-2 Total time used: 0.2622828483581543\n"
     ]
    },
    {
     "name": "stdout",
     "output_type": "stream",
     "text": [
      "Number of genes: 3558\n",
      "10x_cells_v2 Saving to files 0.23131561279296875\n",
      "10x_cells_v2 9-1-1\n",
      "10x_cells_v2 Preproc and get highly variable genes 0.12618446350097656\n",
      "Removing low coverage genes...\n",
      "Getting CPM..\n",
      "Getting highly variable genes and logCPM...\n",
      "Number of genes: 4140\n",
      "10x_cells_v2 Saving to files 0.40805959701538086\n"
     ]
    },
    {
     "name": "stderr",
     "output_type": "stream",
     "text": [
      "09/24/2019 09:56:21 AM 10x_cells_v2 9-1-1 Total time used: 0.6568658351898193\n"
     ]
    },
    {
     "name": "stdout",
     "output_type": "stream",
     "text": [
      "10x_cells_v2 9-2-1\n",
      "10x_cells_v2 Preproc and get highly variable genes 0.11363744735717773\n",
      "Removing low coverage genes...\n",
      "Getting CPM..\n",
      "Getting highly variable genes and logCPM...\n",
      "Number of genes: 4077\n",
      "10x_cells_v2 Saving to files 0.31134033203125\n"
     ]
    },
    {
     "name": "stderr",
     "output_type": "stream",
     "text": [
      "09/24/2019 09:56:22 AM 10x_cells_v2 9-2-1 Total time used: 0.4437999725341797\n"
     ]
    },
    {
     "name": "stdout",
     "output_type": "stream",
     "text": [
      "10x_cells_v2 9-2-2\n",
      "10x_cells_v2 Preproc and get highly variable genes 0.1052858829498291\n",
      "Removing low coverage genes...\n",
      "Getting CPM..\n",
      "Getting highly variable genes and logCPM...\n"
     ]
    },
    {
     "name": "stderr",
     "output_type": "stream",
     "text": [
      "09/24/2019 09:56:22 AM 10x_cells_v2 9-2-2 Total time used: 0.3632831573486328\n"
     ]
    },
    {
     "name": "stdout",
     "output_type": "stream",
     "text": [
      "Number of genes: 4405\n",
      "10x_cells_v2 Saving to files 0.2793111801147461\n",
      "10x_cells_v3 1-1-1\n",
      "10x_cells_v3 Preproc and get highly variable genes 1.356771469116211\n",
      "Removing low coverage genes...\n",
      "Getting CPM..\n",
      "Getting highly variable genes and logCPM...\n",
      "Number of genes: 4422\n",
      "10x_cells_v3 Saving to files 18.18135714530945\n"
     ]
    },
    {
     "name": "stderr",
     "output_type": "stream",
     "text": [
      "09/24/2019 09:57:26 AM 10x_cells_v3 1-1-1 Total time used: 63.46108889579773\n"
     ]
    },
    {
     "name": "stdout",
     "output_type": "stream",
     "text": [
      "10x_cells_v3 1-2-1\n",
      "10x_cells_v3 Preproc and get highly variable genes 0.6902716159820557\n",
      "Removing low coverage genes...\n",
      "Getting CPM..\n",
      "Getting highly variable genes and logCPM...\n",
      "Number of genes: 4617\n",
      "10x_cells_v3 Saving to files 8.089688301086426\n"
     ]
    },
    {
     "name": "stderr",
     "output_type": "stream",
     "text": [
      "09/24/2019 09:57:47 AM 10x_cells_v3 1-2-1 Total time used: 21.627182245254517\n"
     ]
    },
    {
     "name": "stdout",
     "output_type": "stream",
     "text": [
      "10x_cells_v3 1-2-2\n",
      "10x_cells_v3 Preproc and get highly variable genes 0.11032986640930176\n",
      "Removing low coverage genes...\n",
      "Getting CPM..\n",
      "Getting highly variable genes and logCPM...\n",
      "Number of genes: 4752\n",
      "10x_cells_v3 Saving to files 0.4748952388763428\n"
     ]
    },
    {
     "name": "stderr",
     "output_type": "stream",
     "text": [
      "09/24/2019 09:57:48 AM 10x_cells_v3 1-2-2 Total time used: 0.9676220417022705\n"
     ]
    },
    {
     "name": "stdout",
     "output_type": "stream",
     "text": [
      "10x_cells_v3 10-1-1\n",
      "10x_cells_v3 Preproc and get highly variable genes 0.09589505195617676\n",
      "Removing low coverage genes...\n",
      "Getting CPM..\n",
      "Getting highly variable genes and logCPM...\n",
      "Number of genes: 4464\n",
      "10x_cells_v3 Saving to files 0.3192763328552246\n"
     ]
    },
    {
     "name": "stderr",
     "output_type": "stream",
     "text": [
      "09/24/2019 09:57:49 AM 10x_cells_v3 10-1-1 Total time used: 0.44847989082336426\n"
     ]
    },
    {
     "name": "stdout",
     "output_type": "stream",
     "text": [
      "10x_cells_v3 2-1-1\n",
      "10x_cells_v3 Preproc and get highly variable genes 0.427844762802124\n",
      "Removing low coverage genes...\n",
      "Getting CPM..\n",
      "Getting highly variable genes and logCPM...\n",
      "Number of genes: 4510\n",
      "10x_cells_v3 Saving to files 3.149963140487671\n"
     ]
    },
    {
     "name": "stderr",
     "output_type": "stream",
     "text": [
      "09/24/2019 09:57:56 AM 10x_cells_v3 2-1-1 Total time used: 7.287139177322388\n"
     ]
    },
    {
     "name": "stdout",
     "output_type": "stream",
     "text": [
      "10x_cells_v3 2-1-2\n",
      "10x_cells_v3 Preproc and get highly variable genes 0.41564321517944336\n",
      "Removing low coverage genes...\n",
      "Getting CPM..\n",
      "Getting highly variable genes and logCPM...\n",
      "Number of genes: 4527\n",
      "10x_cells_v3 Saving to files 4.2037718296051025\n"
     ]
    },
    {
     "name": "stderr",
     "output_type": "stream",
     "text": [
      "09/24/2019 09:58:06 AM 10x_cells_v3 2-1-2 Total time used: 10.033652305603027\n"
     ]
    },
    {
     "name": "stdout",
     "output_type": "stream",
     "text": [
      "10x_cells_v3 2-2-1\n",
      "10x_cells_v3 Preproc and get highly variable genes 0.5572693347930908\n",
      "Removing low coverage genes...\n",
      "Getting CPM..\n",
      "Getting highly variable genes and logCPM...\n",
      "Number of genes: 4552\n",
      "10x_cells_v3 Saving to files 6.175642251968384\n"
     ]
    },
    {
     "name": "stderr",
     "output_type": "stream",
     "text": [
      "09/24/2019 09:58:24 AM 10x_cells_v3 2-2-1 Total time used: 17.53364610671997\n"
     ]
    },
    {
     "name": "stdout",
     "output_type": "stream",
     "text": [
      "10x_cells_v3 2-2-2\n",
      "10x_cells_v3 Preproc and get highly variable genes 0.10652470588684082\n",
      "Removing low coverage genes...\n",
      "Getting CPM..\n",
      "Getting highly variable genes and logCPM...\n"
     ]
    },
    {
     "name": "stderr",
     "output_type": "stream",
     "text": [
      "09/24/2019 09:58:24 AM 10x_cells_v3 2-2-2 Total time used: 0.6125586032867432\n"
     ]
    },
    {
     "name": "stdout",
     "output_type": "stream",
     "text": [
      "Number of genes: 4473\n",
      "10x_cells_v3 Saving to files 0.42577338218688965\n",
      "10x_cells_v3 2-2-3\n",
      "10x_cells_v3 Preproc and get highly variable genes 0.10444498062133789\n",
      "Removing low coverage genes...\n",
      "Getting CPM..\n",
      "Getting highly variable genes and logCPM...\n",
      "Number of genes: 4869\n",
      "10x_cells_v3 Saving to files 0.39288949966430664\n"
     ]
    },
    {
     "name": "stderr",
     "output_type": "stream",
     "text": [
      "09/24/2019 09:58:25 AM 10x_cells_v3 2-2-3 Total time used: 0.6087098121643066\n"
     ]
    },
    {
     "name": "stdout",
     "output_type": "stream",
     "text": [
      "10x_cells_v3 2-2-4\n",
      "10x_cells_v3 Preproc and get highly variable genes 0.11019515991210938\n",
      "Removing low coverage genes...\n",
      "Getting CPM..\n",
      "Getting highly variable genes and logCPM...\n"
     ]
    },
    {
     "name": "stderr",
     "output_type": "stream",
     "text": [
      "09/24/2019 09:58:25 AM 10x_cells_v3 2-2-4 Total time used: 0.39879775047302246\n"
     ]
    },
    {
     "name": "stdout",
     "output_type": "stream",
     "text": [
      "Number of genes: 4482\n",
      "10x_cells_v3 Saving to files 0.31268811225891113\n",
      "10x_cells_v3 2-3-1\n",
      "10x_cells_v3 Preproc and get highly variable genes 0.10219955444335938\n",
      "Removing low coverage genes...\n",
      "Getting CPM..\n",
      "Getting highly variable genes and logCPM...\n",
      "Number of genes: 4504\n",
      "10x_cells_v3 Saving to files 0.7871499061584473\n"
     ]
    },
    {
     "name": "stderr",
     "output_type": "stream",
     "text": [
      "09/24/2019 09:58:27 AM 10x_cells_v3 2-3-1 Total time used: 1.6959941387176514\n"
     ]
    },
    {
     "name": "stdout",
     "output_type": "stream",
     "text": [
      "10x_cells_v3 2-3-2\n",
      "10x_cells_v3 Preproc and get highly variable genes 0.12054562568664551\n",
      "Removing low coverage genes...\n",
      "Getting CPM..\n",
      "Getting highly variable genes and logCPM...\n",
      "Number of genes: 4302\n",
      "10x_cells_v3 Saving to files 0.4641902446746826\n"
     ]
    },
    {
     "name": "stderr",
     "output_type": "stream",
     "text": [
      "09/24/2019 09:58:28 AM 10x_cells_v3 2-3-2 Total time used: 0.7673108577728271\n"
     ]
    },
    {
     "name": "stdout",
     "output_type": "stream",
     "text": [
      "10x_cells_v3 2-3-3\n",
      "10x_cells_v3 Preproc and get highly variable genes 0.08188843727111816\n",
      "Removing low coverage genes...\n",
      "Getting CPM..\n",
      "Getting highly variable genes and logCPM...\n"
     ]
    },
    {
     "name": "stderr",
     "output_type": "stream",
     "text": [
      "09/24/2019 09:58:28 AM 10x_cells_v3 2-3-3 Total time used: 0.2800312042236328\n"
     ]
    },
    {
     "name": "stdout",
     "output_type": "stream",
     "text": [
      "Number of genes: 4178\n",
      "10x_cells_v3 Saving to files 0.23418784141540527\n",
      "10x_cells_v3 3-1-1\n",
      "10x_cells_v3 Preproc and get highly variable genes 0.5520346164703369\n",
      "Removing low coverage genes...\n",
      "Getting CPM..\n",
      "Getting highly variable genes and logCPM...\n",
      "Number of genes: 4680\n",
      "10x_cells_v3 Saving to files 6.210618019104004\n"
     ]
    },
    {
     "name": "stderr",
     "output_type": "stream",
     "text": [
      "09/24/2019 09:58:42 AM 10x_cells_v3 3-1-1 Total time used: 14.150848388671875\n"
     ]
    },
    {
     "name": "stdout",
     "output_type": "stream",
     "text": [
      "10x_cells_v3 3-1-2\n",
      "10x_cells_v3 Preproc and get highly variable genes 0.19640803337097168\n",
      "Removing low coverage genes...\n",
      "Getting CPM..\n",
      "Getting highly variable genes and logCPM...\n",
      "Number of genes: 4591\n",
      "10x_cells_v3 Saving to files 1.3258237838745117\n"
     ]
    },
    {
     "name": "stderr",
     "output_type": "stream",
     "text": [
      "09/24/2019 09:58:45 AM 10x_cells_v3 3-1-2 Total time used: 2.7500572204589844\n"
     ]
    },
    {
     "name": "stdout",
     "output_type": "stream",
     "text": [
      "10x_cells_v3 3-2-1\n",
      "10x_cells_v3 Preproc and get highly variable genes 0.47997140884399414\n",
      "Removing low coverage genes...\n",
      "Getting CPM..\n",
      "Getting highly variable genes and logCPM...\n",
      "Number of genes: 4698\n",
      "10x_cells_v3 Saving to files 5.083954095840454\n"
     ]
    },
    {
     "name": "stderr",
     "output_type": "stream",
     "text": [
      "09/24/2019 09:58:57 AM 10x_cells_v3 3-2-1 Total time used: 12.661363363265991\n"
     ]
    },
    {
     "name": "stdout",
     "output_type": "stream",
     "text": [
      "10x_cells_v3 3-3-1\n",
      "10x_cells_v3 Preproc and get highly variable genes 0.09796285629272461\n",
      "Removing low coverage genes...\n",
      "Getting CPM..\n",
      "Getting highly variable genes and logCPM...\n"
     ]
    },
    {
     "name": "stderr",
     "output_type": "stream",
     "text": [
      "09/24/2019 09:58:58 AM 10x_cells_v3 3-3-1 Total time used: 0.3625349998474121\n"
     ]
    },
    {
     "name": "stdout",
     "output_type": "stream",
     "text": [
      "Number of genes: 4720\n",
      "10x_cells_v3 Saving to files 0.2796008586883545\n",
      "10x_cells_v3 4-1-1\n",
      "10x_cells_v3 Preproc and get highly variable genes 0.816096305847168\n",
      "Removing low coverage genes...\n",
      "Getting CPM..\n",
      "Getting highly variable genes and logCPM...\n",
      "Number of genes: 4725\n",
      "10x_cells_v3 Saving to files 9.62558627128601\n"
     ]
    },
    {
     "name": "stderr",
     "output_type": "stream",
     "text": [
      "09/24/2019 09:59:26 AM 10x_cells_v3 4-1-1 Total time used: 28.15592622756958\n"
     ]
    },
    {
     "name": "stdout",
     "output_type": "stream",
     "text": [
      "10x_cells_v3 4-1-2\n",
      "10x_cells_v3 Preproc and get highly variable genes 0.09009051322937012\n",
      "Removing low coverage genes...\n",
      "Getting CPM..\n",
      "Getting highly variable genes and logCPM...\n"
     ]
    },
    {
     "name": "stderr",
     "output_type": "stream",
     "text": [
      "09/24/2019 09:59:26 AM 10x_cells_v3 4-1-2 Total time used: 0.4021914005279541\n"
     ]
    },
    {
     "name": "stdout",
     "output_type": "stream",
     "text": [
      "Number of genes: 4452\n",
      "10x_cells_v3 Saving to files 0.2772510051727295\n",
      "10x_cells_v3 4-2-1\n",
      "10x_cells_v3 Preproc and get highly variable genes 0.2915995121002197\n",
      "Removing low coverage genes...\n",
      "Getting CPM..\n",
      "Getting highly variable genes and logCPM...\n",
      "Number of genes: 4788\n",
      "10x_cells_v3 Saving to files 3.123873233795166\n"
     ]
    },
    {
     "name": "stderr",
     "output_type": "stream",
     "text": [
      "09/24/2019 09:59:33 AM 10x_cells_v3 4-2-1 Total time used: 6.750837087631226\n"
     ]
    },
    {
     "name": "stdout",
     "output_type": "stream",
     "text": [
      "10x_cells_v3 4-2-2\n",
      "10x_cells_v3 Preproc and get highly variable genes 0.12895464897155762\n",
      "Removing low coverage genes...\n",
      "Getting CPM..\n",
      "Getting highly variable genes and logCPM...\n",
      "Number of genes: 4689\n",
      "10x_cells_v3 Saving to files 0.5802175998687744\n"
     ]
    },
    {
     "name": "stderr",
     "output_type": "stream",
     "text": [
      "09/24/2019 09:59:34 AM 10x_cells_v3 4-2-2 Total time used: 1.0092442035675049\n"
     ]
    },
    {
     "name": "stdout",
     "output_type": "stream",
     "text": [
      "10x_cells_v3 4-2-3\n",
      "10x_cells_v3 Preproc and get highly variable genes 0.10094499588012695\n",
      "Removing low coverage genes...\n",
      "Getting CPM..\n",
      "Getting highly variable genes and logCPM...\n",
      "Number of genes: 4545\n",
      "10x_cells_v3 Saving to files 0.4114251136779785\n"
     ]
    },
    {
     "name": "stderr",
     "output_type": "stream",
     "text": [
      "09/24/2019 09:59:35 AM 10x_cells_v3 4-2-3 Total time used: 0.6807668209075928\n"
     ]
    },
    {
     "name": "stdout",
     "output_type": "stream",
     "text": [
      "10x_cells_v3 5-1-1\n",
      "10x_cells_v3 Preproc and get highly variable genes 0.10361504554748535\n",
      "Removing low coverage genes...\n",
      "Getting CPM..\n",
      "Getting highly variable genes and logCPM...\n",
      "Number of genes: 4483\n",
      "10x_cells_v3 Saving to files 0.4304511547088623\n"
     ]
    },
    {
     "name": "stderr",
     "output_type": "stream",
     "text": [
      "09/24/2019 09:59:36 AM 10x_cells_v3 5-1-1 Total time used: 0.6916484832763672\n"
     ]
    },
    {
     "name": "stdout",
     "output_type": "stream",
     "text": [
      "10x_cells_v3 5-1-2\n",
      "10x_cells_v3 Preproc and get highly variable genes 0.08617806434631348\n",
      "Removing low coverage genes...\n",
      "Getting CPM..\n",
      "Getting highly variable genes and logCPM...\n"
     ]
    },
    {
     "name": "stderr",
     "output_type": "stream",
     "text": [
      "09/24/2019 09:59:36 AM 10x_cells_v3 5-1-2 Total time used: 0.338515043258667\n"
     ]
    },
    {
     "name": "stdout",
     "output_type": "stream",
     "text": [
      "Number of genes: 4684\n",
      "10x_cells_v3 Saving to files 0.26714086532592773\n",
      "10x_cells_v3 5-2-1\n",
      "10x_cells_v3 Preproc and get highly variable genes 0.12497329711914062\n",
      "Removing low coverage genes...\n",
      "Getting CPM..\n",
      "Getting highly variable genes and logCPM...\n",
      "Number of genes: 4392\n",
      "10x_cells_v3 Saving to files 0.673332929611206\n"
     ]
    },
    {
     "name": "stderr",
     "output_type": "stream",
     "text": [
      "09/24/2019 09:59:37 AM 10x_cells_v3 5-2-1 Total time used: 1.3074779510498047\n"
     ]
    },
    {
     "name": "stdout",
     "output_type": "stream",
     "text": [
      "10x_cells_v3 5-2-2\n",
      "10x_cells_v3 Preproc and get highly variable genes 0.12709450721740723\n",
      "Removing low coverage genes...\n",
      "Getting CPM..\n",
      "Getting highly variable genes and logCPM...\n",
      "Number of genes: 4591\n",
      "10x_cells_v3 Saving to files 0.7102875709533691\n"
     ]
    },
    {
     "name": "stderr",
     "output_type": "stream",
     "text": [
      "09/24/2019 09:59:39 AM 10x_cells_v3 5-2-2 Total time used: 1.4915430545806885\n"
     ]
    },
    {
     "name": "stdout",
     "output_type": "stream",
     "text": [
      "10x_cells_v3 5-2-3\n",
      "10x_cells_v3 Preproc and get highly variable genes 0.09893488883972168\n",
      "Removing low coverage genes...\n",
      "Getting CPM..\n",
      "Getting highly variable genes and logCPM...\n",
      "Number of genes: 4680\n",
      "10x_cells_v3 Saving to files 0.3711247444152832\n"
     ]
    },
    {
     "name": "stderr",
     "output_type": "stream",
     "text": [
      "09/24/2019 09:59:39 AM 10x_cells_v3 5-2-3 Total time used: 0.5613517761230469\n"
     ]
    },
    {
     "name": "stdout",
     "output_type": "stream",
     "text": [
      "10x_cells_v3 5-3-1\n",
      "10x_cells_v3 Preproc and get highly variable genes 0.11205577850341797\n",
      "Removing low coverage genes...\n",
      "Getting CPM..\n",
      "Getting highly variable genes and logCPM...\n",
      "Number of genes: 4545\n",
      "10x_cells_v3 Saving to files 0.5163822174072266\n"
     ]
    },
    {
     "name": "stderr",
     "output_type": "stream",
     "text": [
      "09/24/2019 09:59:40 AM 10x_cells_v3 5-3-1 Total time used: 0.9124901294708252\n"
     ]
    },
    {
     "name": "stdout",
     "output_type": "stream",
     "text": [
      "10x_cells_v3 5-3-2\n",
      "10x_cells_v3 Preproc and get highly variable genes 0.09448933601379395\n",
      "Removing low coverage genes...\n",
      "Getting CPM..\n",
      "Getting highly variable genes and logCPM...\n",
      "Number of genes: 4572\n",
      "10x_cells_v3 Saving to files 0.3484482765197754\n"
     ]
    },
    {
     "name": "stderr",
     "output_type": "stream",
     "text": [
      "09/24/2019 09:59:41 AM 10x_cells_v3 5-3-2 Total time used: 0.6222875118255615\n"
     ]
    },
    {
     "name": "stdout",
     "output_type": "stream",
     "text": [
      "10x_cells_v3 5-4-1\n",
      "10x_cells_v3 Preproc and get highly variable genes 0.0836935043334961\n",
      "Removing low coverage genes...\n",
      "Getting CPM..\n",
      "Getting highly variable genes and logCPM...\n"
     ]
    },
    {
     "name": "stderr",
     "output_type": "stream",
     "text": [
      "09/24/2019 09:59:41 AM 10x_cells_v3 5-4-1 Total time used: 0.3812563419342041\n"
     ]
    },
    {
     "name": "stdout",
     "output_type": "stream",
     "text": [
      "Number of genes: 4665\n",
      "10x_cells_v3 Saving to files 0.2917978763580322\n",
      "10x_cells_v3 5-5-1\n",
      "10x_cells_v3 Preproc and get highly variable genes 0.08225107192993164\n",
      "Removing low coverage genes...\n"
     ]
    },
    {
     "name": "stderr",
     "output_type": "stream",
     "text": [
      "09/24/2019 09:59:41 AM 10x_cells_v3 5-5-1 Total time used: 0.2844700813293457\n"
     ]
    },
    {
     "name": "stdout",
     "output_type": "stream",
     "text": [
      "Getting CPM..\n",
      "Getting highly variable genes and logCPM...\n",
      "Number of genes: 4189\n",
      "10x_cells_v3 Saving to files 0.23786497116088867\n",
      "10x_cells_v3 6-1-1\n",
      "10x_cells_v3 Preproc and get highly variable genes 0.1779928207397461\n",
      "Removing low coverage genes...\n",
      "Getting CPM..\n",
      "Getting highly variable genes and logCPM...\n",
      "Number of genes: 4267\n",
      "10x_cells_v3 Saving to files 1.0569648742675781\n"
     ]
    },
    {
     "name": "stderr",
     "output_type": "stream",
     "text": [
      "09/24/2019 09:59:44 AM 10x_cells_v3 6-1-1 Total time used: 2.18247127532959\n"
     ]
    },
    {
     "name": "stdout",
     "output_type": "stream",
     "text": [
      "10x_cells_v3 6-1-2\n",
      "10x_cells_v3 Preproc and get highly variable genes 0.12309503555297852\n",
      "Removing low coverage genes...\n",
      "Getting CPM..\n",
      "Getting highly variable genes and logCPM...\n",
      "Number of genes: 4258\n",
      "10x_cells_v3 Saving to files 0.7066893577575684\n"
     ]
    },
    {
     "name": "stderr",
     "output_type": "stream",
     "text": [
      "09/24/2019 09:59:45 AM 10x_cells_v3 6-1-2 Total time used: 1.2748162746429443\n"
     ]
    },
    {
     "name": "stdout",
     "output_type": "stream",
     "text": [
      "10x_cells_v3 6-2-1\n",
      "10x_cells_v3 Preproc and get highly variable genes 0.23520684242248535\n",
      "Removing low coverage genes...\n",
      "Getting CPM..\n",
      "Getting highly variable genes and logCPM...\n",
      "Number of genes: 4563\n",
      "10x_cells_v3 Saving to files 1.7972784042358398\n"
     ]
    },
    {
     "name": "stderr",
     "output_type": "stream",
     "text": [
      "09/24/2019 09:59:49 AM 10x_cells_v3 6-2-1 Total time used: 3.927590847015381\n"
     ]
    },
    {
     "name": "stdout",
     "output_type": "stream",
     "text": [
      "10x_cells_v3 6-3-1\n",
      "10x_cells_v3 Preproc and get highly variable genes 0.13714861869812012\n",
      "Removing low coverage genes...\n",
      "Getting CPM..\n",
      "Getting highly variable genes and logCPM...\n",
      "Number of genes: 4419\n",
      "10x_cells_v3 Saving to files 0.6884799003601074\n"
     ]
    },
    {
     "name": "stderr",
     "output_type": "stream",
     "text": [
      "09/24/2019 09:59:50 AM 10x_cells_v3 6-3-1 Total time used: 1.2991547584533691\n"
     ]
    },
    {
     "name": "stdout",
     "output_type": "stream",
     "text": [
      "10x_cells_v3 6-3-2\n",
      "10x_cells_v3 Preproc and get highly variable genes 0.11879944801330566\n",
      "Removing low coverage genes...\n",
      "Getting CPM..\n",
      "Getting highly variable genes and logCPM...\n",
      "Number of genes: 4239\n",
      "10x_cells_v3 Saving to files 0.5212318897247314\n"
     ]
    },
    {
     "name": "stderr",
     "output_type": "stream",
     "text": [
      "09/24/2019 09:59:51 AM 10x_cells_v3 6-3-2 Total time used: 0.9625866413116455\n"
     ]
    },
    {
     "name": "stdout",
     "output_type": "stream",
     "text": [
      "10x_cells_v3 6-3-3\n",
      "10x_cells_v3 Preproc and get highly variable genes 0.09968209266662598\n",
      "Removing low coverage genes...\n",
      "Getting CPM..\n",
      "Getting highly variable genes and logCPM...\n",
      "Number of genes: 4221\n",
      "10x_cells_v3 Saving to files 0.3555173873901367\n"
     ]
    },
    {
     "name": "stderr",
     "output_type": "stream",
     "text": [
      "09/24/2019 09:59:52 AM 10x_cells_v3 6-3-3 Total time used: 0.5652129650115967\n"
     ]
    },
    {
     "name": "stdout",
     "output_type": "stream",
     "text": [
      "10x_cells_v3 6-4-1\n",
      "10x_cells_v3 Preproc and get highly variable genes 0.12443399429321289\n",
      "Removing low coverage genes...\n",
      "Getting CPM..\n",
      "Getting highly variable genes and logCPM...\n",
      "Number of genes: 4378\n",
      "10x_cells_v3 Saving to files 0.5983493328094482\n"
     ]
    },
    {
     "name": "stderr",
     "output_type": "stream",
     "text": [
      "09/24/2019 09:59:53 AM 10x_cells_v3 6-4-1 Total time used: 1.1855370998382568\n"
     ]
    },
    {
     "name": "stdout",
     "output_type": "stream",
     "text": [
      "10x_cells_v3 6-4-2\n",
      "10x_cells_v3 Preproc and get highly variable genes 0.11051225662231445\n",
      "Removing low coverage genes...\n",
      "Getting CPM..\n",
      "Getting highly variable genes and logCPM...\n",
      "Number of genes: 4401\n",
      "10x_cells_v3 Saving to files 0.4687938690185547\n"
     ]
    },
    {
     "name": "stderr",
     "output_type": "stream",
     "text": [
      "09/24/2019 09:59:54 AM 10x_cells_v3 6-4-2 Total time used: 0.8732457160949707\n"
     ]
    },
    {
     "name": "stdout",
     "output_type": "stream",
     "text": [
      "10x_cells_v3 6-5-1\n",
      "10x_cells_v3 Preproc and get highly variable genes 0.09515118598937988\n",
      "Removing low coverage genes...\n",
      "Getting CPM..\n",
      "Getting highly variable genes and logCPM...\n",
      "Number of genes: 4662\n",
      "10x_cells_v3 Saving to files 0.35485076904296875\n"
     ]
    },
    {
     "name": "stderr",
     "output_type": "stream",
     "text": [
      "09/24/2019 09:59:54 AM 10x_cells_v3 6-5-1 Total time used: 0.5396904945373535\n"
     ]
    },
    {
     "name": "stdout",
     "output_type": "stream",
     "text": [
      "10x_cells_v3 6-5-2\n",
      "10x_cells_v3 Preproc and get highly variable genes 0.09383845329284668\n",
      "Removing low coverage genes...\n",
      "Getting CPM..\n",
      "Getting highly variable genes and logCPM...\n"
     ]
    },
    {
     "name": "stderr",
     "output_type": "stream",
     "text": [
      "09/24/2019 09:59:55 AM 10x_cells_v3 6-5-2 Total time used: 0.3452267646789551\n"
     ]
    },
    {
     "name": "stdout",
     "output_type": "stream",
     "text": [
      "Number of genes: 4552\n",
      "10x_cells_v3 Saving to files 0.26673293113708496\n",
      "10x_cells_v3 6-5-3\n",
      "10x_cells_v3 Preproc and get highly variable genes 0.09051728248596191\n",
      "Removing low coverage genes...\n",
      "Getting CPM..\n",
      "Getting highly variable genes and logCPM...\n",
      "Number of genes: 4383\n",
      "10x_cells_v3 Saving to files 0.29831409454345703\n"
     ]
    },
    {
     "name": "stderr",
     "output_type": "stream",
     "text": [
      "09/24/2019 09:59:55 AM 10x_cells_v3 6-5-3 Total time used: 0.4225747585296631\n"
     ]
    },
    {
     "name": "stdout",
     "output_type": "stream",
     "text": [
      "10x_cells_v3 6-6-1\n",
      "10x_cells_v3 Preproc and get highly variable genes 0.08205366134643555\n",
      "Removing low coverage genes...\n",
      "Getting CPM..\n",
      "Getting highly variable genes and logCPM...\n"
     ]
    },
    {
     "name": "stderr",
     "output_type": "stream",
     "text": [
      "09/24/2019 09:59:55 AM 10x_cells_v3 6-6-1 Total time used: 0.2847576141357422\n"
     ]
    },
    {
     "name": "stdout",
     "output_type": "stream",
     "text": [
      "Number of genes: 4169\n",
      "10x_cells_v3 Saving to files 0.23869943618774414\n",
      "10x_cells_v3 7-1-1\n",
      "10x_cells_v3 Preproc and get highly variable genes 0.19513392448425293\n",
      "Removing low coverage genes...\n",
      "Getting CPM..\n",
      "Getting highly variable genes and logCPM...\n",
      "Number of genes: 4356\n",
      "10x_cells_v3 Saving to files 1.2804186344146729\n"
     ]
    },
    {
     "name": "stderr",
     "output_type": "stream",
     "text": [
      "09/24/2019 09:59:58 AM 10x_cells_v3 7-1-1 Total time used: 2.6624178886413574\n"
     ]
    },
    {
     "name": "stdout",
     "output_type": "stream",
     "text": [
      "10x_cells_v3 7-1-2\n",
      "10x_cells_v3 Preproc and get highly variable genes 0.15072202682495117\n",
      "Removing low coverage genes...\n",
      "Getting CPM..\n",
      "Getting highly variable genes and logCPM...\n",
      "Number of genes: 4338\n",
      "10x_cells_v3 Saving to files 0.6740620136260986\n"
     ]
    },
    {
     "name": "stderr",
     "output_type": "stream",
     "text": [
      "09/24/2019 09:59:59 AM 10x_cells_v3 7-1-2 Total time used: 1.2798867225646973\n"
     ]
    },
    {
     "name": "stdout",
     "output_type": "stream",
     "text": [
      "10x_cells_v3 7-2-1\n",
      "10x_cells_v3 Preproc and get highly variable genes 0.1551821231842041\n",
      "Removing low coverage genes...\n",
      "Getting CPM..\n",
      "Getting highly variable genes and logCPM...\n",
      "Number of genes: 4420\n",
      "10x_cells_v3 Saving to files 0.8909995555877686\n"
     ]
    },
    {
     "name": "stderr",
     "output_type": "stream",
     "text": [
      "09/24/2019 10:00:01 AM 10x_cells_v3 7-2-1 Total time used: 1.7444984912872314\n"
     ]
    },
    {
     "name": "stdout",
     "output_type": "stream",
     "text": [
      "10x_cells_v3 7-2-2\n",
      "10x_cells_v3 Preproc and get highly variable genes 0.1443946361541748\n",
      "Removing low coverage genes...\n",
      "Getting CPM..\n",
      "Getting highly variable genes and logCPM...\n",
      "Number of genes: 4426\n",
      "10x_cells_v3 Saving to files 0.7700495719909668\n"
     ]
    },
    {
     "name": "stderr",
     "output_type": "stream",
     "text": [
      "09/24/2019 10:00:03 AM 10x_cells_v3 7-2-2 Total time used: 1.4941909313201904\n"
     ]
    },
    {
     "name": "stdout",
     "output_type": "stream",
     "text": [
      "10x_cells_v3 8-1-1\n",
      "10x_cells_v3 Preproc and get highly variable genes 0.09021401405334473\n",
      "Removing low coverage genes...\n",
      "Getting CPM..\n",
      "Getting highly variable genes and logCPM...\n",
      "Number of genes: 4332\n",
      "10x_cells_v3 Saving to files 0.30345749855041504\n"
     ]
    },
    {
     "name": "stderr",
     "output_type": "stream",
     "text": [
      "09/24/2019 10:00:03 AM 10x_cells_v3 8-1-1 Total time used: 0.5301384925842285\n"
     ]
    },
    {
     "name": "stdout",
     "output_type": "stream",
     "text": [
      "10x_cells_v3 8-1-2\n",
      "10x_cells_v3 Preproc and get highly variable genes 0.083038330078125\n",
      "Removing low coverage genes...\n",
      "Getting CPM..\n",
      "Getting highly variable genes and logCPM...\n"
     ]
    },
    {
     "name": "stderr",
     "output_type": "stream",
     "text": [
      "09/24/2019 10:00:04 AM 10x_cells_v3 8-1-2 Total time used: 0.4253997802734375\n"
     ]
    },
    {
     "name": "stdout",
     "output_type": "stream",
     "text": [
      "Number of genes: 4373\n",
      "10x_cells_v3 Saving to files 0.29416537284851074\n",
      "10x_cells_v3 8-2-1\n",
      "10x_cells_v3 Preproc and get highly variable genes 0.09293103218078613\n",
      "Removing low coverage genes...\n",
      "Getting CPM..\n",
      "Getting highly variable genes and logCPM...\n"
     ]
    },
    {
     "name": "stderr",
     "output_type": "stream",
     "text": [
      "09/24/2019 10:00:04 AM 10x_cells_v3 8-2-1 Total time used: 0.6734874248504639\n"
     ]
    },
    {
     "name": "stdout",
     "output_type": "stream",
     "text": [
      "Number of genes: 4626\n",
      "10x_cells_v3 Saving to files 0.48473620414733887\n",
      "10x_cells_v3 8-3-1\n"
     ]
    },
    {
     "name": "stderr",
     "output_type": "stream",
     "text": [
      "09/24/2019 10:00:04 AM 10x_cells_v3 8-3-1 Total time used: 0.25025439262390137\n"
     ]
    },
    {
     "name": "stdout",
     "output_type": "stream",
     "text": [
      "10x_cells_v3 Preproc and get highly variable genes 0.07982110977172852\n",
      "Removing low coverage genes...\n",
      "Getting CPM..\n",
      "Getting highly variable genes and logCPM...\n",
      "Number of genes: 4126\n",
      "10x_cells_v3 Saving to files 0.21834325790405273\n",
      "10x_cells_v3 8-3-2\n"
     ]
    },
    {
     "name": "stderr",
     "output_type": "stream",
     "text": [
      "09/24/2019 10:00:05 AM 10x_cells_v3 8-3-2 Total time used: 0.22977232933044434\n"
     ]
    },
    {
     "name": "stdout",
     "output_type": "stream",
     "text": [
      "10x_cells_v3 Preproc and get highly variable genes 0.08310747146606445\n",
      "Removing low coverage genes...\n",
      "Getting CPM..\n",
      "Getting highly variable genes and logCPM...\n",
      "Number of genes: 2886\n",
      "10x_cells_v3 Saving to files 0.2040395736694336\n",
      "10x_cells_v3 9-1-1\n",
      "10x_cells_v3 Preproc and get highly variable genes 0.09030604362487793\n",
      "Removing low coverage genes...\n",
      "Getting CPM..\n",
      "Getting highly variable genes and logCPM...\n"
     ]
    },
    {
     "name": "stderr",
     "output_type": "stream",
     "text": [
      "09/24/2019 10:00:05 AM 10x_cells_v3 9-1-1 Total time used: 0.4846804141998291\n"
     ]
    },
    {
     "name": "stdout",
     "output_type": "stream",
     "text": [
      "Number of genes: 4653\n",
      "10x_cells_v3 Saving to files 0.31287431716918945\n",
      "10x_cells_v3 9-2-1\n",
      "10x_cells_v3 Preproc and get highly variable genes 0.08265209197998047\n",
      "Removing low coverage genes...\n",
      "Getting CPM..\n",
      "Getting highly variable genes and logCPM...\n",
      "Number of genes: 4496\n",
      "10x_cells_v3 Saving to files 0.2453596591949463\n"
     ]
    },
    {
     "name": "stderr",
     "output_type": "stream",
     "text": [
      "09/24/2019 10:00:05 AM 10x_cells_v3 9-2-1 Total time used: 0.3104889392852783\n"
     ]
    },
    {
     "name": "stdout",
     "output_type": "stream",
     "text": [
      "10x_cells_v3 9-2-2\n",
      "10x_cells_v3 Preproc and get highly variable genes 0.08825540542602539\n",
      "Removing low coverage genes...\n",
      "Getting CPM..\n",
      "Getting highly variable genes and logCPM...\n"
     ]
    },
    {
     "name": "stderr",
     "output_type": "stream",
     "text": [
      "09/24/2019 10:00:06 AM 10x_cells_v3 9-2-2 Total time used: 0.27016568183898926\n"
     ]
    },
    {
     "name": "stdout",
     "output_type": "stream",
     "text": [
      "Number of genes: 3308\n",
      "10x_cells_v3 Saving to files 0.23961591720581055\n",
      "10x_nuclei_v3 1-1-1\n",
      "10x_nuclei_v3 Preproc and get highly variable genes 0.38512158393859863\n",
      "Removing low coverage genes...\n",
      "Getting CPM..\n",
      "Getting highly variable genes and logCPM...\n",
      "Number of genes: 3973\n",
      "10x_nuclei_v3 Saving to files 3.3174891471862793\n"
     ]
    },
    {
     "name": "stderr",
     "output_type": "stream",
     "text": [
      "09/24/2019 10:00:14 AM 10x_nuclei_v3 1-1-1 Total time used: 8.387852907180786\n"
     ]
    },
    {
     "name": "stdout",
     "output_type": "stream",
     "text": [
      "10x_nuclei_v3 1-2-1\n",
      "10x_nuclei_v3 Preproc and get highly variable genes 0.2355632781982422\n",
      "Removing low coverage genes...\n",
      "Getting CPM..\n",
      "Getting highly variable genes and logCPM...\n",
      "Number of genes: 4095\n",
      "10x_nuclei_v3 Saving to files 1.4047696590423584\n"
     ]
    },
    {
     "name": "stderr",
     "output_type": "stream",
     "text": [
      "09/24/2019 10:00:17 AM 10x_nuclei_v3 1-2-1 Total time used: 3.022719621658325\n"
     ]
    },
    {
     "name": "stdout",
     "output_type": "stream",
     "text": [
      "10x_nuclei_v3 1-2-2\n",
      "10x_nuclei_v3 Preproc and get highly variable genes 0.07454538345336914\n",
      "Removing low coverage genes...\n",
      "Getting CPM..\n",
      "Getting highly variable genes and logCPM...\n",
      "Number of genes: 3057\n",
      "10x_nuclei_v3 Saving to files 0.19390344619750977\n"
     ]
    },
    {
     "name": "stderr",
     "output_type": "stream",
     "text": [
      "09/24/2019 10:00:17 AM 10x_nuclei_v3 1-2-2 Total time used: 0.22664332389831543\n"
     ]
    },
    {
     "name": "stdout",
     "output_type": "stream",
     "text": [
      "10x_nuclei_v3 10-1-1\n",
      "10x_nuclei_v3 Preproc and get highly variable genes 0.0741422176361084\n",
      "Removing low coverage genes...\n",
      "Getting CPM..\n",
      "Getting highly variable genes and logCPM...\n"
     ]
    },
    {
     "name": "stderr",
     "output_type": "stream",
     "text": [
      "09/24/2019 10:00:18 AM 10x_nuclei_v3 10-1-1 Total time used: 0.33939671516418457\n"
     ]
    },
    {
     "name": "stdout",
     "output_type": "stream",
     "text": [
      "Number of genes: 4234\n",
      "10x_nuclei_v3 Saving to files 0.25866150856018066\n",
      "10x_nuclei_v3 2-1-1\n",
      "10x_nuclei_v3 Preproc and get highly variable genes 0.289870023727417\n",
      "Removing low coverage genes...\n",
      "Getting CPM..\n",
      "Getting highly variable genes and logCPM...\n",
      "Number of genes: 3925\n",
      "10x_nuclei_v3 Saving to files 2.0195016860961914\n"
     ]
    },
    {
     "name": "stderr",
     "output_type": "stream",
     "text": [
      "09/24/2019 10:00:22 AM 10x_nuclei_v3 2-1-1 Total time used: 4.545473575592041\n"
     ]
    },
    {
     "name": "stdout",
     "output_type": "stream",
     "text": [
      "10x_nuclei_v3 2-1-2\n",
      "10x_nuclei_v3 Preproc and get highly variable genes 0.22275853157043457\n",
      "Removing low coverage genes...\n",
      "Getting CPM..\n",
      "Getting highly variable genes and logCPM...\n",
      "Number of genes: 3996\n",
      "10x_nuclei_v3 Saving to files 1.7583518028259277\n"
     ]
    },
    {
     "name": "stderr",
     "output_type": "stream",
     "text": [
      "09/24/2019 10:00:26 AM 10x_nuclei_v3 2-1-2 Total time used: 3.563401460647583\n"
     ]
    },
    {
     "name": "stdout",
     "output_type": "stream",
     "text": [
      "10x_nuclei_v3 2-2-1\n",
      "10x_nuclei_v3 Preproc and get highly variable genes 0.21830248832702637\n",
      "Removing low coverage genes...\n",
      "Getting CPM..\n",
      "Getting highly variable genes and logCPM...\n",
      "Number of genes: 3933\n",
      "10x_nuclei_v3 Saving to files 1.146775484085083\n"
     ]
    },
    {
     "name": "stderr",
     "output_type": "stream",
     "text": [
      "09/24/2019 10:00:29 AM 10x_nuclei_v3 2-2-1 Total time used: 2.685260772705078\n"
     ]
    },
    {
     "name": "stdout",
     "output_type": "stream",
     "text": [
      "10x_nuclei_v3 2-2-2\n",
      "10x_nuclei_v3 Preproc and get highly variable genes 0.08540558815002441\n",
      "Removing low coverage genes...\n",
      "Getting CPM..\n",
      "Getting highly variable genes and logCPM...\n"
     ]
    },
    {
     "name": "stderr",
     "output_type": "stream",
     "text": [
      "09/24/2019 10:00:29 AM 10x_nuclei_v3 2-2-2 Total time used: 0.35146069526672363\n"
     ]
    },
    {
     "name": "stdout",
     "output_type": "stream",
     "text": [
      "Number of genes: 3708\n",
      "10x_nuclei_v3 Saving to files 0.24117040634155273\n",
      "10x_nuclei_v3 2-2-3\n",
      "10x_nuclei_v3 Preproc and get highly variable genes 0.07559418678283691\n",
      "Removing low coverage genes...\n"
     ]
    },
    {
     "name": "stderr",
     "output_type": "stream",
     "text": [
      "09/24/2019 10:00:29 AM 10x_nuclei_v3 2-2-3 Total time used: 0.2441720962524414\n"
     ]
    },
    {
     "name": "stdout",
     "output_type": "stream",
     "text": [
      "Getting CPM..\n",
      "Getting highly variable genes and logCPM...\n",
      "Number of genes: 3736\n",
      "10x_nuclei_v3 Saving to files 0.21204543113708496\n",
      "10x_nuclei_v3 2-2-4\n"
     ]
    },
    {
     "name": "stderr",
     "output_type": "stream",
     "text": [
      "09/24/2019 10:00:29 AM 10x_nuclei_v3 2-2-4 Total time used: 0.18213319778442383\n"
     ]
    },
    {
     "name": "stdout",
     "output_type": "stream",
     "text": [
      "10x_nuclei_v3 Preproc and get highly variable genes 0.07410764694213867\n",
      "Removing low coverage genes...\n",
      "Getting CPM..\n",
      "Getting highly variable genes and logCPM...\n",
      "Number of genes: 905\n",
      "10x_nuclei_v3 Saving to files 0.17406964302062988\n",
      "10x_nuclei_v3 2-3-1\n",
      "10x_nuclei_v3 Preproc and get highly variable genes 0.14802789688110352\n",
      "Removing low coverage genes...\n",
      "Getting CPM..\n",
      "Getting highly variable genes and logCPM...\n",
      "Number of genes: 3942\n",
      "10x_nuclei_v3 Saving to files 0.6507079601287842\n"
     ]
    },
    {
     "name": "stderr",
     "output_type": "stream",
     "text": [
      "09/24/2019 10:00:31 AM 10x_nuclei_v3 2-3-1 Total time used: 1.2861969470977783\n"
     ]
    },
    {
     "name": "stdout",
     "output_type": "stream",
     "text": [
      "10x_nuclei_v3 2-3-2\n",
      "10x_nuclei_v3 Preproc and get highly variable genes 0.08422732353210449\n",
      "Removing low coverage genes...\n",
      "Getting CPM..\n",
      "Getting highly variable genes and logCPM...\n"
     ]
    },
    {
     "name": "stderr",
     "output_type": "stream",
     "text": [
      "09/24/2019 10:00:31 AM 10x_nuclei_v3 2-3-2 Total time used: 0.3923635482788086\n"
     ]
    },
    {
     "name": "stdout",
     "output_type": "stream",
     "text": [
      "Number of genes: 4257\n",
      "10x_nuclei_v3 Saving to files 0.27046895027160645\n",
      "10x_nuclei_v3 2-3-3\n",
      "10x_nuclei_v3 Preproc and get highly variable genes 0.06968998908996582\n",
      "Removing low coverage genes...\n",
      "Getting CPM..\n",
      "Getting highly variable genes and logCPM...\n"
     ]
    },
    {
     "name": "stderr",
     "output_type": "stream",
     "text": [
      "09/24/2019 10:00:31 AM 10x_nuclei_v3 2-3-3 Total time used: 0.17357683181762695\n"
     ]
    },
    {
     "name": "stdout",
     "output_type": "stream",
     "text": [
      "Number of genes: 586\n",
      "10x_nuclei_v3 Saving to files 0.16614174842834473\n",
      "10x_nuclei_v3 3-1-1\n",
      "10x_nuclei_v3 Preproc and get highly variable genes 0.31538939476013184\n",
      "Removing low coverage genes...\n",
      "Getting CPM..\n",
      "Getting highly variable genes and logCPM...\n",
      "Number of genes: 4126\n",
      "10x_nuclei_v3 Saving to files 2.1077778339385986\n"
     ]
    },
    {
     "name": "stderr",
     "output_type": "stream",
     "text": [
      "09/24/2019 10:00:36 AM 10x_nuclei_v3 3-1-1 Total time used: 5.070633411407471\n"
     ]
    },
    {
     "name": "stdout",
     "output_type": "stream",
     "text": [
      "10x_nuclei_v3 3-1-2\n",
      "10x_nuclei_v3 Preproc and get highly variable genes 0.16782736778259277\n",
      "Removing low coverage genes...\n",
      "Getting CPM..\n",
      "Getting highly variable genes and logCPM...\n",
      "Number of genes: 4194\n",
      "10x_nuclei_v3 Saving to files 0.8529961109161377\n"
     ]
    },
    {
     "name": "stderr",
     "output_type": "stream",
     "text": [
      "09/24/2019 10:00:38 AM 10x_nuclei_v3 3-1-2 Total time used: 1.7506635189056396\n"
     ]
    },
    {
     "name": "stdout",
     "output_type": "stream",
     "text": [
      "10x_nuclei_v3 3-2-1\n",
      "10x_nuclei_v3 Preproc and get highly variable genes 0.3068876266479492\n",
      "Removing low coverage genes...\n",
      "Getting CPM..\n",
      "Getting highly variable genes and logCPM...\n",
      "Number of genes: 4266\n",
      "10x_nuclei_v3 Saving to files 2.371476411819458\n"
     ]
    },
    {
     "name": "stderr",
     "output_type": "stream",
     "text": [
      "09/24/2019 10:00:44 AM 10x_nuclei_v3 3-2-1 Total time used: 5.527938365936279\n",
      "09/24/2019 10:00:44 AM 10x_nuclei_v3 3-2-2 Total time used: 0.170884370803833\n"
     ]
    },
    {
     "name": "stdout",
     "output_type": "stream",
     "text": [
      "10x_nuclei_v3 3-2-2\n",
      "10x_nuclei_v3 Preproc and get highly variable genes 0.07166934013366699\n",
      "Removing low coverage genes...\n",
      "Getting CPM..\n",
      "Getting highly variable genes and logCPM...\n",
      "Number of genes: 664\n",
      "10x_nuclei_v3 Saving to files 0.16387653350830078\n",
      "10x_nuclei_v3 3-3-1\n"
     ]
    },
    {
     "name": "stderr",
     "output_type": "stream",
     "text": [
      "09/24/2019 10:00:44 AM 10x_nuclei_v3 3-3-1 Total time used: 0.20922636985778809\n"
     ]
    },
    {
     "name": "stdout",
     "output_type": "stream",
     "text": [
      "10x_nuclei_v3 Preproc and get highly variable genes 0.07136297225952148\n",
      "Removing low coverage genes...\n",
      "Getting CPM..\n",
      "Getting highly variable genes and logCPM...\n",
      "Number of genes: 2884\n",
      "10x_nuclei_v3 Saving to files 0.19267582893371582\n",
      "10x_nuclei_v3 4-1-1\n",
      "10x_nuclei_v3 Preproc and get highly variable genes 0.40715527534484863\n",
      "Removing low coverage genes...\n",
      "Getting CPM..\n",
      "Getting highly variable genes and logCPM...\n",
      "Number of genes: 4171\n",
      "10x_nuclei_v3 Saving to files 3.097212314605713\n"
     ]
    },
    {
     "name": "stderr",
     "output_type": "stream",
     "text": [
      "09/24/2019 10:00:52 AM 10x_nuclei_v3 4-1-1 Total time used: 7.794751882553101\n"
     ]
    },
    {
     "name": "stdout",
     "output_type": "stream",
     "text": [
      "10x_nuclei_v3 4-1-2\n",
      "10x_nuclei_v3 Preproc and get highly variable genes 0.08778595924377441\n",
      "Removing low coverage genes...\n",
      "Getting CPM..\n",
      "Getting highly variable genes and logCPM...\n"
     ]
    },
    {
     "name": "stderr",
     "output_type": "stream",
     "text": [
      "09/24/2019 10:00:52 AM 10x_nuclei_v3 4-1-2 Total time used: 0.23052501678466797\n"
     ]
    },
    {
     "name": "stdout",
     "output_type": "stream",
     "text": [
      "Number of genes: 3221\n",
      "10x_nuclei_v3 Saving to files 0.20897412300109863\n",
      "10x_nuclei_v3 4-2-1\n",
      "10x_nuclei_v3 Preproc and get highly variable genes 0.1580944061279297\n",
      "Removing low coverage genes...\n",
      "Getting CPM..\n",
      "Getting highly variable genes and logCPM...\n",
      "Number of genes: 4203\n",
      "10x_nuclei_v3 Saving to files 0.6819331645965576\n"
     ]
    },
    {
     "name": "stderr",
     "output_type": "stream",
     "text": [
      "09/24/2019 10:00:53 AM 10x_nuclei_v3 4-2-1 Total time used: 1.3771886825561523\n"
     ]
    },
    {
     "name": "stdout",
     "output_type": "stream",
     "text": [
      "10x_nuclei_v3 4-2-2\n",
      "10x_nuclei_v3 Preproc and get highly variable genes 0.11103105545043945\n",
      "Removing low coverage genes...\n",
      "Getting CPM..\n",
      "Getting highly variable genes and logCPM...\n",
      "Number of genes: 4130\n",
      "10x_nuclei_v3 Saving to files 0.4704911708831787\n"
     ]
    },
    {
     "name": "stderr",
     "output_type": "stream",
     "text": [
      "09/24/2019 10:00:54 AM 10x_nuclei_v3 4-2-2 Total time used: 0.8866729736328125\n"
     ]
    },
    {
     "name": "stdout",
     "output_type": "stream",
     "text": [
      "10x_nuclei_v3 4-2-3\n",
      "10x_nuclei_v3 Preproc and get highly variable genes 0.07967138290405273\n",
      "Removing low coverage genes...\n",
      "Getting CPM..\n",
      "Getting highly variable genes and logCPM...\n"
     ]
    },
    {
     "name": "stderr",
     "output_type": "stream",
     "text": [
      "09/24/2019 10:00:55 AM 10x_nuclei_v3 4-2-3 Total time used: 0.3501925468444824\n"
     ]
    },
    {
     "name": "stdout",
     "output_type": "stream",
     "text": [
      "Number of genes: 4192\n",
      "10x_nuclei_v3 Saving to files 0.2830922603607178\n",
      "10x_nuclei_v3 5-1-1\n",
      "10x_nuclei_v3 Preproc and get highly variable genes 0.14816856384277344\n",
      "Removing low coverage genes...\n",
      "Getting CPM..\n",
      "Getting highly variable genes and logCPM...\n",
      "Number of genes: 3915\n",
      "10x_nuclei_v3 Saving to files 0.9217219352722168\n"
     ]
    },
    {
     "name": "stderr",
     "output_type": "stream",
     "text": [
      "09/24/2019 10:00:56 AM 10x_nuclei_v3 5-1-1 Total time used: 1.9059433937072754\n"
     ]
    },
    {
     "name": "stdout",
     "output_type": "stream",
     "text": [
      "10x_nuclei_v3 5-1-2\n",
      "10x_nuclei_v3 Preproc and get highly variable genes 0.13364648818969727\n",
      "Removing low coverage genes...\n",
      "Getting CPM..\n",
      "Getting highly variable genes and logCPM...\n",
      "Number of genes: 4123\n",
      "10x_nuclei_v3 Saving to files 0.6325666904449463\n"
     ]
    },
    {
     "name": "stderr",
     "output_type": "stream",
     "text": [
      "09/24/2019 10:00:58 AM 10x_nuclei_v3 5-1-2 Total time used: 1.2396106719970703\n"
     ]
    },
    {
     "name": "stdout",
     "output_type": "stream",
     "text": [
      "10x_nuclei_v3 5-2-1\n",
      "10x_nuclei_v3 Preproc and get highly variable genes 0.09676957130432129\n",
      "Removing low coverage genes...\n",
      "Getting CPM..\n",
      "Getting highly variable genes and logCPM...\n"
     ]
    },
    {
     "name": "stderr",
     "output_type": "stream",
     "text": [
      "09/24/2019 10:00:58 AM 10x_nuclei_v3 5-2-1 Total time used: 0.484363317489624\n"
     ]
    },
    {
     "name": "stdout",
     "output_type": "stream",
     "text": [
      "Number of genes: 3753\n",
      "10x_nuclei_v3 Saving to files 0.3045628070831299\n",
      "10x_nuclei_v3 5-2-2\n",
      "10x_nuclei_v3 Preproc and get highly variable genes 0.09901976585388184\n",
      "Removing low coverage genes...\n",
      "Getting CPM..\n",
      "Getting highly variable genes and logCPM...\n",
      "Number of genes: 3942\n",
      "10x_nuclei_v3 Saving to files 0.39675116539001465\n"
     ]
    },
    {
     "name": "stderr",
     "output_type": "stream",
     "text": [
      "09/24/2019 10:00:59 AM 10x_nuclei_v3 5-2-2 Total time used: 0.7379875183105469\n"
     ]
    },
    {
     "name": "stdout",
     "output_type": "stream",
     "text": [
      "10x_nuclei_v3 5-2-3\n",
      "10x_nuclei_v3 Preproc and get highly variable genes 0.07676959037780762\n",
      "Removing low coverage genes...\n",
      "Getting CPM..\n",
      "Getting highly variable genes and logCPM...\n"
     ]
    },
    {
     "name": "stderr",
     "output_type": "stream",
     "text": [
      "09/24/2019 10:00:59 AM 10x_nuclei_v3 5-2-3 Total time used: 0.2658383846282959\n"
     ]
    },
    {
     "name": "stdout",
     "output_type": "stream",
     "text": [
      "Number of genes: 3899\n",
      "10x_nuclei_v3 Saving to files 0.2241361141204834\n",
      "10x_nuclei_v3 5-3-1\n",
      "10x_nuclei_v3 Preproc and get highly variable genes 0.11101412773132324\n",
      "Removing low coverage genes...\n",
      "Getting CPM..\n",
      "Getting highly variable genes and logCPM...\n",
      "Number of genes: 3915\n",
      "10x_nuclei_v3 Saving to files 0.4251689910888672\n"
     ]
    },
    {
     "name": "stderr",
     "output_type": "stream",
     "text": [
      "09/24/2019 10:01:00 AM 10x_nuclei_v3 5-3-1 Total time used: 0.914745569229126\n"
     ]
    },
    {
     "name": "stdout",
     "output_type": "stream",
     "text": [
      "10x_nuclei_v3 5-3-2\n",
      "10x_nuclei_v3 Preproc and get highly variable genes 0.08562827110290527\n",
      "Removing low coverage genes...\n",
      "Getting CPM..\n",
      "Getting highly variable genes and logCPM...\n",
      "Number of genes: 3798\n",
      "10x_nuclei_v3 Saving to files 0.31600141525268555\n"
     ]
    },
    {
     "name": "stderr",
     "output_type": "stream",
     "text": [
      "09/24/2019 10:01:01 AM 10x_nuclei_v3 5-3-2 Total time used: 0.525937557220459\n"
     ]
    },
    {
     "name": "stdout",
     "output_type": "stream",
     "text": [
      "10x_nuclei_v3 5-4-1\n",
      "10x_nuclei_v3 Preproc and get highly variable genes 0.08592343330383301\n",
      "Removing low coverage genes...\n",
      "Getting CPM..\n",
      "Getting highly variable genes and logCPM...\n"
     ]
    },
    {
     "name": "stderr",
     "output_type": "stream",
     "text": [
      "09/24/2019 10:01:01 AM 10x_nuclei_v3 5-4-1 Total time used: 0.4069201946258545\n"
     ]
    },
    {
     "name": "stdout",
     "output_type": "stream",
     "text": [
      "Number of genes: 3573\n",
      "10x_nuclei_v3 Saving to files 0.29453015327453613\n",
      "10x_nuclei_v3 5-5-1\n",
      "10x_nuclei_v3 Preproc and get highly variable genes 0.07763886451721191\n",
      "Removing low coverage genes...\n"
     ]
    },
    {
     "name": "stderr",
     "output_type": "stream",
     "text": [
      "09/24/2019 10:01:01 AM 10x_nuclei_v3 5-5-1 Total time used: 0.27898168563842773\n"
     ]
    },
    {
     "name": "stdout",
     "output_type": "stream",
     "text": [
      "Getting CPM..\n",
      "Getting highly variable genes and logCPM...\n",
      "Number of genes: 3622\n",
      "10x_nuclei_v3 Saving to files 0.24254202842712402\n",
      "10x_nuclei_v3 6-1-1\n",
      "10x_nuclei_v3 Preproc and get highly variable genes 0.0969231128692627\n",
      "Removing low coverage genes...\n",
      "Getting CPM..\n",
      "Getting highly variable genes and logCPM...\n",
      "Number of genes: 3735\n",
      "10x_nuclei_v3 Saving to files 0.30817484855651855\n"
     ]
    },
    {
     "name": "stderr",
     "output_type": "stream",
     "text": [
      "09/24/2019 10:01:02 AM 10x_nuclei_v3 6-1-1 Total time used: 0.5903146266937256\n"
     ]
    },
    {
     "name": "stdout",
     "output_type": "stream",
     "text": [
      "10x_nuclei_v3 6-1-2\n",
      "10x_nuclei_v3 Preproc and get highly variable genes 0.08711695671081543\n",
      "Removing low coverage genes...\n",
      "Getting CPM..\n",
      "Getting highly variable genes and logCPM...\n"
     ]
    },
    {
     "name": "stderr",
     "output_type": "stream",
     "text": [
      "09/24/2019 10:01:02 AM 10x_nuclei_v3 6-1-2 Total time used: 0.4219491481781006\n"
     ]
    },
    {
     "name": "stdout",
     "output_type": "stream",
     "text": [
      "Number of genes: 3510\n",
      "10x_nuclei_v3 Saving to files 0.2542445659637451\n",
      "10x_nuclei_v3 6-2-1\n",
      "10x_nuclei_v3 Preproc and get highly variable genes 0.11105751991271973\n",
      "Removing low coverage genes...\n",
      "Getting CPM..\n",
      "Getting highly variable genes and logCPM...\n",
      "Number of genes: 3942\n",
      "10x_nuclei_v3 Saving to files 0.404050350189209\n"
     ]
    },
    {
     "name": "stderr",
     "output_type": "stream",
     "text": [
      "09/24/2019 10:01:03 AM 10x_nuclei_v3 6-2-1 Total time used: 0.7458641529083252\n"
     ]
    },
    {
     "name": "stdout",
     "output_type": "stream",
     "text": [
      "10x_nuclei_v3 6-3-1\n",
      "10x_nuclei_v3 Preproc and get highly variable genes 0.08970403671264648\n",
      "Removing low coverage genes...\n",
      "Getting CPM..\n",
      "Getting highly variable genes and logCPM...\n"
     ]
    },
    {
     "name": "stderr",
     "output_type": "stream",
     "text": [
      "09/24/2019 10:01:04 AM 10x_nuclei_v3 6-3-1 Total time used: 0.4243168830871582\n"
     ]
    },
    {
     "name": "stdout",
     "output_type": "stream",
     "text": [
      "Number of genes: 3853\n",
      "10x_nuclei_v3 Saving to files 0.3238239288330078\n",
      "10x_nuclei_v3 6-3-2\n",
      "10x_nuclei_v3 Preproc and get highly variable genes 0.07595515251159668\n",
      "Removing low coverage genes...\n",
      "Getting CPM..\n",
      "Getting highly variable genes and logCPM...\n"
     ]
    },
    {
     "name": "stderr",
     "output_type": "stream",
     "text": [
      "09/24/2019 10:01:04 AM 10x_nuclei_v3 6-3-2 Total time used: 0.4791536331176758\n"
     ]
    },
    {
     "name": "stdout",
     "output_type": "stream",
     "text": [
      "Number of genes: 3555\n",
      "10x_nuclei_v3 Saving to files 0.38654422760009766\n",
      "10x_nuclei_v3 6-3-3\n",
      "10x_nuclei_v3 Preproc and get highly variable genes 0.07889533042907715\n",
      "Removing low coverage genes...\n",
      "Getting CPM..\n",
      "Getting highly variable genes and logCPM...\n",
      "Number of genes: 3480\n",
      "10x_nuclei_v3 Saving to files 0.2904229164123535\n"
     ]
    },
    {
     "name": "stderr",
     "output_type": "stream",
     "text": [
      "09/24/2019 10:01:04 AM 10x_nuclei_v3 6-3-3 Total time used: 0.36899447441101074\n"
     ]
    },
    {
     "name": "stdout",
     "output_type": "stream",
     "text": [
      "10x_nuclei_v3 6-4-1\n",
      "10x_nuclei_v3 Preproc and get highly variable genes 0.0868687629699707\n",
      "Removing low coverage genes...\n",
      "Getting CPM..\n",
      "Getting highly variable genes and logCPM...\n"
     ]
    },
    {
     "name": "stderr",
     "output_type": "stream",
     "text": [
      "09/24/2019 10:01:05 AM 10x_nuclei_v3 6-4-1 Total time used: 0.3645188808441162\n"
     ]
    },
    {
     "name": "stdout",
     "output_type": "stream",
     "text": [
      "Number of genes: 3627\n",
      "10x_nuclei_v3 Saving to files 0.2556478977203369\n",
      "10x_nuclei_v3 6-4-2\n",
      "10x_nuclei_v3 Preproc and get highly variable genes 0.08362412452697754\n",
      "Removing low coverage genes...\n",
      "Getting CPM..\n",
      "Getting highly variable genes and logCPM...\n",
      "Number of genes: 3933\n",
      "10x_nuclei_v3 Saving to files 0.30629658699035645\n"
     ]
    },
    {
     "name": "stderr",
     "output_type": "stream",
     "text": [
      "09/24/2019 10:01:05 AM 10x_nuclei_v3 6-4-2 Total time used: 0.4728832244873047\n"
     ]
    },
    {
     "name": "stdout",
     "output_type": "stream",
     "text": [
      "10x_nuclei_v3 6-5-1\n",
      "10x_nuclei_v3 Preproc and get highly variable genes 0.07062745094299316\n",
      "Removing low coverage genes...\n",
      "Getting CPM..\n",
      "Getting highly variable genes and logCPM...\n"
     ]
    },
    {
     "name": "stderr",
     "output_type": "stream",
     "text": [
      "09/24/2019 10:01:06 AM 10x_nuclei_v3 6-5-1 Total time used: 0.3647174835205078\n"
     ]
    },
    {
     "name": "stdout",
     "output_type": "stream",
     "text": [
      "Number of genes: 3842\n",
      "10x_nuclei_v3 Saving to files 0.2399885654449463\n",
      "10x_nuclei_v3 6-5-2\n"
     ]
    },
    {
     "name": "stderr",
     "output_type": "stream",
     "text": [
      "09/24/2019 10:01:06 AM 10x_nuclei_v3 6-5-2 Total time used: 0.26645922660827637\n"
     ]
    },
    {
     "name": "stdout",
     "output_type": "stream",
     "text": [
      "10x_nuclei_v3 Preproc and get highly variable genes 0.07830929756164551\n",
      "Removing low coverage genes...\n",
      "Getting CPM..\n",
      "Getting highly variable genes and logCPM...\n",
      "Number of genes: 3938\n",
      "10x_nuclei_v3 Saving to files 0.22280502319335938\n",
      "10x_nuclei_v3 6-5-3\n",
      "10x_nuclei_v3 Preproc and get highly variable genes 0.07850456237792969\n",
      "Removing low coverage genes...\n",
      "Getting CPM..\n",
      "Getting highly variable genes and logCPM...\n",
      "Number of genes: 3750\n",
      "10x_nuclei_v3 Saving to files 0.2791409492492676\n"
     ]
    },
    {
     "name": "stderr",
     "output_type": "stream",
     "text": [
      "09/24/2019 10:01:06 AM 10x_nuclei_v3 6-5-3 Total time used: 0.3415346145629883\n"
     ]
    },
    {
     "name": "stdout",
     "output_type": "stream",
     "text": [
      "10x_nuclei_v3 6-6-1\n",
      "10x_nuclei_v3 Preproc and get highly variable genes 0.07533645629882812\n",
      "Removing low coverage genes...\n",
      "Getting CPM..\n",
      "Getting highly variable genes and logCPM...\n"
     ]
    },
    {
     "name": "stderr",
     "output_type": "stream",
     "text": [
      "09/24/2019 10:01:06 AM 10x_nuclei_v3 6-6-1 Total time used: 0.22803282737731934\n"
     ]
    },
    {
     "name": "stdout",
     "output_type": "stream",
     "text": [
      "Number of genes: 3358\n",
      "10x_nuclei_v3 Saving to files 0.20279550552368164\n",
      "10x_nuclei_v3 7-1-1\n",
      "10x_nuclei_v3 Preproc and get highly variable genes 0.10547208786010742\n",
      "Removing low coverage genes...\n",
      "Getting CPM..\n",
      "Getting highly variable genes and logCPM...\n",
      "Number of genes: 3806\n",
      "10x_nuclei_v3 Saving to files 0.5166115760803223\n"
     ]
    },
    {
     "name": "stderr",
     "output_type": "stream",
     "text": [
      "09/24/2019 10:01:07 AM 10x_nuclei_v3 7-1-1 Total time used: 0.8425512313842773\n"
     ]
    },
    {
     "name": "stdout",
     "output_type": "stream",
     "text": [
      "10x_nuclei_v3 7-1-2\n",
      "10x_nuclei_v3 Preproc and get highly variable genes 0.07892537117004395\n",
      "Removing low coverage genes...\n",
      "Getting CPM..\n",
      "Getting highly variable genes and logCPM...\n"
     ]
    },
    {
     "name": "stderr",
     "output_type": "stream",
     "text": [
      "09/24/2019 10:01:08 AM 10x_nuclei_v3 7-1-2 Total time used: 0.31771039962768555\n"
     ]
    },
    {
     "name": "stdout",
     "output_type": "stream",
     "text": [
      "Number of genes: 3429\n",
      "10x_nuclei_v3 Saving to files 0.22410869598388672\n",
      "10x_nuclei_v3 7-2-1\n",
      "10x_nuclei_v3 Preproc and get highly variable genes 0.09321856498718262\n",
      "Removing low coverage genes...\n",
      "Getting CPM..\n",
      "Getting highly variable genes and logCPM...\n",
      "Number of genes: 3807\n",
      "10x_nuclei_v3 Saving to files 0.38692617416381836\n"
     ]
    },
    {
     "name": "stderr",
     "output_type": "stream",
     "text": [
      "09/24/2019 10:01:08 AM 10x_nuclei_v3 7-2-1 Total time used: 0.7099192142486572\n"
     ]
    },
    {
     "name": "stdout",
     "output_type": "stream",
     "text": [
      "10x_nuclei_v3 7-2-2\n",
      "10x_nuclei_v3 Preproc and get highly variable genes 0.08917474746704102\n",
      "Removing low coverage genes...\n",
      "Getting CPM..\n",
      "Getting highly variable genes and logCPM...\n",
      "Number of genes: 3852\n",
      "10x_nuclei_v3 Saving to files 0.38568115234375\n"
     ]
    },
    {
     "name": "stderr",
     "output_type": "stream",
     "text": [
      "09/24/2019 10:01:09 AM 10x_nuclei_v3 7-2-2 Total time used: 0.6559476852416992\n"
     ]
    },
    {
     "name": "stdout",
     "output_type": "stream",
     "text": [
      "10x_nuclei_v3 8-1-1\n",
      "10x_nuclei_v3 Preproc and get highly variable genes 0.0941157341003418\n",
      "Removing low coverage genes...\n",
      "Getting CPM..\n",
      "Getting highly variable genes and logCPM...\n"
     ]
    },
    {
     "name": "stderr",
     "output_type": "stream",
     "text": [
      "09/24/2019 10:01:09 AM 10x_nuclei_v3 8-1-1 Total time used: 0.5199668407440186\n"
     ]
    },
    {
     "name": "stdout",
     "output_type": "stream",
     "text": [
      "Number of genes: 4167\n",
      "10x_nuclei_v3 Saving to files 0.3792557716369629\n",
      "10x_nuclei_v3 8-1-2\n",
      "10x_nuclei_v3 Preproc and get highly variable genes 0.08129525184631348\n",
      "Removing low coverage genes...\n",
      "Getting CPM..\n",
      "Getting highly variable genes and logCPM...\n",
      "Number of genes: 4388\n",
      "10x_nuclei_v3 Saving to files 0.2815544605255127\n"
     ]
    },
    {
     "name": "stderr",
     "output_type": "stream",
     "text": [
      "09/24/2019 10:01:10 AM 10x_nuclei_v3 8-1-2 Total time used: 0.3498263359069824\n"
     ]
    },
    {
     "name": "stdout",
     "output_type": "stream",
     "text": [
      "10x_nuclei_v3 8-2-1\n",
      "10x_nuclei_v3 Preproc and get highly variable genes 0.08200240135192871\n",
      "Removing low coverage genes...\n",
      "Getting CPM..\n",
      "Getting highly variable genes and logCPM...\n"
     ]
    },
    {
     "name": "stderr",
     "output_type": "stream",
     "text": [
      "09/24/2019 10:01:10 AM 10x_nuclei_v3 8-2-1 Total time used: 0.4581766128540039\n"
     ]
    },
    {
     "name": "stdout",
     "output_type": "stream",
     "text": [
      "Number of genes: 3906\n",
      "10x_nuclei_v3 Saving to files 0.272200345993042\n",
      "10x_nuclei_v3 8-3-1\n"
     ]
    },
    {
     "name": "stderr",
     "output_type": "stream",
     "text": [
      "09/24/2019 10:01:11 AM 10x_nuclei_v3 8-3-1 Total time used: 0.18947649002075195\n"
     ]
    },
    {
     "name": "stdout",
     "output_type": "stream",
     "text": [
      "10x_nuclei_v3 Preproc and get highly variable genes 0.0760645866394043\n",
      "Removing low coverage genes...\n",
      "Getting CPM..\n",
      "Getting highly variable genes and logCPM...\n",
      "Number of genes: 3372\n",
      "10x_nuclei_v3 Saving to files 0.16823482513427734\n",
      "10x_nuclei_v3 8-3-2\n",
      "10x_nuclei_v3 Preproc and get highly variable genes 0.07111287117004395\n",
      "Removing low coverage genes...\n",
      "Getting CPM..\n",
      "Getting highly variable genes and logCPM...\n"
     ]
    },
    {
     "name": "stderr",
     "output_type": "stream",
     "text": [
      "09/24/2019 10:01:11 AM 10x_nuclei_v3 8-3-2 Total time used: 0.15071988105773926\n"
     ]
    },
    {
     "name": "stdout",
     "output_type": "stream",
     "text": [
      "Number of genes: 97\n",
      "10x_nuclei_v3 Saving to files 0.14459633827209473\n",
      "10x_nuclei_v3 9-1-1\n",
      "10x_nuclei_v3 Preproc and get highly variable genes 0.0886526107788086\n",
      "Removing low coverage genes...\n",
      "Getting CPM..\n",
      "Getting highly variable genes and logCPM...\n",
      "Number of genes: 4311\n",
      "10x_nuclei_v3 Saving to files 0.3263392448425293\n"
     ]
    },
    {
     "name": "stderr",
     "output_type": "stream",
     "text": [
      "09/24/2019 10:01:11 AM 10x_nuclei_v3 9-1-1 Total time used: 0.6126830577850342\n"
     ]
    },
    {
     "name": "stdout",
     "output_type": "stream",
     "text": [
      "10x_nuclei_v3 9-2-1\n",
      "10x_nuclei_v3 Preproc and get highly variable genes 0.08634114265441895\n",
      "Removing low coverage genes...\n",
      "Getting CPM..\n",
      "Getting highly variable genes and logCPM...\n"
     ]
    },
    {
     "name": "stderr",
     "output_type": "stream",
     "text": [
      "09/24/2019 10:01:12 AM 10x_nuclei_v3 9-2-1 Total time used: 0.4331386089324951\n"
     ]
    },
    {
     "name": "stdout",
     "output_type": "stream",
     "text": [
      "Number of genes: 4257\n",
      "10x_nuclei_v3 Saving to files 0.31357622146606445\n",
      "10x_nuclei_v3 9-2-2\n",
      "10x_nuclei_v3 Preproc and get highly variable genes 0.08515405654907227\n",
      "Removing low coverage genes...\n",
      "Getting CPM..\n",
      "Getting highly variable genes and logCPM...\n"
     ]
    },
    {
     "name": "stderr",
     "output_type": "stream",
     "text": [
      "09/24/2019 10:01:12 AM 10x_nuclei_v3 9-2-2 Total time used: 0.38492417335510254\n"
     ]
    },
    {
     "name": "stdout",
     "output_type": "stream",
     "text": [
      "Number of genes: 4113\n",
      "10x_nuclei_v3 Saving to files 0.29519009590148926\n",
      "10x_nuclei_v3_macosko 1-1-1\n",
      "10x_nuclei_v3_macosko Preproc and get highly variable genes 1.2025365829467773\n",
      "Removing low coverage genes...\n",
      "Getting CPM..\n",
      "Getting highly variable genes and logCPM...\n",
      "Number of genes: 3943\n",
      "10x_nuclei_v3_macosko Saving to files 11.040307998657227\n"
     ]
    },
    {
     "name": "stderr",
     "output_type": "stream",
     "text": [
      "09/24/2019 10:01:43 AM 10x_nuclei_v3_macosko 1-1-1 Total time used: 31.045586347579956\n"
     ]
    },
    {
     "name": "stdout",
     "output_type": "stream",
     "text": [
      "10x_nuclei_v3_macosko 1-2-1\n",
      "10x_nuclei_v3_macosko Preproc and get highly variable genes 0.5814557075500488\n",
      "Removing low coverage genes...\n",
      "Getting CPM..\n",
      "Getting highly variable genes and logCPM...\n",
      "Number of genes: 4104\n",
      "10x_nuclei_v3_macosko Saving to files 4.668022632598877\n"
     ]
    },
    {
     "name": "stderr",
     "output_type": "stream",
     "text": [
      "09/24/2019 10:01:55 AM 10x_nuclei_v3_macosko 1-2-1 Total time used: 12.114142656326294\n"
     ]
    },
    {
     "name": "stdout",
     "output_type": "stream",
     "text": [
      "10x_nuclei_v3_macosko 1-2-2\n",
      "10x_nuclei_v3_macosko Preproc and get highly variable genes 0.16719603538513184\n",
      "Removing low coverage genes...\n",
      "Getting CPM..\n",
      "Getting highly variable genes and logCPM...\n",
      "Number of genes: 4320\n",
      "10x_nuclei_v3_macosko Saving to files 0.8519618511199951\n"
     ]
    },
    {
     "name": "stderr",
     "output_type": "stream",
     "text": [
      "09/24/2019 10:01:57 AM 10x_nuclei_v3_macosko 1-2-2 Total time used: 1.6633682250976562\n"
     ]
    },
    {
     "name": "stdout",
     "output_type": "stream",
     "text": [
      "10x_nuclei_v3_macosko 10-1-1\n",
      "10x_nuclei_v3_macosko Preproc and get highly variable genes 0.11107420921325684\n",
      "Removing low coverage genes...\n",
      "Getting CPM..\n",
      "Getting highly variable genes and logCPM...\n",
      "Number of genes: 4113\n",
      "10x_nuclei_v3_macosko Saving to files 0.3847315311431885\n"
     ]
    },
    {
     "name": "stderr",
     "output_type": "stream",
     "text": [
      "09/24/2019 10:01:58 AM 10x_nuclei_v3_macosko 10-1-1 Total time used: 0.5996463298797607\n"
     ]
    },
    {
     "name": "stdout",
     "output_type": "stream",
     "text": [
      "10x_nuclei_v3_macosko 2-1-1\n",
      "10x_nuclei_v3_macosko Preproc and get highly variable genes 0.5565488338470459\n",
      "Removing low coverage genes...\n",
      "Getting CPM..\n",
      "Getting highly variable genes and logCPM...\n",
      "Number of genes: 3933\n",
      "10x_nuclei_v3_macosko Saving to files 3.6790528297424316\n"
     ]
    },
    {
     "name": "stderr",
     "output_type": "stream",
     "text": [
      "09/24/2019 10:02:06 AM 10x_nuclei_v3_macosko 2-1-1 Total time used: 8.755506038665771\n"
     ]
    },
    {
     "name": "stdout",
     "output_type": "stream",
     "text": [
      "10x_nuclei_v3_macosko 2-1-2\n",
      "10x_nuclei_v3_macosko Preproc and get highly variable genes 0.45098423957824707\n",
      "Removing low coverage genes...\n",
      "Getting CPM..\n",
      "Getting highly variable genes and logCPM...\n",
      "Number of genes: 4050\n",
      "10x_nuclei_v3_macosko Saving to files 3.0223639011383057\n"
     ]
    },
    {
     "name": "stderr",
     "output_type": "stream",
     "text": [
      "09/24/2019 10:02:14 AM 10x_nuclei_v3_macosko 2-1-2 Total time used: 7.430840969085693\n"
     ]
    },
    {
     "name": "stdout",
     "output_type": "stream",
     "text": [
      "10x_nuclei_v3_macosko 2-2-1\n",
      "10x_nuclei_v3_macosko Preproc and get highly variable genes 0.5819716453552246\n",
      "Removing low coverage genes...\n",
      "Getting CPM..\n",
      "Getting highly variable genes and logCPM...\n",
      "Number of genes: 3996\n",
      "10x_nuclei_v3_macosko Saving to files 4.418511629104614\n"
     ]
    },
    {
     "name": "stderr",
     "output_type": "stream",
     "text": [
      "09/24/2019 10:02:25 AM 10x_nuclei_v3_macosko 2-2-1 Total time used: 11.388359069824219\n"
     ]
    },
    {
     "name": "stdout",
     "output_type": "stream",
     "text": [
      "10x_nuclei_v3_macosko 2-2-2\n",
      "10x_nuclei_v3_macosko Preproc and get highly variable genes 0.12108731269836426\n",
      "Removing low coverage genes...\n",
      "Getting CPM..\n",
      "Getting highly variable genes and logCPM...\n",
      "Number of genes: 4136\n",
      "10x_nuclei_v3_macosko Saving to files 0.4066929817199707\n"
     ]
    },
    {
     "name": "stderr",
     "output_type": "stream",
     "text": [
      "09/24/2019 10:02:26 AM 10x_nuclei_v3_macosko 2-2-2 Total time used: 0.6388654708862305\n"
     ]
    },
    {
     "name": "stdout",
     "output_type": "stream",
     "text": [
      "10x_nuclei_v3_macosko 2-2-3\n",
      "10x_nuclei_v3_macosko Preproc and get highly variable genes 0.06382369995117188\n",
      "Removing low coverage genes...\n",
      "Getting CPM..\n",
      "Getting highly variable genes and logCPM...\n",
      "Number of genes: 3906\n",
      "10x_nuclei_v3_macosko Saving to files 0.20037555694580078\n"
     ]
    },
    {
     "name": "stderr",
     "output_type": "stream",
     "text": [
      "09/24/2019 10:02:26 AM 10x_nuclei_v3_macosko 2-2-3 Total time used: 0.29587340354919434\n"
     ]
    },
    {
     "name": "stdout",
     "output_type": "stream",
     "text": [
      "10x_nuclei_v3_macosko 2-3-1\n",
      "10x_nuclei_v3_macosko Preproc and get highly variable genes 0.25605010986328125\n",
      "Removing low coverage genes...\n",
      "Getting CPM..\n",
      "Getting highly variable genes and logCPM...\n",
      "Number of genes: 4005\n",
      "10x_nuclei_v3_macosko Saving to files 1.3473269939422607\n"
     ]
    },
    {
     "name": "stderr",
     "output_type": "stream",
     "text": [
      "09/24/2019 10:02:29 AM 10x_nuclei_v3_macosko 2-3-1 Total time used: 2.8192505836486816\n"
     ]
    },
    {
     "name": "stdout",
     "output_type": "stream",
     "text": [
      "10x_nuclei_v3_macosko 2-3-2\n",
      "10x_nuclei_v3_macosko Preproc and get highly variable genes 0.15776705741882324\n",
      "Removing low coverage genes...\n",
      "Getting CPM..\n",
      "Getting highly variable genes and logCPM...\n",
      "Number of genes: 4122\n",
      "10x_nuclei_v3_macosko Saving to files 0.676393985748291\n"
     ]
    },
    {
     "name": "stderr",
     "output_type": "stream",
     "text": [
      "09/24/2019 10:02:30 AM 10x_nuclei_v3_macosko 2-3-2 Total time used: 1.180816411972046\n"
     ]
    },
    {
     "name": "stdout",
     "output_type": "stream",
     "text": [
      "10x_nuclei_v3_macosko 2-3-3\n",
      "10x_nuclei_v3_macosko Preproc and get highly variable genes 0.10907745361328125\n",
      "Removing low coverage genes...\n",
      "Getting CPM..\n",
      "Getting highly variable genes and logCPM...\n"
     ]
    },
    {
     "name": "stderr",
     "output_type": "stream",
     "text": [
      "09/24/2019 10:02:31 AM 10x_nuclei_v3_macosko 2-3-3 Total time used: 0.44890737533569336\n"
     ]
    },
    {
     "name": "stdout",
     "output_type": "stream",
     "text": [
      "Number of genes: 3996\n",
      "10x_nuclei_v3_macosko Saving to files 0.304074764251709\n",
      "10x_nuclei_v3_macosko 3-1-1\n",
      "10x_nuclei_v3_macosko Preproc and get highly variable genes 0.636293888092041\n",
      "Removing low coverage genes...\n",
      "Getting CPM..\n",
      "Getting highly variable genes and logCPM...\n",
      "Number of genes: 4176\n",
      "10x_nuclei_v3_macosko Saving to files 5.468604564666748\n"
     ]
    },
    {
     "name": "stderr",
     "output_type": "stream",
     "text": [
      "09/24/2019 10:02:45 AM 10x_nuclei_v3_macosko 3-1-1 Total time used: 14.442586183547974\n"
     ]
    },
    {
     "name": "stdout",
     "output_type": "stream",
     "text": [
      "10x_nuclei_v3_macosko 3-1-2\n",
      "10x_nuclei_v3_macosko Preproc and get highly variable genes 0.326200008392334\n",
      "Removing low coverage genes...\n",
      "Getting CPM..\n",
      "Getting highly variable genes and logCPM...\n",
      "Number of genes: 4176\n",
      "10x_nuclei_v3_macosko Saving to files 2.076122760772705\n"
     ]
    },
    {
     "name": "stderr",
     "output_type": "stream",
     "text": [
      "09/24/2019 10:02:50 AM 10x_nuclei_v3_macosko 3-1-2 Total time used: 4.829942464828491\n"
     ]
    },
    {
     "name": "stdout",
     "output_type": "stream",
     "text": [
      "10x_nuclei_v3_macosko 3-2-1\n",
      "10x_nuclei_v3_macosko Preproc and get highly variable genes 0.7952206134796143\n",
      "Removing low coverage genes...\n",
      "Getting CPM..\n",
      "Getting highly variable genes and logCPM...\n",
      "Number of genes: 4306\n",
      "10x_nuclei_v3_macosko Saving to files 8.039372444152832\n"
     ]
    },
    {
     "name": "stderr",
     "output_type": "stream",
     "text": [
      "09/24/2019 10:03:13 AM 10x_nuclei_v3_macosko 3-2-1 Total time used: 23.498852014541626\n"
     ]
    },
    {
     "name": "stdout",
     "output_type": "stream",
     "text": [
      "10x_nuclei_v3_macosko 3-2-2\n",
      "10x_nuclei_v3_macosko Preproc and get highly variable genes 0.11444354057312012\n",
      "Removing low coverage genes...\n",
      "Getting CPM..\n",
      "Getting highly variable genes and logCPM...\n",
      "Number of genes: 3862\n",
      "10x_nuclei_v3_macosko Saving to files 0.32810449600219727\n"
     ]
    },
    {
     "name": "stderr",
     "output_type": "stream",
     "text": [
      "09/24/2019 10:03:14 AM 10x_nuclei_v3_macosko 3-2-2 Total time used: 0.49902963638305664\n"
     ]
    },
    {
     "name": "stdout",
     "output_type": "stream",
     "text": [
      "10x_nuclei_v3_macosko 3-3-1\n",
      "10x_nuclei_v3_macosko Preproc and get highly variable genes 0.08774781227111816\n",
      "Removing low coverage genes...\n",
      "Getting CPM..\n",
      "Getting highly variable genes and logCPM...\n"
     ]
    },
    {
     "name": "stderr",
     "output_type": "stream",
     "text": [
      "09/24/2019 10:03:14 AM 10x_nuclei_v3_macosko 3-3-1 Total time used: 0.23885488510131836\n"
     ]
    },
    {
     "name": "stdout",
     "output_type": "stream",
     "text": [
      "Number of genes: 3454\n",
      "10x_nuclei_v3_macosko Saving to files 0.21436429023742676\n",
      "10x_nuclei_v3_macosko 4-1-1\n",
      "10x_nuclei_v3_macosko Preproc and get highly variable genes 1.1089494228363037\n",
      "Removing low coverage genes...\n",
      "Getting CPM..\n",
      "Getting highly variable genes and logCPM...\n",
      "Number of genes: 4194\n",
      "10x_nuclei_v3_macosko Saving to files 9.92109727859497\n"
     ]
    },
    {
     "name": "stderr",
     "output_type": "stream",
     "text": [
      "09/24/2019 10:03:45 AM 10x_nuclei_v3_macosko 4-1-1 Total time used: 31.365589380264282\n"
     ]
    },
    {
     "name": "stdout",
     "output_type": "stream",
     "text": [
      "10x_nuclei_v3_macosko 4-1-2\n",
      "10x_nuclei_v3_macosko Preproc and get highly variable genes 0.1299724578857422\n",
      "Removing low coverage genes...\n",
      "Getting CPM..\n",
      "Getting highly variable genes and logCPM...\n",
      "Number of genes: 3807\n",
      "10x_nuclei_v3_macosko Saving to files 0.42734789848327637\n"
     ]
    },
    {
     "name": "stderr",
     "output_type": "stream",
     "text": [
      "09/24/2019 10:03:46 AM 10x_nuclei_v3_macosko 4-1-2 Total time used: 0.6648528575897217\n"
     ]
    },
    {
     "name": "stdout",
     "output_type": "stream",
     "text": [
      "10x_nuclei_v3_macosko 4-2-1\n",
      "10x_nuclei_v3_macosko Preproc and get highly variable genes 0.43076586723327637\n",
      "Removing low coverage genes...\n",
      "Getting CPM..\n",
      "Getting highly variable genes and logCPM...\n",
      "Number of genes: 4239\n",
      "10x_nuclei_v3_macosko Saving to files 3.243445634841919\n"
     ]
    },
    {
     "name": "stderr",
     "output_type": "stream",
     "text": [
      "09/24/2019 10:03:54 AM 10x_nuclei_v3_macosko 4-2-1 Total time used: 7.693852186203003\n"
     ]
    },
    {
     "name": "stdout",
     "output_type": "stream",
     "text": [
      "10x_nuclei_v3_macosko 4-2-2\n",
      "10x_nuclei_v3_macosko Preproc and get highly variable genes 0.32002735137939453\n",
      "Removing low coverage genes...\n",
      "Getting CPM..\n",
      "Getting highly variable genes and logCPM...\n",
      "Number of genes: 4050\n",
      "10x_nuclei_v3_macosko Saving to files 2.0342888832092285\n"
     ]
    },
    {
     "name": "stderr",
     "output_type": "stream",
     "text": [
      "09/24/2019 10:03:58 AM 10x_nuclei_v3_macosko 4-2-2 Total time used: 4.5194032192230225\n"
     ]
    },
    {
     "name": "stdout",
     "output_type": "stream",
     "text": [
      "10x_nuclei_v3_macosko 4-2-3\n",
      "10x_nuclei_v3_macosko Preproc and get highly variable genes 0.13812899589538574\n",
      "Removing low coverage genes...\n",
      "Getting CPM..\n",
      "Getting highly variable genes and logCPM...\n",
      "Number of genes: 3997\n",
      "10x_nuclei_v3_macosko Saving to files 0.6050493717193604\n"
     ]
    },
    {
     "name": "stderr",
     "output_type": "stream",
     "text": [
      "09/24/2019 10:03:59 AM 10x_nuclei_v3_macosko 4-2-3 Total time used: 1.124732494354248\n"
     ]
    },
    {
     "name": "stdout",
     "output_type": "stream",
     "text": [
      "10x_nuclei_v3_macosko 5-1-1\n",
      "10x_nuclei_v3_macosko Preproc and get highly variable genes 0.3906998634338379\n",
      "Removing low coverage genes...\n",
      "Getting CPM..\n",
      "Getting highly variable genes and logCPM...\n",
      "Number of genes: 3969\n",
      "10x_nuclei_v3_macosko Saving to files 2.4755306243896484\n"
     ]
    },
    {
     "name": "stderr",
     "output_type": "stream",
     "text": [
      "09/24/2019 10:04:05 AM 10x_nuclei_v3_macosko 5-1-1 Total time used: 5.769126653671265\n"
     ]
    },
    {
     "name": "stdout",
     "output_type": "stream",
     "text": [
      "10x_nuclei_v3_macosko 5-1-2\n",
      "10x_nuclei_v3_macosko Preproc and get highly variable genes 0.2944068908691406\n",
      "Removing low coverage genes...\n",
      "Getting CPM..\n",
      "Getting highly variable genes and logCPM...\n",
      "Number of genes: 4077\n",
      "10x_nuclei_v3_macosko Saving to files 1.8026196956634521\n"
     ]
    },
    {
     "name": "stderr",
     "output_type": "stream",
     "text": [
      "09/24/2019 10:04:09 AM 10x_nuclei_v3_macosko 5-1-2 Total time used: 3.795560836791992\n"
     ]
    },
    {
     "name": "stdout",
     "output_type": "stream",
     "text": [
      "10x_nuclei_v3_macosko 5-2-1\n",
      "10x_nuclei_v3_macosko Preproc and get highly variable genes 0.18249726295471191\n",
      "Removing low coverage genes...\n",
      "Getting CPM..\n",
      "Getting highly variable genes and logCPM...\n",
      "Number of genes: 3843\n",
      "10x_nuclei_v3_macosko Saving to files 0.7055342197418213\n"
     ]
    },
    {
     "name": "stderr",
     "output_type": "stream",
     "text": [
      "09/24/2019 10:04:10 AM 10x_nuclei_v3_macosko 5-2-1 Total time used: 1.357900857925415\n"
     ]
    },
    {
     "name": "stdout",
     "output_type": "stream",
     "text": [
      "10x_nuclei_v3_macosko 5-2-2\n",
      "10x_nuclei_v3_macosko Preproc and get highly variable genes 0.18245339393615723\n",
      "Removing low coverage genes...\n",
      "Getting CPM..\n",
      "Getting highly variable genes and logCPM...\n",
      "Number of genes: 4041\n",
      "10x_nuclei_v3_macosko Saving to files 0.7695255279541016\n"
     ]
    },
    {
     "name": "stderr",
     "output_type": "stream",
     "text": [
      "09/24/2019 10:04:12 AM 10x_nuclei_v3_macosko 5-2-2 Total time used: 1.500239610671997\n"
     ]
    },
    {
     "name": "stdout",
     "output_type": "stream",
     "text": [
      "10x_nuclei_v3_macosko 5-2-3\n",
      "10x_nuclei_v3_macosko Preproc and get highly variable genes 0.10882401466369629\n",
      "Removing low coverage genes...\n",
      "Getting CPM..\n",
      "Getting highly variable genes and logCPM...\n",
      "Number of genes: 3987\n",
      "10x_nuclei_v3_macosko Saving to files 0.3316469192504883\n"
     ]
    },
    {
     "name": "stderr",
     "output_type": "stream",
     "text": [
      "09/24/2019 10:04:12 AM 10x_nuclei_v3_macosko 5-2-3 Total time used: 0.5037455558776855\n"
     ]
    },
    {
     "name": "stdout",
     "output_type": "stream",
     "text": [
      "10x_nuclei_v3_macosko 5-3-1\n",
      "10x_nuclei_v3_macosko Preproc and get highly variable genes 0.23491954803466797\n",
      "Removing low coverage genes...\n",
      "Getting CPM..\n",
      "Getting highly variable genes and logCPM...\n",
      "Number of genes: 4032\n",
      "10x_nuclei_v3_macosko Saving to files 1.2525317668914795\n"
     ]
    },
    {
     "name": "stderr",
     "output_type": "stream",
     "text": [
      "09/24/2019 10:04:15 AM 10x_nuclei_v3_macosko 5-3-1 Total time used: 2.6589109897613525\n"
     ]
    },
    {
     "name": "stdout",
     "output_type": "stream",
     "text": [
      "10x_nuclei_v3_macosko 5-3-2\n",
      "10x_nuclei_v3_macosko Preproc and get highly variable genes 0.1252269744873047\n",
      "Removing low coverage genes...\n",
      "Getting CPM..\n",
      "Getting highly variable genes and logCPM...\n",
      "Number of genes: 3906\n",
      "10x_nuclei_v3_macosko Saving to files 0.4777712821960449\n"
     ]
    },
    {
     "name": "stderr",
     "output_type": "stream",
     "text": [
      "09/24/2019 10:04:16 AM 10x_nuclei_v3_macosko 5-3-2 Total time used: 0.8857588768005371\n"
     ]
    },
    {
     "name": "stdout",
     "output_type": "stream",
     "text": [
      "10x_nuclei_v3_macosko 5-4-1\n",
      "10x_nuclei_v3_macosko Preproc and get highly variable genes 0.10748672485351562\n",
      "Removing low coverage genes...\n",
      "Getting CPM..\n",
      "Getting highly variable genes and logCPM...\n",
      "Number of genes: 3951\n",
      "10x_nuclei_v3_macosko Saving to files 0.32753491401672363\n"
     ]
    },
    {
     "name": "stderr",
     "output_type": "stream",
     "text": [
      "09/24/2019 10:04:16 AM 10x_nuclei_v3_macosko 5-4-1 Total time used: 0.5149157047271729\n"
     ]
    },
    {
     "name": "stdout",
     "output_type": "stream",
     "text": [
      "10x_nuclei_v3_macosko 5-5-1\n",
      "10x_nuclei_v3_macosko Preproc and get highly variable genes 0.10157656669616699\n",
      "Removing low coverage genes...\n",
      "Getting CPM..\n",
      "Getting highly variable genes and logCPM...\n"
     ]
    },
    {
     "name": "stderr",
     "output_type": "stream",
     "text": [
      "09/24/2019 10:04:17 AM 10x_nuclei_v3_macosko 5-5-1 Total time used: 0.39505577087402344\n"
     ]
    },
    {
     "name": "stdout",
     "output_type": "stream",
     "text": [
      "Number of genes: 3890\n",
      "10x_nuclei_v3_macosko Saving to files 0.28101325035095215\n",
      "10x_nuclei_v3_macosko 6-1-1\n",
      "10x_nuclei_v3_macosko Preproc and get highly variable genes 0.1772472858428955\n",
      "Removing low coverage genes...\n",
      "Getting CPM..\n",
      "Getting highly variable genes and logCPM...\n",
      "Number of genes: 3759\n",
      "10x_nuclei_v3_macosko Saving to files 0.70206618309021\n"
     ]
    },
    {
     "name": "stderr",
     "output_type": "stream",
     "text": [
      "09/24/2019 10:04:18 AM 10x_nuclei_v3_macosko 6-1-1 Total time used: 1.3683197498321533\n"
     ]
    },
    {
     "name": "stdout",
     "output_type": "stream",
     "text": [
      "10x_nuclei_v3_macosko 6-1-2\n",
      "10x_nuclei_v3_macosko Preproc and get highly variable genes 0.13134336471557617\n",
      "Removing low coverage genes...\n",
      "Getting CPM..\n",
      "Getting highly variable genes and logCPM...\n",
      "Number of genes: 3766\n",
      "10x_nuclei_v3_macosko Saving to files 0.6169679164886475\n"
     ]
    },
    {
     "name": "stderr",
     "output_type": "stream",
     "text": [
      "09/24/2019 10:04:19 AM 10x_nuclei_v3_macosko 6-1-2 Total time used: 0.9203884601593018\n"
     ]
    },
    {
     "name": "stdout",
     "output_type": "stream",
     "text": [
      "10x_nuclei_v3_macosko 6-2-1\n",
      "10x_nuclei_v3_macosko Preproc and get highly variable genes 0.19306540489196777\n",
      "Removing low coverage genes...\n",
      "Getting CPM..\n",
      "Getting highly variable genes and logCPM...\n",
      "Number of genes: 3987\n",
      "10x_nuclei_v3_macosko Saving to files 0.9660656452178955\n"
     ]
    },
    {
     "name": "stderr",
     "output_type": "stream",
     "text": [
      "09/24/2019 10:04:21 AM 10x_nuclei_v3_macosko 6-2-1 Total time used: 2.1710379123687744\n"
     ]
    },
    {
     "name": "stdout",
     "output_type": "stream",
     "text": [
      "10x_nuclei_v3_macosko 6-3-1\n",
      "10x_nuclei_v3_macosko Preproc and get highly variable genes 0.13499712944030762\n",
      "Removing low coverage genes...\n",
      "Getting CPM..\n",
      "Getting highly variable genes and logCPM...\n",
      "Number of genes: 3852\n",
      "10x_nuclei_v3_macosko Saving to files 0.448183536529541\n"
     ]
    },
    {
     "name": "stderr",
     "output_type": "stream",
     "text": [
      "09/24/2019 10:04:22 AM 10x_nuclei_v3_macosko 6-3-1 Total time used: 0.7738945484161377\n"
     ]
    },
    {
     "name": "stdout",
     "output_type": "stream",
     "text": [
      "10x_nuclei_v3_macosko 6-3-2\n",
      "10x_nuclei_v3_macosko Preproc and get highly variable genes 0.11271286010742188\n",
      "Removing low coverage genes...\n",
      "Getting CPM..\n",
      "Getting highly variable genes and logCPM...\n",
      "Number of genes: 3726\n",
      "10x_nuclei_v3_macosko Saving to files 0.3510727882385254\n"
     ]
    },
    {
     "name": "stderr",
     "output_type": "stream",
     "text": [
      "09/24/2019 10:04:23 AM 10x_nuclei_v3_macosko 6-3-2 Total time used: 0.5719470977783203\n"
     ]
    },
    {
     "name": "stdout",
     "output_type": "stream",
     "text": [
      "10x_nuclei_v3_macosko 6-3-3\n",
      "10x_nuclei_v3_macosko Preproc and get highly variable genes 0.10630393028259277\n",
      "Removing low coverage genes...\n",
      "Getting CPM..\n",
      "Getting highly variable genes and logCPM...\n",
      "Number of genes: 3773\n",
      "10x_nuclei_v3_macosko Saving to files 0.33179497718811035\n"
     ]
    },
    {
     "name": "stderr",
     "output_type": "stream",
     "text": [
      "09/24/2019 10:04:23 AM 10x_nuclei_v3_macosko 6-3-3 Total time used: 0.6356439590454102\n"
     ]
    },
    {
     "name": "stdout",
     "output_type": "stream",
     "text": [
      "10x_nuclei_v3_macosko 6-4-1\n",
      "10x_nuclei_v3_macosko Preproc and get highly variable genes 0.14358830451965332\n",
      "Removing low coverage genes...\n",
      "Getting CPM..\n",
      "Getting highly variable genes and logCPM...\n",
      "Number of genes: 3850\n",
      "10x_nuclei_v3_macosko Saving to files 0.5321736335754395\n"
     ]
    },
    {
     "name": "stderr",
     "output_type": "stream",
     "text": [
      "09/24/2019 10:04:24 AM 10x_nuclei_v3_macosko 6-4-1 Total time used: 0.9653868675231934\n"
     ]
    },
    {
     "name": "stdout",
     "output_type": "stream",
     "text": [
      "10x_nuclei_v3_macosko 6-4-2\n",
      "10x_nuclei_v3_macosko Preproc and get highly variable genes 0.12265181541442871\n",
      "Removing low coverage genes...\n",
      "Getting CPM..\n",
      "Getting highly variable genes and logCPM...\n",
      "Number of genes: 4033\n",
      "10x_nuclei_v3_macosko Saving to files 0.41549205780029297\n"
     ]
    },
    {
     "name": "stderr",
     "output_type": "stream",
     "text": [
      "09/24/2019 10:04:25 AM 10x_nuclei_v3_macosko 6-4-2 Total time used: 0.6909215450286865\n"
     ]
    },
    {
     "name": "stdout",
     "output_type": "stream",
     "text": [
      "10x_nuclei_v3_macosko 6-5-1\n",
      "10x_nuclei_v3_macosko Preproc and get highly variable genes 0.12190937995910645\n",
      "Removing low coverage genes...\n",
      "Getting CPM..\n",
      "Getting highly variable genes and logCPM...\n",
      "Number of genes: 4140\n",
      "10x_nuclei_v3_macosko Saving to files 0.42589569091796875\n"
     ]
    },
    {
     "name": "stderr",
     "output_type": "stream",
     "text": [
      "09/24/2019 10:04:26 AM 10x_nuclei_v3_macosko 6-5-1 Total time used: 0.8242509365081787\n"
     ]
    },
    {
     "name": "stdout",
     "output_type": "stream",
     "text": [
      "10x_nuclei_v3_macosko 6-5-2\n",
      "10x_nuclei_v3_macosko Preproc and get highly variable genes 0.11017489433288574\n",
      "Removing low coverage genes...\n",
      "Getting CPM..\n",
      "Getting highly variable genes and logCPM...\n",
      "Number of genes: 3807\n",
      "10x_nuclei_v3_macosko Saving to files 0.30877161026000977\n"
     ]
    },
    {
     "name": "stderr",
     "output_type": "stream",
     "text": [
      "09/24/2019 10:04:26 AM 10x_nuclei_v3_macosko 6-5-2 Total time used: 0.4556913375854492\n"
     ]
    },
    {
     "name": "stdout",
     "output_type": "stream",
     "text": [
      "10x_nuclei_v3_macosko 6-5-3\n",
      "10x_nuclei_v3_macosko Preproc and get highly variable genes 0.10444831848144531\n",
      "Removing low coverage genes...\n",
      "Getting CPM..\n",
      "Getting highly variable genes and logCPM...\n"
     ]
    },
    {
     "name": "stderr",
     "output_type": "stream",
     "text": [
      "09/24/2019 10:04:27 AM 10x_nuclei_v3_macosko 6-5-3 Total time used: 0.4553208351135254\n"
     ]
    },
    {
     "name": "stdout",
     "output_type": "stream",
     "text": [
      "Number of genes: 4127\n",
      "10x_nuclei_v3_macosko Saving to files 0.30740833282470703\n",
      "10x_nuclei_v3_macosko 6-6-1\n",
      "10x_nuclei_v3_macosko Preproc and get highly variable genes 0.10079431533813477\n",
      "Removing low coverage genes...\n",
      "Getting CPM..\n",
      "Getting highly variable genes and logCPM...\n",
      "Number of genes: 3942\n",
      "10x_nuclei_v3_macosko Saving to files 0.2806828022003174\n"
     ]
    },
    {
     "name": "stderr",
     "output_type": "stream",
     "text": [
      "09/24/2019 10:04:27 AM 10x_nuclei_v3_macosko 6-6-1 Total time used: 0.39533472061157227\n"
     ]
    },
    {
     "name": "stdout",
     "output_type": "stream",
     "text": [
      "10x_nuclei_v3_macosko 7-1-1\n",
      "10x_nuclei_v3_macosko Preproc and get highly variable genes 0.1682889461517334\n",
      "Removing low coverage genes...\n",
      "Getting CPM..\n",
      "Getting highly variable genes and logCPM...\n",
      "Number of genes: 3908\n",
      "10x_nuclei_v3_macosko Saving to files 0.8068315982818604\n"
     ]
    },
    {
     "name": "stderr",
     "output_type": "stream",
     "text": [
      "09/24/2019 10:04:29 AM 10x_nuclei_v3_macosko 7-1-1 Total time used: 1.4616682529449463\n"
     ]
    },
    {
     "name": "stdout",
     "output_type": "stream",
     "text": [
      "10x_nuclei_v3_macosko 7-1-2\n",
      "10x_nuclei_v3_macosko Preproc and get highly variable genes 0.1522209644317627\n",
      "Removing low coverage genes...\n",
      "Getting CPM..\n",
      "Getting highly variable genes and logCPM...\n",
      "Number of genes: 3728\n",
      "10x_nuclei_v3_macosko Saving to files 0.6647775173187256\n"
     ]
    },
    {
     "name": "stderr",
     "output_type": "stream",
     "text": [
      "09/24/2019 10:04:30 AM 10x_nuclei_v3_macosko 7-1-2 Total time used: 1.3330836296081543\n"
     ]
    },
    {
     "name": "stdout",
     "output_type": "stream",
     "text": [
      "10x_nuclei_v3_macosko 7-2-1\n",
      "10x_nuclei_v3_macosko Preproc and get highly variable genes 0.14902925491333008\n",
      "Removing low coverage genes...\n",
      "Getting CPM..\n",
      "Getting highly variable genes and logCPM...\n",
      "Number of genes: 3871\n",
      "10x_nuclei_v3_macosko Saving to files 0.6153671741485596\n"
     ]
    },
    {
     "name": "stderr",
     "output_type": "stream",
     "text": [
      "09/24/2019 10:04:31 AM 10x_nuclei_v3_macosko 7-2-1 Total time used: 1.1715002059936523\n"
     ]
    },
    {
     "name": "stdout",
     "output_type": "stream",
     "text": [
      "10x_nuclei_v3_macosko 7-2-2\n",
      "10x_nuclei_v3_macosko Preproc and get highly variable genes 0.09235048294067383\n",
      "Removing low coverage genes...\n",
      "Getting CPM..\n",
      "Getting highly variable genes and logCPM...\n",
      "Number of genes: 3879\n",
      "10x_nuclei_v3_macosko Saving to files 0.4133782386779785\n"
     ]
    },
    {
     "name": "stderr",
     "output_type": "stream",
     "text": [
      "09/24/2019 10:04:32 AM 10x_nuclei_v3_macosko 7-2-2 Total time used: 0.8097856044769287\n"
     ]
    },
    {
     "name": "stdout",
     "output_type": "stream",
     "text": [
      "10x_nuclei_v3_macosko 8-1-1\n",
      "10x_nuclei_v3_macosko Preproc and get highly variable genes 0.12953615188598633\n",
      "Removing low coverage genes...\n",
      "Getting CPM..\n",
      "Getting highly variable genes and logCPM...\n",
      "Number of genes: 4014\n",
      "10x_nuclei_v3_macosko Saving to files 0.5258369445800781\n"
     ]
    },
    {
     "name": "stderr",
     "output_type": "stream",
     "text": [
      "09/24/2019 10:04:33 AM 10x_nuclei_v3_macosko 8-1-1 Total time used: 0.9773449897766113\n"
     ]
    },
    {
     "name": "stdout",
     "output_type": "stream",
     "text": [
      "10x_nuclei_v3_macosko 8-1-2\n",
      "10x_nuclei_v3_macosko Preproc and get highly variable genes 0.11871838569641113\n",
      "Removing low coverage genes...\n",
      "Getting CPM..\n",
      "Getting highly variable genes and logCPM...\n",
      "Number of genes: 4095\n",
      "10x_nuclei_v3_macosko Saving to files 0.42069339752197266\n"
     ]
    },
    {
     "name": "stderr",
     "output_type": "stream",
     "text": [
      "09/24/2019 10:04:34 AM 10x_nuclei_v3_macosko 8-1-2 Total time used: 0.70528244972229\n"
     ]
    },
    {
     "name": "stdout",
     "output_type": "stream",
     "text": [
      "10x_nuclei_v3_macosko 8-2-1\n",
      "10x_nuclei_v3_macosko Preproc and get highly variable genes 0.12804365158081055\n",
      "Removing low coverage genes...\n",
      "Getting CPM..\n",
      "Getting highly variable genes and logCPM...\n",
      "Number of genes: 4058\n",
      "10x_nuclei_v3_macosko Saving to files 0.6083378791809082\n"
     ]
    },
    {
     "name": "stderr",
     "output_type": "stream",
     "text": [
      "09/24/2019 10:04:35 AM 10x_nuclei_v3_macosko 8-2-1 Total time used: 1.0832772254943848\n"
     ]
    },
    {
     "name": "stdout",
     "output_type": "stream",
     "text": [
      "10x_nuclei_v3_macosko 8-3-1\n",
      "10x_nuclei_v3_macosko Preproc and get highly variable genes 0.09446334838867188\n",
      "Removing low coverage genes...\n",
      "Getting CPM..\n",
      "Getting highly variable genes and logCPM...\n"
     ]
    },
    {
     "name": "stderr",
     "output_type": "stream",
     "text": [
      "09/24/2019 10:04:35 AM 10x_nuclei_v3_macosko 8-3-1 Total time used: 0.30286169052124023\n"
     ]
    },
    {
     "name": "stdout",
     "output_type": "stream",
     "text": [
      "Number of genes: 4244\n",
      "10x_nuclei_v3_macosko Saving to files 0.2482891082763672\n",
      "10x_nuclei_v3_macosko 8-3-2\n",
      "10x_nuclei_v3_macosko Preproc and get highly variable genes 0.0842599868774414\n",
      "Removing low coverage genes...\n",
      "Getting CPM..\n",
      "Getting highly variable genes and logCPM...\n"
     ]
    },
    {
     "name": "stderr",
     "output_type": "stream",
     "text": [
      "09/24/2019 10:04:35 AM 10x_nuclei_v3_macosko 8-3-2 Total time used: 0.23536324501037598\n"
     ]
    },
    {
     "name": "stdout",
     "output_type": "stream",
     "text": [
      "Number of genes: 3546\n",
      "10x_nuclei_v3_macosko Saving to files 0.20797109603881836\n",
      "10x_nuclei_v3_macosko 9-1-1\n",
      "10x_nuclei_v3_macosko Preproc and get highly variable genes 0.15784263610839844\n",
      "Removing low coverage genes...\n",
      "Getting CPM..\n",
      "Getting highly variable genes and logCPM...\n",
      "Number of genes: 4428\n",
      "10x_nuclei_v3_macosko Saving to files 0.7776293754577637\n"
     ]
    },
    {
     "name": "stderr",
     "output_type": "stream",
     "text": [
      "09/24/2019 10:04:37 AM 10x_nuclei_v3_macosko 9-1-1 Total time used: 1.5715196132659912\n"
     ]
    },
    {
     "name": "stdout",
     "output_type": "stream",
     "text": [
      "10x_nuclei_v3_macosko 9-2-1\n",
      "10x_nuclei_v3_macosko Preproc and get highly variable genes 0.10683131217956543\n",
      "Removing low coverage genes...\n",
      "Getting CPM..\n",
      "Getting highly variable genes and logCPM...\n",
      "Number of genes: 4338\n",
      "10x_nuclei_v3_macosko Saving to files 0.37495994567871094\n"
     ]
    },
    {
     "name": "stderr",
     "output_type": "stream",
     "text": [
      "09/24/2019 10:04:37 AM 10x_nuclei_v3_macosko 9-2-1 Total time used: 0.6165480613708496\n"
     ]
    },
    {
     "name": "stdout",
     "output_type": "stream",
     "text": [
      "10x_nuclei_v3_macosko 9-2-2\n",
      "10x_nuclei_v3_macosko Preproc and get highly variable genes 0.11477994918823242\n",
      "Removing low coverage genes...\n",
      "Getting CPM..\n",
      "Getting highly variable genes and logCPM...\n",
      "Number of genes: 4385\n",
      "10x_nuclei_v3_macosko Saving to files 0.39759230613708496\n"
     ]
    },
    {
     "name": "stderr",
     "output_type": "stream",
     "text": [
      "09/24/2019 10:04:38 AM 10x_nuclei_v3_macosko 9-2-2 Total time used: 0.6544098854064941\n"
     ]
    },
    {
     "name": "stdout",
     "output_type": "stream",
     "text": [
      "smarter_cells 1-1-1\n",
      "smarter_cells Preproc and get highly variable genes 0.27823972702026367\n",
      "Imputing gene lengths...\n",
      "Removing low coverage genes...\n",
      "Getting CPM..\n",
      "Getting highly variable genes and logCPM...\n",
      "Getting logTPM...\n",
      "Trim logTPM matrix...\n",
      "Number of genes: 5643\n",
      "smarter_cells Saving to files 2.3733229637145996\n"
     ]
    },
    {
     "name": "stderr",
     "output_type": "stream",
     "text": [
      "09/24/2019 10:04:42 AM smarter_cells 1-1-1 Total time used: 3.708329439163208\n"
     ]
    },
    {
     "name": "stdout",
     "output_type": "stream",
     "text": [
      "smarter_cells 1-2-1\n",
      "smarter_cells Preproc and get highly variable genes 0.153822660446167\n",
      "Imputing gene lengths...\n",
      "Removing low coverage genes...\n",
      "Getting CPM..\n",
      "Getting highly variable genes and logCPM...\n",
      "Getting logTPM...\n",
      "Trim logTPM matrix...\n",
      "Number of genes: 5676\n",
      "smarter_cells Saving to files 1.0732004642486572\n"
     ]
    },
    {
     "name": "stderr",
     "output_type": "stream",
     "text": [
      "09/24/2019 10:04:44 AM smarter_cells 1-2-1 Total time used: 1.7932469844818115\n"
     ]
    },
    {
     "name": "stdout",
     "output_type": "stream",
     "text": [
      "smarter_cells 1-2-2\n",
      "smarter_cells Preproc and get highly variable genes 0.11112093925476074\n",
      "Imputing gene lengths...\n",
      "Removing low coverage genes...\n",
      "Getting CPM..\n",
      "Getting highly variable genes and logCPM...\n",
      "Getting logTPM...\n",
      "Trim logTPM matrix...\n",
      "Number of genes: 5706\n",
      "smarter_cells Saving to files 0.5751850605010986\n"
     ]
    },
    {
     "name": "stderr",
     "output_type": "stream",
     "text": [
      "09/24/2019 10:04:44 AM smarter_cells 1-2-2 Total time used: 0.8436894416809082\n"
     ]
    },
    {
     "name": "stdout",
     "output_type": "stream",
     "text": [
      "smarter_cells 10-1-1\n",
      "smarter_cells Preproc and get highly variable genes 0.06898069381713867\n",
      "Imputing gene lengths...\n",
      "Removing low coverage genes...\n",
      "Getting CPM..\n",
      "Getting highly variable genes and logCPM...\n"
     ]
    },
    {
     "name": "stderr",
     "output_type": "stream",
     "text": [
      "09/24/2019 10:04:45 AM smarter_cells 10-1-1 Total time used: 0.2835078239440918\n"
     ]
    },
    {
     "name": "stdout",
     "output_type": "stream",
     "text": [
      "Getting logTPM...\n",
      "Trim logTPM matrix...\n",
      "Number of genes: 4415\n",
      "smarter_cells Saving to files 0.2454977035522461\n",
      "smarter_cells 2-1-1\n",
      "smarter_cells Preproc and get highly variable genes 0.0870661735534668\n",
      "Imputing gene lengths...\n",
      "Removing low coverage genes...\n",
      "Getting CPM..\n",
      "Getting highly variable genes and logCPM...\n",
      "Getting logTPM...\n",
      "Trim logTPM matrix...\n",
      "Number of genes: 5720\n",
      "smarter_cells Saving to files 0.3820033073425293\n"
     ]
    },
    {
     "name": "stderr",
     "output_type": "stream",
     "text": [
      "09/24/2019 10:04:45 AM smarter_cells 2-1-1 Total time used: 0.6030652523040771\n"
     ]
    },
    {
     "name": "stdout",
     "output_type": "stream",
     "text": [
      "smarter_cells 2-1-2\n",
      "smarter_cells Preproc and get highly variable genes 0.10670280456542969\n",
      "Imputing gene lengths...\n",
      "Removing low coverage genes...\n",
      "Getting CPM..\n",
      "Getting highly variable genes and logCPM...\n",
      "Getting logTPM...\n",
      "Trim logTPM matrix...\n",
      "Number of genes: 5582\n",
      "smarter_cells Saving to files 0.6411471366882324\n"
     ]
    },
    {
     "name": "stderr",
     "output_type": "stream",
     "text": [
      "09/24/2019 10:04:46 AM smarter_cells 2-1-2 Total time used: 0.9011075496673584\n"
     ]
    },
    {
     "name": "stdout",
     "output_type": "stream",
     "text": [
      "smarter_cells 2-2-1\n",
      "smarter_cells Preproc and get highly variable genes 0.2746388912200928\n",
      "Imputing gene lengths...\n",
      "Removing low coverage genes...\n",
      "Getting CPM..\n",
      "Getting highly variable genes and logCPM...\n",
      "Getting logTPM...\n",
      "Trim logTPM matrix...\n",
      "Number of genes: 5688\n",
      "smarter_cells Saving to files 2.179992437362671\n"
     ]
    },
    {
     "name": "stderr",
     "output_type": "stream",
     "text": [
      "09/24/2019 10:04:50 AM smarter_cells 2-2-1 Total time used: 3.3956151008605957\n"
     ]
    },
    {
     "name": "stdout",
     "output_type": "stream",
     "text": [
      "smarter_cells 2-2-2\n",
      "smarter_cells Preproc and get highly variable genes 0.09516143798828125\n",
      "Imputing gene lengths...\n",
      "Removing low coverage genes...\n",
      "Getting CPM..\n",
      "Getting highly variable genes and logCPM...\n",
      "Getting logTPM...\n",
      "Trim logTPM matrix...\n",
      "Number of genes: 5588\n",
      "smarter_cells Saving to files 0.40077686309814453\n"
     ]
    },
    {
     "name": "stderr",
     "output_type": "stream",
     "text": [
      "09/24/2019 10:04:50 AM smarter_cells 2-2-2 Total time used: 0.5473849773406982\n"
     ]
    },
    {
     "name": "stdout",
     "output_type": "stream",
     "text": [
      "smarter_cells 2-2-3\n",
      "smarter_cells Preproc and get highly variable genes 0.0731039047241211\n",
      "Imputing gene lengths...\n",
      "Removing low coverage genes...\n",
      "Getting CPM..\n",
      "Getting highly variable genes and logCPM...\n"
     ]
    },
    {
     "name": "stderr",
     "output_type": "stream",
     "text": [
      "09/24/2019 10:04:50 AM smarter_cells 2-2-3 Total time used: 0.3141756057739258\n"
     ]
    },
    {
     "name": "stdout",
     "output_type": "stream",
     "text": [
      "Getting logTPM...\n",
      "Trim logTPM matrix...\n",
      "Number of genes: 5005\n",
      "smarter_cells Saving to files 0.2662992477416992\n",
      "smarter_cells 2-3-1\n",
      "smarter_cells Preproc and get highly variable genes 0.08525609970092773\n",
      "Imputing gene lengths...\n",
      "Removing low coverage genes...\n",
      "Getting CPM..\n",
      "Getting highly variable genes and logCPM...\n",
      "Getting logTPM...\n",
      "Trim logTPM matrix...\n",
      "Number of genes: 5533\n",
      "smarter_cells Saving to files 0.3387880325317383\n"
     ]
    },
    {
     "name": "stderr",
     "output_type": "stream",
     "text": [
      "09/24/2019 10:04:51 AM smarter_cells 2-3-1 Total time used: 0.4316873550415039\n"
     ]
    },
    {
     "name": "stdout",
     "output_type": "stream",
     "text": [
      "smarter_cells 2-3-2\n",
      "smarter_cells Preproc and get highly variable genes 0.07327651977539062\n",
      "Imputing gene lengths...\n",
      "Removing low coverage genes...\n",
      "Getting CPM..\n",
      "Getting highly variable genes and logCPM...\n",
      "Getting logTPM...\n"
     ]
    },
    {
     "name": "stderr",
     "output_type": "stream",
     "text": [
      "09/24/2019 10:04:51 AM smarter_cells 2-3-2 Total time used: 0.23054099082946777\n"
     ]
    },
    {
     "name": "stdout",
     "output_type": "stream",
     "text": [
      "Trim logTPM matrix...\n",
      "Number of genes: 2781\n",
      "smarter_cells Saving to files 0.21824431419372559\n",
      "smarter_cells 2-3-3\n",
      "smarter_cells Preproc and get highly variable genes 0.07144808769226074\n",
      "Imputing gene lengths...\n",
      "Removing low coverage genes...\n",
      "Getting CPM..\n",
      "Getting highly variable genes and logCPM...\n"
     ]
    },
    {
     "name": "stderr",
     "output_type": "stream",
     "text": [
      "09/24/2019 10:04:51 AM smarter_cells 2-3-3 Total time used: 0.2776222229003906\n"
     ]
    },
    {
     "name": "stdout",
     "output_type": "stream",
     "text": [
      "Getting logTPM...\n",
      "Trim logTPM matrix...\n",
      "Number of genes: 4378\n",
      "smarter_cells Saving to files 0.24515104293823242\n",
      "smarter_cells 3-1-1\n",
      "smarter_cells Preproc and get highly variable genes 0.1997971534729004\n",
      "Imputing gene lengths...\n",
      "Removing low coverage genes...\n",
      "Getting CPM..\n",
      "Getting highly variable genes and logCPM...\n",
      "Getting logTPM...\n",
      "Trim logTPM matrix...\n",
      "Number of genes: 5679\n",
      "smarter_cells Saving to files 1.5357098579406738\n"
     ]
    },
    {
     "name": "stderr",
     "output_type": "stream",
     "text": [
      "09/24/2019 10:04:54 AM smarter_cells 3-1-1 Total time used: 2.457265615463257\n"
     ]
    },
    {
     "name": "stdout",
     "output_type": "stream",
     "text": [
      "smarter_cells 3-1-2\n",
      "smarter_cells Preproc and get highly variable genes 0.08206343650817871\n",
      "Imputing gene lengths...\n",
      "Removing low coverage genes...\n",
      "Getting CPM..\n",
      "Getting highly variable genes and logCPM...\n"
     ]
    },
    {
     "name": "stderr",
     "output_type": "stream",
     "text": [
      "09/24/2019 10:04:54 AM smarter_cells 3-1-2 Total time used: 0.3622562885284424\n"
     ]
    },
    {
     "name": "stdout",
     "output_type": "stream",
     "text": [
      "Getting logTPM...\n",
      "Trim logTPM matrix...\n",
      "Number of genes: 5202\n",
      "smarter_cells Saving to files 0.29926538467407227\n",
      "smarter_cells 3-2-1\n",
      "smarter_cells Preproc and get highly variable genes 0.18162274360656738\n",
      "Imputing gene lengths...\n",
      "Removing low coverage genes...\n",
      "Getting CPM..\n",
      "Getting highly variable genes and logCPM...\n",
      "Getting logTPM...\n",
      "Trim logTPM matrix...\n",
      "Number of genes: 5724\n",
      "smarter_cells Saving to files 1.1958768367767334\n"
     ]
    },
    {
     "name": "stderr",
     "output_type": "stream",
     "text": [
      "09/24/2019 10:04:56 AM smarter_cells 3-2-1 Total time used: 1.8761577606201172\n"
     ]
    },
    {
     "name": "stdout",
     "output_type": "stream",
     "text": [
      "smarter_cells 3-3-1\n",
      "smarter_cells Preproc and get highly variable genes 0.06550407409667969\n",
      "Imputing gene lengths...\n",
      "Removing low coverage genes...\n",
      "Getting CPM..\n",
      "Getting highly variable genes and logCPM...\n",
      "Getting logTPM...\n"
     ]
    },
    {
     "name": "stderr",
     "output_type": "stream",
     "text": [
      "09/24/2019 10:04:56 AM smarter_cells 3-3-1 Total time used: 0.23999524116516113\n"
     ]
    },
    {
     "name": "stdout",
     "output_type": "stream",
     "text": [
      "Trim logTPM matrix...\n",
      "Number of genes: 4032\n",
      "smarter_cells Saving to files 0.219771146774292\n",
      "smarter_cells 4-1-1\n",
      "smarter_cells Preproc and get highly variable genes 0.19432735443115234\n",
      "Imputing gene lengths...\n",
      "Removing low coverage genes...\n",
      "Getting CPM..\n",
      "Getting highly variable genes and logCPM...\n",
      "Getting logTPM...\n",
      "Trim logTPM matrix...\n",
      "Number of genes: 5859\n",
      "smarter_cells Saving to files 1.2907886505126953\n"
     ]
    },
    {
     "name": "stderr",
     "output_type": "stream",
     "text": [
      "09/24/2019 10:04:58 AM smarter_cells 4-1-1 Total time used: 2.0381555557250977\n"
     ]
    },
    {
     "name": "stdout",
     "output_type": "stream",
     "text": [
      "smarter_cells 4-1-2\n",
      "smarter_cells Preproc and get highly variable genes 0.07194852828979492\n",
      "Imputing gene lengths...\n",
      "Removing low coverage genes...\n",
      "Getting CPM..\n",
      "Getting highly variable genes and logCPM...\n"
     ]
    },
    {
     "name": "stderr",
     "output_type": "stream",
     "text": [
      "09/24/2019 10:04:59 AM smarter_cells 4-1-2 Total time used: 0.29312992095947266\n"
     ]
    },
    {
     "name": "stdout",
     "output_type": "stream",
     "text": [
      "Getting logTPM...\n",
      "Trim logTPM matrix...\n",
      "Number of genes: 4359\n",
      "smarter_cells Saving to files 0.23288202285766602\n",
      "smarter_cells 4-2-1\n",
      "smarter_cells Preproc and get highly variable genes 0.09079933166503906\n",
      "Imputing gene lengths...\n",
      "Removing low coverage genes...\n",
      "Getting CPM..\n",
      "Getting highly variable genes and logCPM...\n",
      "Getting logTPM...\n",
      "Trim logTPM matrix...\n",
      "Number of genes: 5965\n",
      "smarter_cells Saving to files 0.7107288837432861\n"
     ]
    },
    {
     "name": "stderr",
     "output_type": "stream",
     "text": [
      "09/24/2019 10:05:00 AM smarter_cells 4-2-1 Total time used: 1.0374813079833984\n"
     ]
    },
    {
     "name": "stdout",
     "output_type": "stream",
     "text": [
      "smarter_cells 4-2-2\n",
      "smarter_cells Preproc and get highly variable genes 0.07060122489929199\n",
      "Imputing gene lengths...\n",
      "Removing low coverage genes...\n",
      "Getting CPM..\n",
      "Getting highly variable genes and logCPM...\n"
     ]
    },
    {
     "name": "stderr",
     "output_type": "stream",
     "text": [
      "09/24/2019 10:05:00 AM smarter_cells 4-2-2 Total time used: 0.3398301601409912\n"
     ]
    },
    {
     "name": "stdout",
     "output_type": "stream",
     "text": [
      "Getting logTPM...\n",
      "Trim logTPM matrix...\n",
      "Number of genes: 4094\n",
      "smarter_cells Saving to files 0.2952702045440674\n",
      "smarter_cells 4-2-3\n",
      "smarter_cells Preproc and get highly variable genes 0.07273340225219727\n",
      "Imputing gene lengths...\n",
      "Removing low coverage genes...\n",
      "Getting CPM..\n",
      "Getting highly variable genes and logCPM...\n"
     ]
    },
    {
     "name": "stderr",
     "output_type": "stream",
     "text": [
      "09/24/2019 10:05:00 AM smarter_cells 4-2-3 Total time used: 0.3187870979309082\n"
     ]
    },
    {
     "name": "stdout",
     "output_type": "stream",
     "text": [
      "Getting logTPM...\n",
      "Trim logTPM matrix...\n",
      "Number of genes: 4459\n",
      "smarter_cells Saving to files 0.25597047805786133\n",
      "smarter_cells 5-1-1\n",
      "smarter_cells Preproc and get highly variable genes 0.1746065616607666\n",
      "Imputing gene lengths...\n",
      "Removing low coverage genes...\n",
      "Getting CPM..\n",
      "Getting highly variable genes and logCPM...\n",
      "Getting logTPM...\n",
      "Trim logTPM matrix...\n",
      "Number of genes: 5049\n",
      "smarter_cells Saving to files 1.2408459186553955\n"
     ]
    },
    {
     "name": "stderr",
     "output_type": "stream",
     "text": [
      "09/24/2019 10:05:02 AM smarter_cells 5-1-1 Total time used: 1.9148175716400146\n"
     ]
    },
    {
     "name": "stdout",
     "output_type": "stream",
     "text": [
      "smarter_cells 5-1-2\n",
      "smarter_cells Preproc and get highly variable genes 0.0942237377166748\n",
      "Imputing gene lengths...\n",
      "Removing low coverage genes...\n",
      "Getting CPM..\n",
      "Getting highly variable genes and logCPM...\n",
      "Getting logTPM...\n",
      "Trim logTPM matrix...\n",
      "Number of genes: 5612\n",
      "smarter_cells Saving to files 0.5060412883758545\n"
     ]
    },
    {
     "name": "stderr",
     "output_type": "stream",
     "text": [
      "09/24/2019 10:05:03 AM smarter_cells 5-1-2 Total time used: 0.734511137008667\n"
     ]
    },
    {
     "name": "stdout",
     "output_type": "stream",
     "text": [
      "smarter_cells 5-2-1\n",
      "smarter_cells Preproc and get highly variable genes 0.1189737319946289\n",
      "Imputing gene lengths...\n",
      "Removing low coverage genes...\n",
      "Getting CPM..\n",
      "Getting highly variable genes and logCPM...\n",
      "Getting logTPM...\n",
      "Trim logTPM matrix...\n",
      "Number of genes: 5301\n",
      "smarter_cells Saving to files 0.5848748683929443\n"
     ]
    },
    {
     "name": "stderr",
     "output_type": "stream",
     "text": [
      "09/24/2019 10:05:04 AM smarter_cells 5-2-1 Total time used: 0.8629181385040283\n"
     ]
    },
    {
     "name": "stdout",
     "output_type": "stream",
     "text": [
      "smarter_cells 5-2-2\n",
      "smarter_cells Preproc and get highly variable genes 0.10211491584777832\n",
      "Imputing gene lengths...\n",
      "Removing low coverage genes...\n",
      "Getting CPM..\n",
      "Getting highly variable genes and logCPM...\n",
      "Getting logTPM...\n"
     ]
    },
    {
     "name": "stderr",
     "output_type": "stream",
     "text": [
      "09/24/2019 10:05:04 AM smarter_cells 5-2-2 Total time used: 0.6016390323638916\n"
     ]
    },
    {
     "name": "stdout",
     "output_type": "stream",
     "text": [
      "Trim logTPM matrix...\n",
      "Number of genes: 5580\n",
      "smarter_cells Saving to files 0.4414951801300049\n",
      "smarter_cells 5-2-3\n",
      "smarter_cells Preproc and get highly variable genes 0.08531546592712402\n",
      "Imputing gene lengths...\n",
      "Removing low coverage genes...\n",
      "Getting CPM..\n",
      "Getting highly variable genes and logCPM...\n",
      "Getting logTPM...\n"
     ]
    },
    {
     "name": "stderr",
     "output_type": "stream",
     "text": [
      "09/24/2019 10:05:05 AM smarter_cells 5-2-3 Total time used: 0.4539783000946045\n"
     ]
    },
    {
     "name": "stdout",
     "output_type": "stream",
     "text": [
      "Trim logTPM matrix...\n",
      "Number of genes: 5107\n",
      "smarter_cells Saving to files 0.3182251453399658\n",
      "smarter_cells 5-3-1\n",
      "smarter_cells Preproc and get highly variable genes 0.08753442764282227\n",
      "Imputing gene lengths...\n",
      "Removing low coverage genes...\n",
      "Getting CPM..\n",
      "Getting highly variable genes and logCPM...\n",
      "Getting logTPM...\n"
     ]
    },
    {
     "name": "stderr",
     "output_type": "stream",
     "text": [
      "09/24/2019 10:05:05 AM smarter_cells 5-3-1 Total time used: 0.5190467834472656\n"
     ]
    },
    {
     "name": "stdout",
     "output_type": "stream",
     "text": [
      "Trim logTPM matrix...\n",
      "Number of genes: 5524\n",
      "smarter_cells Saving to files 0.38620591163635254\n",
      "smarter_cells 5-3-2\n",
      "smarter_cells Preproc and get highly variable genes 0.07658505439758301\n",
      "Imputing gene lengths...\n",
      "Removing low coverage genes...\n",
      "Getting CPM..\n",
      "Getting highly variable genes and logCPM...\n",
      "Getting logTPM...\n",
      "Trim logTPM matrix...\n",
      "Number of genes: 4386\n",
      "smarter_cells Saving to files 0.25513601303100586\n"
     ]
    },
    {
     "name": "stderr",
     "output_type": "stream",
     "text": [
      "09/24/2019 10:05:06 AM smarter_cells 5-3-2 Total time used: 0.29047608375549316\n"
     ]
    },
    {
     "name": "stdout",
     "output_type": "stream",
     "text": [
      "smarter_cells 5-4-1\n",
      "smarter_cells Preproc and get highly variable genes 0.06237959861755371\n",
      "Imputing gene lengths...\n",
      "Removing low coverage genes...\n",
      "Getting CPM..\n",
      "Getting highly variable genes and logCPM...\n",
      "Getting logTPM...\n"
     ]
    },
    {
     "name": "stderr",
     "output_type": "stream",
     "text": [
      "09/24/2019 10:05:06 AM smarter_cells 5-4-1 Total time used: 0.23583579063415527\n"
     ]
    },
    {
     "name": "stdout",
     "output_type": "stream",
     "text": [
      "Trim logTPM matrix...\n",
      "Number of genes: 3849\n",
      "smarter_cells Saving to files 0.21235966682434082\n",
      "smarter_cells 5-5-1\n",
      "smarter_cells Preproc and get highly variable genes 0.07460689544677734\n",
      "Imputing gene lengths...\n",
      "Removing low coverage genes...\n",
      "Getting CPM..\n",
      "Getting highly variable genes and logCPM...\n"
     ]
    },
    {
     "name": "stderr",
     "output_type": "stream",
     "text": [
      "09/24/2019 10:05:06 AM smarter_cells 5-5-1 Total time used: 0.329392671585083\n"
     ]
    },
    {
     "name": "stdout",
     "output_type": "stream",
     "text": [
      "Getting logTPM...\n",
      "Trim logTPM matrix...\n",
      "Number of genes: 4241\n",
      "smarter_cells Saving to files 0.27854084968566895\n",
      "smarter_cells 6-1-1\n",
      "smarter_cells Preproc and get highly variable genes 0.11825346946716309\n",
      "Imputing gene lengths...\n",
      "Removing low coverage genes...\n",
      "Getting CPM..\n",
      "Getting highly variable genes and logCPM...\n",
      "Getting logTPM...\n",
      "Trim logTPM matrix...\n",
      "Number of genes: 4959\n",
      "smarter_cells Saving to files 0.562502384185791\n"
     ]
    },
    {
     "name": "stderr",
     "output_type": "stream",
     "text": [
      "09/24/2019 10:05:07 AM smarter_cells 6-1-1 Total time used: 0.9280941486358643\n"
     ]
    },
    {
     "name": "stdout",
     "output_type": "stream",
     "text": [
      "smarter_cells 6-1-2\n",
      "smarter_cells Preproc and get highly variable genes 0.10261178016662598\n",
      "Imputing gene lengths...\n",
      "Removing low coverage genes...\n",
      "Getting CPM..\n",
      "Getting highly variable genes and logCPM...\n",
      "Getting logTPM...\n",
      "Trim logTPM matrix...\n",
      "Number of genes: 5076\n",
      "smarter_cells Saving to files 0.44730234146118164\n"
     ]
    },
    {
     "name": "stderr",
     "output_type": "stream",
     "text": [
      "09/24/2019 10:05:08 AM smarter_cells 6-1-2 Total time used: 0.7205972671508789\n"
     ]
    },
    {
     "name": "stdout",
     "output_type": "stream",
     "text": [
      "smarter_cells 6-2-1\n",
      "smarter_cells Preproc and get highly variable genes 0.13214874267578125\n",
      "Imputing gene lengths...\n",
      "Removing low coverage genes...\n",
      "Getting CPM..\n",
      "Getting highly variable genes and logCPM...\n",
      "Getting logTPM...\n",
      "Trim logTPM matrix...\n",
      "Number of genes: 5337\n",
      "smarter_cells Saving to files 0.723360538482666\n"
     ]
    },
    {
     "name": "stderr",
     "output_type": "stream",
     "text": [
      "09/24/2019 10:05:09 AM smarter_cells 6-2-1 Total time used: 1.106489658355713\n"
     ]
    },
    {
     "name": "stdout",
     "output_type": "stream",
     "text": [
      "smarter_cells 6-3-1\n",
      "smarter_cells Preproc and get highly variable genes 0.11551523208618164\n",
      "Imputing gene lengths...\n",
      "Removing low coverage genes...\n",
      "Getting CPM..\n",
      "Getting highly variable genes and logCPM...\n",
      "Getting logTPM...\n",
      "Trim logTPM matrix...\n",
      "Number of genes: 5122\n",
      "smarter_cells Saving to files 0.4791831970214844\n"
     ]
    },
    {
     "name": "stderr",
     "output_type": "stream",
     "text": [
      "09/24/2019 10:05:10 AM smarter_cells 6-3-1 Total time used: 0.6614701747894287\n"
     ]
    },
    {
     "name": "stdout",
     "output_type": "stream",
     "text": [
      "smarter_cells 6-3-2\n",
      "smarter_cells Preproc and get highly variable genes 0.08387351036071777\n",
      "Imputing gene lengths...\n",
      "Removing low coverage genes...\n",
      "Getting CPM..\n",
      "Getting highly variable genes and logCPM...\n",
      "Getting logTPM...\n",
      "Trim logTPM matrix...\n",
      "Number of genes: 5312\n",
      "smarter_cells Saving to files 0.3592550754547119\n"
     ]
    },
    {
     "name": "stderr",
     "output_type": "stream",
     "text": [
      "09/24/2019 10:05:10 AM smarter_cells 6-3-2 Total time used: 0.5336086750030518\n"
     ]
    },
    {
     "name": "stdout",
     "output_type": "stream",
     "text": [
      "smarter_cells 6-3-3\n",
      "smarter_cells Preproc and get highly variable genes 0.09720897674560547\n",
      "Imputing gene lengths...\n",
      "Removing low coverage genes...\n",
      "Getting CPM..\n",
      "Getting highly variable genes and logCPM...\n",
      "Getting logTPM...\n",
      "Trim logTPM matrix...\n",
      "Number of genes: 5502\n",
      "smarter_cells Saving to files 0.45076513290405273\n"
     ]
    },
    {
     "name": "stderr",
     "output_type": "stream",
     "text": [
      "09/24/2019 10:05:11 AM smarter_cells 6-3-3 Total time used: 0.640479326248169\n"
     ]
    },
    {
     "name": "stdout",
     "output_type": "stream",
     "text": [
      "smarter_cells 6-4-1\n",
      "smarter_cells Preproc and get highly variable genes 0.09344196319580078\n",
      "Imputing gene lengths...\n",
      "Removing low coverage genes...\n",
      "Getting CPM..\n",
      "Getting highly variable genes and logCPM...\n",
      "Getting logTPM...\n",
      "Trim logTPM matrix...\n",
      "Number of genes: 5445\n",
      "smarter_cells Saving to files 0.41302990913391113\n"
     ]
    },
    {
     "name": "stderr",
     "output_type": "stream",
     "text": [
      "09/24/2019 10:05:11 AM smarter_cells 6-4-1 Total time used: 0.589735746383667\n"
     ]
    },
    {
     "name": "stdout",
     "output_type": "stream",
     "text": [
      "smarter_cells 6-4-2\n",
      "smarter_cells Preproc and get highly variable genes 0.08867740631103516\n",
      "Imputing gene lengths...\n",
      "Removing low coverage genes...\n",
      "Getting CPM..\n",
      "Getting highly variable genes and logCPM...\n",
      "Getting logTPM...\n",
      "Trim logTPM matrix...\n",
      "Number of genes: 5189\n",
      "smarter_cells Saving to files 0.34278345108032227\n"
     ]
    },
    {
     "name": "stderr",
     "output_type": "stream",
     "text": [
      "09/24/2019 10:05:12 AM smarter_cells 6-4-2 Total time used: 0.5140061378479004\n"
     ]
    },
    {
     "name": "stdout",
     "output_type": "stream",
     "text": [
      "smarter_cells 6-5-1\n",
      "smarter_cells Preproc and get highly variable genes 0.0858297348022461\n",
      "Imputing gene lengths...\n",
      "Removing low coverage genes...\n",
      "Getting CPM..\n",
      "Getting highly variable genes and logCPM...\n"
     ]
    },
    {
     "name": "stderr",
     "output_type": "stream",
     "text": [
      "09/24/2019 10:05:12 AM smarter_cells 6-5-1 Total time used: 0.45472097396850586\n"
     ]
    },
    {
     "name": "stdout",
     "output_type": "stream",
     "text": [
      "Getting logTPM...\n",
      "Trim logTPM matrix...\n",
      "Number of genes: 5085\n",
      "smarter_cells Saving to files 0.3150138854980469\n",
      "smarter_cells 6-5-2\n",
      "smarter_cells Preproc and get highly variable genes 0.07584738731384277\n",
      "Imputing gene lengths...\n",
      "Removing low coverage genes...\n",
      "Getting CPM..\n",
      "Getting highly variable genes and logCPM...\n",
      "Getting logTPM...\n",
      "Trim logTPM matrix...\n",
      "Number of genes: 4765\n",
      "smarter_cells Saving to files 0.27600646018981934\n"
     ]
    },
    {
     "name": "stderr",
     "output_type": "stream",
     "text": [
      "09/24/2019 10:05:13 AM smarter_cells 6-5-2 Total time used: 0.33850717544555664\n"
     ]
    },
    {
     "name": "stdout",
     "output_type": "stream",
     "text": [
      "smarter_cells 6-5-3\n",
      "smarter_cells Preproc and get highly variable genes 0.08316254615783691\n",
      "Imputing gene lengths...\n",
      "Removing low coverage genes...\n",
      "Getting CPM..\n",
      "Getting highly variable genes and logCPM...\n"
     ]
    },
    {
     "name": "stderr",
     "output_type": "stream",
     "text": [
      "09/24/2019 10:05:13 AM smarter_cells 6-5-3 Total time used: 0.4032590389251709\n"
     ]
    },
    {
     "name": "stdout",
     "output_type": "stream",
     "text": [
      "Getting logTPM...\n",
      "Trim logTPM matrix...\n",
      "Number of genes: 5083\n",
      "smarter_cells Saving to files 0.31922292709350586\n",
      "smarter_cells 6-6-1\n",
      "smarter_cells Preproc and get highly variable genes 0.0698397159576416\n",
      "Imputing gene lengths...\n",
      "Removing low coverage genes...\n",
      "Getting CPM..\n",
      "Getting highly variable genes and logCPM...\n"
     ]
    },
    {
     "name": "stderr",
     "output_type": "stream",
     "text": [
      "09/24/2019 10:05:14 AM smarter_cells 6-6-1 Total time used: 0.48818087577819824\n"
     ]
    },
    {
     "name": "stdout",
     "output_type": "stream",
     "text": [
      "Getting logTPM...\n",
      "Trim logTPM matrix...\n",
      "Number of genes: 3836\n",
      "smarter_cells Saving to files 0.46454691886901855\n",
      "smarter_cells 7-1-1\n",
      "smarter_cells Preproc and get highly variable genes 0.10176825523376465\n",
      "Imputing gene lengths...\n",
      "Removing low coverage genes...\n",
      "Getting CPM..\n",
      "Getting highly variable genes and logCPM...\n",
      "Getting logTPM...\n",
      "Trim logTPM matrix...\n",
      "Number of genes: 5829\n",
      "smarter_cells Saving to files 0.4750800132751465\n"
     ]
    },
    {
     "name": "stderr",
     "output_type": "stream",
     "text": [
      "09/24/2019 10:05:14 AM smarter_cells 7-1-1 Total time used: 0.6739468574523926\n"
     ]
    },
    {
     "name": "stdout",
     "output_type": "stream",
     "text": [
      "smarter_cells 7-1-2\n",
      "smarter_cells Preproc and get highly variable genes 0.07784724235534668\n",
      "Imputing gene lengths...\n",
      "Removing low coverage genes...\n",
      "Getting CPM..\n",
      "Getting highly variable genes and logCPM...\n"
     ]
    },
    {
     "name": "stderr",
     "output_type": "stream",
     "text": [
      "09/24/2019 10:05:15 AM smarter_cells 7-1-2 Total time used: 0.3333559036254883\n"
     ]
    },
    {
     "name": "stdout",
     "output_type": "stream",
     "text": [
      "Getting logTPM...\n",
      "Trim logTPM matrix...\n",
      "Number of genes: 4882\n",
      "smarter_cells Saving to files 0.2795233726501465\n",
      "smarter_cells 7-2-1\n",
      "smarter_cells Preproc and get highly variable genes 0.08942842483520508\n",
      "Imputing gene lengths...\n",
      "Removing low coverage genes...\n",
      "Getting CPM..\n",
      "Getting highly variable genes and logCPM...\n",
      "Getting logTPM...\n",
      "Trim logTPM matrix...\n"
     ]
    },
    {
     "name": "stderr",
     "output_type": "stream",
     "text": [
      "09/24/2019 10:05:15 AM smarter_cells 7-2-1 Total time used: 0.475494384765625\n"
     ]
    },
    {
     "name": "stdout",
     "output_type": "stream",
     "text": [
      "Number of genes: 5599\n",
      "smarter_cells Saving to files 0.36464619636535645\n",
      "smarter_cells 7-2-2\n",
      "smarter_cells Preproc and get highly variable genes 0.09882235527038574\n",
      "Imputing gene lengths...\n",
      "Removing low coverage genes...\n",
      "Getting CPM..\n",
      "Getting highly variable genes and logCPM...\n",
      "Getting logTPM...\n",
      "Trim logTPM matrix...\n",
      "Number of genes: 5554\n",
      "smarter_cells Saving to files 0.5104904174804688\n"
     ]
    },
    {
     "name": "stderr",
     "output_type": "stream",
     "text": [
      "09/24/2019 10:05:16 AM smarter_cells 7-2-2 Total time used: 0.7089464664459229\n"
     ]
    },
    {
     "name": "stdout",
     "output_type": "stream",
     "text": [
      "smarter_cells 8-1-1\n",
      "smarter_cells Preproc and get highly variable genes 0.08723855018615723\n",
      "Imputing gene lengths...\n",
      "Removing low coverage genes...\n",
      "Getting CPM..\n",
      "Getting highly variable genes and logCPM...\n",
      "Getting logTPM...\n",
      "Trim logTPM matrix...\n",
      "Number of genes: 5294\n",
      "smarter_cells Saving to files 0.46895432472229004\n"
     ]
    },
    {
     "name": "stderr",
     "output_type": "stream",
     "text": [
      "09/24/2019 10:05:17 AM smarter_cells 8-1-1 Total time used: 0.6318814754486084\n"
     ]
    },
    {
     "name": "stdout",
     "output_type": "stream",
     "text": [
      "smarter_cells 8-1-2\n",
      "smarter_cells Preproc and get highly variable genes 0.1174306869506836\n",
      "Imputing gene lengths...\n",
      "Removing low coverage genes...\n",
      "Getting CPM..\n",
      "Getting highly variable genes and logCPM...\n",
      "Getting logTPM...\n",
      "Trim logTPM matrix...\n",
      "Number of genes: 5454\n",
      "smarter_cells Saving to files 0.6622822284698486\n"
     ]
    },
    {
     "name": "stderr",
     "output_type": "stream",
     "text": [
      "09/24/2019 10:05:17 AM smarter_cells 8-1-2 Total time used: 0.91275954246521\n"
     ]
    },
    {
     "name": "stdout",
     "output_type": "stream",
     "text": [
      "smarter_cells 8-2-1\n",
      "smarter_cells Preproc and get highly variable genes 0.12355875968933105\n",
      "Imputing gene lengths...\n",
      "Removing low coverage genes...\n",
      "Getting CPM..\n",
      "Getting highly variable genes and logCPM...\n",
      "Getting logTPM...\n",
      "Trim logTPM matrix...\n",
      "Number of genes: 5256\n",
      "smarter_cells Saving to files 0.7106990814208984\n"
     ]
    },
    {
     "name": "stderr",
     "output_type": "stream",
     "text": [
      "09/24/2019 10:05:19 AM smarter_cells 8-2-1 Total time used: 1.0751566886901855\n"
     ]
    },
    {
     "name": "stdout",
     "output_type": "stream",
     "text": [
      "smarter_cells 8-3-1\n",
      "smarter_cells Preproc and get highly variable genes 0.06899404525756836\n",
      "Imputing gene lengths...\n",
      "Removing low coverage genes...\n",
      "Getting CPM..\n",
      "Getting highly variable genes and logCPM...\n"
     ]
    },
    {
     "name": "stderr",
     "output_type": "stream",
     "text": [
      "09/24/2019 10:05:19 AM smarter_cells 8-3-1 Total time used: 0.2546854019165039\n"
     ]
    },
    {
     "name": "stdout",
     "output_type": "stream",
     "text": [
      "Getting logTPM...\n",
      "Trim logTPM matrix...\n",
      "Number of genes: 4134\n",
      "smarter_cells Saving to files 0.22868132591247559\n",
      "smarter_cells 8-3-2\n",
      "smarter_cells Preproc and get highly variable genes 0.0714426040649414\n",
      "Imputing gene lengths...\n",
      "Removing low coverage genes...\n",
      "Getting CPM..\n",
      "Getting highly variable genes and logCPM...\n"
     ]
    },
    {
     "name": "stderr",
     "output_type": "stream",
     "text": [
      "09/24/2019 10:05:19 AM smarter_cells 8-3-2 Total time used: 0.3470945358276367\n"
     ]
    },
    {
     "name": "stdout",
     "output_type": "stream",
     "text": [
      "Getting logTPM...\n",
      "Trim logTPM matrix...\n",
      "Number of genes: 4206\n",
      "smarter_cells Saving to files 0.3044159412384033\n",
      "smarter_cells 9-1-1\n",
      "smarter_cells Preproc and get highly variable genes 0.07004189491271973\n",
      "Imputing gene lengths...\n",
      "Removing low coverage genes...\n",
      "Getting CPM..\n",
      "Getting highly variable genes and logCPM...\n"
     ]
    },
    {
     "name": "stderr",
     "output_type": "stream",
     "text": [
      "09/24/2019 10:05:19 AM smarter_cells 9-1-1 Total time used: 0.25945281982421875\n"
     ]
    },
    {
     "name": "stdout",
     "output_type": "stream",
     "text": [
      "Getting logTPM...\n",
      "Trim logTPM matrix...\n",
      "Number of genes: 4442\n",
      "smarter_cells Saving to files 0.23310518264770508\n",
      "smarter_cells 9-2-1\n",
      "smarter_cells Preproc and get highly variable genes 0.0670926570892334\n",
      "Imputing gene lengths...\n",
      "Removing low coverage genes...\n",
      "Getting CPM..\n",
      "Getting highly variable genes and logCPM...\n"
     ]
    },
    {
     "name": "stderr",
     "output_type": "stream",
     "text": [
      "09/24/2019 10:05:20 AM smarter_cells 9-2-1 Total time used: 0.21021318435668945\n"
     ]
    },
    {
     "name": "stdout",
     "output_type": "stream",
     "text": [
      "Getting logTPM...\n",
      "Trim logTPM matrix...\n",
      "Number of genes: 2240\n",
      "smarter_cells Saving to files 0.19933366775512695\n",
      "smarter_cells 9-2-2\n",
      "smarter_cells Preproc and get highly variable genes 0.06702399253845215\n",
      "Imputing gene lengths...\n",
      "Removing low coverage genes...\n",
      "Getting CPM..\n",
      "Getting highly variable genes and logCPM...\n"
     ]
    },
    {
     "name": "stderr",
     "output_type": "stream",
     "text": [
      "09/24/2019 10:05:20 AM smarter_cells 9-2-2 Total time used: 0.2713947296142578\n"
     ]
    },
    {
     "name": "stdout",
     "output_type": "stream",
     "text": [
      "Getting logTPM...\n",
      "Trim logTPM matrix...\n",
      "Number of genes: 3597\n",
      "smarter_cells Saving to files 0.2481536865234375\n",
      "smarter_nuclei 1-1-1\n",
      "smarter_nuclei Preproc and get highly variable genes 0.18818950653076172\n",
      "Imputing gene lengths...\n",
      "Removing low coverage genes...\n",
      "Getting CPM..\n",
      "Getting highly variable genes and logCPM...\n",
      "Getting logTPM...\n",
      "Trim logTPM matrix...\n",
      "Number of genes: 5337\n",
      "smarter_nuclei Saving to files 0.9012229442596436\n"
     ]
    },
    {
     "name": "stderr",
     "output_type": "stream",
     "text": [
      "09/24/2019 10:05:21 AM smarter_nuclei 1-1-1 Total time used: 1.5352497100830078\n"
     ]
    },
    {
     "name": "stdout",
     "output_type": "stream",
     "text": [
      "smarter_nuclei 1-2-1\n",
      "smarter_nuclei Preproc and get highly variable genes 0.14272689819335938\n",
      "Imputing gene lengths...\n",
      "Removing low coverage genes...\n",
      "Getting CPM..\n",
      "Getting highly variable genes and logCPM...\n",
      "Getting logTPM...\n",
      "Trim logTPM matrix...\n",
      "Number of genes: 5355\n",
      "smarter_nuclei Saving to files 0.6318697929382324\n"
     ]
    },
    {
     "name": "stderr",
     "output_type": "stream",
     "text": [
      "09/24/2019 10:05:22 AM smarter_nuclei 1-2-1 Total time used: 0.9490132331848145\n",
      "09/24/2019 10:05:23 AM smarter_nuclei 1-2-2 Total time used: 0.19411516189575195\n"
     ]
    },
    {
     "name": "stdout",
     "output_type": "stream",
     "text": [
      "smarter_nuclei 1-2-2\n",
      "smarter_nuclei Preproc and get highly variable genes 0.06588602066040039\n",
      "Imputing gene lengths...\n",
      "Removing low coverage genes...\n",
      "Getting CPM..\n",
      "Getting highly variable genes and logCPM...\n",
      "Getting logTPM...\n",
      "Trim logTPM matrix...\n",
      "Number of genes: 1374\n",
      "smarter_nuclei Saving to files 0.18538689613342285\n",
      "smarter_nuclei 10-1-1\n"
     ]
    },
    {
     "name": "stderr",
     "output_type": "stream",
     "text": [
      "09/24/2019 10:05:23 AM smarter_nuclei 10-1-1 Total time used: 0.27098655700683594\n"
     ]
    },
    {
     "name": "stdout",
     "output_type": "stream",
     "text": [
      "smarter_nuclei Preproc and get highly variable genes 0.07514715194702148\n",
      "Imputing gene lengths...\n",
      "Removing low coverage genes...\n",
      "Getting CPM..\n",
      "Getting highly variable genes and logCPM...\n",
      "Getting logTPM...\n",
      "Trim logTPM matrix...\n",
      "Number of genes: 4366\n",
      "smarter_nuclei Saving to files 0.24115514755249023\n",
      "smarter_nuclei 2-1-1\n",
      "smarter_nuclei Preproc and get highly variable genes 0.14377570152282715\n",
      "Imputing gene lengths...\n",
      "Removing low coverage genes...\n",
      "Getting CPM..\n",
      "Getting highly variable genes and logCPM...\n",
      "Getting logTPM...\n",
      "Trim logTPM matrix...\n",
      "Number of genes: 5175\n",
      "smarter_nuclei Saving to files 0.6520161628723145\n"
     ]
    },
    {
     "name": "stderr",
     "output_type": "stream",
     "text": [
      "09/24/2019 10:05:24 AM smarter_nuclei 2-1-1 Total time used: 1.0941526889801025\n"
     ]
    },
    {
     "name": "stdout",
     "output_type": "stream",
     "text": [
      "smarter_nuclei 2-1-2\n",
      "smarter_nuclei Preproc and get highly variable genes 0.13440418243408203\n",
      "Imputing gene lengths...\n",
      "Removing low coverage genes...\n",
      "Getting CPM..\n",
      "Getting highly variable genes and logCPM...\n",
      "Getting logTPM...\n",
      "Trim logTPM matrix...\n",
      "Number of genes: 5166\n",
      "smarter_nuclei Saving to files 0.5559589862823486\n"
     ]
    },
    {
     "name": "stderr",
     "output_type": "stream",
     "text": [
      "09/24/2019 10:05:25 AM smarter_nuclei 2-1-2 Total time used: 0.8027758598327637\n"
     ]
    },
    {
     "name": "stdout",
     "output_type": "stream",
     "text": [
      "smarter_nuclei 2-2-1\n",
      "smarter_nuclei Preproc and get highly variable genes 0.24211978912353516\n",
      "Imputing gene lengths...\n",
      "Removing low coverage genes...\n",
      "Getting CPM..\n",
      "Getting highly variable genes and logCPM...\n",
      "Getting logTPM...\n",
      "Trim logTPM matrix...\n",
      "Number of genes: 5253\n",
      "smarter_nuclei Saving to files 1.361670732498169\n"
     ]
    },
    {
     "name": "stderr",
     "output_type": "stream",
     "text": [
      "09/24/2019 10:05:27 AM smarter_nuclei 2-2-1 Total time used: 2.04823899269104\n"
     ]
    },
    {
     "name": "stdout",
     "output_type": "stream",
     "text": [
      "smarter_nuclei 2-2-2\n",
      "smarter_nuclei Preproc and get highly variable genes 0.07213211059570312\n",
      "Imputing gene lengths...\n",
      "Removing low coverage genes...\n",
      "Getting CPM..\n",
      "Getting highly variable genes and logCPM...\n"
     ]
    },
    {
     "name": "stderr",
     "output_type": "stream",
     "text": [
      "09/24/2019 10:05:27 AM smarter_nuclei 2-2-2 Total time used: 0.2745044231414795\n"
     ]
    },
    {
     "name": "stdout",
     "output_type": "stream",
     "text": [
      "Getting logTPM...\n",
      "Trim logTPM matrix...\n",
      "Number of genes: 3895\n",
      "smarter_nuclei Saving to files 0.23031044006347656\n",
      "smarter_nuclei 2-3-1\n",
      "smarter_nuclei Preproc and get highly variable genes 0.11581993103027344\n",
      "Imputing gene lengths...\n",
      "Removing low coverage genes...\n",
      "Getting CPM..\n",
      "Getting highly variable genes and logCPM...\n",
      "Getting logTPM...\n"
     ]
    },
    {
     "name": "stderr",
     "output_type": "stream",
     "text": [
      "09/24/2019 10:05:28 AM smarter_nuclei 2-3-1 Total time used: 0.5515179634094238\n"
     ]
    },
    {
     "name": "stdout",
     "output_type": "stream",
     "text": [
      "Trim logTPM matrix...\n",
      "Number of genes: 5058\n",
      "smarter_nuclei Saving to files 0.41532063484191895\n",
      "smarter_nuclei 2-3-2\n"
     ]
    },
    {
     "name": "stderr",
     "output_type": "stream",
     "text": [
      "09/24/2019 10:05:28 AM smarter_nuclei 2-3-2 Total time used: 0.22595834732055664\n"
     ]
    },
    {
     "name": "stdout",
     "output_type": "stream",
     "text": [
      "smarter_nuclei Preproc and get highly variable genes 0.06955862045288086\n",
      "Imputing gene lengths...\n",
      "Removing low coverage genes...\n",
      "Getting CPM..\n",
      "Getting highly variable genes and logCPM...\n",
      "Getting logTPM...\n",
      "Trim logTPM matrix...\n",
      "Number of genes: 2516\n",
      "smarter_nuclei Saving to files 0.20486140251159668\n",
      "smarter_nuclei 3-1-1\n",
      "smarter_nuclei Preproc and get highly variable genes 0.18833446502685547\n",
      "Imputing gene lengths...\n",
      "Removing low coverage genes...\n",
      "Getting CPM..\n",
      "Getting highly variable genes and logCPM...\n",
      "Getting logTPM...\n",
      "Trim logTPM matrix...\n",
      "Number of genes: 5391\n",
      "smarter_nuclei Saving to files 0.8589649200439453\n"
     ]
    },
    {
     "name": "stderr",
     "output_type": "stream",
     "text": [
      "09/24/2019 10:05:29 AM smarter_nuclei 3-1-1 Total time used: 1.322822093963623\n"
     ]
    },
    {
     "name": "stdout",
     "output_type": "stream",
     "text": [
      "smarter_nuclei 3-1-2\n",
      "smarter_nuclei Preproc and get highly variable genes 0.08794212341308594\n",
      "Imputing gene lengths...\n",
      "Removing low coverage genes...\n",
      "Getting CPM..\n",
      "Getting highly variable genes and logCPM...\n"
     ]
    },
    {
     "name": "stderr",
     "output_type": "stream",
     "text": [
      "09/24/2019 10:05:30 AM smarter_nuclei 3-1-2 Total time used: 0.40232419967651367\n"
     ]
    },
    {
     "name": "stdout",
     "output_type": "stream",
     "text": [
      "Getting logTPM...\n",
      "Trim logTPM matrix...\n",
      "Number of genes: 5299\n",
      "smarter_nuclei Saving to files 0.3228929042816162\n",
      "smarter_nuclei 3-2-1\n",
      "smarter_nuclei Preproc and get highly variable genes 0.22957324981689453\n",
      "Imputing gene lengths...\n",
      "Removing low coverage genes...\n",
      "Getting CPM..\n",
      "Getting highly variable genes and logCPM...\n",
      "Getting logTPM...\n",
      "Trim logTPM matrix...\n",
      "Number of genes: 5427\n",
      "smarter_nuclei Saving to files 1.1618070602416992\n"
     ]
    },
    {
     "name": "stderr",
     "output_type": "stream",
     "text": [
      "09/24/2019 10:05:31 AM smarter_nuclei 3-2-1 Total time used: 1.915353775024414\n"
     ]
    },
    {
     "name": "stdout",
     "output_type": "stream",
     "text": [
      "smarter_nuclei 4-1-1\n",
      "smarter_nuclei Preproc and get highly variable genes 0.2466716766357422\n",
      "Imputing gene lengths...\n",
      "Removing low coverage genes...\n",
      "Getting CPM..\n",
      "Getting highly variable genes and logCPM...\n",
      "Getting logTPM...\n",
      "Trim logTPM matrix...\n",
      "Number of genes: 5283\n",
      "smarter_nuclei Saving to files 1.2438774108886719\n"
     ]
    },
    {
     "name": "stderr",
     "output_type": "stream",
     "text": [
      "09/24/2019 10:05:33 AM smarter_nuclei 4-1-1 Total time used: 1.9755034446716309\n"
     ]
    },
    {
     "name": "stdout",
     "output_type": "stream",
     "text": [
      "smarter_nuclei 4-1-2\n",
      "smarter_nuclei Preproc and get highly variable genes 0.06822991371154785\n",
      "Imputing gene lengths...\n",
      "Removing low coverage genes...\n",
      "Getting CPM..\n",
      "Getting highly variable genes and logCPM...\n",
      "Getting logTPM...\n"
     ]
    },
    {
     "name": "stderr",
     "output_type": "stream",
     "text": [
      "09/24/2019 10:05:34 AM smarter_nuclei 4-1-2 Total time used: 0.22139263153076172\n"
     ]
    },
    {
     "name": "stdout",
     "output_type": "stream",
     "text": [
      "Trim logTPM matrix...\n",
      "Number of genes: 2812\n",
      "smarter_nuclei Saving to files 0.2067878246307373\n",
      "smarter_nuclei 4-2-1\n",
      "smarter_nuclei Preproc and get highly variable genes 0.09708857536315918\n",
      "Imputing gene lengths...\n",
      "Removing low coverage genes...\n",
      "Getting CPM..\n",
      "Getting highly variable genes and logCPM...\n",
      "Getting logTPM...\n",
      "Trim logTPM matrix...\n",
      "Number of genes: 5413\n",
      "smarter_nuclei Saving to files 0.3529644012451172\n"
     ]
    },
    {
     "name": "stderr",
     "output_type": "stream",
     "text": [
      "09/24/2019 10:05:34 AM smarter_nuclei 4-2-1 Total time used: 0.5201091766357422\n",
      "09/24/2019 10:05:34 AM smarter_nuclei 4-2-2 Total time used: 0.19532299041748047\n"
     ]
    },
    {
     "name": "stdout",
     "output_type": "stream",
     "text": [
      "smarter_nuclei 4-2-2\n",
      "smarter_nuclei Preproc and get highly variable genes 0.06647253036499023\n",
      "Imputing gene lengths...\n",
      "Removing low coverage genes...\n",
      "Getting CPM..\n",
      "Getting highly variable genes and logCPM...\n",
      "Getting logTPM...\n",
      "Trim logTPM matrix...\n",
      "Number of genes: 1439\n",
      "smarter_nuclei Saving to files 0.18603920936584473\n",
      "smarter_nuclei 4-2-3\n"
     ]
    },
    {
     "name": "stderr",
     "output_type": "stream",
     "text": [
      "09/24/2019 10:05:35 AM smarter_nuclei 4-2-3 Total time used: 0.24347281455993652\n"
     ]
    },
    {
     "name": "stdout",
     "output_type": "stream",
     "text": [
      "smarter_nuclei Preproc and get highly variable genes 0.07122397422790527\n",
      "Imputing gene lengths...\n",
      "Removing low coverage genes...\n",
      "Getting CPM..\n",
      "Getting highly variable genes and logCPM...\n",
      "Getting logTPM...\n",
      "Trim logTPM matrix...\n",
      "Number of genes: 4152\n",
      "smarter_nuclei Saving to files 0.21982645988464355\n",
      "smarter_nuclei 5-1-1\n",
      "smarter_nuclei Preproc and get highly variable genes 0.1620476245880127\n",
      "Imputing gene lengths...\n",
      "Removing low coverage genes...\n",
      "Getting CPM..\n",
      "Getting highly variable genes and logCPM...\n",
      "Getting logTPM...\n",
      "Trim logTPM matrix...\n",
      "Number of genes: 5256\n",
      "smarter_nuclei Saving to files 0.6547186374664307\n"
     ]
    },
    {
     "name": "stderr",
     "output_type": "stream",
     "text": [
      "09/24/2019 10:05:36 AM smarter_nuclei 5-1-1 Total time used: 0.96687912940979\n"
     ]
    },
    {
     "name": "stdout",
     "output_type": "stream",
     "text": [
      "smarter_nuclei 5-1-2\n",
      "smarter_nuclei Preproc and get highly variable genes 0.1107783317565918\n",
      "Imputing gene lengths...\n",
      "Removing low coverage genes...\n",
      "Getting CPM..\n",
      "Getting highly variable genes and logCPM...\n",
      "Getting logTPM...\n",
      "Trim logTPM matrix...\n",
      "Number of genes: 5292\n",
      "smarter_nuclei Saving to files 0.4641995429992676\n"
     ]
    },
    {
     "name": "stderr",
     "output_type": "stream",
     "text": [
      "09/24/2019 10:05:36 AM smarter_nuclei 5-1-2 Total time used: 0.7934985160827637\n"
     ]
    },
    {
     "name": "stdout",
     "output_type": "stream",
     "text": [
      "smarter_nuclei 5-2-1\n",
      "smarter_nuclei Preproc and get highly variable genes 0.08510637283325195\n",
      "Imputing gene lengths...\n",
      "Removing low coverage genes...\n",
      "Getting CPM..\n",
      "Getting highly variable genes and logCPM...\n"
     ]
    },
    {
     "name": "stderr",
     "output_type": "stream",
     "text": [
      "09/24/2019 10:05:37 AM smarter_nuclei 5-2-1 Total time used: 0.3506450653076172\n"
     ]
    },
    {
     "name": "stdout",
     "output_type": "stream",
     "text": [
      "Getting logTPM...\n",
      "Trim logTPM matrix...\n",
      "Number of genes: 5040\n",
      "smarter_nuclei Saving to files 0.29132604598999023\n",
      "smarter_nuclei 5-2-2\n",
      "smarter_nuclei Preproc and get highly variable genes 0.0996861457824707\n",
      "Imputing gene lengths...\n",
      "Removing low coverage genes...\n",
      "Getting CPM..\n",
      "Getting highly variable genes and logCPM...\n",
      "Getting logTPM...\n"
     ]
    },
    {
     "name": "stderr",
     "output_type": "stream",
     "text": [
      "09/24/2019 10:05:37 AM smarter_nuclei 5-2-2 Total time used: 0.4947977066040039\n"
     ]
    },
    {
     "name": "stdout",
     "output_type": "stream",
     "text": [
      "Trim logTPM matrix...\n",
      "Number of genes: 4967\n",
      "smarter_nuclei Saving to files 0.37386202812194824\n",
      "smarter_nuclei 5-2-3\n",
      "smarter_nuclei Preproc and get highly variable genes 0.08562755584716797\n",
      "Imputing gene lengths...\n",
      "Removing low coverage genes...\n",
      "Getting CPM..\n",
      "Getting highly variable genes and logCPM...\n",
      "Getting logTPM...\n",
      "Trim logTPM matrix...\n",
      "Number of genes: 4734\n",
      "smarter_nuclei "
     ]
    },
    {
     "name": "stderr",
     "output_type": "stream",
     "text": [
      "09/24/2019 10:05:38 AM smarter_nuclei 5-2-3 Total time used: 0.3401029109954834\n"
     ]
    },
    {
     "name": "stdout",
     "output_type": "stream",
     "text": [
      "Saving to files 0.2960207462310791\n",
      "smarter_nuclei 5-3-1\n",
      "smarter_nuclei Preproc and get highly variable genes 0.12266135215759277\n",
      "Imputing gene lengths...\n",
      "Removing low coverage genes...\n",
      "Getting CPM..\n",
      "Getting highly variable genes and logCPM...\n",
      "Getting logTPM...\n",
      "Trim logTPM matrix...\n",
      "Number of genes: 5319\n",
      "smarter_nuclei Saving to files 0.4946568012237549\n"
     ]
    },
    {
     "name": "stderr",
     "output_type": "stream",
     "text": [
      "09/24/2019 10:05:38 AM smarter_nuclei 5-3-1 Total time used: 0.6941723823547363\n"
     ]
    },
    {
     "name": "stdout",
     "output_type": "stream",
     "text": [
      "smarter_nuclei 5-3-2\n",
      "smarter_nuclei Preproc and get highly variable genes 0.07854628562927246\n",
      "Imputing gene lengths...\n",
      "Removing low coverage genes...\n",
      "Getting CPM..\n",
      "Getting highly variable genes and logCPM...\n"
     ]
    },
    {
     "name": "stderr",
     "output_type": "stream",
     "text": [
      "09/24/2019 10:05:39 AM smarter_nuclei 5-3-2 Total time used: 0.4167766571044922\n"
     ]
    },
    {
     "name": "stdout",
     "output_type": "stream",
     "text": [
      "Getting logTPM...\n",
      "Trim logTPM matrix...\n",
      "Number of genes: 4734\n",
      "smarter_nuclei Saving to files 0.320284366607666\n",
      "smarter_nuclei 5-4-1\n",
      "smarter_nuclei Preproc and get highly variable genes 0.06969332695007324\n",
      "Imputing gene lengths...\n",
      "Removing low coverage genes...\n",
      "Getting CPM..\n",
      "Getting highly variable genes and logCPM...\n",
      "Getting logTPM...\n",
      "Trim logTPM matrix...\n",
      "Number of genes: 3960\n",
      "smarter_nuclei Saving to files 0.24219250679016113\n"
     ]
    },
    {
     "name": "stderr",
     "output_type": "stream",
     "text": [
      "09/24/2019 10:05:39 AM smarter_nuclei 5-4-1 Total time used: 0.29365992546081543\n"
     ]
    },
    {
     "name": "stdout",
     "output_type": "stream",
     "text": [
      "smarter_nuclei 5-5-1\n",
      "smarter_nuclei Preproc and get highly variable genes 0.0778036117553711\n",
      "Imputing gene lengths...\n",
      "Removing low coverage genes...\n",
      "Getting CPM..\n",
      "Getting highly variable genes and logCPM...\n"
     ]
    },
    {
     "name": "stderr",
     "output_type": "stream",
     "text": [
      "09/24/2019 10:05:39 AM smarter_nuclei 5-5-1 Total time used: 0.3182179927825928\n"
     ]
    },
    {
     "name": "stdout",
     "output_type": "stream",
     "text": [
      "Getting logTPM...\n",
      "Trim logTPM matrix...\n",
      "Number of genes: 4350\n",
      "smarter_nuclei Saving to files 0.2507033348083496\n",
      "smarter_nuclei 6-1-1\n",
      "smarter_nuclei Preproc and get highly variable genes 0.10356283187866211\n",
      "Imputing gene lengths...\n",
      "Removing low coverage genes...\n",
      "Getting CPM..\n",
      "Getting highly variable genes and logCPM...\n",
      "Getting logTPM...\n",
      "Trim logTPM matrix...\n",
      "Number of genes: 4814\n",
      "smarter_nuclei Saving to files 0.39560508728027344\n"
     ]
    },
    {
     "name": "stderr",
     "output_type": "stream",
     "text": [
      "09/24/2019 10:05:40 AM smarter_nuclei 6-1-1 Total time used: 0.6274654865264893\n"
     ]
    },
    {
     "name": "stdout",
     "output_type": "stream",
     "text": [
      "smarter_nuclei 6-1-2\n",
      "smarter_nuclei Preproc and get highly variable genes 0.09313845634460449\n",
      "Imputing gene lengths...\n",
      "Removing low coverage genes...\n",
      "Getting CPM..\n",
      "Getting highly variable genes and logCPM...\n"
     ]
    },
    {
     "name": "stderr",
     "output_type": "stream",
     "text": [
      "09/24/2019 10:05:40 AM smarter_nuclei 6-1-2 Total time used: 0.4065284729003906\n"
     ]
    },
    {
     "name": "stdout",
     "output_type": "stream",
     "text": [
      "Getting logTPM...\n",
      "Trim logTPM matrix...\n",
      "Number of genes: 5255\n",
      "smarter_nuclei Saving to files 0.32761430740356445\n",
      "smarter_nuclei 6-2-1\n",
      "smarter_nuclei Preproc and get highly variable genes 0.15971040725708008\n",
      "Imputing gene lengths...\n",
      "Removing low coverage genes...\n",
      "Getting CPM..\n",
      "Getting highly variable genes and logCPM...\n",
      "Getting logTPM...\n",
      "Trim logTPM matrix...\n",
      "Number of genes: 5265\n",
      "smarter_nuclei Saving to files 0.6351320743560791\n"
     ]
    },
    {
     "name": "stderr",
     "output_type": "stream",
     "text": [
      "09/24/2019 10:05:41 AM smarter_nuclei 6-2-1 Total time used: 1.0145268440246582\n"
     ]
    },
    {
     "name": "stdout",
     "output_type": "stream",
     "text": [
      "smarter_nuclei 6-3-1\n",
      "smarter_nuclei Preproc and get highly variable genes 0.07986879348754883\n",
      "Imputing gene lengths...\n",
      "Removing low coverage genes...\n",
      "Getting CPM..\n",
      "Getting highly variable genes and logCPM...\n"
     ]
    },
    {
     "name": "stderr",
     "output_type": "stream",
     "text": [
      "09/24/2019 10:05:42 AM smarter_nuclei 6-3-1 Total time used: 0.3588569164276123\n"
     ]
    },
    {
     "name": "stdout",
     "output_type": "stream",
     "text": [
      "Getting logTPM...\n",
      "Trim logTPM matrix...\n",
      "Number of genes: 4833\n",
      "smarter_nuclei Saving to files 0.2674694061279297\n",
      "smarter_nuclei 6-3-2\n"
     ]
    },
    {
     "name": "stderr",
     "output_type": "stream",
     "text": [
      "09/24/2019 10:05:42 AM smarter_nuclei 6-3-2 Total time used: 0.2800636291503906\n"
     ]
    },
    {
     "name": "stdout",
     "output_type": "stream",
     "text": [
      "smarter_nuclei Preproc and get highly variable genes 0.07895922660827637\n",
      "Imputing gene lengths...\n",
      "Removing low coverage genes...\n",
      "Getting CPM..\n",
      "Getting highly variable genes and logCPM...\n",
      "Getting logTPM...\n",
      "Trim logTPM matrix...\n",
      "Number of genes: 4205\n",
      "smarter_nuclei Saving to files 0.2514190673828125\n",
      "smarter_nuclei 6-3-3\n"
     ]
    },
    {
     "name": "stderr",
     "output_type": "stream",
     "text": [
      "09/24/2019 10:05:42 AM smarter_nuclei 6-3-3 Total time used: 0.22071361541748047\n"
     ]
    },
    {
     "name": "stdout",
     "output_type": "stream",
     "text": [
      "smarter_nuclei Preproc and get highly variable genes 0.068450927734375\n",
      "Imputing gene lengths...\n",
      "Removing low coverage genes...\n",
      "Getting CPM..\n",
      "Getting highly variable genes and logCPM...\n",
      "Getting logTPM...\n",
      "Trim logTPM matrix...\n",
      "Number of genes: 3012\n",
      "smarter_nuclei Saving to files 0.2055048942565918\n",
      "smarter_nuclei 6-4-1\n",
      "smarter_nuclei Preproc and get highly variable genes 0.09230184555053711\n",
      "Imputing gene lengths...\n",
      "Removing low coverage genes...\n",
      "Getting CPM..\n",
      "Getting highly variable genes and logCPM...\n",
      "Getting logTPM...\n"
     ]
    },
    {
     "name": "stderr",
     "output_type": "stream",
     "text": [
      "09/24/2019 10:05:43 AM smarter_nuclei 6-4-1 Total time used: 0.461641788482666\n"
     ]
    },
    {
     "name": "stdout",
     "output_type": "stream",
     "text": [
      "Trim logTPM matrix...\n",
      "Number of genes: 5263\n",
      "smarter_nuclei Saving to files 0.3226170539855957\n",
      "smarter_nuclei 6-4-2\n",
      "smarter_nuclei Preproc and get highly variable genes 0.08356952667236328\n",
      "Imputing gene lengths...\n",
      "Removing low coverage genes...\n",
      "Getting CPM..\n",
      "Getting highly variable genes and logCPM...\n",
      "Getting logTPM...\n",
      "Trim logTPM matrix...\n"
     ]
    },
    {
     "name": "stderr",
     "output_type": "stream",
     "text": [
      "09/24/2019 10:05:43 AM smarter_nuclei 6-4-2 Total time used: 0.37181806564331055\n"
     ]
    },
    {
     "name": "stdout",
     "output_type": "stream",
     "text": [
      "Number of genes: 5243\n",
      "smarter_nuclei Saving to files 0.2951240539550781\n",
      "smarter_nuclei 6-5-1\n",
      "smarter_nuclei Preproc and get highly variable genes 0.0889122486114502\n",
      "Imputing gene lengths...\n",
      "Removing low coverage genes...\n",
      "Getting CPM..\n",
      "Getting highly variable genes and logCPM...\n",
      "Getting logTPM...\n",
      "Trim logTPM matrix...\n",
      "Number of genes: 5205\n",
      "smarter_nuclei Saving to files 0.31141138076782227\n"
     ]
    },
    {
     "name": "stderr",
     "output_type": "stream",
     "text": [
      "09/24/2019 10:05:43 AM smarter_nuclei 6-5-1 Total time used: 0.3846397399902344\n"
     ]
    },
    {
     "name": "stdout",
     "output_type": "stream",
     "text": [
      "smarter_nuclei 6-5-2\n",
      "smarter_nuclei Preproc and get highly variable genes 0.0810544490814209\n",
      "Imputing gene lengths...\n",
      "Removing low coverage genes...\n",
      "Getting CPM..\n",
      "Getting highly variable genes and logCPM...\n"
     ]
    },
    {
     "name": "stderr",
     "output_type": "stream",
     "text": [
      "09/24/2019 10:05:44 AM smarter_nuclei 6-5-2 Total time used: 0.2940855026245117\n"
     ]
    },
    {
     "name": "stdout",
     "output_type": "stream",
     "text": [
      "Getting logTPM...\n",
      "Trim logTPM matrix...\n",
      "Number of genes: 4466\n",
      "smarter_nuclei Saving to files 0.2602710723876953\n",
      "smarter_nuclei 6-5-3\n",
      "smarter_nuclei Preproc and get highly variable genes 0.0706179141998291\n",
      "Imputing gene lengths...\n",
      "Removing low coverage genes...\n",
      "Getting CPM..\n",
      "Getting highly variable genes and logCPM...\n"
     ]
    },
    {
     "name": "stderr",
     "output_type": "stream",
     "text": [
      "09/24/2019 10:05:44 AM smarter_nuclei 6-5-3 Total time used: 0.24647068977355957\n"
     ]
    },
    {
     "name": "stdout",
     "output_type": "stream",
     "text": [
      "Getting logTPM...\n",
      "Trim logTPM matrix...\n",
      "Number of genes: 3719\n",
      "smarter_nuclei Saving to files 0.22481203079223633\n",
      "smarter_nuclei 6-6-1\n",
      "smarter_nuclei Preproc and get highly variable genes 0.07333135604858398\n",
      "Imputing gene lengths...\n",
      "Removing low coverage genes...\n",
      "Getting CPM..\n",
      "Getting highly variable genes and logCPM...\n"
     ]
    },
    {
     "name": "stderr",
     "output_type": "stream",
     "text": [
      "09/24/2019 10:05:44 AM smarter_nuclei 6-6-1 Total time used: 0.269014835357666\n"
     ]
    },
    {
     "name": "stdout",
     "output_type": "stream",
     "text": [
      "Getting logTPM...\n",
      "Trim logTPM matrix...\n",
      "Number of genes: 4067\n",
      "smarter_nuclei Saving to files 0.24170732498168945\n",
      "smarter_nuclei 7-1-1\n",
      "smarter_nuclei Preproc and get highly variable genes 0.0985713005065918\n",
      "Imputing gene lengths...\n",
      "Removing low coverage genes...\n",
      "Getting CPM..\n",
      "Getting highly variable genes and logCPM...\n",
      "Getting logTPM...\n",
      "Trim logTPM matrix...\n",
      "Number of genes: 4869\n",
      "smarter_nuclei Saving to files 0.4300692081451416\n"
     ]
    },
    {
     "name": "stderr",
     "output_type": "stream",
     "text": [
      "09/24/2019 10:05:45 AM smarter_nuclei 7-1-1 Total time used: 0.6081197261810303\n"
     ]
    },
    {
     "name": "stdout",
     "output_type": "stream",
     "text": [
      "smarter_nuclei 7-1-2\n",
      "smarter_nuclei Preproc and get highly variable genes 0.06906437873840332\n",
      "Imputing gene lengths...\n",
      "Removing low coverage genes...\n",
      "Getting CPM..\n",
      "Getting highly variable genes and logCPM...\n"
     ]
    },
    {
     "name": "stderr",
     "output_type": "stream",
     "text": [
      "09/24/2019 10:05:45 AM smarter_nuclei 7-1-2 Total time used: 0.35861754417419434\n"
     ]
    },
    {
     "name": "stdout",
     "output_type": "stream",
     "text": [
      "Getting logTPM...\n",
      "Trim logTPM matrix...\n",
      "Number of genes: 4041\n",
      "smarter_nuclei Saving to files 0.32213640213012695\n",
      "smarter_nuclei 7-2-1\n",
      "smarter_nuclei Preproc and get highly variable genes 0.0833899974822998\n",
      "Imputing gene lengths...\n",
      "Removing low coverage genes...\n",
      "Getting CPM..\n",
      "Getting highly variable genes and logCPM...\n",
      "Getting logTPM...\n",
      "Trim logTPM matrix...\n",
      "Number of genes: 5046\n",
      "smarter_nuclei Saving to files 0.28873705863952637\n"
     ]
    },
    {
     "name": "stderr",
     "output_type": "stream",
     "text": [
      "09/24/2019 10:05:46 AM smarter_nuclei 7-2-1 Total time used: 0.3477013111114502\n"
     ]
    },
    {
     "name": "stdout",
     "output_type": "stream",
     "text": [
      "smarter_nuclei 7-2-2\n",
      "smarter_nuclei Preproc and get highly variable genes 0.08162856101989746\n",
      "Imputing gene lengths...\n",
      "Removing low coverage genes...\n",
      "Getting CPM..\n",
      "Getting highly variable genes and logCPM...\n"
     ]
    },
    {
     "name": "stderr",
     "output_type": "stream",
     "text": [
      "09/24/2019 10:05:46 AM smarter_nuclei 7-2-2 Total time used: 0.32049989700317383\n"
     ]
    },
    {
     "name": "stdout",
     "output_type": "stream",
     "text": [
      "Getting logTPM...\n",
      "Trim logTPM matrix...\n",
      "Number of genes: 4677\n",
      "smarter_nuclei Saving to files 0.27546167373657227\n",
      "smarter_nuclei 8-1-1\n",
      "smarter_nuclei Preproc and get highly variable genes 0.08767414093017578\n",
      "Imputing gene lengths...\n",
      "Removing low coverage genes...\n",
      "Getting CPM..\n",
      "Getting highly variable genes and logCPM...\n",
      "Getting logTPM...\n",
      "Trim logTPM matrix...\n",
      "Number of genes: 4817\n",
      "smarter_nuclei Saving to files 0.2988097667694092\n"
     ]
    },
    {
     "name": "stderr",
     "output_type": "stream",
     "text": [
      "09/24/2019 10:05:46 AM smarter_nuclei 8-1-1 Total time used: 0.3622746467590332\n"
     ]
    },
    {
     "name": "stdout",
     "output_type": "stream",
     "text": [
      "smarter_nuclei 8-1-2\n",
      "smarter_nuclei Preproc and get highly variable genes 0.08279180526733398\n",
      "Imputing gene lengths...\n",
      "Removing low coverage genes...\n",
      "Getting CPM..\n",
      "Getting highly variable genes and logCPM...\n"
     ]
    },
    {
     "name": "stderr",
     "output_type": "stream",
     "text": [
      "09/24/2019 10:05:47 AM smarter_nuclei 8-1-2 Total time used: 0.35815906524658203\n"
     ]
    },
    {
     "name": "stdout",
     "output_type": "stream",
     "text": [
      "Getting logTPM...\n",
      "Trim logTPM matrix...\n",
      "Number of genes: 5102\n",
      "smarter_nuclei Saving to files 0.2964479923248291\n",
      "smarter_nuclei 8-2-1\n",
      "smarter_nuclei Preproc and get highly variable genes 0.10388565063476562\n",
      "Imputing gene lengths...\n",
      "Removing low coverage genes...\n",
      "Getting CPM..\n",
      "Getting highly variable genes and logCPM...\n",
      "Getting logTPM...\n"
     ]
    },
    {
     "name": "stderr",
     "output_type": "stream",
     "text": [
      "09/24/2019 10:05:47 AM smarter_nuclei 8-2-1 Total time used: 0.5170538425445557\n"
     ]
    },
    {
     "name": "stdout",
     "output_type": "stream",
     "text": [
      "Trim logTPM matrix...\n",
      "Number of genes: 5364\n",
      "smarter_nuclei Saving to files 0.37227439880371094\n",
      "smarter_nuclei 8-3-1\n"
     ]
    },
    {
     "name": "stderr",
     "output_type": "stream",
     "text": [
      "09/24/2019 10:05:47 AM smarter_nuclei 8-3-1 Total time used: 0.2131788730621338\n"
     ]
    },
    {
     "name": "stdout",
     "output_type": "stream",
     "text": [
      "smarter_nuclei Preproc and get highly variable genes 0.06895256042480469\n",
      "Imputing gene lengths...\n",
      "Removing low coverage genes...\n",
      "Getting CPM..\n",
      "Getting highly variable genes and logCPM...\n",
      "Getting logTPM...\n",
      "Trim logTPM matrix...\n",
      "Number of genes: 2141\n",
      "smarter_nuclei Saving to files 0.20153331756591797\n",
      "smarter_nuclei 8-3-2\n"
     ]
    },
    {
     "name": "stderr",
     "output_type": "stream",
     "text": [
      "09/24/2019 10:05:48 AM smarter_nuclei 8-3-2 Total time used: 0.2339341640472412\n"
     ]
    },
    {
     "name": "stdout",
     "output_type": "stream",
     "text": [
      "smarter_nuclei Preproc and get highly variable genes 0.06958222389221191\n",
      "Imputing gene lengths...\n",
      "Removing low coverage genes...\n",
      "Getting CPM..\n",
      "Getting highly variable genes and logCPM...\n",
      "Getting logTPM...\n",
      "Trim logTPM matrix...\n",
      "Number of genes: 1466\n",
      "smarter_nuclei Saving to files 0.22403383255004883\n",
      "smarter_nuclei 9-1-1\n",
      "smarter_nuclei Preproc and get highly variable genes 0.07701730728149414\n",
      "Imputing gene lengths...\n",
      "Removing low coverage genes...\n",
      "Getting CPM..\n",
      "Getting highly variable genes and logCPM...\n",
      "Getting logTPM...\n",
      "Trim logTPM matrix...\n"
     ]
    },
    {
     "name": "stderr",
     "output_type": "stream",
     "text": [
      "09/24/2019 10:05:48 AM smarter_nuclei 9-1-1 Total time used: 0.39362382888793945\n"
     ]
    },
    {
     "name": "stdout",
     "output_type": "stream",
     "text": [
      "Number of genes: 5253\n",
      "smarter_nuclei Saving to files 0.2890453338623047\n",
      "smarter_nuclei 9-2-1\n",
      "smarter_nuclei Preproc and get highly variable genes 0.0746462345123291\n",
      "Imputing gene lengths...\n",
      "Removing low coverage genes...\n"
     ]
    },
    {
     "name": "stderr",
     "output_type": "stream",
     "text": [
      "09/24/2019 10:05:48 AM smarter_nuclei 9-2-1 Total time used: 0.28839969635009766\n"
     ]
    },
    {
     "name": "stdout",
     "output_type": "stream",
     "text": [
      "Getting CPM..\n",
      "Getting highly variable genes and logCPM...\n",
      "Getting logTPM...\n",
      "Trim logTPM matrix...\n",
      "Number of genes: 4529\n",
      "smarter_nuclei Saving to files 0.252178430557251\n",
      "smarter_nuclei 9-2-2\n",
      "smarter_nuclei Preproc and get highly variable genes 0.07256531715393066\n",
      "Imputing gene lengths...\n",
      "Removing low coverage genes...\n",
      "Getting CPM..\n",
      "Getting highly variable genes and logCPM...\n",
      "Getting logTPM...\n"
     ]
    },
    {
     "name": "stderr",
     "output_type": "stream",
     "text": [
      "09/24/2019 10:05:49 AM smarter_nuclei 9-2-2 Total time used: 0.3482639789581299\n"
     ]
    },
    {
     "name": "stdout",
     "output_type": "stream",
     "text": [
      "Trim logTPM matrix...\n",
      "Number of genes: 4038\n",
      "smarter_nuclei Saving to files 0.314037561416626\n",
      "snatac_gene 1-1-1\n",
      "snatac_gene Preproc and get highly variable genes 0.8179585933685303\n",
      "Imputing gene lengths...\n",
      "Removing low coverage genes...\n",
      "Getting CPM..\n",
      "Getting highly variable genes and logCPM...\n",
      "Getting logTPM...\n",
      "Trim logTPM matrix...\n",
      "Number of genes: 6120\n",
      "snatac_gene Saving to files 9.696435451507568\n"
     ]
    },
    {
     "name": "stderr",
     "output_type": "stream",
     "text": [
      "09/24/2019 10:06:07 AM snatac_gene 1-1-1 Total time used: 17.93582797050476\n"
     ]
    },
    {
     "name": "stdout",
     "output_type": "stream",
     "text": [
      "snatac_gene 1-2-1\n",
      "snatac_gene Preproc and get highly variable genes 0.34555983543395996\n",
      "Imputing gene lengths...\n",
      "Removing low coverage genes...\n",
      "Getting CPM..\n",
      "Getting highly variable genes and logCPM...\n",
      "Getting logTPM...\n",
      "Trim logTPM matrix...\n",
      "Number of genes: 6345\n",
      "snatac_gene Saving to files 3.336838483810425\n"
     ]
    },
    {
     "name": "stderr",
     "output_type": "stream",
     "text": [
      "09/24/2019 10:06:13 AM snatac_gene 1-2-1 Total time used: 6.1046364307403564\n"
     ]
    },
    {
     "name": "stdout",
     "output_type": "stream",
     "text": [
      "snatac_gene 1-2-2\n",
      "snatac_gene Preproc and get highly variable genes 0.17982745170593262\n",
      "Imputing gene lengths...\n",
      "Removing low coverage genes...\n",
      "Getting CPM..\n",
      "Getting highly variable genes and logCPM...\n",
      "Getting logTPM...\n",
      "Trim logTPM matrix...\n",
      "Number of genes: 6183\n",
      "snatac_gene Saving to files 0.6761965751647949\n"
     ]
    },
    {
     "name": "stderr",
     "output_type": "stream",
     "text": [
      "09/24/2019 10:06:14 AM snatac_gene 1-2-2 Total time used: 0.9297106266021729\n"
     ]
    },
    {
     "name": "stdout",
     "output_type": "stream",
     "text": [
      "snatac_gene 2-1-1\n",
      "snatac_gene Preproc and get highly variable genes 0.28369569778442383\n",
      "Imputing gene lengths...\n",
      "Removing low coverage genes...\n",
      "Getting CPM..\n",
      "Getting highly variable genes and logCPM...\n",
      "Getting logTPM...\n",
      "Trim logTPM matrix...\n",
      "Number of genes: 6512\n",
      "snatac_gene Saving to files 1.663515329360962\n"
     ]
    },
    {
     "name": "stderr",
     "output_type": "stream",
     "text": [
      "09/24/2019 10:06:17 AM snatac_gene 2-1-1 Total time used: 2.9311771392822266\n"
     ]
    },
    {
     "name": "stdout",
     "output_type": "stream",
     "text": [
      "snatac_gene 2-1-2\n",
      "snatac_gene Preproc and get highly variable genes 0.20630621910095215\n",
      "Imputing gene lengths...\n",
      "Removing low coverage genes...\n",
      "Getting CPM..\n",
      "Getting highly variable genes and logCPM...\n",
      "Getting logTPM...\n",
      "Trim logTPM matrix...\n",
      "Number of genes: 6434\n",
      "snatac_gene Saving to files 1.4850635528564453\n"
     ]
    },
    {
     "name": "stderr",
     "output_type": "stream",
     "text": [
      "09/24/2019 10:06:19 AM snatac_gene 2-1-2 Total time used: 2.6728103160858154\n"
     ]
    },
    {
     "name": "stdout",
     "output_type": "stream",
     "text": [
      "snatac_gene 2-2-1\n",
      "snatac_gene Preproc and get highly variable genes 0.3801443576812744\n",
      "Imputing gene lengths...\n",
      "Removing low coverage genes...\n",
      "Getting CPM..\n",
      "Getting highly variable genes and logCPM...\n",
      "Getting logTPM...\n",
      "Trim logTPM matrix...\n",
      "Number of genes: 6039\n",
      "snatac_gene Saving to files 3.4696152210235596\n"
     ]
    },
    {
     "name": "stderr",
     "output_type": "stream",
     "text": [
      "09/24/2019 10:06:25 AM snatac_gene 2-2-1 Total time used: 6.117562532424927\n"
     ]
    },
    {
     "name": "stdout",
     "output_type": "stream",
     "text": [
      "snatac_gene 2-2-2\n",
      "snatac_gene Preproc and get highly variable genes 0.12022209167480469\n",
      "Imputing gene lengths...\n",
      "Removing low coverage genes...\n",
      "Getting CPM..\n",
      "Getting highly variable genes and logCPM...\n"
     ]
    },
    {
     "name": "stderr",
     "output_type": "stream",
     "text": [
      "09/24/2019 10:06:26 AM snatac_gene 2-2-2 Total time used: 0.30840492248535156\n"
     ]
    },
    {
     "name": "stdout",
     "output_type": "stream",
     "text": [
      "Getting logTPM...\n",
      "Trim logTPM matrix...\n",
      "Number of genes: 3635\n",
      "snatac_gene Saving to files 0.2746257781982422\n",
      "snatac_gene 2-2-3\n",
      "snatac_gene Preproc and get highly variable genes 0.11574077606201172\n",
      "Imputing gene lengths...\n",
      "Removing low coverage genes...\n",
      "Getting CPM..\n"
     ]
    },
    {
     "name": "stderr",
     "output_type": "stream",
     "text": [
      "09/24/2019 10:06:26 AM snatac_gene 2-2-3 Total time used: 0.30316853523254395\n"
     ]
    },
    {
     "name": "stdout",
     "output_type": "stream",
     "text": [
      "Getting highly variable genes and logCPM...\n",
      "Getting logTPM...\n",
      "Trim logTPM matrix...\n",
      "Number of genes: 4617\n",
      "snatac_gene Saving to files 0.2794778347015381\n",
      "snatac_gene 2-2-4\n"
     ]
    },
    {
     "name": "stderr",
     "output_type": "stream",
     "text": [
      "09/24/2019 10:06:26 AM snatac_gene 2-2-4 Total time used: 0.29552650451660156\n"
     ]
    },
    {
     "name": "stdout",
     "output_type": "stream",
     "text": [
      "snatac_gene Preproc and get highly variable genes 0.09324812889099121\n",
      "Imputing gene lengths...\n",
      "Removing low coverage genes...\n",
      "Getting CPM..\n",
      "Getting highly variable genes and logCPM...\n",
      "Getting logTPM...\n",
      "Trim logTPM matrix...\n",
      "Number of genes: 439\n",
      "snatac_gene Saving to files 0.28615498542785645\n",
      "snatac_gene 2-3-1\n",
      "snatac_gene Preproc and get highly variable genes 0.1985166072845459\n",
      "Imputing gene lengths...\n",
      "Removing low coverage genes...\n",
      "Getting CPM..\n",
      "Getting highly variable genes and logCPM...\n",
      "Getting logTPM...\n",
      "Trim logTPM matrix...\n",
      "Number of genes: 6048\n",
      "snatac_gene Saving to files 1.078883171081543\n"
     ]
    },
    {
     "name": "stderr",
     "output_type": "stream",
     "text": [
      "09/24/2019 10:06:28 AM snatac_gene 2-3-1 Total time used: 1.854478120803833\n"
     ]
    },
    {
     "name": "stdout",
     "output_type": "stream",
     "text": [
      "snatac_gene 2-3-2\n",
      "snatac_gene Preproc and get highly variable genes 0.1207280158996582\n",
      "Imputing gene lengths...\n",
      "Removing low coverage genes...\n",
      "Getting CPM..\n",
      "Getting highly variable genes and logCPM...\n"
     ]
    },
    {
     "name": "stderr",
     "output_type": "stream",
     "text": [
      "09/24/2019 10:06:29 AM snatac_gene 2-3-2 Total time used: 0.4822690486907959\n"
     ]
    },
    {
     "name": "stdout",
     "output_type": "stream",
     "text": [
      "Getting logTPM...\n",
      "Trim logTPM matrix...\n",
      "Number of genes: 5949\n",
      "snatac_gene Saving to files 0.40336108207702637\n",
      "snatac_gene 2-3-3\n",
      "snatac_gene Preproc and get highly variable genes 0.1192009449005127\n",
      "Imputing gene lengths...\n",
      "Removing low coverage genes...\n",
      "Getting CPM..\n",
      "Getting highly variable genes and logCPM...\n",
      "Getting logTPM...\n",
      "Trim logTPM matrix...\n",
      "Number of genes: 4053\n",
      "snatac_gene Saving to files 0.31737685203552246\n"
     ]
    },
    {
     "name": "stderr",
     "output_type": "stream",
     "text": [
      "09/24/2019 10:06:29 AM snatac_gene 2-3-3 Total time used: 0.3545572757720947\n"
     ]
    },
    {
     "name": "stdout",
     "output_type": "stream",
     "text": [
      "snatac_gene 3-1-1\n",
      "snatac_gene Preproc and get highly variable genes 0.25848889350891113\n",
      "Imputing gene lengths...\n",
      "Removing low coverage genes...\n",
      "Getting CPM..\n",
      "Getting highly variable genes and logCPM...\n",
      "Getting logTPM...\n",
      "Trim logTPM matrix...\n",
      "Number of genes: 6538\n",
      "snatac_gene Saving to files 2.068563222885132\n"
     ]
    },
    {
     "name": "stderr",
     "output_type": "stream",
     "text": [
      "09/24/2019 10:06:33 AM snatac_gene 3-1-1 Total time used: 3.6647050380706787\n"
     ]
    },
    {
     "name": "stdout",
     "output_type": "stream",
     "text": [
      "snatac_gene 3-1-2\n",
      "snatac_gene Preproc and get highly variable genes 0.1969470977783203\n",
      "Imputing gene lengths...\n",
      "Removing low coverage genes...\n",
      "Getting CPM..\n",
      "Getting highly variable genes and logCPM...\n",
      "Getting logTPM...\n",
      "Trim logTPM matrix...\n",
      "Number of genes: 6480\n",
      "snatac_gene Saving to files 1.3681788444519043\n"
     ]
    },
    {
     "name": "stderr",
     "output_type": "stream",
     "text": [
      "09/24/2019 10:06:35 AM snatac_gene 3-1-2 Total time used: 2.411189556121826\n"
     ]
    },
    {
     "name": "stdout",
     "output_type": "stream",
     "text": [
      "snatac_gene 3-2-1\n",
      "snatac_gene Preproc and get highly variable genes 0.2974393367767334\n",
      "Imputing gene lengths...\n",
      "Removing low coverage genes...\n",
      "Getting CPM..\n",
      "Getting highly variable genes and logCPM...\n",
      "Getting logTPM...\n",
      "Trim logTPM matrix...\n",
      "Number of genes: 6750\n",
      "snatac_gene Saving to files 2.6992366313934326\n"
     ]
    },
    {
     "name": "stderr",
     "output_type": "stream",
     "text": [
      "09/24/2019 10:06:40 AM snatac_gene 3-2-1 Total time used: 4.766007900238037\n"
     ]
    },
    {
     "name": "stdout",
     "output_type": "stream",
     "text": [
      "snatac_gene 3-3-1\n",
      "snatac_gene Preproc and get highly variable genes 0.17754817008972168\n",
      "Imputing gene lengths...\n",
      "Removing low coverage genes...\n",
      "Getting CPM..\n",
      "Getting highly variable genes and logCPM...\n",
      "Getting logTPM...\n",
      "Trim logTPM matrix...\n",
      "Number of genes: 5472\n",
      "snatac_gene Saving to files 1.0250468254089355\n"
     ]
    },
    {
     "name": "stderr",
     "output_type": "stream",
     "text": [
      "09/24/2019 10:06:41 AM snatac_gene 3-3-1 Total time used: 1.4492287635803223\n"
     ]
    },
    {
     "name": "stdout",
     "output_type": "stream",
     "text": [
      "snatac_gene 4-1-1\n",
      "snatac_gene Preproc and get highly variable genes 0.6317703723907471\n",
      "Imputing gene lengths...\n",
      "Removing low coverage genes...\n",
      "Getting CPM..\n",
      "Getting highly variable genes and logCPM...\n",
      "Getting logTPM...\n",
      "Trim logTPM matrix...\n",
      "Number of genes: 6350\n",
      "snatac_gene Saving to files 8.997722148895264\n"
     ]
    },
    {
     "name": "stderr",
     "output_type": "stream",
     "text": [
      "09/24/2019 10:06:58 AM snatac_gene 4-1-1 Total time used: 16.80202841758728\n"
     ]
    },
    {
     "name": "stdout",
     "output_type": "stream",
     "text": [
      "snatac_gene 4-1-2\n",
      "snatac_gene Preproc and get highly variable genes 0.11787295341491699\n",
      "Imputing gene lengths...\n",
      "Removing low coverage genes...\n",
      "Getting CPM..\n",
      "Getting highly variable genes and logCPM...\n",
      "Getting logTPM...\n"
     ]
    },
    {
     "name": "stderr",
     "output_type": "stream",
     "text": [
      "09/24/2019 10:06:58 AM snatac_gene 4-1-2 Total time used: 0.2141273021697998\n"
     ]
    },
    {
     "name": "stdout",
     "output_type": "stream",
     "text": [
      "Trim logTPM matrix...\n",
      "Number of genes: 68\n",
      "snatac_gene Saving to files 0.20801067352294922\n",
      "snatac_gene 4-2-1\n",
      "snatac_gene Preproc and get highly variable genes 0.3829629421234131\n",
      "Imputing gene lengths...\n",
      "Removing low coverage genes...\n",
      "Getting CPM..\n",
      "Getting highly variable genes and logCPM...\n",
      "Getting logTPM...\n",
      "Trim logTPM matrix...\n",
      "Number of genes: 6021\n",
      "snatac_gene Saving to files 3.651320695877075\n"
     ]
    },
    {
     "name": "stderr",
     "output_type": "stream",
     "text": [
      "09/24/2019 10:07:05 AM snatac_gene 4-2-1 Total time used: 6.422818422317505\n"
     ]
    },
    {
     "name": "stdout",
     "output_type": "stream",
     "text": [
      "snatac_gene 4-2-2\n",
      "snatac_gene Preproc and get highly variable genes 0.1251842975616455\n",
      "Imputing gene lengths...\n",
      "Removing low coverage genes...\n",
      "Getting CPM..\n",
      "Getting highly variable genes and logCPM...\n"
     ]
    },
    {
     "name": "stderr",
     "output_type": "stream",
     "text": [
      "09/24/2019 10:07:05 AM snatac_gene 4-2-2 Total time used: 0.3488044738769531\n"
     ]
    },
    {
     "name": "stdout",
     "output_type": "stream",
     "text": [
      "Getting logTPM...\n",
      "Trim logTPM matrix...\n",
      "Number of genes: 5375\n",
      "snatac_gene Saving to files 0.31152939796447754\n",
      "snatac_gene 4-2-3\n",
      "snatac_gene Preproc and get highly variable genes 0.11059093475341797\n",
      "Imputing gene lengths...\n",
      "Removing low coverage genes...\n"
     ]
    },
    {
     "name": "stderr",
     "output_type": "stream",
     "text": [
      "09/24/2019 10:07:05 AM snatac_gene 4-2-3 Total time used: 0.2547280788421631\n"
     ]
    },
    {
     "name": "stdout",
     "output_type": "stream",
     "text": [
      "Getting CPM..\n",
      "Getting highly variable genes and logCPM...\n",
      "Getting logTPM...\n",
      "Trim logTPM matrix...\n",
      "Number of genes: 1992\n",
      "snatac_gene Saving to files 0.24441933631896973\n",
      "snatac_gene 5-1-1\n",
      "snatac_gene Preproc and get highly variable genes 0.25116729736328125\n",
      "Imputing gene lengths...\n",
      "Removing low coverage genes...\n",
      "Getting CPM..\n",
      "Getting highly variable genes and logCPM...\n",
      "Getting logTPM...\n",
      "Trim logTPM matrix...\n",
      "Number of genes: 6147\n",
      "snatac_gene Saving to files 1.9137663841247559\n"
     ]
    },
    {
     "name": "stderr",
     "output_type": "stream",
     "text": [
      "09/24/2019 10:07:09 AM snatac_gene 5-1-1 Total time used: 3.4377591609954834\n"
     ]
    },
    {
     "name": "stdout",
     "output_type": "stream",
     "text": [
      "snatac_gene 5-1-2\n",
      "snatac_gene Preproc and get highly variable genes 0.22069478034973145\n",
      "Imputing gene lengths...\n",
      "Removing low coverage genes...\n",
      "Getting CPM..\n",
      "Getting highly variable genes and logCPM...\n",
      "Getting logTPM...\n",
      "Trim logTPM matrix...\n",
      "Number of genes: 6193\n",
      "snatac_gene Saving to files 1.3077762126922607\n"
     ]
    },
    {
     "name": "stderr",
     "output_type": "stream",
     "text": [
      "09/24/2019 10:07:11 AM snatac_gene 5-1-2 Total time used: 2.2078330516815186\n"
     ]
    },
    {
     "name": "stdout",
     "output_type": "stream",
     "text": [
      "snatac_gene 5-2-1\n",
      "snatac_gene Preproc and get highly variable genes 0.13481712341308594\n",
      "Imputing gene lengths...\n",
      "Removing low coverage genes...\n",
      "Getting CPM..\n",
      "Getting highly variable genes and logCPM...\n",
      "Getting logTPM...\n",
      "Trim logTPM matrix...\n",
      "Number of genes: 6390\n",
      "snatac_gene Saving to files 0.630969762802124\n"
     ]
    },
    {
     "name": "stderr",
     "output_type": "stream",
     "text": [
      "09/24/2019 10:07:12 AM snatac_gene 5-2-1 Total time used: 1.0020933151245117\n"
     ]
    },
    {
     "name": "stdout",
     "output_type": "stream",
     "text": [
      "snatac_gene 5-2-2\n",
      "snatac_gene Preproc and get highly variable genes 0.1457364559173584\n",
      "Imputing gene lengths...\n",
      "Removing low coverage genes...\n",
      "Getting CPM..\n",
      "Getting highly variable genes and logCPM...\n",
      "Getting logTPM...\n",
      "Trim logTPM matrix...\n",
      "Number of genes: 5769\n",
      "snatac_gene Saving to files 0.540452241897583\n"
     ]
    },
    {
     "name": "stderr",
     "output_type": "stream",
     "text": [
      "09/24/2019 10:07:13 AM snatac_gene 5-2-2 Total time used: 0.8478488922119141\n"
     ]
    },
    {
     "name": "stdout",
     "output_type": "stream",
     "text": [
      "snatac_gene 5-2-3\n",
      "snatac_gene Preproc and get highly variable genes 0.11685895919799805\n",
      "Imputing gene lengths...\n",
      "Removing low coverage genes...\n",
      "Getting CPM..\n",
      "Getting highly variable genes and logCPM...\n"
     ]
    },
    {
     "name": "stderr",
     "output_type": "stream",
     "text": [
      "09/24/2019 10:07:13 AM snatac_gene 5-2-3 Total time used: 0.36011719703674316\n"
     ]
    },
    {
     "name": "stdout",
     "output_type": "stream",
     "text": [
      "Getting logTPM...\n",
      "Trim logTPM matrix...\n",
      "Number of genes: 6158\n",
      "snatac_gene Saving to files 0.3126413822174072\n",
      "snatac_gene 5-3-1\n",
      "snatac_gene Preproc and get highly variable genes 0.21704769134521484\n",
      "Imputing gene lengths...\n",
      "Removing low coverage genes...\n",
      "Getting CPM..\n",
      "Getting highly variable genes and logCPM...\n",
      "Getting logTPM...\n",
      "Trim logTPM matrix...\n",
      "Number of genes: 6228\n",
      "snatac_gene Saving to files 1.4441962242126465\n"
     ]
    },
    {
     "name": "stderr",
     "output_type": "stream",
     "text": [
      "09/24/2019 10:07:16 AM snatac_gene 5-3-1 Total time used: 2.4302501678466797\n"
     ]
    },
    {
     "name": "stdout",
     "output_type": "stream",
     "text": [
      "snatac_gene 5-3-2\n",
      "snatac_gene Preproc and get highly variable genes 0.11869978904724121\n",
      "Imputing gene lengths...\n",
      "Removing low coverage genes...\n",
      "Getting CPM..\n",
      "Getting highly variable genes and logCPM...\n"
     ]
    },
    {
     "name": "stderr",
     "output_type": "stream",
     "text": [
      "09/24/2019 10:07:16 AM snatac_gene 5-3-2 Total time used: 0.3527529239654541\n"
     ]
    },
    {
     "name": "stdout",
     "output_type": "stream",
     "text": [
      "Getting logTPM...\n",
      "Trim logTPM matrix...\n",
      "Number of genes: 5024\n",
      "snatac_gene Saving to files 0.2943227291107178\n",
      "snatac_gene 5-4-1\n"
     ]
    },
    {
     "name": "stderr",
     "output_type": "stream",
     "text": [
      "09/24/2019 10:07:16 AM snatac_gene 5-4-1 Total time used: 0.3139967918395996\n"
     ]
    },
    {
     "name": "stdout",
     "output_type": "stream",
     "text": [
      "snatac_gene Preproc and get highly variable genes 0.11557364463806152\n",
      "Imputing gene lengths...\n",
      "Removing low coverage genes...\n",
      "Getting CPM..\n",
      "Getting highly variable genes and logCPM...\n",
      "Getting logTPM...\n",
      "Trim logTPM matrix...\n",
      "Number of genes: 5195\n",
      "snatac_gene Saving to files 0.28607726097106934\n",
      "snatac_gene 5-5-1\n"
     ]
    },
    {
     "name": "stderr",
     "output_type": "stream",
     "text": [
      "09/24/2019 10:07:17 AM snatac_gene 5-5-1 Total time used: 0.26880311965942383\n"
     ]
    },
    {
     "name": "stdout",
     "output_type": "stream",
     "text": [
      "snatac_gene Preproc and get highly variable genes 0.11450433731079102\n",
      "Imputing gene lengths...\n",
      "Removing low coverage genes...\n",
      "Getting CPM..\n",
      "Getting highly variable genes and logCPM...\n",
      "Getting logTPM...\n",
      "Trim logTPM matrix...\n",
      "Number of genes: 2767\n",
      "snatac_gene Saving to files 0.25567102432250977\n",
      "snatac_gene 6-1-1\n",
      "snatac_gene Preproc and get highly variable genes 0.14769220352172852\n",
      "Imputing gene lengths...\n",
      "Removing low coverage genes...\n",
      "Getting CPM..\n",
      "Getting highly variable genes and logCPM...\n",
      "Getting logTPM...\n",
      "Trim logTPM matrix...\n",
      "Number of genes: 5724\n",
      "snatac_gene Saving to files 0.5712425708770752\n"
     ]
    },
    {
     "name": "stderr",
     "output_type": "stream",
     "text": [
      "09/24/2019 10:07:17 AM snatac_gene 6-1-1 Total time used: 0.9066972732543945\n"
     ]
    },
    {
     "name": "stdout",
     "output_type": "stream",
     "text": [
      "snatac_gene 6-1-2\n",
      "snatac_gene Preproc and get highly variable genes 0.1365187168121338\n",
      "Imputing gene lengths...\n",
      "Removing low coverage genes...\n",
      "Getting CPM..\n",
      "Getting highly variable genes and logCPM...\n",
      "Getting logTPM...\n",
      "Trim logTPM matrix...\n",
      "Number of genes: 5842\n",
      "snatac_gene Saving to files 0.4824070930480957\n"
     ]
    },
    {
     "name": "stderr",
     "output_type": "stream",
     "text": [
      "09/24/2019 10:07:18 AM snatac_gene 6-1-2 Total time used: 0.7283892631530762\n"
     ]
    },
    {
     "name": "stdout",
     "output_type": "stream",
     "text": [
      "snatac_gene 6-2-1\n",
      "snatac_gene Preproc and get highly variable genes 0.15622258186340332\n",
      "Imputing gene lengths...\n",
      "Removing low coverage genes...\n",
      "Getting CPM..\n",
      "Getting highly variable genes and logCPM...\n",
      "Getting logTPM...\n",
      "Trim logTPM matrix...\n",
      "Number of genes: 6231\n",
      "snatac_gene Saving to files 0.927980899810791\n"
     ]
    },
    {
     "name": "stderr",
     "output_type": "stream",
     "text": [
      "09/24/2019 10:07:20 AM snatac_gene 6-2-1 Total time used: 1.4693293571472168\n"
     ]
    },
    {
     "name": "stdout",
     "output_type": "stream",
     "text": [
      "snatac_gene 6-3-1\n",
      "snatac_gene Preproc and get highly variable genes 0.12057113647460938\n",
      "Imputing gene lengths...\n",
      "Removing low coverage genes...\n",
      "Getting CPM..\n",
      "Getting highly variable genes and logCPM...\n"
     ]
    },
    {
     "name": "stderr",
     "output_type": "stream",
     "text": [
      "09/24/2019 10:07:20 AM snatac_gene 6-3-1 Total time used: 0.40564441680908203\n"
     ]
    },
    {
     "name": "stdout",
     "output_type": "stream",
     "text": [
      "Getting logTPM...\n",
      "Trim logTPM matrix...\n",
      "Number of genes: 5472\n",
      "snatac_gene Saving to files 0.33160901069641113\n",
      "snatac_gene 6-3-2\n",
      "snatac_gene Preproc and get highly variable genes 0.11997199058532715\n",
      "Imputing gene lengths...\n",
      "Removing low coverage genes...\n",
      "Getting CPM..\n",
      "Getting highly variable genes and logCPM...\n",
      "Getting logTPM...\n",
      "Trim logTPM matrix...\n",
      "Number of genes: 5543\n",
      "snatac_gene Saving to files 0.33324456214904785\n"
     ]
    },
    {
     "name": "stderr",
     "output_type": "stream",
     "text": [
      "09/24/2019 10:07:21 AM snatac_gene 6-3-2 Total time used: 0.4254417419433594\n"
     ]
    },
    {
     "name": "stdout",
     "output_type": "stream",
     "text": [
      "snatac_gene 6-3-3\n",
      "snatac_gene Preproc and get highly variable genes 0.11567044258117676\n",
      "Imputing gene lengths...\n",
      "Removing low coverage genes...\n",
      "Getting CPM..\n",
      "Getting highly variable genes and logCPM...\n"
     ]
    },
    {
     "name": "stderr",
     "output_type": "stream",
     "text": [
      "09/24/2019 10:07:21 AM snatac_gene 6-3-3 Total time used: 0.3878185749053955\n"
     ]
    },
    {
     "name": "stdout",
     "output_type": "stream",
     "text": [
      "Getting logTPM...\n",
      "Trim logTPM matrix...\n",
      "Number of genes: 6478\n",
      "snatac_gene Saving to files 0.32713937759399414\n",
      "snatac_gene 6-4-1\n",
      "snatac_gene Preproc and get highly variable genes 0.13314056396484375\n",
      "Imputing gene lengths...\n",
      "Removing low coverage genes...\n",
      "Getting CPM..\n",
      "Getting highly variable genes and logCPM...\n",
      "Getting logTPM...\n",
      "Trim logTPM matrix...\n",
      "Number of genes: 5913\n",
      "snatac_gene Saving to files 0.4516756534576416\n"
     ]
    },
    {
     "name": "stderr",
     "output_type": "stream",
     "text": [
      "09/24/2019 10:07:22 AM snatac_gene 6-4-1 Total time used: 0.6525137424468994\n"
     ]
    },
    {
     "name": "stdout",
     "output_type": "stream",
     "text": [
      "snatac_gene 6-4-2\n",
      "snatac_gene Preproc and get highly variable genes 0.15341758728027344\n",
      "Imputing gene lengths...\n",
      "Removing low coverage genes...\n",
      "Getting CPM..\n",
      "Getting highly variable genes and logCPM...\n",
      "Getting logTPM...\n",
      "Trim logTPM matrix...\n",
      "Number of genes: 5868\n",
      "snatac_gene Saving to files 0.5673308372497559\n"
     ]
    },
    {
     "name": "stderr",
     "output_type": "stream",
     "text": [
      "09/24/2019 10:07:22 AM snatac_gene 6-4-2 Total time used: 0.8880257606506348\n"
     ]
    },
    {
     "name": "stdout",
     "output_type": "stream",
     "text": [
      "snatac_gene 6-5-1\n",
      "snatac_gene Preproc and get highly variable genes 0.13338613510131836\n",
      "Imputing gene lengths...\n",
      "Removing low coverage genes...\n",
      "Getting CPM..\n",
      "Getting highly variable genes and logCPM...\n",
      "Getting logTPM...\n",
      "Trim logTPM matrix...\n",
      "Number of genes: 6228\n",
      "snatac_gene Saving to files 0.4891049861907959\n"
     ]
    },
    {
     "name": "stderr",
     "output_type": "stream",
     "text": [
      "09/24/2019 10:07:23 AM snatac_gene 6-5-1 Total time used: 0.7329344749450684\n"
     ]
    },
    {
     "name": "stdout",
     "output_type": "stream",
     "text": [
      "snatac_gene 6-5-2\n",
      "snatac_gene Preproc and get highly variable genes 0.11273694038391113\n",
      "Imputing gene lengths...\n",
      "Removing low coverage genes...\n",
      "Getting CPM..\n",
      "Getting highly variable genes and logCPM...\n"
     ]
    },
    {
     "name": "stderr",
     "output_type": "stream",
     "text": [
      "09/24/2019 10:07:23 AM snatac_gene 6-5-2 Total time used: 0.2833430767059326\n"
     ]
    },
    {
     "name": "stdout",
     "output_type": "stream",
     "text": [
      "Getting logTPM...\n",
      "Trim logTPM matrix...\n",
      "Number of genes: 3096\n",
      "snatac_gene Saving to files 0.26883435249328613\n",
      "snatac_gene 6-5-3\n",
      "snatac_gene Preproc and get highly variable genes 0.10830020904541016\n",
      "Imputing gene lengths...\n",
      "Removing low coverage genes...\n",
      "Getting CPM..\n",
      "Getting highly variable genes and logCPM...\n"
     ]
    },
    {
     "name": "stderr",
     "output_type": "stream",
     "text": [
      "09/24/2019 10:07:24 AM snatac_gene 6-5-3 Total time used: 0.23120450973510742\n"
     ]
    },
    {
     "name": "stdout",
     "output_type": "stream",
     "text": [
      "Getting logTPM...\n",
      "Trim logTPM matrix...\n",
      "Number of genes: 357\n",
      "snatac_gene Saving to files 0.2237849235534668\n",
      "snatac_gene 6-6-1\n",
      "snatac_gene Preproc and get highly variable genes 0.10891294479370117\n",
      "Imputing gene lengths...\n",
      "Removing low coverage genes...\n",
      "Getting CPM..\n",
      "Getting highly variable genes and logCPM...\n"
     ]
    },
    {
     "name": "stderr",
     "output_type": "stream",
     "text": [
      "09/24/2019 10:07:24 AM snatac_gene 6-6-1 Total time used: 0.23289704322814941\n"
     ]
    },
    {
     "name": "stdout",
     "output_type": "stream",
     "text": [
      "Getting logTPM...\n",
      "Trim logTPM matrix...\n",
      "Number of genes: 435\n",
      "snatac_gene Saving to files 0.22477197647094727\n",
      "snatac_gene 7-1-1\n",
      "snatac_gene Preproc and get highly variable genes 0.12035894393920898\n",
      "Imputing gene lengths...\n",
      "Removing low coverage genes...\n",
      "Getting CPM..\n",
      "Getting highly variable genes and logCPM...\n",
      "Getting logTPM...\n"
     ]
    },
    {
     "name": "stderr",
     "output_type": "stream",
     "text": [
      "09/24/2019 10:07:25 AM snatac_gene 7-1-1 Total time used: 0.5773956775665283\n"
     ]
    },
    {
     "name": "stdout",
     "output_type": "stream",
     "text": [
      "Trim logTPM matrix...\n",
      "Number of genes: 5814\n",
      "snatac_gene Saving to files 0.407273530960083\n",
      "snatac_gene 7-1-2\n",
      "snatac_gene Preproc and get highly variable genes 0.12788105010986328\n",
      "Imputing gene lengths...\n",
      "Removing low coverage genes...\n",
      "Getting CPM..\n",
      "Getting highly variable genes and logCPM...\n",
      "Getting logTPM...\n"
     ]
    },
    {
     "name": "stderr",
     "output_type": "stream",
     "text": [
      "09/24/2019 10:07:25 AM snatac_gene 7-1-2 Total time used: 0.47798585891723633\n"
     ]
    },
    {
     "name": "stdout",
     "output_type": "stream",
     "text": [
      "Trim logTPM matrix...\n",
      "Number of genes: 6219\n",
      "snatac_gene Saving to files 0.3764767646789551\n",
      "snatac_gene 7-2-1\n",
      "snatac_gene Preproc and get highly variable genes 0.15564703941345215\n",
      "Imputing gene lengths...\n",
      "Removing low coverage genes...\n",
      "Getting CPM..\n",
      "Getting highly variable genes and logCPM...\n",
      "Getting logTPM...\n",
      "Trim logTPM matrix...\n",
      "Number of genes: 6066\n",
      "snatac_gene Saving to files 0.7163877487182617\n"
     ]
    },
    {
     "name": "stderr",
     "output_type": "stream",
     "text": [
      "09/24/2019 10:07:26 AM snatac_gene 7-2-1 Total time used: 1.1911869049072266\n"
     ]
    },
    {
     "name": "stdout",
     "output_type": "stream",
     "text": [
      "snatac_gene 7-2-2\n",
      "snatac_gene Preproc and get highly variable genes 0.12003850936889648\n",
      "Imputing gene lengths...\n",
      "Removing low coverage genes...\n",
      "Getting CPM..\n",
      "Getting highly variable genes and logCPM...\n"
     ]
    },
    {
     "name": "stderr",
     "output_type": "stream",
     "text": [
      "09/24/2019 10:07:27 AM snatac_gene 7-2-2 Total time used: 0.40368175506591797\n"
     ]
    },
    {
     "name": "stdout",
     "output_type": "stream",
     "text": [
      "Getting logTPM...\n",
      "Trim logTPM matrix...\n",
      "Number of genes: 5400\n",
      "snatac_gene Saving to files 0.3305044174194336\n",
      "snatac_gene 8-1-1\n",
      "snatac_gene Preproc and get highly variable genes 0.11799359321594238\n",
      "Imputing gene lengths...\n",
      "Removing low coverage genes...\n",
      "Getting CPM..\n",
      "Getting highly variable genes and logCPM...\n",
      "Getting logTPM...\n",
      "Trim logTPM matrix...\n",
      "Number of genes: 6100\n",
      "snatac_gene Saving to files 0.3178737163543701\n"
     ]
    },
    {
     "name": "stderr",
     "output_type": "stream",
     "text": [
      "09/24/2019 10:07:27 AM snatac_gene 8-1-1 Total time used: 0.3635690212249756\n"
     ]
    },
    {
     "name": "stdout",
     "output_type": "stream",
     "text": [
      "snatac_gene 8-1-2\n",
      "snatac_gene Preproc and get highly variable genes 0.10553550720214844\n",
      "Imputing gene lengths...\n",
      "Removing low coverage genes...\n",
      "Getting CPM..\n",
      "Getting highly variable genes and logCPM...\n"
     ]
    },
    {
     "name": "stderr",
     "output_type": "stream",
     "text": [
      "09/24/2019 10:07:27 AM snatac_gene 8-1-2 Total time used: 0.2500879764556885\n"
     ]
    },
    {
     "name": "stdout",
     "output_type": "stream",
     "text": [
      "Getting logTPM...\n",
      "Trim logTPM matrix...\n",
      "Number of genes: 2273\n",
      "snatac_gene Saving to files 0.2376420497894287\n",
      "snatac_gene 8-2-1\n",
      "snatac_gene Preproc and get highly variable genes 0.11353611946105957\n",
      "Imputing gene lengths...\n",
      "Removing low coverage genes...\n",
      "Getting CPM..\n",
      "Getting highly variable genes and logCPM...\n"
     ]
    },
    {
     "name": "stderr",
     "output_type": "stream",
     "text": [
      "09/24/2019 10:07:28 AM snatac_gene 8-2-1 Total time used: 0.3403034210205078\n"
     ]
    },
    {
     "name": "stdout",
     "output_type": "stream",
     "text": [
      "Getting logTPM...\n",
      "Trim logTPM matrix...\n",
      "Number of genes: 5880\n",
      "snatac_gene Saving to files 0.30169248580932617\n",
      "snatac_gene 8-3-1\n",
      "snatac_gene Preproc and get highly variable genes 0.10726165771484375\n",
      "Imputing gene lengths...\n",
      "Removing low coverage genes...\n",
      "Getting CPM..\n"
     ]
    },
    {
     "name": "stderr",
     "output_type": "stream",
     "text": [
      "09/24/2019 10:07:28 AM snatac_gene 8-3-1 Total time used: 0.21794557571411133\n"
     ]
    },
    {
     "name": "stdout",
     "output_type": "stream",
     "text": [
      "Getting highly variable genes and logCPM...\n",
      "Getting logTPM...\n",
      "Trim logTPM matrix...\n",
      "Number of genes: 426\n",
      "snatac_gene Saving to files 0.21059870719909668\n",
      "snatac_gene 9-1-1\n",
      "snatac_gene Preproc and get highly variable genes 0.16796255111694336\n",
      "Imputing gene lengths...\n",
      "Removing low coverage genes...\n",
      "Getting CPM..\n",
      "Getting highly variable genes and logCPM...\n",
      "Getting logTPM...\n",
      "Trim logTPM matrix...\n",
      "Number of genes: 7240\n",
      "snatac_gene Saving to files 0.9204099178314209\n"
     ]
    },
    {
     "name": "stderr",
     "output_type": "stream",
     "text": [
      "09/24/2019 10:07:29 AM snatac_gene 9-1-1 Total time used: 1.5561461448669434\n"
     ]
    },
    {
     "name": "stdout",
     "output_type": "stream",
     "text": [
      "snatac_gene 9-2-1\n",
      "snatac_gene Preproc and get highly variable genes 0.11192560195922852\n",
      "Imputing gene lengths...\n",
      "Removing low coverage genes...\n",
      "Getting CPM..\n",
      "Getting highly variable genes and logCPM...\n"
     ]
    },
    {
     "name": "stderr",
     "output_type": "stream",
     "text": [
      "09/24/2019 10:07:30 AM snatac_gene 9-2-1 Total time used: 0.25443005561828613\n"
     ]
    },
    {
     "name": "stdout",
     "output_type": "stream",
     "text": [
      "Getting logTPM...\n",
      "Trim logTPM matrix...\n",
      "Number of genes: 2534\n",
      "snatac_gene Saving to files 0.24291110038757324\n",
      "snatac_gene 9-2-2\n",
      "snatac_gene Preproc and get highly variable genes 0.10830831527709961\n",
      "Imputing gene lengths...\n",
      "Removing low coverage genes...\n",
      "Getting CPM..\n",
      "Getting highly variable genes and logCPM...\n"
     ]
    },
    {
     "name": "stderr",
     "output_type": "stream",
     "text": [
      "09/24/2019 10:07:30 AM snatac_gene 9-2-2 Total time used: 0.24921560287475586\n"
     ]
    },
    {
     "name": "stdout",
     "output_type": "stream",
     "text": [
      "Getting logTPM...\n",
      "Trim logTPM matrix...\n",
      "Number of genes: 1086\n",
      "snatac_gene Saving to files 0.2347714900970459\n",
      "snmcseq_gene 1-1-1\n"
     ]
    },
    {
     "name": "stderr",
     "output_type": "stream",
     "text": [
      "09/24/2019 10:07:36 AM (15518, 1078)\n"
     ]
    },
    {
     "name": "stdout",
     "output_type": "stream",
     "text": [
      "snmcseq_gene Saving to files 7.365153789520264\n"
     ]
    },
    {
     "name": "stderr",
     "output_type": "stream",
     "text": [
      "09/24/2019 10:07:44 AM snmcseq_gene 1-1-1 Total time used: 14.541694641113281\n"
     ]
    },
    {
     "name": "stdout",
     "output_type": "stream",
     "text": [
      "snmcseq_gene 1-2-1\n"
     ]
    },
    {
     "name": "stderr",
     "output_type": "stream",
     "text": [
      "09/24/2019 10:07:48 AM (14746, 646)\n"
     ]
    },
    {
     "name": "stdout",
     "output_type": "stream",
     "text": [
      "snmcseq_gene Saving to files 4.332710266113281\n"
     ]
    },
    {
     "name": "stderr",
     "output_type": "stream",
     "text": [
      "09/24/2019 10:07:53 AM snmcseq_gene 1-2-1 Total time used: 8.567694187164307\n"
     ]
    },
    {
     "name": "stdout",
     "output_type": "stream",
     "text": [
      "snmcseq_gene 1-2-2\n"
     ]
    },
    {
     "name": "stderr",
     "output_type": "stream",
     "text": [
      "09/24/2019 10:07:54 AM (19005, 147)\n"
     ]
    },
    {
     "name": "stdout",
     "output_type": "stream",
     "text": [
      "snmcseq_gene Saving to files 1.173865556716919\n"
     ]
    },
    {
     "name": "stderr",
     "output_type": "stream",
     "text": [
      "09/24/2019 10:07:55 AM snmcseq_gene 1-2-2 Total time used: 2.5199975967407227\n",
      "09/24/2019 10:07:56 AM (12366, 15)\n"
     ]
    },
    {
     "name": "stdout",
     "output_type": "stream",
     "text": [
      "snmcseq_gene 10-1-1\n"
     ]
    },
    {
     "name": "stderr",
     "output_type": "stream",
     "text": [
      "09/24/2019 10:07:56 AM snmcseq_gene 10-1-1 Total time used: 0.4951813220977783\n"
     ]
    },
    {
     "name": "stdout",
     "output_type": "stream",
     "text": [
      "snmcseq_gene Saving to files 0.33112144470214844\n",
      "snmcseq_gene 2-1-1\n"
     ]
    },
    {
     "name": "stderr",
     "output_type": "stream",
     "text": [
      "09/24/2019 10:07:59 AM (15297, 635)\n"
     ]
    },
    {
     "name": "stdout",
     "output_type": "stream",
     "text": [
      "snmcseq_gene Saving to files 4.452558755874634\n"
     ]
    },
    {
     "name": "stderr",
     "output_type": "stream",
     "text": [
      "09/24/2019 10:08:05 AM snmcseq_gene 2-1-1 Total time used: 8.653679847717285\n"
     ]
    },
    {
     "name": "stdout",
     "output_type": "stream",
     "text": [
      "snmcseq_gene 2-1-2\n"
     ]
    },
    {
     "name": "stderr",
     "output_type": "stream",
     "text": [
      "09/24/2019 10:08:06 AM (15095, 252)\n"
     ]
    },
    {
     "name": "stdout",
     "output_type": "stream",
     "text": [
      "snmcseq_gene Saving to files 1.8476340770721436\n"
     ]
    },
    {
     "name": "stderr",
     "output_type": "stream",
     "text": [
      "09/24/2019 10:08:08 AM snmcseq_gene 2-1-2 Total time used: 3.6109488010406494\n"
     ]
    },
    {
     "name": "stdout",
     "output_type": "stream",
     "text": [
      "snmcseq_gene 2-2-1\n"
     ]
    },
    {
     "name": "stderr",
     "output_type": "stream",
     "text": [
      "09/24/2019 10:08:11 AM (14236, 606)\n"
     ]
    },
    {
     "name": "stdout",
     "output_type": "stream",
     "text": [
      "snmcseq_gene Saving to files 4.239038944244385\n"
     ]
    },
    {
     "name": "stderr",
     "output_type": "stream",
     "text": [
      "09/24/2019 10:08:16 AM snmcseq_gene 2-2-1 Total time used: 8.082021951675415\n",
      "09/24/2019 10:08:17 AM (13377, 17)\n"
     ]
    },
    {
     "name": "stdout",
     "output_type": "stream",
     "text": [
      "snmcseq_gene 2-2-2\n"
     ]
    },
    {
     "name": "stderr",
     "output_type": "stream",
     "text": [
      "09/24/2019 10:08:17 AM snmcseq_gene 2-2-2 Total time used: 0.5414423942565918\n"
     ]
    },
    {
     "name": "stdout",
     "output_type": "stream",
     "text": [
      "snmcseq_gene Saving to files 0.3571944236755371\n",
      "snmcseq_gene 2-3-1\n"
     ]
    },
    {
     "name": "stderr",
     "output_type": "stream",
     "text": [
      "09/24/2019 10:08:18 AM (16322, 205)\n"
     ]
    },
    {
     "name": "stdout",
     "output_type": "stream",
     "text": [
      "snmcseq_gene Saving to files 1.4850006103515625\n"
     ]
    },
    {
     "name": "stderr",
     "output_type": "stream",
     "text": [
      "09/24/2019 10:08:20 AM snmcseq_gene 2-3-1 Total time used: 2.8945822715759277\n"
     ]
    },
    {
     "name": "stdout",
     "output_type": "stream",
     "text": [
      "snmcseq_gene 2-3-2\n"
     ]
    },
    {
     "name": "stderr",
     "output_type": "stream",
     "text": [
      "09/24/2019 10:08:20 AM (17503, 44)\n"
     ]
    },
    {
     "name": "stdout",
     "output_type": "stream",
     "text": [
      "snmcseq_gene Saving to files 0.517880916595459\n"
     ]
    },
    {
     "name": "stderr",
     "output_type": "stream",
     "text": [
      "09/24/2019 10:08:21 AM snmcseq_gene 2-3-2 Total time used: 0.8601489067077637\n"
     ]
    },
    {
     "name": "stdout",
     "output_type": "stream",
     "text": [
      "snmcseq_gene 2-3-3\n"
     ]
    },
    {
     "name": "stderr",
     "output_type": "stream",
     "text": [
      "09/24/2019 10:08:21 AM (16566, 39)\n"
     ]
    },
    {
     "name": "stdout",
     "output_type": "stream",
     "text": [
      "snmcseq_gene Saving to files 0.4854569435119629\n"
     ]
    },
    {
     "name": "stderr",
     "output_type": "stream",
     "text": [
      "09/24/2019 10:08:21 AM snmcseq_gene 2-3-3 Total time used: 0.770256757736206\n"
     ]
    },
    {
     "name": "stdout",
     "output_type": "stream",
     "text": [
      "snmcseq_gene 3-1-1\n"
     ]
    },
    {
     "name": "stderr",
     "output_type": "stream",
     "text": [
      "09/24/2019 10:08:26 AM (13875, 786)\n"
     ]
    },
    {
     "name": "stdout",
     "output_type": "stream",
     "text": [
      "snmcseq_gene Saving to files 5.404104709625244\n"
     ]
    },
    {
     "name": "stderr",
     "output_type": "stream",
     "text": [
      "09/24/2019 10:08:32 AM snmcseq_gene 3-1-1 Total time used: 10.196454524993896\n"
     ]
    },
    {
     "name": "stdout",
     "output_type": "stream",
     "text": [
      "snmcseq_gene 3-1-2\n"
     ]
    },
    {
     "name": "stderr",
     "output_type": "stream",
     "text": [
      "09/24/2019 10:08:32 AM (15608, 129)\n"
     ]
    },
    {
     "name": "stdout",
     "output_type": "stream",
     "text": [
      "snmcseq_gene Saving to files 0.9589598178863525\n"
     ]
    },
    {
     "name": "stderr",
     "output_type": "stream",
     "text": [
      "09/24/2019 10:08:33 AM snmcseq_gene 3-1-2 Total time used: 1.81581449508667\n"
     ]
    },
    {
     "name": "stdout",
     "output_type": "stream",
     "text": [
      "snmcseq_gene 3-2-1\n"
     ]
    },
    {
     "name": "stderr",
     "output_type": "stream",
     "text": [
      "09/24/2019 10:08:38 AM (16007, 832)\n"
     ]
    },
    {
     "name": "stdout",
     "output_type": "stream",
     "text": [
      "snmcseq_gene Saving to files 6.110240697860718\n"
     ]
    },
    {
     "name": "stderr",
     "output_type": "stream",
     "text": [
      "09/24/2019 10:08:45 AM snmcseq_gene 3-2-1 Total time used: 11.875747919082642\n",
      "09/24/2019 10:08:45 AM (18933, 4)\n"
     ]
    },
    {
     "name": "stdout",
     "output_type": "stream",
     "text": [
      "snmcseq_gene 3-2-2\n"
     ]
    },
    {
     "name": "stderr",
     "output_type": "stream",
     "text": [
      "09/24/2019 10:08:46 AM snmcseq_gene 3-2-2 Total time used: 0.3471968173980713\n"
     ]
    },
    {
     "name": "stdout",
     "output_type": "stream",
     "text": [
      "snmcseq_gene Saving to files 0.3073751926422119\n",
      "snmcseq_gene 3-3-1\n"
     ]
    },
    {
     "name": "stderr",
     "output_type": "stream",
     "text": [
      "09/24/2019 10:08:46 AM (15237, 25)\n"
     ]
    },
    {
     "name": "stdout",
     "output_type": "stream",
     "text": [
      "snmcseq_gene Saving to files 0.3981032371520996\n"
     ]
    },
    {
     "name": "stderr",
     "output_type": "stream",
     "text": [
      "09/24/2019 10:08:46 AM snmcseq_gene 3-3-1 Total time used: 0.6647429466247559\n"
     ]
    },
    {
     "name": "stdout",
     "output_type": "stream",
     "text": [
      "snmcseq_gene 4-1-1\n"
     ]
    },
    {
     "name": "stderr",
     "output_type": "stream",
     "text": [
      "09/24/2019 10:08:51 AM (16971, 890)\n"
     ]
    },
    {
     "name": "stdout",
     "output_type": "stream",
     "text": [
      "snmcseq_gene Saving to files 6.57478141784668\n"
     ]
    },
    {
     "name": "stderr",
     "output_type": "stream",
     "text": [
      "09/24/2019 10:09:00 AM snmcseq_gene 4-1-1 Total time used: 13.369216442108154\n",
      "09/24/2019 10:09:00 AM (24607, 3)\n"
     ]
    },
    {
     "name": "stdout",
     "output_type": "stream",
     "text": [
      "snmcseq_gene 4-1-2\n"
     ]
    },
    {
     "name": "stderr",
     "output_type": "stream",
     "text": [
      "09/24/2019 10:09:00 AM snmcseq_gene 4-1-2 Total time used: 0.4200315475463867\n"
     ]
    },
    {
     "name": "stdout",
     "output_type": "stream",
     "text": [
      "snmcseq_gene Saving to files 0.3473386764526367\n",
      "snmcseq_gene 4-2-1\n"
     ]
    },
    {
     "name": "stderr",
     "output_type": "stream",
     "text": [
      "09/24/2019 10:09:04 AM (17687, 587)\n"
     ]
    },
    {
     "name": "stdout",
     "output_type": "stream",
     "text": [
      "snmcseq_gene Saving to files 4.609466552734375\n"
     ]
    },
    {
     "name": "stderr",
     "output_type": "stream",
     "text": [
      "09/24/2019 10:09:09 AM snmcseq_gene 4-2-1 Total time used: 9.247741222381592\n"
     ]
    },
    {
     "name": "stdout",
     "output_type": "stream",
     "text": [
      "snmcseq_gene 4-2-2\n"
     ]
    },
    {
     "name": "stderr",
     "output_type": "stream",
     "text": [
      "09/24/2019 10:09:11 AM (16237, 371)\n"
     ]
    },
    {
     "name": "stdout",
     "output_type": "stream",
     "text": [
      "snmcseq_gene Saving to files 2.950132369995117\n"
     ]
    },
    {
     "name": "stderr",
     "output_type": "stream",
     "text": [
      "09/24/2019 10:09:15 AM snmcseq_gene 4-2-2 Total time used: 5.600583076477051\n"
     ]
    },
    {
     "name": "stdout",
     "output_type": "stream",
     "text": [
      "snmcseq_gene 4-2-3\n"
     ]
    },
    {
     "name": "stderr",
     "output_type": "stream",
     "text": [
      "09/24/2019 10:09:15 AM (16813, 46)\n"
     ]
    },
    {
     "name": "stdout",
     "output_type": "stream",
     "text": [
      "snmcseq_gene Saving to files 0.5533730983734131\n"
     ]
    },
    {
     "name": "stderr",
     "output_type": "stream",
     "text": [
      "09/24/2019 10:09:16 AM snmcseq_gene 4-2-3 Total time used: 0.8981401920318604\n"
     ]
    },
    {
     "name": "stdout",
     "output_type": "stream",
     "text": [
      "snmcseq_gene 5-1-1\n"
     ]
    },
    {
     "name": "stderr",
     "output_type": "stream",
     "text": [
      "09/24/2019 10:09:17 AM (16308, 283)\n"
     ]
    },
    {
     "name": "stdout",
     "output_type": "stream",
     "text": [
      "snmcseq_gene Saving to files 2.1178271770477295\n"
     ]
    },
    {
     "name": "stderr",
     "output_type": "stream",
     "text": [
      "09/24/2019 10:09:20 AM snmcseq_gene 5-1-1 Total time used: 4.15541410446167\n"
     ]
    },
    {
     "name": "stdout",
     "output_type": "stream",
     "text": [
      "snmcseq_gene 5-1-2\n"
     ]
    },
    {
     "name": "stderr",
     "output_type": "stream",
     "text": [
      "09/24/2019 10:09:21 AM (17299, 144)\n"
     ]
    },
    {
     "name": "stdout",
     "output_type": "stream",
     "text": [
      "snmcseq_gene Saving to files 1.2820217609405518\n"
     ]
    },
    {
     "name": "stderr",
     "output_type": "stream",
     "text": [
      "09/24/2019 10:09:22 AM snmcseq_gene 5-1-2 Total time used: 2.350389003753662\n"
     ]
    },
    {
     "name": "stdout",
     "output_type": "stream",
     "text": [
      "snmcseq_gene 5-2-1\n"
     ]
    },
    {
     "name": "stderr",
     "output_type": "stream",
     "text": [
      "09/24/2019 10:09:23 AM (15631, 93)\n"
     ]
    },
    {
     "name": "stdout",
     "output_type": "stream",
     "text": [
      "snmcseq_gene Saving to files 0.814971923828125\n"
     ]
    },
    {
     "name": "stderr",
     "output_type": "stream",
     "text": [
      "09/24/2019 10:09:24 AM snmcseq_gene 5-2-1 Total time used: 1.451718807220459\n"
     ]
    },
    {
     "name": "stdout",
     "output_type": "stream",
     "text": [
      "snmcseq_gene 5-2-2\n"
     ]
    },
    {
     "name": "stderr",
     "output_type": "stream",
     "text": [
      "09/24/2019 10:09:24 AM (14443, 113)\n"
     ]
    },
    {
     "name": "stdout",
     "output_type": "stream",
     "text": [
      "snmcseq_gene Saving to files 0.9284446239471436\n"
     ]
    },
    {
     "name": "stderr",
     "output_type": "stream",
     "text": [
      "09/24/2019 10:09:25 AM snmcseq_gene 5-2-2 Total time used: 1.6300041675567627\n",
      "09/24/2019 10:09:26 AM (11858, 13)\n"
     ]
    },
    {
     "name": "stdout",
     "output_type": "stream",
     "text": [
      "snmcseq_gene 5-2-3\n"
     ]
    },
    {
     "name": "stderr",
     "output_type": "stream",
     "text": [
      "09/24/2019 10:09:26 AM snmcseq_gene 5-2-3 Total time used: 0.40309858322143555\n"
     ]
    },
    {
     "name": "stdout",
     "output_type": "stream",
     "text": [
      "snmcseq_gene Saving to files 0.3276698589324951\n",
      "snmcseq_gene 5-3-1\n"
     ]
    },
    {
     "name": "stderr",
     "output_type": "stream",
     "text": [
      "09/24/2019 10:09:27 AM (16803, 186)\n"
     ]
    },
    {
     "name": "stdout",
     "output_type": "stream",
     "text": [
      "snmcseq_gene Saving to files 1.4943184852600098\n"
     ]
    },
    {
     "name": "stderr",
     "output_type": "stream",
     "text": [
      "09/24/2019 10:09:29 AM snmcseq_gene 5-3-1 Total time used: 2.8186028003692627\n"
     ]
    },
    {
     "name": "stdout",
     "output_type": "stream",
     "text": [
      "snmcseq_gene 5-3-2\n"
     ]
    },
    {
     "name": "stderr",
     "output_type": "stream",
     "text": [
      "09/24/2019 10:09:29 AM (16441, 57)\n"
     ]
    },
    {
     "name": "stdout",
     "output_type": "stream",
     "text": [
      "snmcseq_gene Saving to files 0.5810222625732422\n"
     ]
    },
    {
     "name": "stderr",
     "output_type": "stream",
     "text": [
      "09/24/2019 10:09:30 AM snmcseq_gene 5-3-2 Total time used: 0.9971168041229248\n",
      "09/24/2019 10:09:30 AM (14653, 15)\n"
     ]
    },
    {
     "name": "stdout",
     "output_type": "stream",
     "text": [
      "snmcseq_gene 5-4-1\n"
     ]
    },
    {
     "name": "stderr",
     "output_type": "stream",
     "text": [
      "09/24/2019 10:09:30 AM snmcseq_gene 5-4-1 Total time used: 0.5588743686676025\n"
     ]
    },
    {
     "name": "stdout",
     "output_type": "stream",
     "text": [
      "snmcseq_gene Saving to files 0.4089536666870117\n",
      "snmcseq_gene 5-5-1\n"
     ]
    },
    {
     "name": "stderr",
     "output_type": "stream",
     "text": [
      "09/24/2019 10:09:30 AM (19962, 7)\n",
      "09/24/2019 10:09:31 AM snmcseq_gene 5-5-1 Total time used: 0.4800984859466553\n"
     ]
    },
    {
     "name": "stdout",
     "output_type": "stream",
     "text": [
      "snmcseq_gene Saving to files 0.3505840301513672\n",
      "snmcseq_gene 6-1-1\n"
     ]
    },
    {
     "name": "stderr",
     "output_type": "stream",
     "text": [
      "09/24/2019 10:09:31 AM (15583, 74)\n"
     ]
    },
    {
     "name": "stdout",
     "output_type": "stream",
     "text": [
      "snmcseq_gene Saving to files 0.7212896347045898\n"
     ]
    },
    {
     "name": "stderr",
     "output_type": "stream",
     "text": [
      "09/24/2019 10:09:32 AM snmcseq_gene 6-1-1 Total time used: 1.3835740089416504\n"
     ]
    },
    {
     "name": "stdout",
     "output_type": "stream",
     "text": [
      "snmcseq_gene 6-1-2\n"
     ]
    },
    {
     "name": "stderr",
     "output_type": "stream",
     "text": [
      "09/24/2019 10:09:32 AM (16677, 36)\n"
     ]
    },
    {
     "name": "stdout",
     "output_type": "stream",
     "text": [
      "snmcseq_gene Saving to files 0.5786023139953613\n"
     ]
    },
    {
     "name": "stderr",
     "output_type": "stream",
     "text": [
      "09/24/2019 10:09:33 AM snmcseq_gene 6-1-2 Total time used: 0.9456050395965576\n"
     ]
    },
    {
     "name": "stdout",
     "output_type": "stream",
     "text": [
      "snmcseq_gene 6-2-1\n"
     ]
    },
    {
     "name": "stderr",
     "output_type": "stream",
     "text": [
      "09/24/2019 10:09:34 AM (16315, 236)\n"
     ]
    },
    {
     "name": "stdout",
     "output_type": "stream",
     "text": [
      "snmcseq_gene Saving to files 1.9491028785705566\n"
     ]
    },
    {
     "name": "stderr",
     "output_type": "stream",
     "text": [
      "09/24/2019 10:09:37 AM snmcseq_gene 6-2-1 Total time used: 3.696082353591919\n"
     ]
    },
    {
     "name": "stdout",
     "output_type": "stream",
     "text": [
      "snmcseq_gene 6-3-1\n"
     ]
    },
    {
     "name": "stderr",
     "output_type": "stream",
     "text": [
      "09/24/2019 10:09:37 AM (16935, 25)\n",
      "09/24/2019 10:09:38 AM snmcseq_gene 6-3-1 Total time used: 1.0720601081848145\n"
     ]
    },
    {
     "name": "stdout",
     "output_type": "stream",
     "text": [
      "snmcseq_gene Saving to files 0.879697322845459\n",
      "snmcseq_gene 6-3-2\n"
     ]
    },
    {
     "name": "stderr",
     "output_type": "stream",
     "text": [
      "09/24/2019 10:09:38 AM (16700, 24)\n",
      "09/24/2019 10:09:38 AM snmcseq_gene 6-3-2 Total time used: 0.5655050277709961\n"
     ]
    },
    {
     "name": "stdout",
     "output_type": "stream",
     "text": [
      "snmcseq_gene Saving to files 0.39011096954345703\n",
      "snmcseq_gene 6-3-3\n"
     ]
    },
    {
     "name": "stderr",
     "output_type": "stream",
     "text": [
      "09/24/2019 10:09:39 AM (13816, 45)\n"
     ]
    },
    {
     "name": "stdout",
     "output_type": "stream",
     "text": [
      "snmcseq_gene Saving to files 0.6100683212280273\n"
     ]
    },
    {
     "name": "stderr",
     "output_type": "stream",
     "text": [
      "09/24/2019 10:09:39 AM snmcseq_gene 6-3-3 Total time used: 0.8989748954772949\n"
     ]
    },
    {
     "name": "stdout",
     "output_type": "stream",
     "text": [
      "snmcseq_gene 6-4-1\n"
     ]
    },
    {
     "name": "stderr",
     "output_type": "stream",
     "text": [
      "09/24/2019 10:09:40 AM (16252, 56)\n"
     ]
    },
    {
     "name": "stdout",
     "output_type": "stream",
     "text": [
      "snmcseq_gene Saving to files 0.5687851905822754\n"
     ]
    },
    {
     "name": "stderr",
     "output_type": "stream",
     "text": [
      "09/24/2019 10:09:40 AM snmcseq_gene 6-4-1 Total time used: 0.9602439403533936\n"
     ]
    },
    {
     "name": "stdout",
     "output_type": "stream",
     "text": [
      "snmcseq_gene 6-4-2\n"
     ]
    },
    {
     "name": "stderr",
     "output_type": "stream",
     "text": [
      "09/24/2019 10:09:41 AM (14038, 49)\n"
     ]
    },
    {
     "name": "stdout",
     "output_type": "stream",
     "text": [
      "snmcseq_gene Saving to files 0.5076234340667725\n"
     ]
    },
    {
     "name": "stderr",
     "output_type": "stream",
     "text": [
      "09/24/2019 10:09:41 AM snmcseq_gene 6-4-2 Total time used: 0.8058514595031738\n"
     ]
    },
    {
     "name": "stdout",
     "output_type": "stream",
     "text": [
      "snmcseq_gene 6-5-1\n"
     ]
    },
    {
     "name": "stderr",
     "output_type": "stream",
     "text": [
      "09/24/2019 10:09:41 AM (18083, 26)\n"
     ]
    },
    {
     "name": "stdout",
     "output_type": "stream",
     "text": [
      "snmcseq_gene Saving to files 0.41237783432006836\n"
     ]
    },
    {
     "name": "stderr",
     "output_type": "stream",
     "text": [
      "09/24/2019 10:09:42 AM snmcseq_gene 6-5-1 Total time used: 0.7135806083679199\n",
      "09/24/2019 10:09:42 AM (15407, 20)\n"
     ]
    },
    {
     "name": "stdout",
     "output_type": "stream",
     "text": [
      "snmcseq_gene 6-5-2\n"
     ]
    },
    {
     "name": "stderr",
     "output_type": "stream",
     "text": [
      "09/24/2019 10:09:42 AM snmcseq_gene 6-5-2 Total time used: 0.5202436447143555\n"
     ]
    },
    {
     "name": "stdout",
     "output_type": "stream",
     "text": [
      "snmcseq_gene Saving to files 0.3796823024749756\n",
      "snmcseq_gene 6-5-3\n"
     ]
    },
    {
     "name": "stderr",
     "output_type": "stream",
     "text": [
      "09/24/2019 10:09:43 AM (17545, 23)\n",
      "09/24/2019 10:09:43 AM snmcseq_gene 6-5-3 Total time used: 0.5780243873596191\n"
     ]
    },
    {
     "name": "stdout",
     "output_type": "stream",
     "text": [
      "snmcseq_gene Saving to files 0.3988056182861328\n",
      "snmcseq_gene 6-6-1\n"
     ]
    },
    {
     "name": "stderr",
     "output_type": "stream",
     "text": [
      "09/24/2019 10:09:43 AM (8639, 8)\n",
      "09/24/2019 10:09:43 AM snmcseq_gene 6-6-1 Total time used: 0.3195924758911133\n"
     ]
    },
    {
     "name": "stdout",
     "output_type": "stream",
     "text": [
      "snmcseq_gene Saving to files 0.2843048572540283\n",
      "snmcseq_gene 7-1-1\n"
     ]
    },
    {
     "name": "stderr",
     "output_type": "stream",
     "text": [
      "09/24/2019 10:09:44 AM (12724, 77)\n"
     ]
    },
    {
     "name": "stdout",
     "output_type": "stream",
     "text": [
      "snmcseq_gene Saving to files 0.6088051795959473\n"
     ]
    },
    {
     "name": "stderr",
     "output_type": "stream",
     "text": [
      "09/24/2019 10:09:44 AM snmcseq_gene 7-1-1 Total time used: 1.116703987121582\n"
     ]
    },
    {
     "name": "stdout",
     "output_type": "stream",
     "text": [
      "snmcseq_gene 7-1-2\n"
     ]
    },
    {
     "name": "stderr",
     "output_type": "stream",
     "text": [
      "09/24/2019 10:09:45 AM (16383, 106)\n"
     ]
    },
    {
     "name": "stdout",
     "output_type": "stream",
     "text": [
      "snmcseq_gene Saving to files 0.8959290981292725\n"
     ]
    },
    {
     "name": "stderr",
     "output_type": "stream",
     "text": [
      "09/24/2019 10:09:46 AM snmcseq_gene 7-1-2 Total time used: 1.804964303970337\n"
     ]
    },
    {
     "name": "stdout",
     "output_type": "stream",
     "text": [
      "snmcseq_gene 7-2-1\n"
     ]
    },
    {
     "name": "stderr",
     "output_type": "stream",
     "text": [
      "09/24/2019 10:09:46 AM (15969, 39)\n"
     ]
    },
    {
     "name": "stdout",
     "output_type": "stream",
     "text": [
      "snmcseq_gene Saving to files 0.49745821952819824\n"
     ]
    },
    {
     "name": "stderr",
     "output_type": "stream",
     "text": [
      "09/24/2019 10:09:47 AM snmcseq_gene 7-2-1 Total time used: 0.7823288440704346\n"
     ]
    },
    {
     "name": "stdout",
     "output_type": "stream",
     "text": [
      "snmcseq_gene 7-2-2\n"
     ]
    },
    {
     "name": "stderr",
     "output_type": "stream",
     "text": [
      "09/24/2019 10:09:47 AM (10656, 49)\n"
     ]
    },
    {
     "name": "stdout",
     "output_type": "stream",
     "text": [
      "snmcseq_gene Saving to files 0.47948551177978516\n"
     ]
    },
    {
     "name": "stderr",
     "output_type": "stream",
     "text": [
      "09/24/2019 10:09:48 AM snmcseq_gene 7-2-2 Total time used: 0.7110564708709717\n"
     ]
    },
    {
     "name": "stdout",
     "output_type": "stream",
     "text": [
      "snmcseq_gene 8-1-1\n"
     ]
    },
    {
     "name": "stderr",
     "output_type": "stream",
     "text": [
      "09/24/2019 10:09:48 AM (13251, 37)\n"
     ]
    },
    {
     "name": "stdout",
     "output_type": "stream",
     "text": [
      "snmcseq_gene Saving to files 0.4724912643432617\n"
     ]
    },
    {
     "name": "stderr",
     "output_type": "stream",
     "text": [
      "09/24/2019 10:09:48 AM snmcseq_gene 8-1-1 Total time used: 0.7186934947967529\n",
      "09/24/2019 10:09:49 AM (14169, 11)\n"
     ]
    },
    {
     "name": "stdout",
     "output_type": "stream",
     "text": [
      "snmcseq_gene 8-1-2\n"
     ]
    },
    {
     "name": "stderr",
     "output_type": "stream",
     "text": [
      "09/24/2019 10:09:49 AM snmcseq_gene 8-1-2 Total time used: 0.4574449062347412\n"
     ]
    },
    {
     "name": "stdout",
     "output_type": "stream",
     "text": [
      "snmcseq_gene Saving to files 0.31800270080566406\n",
      "snmcseq_gene 8-2-1\n"
     ]
    },
    {
     "name": "stderr",
     "output_type": "stream",
     "text": [
      "09/24/2019 10:09:49 AM (14746, 55)\n"
     ]
    },
    {
     "name": "stdout",
     "output_type": "stream",
     "text": [
      "snmcseq_gene Saving to files 0.5441882610321045\n"
     ]
    },
    {
     "name": "stderr",
     "output_type": "stream",
     "text": [
      "09/24/2019 10:09:50 AM snmcseq_gene 8-2-1 Total time used: 0.9016149044036865\n",
      "09/24/2019 10:09:50 AM (19555, 5)\n"
     ]
    },
    {
     "name": "stdout",
     "output_type": "stream",
     "text": [
      "snmcseq_gene 8-3-1\n"
     ]
    },
    {
     "name": "stderr",
     "output_type": "stream",
     "text": [
      "09/24/2019 10:09:50 AM snmcseq_gene 8-3-1 Total time used: 0.37258362770080566\n"
     ]
    },
    {
     "name": "stdout",
     "output_type": "stream",
     "text": [
      "snmcseq_gene Saving to files 0.3236236572265625\n",
      "snmcseq_gene 9-1-1\n"
     ]
    },
    {
     "name": "stderr",
     "output_type": "stream",
     "text": [
      "09/24/2019 10:09:50 AM (18237, 45)\n"
     ]
    },
    {
     "name": "stdout",
     "output_type": "stream",
     "text": [
      "snmcseq_gene Saving to files 0.5169272422790527\n"
     ]
    },
    {
     "name": "stderr",
     "output_type": "stream",
     "text": [
      "09/24/2019 10:09:51 AM snmcseq_gene 9-1-1 Total time used: 0.8718924522399902\n"
     ]
    },
    {
     "name": "stdout",
     "output_type": "stream",
     "text": [
      "snmcseq_gene 9-2-1\n"
     ]
    },
    {
     "name": "stderr",
     "output_type": "stream",
     "text": [
      "09/24/2019 10:09:51 AM (16542, 37)\n"
     ]
    },
    {
     "name": "stdout",
     "output_type": "stream",
     "text": [
      "snmcseq_gene Saving to files 0.46284055709838867\n"
     ]
    },
    {
     "name": "stderr",
     "output_type": "stream",
     "text": [
      "09/24/2019 10:09:52 AM snmcseq_gene 9-2-1 Total time used: 0.7356479167938232\n",
      "09/24/2019 10:09:52 AM (17699, 15)\n"
     ]
    },
    {
     "name": "stdout",
     "output_type": "stream",
     "text": [
      "snmcseq_gene 9-2-2\n"
     ]
    },
    {
     "name": "stderr",
     "output_type": "stream",
     "text": [
      "09/24/2019 10:09:52 AM snmcseq_gene 9-2-2 Total time used: 0.4772510528564453\n"
     ]
    },
    {
     "name": "stdout",
     "output_type": "stream",
     "text": [
      "snmcseq_gene Saving to files 0.35721898078918457\n"
     ]
    }
   ],
   "source": [
    "# dataset and config\n",
    "if not os.path.isdir(DST_ROOT_DIR):\n",
    "    os.makedirs(DST_ROOT_DIR)\n",
    "\n",
    "logging.info(\"Prep data...\")\n",
    "        \n",
    "for (mod, clst), df_sub in df_info.groupby(['modality', previous_round_cluster_col]):\n",
    "    if mod in mods_selected:\n",
    "        print(mod, clst)\n",
    "        ti = time.time()\n",
    "        normalization_option = normalization_options[mod]\n",
    "\n",
    "        _cells = df_sub.index.values\n",
    "        dst_dir = os.path.join(DST_ROOT_DIR, \"sub\"+str(clst)) # directory name\n",
    "        if not os.path.isdir(dst_dir):\n",
    "            os.makedirs(dst_dir)\n",
    "            src = os.path.join(DATA_DIR, '__init__datasets.py') \n",
    "            dst = os.path.join(dst_dir, '__init__datasets.py') \n",
    "            shutil.copyfile(src, dst)\n",
    "        with open(os.path.join(dst_dir, 'datasets.txt'), 'a') as file:\n",
    "            file.write(\"{}\\n\".format(mod))\n",
    "\n",
    "        # meta and save meta\n",
    "        meta_f_dst = meta_f.format(dst_dir, mod)\n",
    "        meta = metas[mod].loc[_cells]\n",
    "        meta.to_csv(meta_f_dst, sep=\"\\t\", header=True, index=True)\n",
    "\n",
    "        if settings[mod].mod_category == 'mc':\n",
    "            # split raw data\n",
    "            _cell_idx = snmcseq_utils.get_index_from_array(gxc_raws[mod].cell, _cells)\n",
    "            gxc_raw = GC_matrix(\n",
    "                gxc_raws[mod].gene,\n",
    "                gxc_raws[mod].cell[_cell_idx],\n",
    "                {'mc': gxc_raws[mod].data['mc'].tocsc()[:, _cell_idx],\n",
    "                 'c': gxc_raws[mod].data['c'].tocsc()[:, _cell_idx],\n",
    "                },\n",
    "            )\n",
    "            # check meta cells agree with gxc cells\n",
    "            assert np.all(meta.index.values == gxc_raw.cell)\n",
    "            # check genes are uniq \n",
    "            assert len(gxc_raw.gene) == len(np.unique(gxc_raw.gene)) \n",
    "            \n",
    "            # get hvftrs\n",
    "            gxc_hvftr = CEMBA_preproc_utils.preproc_methylation(gxc_raw, meta,\n",
    "                                                                global_value_col=settings[mod].global_mean, \n",
    "                                                                base_call_cutoff=20, \n",
    "                                                                sufficient_coverage_fraction=0.95,\n",
    "                                                                hv_percentile=30,\n",
    "                                                                n_qcut=10,\n",
    "                                                               )\n",
    "\n",
    "            # save data\n",
    "            print(mod, \"Saving to files {}\".format(time.time()-ti))\n",
    "            f_data = hvftr_f.format(dst_dir, mod, 'tsv') \n",
    "            gxc_hvftr.to_csv(f_data, sep=\"\\t\", index=True, header=True)\n",
    "            logging.info(\"{} {} Total time used: {}\".format(mod, clst, time.time()-ti))\n",
    "            \n",
    "        else:\n",
    "            # split raw data\n",
    "            _cell_idx = snmcseq_utils.get_index_from_array(gxc_raws[mod].cell, _cells)\n",
    "            gxc_raw = GC_matrix(\n",
    "                gxc_raws[mod].gene,\n",
    "                gxc_raws[mod].cell[_cell_idx],\n",
    "                gxc_raws[mod].data.tocsc()[:, _cell_idx],\n",
    "            )\n",
    "            # check meta cells agree with gxc cells\n",
    "            assert np.all(meta.index.values == gxc_raw.cell)\n",
    "            # check genes are uniq \n",
    "            assert len(gxc_raw.gene) == len(np.unique(gxc_raw.gene)) \n",
    "\n",
    "            # get hvftrs\n",
    "            print(mod, \"Preproc and get highly variable genes {}\".format(time.time()-ti))\n",
    "            if normalization_option == 'CPM':\n",
    "                gxc_hvftr = CEMBA_preproc_utils.preproc_rna_cpm_based(\n",
    "                                                 gxc_raw, \n",
    "                                                 sufficient_cell_coverage=0.01, \n",
    "                                                 hv_percentile=30, hv_ncut=10)\n",
    "            elif normalization_option == 'TPM':\n",
    "                gene_lengths = gene_lengths_base.reindex(gxc_raw.gene)\n",
    "                gxc_hvftr = CEMBA_preproc_utils.preproc_rna_tpm_based(\n",
    "                                                 gxc_raw, gene_lengths, impute_gene_lengths=True, \n",
    "                                                 sufficient_cell_coverage=0.01, \n",
    "                                                 hv_percentile=30, hv_ncut=10)\n",
    "                \n",
    "            # save data\n",
    "            print(mod, \"Saving to files {}\".format(time.time()-ti))\n",
    "            f_gene = hvftr_f.format(dst_dir, mod, 'gene') \n",
    "            f_cell = hvftr_f.format(dst_dir, mod, 'cell') \n",
    "            f_data = hvftr_f.format(dst_dir, mod, 'npz') \n",
    "            snmcseq_utils.save_gc_matrix(gxc_hvftr, f_gene, f_cell, f_data)\n",
    "            logging.info(\"{} {} Total time used: {}\".format(mod, clst, time.time()-ti))\n",
    "\n",
    "    \n",
    "    "
   ]
  },
  {
   "cell_type": "code",
   "execution_count": null,
   "metadata": {},
   "outputs": [],
   "source": []
  }
 ],
 "metadata": {
  "kernelspec": {
   "display_name": "Python 3",
   "language": "python",
   "name": "python3"
  },
  "language_info": {
   "codemirror_mode": {
    "name": "ipython",
    "version": 3
   },
   "file_extension": ".py",
   "mimetype": "text/x-python",
   "name": "python",
   "nbconvert_exporter": "python",
   "pygments_lexer": "ipython3",
   "version": "3.6.6"
  }
 },
 "nbformat": 4,
 "nbformat_minor": 2
}
