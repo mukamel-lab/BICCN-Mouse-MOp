{
 "cells": [
  {
   "cell_type": "code",
   "execution_count": 1,
   "metadata": {},
   "outputs": [],
   "source": [
    "import sys\n",
    "sys.path.insert(0, '/cndd/fangming/CEMBA/snmcseq_dev')\n",
    "from __init__ import *\n",
    "from __init__jupyterlab import *\n",
    "\n",
    "import fbpca\n",
    "\n",
    "import snmcseq_utils"
   ]
  },
  {
   "cell_type": "code",
   "execution_count": 2,
   "metadata": {},
   "outputs": [],
   "source": [
    "output_figures = '/cndd2/fangming/projects/miniatlas/results/figures/{}.pdf'"
   ]
  },
  {
   "cell_type": "code",
   "execution_count": 3,
   "metadata": {},
   "outputs": [],
   "source": [
    "f = '/cndd/fangming/CEMBA/data/MOp_all/data_freeze_neurons/10x_cells_v2_hvfeatures.gene'\n",
    "hvgenes_1 = snmcseq_utils.import_single_textcol(f)\n",
    "f = '/cndd/fangming/CEMBA/data/MOp_all/data_freeze_neurons/snmcseq_gene_hvfeatures.gene'\n",
    "hvgenes_2 = snmcseq_utils.import_single_textcol(f)\n",
    "f = '/cndd/fangming/CEMBA/data/MOp_all/data_freeze_neurons/snatac_gene_hvfeatures.gene'\n",
    "hvgenes_3 = snmcseq_utils.import_single_textcol(f)"
   ]
  },
  {
   "cell_type": "code",
   "execution_count": 4,
   "metadata": {},
   "outputs": [
    {
     "name": "stdout",
     "output_type": "stream",
     "text": [
      "(31053, 29)\n",
      "(55487, 29)\n",
      "(53278, 29)\n"
     ]
    },
    {
     "data": {
      "text/html": [
       "<div>\n",
       "<style scoped>\n",
       "    .dataframe tbody tr th:only-of-type {\n",
       "        vertical-align: middle;\n",
       "    }\n",
       "\n",
       "    .dataframe tbody tr th {\n",
       "        vertical-align: top;\n",
       "    }\n",
       "\n",
       "    .dataframe thead th {\n",
       "        text-align: right;\n",
       "    }\n",
       "</style>\n",
       "<table border=\"1\" class=\"dataframe\">\n",
       "  <thead>\n",
       "    <tr style=\"text-align: right;\">\n",
       "      <th></th>\n",
       "      <th>1-1</th>\n",
       "      <th>1-2</th>\n",
       "      <th>10-1</th>\n",
       "      <th>2-1</th>\n",
       "      <th>2-2</th>\n",
       "      <th>2-3</th>\n",
       "      <th>3-1</th>\n",
       "      <th>3-2</th>\n",
       "      <th>3-3</th>\n",
       "      <th>4-1</th>\n",
       "      <th>...</th>\n",
       "      <th>6-4</th>\n",
       "      <th>6-5</th>\n",
       "      <th>6-6</th>\n",
       "      <th>7-1</th>\n",
       "      <th>7-2</th>\n",
       "      <th>8-1</th>\n",
       "      <th>8-2</th>\n",
       "      <th>8-3</th>\n",
       "      <th>9-1</th>\n",
       "      <th>9-2</th>\n",
       "    </tr>\n",
       "  </thead>\n",
       "  <tbody>\n",
       "    <tr>\n",
       "      <th>ENSMUSG00000037552</th>\n",
       "      <td>0.912903</td>\n",
       "      <td>0.864787</td>\n",
       "      <td>NaN</td>\n",
       "      <td>0.914783</td>\n",
       "      <td>0.955093</td>\n",
       "      <td>0.811813</td>\n",
       "      <td>0.926794</td>\n",
       "      <td>0.917033</td>\n",
       "      <td>0.628809</td>\n",
       "      <td>0.974078</td>\n",
       "      <td>...</td>\n",
       "      <td>0.989737</td>\n",
       "      <td>0.994264</td>\n",
       "      <td>0.0</td>\n",
       "      <td>1.096301</td>\n",
       "      <td>0.915569</td>\n",
       "      <td>0.000000</td>\n",
       "      <td>1.139388</td>\n",
       "      <td>0.000000</td>\n",
       "      <td>0.873330</td>\n",
       "      <td>1.285098</td>\n",
       "    </tr>\n",
       "    <tr>\n",
       "      <th>ENSMUSG00000052609</th>\n",
       "      <td>0.670633</td>\n",
       "      <td>0.753236</td>\n",
       "      <td>NaN</td>\n",
       "      <td>0.491562</td>\n",
       "      <td>0.458935</td>\n",
       "      <td>0.610528</td>\n",
       "      <td>0.691551</td>\n",
       "      <td>0.689675</td>\n",
       "      <td>0.697131</td>\n",
       "      <td>0.815538</td>\n",
       "      <td>...</td>\n",
       "      <td>0.741918</td>\n",
       "      <td>0.710208</td>\n",
       "      <td>0.0</td>\n",
       "      <td>0.477946</td>\n",
       "      <td>0.471370</td>\n",
       "      <td>0.785063</td>\n",
       "      <td>0.325630</td>\n",
       "      <td>1.324593</td>\n",
       "      <td>0.595691</td>\n",
       "      <td>1.024442</td>\n",
       "    </tr>\n",
       "    <tr>\n",
       "      <th>ENSMUSG00000040624</th>\n",
       "      <td>0.640218</td>\n",
       "      <td>0.652852</td>\n",
       "      <td>NaN</td>\n",
       "      <td>0.418455</td>\n",
       "      <td>0.389766</td>\n",
       "      <td>0.444524</td>\n",
       "      <td>0.538059</td>\n",
       "      <td>0.555352</td>\n",
       "      <td>0.529042</td>\n",
       "      <td>0.537717</td>\n",
       "      <td>...</td>\n",
       "      <td>0.677314</td>\n",
       "      <td>0.697065</td>\n",
       "      <td>0.0</td>\n",
       "      <td>0.408510</td>\n",
       "      <td>0.524046</td>\n",
       "      <td>0.556159</td>\n",
       "      <td>0.690580</td>\n",
       "      <td>0.000000</td>\n",
       "      <td>0.451891</td>\n",
       "      <td>0.490444</td>\n",
       "    </tr>\n",
       "    <tr>\n",
       "      <th>ENSMUSG00000111491</th>\n",
       "      <td>0.854395</td>\n",
       "      <td>0.968024</td>\n",
       "      <td>NaN</td>\n",
       "      <td>0.736596</td>\n",
       "      <td>0.819325</td>\n",
       "      <td>0.913161</td>\n",
       "      <td>1.057763</td>\n",
       "      <td>0.990071</td>\n",
       "      <td>1.208599</td>\n",
       "      <td>0.976783</td>\n",
       "      <td>...</td>\n",
       "      <td>0.995465</td>\n",
       "      <td>0.554286</td>\n",
       "      <td>0.0</td>\n",
       "      <td>0.861608</td>\n",
       "      <td>0.746407</td>\n",
       "      <td>1.255194</td>\n",
       "      <td>0.000000</td>\n",
       "      <td>0.000000</td>\n",
       "      <td>1.020306</td>\n",
       "      <td>0.000000</td>\n",
       "    </tr>\n",
       "    <tr>\n",
       "      <th>ENSMUSG00000014782</th>\n",
       "      <td>0.741589</td>\n",
       "      <td>0.836866</td>\n",
       "      <td>NaN</td>\n",
       "      <td>0.483755</td>\n",
       "      <td>0.520455</td>\n",
       "      <td>0.456065</td>\n",
       "      <td>0.631710</td>\n",
       "      <td>0.685222</td>\n",
       "      <td>0.733232</td>\n",
       "      <td>0.687490</td>\n",
       "      <td>...</td>\n",
       "      <td>0.853236</td>\n",
       "      <td>1.042057</td>\n",
       "      <td>0.0</td>\n",
       "      <td>1.003384</td>\n",
       "      <td>0.870577</td>\n",
       "      <td>0.000000</td>\n",
       "      <td>0.000000</td>\n",
       "      <td>0.000000</td>\n",
       "      <td>0.856733</td>\n",
       "      <td>0.000000</td>\n",
       "    </tr>\n",
       "  </tbody>\n",
       "</table>\n",
       "<p>5 rows × 29 columns</p>\n",
       "</div>"
      ],
      "text/plain": [
       "                         1-1       1-2  10-1       2-1       2-2       2-3  \\\n",
       "ENSMUSG00000037552  0.912903  0.864787   NaN  0.914783  0.955093  0.811813   \n",
       "ENSMUSG00000052609  0.670633  0.753236   NaN  0.491562  0.458935  0.610528   \n",
       "ENSMUSG00000040624  0.640218  0.652852   NaN  0.418455  0.389766  0.444524   \n",
       "ENSMUSG00000111491  0.854395  0.968024   NaN  0.736596  0.819325  0.913161   \n",
       "ENSMUSG00000014782  0.741589  0.836866   NaN  0.483755  0.520455  0.456065   \n",
       "\n",
       "                         3-1       3-2       3-3       4-1  ...       6-4  \\\n",
       "ENSMUSG00000037552  0.926794  0.917033  0.628809  0.974078  ...  0.989737   \n",
       "ENSMUSG00000052609  0.691551  0.689675  0.697131  0.815538  ...  0.741918   \n",
       "ENSMUSG00000040624  0.538059  0.555352  0.529042  0.537717  ...  0.677314   \n",
       "ENSMUSG00000111491  1.057763  0.990071  1.208599  0.976783  ...  0.995465   \n",
       "ENSMUSG00000014782  0.631710  0.685222  0.733232  0.687490  ...  0.853236   \n",
       "\n",
       "                         6-5  6-6       7-1       7-2       8-1       8-2  \\\n",
       "ENSMUSG00000037552  0.994264  0.0  1.096301  0.915569  0.000000  1.139388   \n",
       "ENSMUSG00000052609  0.710208  0.0  0.477946  0.471370  0.785063  0.325630   \n",
       "ENSMUSG00000040624  0.697065  0.0  0.408510  0.524046  0.556159  0.690580   \n",
       "ENSMUSG00000111491  0.554286  0.0  0.861608  0.746407  1.255194  0.000000   \n",
       "ENSMUSG00000014782  1.042057  0.0  1.003384  0.870577  0.000000  0.000000   \n",
       "\n",
       "                         8-3       9-1       9-2  \n",
       "ENSMUSG00000037552  0.000000  0.873330  1.285098  \n",
       "ENSMUSG00000052609  1.324593  0.595691  1.024442  \n",
       "ENSMUSG00000040624  0.000000  0.451891  0.490444  \n",
       "ENSMUSG00000111491  0.000000  1.020306  0.000000  \n",
       "ENSMUSG00000014782  0.000000  0.856733  0.000000  \n",
       "\n",
       "[5 rows x 29 columns]"
      ]
     },
     "execution_count": 4,
     "metadata": {},
     "output_type": "execute_result"
    }
   ],
   "source": [
    "data_dir = '/cndd2/fangming/miniatlas/cluster_level'\n",
    "f1 = os.path.join(data_dir, 'gene_features_10x_cells_v2_round2.tsv')\n",
    "df1 = pd.read_csv(f1, sep='\\t', index_col=0)\n",
    "print(df1.shape)\n",
    "df1.head()\n",
    "\n",
    "f2 = os.path.join(data_dir, 'gene_features_mch_round2.tsv')\n",
    "df2 = pd.read_csv(f2, sep='\\t', index_col=0)\n",
    "print(df2.shape)\n",
    "df2.head()\n",
    "\n",
    "f3 = os.path.join(data_dir, 'gene_features_snatac_gene_round2.tsv')\n",
    "df3 = pd.read_csv(f3, sep='\\t', index_col=0)\n",
    "print(df3.shape)\n",
    "df3.head()"
   ]
  },
  {
   "cell_type": "code",
   "execution_count": 5,
   "metadata": {},
   "outputs": [
    {
     "name": "stdout",
     "output_type": "stream",
     "text": [
      "(31053, 29) (55487, 29) (53278, 29)\n"
     ]
    }
   ],
   "source": [
    "# df1 = df1.reindex(hvgenes_1)\n",
    "# df2 = df2.reindex(hvgenes_2)\n",
    "# df3 = df3.reindex(hvgenes_3)\n",
    "print(df1.shape, df2.shape, df3.shape)"
   ]
  },
  {
   "cell_type": "code",
   "execution_count": 6,
   "metadata": {},
   "outputs": [
    {
     "name": "stdout",
     "output_type": "stream",
     "text": [
      "(29, 3)\n"
     ]
    },
    {
     "data": {
      "text/plain": [
       "cluster\n",
       "1-1          L4/5 IT (1)\n",
       "1-2        L4/5 IT (2-3)\n",
       "2-1           L6 CT Cpa6\n",
       "2-2    L6 CT Cpa6_Gpr139\n",
       "2-3          L6 CT Nxph2\n",
       "Name: annot, dtype: object"
      ]
     },
     "execution_count": 6,
     "metadata": {},
     "output_type": "execute_result"
    }
   ],
   "source": [
    "f = '/cndd/fangming/CEMBA/data/MOp_all/results_final/cluster_annotation_scf_round2.tsv'\n",
    "df_annot = pd.read_csv(f, sep='\\t')\n",
    "print(df_annot.shape)\n",
    "df_annot = df_annot.set_index('cluster')['annot']\n",
    "df_annot.head()"
   ]
  },
  {
   "cell_type": "code",
   "execution_count": 7,
   "metadata": {},
   "outputs": [],
   "source": [
    "# remove NAs, simple way\n",
    "dfs = [df1, df2, df3]\n",
    "clusters = df1.columns.values\n",
    "assert np.all(clusters==df2.columns.values)\n",
    "assert np.all(clusters==df3.columns.values)\n",
    "\n",
    "for i in range(3):\n",
    "    x = dfs[i].T\n",
    "    x = x.fillna(x.mean())\n",
    "    dfs[i] = x.T.dropna()\n",
    "    "
   ]
  },
  {
   "cell_type": "code",
   "execution_count": 8,
   "metadata": {},
   "outputs": [
    {
     "data": {
      "text/plain": [
       "Series([], Name: annot, dtype: object)"
      ]
     },
     "execution_count": 8,
     "metadata": {},
     "output_type": "execute_result"
    }
   ],
   "source": [
    "specs2 = clusters[(~df2.isnull()).sum() == 0]\n",
    "df_annot.reindex(specs2)"
   ]
  },
  {
   "cell_type": "code",
   "execution_count": 9,
   "metadata": {},
   "outputs": [
    {
     "data": {
      "text/plain": [
       "cluster\n",
       "10-1    Sst Chodl\n",
       "Name: annot, dtype: object"
      ]
     },
     "execution_count": 9,
     "metadata": {},
     "output_type": "execute_result"
    }
   ],
   "source": [
    "specs3 = clusters[(~df3.isnull()).sum() == 0]\n",
    "df_annot.reindex(specs3)"
   ]
  },
  {
   "cell_type": "code",
   "execution_count": 11,
   "metadata": {},
   "outputs": [],
   "source": [
    "# compute PCs\n",
    "# compute tree\n",
    "from scipy.cluster import hierarchy as sch\n",
    "\n",
    "pcs = ['']*3\n",
    "zs = ['']*3\n",
    "\n",
    "for i, df in enumerate(dfs):\n",
    "    U, s, Vt = fbpca.pca(df.values.T, k=10)\n",
    "    pc = U.dot(np.diag(s))\n",
    "    z = sch.linkage(pc, method='ward')\n",
    "    pcs[i] = pc\n",
    "    zs[i] = z"
   ]
  },
  {
   "cell_type": "code",
   "execution_count": 12,
   "metadata": {},
   "outputs": [],
   "source": [
    "def labels_from_dendro(g):\n",
    "    return clusters[g['leaves']] + '_' + df_annot.reindex(clusters[g['leaves']]).values\n",
    "\n",
    "def labels_from_dendro2(g):\n",
    "    return df_annot.reindex(clusters[g['leaves']]).values"
   ]
  },
  {
   "cell_type": "code",
   "execution_count": 15,
   "metadata": {},
   "outputs": [
    {
     "data": {
      "image/png": "[encoded data removed]",
      "text/plain": [
       "<Figure size 576x864 with 3 Axes>"
      ]
     },
     "metadata": {},
     "output_type": "display_data"
    }
   ],
   "source": [
    "fig, axs = plt.subplots(3, 1, figsize=(1*8, 3*4))\n",
    "titles = ['RNA 10x cells V2', 'DNA methylation (gene body mCH)', 'Open chromatin (gene body)']\n",
    "for ax, z, title in zip(axs, zs, titles):\n",
    "    g = sch.dendrogram(z, ax=ax)\n",
    "    ax.grid(False)\n",
    "    ax.set_xticklabels(labels_from_dendro2(g), fontsize=12, rotation=90)\n",
    "    ax.set_title(title)\n",
    "    ax.set_ylabel('Ward dist.')\n",
    "    sns.despine(ax=ax, bottom=True)\n",
    "#     break\n",
    "fig.tight_layout()\n",
    "snmcseq_utils.savefig(fig, output_figures.format('dendrogram_mockup_L1'))\n",
    "# plt.show()"
   ]
  },
  {
   "cell_type": "code",
   "execution_count": 16,
   "metadata": {},
   "outputs": [
    {
     "name": "stderr",
     "output_type": "stream",
     "text": [
      "/cndd/fangming/venvs/conda_dobro/lib/python3.6/site-packages/IPython/core/interactiveshell.py:2728: DtypeWarning: Columns (5) have mixed types. Specify dtype option on import or set low_memory=False.\n",
      "  interactivity=interactivity, compiler=compiler, result=result)\n"
     ]
    },
    {
     "name": "stdout",
     "output_type": "stream",
     "text": [
      "(408885, 11)\n"
     ]
    },
    {
     "data": {
      "text/html": [
       "<div>\n",
       "<style scoped>\n",
       "    .dataframe tbody tr th:only-of-type {\n",
       "        vertical-align: middle;\n",
       "    }\n",
       "\n",
       "    .dataframe tbody tr th {\n",
       "        vertical-align: top;\n",
       "    }\n",
       "\n",
       "    .dataframe thead th {\n",
       "        text-align: right;\n",
       "    }\n",
       "</style>\n",
       "<table border=\"1\" class=\"dataframe\">\n",
       "  <thead>\n",
       "    <tr style=\"text-align: right;\">\n",
       "      <th></th>\n",
       "      <th>sample</th>\n",
       "      <th>joint_embedding_x</th>\n",
       "      <th>joint_embedding_y</th>\n",
       "      <th>modality</th>\n",
       "      <th>modality_name</th>\n",
       "      <th>single_modality_cluster</th>\n",
       "      <th>single_modality_annot</th>\n",
       "      <th>joint_cluster_round1</th>\n",
       "      <th>joint_cluster_round2</th>\n",
       "      <th>joint_cluster_round3</th>\n",
       "      <th>joint_cluster_round4</th>\n",
       "    </tr>\n",
       "  </thead>\n",
       "  <tbody>\n",
       "    <tr>\n",
       "      <th>0</th>\n",
       "      <td>snmcseq_gene_2C_M_0</td>\n",
       "      <td>0.471629</td>\n",
       "      <td>-3.134735</td>\n",
       "      <td>snmcseq_gene</td>\n",
       "      <td>DNA methylation</td>\n",
       "      <td>L4-IT-Rorb_Rorb-Tenm2</td>\n",
       "      <td>L4-IT-Rorb_Rorb-Tenm2</td>\n",
       "      <td>1</td>\n",
       "      <td>1-1</td>\n",
       "      <td>1-1-1</td>\n",
       "      <td>1-1-1-1</td>\n",
       "    </tr>\n",
       "    <tr>\n",
       "      <th>1</th>\n",
       "      <td>snmcseq_gene_2C_M_1</td>\n",
       "      <td>-2.414973</td>\n",
       "      <td>-12.098081</td>\n",
       "      <td>snmcseq_gene</td>\n",
       "      <td>DNA methylation</td>\n",
       "      <td>L23-IT-Cux2</td>\n",
       "      <td>L23-IT-Cux2</td>\n",
       "      <td>4</td>\n",
       "      <td>4-2</td>\n",
       "      <td>4-2-1</td>\n",
       "      <td>4-2-1-1</td>\n",
       "    </tr>\n",
       "    <tr>\n",
       "      <th>2</th>\n",
       "      <td>snmcseq_gene_2C_M_100</td>\n",
       "      <td>-1.446751</td>\n",
       "      <td>-12.051894</td>\n",
       "      <td>snmcseq_gene</td>\n",
       "      <td>DNA methylation</td>\n",
       "      <td>L23-IT-Cux2</td>\n",
       "      <td>L23-IT-Cux2</td>\n",
       "      <td>4</td>\n",
       "      <td>4-1</td>\n",
       "      <td>4-1-1</td>\n",
       "      <td>4-1-1-1</td>\n",
       "    </tr>\n",
       "    <tr>\n",
       "      <th>3</th>\n",
       "      <td>snmcseq_gene_2C_M_1000</td>\n",
       "      <td>-1.901734</td>\n",
       "      <td>-13.660591</td>\n",
       "      <td>snmcseq_gene</td>\n",
       "      <td>DNA methylation</td>\n",
       "      <td>L23-IT-Cux2</td>\n",
       "      <td>L23-IT-Cux2</td>\n",
       "      <td>4</td>\n",
       "      <td>4-2</td>\n",
       "      <td>4-2-1</td>\n",
       "      <td>4-2-1-1</td>\n",
       "    </tr>\n",
       "    <tr>\n",
       "      <th>4</th>\n",
       "      <td>snmcseq_gene_2C_M_1001</td>\n",
       "      <td>-0.981086</td>\n",
       "      <td>-11.936621</td>\n",
       "      <td>snmcseq_gene</td>\n",
       "      <td>DNA methylation</td>\n",
       "      <td>L23-IT-Cux2</td>\n",
       "      <td>L23-IT-Cux2</td>\n",
       "      <td>4</td>\n",
       "      <td>4-1</td>\n",
       "      <td>4-1-1</td>\n",
       "      <td>4-1-1-1</td>\n",
       "    </tr>\n",
       "  </tbody>\n",
       "</table>\n",
       "</div>"
      ],
      "text/plain": [
       "                   sample  joint_embedding_x  joint_embedding_y      modality  \\\n",
       "0     snmcseq_gene_2C_M_0           0.471629          -3.134735  snmcseq_gene   \n",
       "1     snmcseq_gene_2C_M_1          -2.414973         -12.098081  snmcseq_gene   \n",
       "2   snmcseq_gene_2C_M_100          -1.446751         -12.051894  snmcseq_gene   \n",
       "3  snmcseq_gene_2C_M_1000          -1.901734         -13.660591  snmcseq_gene   \n",
       "4  snmcseq_gene_2C_M_1001          -0.981086         -11.936621  snmcseq_gene   \n",
       "\n",
       "     modality_name single_modality_cluster  single_modality_annot  \\\n",
       "0  DNA methylation   L4-IT-Rorb_Rorb-Tenm2  L4-IT-Rorb_Rorb-Tenm2   \n",
       "1  DNA methylation             L23-IT-Cux2            L23-IT-Cux2   \n",
       "2  DNA methylation             L23-IT-Cux2            L23-IT-Cux2   \n",
       "3  DNA methylation             L23-IT-Cux2            L23-IT-Cux2   \n",
       "4  DNA methylation             L23-IT-Cux2            L23-IT-Cux2   \n",
       "\n",
       "   joint_cluster_round1 joint_cluster_round2 joint_cluster_round3  \\\n",
       "0                     1                  1-1                1-1-1   \n",
       "1                     4                  4-2                4-2-1   \n",
       "2                     4                  4-1                4-1-1   \n",
       "3                     4                  4-2                4-2-1   \n",
       "4                     4                  4-1                4-1-1   \n",
       "\n",
       "  joint_cluster_round4  \n",
       "0              1-1-1-1  \n",
       "1              4-2-1-1  \n",
       "2              4-1-1-1  \n",
       "3              4-2-1-1  \n",
       "4              4-1-1-1  "
      ]
     },
     "execution_count": 16,
     "metadata": {},
     "output_type": "execute_result"
    }
   ],
   "source": [
    "f = '/cndd/fangming/CEMBA/data/MOp_all/results_final/miniatlas_fig4_scf_clusterings.tsv'\n",
    "df_clst = pd.read_csv(f, sep='\\t')\n",
    "print(df_clst.shape)\n",
    "df_clst.head()"
   ]
  },
  {
   "cell_type": "code",
   "execution_count": 24,
   "metadata": {},
   "outputs": [],
   "source": [
    "_x = df_clst.groupby(['modality', 'joint_cluster_round2']).size().unstack().fillna(0).astype(int)\n",
    "_x = _x.loc['snatac_gene'].sort_values()\n",
    "_x.index = df_annot.reindex(_x.index)"
   ]
  },
  {
   "cell_type": "code",
   "execution_count": 25,
   "metadata": {},
   "outputs": [
    {
     "data": {
      "text/plain": [
       "annot\n",
       "Sst Chodl                    0\n",
       "L6b Kcnip1                   2\n",
       "L5 PT (2-3)                  8\n",
       "Lamp5 Lhx6                   8\n",
       "Pvalb Vipr2                 19\n",
       "Pvalb Gabrg1                55\n",
       "L6b Ror1                    74\n",
       "L6b Shisa6                 102\n",
       "Sncg                       363\n",
       "Vip Gpc3_Htr1f_lgfbp6      383\n",
       "L5/6 NP                    387\n",
       "L5 PT (1)                  563\n",
       "Lamp5 Slc35d3              707\n",
       "L5 NP Slc17a8              815\n",
       "Lamp5 Pdlim5_Pax6          882\n",
       "Vip Chat_Crispld2          909\n",
       "Sst Myh8_Crhr2             922\n",
       "L6 IT Car3                 981\n",
       "L6 CT Nxph2               1137\n",
       "Sst Calb2_Hspe            1417\n",
       "L5 IT                     2525\n",
       "L6 CT Cpa6                3006\n",
       "L6(5) IT                  3197\n",
       "Pvalb Reln_Calb1          3347\n",
       "L4/5 IT (2-3)             3896\n",
       "L6 CT Cpa6_Gpr139         4216\n",
       "L2/3 IT (3-5)             4560\n",
       "L2/3 IT (1-2)             9426\n",
       "L4/5 IT (1)              10937\n",
       "Name: snatac_gene, dtype: int64"
      ]
     },
     "execution_count": 25,
     "metadata": {},
     "output_type": "execute_result"
    }
   ],
   "source": [
    "_x"
   ]
  },
  {
   "cell_type": "code",
   "execution_count": 27,
   "metadata": {},
   "outputs": [
    {
     "data": {
      "text/plain": [
       "annot\n",
       "L6b Kcnip1                  5\n",
       "Pvalb Vipr2                 7\n",
       "Lamp5 Lhx6                  8\n",
       "Pvalb Gabrg1               15\n",
       "Sst Chodl                  15\n",
       "L6 IT Car3                 25\n",
       "L5 PT (1)                  45\n",
       "L6b Shisa6                 48\n",
       "L5 PT (2-3)                52\n",
       "L6b Ror1                   55\n",
       "Sncg                       69\n",
       "L5 NP Slc17a8              88\n",
       "Vip Gpc3_Htr1f_lgfbp6      94\n",
       "Lamp5 Pdlim5_Pax6         105\n",
       "Vip Chat_Crispld2         110\n",
       "L5/6 NP                   183\n",
       "Sst Myh8_Crhr2            219\n",
       "Lamp5 Slc35d3             236\n",
       "Sst Calb2_Hspe            243\n",
       "L6 CT Nxph2               288\n",
       "Pvalb Reln_Calb1          427\n",
       "L6 CT Cpa6_Gpr139         623\n",
       "L4/5 IT (2-3)             793\n",
       "L5 IT                     836\n",
       "L6 CT Cpa6                887\n",
       "L2/3 IT (1-2)             893\n",
       "L6(5) IT                  915\n",
       "L2/3 IT (3-5)            1004\n",
       "L4/5 IT (1)              1078\n",
       "Name: snmcseq_gene, dtype: int64"
      ]
     },
     "execution_count": 27,
     "metadata": {},
     "output_type": "execute_result"
    }
   ],
   "source": [
    "_x = df_clst.groupby(['modality', 'joint_cluster_round2']).size().unstack().fillna(0).astype(int)\n",
    "_x = _x.loc['snmcseq_gene'].sort_values()\n",
    "_x.index = df_annot.reindex(_x.index)\n",
    "_x"
   ]
  },
  {
   "cell_type": "code",
   "execution_count": null,
   "metadata": {},
   "outputs": [],
   "source": []
  }
 ],
 "metadata": {
  "kernelspec": {
   "display_name": "Python 3",
   "language": "python",
   "name": "python3"
  },
  "language_info": {
   "codemirror_mode": {
    "name": "ipython",
    "version": 3
   },
   "file_extension": ".py",
   "mimetype": "text/x-python",
   "name": "python",
   "nbconvert_exporter": "python",
   "pygments_lexer": "ipython3",
   "version": "3.6.6"
  }
 },
 "nbformat": 4,
 "nbformat_minor": 2
}
