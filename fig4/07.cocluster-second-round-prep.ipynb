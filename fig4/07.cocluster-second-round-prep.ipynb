{
 "cells": [
  {
   "cell_type": "code",
   "execution_count": 6,
   "metadata": {},
   "outputs": [
    {
     "data": {
      "text/plain": [
       "<module 'CEMBA_preproc_utils' from '/cndd/fangming/CEMBA/snmcseq_dev/CEMBA_preproc_utils.py'>"
      ]
     },
     "execution_count": 6,
     "metadata": {},
     "output_type": "execute_result"
    }
   ],
   "source": [
    "import importlib\n",
    "import sys\n",
    "sys.path.insert(0, '/cndd/fangming/CEMBA/snmcseq_dev')\n",
    "\n",
    "from __init__ import *\n",
    "from __init__jupyterlab import *\n",
    "from scipy import sparse\n",
    "import collections\n",
    "import shutil\n",
    "\n",
    "import snmcseq_utils\n",
    "importlib.reload(snmcseq_utils)\n",
    "import CEMBA_preproc_utils\n",
    "importlib.reload(CEMBA_preproc_utils)\n",
    "\n"
   ]
  },
  {
   "cell_type": "markdown",
   "metadata": {},
   "source": [
    "# prep\n",
    "- metadata\n",
    "- hvfeatures (recalculated)\n",
    "- ```__init__datasets.py``` \n",
    "- config.py (somewhere else) "
   ]
  },
  {
   "cell_type": "code",
   "execution_count": 7,
   "metadata": {},
   "outputs": [
    {
     "name": "stderr",
     "output_type": "stream",
     "text": [
      "10/07/2019 08:25:18 PM *\n"
     ]
    }
   ],
   "source": [
    "log = snmcseq_utils.create_logger()\n",
    "logging.info('*')"
   ]
  },
  {
   "cell_type": "code",
   "execution_count": 8,
   "metadata": {},
   "outputs": [],
   "source": [
    "config_dir = '/cndd/fangming/CEMBA/data/MOp_all/data_freeze_neurons/' \n",
    "config_f = 'config_scf_8mods_data_freeze_190917.py' \n",
    "name = 'mop_8mods_0915_k30'\n",
    "DST_ROOT_DIR = '/cndd/fangming/CEMBA/data/MOp_all/data_freeze_neurons_subtypes_8mods_round2_new'\n",
    "first_round_cluster_col = 'cluster_joint_r0.1'\n",
    "\n",
    "# import config and import datasets\n",
    "sys.path.insert(0, config_dir)\n",
    "exec(\"from {} import *\".format(config_f.split('.')[0]))\n",
    "from __init__datasets import *\n",
    "\n",
    "meta_f = '{0}/{1}_metadata.tsv'\n",
    "raw_f = '{0}/{1}_{2}raw.{3}'\n",
    "hvftr_f = '{0}/{1}_hvfeatures.{2}'"
   ]
  },
  {
   "cell_type": "code",
   "execution_count": 4,
   "metadata": {},
   "outputs": [
    {
     "name": "stdout",
     "output_type": "stream",
     "text": [
      "snmcseq_gene (9366, 32)\n",
      "snatac_gene (54844, 13)\n"
     ]
    },
    {
     "name": "stderr",
     "output_type": "stream",
     "text": [
      "/cndd/fangming/venvs/conda_dobro/lib/python3.6/site-packages/IPython/core/interactiveshell.py:2728: DtypeWarning: Columns (64) have mixed types. Specify dtype option on import or set low_memory=False.\n",
      "  interactivity=interactivity, compiler=compiler, result=result)\n"
     ]
    },
    {
     "name": "stdout",
     "output_type": "stream",
     "text": [
      "smarter_cells (6244, 129)\n",
      "smarter_nuclei (5911, 146)\n",
      "10x_cells_v2 (121440, 8)\n",
      "10x_cells_v3 (69727, 8)\n",
      "10x_nuclei_v3 (39706, 8)\n",
      "10x_nuclei_v3_macosko (101647, 19)\n"
     ]
    }
   ],
   "source": [
    "metas = collections.OrderedDict()\n",
    "for mod in mods_selected:\n",
    "    metas[mod] = pd.read_csv(meta_f.format(DATA_DIR, mod), sep=\"\\t\").reset_index().set_index(settings[mod].cell_col)\n",
    "    print(mod, metas[mod].shape)"
   ]
  },
  {
   "cell_type": "code",
   "execution_count": 5,
   "metadata": {},
   "outputs": [
    {
     "name": "stderr",
     "output_type": "stream",
     "text": [
      "10/07/2019 08:24:51 PM Read data snmcseq_gene...\n",
      "10/07/2019 08:25:16 PM Internal Python error in the inspect module.\n",
      "Below is the traceback from this internal error.\n",
      "\n",
      "10/07/2019 08:25:16 PM \n",
      "Unfortunately, your original traceback can not be constructed.\n",
      "\n"
     ]
    },
    {
     "name": "stdout",
     "output_type": "stream",
     "text": [
      "Traceback (most recent call last):\n",
      "  File \"/cndd/fangming/venvs/conda_dobro/lib/python3.6/site-packages/IPython/core/interactiveshell.py\", line 2910, in run_code\n",
      "    exec(code_obj, self.user_global_ns, self.user_ns)\n",
      "  File \"<ipython-input-5-9dc3b07320b5>\", line 9, in <module>\n",
      "    gxc_raws[mod] = snmcseq_utils.load_gc_matrix_methylation(f_gene, f_cell, f_data_mc, f_data_c)\n",
      "  File \"/cndd/fangming/CEMBA/snmcseq_dev/snmcseq_utils.py\", line 1442, in load_gc_matrix_methylation\n",
      "    _mat_c = sparse.load_npz(f_mat_c)\n",
      "  File \"/cndd/fangming/venvs/conda_dobro/lib/python3.6/site-packages/scipy/sparse/_matrix_io.py\", line 150, in load_npz\n",
      "    return cls((loaded['data'], loaded['indices'], loaded['indptr']), shape=loaded['shape'])\n",
      "  File \"/cndd/fangming/venvs/conda_dobro/lib/python3.6/site-packages/numpy/lib/npyio.py\", line 262, in __getitem__\n",
      "    pickle_kwargs=self.pickle_kwargs)\n",
      "  File \"/cndd/fangming/venvs/conda_dobro/lib/python3.6/site-packages/numpy/lib/format.py\", line 760, in read_array\n",
      "    data = _read_bytes(fp, read_size, \"array data\")\n",
      "  File \"/cndd/fangming/venvs/conda_dobro/lib/python3.6/site-packages/numpy/lib/format.py\", line 889, in _read_bytes\n",
      "    r = fp.read(size - len(data))\n",
      "  File \"/cndd/fangming/venvs/conda_dobro/lib/python3.6/zipfile.py\", line 849, in read\n",
      "    data = self._read1(n)\n",
      "  File \"/cndd/fangming/venvs/conda_dobro/lib/python3.6/zipfile.py\", line 925, in _read1\n",
      "    data = self._decompressor.decompress(data, n)\n",
      "KeyboardInterrupt\n",
      "\n",
      "During handling of the above exception, another exception occurred:\n",
      "\n",
      "Traceback (most recent call last):\n",
      "  File \"/cndd/fangming/venvs/conda_dobro/lib/python3.6/site-packages/IPython/core/interactiveshell.py\", line 1828, in showtraceback\n",
      "    stb = value._render_traceback_()\n",
      "AttributeError: 'KeyboardInterrupt' object has no attribute '_render_traceback_'\n",
      "\n",
      "During handling of the above exception, another exception occurred:\n",
      "\n",
      "Traceback (most recent call last):\n",
      "  File \"/cndd/fangming/venvs/conda_dobro/lib/python3.6/site-packages/IPython/core/ultratb.py\", line 1090, in get_records\n",
      "    return _fixed_getinnerframes(etb, number_of_lines_of_context, tb_offset)\n",
      "  File \"/cndd/fangming/venvs/conda_dobro/lib/python3.6/site-packages/IPython/core/ultratb.py\", line 311, in wrapped\n",
      "    return f(*args, **kwargs)\n",
      "  File \"/cndd/fangming/venvs/conda_dobro/lib/python3.6/site-packages/IPython/core/ultratb.py\", line 345, in _fixed_getinnerframes\n",
      "    records = fix_frame_records_filenames(inspect.getinnerframes(etb, context))\n",
      "  File \"/cndd/fangming/venvs/conda_dobro/lib/python3.6/inspect.py\", line 1483, in getinnerframes\n",
      "    frameinfo = (tb.tb_frame,) + getframeinfo(tb, context)\n",
      "  File \"/cndd/fangming/venvs/conda_dobro/lib/python3.6/inspect.py\", line 1441, in getframeinfo\n",
      "    filename = getsourcefile(frame) or getfile(frame)\n",
      "  File \"/cndd/fangming/venvs/conda_dobro/lib/python3.6/inspect.py\", line 696, in getsourcefile\n",
      "    if getattr(getmodule(object, filename), '__loader__', None) is not None:\n",
      "  File \"/cndd/fangming/venvs/conda_dobro/lib/python3.6/inspect.py\", line 739, in getmodule\n",
      "    f = getabsfile(module)\n",
      "  File \"/cndd/fangming/venvs/conda_dobro/lib/python3.6/inspect.py\", line 708, in getabsfile\n",
      "    _filename = getsourcefile(object) or getfile(object)\n",
      "  File \"/cndd/fangming/venvs/conda_dobro/lib/python3.6/inspect.py\", line 693, in getsourcefile\n",
      "    if os.path.exists(filename):\n",
      "  File \"/cndd/fangming/venvs/conda_dobro/lib/python3.6/genericpath.py\", line 19, in exists\n",
      "    os.stat(path)\n",
      "KeyboardInterrupt\n"
     ]
    },
    {
     "ename": "KeyboardInterrupt",
     "evalue": "",
     "output_type": "error",
     "traceback": [
      "\u001b[0;31m---------------------------------------------------------------------------\u001b[0m"
     ]
    }
   ],
   "source": [
    "gxc_raws = collections.OrderedDict()\n",
    "for mod in mods_selected:\n",
    "    logging.info(\"Read data {}...\".format(mod))\n",
    "    if settings[mod].mod_category == 'mc':\n",
    "        f_gene = raw_f.format(DATA_DIR, mod, '', 'gene')\n",
    "        f_cell = raw_f.format(DATA_DIR, mod, '', 'cell')\n",
    "        f_data_c = raw_f.format(DATA_DIR, mod, 'CH_', 'npz')\n",
    "        f_data_mc = raw_f.format(DATA_DIR, mod, 'mCH_', 'npz')\n",
    "        gxc_raws[mod] = snmcseq_utils.load_gc_matrix_methylation(f_gene, f_cell, f_data_mc, f_data_c)\n",
    "        \n",
    "    else:\n",
    "        f_gene = raw_f.format(DATA_DIR, mod, '', 'gene')\n",
    "        f_cell = raw_f.format(DATA_DIR, mod, '', 'cell')\n",
    "        f_data = raw_f.format(DATA_DIR, mod, '', 'npz')\n",
    "        gxc_raws[mod] = snmcseq_utils.load_gc_matrix(f_gene, f_cell, f_data)\n",
    "        "
   ]
  },
  {
   "cell_type": "code",
   "execution_count": 6,
   "metadata": {},
   "outputs": [
    {
     "name": "stdout",
     "output_type": "stream",
     "text": [
      "(408885, 2)\n"
     ]
    },
    {
     "data": {
      "text/html": [
       "<div>\n",
       "<style scoped>\n",
       "    .dataframe tbody tr th:only-of-type {\n",
       "        vertical-align: middle;\n",
       "    }\n",
       "\n",
       "    .dataframe tbody tr th {\n",
       "        vertical-align: top;\n",
       "    }\n",
       "\n",
       "    .dataframe thead th {\n",
       "        text-align: right;\n",
       "    }\n",
       "</style>\n",
       "<table border=\"1\" class=\"dataframe\">\n",
       "  <thead>\n",
       "    <tr style=\"text-align: right;\">\n",
       "      <th></th>\n",
       "      <th>cluster_joint_r0.1</th>\n",
       "      <th>modality</th>\n",
       "    </tr>\n",
       "    <tr>\n",
       "      <th>sample</th>\n",
       "      <th></th>\n",
       "      <th></th>\n",
       "    </tr>\n",
       "  </thead>\n",
       "  <tbody>\n",
       "    <tr>\n",
       "      <th>snmcseq_gene_2C_M_0</th>\n",
       "      <td>1</td>\n",
       "      <td>snmcseq_gene</td>\n",
       "    </tr>\n",
       "    <tr>\n",
       "      <th>snmcseq_gene_2C_M_1</th>\n",
       "      <td>4</td>\n",
       "      <td>snmcseq_gene</td>\n",
       "    </tr>\n",
       "    <tr>\n",
       "      <th>snmcseq_gene_2C_M_100</th>\n",
       "      <td>4</td>\n",
       "      <td>snmcseq_gene</td>\n",
       "    </tr>\n",
       "    <tr>\n",
       "      <th>snmcseq_gene_2C_M_1000</th>\n",
       "      <td>4</td>\n",
       "      <td>snmcseq_gene</td>\n",
       "    </tr>\n",
       "    <tr>\n",
       "      <th>snmcseq_gene_2C_M_1001</th>\n",
       "      <td>4</td>\n",
       "      <td>snmcseq_gene</td>\n",
       "    </tr>\n",
       "  </tbody>\n",
       "</table>\n",
       "</div>"
      ],
      "text/plain": [
       "                        cluster_joint_r0.1      modality\n",
       "sample                                                  \n",
       "snmcseq_gene_2C_M_0                      1  snmcseq_gene\n",
       "snmcseq_gene_2C_M_1                      4  snmcseq_gene\n",
       "snmcseq_gene_2C_M_100                    4  snmcseq_gene\n",
       "snmcseq_gene_2C_M_1000                   4  snmcseq_gene\n",
       "snmcseq_gene_2C_M_1001                   4  snmcseq_gene"
      ]
     },
     "execution_count": 6,
     "metadata": {},
     "output_type": "execute_result"
    }
   ],
   "source": [
    "f = output_clst_and_umap\n",
    "df_info = pd.read_csv(f, sep=\"\\t\", index_col='sample')[[first_round_cluster_col, 'modality']] \n",
    "print(df_info.shape)\n",
    "df_info.head()"
   ]
  },
  {
   "cell_type": "code",
   "execution_count": 9,
   "metadata": {},
   "outputs": [
    {
     "name": "stdout",
     "output_type": "stream",
     "text": [
      "gene_id_abbr\n",
      "ENSMUSG00000102693      1069\n",
      "ENSMUSG00000064842       109\n",
      "ENSMUSG00000051951    465597\n",
      "ENSMUSG00000102851       479\n",
      "ENSMUSG00000103377      2818\n",
      "dtype: int64\n"
     ]
    }
   ],
   "source": [
    "normalization_options = {\n",
    "    'smarter_nuclei': 'TPM',\n",
    "    'smarter_cells': 'TPM',\n",
    "    'snatac_gene': 'TPM',\n",
    "    'snmcseq_gene': 'MC',\n",
    "    '10x_nuclei_v3_macosko': 'CPM',\n",
    "    '10x_cells_v3': 'CPM',\n",
    "    '10x_nuclei_v3': 'CPM',\n",
    "    '10x_cells_v2': 'CPM',\n",
    "}\n",
    "\n",
    "# # gene id (abbr) as index\n",
    "gene_annot_file = PATH_GENEBODY_ANNOTATION\n",
    "gene_annot = pd.read_csv(gene_annot_file, sep=\"\\t\")\n",
    "gene_annot['gene_id_abbr'] = gene_annot['gene_id'].apply(lambda x: x.split('.')[0])\n",
    "gene_annot = gene_annot.set_index('gene_id_abbr')\n",
    "\n",
    "gene_lengths_base = (gene_annot['end'] - gene_annot['start'])\n",
    "print(gene_lengths_base.head())"
   ]
  },
  {
   "cell_type": "code",
   "execution_count": 11,
   "metadata": {},
   "outputs": [
    {
     "name": "stderr",
     "output_type": "stream",
     "text": [
      "09/19/2019 04:09:07 PM Prep data...\n"
     ]
    },
    {
     "name": "stdout",
     "output_type": "stream",
     "text": [
      "10x_cells_v2 1\n",
      "10x_cells_v2 Preproc and get highly variable genes 1.877270221710205\n",
      "Removing low coverage genes...\n",
      "Getting CPM..\n",
      "Getting highly variable genes and logCPM...\n",
      "Number of genes: 3910\n",
      "10x_cells_v2 Saving to files 21.866922855377197\n"
     ]
    },
    {
     "name": "stderr",
     "output_type": "stream",
     "text": [
      "09/19/2019 04:10:23 PM 10x_cells_v2 1 Total time used: 76.37040162086487\n"
     ]
    },
    {
     "name": "stdout",
     "output_type": "stream",
     "text": [
      "10x_cells_v2 2\n",
      "10x_cells_v2 Preproc and get highly variable genes 1.4539475440979004\n",
      "Removing low coverage genes...\n",
      "Getting CPM..\n",
      "Getting highly variable genes and logCPM...\n",
      "Number of genes: 3924\n",
      "10x_cells_v2 Saving to files 15.810205221176147\n"
     ]
    },
    {
     "name": "stderr",
     "output_type": "stream",
     "text": [
      "09/19/2019 04:11:17 PM 10x_cells_v2 2 Total time used: 54.05675959587097\n"
     ]
    },
    {
     "name": "stdout",
     "output_type": "stream",
     "text": [
      "10x_cells_v2 3\n",
      "10x_cells_v2 Preproc and get highly variable genes 1.281355619430542\n",
      "Removing low coverage genes...\n",
      "Getting CPM..\n",
      "Getting highly variable genes and logCPM...\n",
      "Number of genes: 4113\n",
      "10x_cells_v2 Saving to files 14.587990760803223\n"
     ]
    },
    {
     "name": "stderr",
     "output_type": "stream",
     "text": [
      "09/19/2019 04:12:08 PM 10x_cells_v2 3 Total time used: 50.45430588722229\n"
     ]
    },
    {
     "name": "stdout",
     "output_type": "stream",
     "text": [
      "10x_cells_v2 4\n",
      "10x_cells_v2 Preproc and get highly variable genes 0.8800203800201416\n",
      "Removing low coverage genes...\n",
      "Getting CPM..\n",
      "Getting highly variable genes and logCPM...\n",
      "Number of genes: 4095\n",
      "10x_cells_v2 Saving to files 8.485316276550293\n"
     ]
    },
    {
     "name": "stderr",
     "output_type": "stream",
     "text": [
      "09/19/2019 04:12:33 PM 10x_cells_v2 4 Total time used: 25.016403436660767\n"
     ]
    },
    {
     "name": "stdout",
     "output_type": "stream",
     "text": [
      "10x_cells_v2 5\n",
      "10x_cells_v2 Preproc and get highly variable genes 0.8521451950073242\n",
      "Removing low coverage genes...\n",
      "Getting CPM..\n",
      "Getting highly variable genes and logCPM...\n",
      "Number of genes: 3936\n",
      "10x_cells_v2 Saving to files 8.29773736000061\n"
     ]
    },
    {
     "name": "stderr",
     "output_type": "stream",
     "text": [
      "09/19/2019 04:12:57 PM 10x_cells_v2 5 Total time used: 24.197765111923218\n"
     ]
    },
    {
     "name": "stdout",
     "output_type": "stream",
     "text": [
      "10x_cells_v2 6\n",
      "10x_cells_v2 Preproc and get highly variable genes 0.9604911804199219\n",
      "Removing low coverage genes...\n",
      "Getting CPM..\n",
      "Getting highly variable genes and logCPM...\n",
      "Number of genes: 3834\n",
      "10x_cells_v2 Saving to files 8.865561246871948\n"
     ]
    },
    {
     "name": "stderr",
     "output_type": "stream",
     "text": [
      "09/19/2019 04:13:24 PM 10x_cells_v2 6 Total time used: 26.714282512664795\n"
     ]
    },
    {
     "name": "stdout",
     "output_type": "stream",
     "text": [
      "10x_cells_v2 7\n",
      "10x_cells_v2 Preproc and get highly variable genes 0.3321049213409424\n",
      "Removing low coverage genes...\n",
      "Getting CPM..\n",
      "Getting highly variable genes and logCPM...\n",
      "Number of genes: 3762\n",
      "10x_cells_v2 Saving to files 2.4419610500335693\n"
     ]
    },
    {
     "name": "stderr",
     "output_type": "stream",
     "text": [
      "09/19/2019 04:13:29 PM 10x_cells_v2 7 Total time used: 5.724898815155029\n"
     ]
    },
    {
     "name": "stdout",
     "output_type": "stream",
     "text": [
      "10x_cells_v2 8\n",
      "10x_cells_v2 Preproc and get highly variable genes 0.27335143089294434\n",
      "Removing low coverage genes...\n",
      "Getting CPM..\n",
      "Getting highly variable genes and logCPM...\n",
      "Number of genes: 3996\n",
      "10x_cells_v2 Saving to files 1.8917927742004395\n"
     ]
    },
    {
     "name": "stderr",
     "output_type": "stream",
     "text": [
      "09/19/2019 04:13:33 PM 10x_cells_v2 8 Total time used: 4.001272678375244\n"
     ]
    },
    {
     "name": "stdout",
     "output_type": "stream",
     "text": [
      "10x_cells_v2 9\n",
      "10x_cells_v2 Preproc and get highly variable genes 0.1434316635131836\n",
      "Removing low coverage genes...\n",
      "Getting CPM..\n",
      "Getting highly variable genes and logCPM...\n",
      "Number of genes: 4077\n",
      "10x_cells_v2 Saving to files 0.631108283996582\n"
     ]
    },
    {
     "name": "stderr",
     "output_type": "stream",
     "text": [
      "09/19/2019 04:13:35 PM 10x_cells_v2 9 Total time used: 1.2157483100891113\n"
     ]
    },
    {
     "name": "stdout",
     "output_type": "stream",
     "text": [
      "10x_cells_v2 10\n",
      "10x_cells_v2 Preproc and get highly variable genes 0.12623143196105957\n",
      "Removing low coverage genes...\n",
      "Getting CPM..\n",
      "Getting highly variable genes and logCPM...\n",
      "Number of genes: 4086\n",
      "10x_cells_v2 Saving to files 0.4371194839477539\n"
     ]
    },
    {
     "name": "stderr",
     "output_type": "stream",
     "text": [
      "09/19/2019 04:13:35 PM 10x_cells_v2 10 Total time used: 0.7181262969970703\n"
     ]
    },
    {
     "name": "stdout",
     "output_type": "stream",
     "text": [
      "10x_cells_v3 1\n",
      "10x_cells_v3 Preproc and get highly variable genes 1.985388994216919\n",
      "Removing low coverage genes...\n",
      "Getting CPM..\n",
      "Getting highly variable genes and logCPM...\n",
      "Number of genes: 4509\n",
      "10x_cells_v3 Saving to files 25.144622564315796\n"
     ]
    },
    {
     "name": "stderr",
     "output_type": "stream",
     "text": [
      "09/19/2019 04:15:07 PM 10x_cells_v3 1 Total time used: 92.0965428352356\n"
     ]
    },
    {
     "name": "stdout",
     "output_type": "stream",
     "text": [
      "10x_cells_v3 2\n",
      "10x_cells_v3 Preproc and get highly variable genes 1.1232588291168213\n",
      "Removing low coverage genes...\n",
      "Getting CPM..\n",
      "Getting highly variable genes and logCPM...\n",
      "Number of genes: 4556\n",
      "10x_cells_v3 Saving to files 13.617327690124512\n"
     ]
    },
    {
     "name": "stderr",
     "output_type": "stream",
     "text": [
      "09/19/2019 04:15:54 PM 10x_cells_v3 2 Total time used: 47.06065797805786\n"
     ]
    },
    {
     "name": "stdout",
     "output_type": "stream",
     "text": [
      "10x_cells_v3 3\n",
      "10x_cells_v3 Preproc and get highly variable genes 0.8891904354095459\n",
      "Removing low coverage genes...\n",
      "Getting CPM..\n",
      "Getting highly variable genes and logCPM...\n",
      "Number of genes: 4698\n",
      "10x_cells_v3 Saving to files 11.018966913223267\n"
     ]
    },
    {
     "name": "stderr",
     "output_type": "stream",
     "text": [
      "09/19/2019 04:16:29 PM 10x_cells_v3 3 Total time used: 34.40225267410278\n"
     ]
    },
    {
     "name": "stdout",
     "output_type": "stream",
     "text": [
      "10x_cells_v3 4\n",
      "10x_cells_v3 Preproc and get highly variable genes 1.0039684772491455\n",
      "Removing low coverage genes...\n",
      "Getting CPM..\n",
      "Getting highly variable genes and logCPM...\n",
      "Number of genes: 4741\n",
      "10x_cells_v3 Saving to files 12.235171556472778\n"
     ]
    },
    {
     "name": "stderr",
     "output_type": "stream",
     "text": [
      "09/19/2019 04:17:09 PM 10x_cells_v3 4 Total time used: 40.54317378997803\n"
     ]
    },
    {
     "name": "stdout",
     "output_type": "stream",
     "text": [
      "10x_cells_v3 5\n",
      "10x_cells_v3 Preproc and get highly variable genes 0.30095481872558594\n",
      "Removing low coverage genes...\n",
      "Getting CPM..\n",
      "Getting highly variable genes and logCPM...\n",
      "Number of genes: 4599\n",
      "10x_cells_v3 Saving to files 2.534700632095337\n"
     ]
    },
    {
     "name": "stderr",
     "output_type": "stream",
     "text": [
      "09/19/2019 04:17:15 PM 10x_cells_v3 5 Total time used: 5.527657508850098\n"
     ]
    },
    {
     "name": "stdout",
     "output_type": "stream",
     "text": [
      "10x_cells_v3 6\n",
      "10x_cells_v3 Preproc and get highly variable genes 0.5197768211364746\n",
      "Removing low coverage genes...\n",
      "Getting CPM..\n",
      "Getting highly variable genes and logCPM...\n",
      "Number of genes: 4497\n",
      "10x_cells_v3 Saving to files 5.450875997543335\n"
     ]
    },
    {
     "name": "stderr",
     "output_type": "stream",
     "text": [
      "09/19/2019 04:17:29 PM 10x_cells_v3 6 Total time used: 13.930376291275024\n"
     ]
    },
    {
     "name": "stdout",
     "output_type": "stream",
     "text": [
      "10x_cells_v3 7\n",
      "10x_cells_v3 Preproc and get highly variable genes 0.32398104667663574\n",
      "Removing low coverage genes...\n",
      "Getting CPM..\n",
      "Getting highly variable genes and logCPM...\n",
      "Number of genes: 4419\n",
      "10x_cells_v3 Saving to files 3.1476619243621826\n"
     ]
    },
    {
     "name": "stderr",
     "output_type": "stream",
     "text": [
      "09/19/2019 04:17:36 PM 10x_cells_v3 7 Total time used: 7.490942478179932\n"
     ]
    },
    {
     "name": "stdout",
     "output_type": "stream",
     "text": [
      "10x_cells_v3 8\n",
      "10x_cells_v3 Preproc and get highly variable genes 0.12097287178039551\n",
      "Removing low coverage genes...\n",
      "Getting CPM..\n",
      "Getting highly variable genes and logCPM...\n",
      "Number of genes: 4563\n",
      "10x_cells_v3 Saving to files 0.6472964286804199\n"
     ]
    },
    {
     "name": "stderr",
     "output_type": "stream",
     "text": [
      "09/19/2019 04:17:38 PM 10x_cells_v3 8 Total time used: 1.255518913269043\n"
     ]
    },
    {
     "name": "stdout",
     "output_type": "stream",
     "text": [
      "10x_cells_v3 9\n",
      "10x_cells_v3 Preproc and get highly variable genes 0.09113717079162598\n",
      "Removing low coverage genes...\n",
      "Getting CPM..\n",
      "Getting highly variable genes and logCPM...\n",
      "Number of genes: 4473\n",
      "10x_cells_v3 Saving to files 0.3849465847015381\n"
     ]
    },
    {
     "name": "stderr",
     "output_type": "stream",
     "text": [
      "09/19/2019 04:17:38 PM 10x_cells_v3 9 Total time used: 0.5333647727966309\n"
     ]
    },
    {
     "name": "stdout",
     "output_type": "stream",
     "text": [
      "10x_cells_v3 10\n",
      "10x_cells_v3 Preproc and get highly variable genes 0.07094669342041016\n",
      "Removing low coverage genes...\n",
      "Getting CPM..\n",
      "Getting highly variable genes and logCPM...\n"
     ]
    },
    {
     "name": "stderr",
     "output_type": "stream",
     "text": [
      "09/19/2019 04:17:39 PM 10x_cells_v3 10 Total time used: 0.4076418876647949\n"
     ]
    },
    {
     "name": "stdout",
     "output_type": "stream",
     "text": [
      "Number of genes: 4464\n",
      "10x_cells_v3 Saving to files 0.2769627571105957\n",
      "10x_nuclei_v3 1\n",
      "10x_nuclei_v3 Preproc and get highly variable genes 0.48705339431762695\n",
      "Removing low coverage genes...\n",
      "Getting CPM..\n",
      "Getting highly variable genes and logCPM...\n",
      "Number of genes: 4023\n",
      "10x_nuclei_v3 Saving to files 3.6371054649353027\n"
     ]
    },
    {
     "name": "stderr",
     "output_type": "stream",
     "text": [
      "09/19/2019 04:17:48 PM 10x_nuclei_v3 1 Total time used: 9.502243280410767\n"
     ]
    },
    {
     "name": "stdout",
     "output_type": "stream",
     "text": [
      "10x_nuclei_v3 2\n",
      "10x_nuclei_v3 Preproc and get highly variable genes 0.5694258213043213\n",
      "Removing low coverage genes...\n",
      "Getting CPM..\n",
      "Getting highly variable genes and logCPM...\n",
      "Number of genes: 3969\n",
      "10x_nuclei_v3 Saving to files 4.362350940704346\n"
     ]
    },
    {
     "name": "stderr",
     "output_type": "stream",
     "text": [
      "09/19/2019 04:18:00 PM 10x_nuclei_v3 2 Total time used: 11.807456254959106\n"
     ]
    },
    {
     "name": "stdout",
     "output_type": "stream",
     "text": [
      "10x_nuclei_v3 3\n",
      "10x_nuclei_v3 Preproc and get highly variable genes 0.5674898624420166\n",
      "Removing low coverage genes...\n",
      "Getting CPM..\n",
      "Getting highly variable genes and logCPM...\n",
      "Number of genes: 4212\n",
      "10x_nuclei_v3 Saving to files 4.830783128738403\n"
     ]
    },
    {
     "name": "stderr",
     "output_type": "stream",
     "text": [
      "09/19/2019 04:18:13 PM 10x_nuclei_v3 3 Total time used: 13.16493535041809\n"
     ]
    },
    {
     "name": "stdout",
     "output_type": "stream",
     "text": [
      "10x_nuclei_v3 4\n",
      "10x_nuclei_v3 Preproc and get highly variable genes 0.48116612434387207\n",
      "Removing low coverage genes...\n",
      "Getting CPM..\n",
      "Getting highly variable genes and logCPM...\n",
      "Number of genes: 4176\n",
      "10x_nuclei_v3 Saving to files 3.9446585178375244\n"
     ]
    },
    {
     "name": "stderr",
     "output_type": "stream",
     "text": [
      "09/19/2019 04:18:23 PM 10x_nuclei_v3 4 Total time used: 10.426154613494873\n"
     ]
    },
    {
     "name": "stdout",
     "output_type": "stream",
     "text": [
      "10x_nuclei_v3 5\n",
      "10x_nuclei_v3 Preproc and get highly variable genes 0.33246731758117676\n",
      "Removing low coverage genes...\n",
      "Getting CPM..\n",
      "Getting highly variable genes and logCPM...\n",
      "Number of genes: 4001\n",
      "10x_nuclei_v3 Saving to files 2.2397568225860596\n"
     ]
    },
    {
     "name": "stderr",
     "output_type": "stream",
     "text": [
      "09/19/2019 04:18:29 PM 10x_nuclei_v3 5 Total time used: 5.373409986495972\n"
     ]
    },
    {
     "name": "stdout",
     "output_type": "stream",
     "text": [
      "10x_nuclei_v3 6\n",
      "10x_nuclei_v3 Preproc and get highly variable genes 0.19445443153381348\n",
      "Removing low coverage genes...\n",
      "Getting CPM..\n",
      "Getting highly variable genes and logCPM...\n",
      "Number of genes: 3852\n",
      "10x_nuclei_v3 Saving to files 1.0285451412200928\n"
     ]
    },
    {
     "name": "stderr",
     "output_type": "stream",
     "text": [
      "09/19/2019 04:18:31 PM 10x_nuclei_v3 6 Total time used: 2.272634983062744\n"
     ]
    },
    {
     "name": "stdout",
     "output_type": "stream",
     "text": [
      "10x_nuclei_v3 7\n",
      "10x_nuclei_v3 Preproc and get highly variable genes 0.13875198364257812\n",
      "Removing low coverage genes...\n",
      "Getting CPM..\n",
      "Getting highly variable genes and logCPM...\n",
      "Number of genes: 3780\n",
      "10x_nuclei_v3 Saving to files 0.6254544258117676\n"
     ]
    },
    {
     "name": "stderr",
     "output_type": "stream",
     "text": [
      "09/19/2019 04:18:32 PM 10x_nuclei_v3 7 Total time used: 1.2792532444000244\n"
     ]
    },
    {
     "name": "stdout",
     "output_type": "stream",
     "text": [
      "10x_nuclei_v3 8\n",
      "10x_nuclei_v3 Preproc and get highly variable genes 0.10059833526611328\n",
      "Removing low coverage genes...\n",
      "Getting CPM..\n",
      "Getting highly variable genes and logCPM...\n",
      "Number of genes: 4158\n",
      "10x_nuclei_v3 Saving to files 0.42879199981689453\n"
     ]
    },
    {
     "name": "stderr",
     "output_type": "stream",
     "text": [
      "09/19/2019 04:18:33 PM 10x_nuclei_v3 8 Total time used: 0.8542258739471436\n"
     ]
    },
    {
     "name": "stdout",
     "output_type": "stream",
     "text": [
      "10x_nuclei_v3 9\n",
      "10x_nuclei_v3 Preproc and get highly variable genes 0.11040401458740234\n",
      "Removing low coverage genes...\n",
      "Getting CPM..\n",
      "Getting highly variable genes and logCPM...\n",
      "Number of genes: 4401\n",
      "10x_nuclei_v3 Saving to files 0.48851585388183594\n"
     ]
    },
    {
     "name": "stderr",
     "output_type": "stream",
     "text": [
      "09/19/2019 04:18:34 PM 10x_nuclei_v3 9 Total time used: 0.8809177875518799\n"
     ]
    },
    {
     "name": "stdout",
     "output_type": "stream",
     "text": [
      "10x_nuclei_v3 10\n",
      "10x_nuclei_v3 Preproc and get highly variable genes 0.07672452926635742\n",
      "Removing low coverage genes...\n",
      "Getting CPM..\n",
      "Getting highly variable genes and logCPM...\n"
     ]
    },
    {
     "name": "stderr",
     "output_type": "stream",
     "text": [
      "09/19/2019 04:18:34 PM 10x_nuclei_v3 10 Total time used: 0.33472633361816406\n"
     ]
    },
    {
     "name": "stdout",
     "output_type": "stream",
     "text": [
      "Number of genes: 4234\n",
      "10x_nuclei_v3 Saving to files 0.23359370231628418\n",
      "10x_nuclei_v3_macosko 1\n",
      "10x_nuclei_v3_macosko Preproc and get highly variable genes 1.431532621383667\n",
      "Removing low coverage genes...\n",
      "Getting CPM..\n",
      "Getting highly variable genes and logCPM...\n",
      "Number of genes: 4023\n",
      "10x_nuclei_v3_macosko Saving to files 14.3787841796875\n"
     ]
    },
    {
     "name": "stderr",
     "output_type": "stream",
     "text": [
      "09/19/2019 04:19:23 PM 10x_nuclei_v3_macosko 1 Total time used: 48.68065071105957\n"
     ]
    },
    {
     "name": "stdout",
     "output_type": "stream",
     "text": [
      "10x_nuclei_v3_macosko 2\n",
      "10x_nuclei_v3_macosko Preproc and get highly variable genes 1.1631956100463867\n",
      "Removing low coverage genes...\n",
      "Getting CPM..\n",
      "Getting highly variable genes and logCPM...\n",
      "Number of genes: 4023\n",
      "10x_nuclei_v3_macosko Saving to files 12.332880020141602\n"
     ]
    },
    {
     "name": "stderr",
     "output_type": "stream",
     "text": [
      "09/19/2019 04:20:04 PM 10x_nuclei_v3_macosko 2 Total time used: 40.8520085811615\n"
     ]
    },
    {
     "name": "stdout",
     "output_type": "stream",
     "text": [
      "10x_nuclei_v3_macosko 3\n",
      "10x_nuclei_v3_macosko Preproc and get highly variable genes 1.444896936416626\n",
      "Removing low coverage genes...\n",
      "Getting CPM..\n",
      "Getting highly variable genes and logCPM...\n",
      "Number of genes: 4260\n",
      "10x_nuclei_v3_macosko Saving to files 15.41028118133545\n"
     ]
    },
    {
     "name": "stderr",
     "output_type": "stream",
     "text": [
      "09/19/2019 04:20:57 PM 10x_nuclei_v3_macosko 3 Total time used: 52.76604247093201\n"
     ]
    },
    {
     "name": "stdout",
     "output_type": "stream",
     "text": [
      "10x_nuclei_v3_macosko 4\n",
      "10x_nuclei_v3_macosko Preproc and get highly variable genes 1.4711565971374512\n",
      "Removing low coverage genes...\n",
      "Getting CPM..\n",
      "Getting highly variable genes and logCPM...\n",
      "Number of genes: 4185\n",
      "10x_nuclei_v3_macosko Saving to files 15.43202519416809\n"
     ]
    },
    {
     "name": "stderr",
     "output_type": "stream",
     "text": [
      "09/19/2019 04:21:49 PM 10x_nuclei_v3_macosko 4 Total time used: 52.067365407943726\n"
     ]
    },
    {
     "name": "stdout",
     "output_type": "stream",
     "text": [
      "10x_nuclei_v3_macosko 5\n",
      "10x_nuclei_v3_macosko Preproc and get highly variable genes 0.7988598346710205\n",
      "Removing low coverage genes...\n",
      "Getting CPM..\n",
      "Getting highly variable genes and logCPM...\n",
      "Number of genes: 4068\n",
      "10x_nuclei_v3_macosko Saving to files 7.095843315124512\n"
     ]
    },
    {
     "name": "stderr",
     "output_type": "stream",
     "text": [
      "09/19/2019 04:22:09 PM 10x_nuclei_v3_macosko 5 Total time used: 19.688686847686768\n"
     ]
    },
    {
     "name": "stdout",
     "output_type": "stream",
     "text": [
      "10x_nuclei_v3_macosko 6\n",
      "10x_nuclei_v3_macosko Preproc and get highly variable genes 0.5461535453796387\n",
      "Removing low coverage genes...\n",
      "Getting CPM..\n",
      "Getting highly variable genes and logCPM...\n",
      "Number of genes: 3969\n",
      "10x_nuclei_v3_macosko Saving to files 3.811333179473877\n"
     ]
    },
    {
     "name": "stderr",
     "output_type": "stream",
     "text": [
      "09/19/2019 04:22:18 PM 10x_nuclei_v3_macosko 6 Total time used: 9.515218019485474\n"
     ]
    },
    {
     "name": "stdout",
     "output_type": "stream",
     "text": [
      "10x_nuclei_v3_macosko 7\n",
      "10x_nuclei_v3_macosko Preproc and get highly variable genes 0.3051011562347412\n",
      "Removing low coverage genes...\n",
      "Getting CPM..\n",
      "Getting highly variable genes and logCPM...\n",
      "Number of genes: 3866\n",
      "10x_nuclei_v3_macosko Saving to files 2.0892789363861084\n"
     ]
    },
    {
     "name": "stderr",
     "output_type": "stream",
     "text": [
      "09/19/2019 04:22:23 PM 10x_nuclei_v3_macosko 7 Total time used: 4.8716559410095215\n"
     ]
    },
    {
     "name": "stdout",
     "output_type": "stream",
     "text": [
      "10x_nuclei_v3_macosko 8\n",
      "10x_nuclei_v3_macosko Preproc and get highly variable genes 0.20859503746032715\n",
      "Removing low coverage genes...\n",
      "Getting CPM..\n",
      "Getting highly variable genes and logCPM...\n",
      "Number of genes: 4122\n",
      "10x_nuclei_v3_macosko Saving to files 1.306114912033081\n"
     ]
    },
    {
     "name": "stderr",
     "output_type": "stream",
     "text": [
      "09/19/2019 04:22:26 PM 10x_nuclei_v3_macosko 8 Total time used: 2.6709208488464355\n"
     ]
    },
    {
     "name": "stdout",
     "output_type": "stream",
     "text": [
      "10x_nuclei_v3_macosko 9\n",
      "10x_nuclei_v3_macosko Preproc and get highly variable genes 0.2107079029083252\n",
      "Removing low coverage genes...\n",
      "Getting CPM..\n",
      "Getting highly variable genes and logCPM...\n",
      "Number of genes: 4428\n",
      "10x_nuclei_v3_macosko Saving to files 1.314603328704834\n"
     ]
    },
    {
     "name": "stderr",
     "output_type": "stream",
     "text": [
      "09/19/2019 04:22:28 PM 10x_nuclei_v3_macosko 9 Total time used: 2.680990695953369\n"
     ]
    },
    {
     "name": "stdout",
     "output_type": "stream",
     "text": [
      "10x_nuclei_v3_macosko 10\n",
      "10x_nuclei_v3_macosko Preproc and get highly variable genes 0.10069441795349121\n",
      "Removing low coverage genes...\n",
      "Getting CPM..\n",
      "Getting highly variable genes and logCPM...\n"
     ]
    },
    {
     "name": "stderr",
     "output_type": "stream",
     "text": [
      "09/19/2019 04:22:29 PM 10x_nuclei_v3_macosko 10 Total time used: 0.5096893310546875\n"
     ]
    },
    {
     "name": "stdout",
     "output_type": "stream",
     "text": [
      "Number of genes: 4113\n",
      "10x_nuclei_v3_macosko Saving to files 0.3777942657470703\n",
      "smarter_cells 1\n",
      "smarter_cells Preproc and get highly variable genes 0.401080846786499\n",
      "Imputing gene lengths...\n",
      "Removing low coverage genes...\n",
      "Getting CPM..\n",
      "Getting highly variable genes and logCPM...\n",
      "Getting logTPM...\n",
      "Trim logTPM matrix...\n",
      "Number of genes: 5697\n",
      "smarter_cells Saving to files 3.93203067779541\n"
     ]
    },
    {
     "name": "stderr",
     "output_type": "stream",
     "text": [
      "09/19/2019 04:22:35 PM smarter_cells 1 Total time used: 6.320170164108276\n"
     ]
    },
    {
     "name": "stdout",
     "output_type": "stream",
     "text": [
      "smarter_cells 2\n",
      "smarter_cells Preproc and get highly variable genes 0.36981892585754395\n",
      "Imputing gene lengths...\n",
      "Removing low coverage genes...\n",
      "Getting CPM..\n",
      "Getting highly variable genes and logCPM...\n",
      "Getting logTPM...\n",
      "Trim logTPM matrix...\n",
      "Number of genes: 5679\n",
      "smarter_cells Saving to files 3.434642791748047\n"
     ]
    },
    {
     "name": "stderr",
     "output_type": "stream",
     "text": [
      "09/19/2019 04:22:40 PM smarter_cells 2 Total time used: 5.267122507095337\n"
     ]
    },
    {
     "name": "stdout",
     "output_type": "stream",
     "text": [
      "smarter_cells 3\n",
      "smarter_cells Preproc and get highly variable genes 0.2993149757385254\n",
      "Imputing gene lengths...\n",
      "Removing low coverage genes...\n",
      "Getting CPM..\n",
      "Getting highly variable genes and logCPM...\n",
      "Getting logTPM...\n",
      "Trim logTPM matrix...\n",
      "Number of genes: 5796\n",
      "smarter_cells Saving to files 2.6296873092651367\n"
     ]
    },
    {
     "name": "stderr",
     "output_type": "stream",
     "text": [
      "09/19/2019 04:22:44 PM smarter_cells 3 Total time used: 4.109482288360596\n"
     ]
    },
    {
     "name": "stdout",
     "output_type": "stream",
     "text": [
      "smarter_cells 4\n",
      "smarter_cells Preproc and get highly variable genes 0.2264080047607422\n",
      "Imputing gene lengths...\n",
      "Removing low coverage genes...\n",
      "Getting CPM..\n",
      "Getting highly variable genes and logCPM...\n",
      "Getting logTPM...\n",
      "Trim logTPM matrix...\n",
      "Number of genes: 5877\n",
      "smarter_cells Saving to files 1.917964220046997\n"
     ]
    },
    {
     "name": "stderr",
     "output_type": "stream",
     "text": [
      "09/19/2019 04:22:47 PM smarter_cells 4 Total time used: 2.8988561630249023\n"
     ]
    },
    {
     "name": "stdout",
     "output_type": "stream",
     "text": [
      "smarter_cells 5\n",
      "smarter_cells Preproc and get highly variable genes 0.33895444869995117\n",
      "Imputing gene lengths...\n",
      "Removing low coverage genes...\n",
      "Getting CPM..\n",
      "Getting highly variable genes and logCPM...\n",
      "Getting logTPM...\n",
      "Trim logTPM matrix...\n",
      "Number of genes: 5292\n",
      "smarter_cells Saving to files 2.661578893661499\n"
     ]
    },
    {
     "name": "stderr",
     "output_type": "stream",
     "text": [
      "09/19/2019 04:22:51 PM smarter_cells 5 Total time used: 4.111822128295898\n"
     ]
    },
    {
     "name": "stdout",
     "output_type": "stream",
     "text": [
      "smarter_cells 6\n",
      "smarter_cells Preproc and get highly variable genes 0.36349034309387207\n",
      "Imputing gene lengths...\n",
      "Removing low coverage genes...\n",
      "Getting CPM..\n",
      "Getting highly variable genes and logCPM...\n",
      "Getting logTPM...\n",
      "Trim logTPM matrix...\n",
      "Number of genes: 5328\n",
      "smarter_cells Saving to files 3.056245803833008\n"
     ]
    },
    {
     "name": "stderr",
     "output_type": "stream",
     "text": [
      "09/19/2019 04:22:56 PM smarter_cells 6 Total time used: 4.69493556022644\n"
     ]
    },
    {
     "name": "stdout",
     "output_type": "stream",
     "text": [
      "smarter_cells 7\n",
      "smarter_cells Preproc and get highly variable genes 0.12026667594909668\n",
      "Imputing gene lengths...\n",
      "Removing low coverage genes...\n",
      "Getting CPM..\n",
      "Getting highly variable genes and logCPM...\n",
      "Getting logTPM...\n",
      "Trim logTPM matrix...\n",
      "Number of genes: 5571\n",
      "smarter_cells Saving to files 0.895953893661499\n"
     ]
    },
    {
     "name": "stderr",
     "output_type": "stream",
     "text": [
      "09/19/2019 04:22:57 PM smarter_cells 7 Total time used: 1.3085963726043701\n"
     ]
    },
    {
     "name": "stdout",
     "output_type": "stream",
     "text": [
      "smarter_cells 8\n",
      "smarter_cells Preproc and get highly variable genes 0.19843673706054688\n",
      "Imputing gene lengths...\n",
      "Removing low coverage genes...\n",
      "Getting CPM..\n",
      "Getting highly variable genes and logCPM...\n",
      "Getting logTPM...\n",
      "Trim logTPM matrix...\n",
      "Number of genes: 5598\n",
      "smarter_cells Saving to files 1.313439130783081\n"
     ]
    },
    {
     "name": "stderr",
     "output_type": "stream",
     "text": [
      "09/19/2019 04:23:00 PM smarter_cells 8 Total time used: 2.033501148223877\n"
     ]
    },
    {
     "name": "stdout",
     "output_type": "stream",
     "text": [
      "smarter_cells 9\n",
      "smarter_cells Preproc and get highly variable genes 0.07107329368591309\n",
      "Imputing gene lengths...\n",
      "Removing low coverage genes...\n",
      "Getting CPM..\n",
      "Getting highly variable genes and logCPM...\n"
     ]
    },
    {
     "name": "stderr",
     "output_type": "stream",
     "text": [
      "09/19/2019 04:23:00 PM smarter_cells 9 Total time used: 0.3224363327026367\n"
     ]
    },
    {
     "name": "stdout",
     "output_type": "stream",
     "text": [
      "Getting logTPM...\n",
      "Trim logTPM matrix...\n",
      "Number of genes: 4719\n",
      "smarter_cells Saving to files 0.2528953552246094\n",
      "smarter_cells 10\n",
      "smarter_cells Preproc and get highly variable genes 0.07016587257385254\n",
      "Imputing gene lengths...\n",
      "Removing low coverage genes...\n",
      "Getting CPM..\n"
     ]
    },
    {
     "name": "stderr",
     "output_type": "stream",
     "text": [
      "09/19/2019 04:23:00 PM smarter_cells 10 Total time used: 0.2915213108062744\n"
     ]
    },
    {
     "name": "stdout",
     "output_type": "stream",
     "text": [
      "Getting highly variable genes and logCPM...\n",
      "Getting logTPM...\n",
      "Trim logTPM matrix...\n",
      "Number of genes: 4415\n",
      "smarter_cells Saving to files 0.2520720958709717\n",
      "smarter_nuclei 1\n",
      "smarter_nuclei Preproc and get highly variable genes 0.2840409278869629\n",
      "Imputing gene lengths...\n",
      "Removing low coverage genes...\n",
      "Getting CPM..\n",
      "Getting highly variable genes and logCPM...\n",
      "Getting logTPM...\n",
      "Trim logTPM matrix...\n",
      "Number of genes: 5328\n",
      "smarter_nuclei Saving to files 1.446256160736084\n"
     ]
    },
    {
     "name": "stderr",
     "output_type": "stream",
     "text": [
      "09/19/2019 04:23:02 PM smarter_nuclei 1 Total time used: 2.2688329219818115\n"
     ]
    },
    {
     "name": "stdout",
     "output_type": "stream",
     "text": [
      "smarter_nuclei 2\n",
      "smarter_nuclei Preproc and get highly variable genes 0.3400003910064697\n",
      "Imputing gene lengths...\n",
      "Removing low coverage genes...\n",
      "Getting CPM..\n",
      "Getting highly variable genes and logCPM...\n",
      "Getting logTPM...\n",
      "Trim logTPM matrix...\n",
      "Number of genes: 5269\n",
      "smarter_nuclei Saving to files 2.3568224906921387\n"
     ]
    },
    {
     "name": "stderr",
     "output_type": "stream",
     "text": [
      "09/19/2019 04:23:06 PM smarter_nuclei 2 Total time used: 3.7443835735321045\n"
     ]
    },
    {
     "name": "stdout",
     "output_type": "stream",
     "text": [
      "smarter_nuclei 3\n",
      "smarter_nuclei Preproc and get highly variable genes 0.33312106132507324\n",
      "Imputing gene lengths...\n",
      "Removing low coverage genes...\n",
      "Getting CPM..\n",
      "Getting highly variable genes and logCPM...\n",
      "Getting logTPM...\n",
      "Trim logTPM matrix...\n",
      "Number of genes: 5445\n",
      "smarter_nuclei Saving to files 2.143364906311035\n"
     ]
    },
    {
     "name": "stderr",
     "output_type": "stream",
     "text": [
      "09/19/2019 04:23:10 PM smarter_nuclei 3 Total time used: 3.354719400405884\n"
     ]
    },
    {
     "name": "stdout",
     "output_type": "stream",
     "text": [
      "smarter_nuclei 4\n",
      "smarter_nuclei Preproc and get highly variable genes 0.27495384216308594\n",
      "Imputing gene lengths...\n",
      "Removing low coverage genes...\n",
      "Getting CPM..\n",
      "Getting highly variable genes and logCPM...\n",
      "Getting logTPM...\n",
      "Trim logTPM matrix...\n",
      "Number of genes: 5276\n",
      "smarter_nuclei Saving to files 1.487746000289917\n"
     ]
    },
    {
     "name": "stderr",
     "output_type": "stream",
     "text": [
      "09/19/2019 04:23:12 PM smarter_nuclei 4 Total time used: 2.4459357261657715\n"
     ]
    },
    {
     "name": "stdout",
     "output_type": "stream",
     "text": [
      "smarter_nuclei 5\n",
      "smarter_nuclei Preproc and get highly variable genes 0.31514835357666016\n",
      "Imputing gene lengths...\n",
      "Removing low coverage genes...\n",
      "Getting CPM..\n",
      "Getting highly variable genes and logCPM...\n",
      "Getting logTPM...\n",
      "Trim logTPM matrix...\n",
      "Number of genes: 5328\n",
      "smarter_nuclei Saving to files 1.82784104347229\n"
     ]
    },
    {
     "name": "stderr",
     "output_type": "stream",
     "text": [
      "09/19/2019 04:23:15 PM smarter_nuclei 5 Total time used: 2.7934110164642334\n"
     ]
    },
    {
     "name": "stdout",
     "output_type": "stream",
     "text": [
      "smarter_nuclei 6\n",
      "smarter_nuclei Preproc and get highly variable genes 0.2925601005554199\n",
      "Imputing gene lengths...\n",
      "Removing low coverage genes...\n",
      "Getting CPM..\n",
      "Getting highly variable genes and logCPM...\n",
      "Getting logTPM...\n",
      "Trim logTPM matrix...\n",
      "Number of genes: 5184\n",
      "smarter_nuclei Saving to files 1.4558534622192383\n"
     ]
    },
    {
     "name": "stderr",
     "output_type": "stream",
     "text": [
      "09/19/2019 04:23:17 PM smarter_nuclei 6 Total time used: 2.256197929382324\n"
     ]
    },
    {
     "name": "stdout",
     "output_type": "stream",
     "text": [
      "smarter_nuclei 7\n",
      "smarter_nuclei Preproc and get highly variable genes 0.14612984657287598\n",
      "Imputing gene lengths...\n",
      "Removing low coverage genes...\n",
      "Getting CPM..\n",
      "Getting highly variable genes and logCPM...\n",
      "Getting logTPM...\n",
      "Trim logTPM matrix...\n",
      "Number of genes: 5058\n",
      "smarter_nuclei Saving to files 0.5583505630493164\n"
     ]
    },
    {
     "name": "stderr",
     "output_type": "stream",
     "text": [
      "09/19/2019 04:23:18 PM smarter_nuclei 7 Total time used: 0.7885198593139648\n"
     ]
    },
    {
     "name": "stdout",
     "output_type": "stream",
     "text": [
      "smarter_nuclei 8\n",
      "smarter_nuclei Preproc and get highly variable genes 0.1297745704650879\n",
      "Imputing gene lengths...\n",
      "Removing low coverage genes...\n",
      "Getting CPM..\n",
      "Getting highly variable genes and logCPM...\n",
      "Getting logTPM...\n",
      "Trim logTPM matrix...\n",
      "Number of genes: 5328\n",
      "smarter_nuclei Saving to files 0.49962449073791504\n"
     ]
    },
    {
     "name": "stderr",
     "output_type": "stream",
     "text": [
      "09/19/2019 04:23:19 PM smarter_nuclei 8 Total time used: 0.6867775917053223\n"
     ]
    },
    {
     "name": "stdout",
     "output_type": "stream",
     "text": [
      "smarter_nuclei 9\n",
      "smarter_nuclei Preproc and get highly variable genes 0.09233856201171875\n",
      "Imputing gene lengths...\n",
      "Removing low coverage genes...\n",
      "Getting CPM..\n",
      "Getting highly variable genes and logCPM...\n"
     ]
    },
    {
     "name": "stderr",
     "output_type": "stream",
     "text": [
      "09/19/2019 04:23:19 PM smarter_nuclei 9 Total time used: 0.47878146171569824\n"
     ]
    },
    {
     "name": "stdout",
     "output_type": "stream",
     "text": [
      "Getting logTPM...\n",
      "Trim logTPM matrix...\n",
      "Number of genes: 5616\n",
      "smarter_nuclei Saving to files 0.36861181259155273\n",
      "smarter_nuclei 10\n"
     ]
    },
    {
     "name": "stderr",
     "output_type": "stream",
     "text": [
      "09/19/2019 04:23:19 PM smarter_nuclei 10 Total time used: 0.278001070022583\n"
     ]
    },
    {
     "name": "stdout",
     "output_type": "stream",
     "text": [
      "smarter_nuclei Preproc and get highly variable genes 0.07498931884765625\n",
      "Imputing gene lengths...\n",
      "Removing low coverage genes...\n",
      "Getting CPM..\n",
      "Getting highly variable genes and logCPM...\n",
      "Getting logTPM...\n",
      "Trim logTPM matrix...\n",
      "Number of genes: 4366\n",
      "smarter_nuclei Saving to files 0.2484416961669922\n",
      "snatac_gene 1\n",
      "snatac_gene Preproc and get highly variable genes 0.847876787185669\n",
      "Imputing gene lengths...\n",
      "Removing low coverage genes...\n",
      "Getting CPM..\n",
      "Getting highly variable genes and logCPM...\n",
      "Getting logTPM...\n",
      "Trim logTPM matrix...\n",
      "Number of genes: 6183\n",
      "snatac_gene Saving to files 12.935052633285522\n"
     ]
    },
    {
     "name": "stderr",
     "output_type": "stream",
     "text": [
      "09/19/2019 04:23:44 PM snatac_gene 1 Total time used: 24.556087732315063\n"
     ]
    },
    {
     "name": "stdout",
     "output_type": "stream",
     "text": [
      "snatac_gene 2\n",
      "snatac_gene Preproc and get highly variable genes 0.5777647495269775\n",
      "Imputing gene lengths...\n",
      "Removing low coverage genes...\n",
      "Getting CPM..\n",
      "Getting highly variable genes and logCPM...\n",
      "Getting logTPM...\n",
      "Trim logTPM matrix...\n",
      "Number of genes: 6210\n",
      "snatac_gene Saving to files 7.546902179718018\n"
     ]
    },
    {
     "name": "stderr",
     "output_type": "stream",
     "text": [
      "09/19/2019 04:23:58 PM snatac_gene 2 Total time used: 13.729010105133057\n"
     ]
    },
    {
     "name": "stdout",
     "output_type": "stream",
     "text": [
      "snatac_gene 3\n",
      "snatac_gene Preproc and get highly variable genes 0.5149610042572021\n",
      "Imputing gene lengths...\n",
      "Removing low coverage genes...\n",
      "Getting CPM..\n",
      "Getting highly variable genes and logCPM...\n",
      "Getting logTPM...\n",
      "Trim logTPM matrix...\n",
      "Number of genes: 6534\n",
      "snatac_gene Saving to files 7.046725273132324\n"
     ]
    },
    {
     "name": "stderr",
     "output_type": "stream",
     "text": [
      "09/19/2019 04:24:10 PM snatac_gene 3 Total time used: 12.380472898483276\n"
     ]
    },
    {
     "name": "stdout",
     "output_type": "stream",
     "text": [
      "snatac_gene 4\n",
      "snatac_gene Preproc and get highly variable genes 0.8197493553161621\n",
      "Imputing gene lengths...\n",
      "Removing low coverage genes...\n",
      "Getting CPM..\n",
      "Getting highly variable genes and logCPM...\n",
      "Getting logTPM...\n",
      "Trim logTPM matrix...\n",
      "Number of genes: 6255\n",
      "snatac_gene Saving to files 12.705464363098145\n"
     ]
    },
    {
     "name": "stderr",
     "output_type": "stream",
     "text": [
      "09/19/2019 04:24:34 PM snatac_gene 4 Total time used: 24.153149366378784\n"
     ]
    },
    {
     "name": "stdout",
     "output_type": "stream",
     "text": [
      "snatac_gene 5\n",
      "snatac_gene Preproc and get highly variable genes 0.4491088390350342\n",
      "Imputing gene lengths...\n",
      "Removing low coverage genes...\n",
      "Getting CPM..\n",
      "Getting highly variable genes and logCPM...\n",
      "Getting logTPM...\n",
      "Trim logTPM matrix...\n",
      "Number of genes: 6182\n",
      "snatac_gene Saving to files 5.249988079071045\n"
     ]
    },
    {
     "name": "stderr",
     "output_type": "stream",
     "text": [
      "09/19/2019 04:24:44 PM snatac_gene 5 Total time used: 9.416670560836792\n"
     ]
    },
    {
     "name": "stdout",
     "output_type": "stream",
     "text": [
      "snatac_gene 6\n",
      "snatac_gene Preproc and get highly variable genes 0.3214383125305176\n",
      "Imputing gene lengths...\n",
      "Removing low coverage genes...\n",
      "Getting CPM..\n",
      "Getting highly variable genes and logCPM...\n",
      "Getting logTPM...\n",
      "Trim logTPM matrix...\n",
      "Number of genes: 6039\n",
      "snatac_gene Saving to files 2.610002279281616\n"
     ]
    },
    {
     "name": "stderr",
     "output_type": "stream",
     "text": [
      "09/19/2019 04:24:48 PM snatac_gene 6 Total time used: 4.653841495513916\n"
     ]
    },
    {
     "name": "stdout",
     "output_type": "stream",
     "text": [
      "snatac_gene 7\n",
      "snatac_gene Preproc and get highly variable genes 0.1821756362915039\n",
      "Imputing gene lengths...\n",
      "Removing low coverage genes...\n",
      "Getting CPM..\n",
      "Getting highly variable genes and logCPM...\n",
      "Getting logTPM...\n",
      "Trim logTPM matrix...\n",
      "Number of genes: 5931\n",
      "snatac_gene Saving to files 1.0732340812683105\n"
     ]
    },
    {
     "name": "stderr",
     "output_type": "stream",
     "text": [
      "09/19/2019 04:24:50 PM snatac_gene 7 Total time used: 1.867969274520874\n"
     ]
    },
    {
     "name": "stdout",
     "output_type": "stream",
     "text": [
      "snatac_gene 8\n",
      "snatac_gene Preproc and get highly variable genes 0.11570096015930176\n",
      "Imputing gene lengths...\n",
      "Removing low coverage genes...\n",
      "Getting CPM..\n",
      "Getting highly variable genes and logCPM...\n"
     ]
    },
    {
     "name": "stderr",
     "output_type": "stream",
     "text": [
      "09/19/2019 04:24:50 PM snatac_gene 8 Total time used: 0.4377617835998535\n"
     ]
    },
    {
     "name": "stdout",
     "output_type": "stream",
     "text": [
      "Getting logTPM...\n",
      "Trim logTPM matrix...\n",
      "Number of genes: 5832\n",
      "snatac_gene Saving to files 0.3502531051635742\n",
      "snatac_gene 9\n",
      "snatac_gene Preproc and get highly variable genes 0.14347410202026367\n",
      "Imputing gene lengths...\n",
      "Removing low coverage genes...\n",
      "Getting CPM..\n",
      "Getting highly variable genes and logCPM...\n",
      "Getting logTPM...\n",
      "Trim logTPM matrix...\n",
      "Number of genes: 7254\n",
      "snatac_gene Saving to files 1.0267198085784912\n"
     ]
    },
    {
     "name": "stderr",
     "output_type": "stream",
     "text": [
      "09/19/2019 04:24:52 PM snatac_gene 9 Total time used: 1.7568695545196533\n"
     ]
    },
    {
     "name": "stdout",
     "output_type": "stream",
     "text": [
      "snmcseq_gene 1\n"
     ]
    },
    {
     "name": "stderr",
     "output_type": "stream",
     "text": [
      "09/19/2019 04:25:02 PM (15542, 1871)\n"
     ]
    },
    {
     "name": "stdout",
     "output_type": "stream",
     "text": [
      "snmcseq_gene Saving to files 12.98215389251709\n"
     ]
    },
    {
     "name": "stderr",
     "output_type": "stream",
     "text": [
      "09/19/2019 04:25:18 PM snmcseq_gene 1 Total time used: 25.829306840896606\n"
     ]
    },
    {
     "name": "stdout",
     "output_type": "stream",
     "text": [
      "snmcseq_gene 2\n"
     ]
    },
    {
     "name": "stderr",
     "output_type": "stream",
     "text": [
      "09/19/2019 04:25:28 PM (15128, 1798)\n"
     ]
    },
    {
     "name": "stdout",
     "output_type": "stream",
     "text": [
      "snmcseq_gene Saving to files 12.568536281585693\n"
     ]
    },
    {
     "name": "stderr",
     "output_type": "stream",
     "text": [
      "09/19/2019 04:25:43 PM snmcseq_gene 2 Total time used: 24.51494312286377\n"
     ]
    },
    {
     "name": "stdout",
     "output_type": "stream",
     "text": [
      "snmcseq_gene 3\n"
     ]
    },
    {
     "name": "stderr",
     "output_type": "stream",
     "text": [
      "09/19/2019 04:25:52 PM (15075, 1776)\n"
     ]
    },
    {
     "name": "stdout",
     "output_type": "stream",
     "text": [
      "snmcseq_gene Saving to files 12.504722595214844\n"
     ]
    },
    {
     "name": "stderr",
     "output_type": "stream",
     "text": [
      "09/19/2019 04:26:07 PM snmcseq_gene 3 Total time used: 24.38303804397583\n"
     ]
    },
    {
     "name": "stdout",
     "output_type": "stream",
     "text": [
      "snmcseq_gene 4\n"
     ]
    },
    {
     "name": "stderr",
     "output_type": "stream",
     "text": [
      "09/19/2019 04:26:18 PM (17033, 1897)\n"
     ]
    },
    {
     "name": "stdout",
     "output_type": "stream",
     "text": [
      "snmcseq_gene Saving to files 14.019232034683228\n"
     ]
    },
    {
     "name": "stderr",
     "output_type": "stream",
     "text": [
      "09/19/2019 04:26:35 PM snmcseq_gene 4 Total time used: 28.07728099822998\n"
     ]
    },
    {
     "name": "stdout",
     "output_type": "stream",
     "text": [
      "snmcseq_gene 5\n"
     ]
    },
    {
     "name": "stderr",
     "output_type": "stream",
     "text": [
      "09/19/2019 04:26:40 PM (16280, 911)\n"
     ]
    },
    {
     "name": "stdout",
     "output_type": "stream",
     "text": [
      "snmcseq_gene Saving to files 6.649380922317505\n"
     ]
    },
    {
     "name": "stderr",
     "output_type": "stream",
     "text": [
      "09/19/2019 04:26:48 PM snmcseq_gene 5 Total time used: 13.17820119857788\n"
     ]
    },
    {
     "name": "stdout",
     "output_type": "stream",
     "text": [
      "snmcseq_gene 6\n"
     ]
    },
    {
     "name": "stderr",
     "output_type": "stream",
     "text": [
      "09/19/2019 04:26:52 PM (16307, 622)\n"
     ]
    },
    {
     "name": "stdout",
     "output_type": "stream",
     "text": [
      "snmcseq_gene Saving to files 4.920319080352783\n"
     ]
    },
    {
     "name": "stderr",
     "output_type": "stream",
     "text": [
      "09/19/2019 04:26:58 PM snmcseq_gene 6 Total time used: 9.319618463516235\n"
     ]
    },
    {
     "name": "stdout",
     "output_type": "stream",
     "text": [
      "snmcseq_gene 7\n"
     ]
    },
    {
     "name": "stderr",
     "output_type": "stream",
     "text": [
      "09/19/2019 04:26:59 PM (15482, 271)\n"
     ]
    },
    {
     "name": "stdout",
     "output_type": "stream",
     "text": [
      "snmcseq_gene Saving to files 2.1352880001068115\n"
     ]
    },
    {
     "name": "stderr",
     "output_type": "stream",
     "text": [
      "09/19/2019 04:27:02 PM snmcseq_gene 7 Total time used: 3.9659974575042725\n"
     ]
    },
    {
     "name": "stdout",
     "output_type": "stream",
     "text": [
      "snmcseq_gene 8\n"
     ]
    },
    {
     "name": "stderr",
     "output_type": "stream",
     "text": [
      "09/19/2019 04:27:02 PM (15098, 108)\n"
     ]
    },
    {
     "name": "stdout",
     "output_type": "stream",
     "text": [
      "snmcseq_gene Saving to files 0.9159083366394043\n"
     ]
    },
    {
     "name": "stderr",
     "output_type": "stream",
     "text": [
      "09/19/2019 04:27:03 PM snmcseq_gene 8 Total time used: 1.6131346225738525\n"
     ]
    },
    {
     "name": "stdout",
     "output_type": "stream",
     "text": [
      "snmcseq_gene 9\n"
     ]
    },
    {
     "name": "stderr",
     "output_type": "stream",
     "text": [
      "09/19/2019 04:27:04 PM (17515, 97)\n"
     ]
    },
    {
     "name": "stdout",
     "output_type": "stream",
     "text": [
      "snmcseq_gene Saving to files 0.9909708499908447\n"
     ]
    },
    {
     "name": "stderr",
     "output_type": "stream",
     "text": [
      "09/19/2019 04:27:05 PM snmcseq_gene 9 Total time used: 1.8142783641815186\n",
      "09/19/2019 04:27:05 PM (12366, 15)\n"
     ]
    },
    {
     "name": "stdout",
     "output_type": "stream",
     "text": [
      "snmcseq_gene 10\n"
     ]
    },
    {
     "name": "stderr",
     "output_type": "stream",
     "text": [
      "09/19/2019 04:27:05 PM snmcseq_gene 10 Total time used: 0.4253568649291992\n"
     ]
    },
    {
     "name": "stdout",
     "output_type": "stream",
     "text": [
      "snmcseq_gene Saving to files 0.33849239349365234\n"
     ]
    }
   ],
   "source": [
    "# dataset and config\n",
    "if not os.path.isdir(DST_ROOT_DIR):\n",
    "    os.makedirs(DST_ROOT_DIR)\n",
    "\n",
    "logging.info(\"Prep data...\")\n",
    "for (mod, clst), df_sub in df_info.groupby(['modality', first_round_cluster_col]):\n",
    "    if mod in mods_selected:\n",
    "        print(mod, clst)\n",
    "        ti = time.time()\n",
    "        normalization_option = normalization_options[mod]\n",
    "\n",
    "        _cells = df_sub.index.values\n",
    "        dst_dir = os.path.join(DST_ROOT_DIR, \"sub\"+str(clst)) # directory name\n",
    "        if not os.path.isdir(dst_dir):\n",
    "            os.makedirs(dst_dir)\n",
    "            src = os.path.join(DATA_DIR, '__init__datasets.py') \n",
    "            dst = os.path.join(dst_dir, '__init__datasets.py') \n",
    "            shutil.copyfile(src, dst)\n",
    "\n",
    "        # meta and save meta\n",
    "        meta_f_dst = meta_f.format(dst_dir, mod)\n",
    "        meta = metas[mod].loc[_cells]\n",
    "        meta.to_csv(meta_f_dst, sep=\"\\t\", header=True, index=True)\n",
    "\n",
    "        if settings[mod].mod_category == 'mc':\n",
    "            # split raw data\n",
    "            _cell_idx = snmcseq_utils.get_index_from_array(gxc_raws[mod].cell, _cells)\n",
    "            gxc_raw = GC_matrix(\n",
    "                gxc_raws[mod].gene,\n",
    "                gxc_raws[mod].cell[_cell_idx],\n",
    "                {'mc': gxc_raws[mod].data['mc'].tocsc()[:, _cell_idx],\n",
    "                 'c': gxc_raws[mod].data['c'].tocsc()[:, _cell_idx],\n",
    "                },\n",
    "            )\n",
    "            # check meta cells agree with gxc cells\n",
    "            assert np.all(meta.index.values == gxc_raw.cell)\n",
    "            # check genes are uniq \n",
    "            assert len(gxc_raw.gene) == len(np.unique(gxc_raw.gene)) \n",
    "            \n",
    "            # get hvftrs\n",
    "            gxc_hvftr = CEMBA_preproc_utils.preproc_methylation(gxc_raw, meta,\n",
    "                                                                global_value_col=settings[mod].global_mean, \n",
    "                                                                base_call_cutoff=20, \n",
    "                                                                sufficient_coverage_fraction=0.95,\n",
    "                                                                hv_percentile=30,\n",
    "                                                                n_qcut=10,\n",
    "                                                               )\n",
    "\n",
    "            # save data\n",
    "            print(mod, \"Saving to files {}\".format(time.time()-ti))\n",
    "            f_data = hvftr_f.format(dst_dir, mod, 'tsv') \n",
    "            gxc_hvftr.to_csv(f_data, sep=\"\\t\", index=True, header=True)\n",
    "            logging.info(\"{} {} Total time used: {}\".format(mod, clst, time.time()-ti))\n",
    "            \n",
    "        else:\n",
    "            # split raw data\n",
    "            _cell_idx = snmcseq_utils.get_index_from_array(gxc_raws[mod].cell, _cells)\n",
    "            gxc_raw = GC_matrix(\n",
    "                gxc_raws[mod].gene,\n",
    "                gxc_raws[mod].cell[_cell_idx],\n",
    "                gxc_raws[mod].data.tocsc()[:, _cell_idx],\n",
    "            )\n",
    "            # check meta cells agree with gxc cells\n",
    "            assert np.all(meta.index.values == gxc_raw.cell)\n",
    "            # check genes are uniq \n",
    "            assert len(gxc_raw.gene) == len(np.unique(gxc_raw.gene)) \n",
    "\n",
    "            # get hvftrs\n",
    "            print(mod, \"Preproc and get highly variable genes {}\".format(time.time()-ti))\n",
    "            if normalization_option == 'CPM':\n",
    "                gxc_hvftr = CEMBA_preproc_utils.preproc_rna_cpm_based(\n",
    "                                                 gxc_raw, \n",
    "                                                 sufficient_cell_coverage=0.01, \n",
    "                                                 hv_percentile=30, hv_ncut=10)\n",
    "            elif normalization_option == 'TPM':\n",
    "                gene_lengths = gene_lengths_base.reindex(gxc_raw.gene)\n",
    "                gxc_hvftr = CEMBA_preproc_utils.preproc_rna_tpm_based(\n",
    "                                                 gxc_raw, gene_lengths, impute_gene_lengths=True, \n",
    "                                                 sufficient_cell_coverage=0.01, \n",
    "                                                 hv_percentile=30, hv_ncut=10)\n",
    "                \n",
    "            # save data\n",
    "            print(mod, \"Saving to files {}\".format(time.time()-ti))\n",
    "            f_gene = hvftr_f.format(dst_dir, mod, 'gene') \n",
    "            f_cell = hvftr_f.format(dst_dir, mod, 'cell') \n",
    "            f_data = hvftr_f.format(dst_dir, mod, 'npz') \n",
    "            snmcseq_utils.save_gc_matrix(gxc_hvftr, f_gene, f_cell, f_data)\n",
    "            logging.info(\"{} {} Total time used: {}\".format(mod, clst, time.time()-ti))\n",
    "\n",
    "    \n",
    "    "
   ]
  },
  {
   "cell_type": "code",
   "execution_count": null,
   "metadata": {},
   "outputs": [],
   "source": []
  }
 ],
 "metadata": {
  "kernelspec": {
   "display_name": "Python 3",
   "language": "python",
   "name": "python3"
  },
  "language_info": {
   "codemirror_mode": {
    "name": "ipython",
    "version": 3
   },
   "file_extension": ".py",
   "mimetype": "text/x-python",
   "name": "python",
   "nbconvert_exporter": "python",
   "pygments_lexer": "ipython3",
   "version": "3.6.6"
  }
 },
 "nbformat": 4,
 "nbformat_minor": 2
}
